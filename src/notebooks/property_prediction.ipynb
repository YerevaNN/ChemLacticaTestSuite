{
 "cells": [
  {
   "cell_type": "code",
   "execution_count": 1,
   "metadata": {
    "metadata": {}
   },
   "outputs": [
    {
     "name": "stderr",
     "output_type": "stream",
     "text": [
      "/auto/home/menuab/miniforge3/envs/llama3/lib/python3.10/site-packages/tqdm/auto.py:21: TqdmWarning: IProgress not found. Please update jupyter and ipywidgets. See https://ipywidgets.readthedocs.io/en/stable/user_install.html\n",
      "  from .autonotebook import tqdm as notebook_tqdm\n"
     ]
    }
   ],
   "source": [
    "import torch\n",
    "from transformers import OPTForCausalLM, AutoModelForCausalLM, AutoTokenizer\n",
    "# from chemlactica.utils.utils import get_tokenizer\n",
    "from rdkit.Chem import Descriptors\n",
    "\n",
    "from rdkit import Chem\n",
    "from rdkit.Chem import AllChem\n",
    "from rdkit.Chem import RDConfig, MACCSkeys, QED\n",
    "import matplotlib.pyplot as plt\n",
    "import numpy as np\n",
    "import json\n",
    "import pickle\n",
    "from sklearn import metrics\n",
    "from scipy.stats import spearmanr\n",
    "from rdkit.Chem.rdMolDescriptors import CalcTPSA\n",
    "from rdkit import Chem, DataStructs\n",
    "import sys\n",
    "import os\n",
    "sys.path.append(os.path.join(RDConfig.RDContribDir, 'SA_Score'))\n",
    "import sascorer"
   ]
  },
  {
   "cell_type": "code",
   "execution_count": 2,
   "metadata": {
    "metadata": {}
   },
   "outputs": [],
   "source": [
    "import pandas as pd    \n",
    "jsonObj = pd.read_json(path_or_buf=\"/nfs/ap/mnt/sxtn/rdkit_computed_rel+form/valid_rdkit_computed_rel+form/950001_start.jsonl\", lines=True)"
   ]
  },
  {
   "cell_type": "code",
   "execution_count": 3,
   "metadata": {
    "metadata": {}
   },
   "outputs": [],
   "source": [
    "smiles = list(jsonObj[jsonObj!=\"\"].dropna().SMILES.values)"
   ]
  },
  {
   "cell_type": "code",
   "execution_count": 4,
   "metadata": {
    "metadata": {}
   },
   "outputs": [
    {
     "data": {
      "text/plain": [
       "10927"
      ]
     },
     "execution_count": 4,
     "metadata": {},
     "output_type": "execute_result"
    }
   ],
   "source": [
    "len(smiles)"
   ]
  },
  {
   "cell_type": "code",
   "execution_count": 5,
   "metadata": {
    "metadata": {}
   },
   "outputs": [],
   "source": [
    "np.random.seed(42)\n",
    "smiles100 = np.random.choice(smiles, size=100)"
   ]
  },
  {
   "cell_type": "code",
   "execution_count": 6,
   "metadata": {
    "metadata": {}
   },
   "outputs": [
    {
     "data": {
      "text/plain": [
       "array(['CC(=O)Nc1ccc(C(=O)NN=Cc2cccc([N+](=O)[O-])c2OC(=O)c2cccc(C)c2)cc1',\n",
       "       'CCNC(=NCC(C)Cc1cccs1)NC1CCN(c2ncccc2F)C1',\n",
       "       'CCOC(=O)C1C(C)NNC1S(=O)(=O)Nc1cccc(CC)c1',\n",
       "       'CCc1n[nH]c2c(c1=S)CN(C(=O)c1ccccc1)CC2',\n",
       "       'CNc1cccc(Nc2cnn(C)c2)c1[N+](=O)[O-]',\n",
       "       'O=C(NCC(O)CN1CCOCC1)Nc1snc(OCc2ccc(Cl)cc2F)c1C(=O)O',\n",
       "       'CCC(=O)c1sc(NC2C3C4CCC(C4)C23)c(OC)c1N',\n",
       "       'CN(C)S(=O)(=O)NCCCc1ncc[nH]1',\n",
       "       'Cc1ccc(F)c(OCc2cc(F)cc(C#CCO)c2)c1',\n",
       "       'Cc1cc(C)c(S(=O)(=O)NCC2CCCN2c2ccccc2)c(C)c1',\n",
       "       'Cc1nn(C)c(Oc2ccc(Br)cc2[N+](=O)[O-])c1CO',\n",
       "       'CN=C(NCc1nc(-c2ccccc2)cs1)N1CCSC(C)(C)C1',\n",
       "       'CC(C)NS(=O)(=O)[N-]Cc1ccccc1.O=C(O)c1cccc2c1cnn2-c1ccc(F)cc1',\n",
       "       'CCOc1ccc(-c2noc(Cn3c(=O)n(C(C)C)c(=O)c4ccccc43)n2)cc1OC',\n",
       "       'O=C(CSc1nnnn1-c1ccc(Cl)cc1)Nc1cccc(Cl)c1N1CCCCC1',\n",
       "       'Cc1ccccc1C1(O)CCN(C(=O)c2ccc(-c3ccc(F)cc3)o2)CC1',\n",
       "       'CCc1ccc(NC(=O)NC(C)(C)CCC(=O)O)cc1S(N)(=O)=O',\n",
       "       'CCCOc1ccc(C=NNC(=O)COc2ccccc2C)cc1OC',\n",
       "       'CC(C)(C)OC(=O)NCC(=O)N1CCOC(c2ccccc2F)C1',\n",
       "       'CCOc1cc(OC)c(Br)cc1CC1CCCNC1',\n",
       "       'CCN(CC)C(=O)c1nn(-c2cccc(F)c2)c(=O)n(Cc2cccc(Cl)c2)c1=O',\n",
       "       'CCCC(=O)n1cc(CCC(C)C)n(Cc2ccc(-c3ccccc3C(=O)O)cc2)c1=O',\n",
       "       'CON=C(C(=O)NC1C(=O)N2C(C(=O)OCOC(=O)C(C)(C)C)C(Cn3nnc(C)n3)=CSC12)c1csc(N)n1',\n",
       "       'ONCc1ccccc1-c1ccncc1', 'Cn1c(Cl)c(C=NOC(=O)c2cccs2)c2ccccc21',\n",
       "       'COc1cc(Cn2ncc(N)n2)ccc1C#N',\n",
       "       'CCN(CC)C(C(=O)O)c1cc(NC(=O)c2c[nH]c3ccccc3c2=O)c(C(C)(C)C)cc1C(C)(C)C.Cl',\n",
       "       'CC(C(=O)NC(=O)NC1CCCC1)[NH+]1CCCCCC1',\n",
       "       'COC(=O)C=C1SC(=NC(=O)c2ccc(Cl)cc2Cl)N(c2ccc(N)cc2)C1=O',\n",
       "       'CCC1C(OS(C)(=O)=O)CN1C', 'CCC(=O)NCC1(CCOC)CC1',\n",
       "       'CN1C(=O)Cc2cc(-c3csc(N4CCCCC4)n3)ccc21',\n",
       "       'CCCCOc1cccc2c1C(=O)OC2=O', 'N#CCc1nc(CN)c(C(F)F)cc1Br',\n",
       "       'FC(F)(F)c1cccc(OCCC2CNCCC2c2ccsc2)c1',\n",
       "       'CCc1ccc(C(=O)CCC(=O)Nc2ccc(C(=O)NC3CC3)cc2)cc1',\n",
       "       'CC(=O)c1ccc(OCC(=O)N2CCc3ncnc(N4CCN(C5CCC5)CC4)c3CC2)cc1',\n",
       "       'COCCCN(C)c1c(CCl)c(C)nn1C',\n",
       "       'CC(C)CCNC(=O)c1ccc(Oc2ccc(NS(C)(=O)=O)cc2)nc1',\n",
       "       'ClC1=NC2N=C(N1)O2',\n",
       "       'CCNC(=O)C(Cc1ccccc1)N(Cc1ccc(C)cc1)C(=O)CCCN(c1ccccc1)S(C)(=O)=O',\n",
       "       'CCn1ccnc1C1CCCN(C(=O)c2cn3cccc(C)c3n2)C1',\n",
       "       'CCc1nc2c(C)cc(N3CCN(CC(=O)N4CC(O)C4)C(C)(C)C3)cn2c1N(C)c1nc(-c2ccc(F)cc2)c(C#N)s1.CCc1nc2c(C)cc(N3CCNC(C)(C)C3)cn2c1N(C)c1nc(-c2ccc(F)cc2)c(C#N)s1',\n",
       "       'CCOC(=O)CCC(C)C1CCC2C3CCC4CCCCC4(C)C3CCC12C',\n",
       "       'C.CCC(=O)SCC(C(=O)NC(CCCCN)C(=O)OC)N(C)C(=O)Oc1ccc2c(c1)Oc1cc(N(C)C)ccc1C21OC(=O)c2ccccc21.CCC(=O)SCC(C(=O)NC(CCCCNC(=O)OC(C)(C)C)C(=O)OC)N(C)C(=O)Oc1ccc2c(c1)Oc1cc(N(C)C)ccc1C21OC(=O)c2ccccc21.CN(C)c1ccc2c(c1)Oc1cc(O)ccc1C21OC(=O)c2ccccc21',\n",
       "       'CCC=CC(O)CC=CC=CCC=CCC=CCCCC(=O)OC(COC(=O)CCCCCCC)COP(=O)(O)O',\n",
       "       'CC(C)(C)NOC(=O)Nc1c[nH]c2c(C(=O)NCc3ccc4c(c3)NC(=O)CO4)ncnc12',\n",
       "       'COc1cc(F)cc(C(CO)NC(=O)C(C)n2cnn3cc(-c4nc(NC5CCC(O)C5)ncc4Cl)cc3c2=O)c1',\n",
       "       'CN1CCC(CN(C)C(=O)c2ccc(N3C(=S)N(c4cnc(C#N)c(C(F)(F)F)c4)C(=O)C34CCC4)cc2)CC1',\n",
       "       'CCC(C)n1nccc1NC(=O)C(C)Sc1nnc(-c2ccc(OC)cc2)n1C',\n",
       "       'Cn1c(=O)c2ccc(C(=O)Nc3ccccc3N3CCCCC3)nc2n(C)c1=O',\n",
       "       'Cc1ccnc2c(NCC3CC3)c(F)ccc12',\n",
       "       'C=CC(=O)NC(C)c1nc2ccccc2n1CCOc1cc(C)cc(C)c1',\n",
       "       'C=CCNCC(=O)NCCCN1CCN(C)CC1',\n",
       "       'CC(=O)N1c2ccc(-c3cnn(C4CC4)c3)c(OCc3ccn(C)n3)c2CCC1C',\n",
       "       'CNC(CC(=O)N=C(C)N)Cc1cccc(-c2cccnc2)c1',\n",
       "       'COc1cc(OC)c2c(c1Cl)OC1(C2=O)C(O)=C(C(CC(=O)NCCc2nc(-c3ccccn3)no2)c2ccc(SC)cc2)C(=O)CC1C',\n",
       "       'CCc1noc(CC)c1CNC(=NC)NCc1cnn(-c2ccc(Cl)cc2)c1',\n",
       "       'CCCCOC(=O)NC(CC(Cc1ccc(OC)c(OCCCOC)c1)C(C)C)C1CC(C(C)C)C(=O)O1',\n",
       "       'CCC(C)C(NC(=O)C=Cc1ccc(C)cc1)C(=O)O',\n",
       "       'C=C(N(N)C=CC(C)(F)c1ccc(C)cc1)N(N)c1cccnc1',\n",
       "       'CCC(C)n1ccc(CC(N)Cc2ccc(C)c(C)c2)n1',\n",
       "       'CC(C)(C)c1nn(-c2ccccc2)c2ccccc12',\n",
       "       'CCOCC1CN(C(=O)Cc2ccn(C)n2)Cc2cnn(CC3CCCC3)c21',\n",
       "       'CCC(C)c1ccc(S(=O)(=O)N2CCN(C(=O)c3ccc(COC)cc3)CC2)cc1',\n",
       "       'COC(CNC(=NCc1cccs1)NCCc1ccco1)C(C)(C)C',\n",
       "       'OCC1OC(OC2CC3C(O)CC(O)CC3[OH+]C2C2CCC(O)C(O)C2)C(O)C(O)C1O',\n",
       "       'CSc1ccc(N2CC(C(=O)Nc3ccc(C(=O)N(C)C4CCCCC4)cc3)CC2=O)cc1',\n",
       "       'COc1cccc2c1C(=O)C(O)=C(O)C2=O',\n",
       "       'Cc1ccccc1C(C)COC(=O)Nc1ccc(S(=O)(=O)C(C)C)c(CN(C)C=O)c1',\n",
       "       'CC1(NC(=O)CCc2nc3sc4c(c3c(=O)[nH]2)CCCC4)CCS(=O)(=O)C1',\n",
       "       'CCCNc1ncc(C)c(Oc2ccccc2SC)n1', 'C=CCC1(O)CCC(C(=O)CCCC)C(C)C1',\n",
       "       'O=C(O)Cc1cc(=O)n2[nH]c(C3CC3)nc2n1',\n",
       "       'CC.CC(C)Cc1sc(Nc2cccc(C(=O)NCCN)c2)nc1-c1ccc(Cl)c(Cl)c1',\n",
       "       'Cc1oc(-n2cccc2)c(C#N)c1C(=O)NCC(C)(C)CC(C)O',\n",
       "       'CCc1noc(C(C)Sc2nnc(-c3ccccc3F)n2-c2ccc(C)cc2)n1',\n",
       "       'CC(CC(C)(C)O)OC(=O)CC1CN(C2=Nc3cc(Cl)ccc3Oc3ccccc32)CCN1C',\n",
       "       'CCNC(=NCC(c1ccccc1)N(CC)CC)NCCn1cc(C)cn1',\n",
       "       'Cc1ccc(C2C3=C(CC(C)(C)CC3=O)Nc3nc(-c4ccc(Cl)cc4)nn32)o1',\n",
       "       'Cc1ccc(C(=O)N(Cc2ccccc2F)CC2CCCO2)cc1',\n",
       "       'O=C1CCCC(O)=C1C(CCc1noc2c1C(=O)CC(c1ccccc1)C2)=NCc1ccccc1',\n",
       "       'COc1ccc(NC(=O)C=Cc2ccc(C3CC3C)o2)cn1',\n",
       "       'CC1(C(=O)NS(=O)(=O)c2cc(Cl)ccc2Cl)CCC(=O)NC1',\n",
       "       'Cc1c2ccccc2nn1CCCNC(=O)c1nn2c(c1Cl)OCC2',\n",
       "       'CCNC(=NCc1ccc(CN2CCOCC2)cc1)N1CCC(C)CC1',\n",
       "       'CN1CN(C(=O)c2ccc(F)cc2)N=C(c2ccccc2)c2ccccc21',\n",
       "       'CCOc1ccc(S(=O)(=O)NCC2(C)CCNCC2)cc1OCC.Cl',\n",
       "       'NCCc1nc(C2CCC(F)(F)CC2)no1', 'COc1cc(O)c2c(c1)Oc1ccccc1CC2=O',\n",
       "       'C1CO[SnH2]O1',\n",
       "       'Cn1c(=O)c2c(-c3ccccc3Br)n3c(c2n(C)c1=O)C(c1cccs1)OCC3',\n",
       "       'COc1ccc(N(CC(=O)N(Cc2ccccc2F)C(Cc2ccccc2)C(=O)NC(C)C)S(C)(=O)=O)cc1OC',\n",
       "       'Cc1nc(NCCNC(=O)c2cccc(C(F)(F)F)c2)cc(-n2cccc2)n1',\n",
       "       'Cl.NCc1ccc(COc2ccc(C(=O)CC3CCCC3)c(O)c2C(F)(F)F)cc1',\n",
       "       'CC(=O)OCC1=CC2(O)OC1CC1C3=C(C(C)C)CCC3(C)CCC12C.CC(C)C(=O)CCC1(C)CCC2(C)C(CC=C3C(O)C4(O)COC5OC2C3C5(O)C4O)C1=O.CC(C)C(=O)CCC1(C)CCC2(C)C(CCC3C(O)OC4(O)C(O)COC5OC2C3C54O)C1=O.CC(C)C1=C2C3=CC=C(C(=O)[O-])CC(OC4OCC(O)C(O)C4O)C3(C)CCC2(C)CC1.CC(C)C1=C2C3CC=C4C(O)C5(O)COC6OC(C4C6(O)C5O)C3(C)CCC2(C)CC1.[Na+]',\n",
       "       'CCOc1cc(C2C(C(=O)Nc3ccc(Cl)cc3)=C(C)Nc3ncnn32)ccc1OCc1ccccc1Cl',\n",
       "       'CC1CCCC(C)C1n1c(-c2cccs2)nc2cc(C(=O)NC3(C(=O)Nc4ccc(C=CC(=O)O)cc4)CCCC3)ccc21',\n",
       "       'CCC(CC)n1nc(C)c(C(C)N)c1C',\n",
       "       'Nc1nc(C(F)(F)F)nn1-c1cc(S)c(C2CC2)cc1Cl'], dtype='<U961')"
      ]
     },
     "execution_count": 6,
     "metadata": {},
     "output_type": "execute_result"
    }
   ],
   "source": [
    "smiles100"
   ]
  },
  {
   "cell_type": "code",
   "execution_count": 7,
   "metadata": {
    "metadata": {}
   },
   "outputs": [],
   "source": [
    "pubchem_stats_file = open(\"/auto/home/menuab/code/ChemLacticaTestSuite/src/stats_data/pubchem_stats.pkl\", 'rb')\n",
    "pubchem_stats = pickle.load(pubchem_stats_file)\n",
    "pubchem_stats_file.close()"
   ]
  },
  {
   "cell_type": "code",
   "execution_count": 8,
   "metadata": {
    "metadata": {}
   },
   "outputs": [],
   "source": [
    "llama_tokenizer_path = \"/nfs/h100/raid/chem/checkpoints/tokenizers/Llama-3.2-chem-1B-v1\"\n",
    "model_1b_20k_safe_273f = \"/nfs/h100/raid/chem/checkpoints/hf/yerevann/Llama-3.2-1B/273fe38764a44b0db611e262/step-20000\"\n",
    "model_1b_20k_8a28 = \"/nfs/h100/raid/chem/checkpoints/hf/yerevann/Llama-3.2-1B/8a28eb82260140b097b34e1c/step-20000\""
   ]
  },
  {
   "cell_type": "code",
   "execution_count": 9,
   "metadata": {
    "metadata": {}
   },
   "outputs": [
    {
     "data": {
      "text/plain": [
       "128330"
      ]
     },
     "execution_count": 9,
     "metadata": {},
     "output_type": "execute_result"
    }
   ],
   "source": [
    "# tokenizer = AutoTokenizer.from_pretrained(\"/auto/home/menuab/code/ChemLactica/chemlactica/tokenizer/ChemLacticaTokenizer66\")\n",
    "# tokenizer = AutoTokenizer.from_pretrained(\"/auto/home/menuab/code/ChemLactica/chemlactica/tokenizer/GemmaTokenizer\")\n",
    "# tokenizer = AutoTokenizer.from_pretrained(\"yerevann/chemlactica-125m\")\n",
    "tokenizer = AutoTokenizer.from_pretrained(llama_tokenizer_path)\n",
    "tokenizer.add_special_tokens = False\n",
    "tokenizer.pad_token_id = tokenizer.eos_token_id\n",
    "len(tokenizer)"
   ]
  },
  {
   "cell_type": "code",
   "execution_count": 10,
   "metadata": {
    "metadata": {}
   },
   "outputs": [],
   "source": [
    "model_125m_20k_9954 = \"/nfs/dgx/raid/chem/checkpoints/facebook/galactica-125m/9954e52e400b43d18d3a40f6/checkpoint-20480\"\n",
    "model_2b_11k_d6e6 = \"/nfs/dgx/raid/chem/checkpoints/google/gemma-2b/d6e6a76e91814ad68d5fa264/checkpoint-11000\"\n",
    "model_2b_2k_699e = \"/nfs/dgx/raid/chem/checkpoints/google/gemma-2b/699e8c6078bb4461a73b39de/checkpoint-2000\"\n",
    "model_125m_18k_1f28 = \"/nfs/dgx/raid/chem/checkpoints/facebook/galactica-125m/1f289ff103034364bd27e1c3/checkpoint-18000/\"\n",
    "model_2b_12k_0717 = \"/nfs/dgx/raid/chem/checkpoints/h100/google/gemma-2b/0717d445bcf44e31b2887892/checkpoint-12000\"\n",
    "model_2b_18k_0717 = \"/nfs/dgx/raid/chem/checkpoints/h100/google/gemma-2b/0717d445bcf44e31b2887892/checkpoint-18000\"\n",
    "model_1b_19k_6d68 = \"/nfs/dgx/raid/chem/checkpoints/h100/facebook/galactica-1.3b/6d68b252d53647a99cf2fa8b/checkpoint-19000\"\n",
    "model_125m_18k_c4d8 = \"/nfs/dgx/raid/chem/titan_outputs/hf/yerevann/chemlactica-125m\"\n",
    "model_125m_60k_0bb9 = \"/nfs/dgx/raid/chem/random_init_exp/checkpoints/facebook/galactica-125m/0bb9077eb9824a30a082f020/checkpoint-60000\"\n",
    "model_125m_80k_0bb9 = \"/nfs/dgx/raid/chem/random_init_exp/checkpoints/facebook/galactica-125m/0bb9077eb9824a30a082f020/checkpoint-80000\"\n",
    "model_125m_45k_0bb9 = \"/nfs/dgx/raid/chem/random_init_exp/checkpoints/facebook/galactica-125m/0bb9077eb9824a30a082f020/checkpoint-45000\"\n",
    "\n",
    "# model = AutoModelForCausalLM.from_pretrained(model_path, torch_dtype=torch.bfloat16).eval()\n",
    "# model.device, model.dtype"
   ]
  },
  {
   "cell_type": "code",
   "execution_count": 11,
   "metadata": {
    "metadata": {}
   },
   "outputs": [
    {
     "data": {
      "text/plain": [
       "(device(type='cuda', index=0), torch.float32)"
      ]
     },
     "execution_count": 11,
     "metadata": {},
     "output_type": "execute_result"
    }
   ],
   "source": [
    "model = AutoModelForCausalLM.from_pretrained(\n",
    "    model_1b_20k_8a28,\n",
    ").to(\"cuda:0\").eval()\n",
    "model.device, model.dtype"
   ]
  },
  {
   "cell_type": "code",
   "execution_count": 12,
   "metadata": {
    "metadata": {}
   },
   "outputs": [],
   "source": [
    "def calculate_tanim_sim(m, rel_m):\n",
    "    m=Chem.MolFromSmiles(m)\n",
    "    rel_m =Chem.MolFromSmiles(rel_m)\n",
    "    # AllChem.GetMorganFingerprintAsBitVect(mol, 2, nBits=2048)\n",
    "    fp = AllChem.GetMorganFingerprintAsBitVect(m, 2, nBits=2048)\n",
    "    rel_fp = AllChem.GetMorganFingerprintAsBitVect(rel_m, 2, nBits=2048)\n",
    "    return DataStructs.TanimotoSimilarity(fp, rel_fp)"
   ]
  },
  {
   "cell_type": "code",
   "execution_count": 13,
   "metadata": {
    "metadata": {}
   },
   "outputs": [],
   "source": [
    "def generate_plot(target_clean, generated_clean, diffs, test_name, rmse, mape, correlation, n_invalid_generations, n_total_gens, property_range, thickness):\n",
    "    max_, min_, max_g = np.max(target_clean), np.min(target_clean), np.max(generated_clean)\n",
    "    # title = f'model_1b_19k_6d68 {test_name} Greedy sampling\\n'\\\n",
    "    #         f'{n_invalid_generations}/{n_total_gens} invalid SMILES\\n'\\\n",
    "    #         f'rmse {rmse:.3f} mape {mape:.3f} corr: {correlation:.3f}\\n'\\\n",
    "    if test_name == \"Similarity CG\":\n",
    "        title = f'Similarity Conditional Generation (greedy sampling)\\n'\\\n",
    "                f'{n_invalid_generations}/{n_total_gens} invalid SMILES\\n'\\\n",
    "                f'rmse {rmse:.3f} mape {mape:.3f} corr: {correlation:.3f}\\n'\n",
    "    else:\n",
    "        title = f'{test_name} Property Prediction (greedy sampling)\\n'\\\n",
    "                f'{n_invalid_generations}/{n_total_gens} invalid SMILES\\n'\\\n",
    "                f'rmse {rmse:.3f} mape {mape:.3f} corr: {correlation:.3f}\\n'\n",
    "\n",
    "    fig, ax1 = plt.subplots()\n",
    "    fig.set_figheight(4)\n",
    "    fig.set_figwidth(5)\n",
    "    fig.set_linewidth(2)\n",
    "    if thickness != 0:    \n",
    "        ax2 = ax1.twinx()\n",
    "        stats = pubchem_stats[test_name.upper()]\n",
    "    #     property_range = [1, 10]\n",
    "        # stats_width = (property_range[1] - property_range[0]) / thickness\n",
    "        ax2.bar([interval.mid for interval in stats.index], stats, width=thickness, alpha=0.3) \n",
    "    dist = max_ - min_\n",
    "    margin = 0.05\n",
    "    ax1.set_xlim([min_- margin*dist, max_ + margin*dist])\n",
    "    ax1.scatter(target_clean, generated_clean, c='b')\n",
    "    # ax1.vlines(nones, ymin=min_, ymax=max_, color='r', alpha=0.3)\n",
    "    ax1.plot([min_, max_], [min_, max_], color='grey', linestyle='--', linewidth=2)\n",
    "    if test_name == \"Similarity CG\":\n",
    "        ax1.plot(np.arange(0.2,1.05,0.05), np.convolve(diffs, np.ones(3)/3, mode='same'), color='m', alpha=0.5)\n",
    "        ax1.set_xlabel(f'Target Similarity')\n",
    "        ax1.set_ylabel(f'Generated Similarity')\n",
    "    else:\n",
    "        ax1.plot(target_clean, np.convolve(diffs, np.ones(5)/5, mode='same'), color='m', alpha=0.5)\n",
    "        ax1.set_xlabel(f'Ground truth {test_name}')\n",
    "        ax1.set_ylabel(f'Predicted {test_name}')\n",
    "    ax1.grid(True)\n",
    "    plt.title(title)\n",
    "    plt.tight_layout()\n",
    "    fig.savefig(f'{test_name}_property.png', dpi=300, format=\"png\")\n",
    "    # fig.savefig(f'{test_name}_property.pdf', dpi=300, format=\"pdf\")\n",
    "    fig.clf()\n",
    "    plt.close()"
   ]
  },
  {
   "cell_type": "code",
   "execution_count": 15,
   "metadata": {
    "metadata": {}
   },
   "outputs": [
    {
     "name": "stderr",
     "output_type": "stream",
     "text": [
      "The attention mask and the pad token id were not set. As a consequence, you may observe unexpected behavior. Please pass your input's `attention_mask` to obtain reliable results.\n",
      "Setting `pad_token_id` to `eos_token_id`:None for open-end generation.\n",
      "The attention mask and the pad token id were not set. As a consequence, you may observe unexpected behavior. Please pass your input's `attention_mask` to obtain reliable results.\n",
      "Setting `pad_token_id` to `eos_token_id`:None for open-end generation.\n",
      "The attention mask and the pad token id were not set. As a consequence, you may observe unexpected behavior. Please pass your input's `attention_mask` to obtain reliable results.\n",
      "Setting `pad_token_id` to `eos_token_id`:None for open-end generation.\n",
      "The attention mask and the pad token id were not set. As a consequence, you may observe unexpected behavior. Please pass your input's `attention_mask` to obtain reliable results.\n",
      "Setting `pad_token_id` to `eos_token_id`:None for open-end generation.\n"
     ]
    },
    {
     "name": "stdout",
     "output_type": "stream",
     "text": [
      "GT: 140.0 Gen: 140.0 diff: 0.0 CC(=O)Nc1ccc(C(=O)NN=Cc2cccc([N+](=O)[O-])c2OC(=O)c2cccc(C)c2)cc1 <|begin_of_text|>[SMILES]CC(=O)Nc1ccc(C(=O)NN=Cc2cccc([N+](=O)[O-])c2OC(=O)c2cccc(C)c2)cc1[/SMILES][TPSA]140.00[/TPSA]\n",
      "GT: 52.55 Gen: 52.55 diff: 0.0 CCNC(=NCC(C)Cc1cccs1)NC1CCN(c2ncccc2F)C1 <|begin_of_text|>[SMILES]CCNC(=NCC(C)Cc1cccs1)NC1CCN(c2ncccc2F)C1[/SMILES][TPSA]52.55[/TPSA]\n",
      "GT: 96.53 Gen: 96.53 diff: 0.0 CCOC(=O)C1C(C)NNC1S(=O)(=O)Nc1cccc(CC)c1 <|begin_of_text|>[SMILES]CCOC(=O)C1C(C)NNC1S(=O)(=O)Nc1cccc(CC)c1[/SMILES][TPSA]96.53[/TPSA]\n"
     ]
    },
    {
     "name": "stderr",
     "output_type": "stream",
     "text": [
      "The attention mask and the pad token id were not set. As a consequence, you may observe unexpected behavior. Please pass your input's `attention_mask` to obtain reliable results.\n",
      "Setting `pad_token_id` to `eos_token_id`:None for open-end generation.\n",
      "The attention mask and the pad token id were not set. As a consequence, you may observe unexpected behavior. Please pass your input's `attention_mask` to obtain reliable results.\n",
      "Setting `pad_token_id` to `eos_token_id`:None for open-end generation.\n",
      "The attention mask and the pad token id were not set. As a consequence, you may observe unexpected behavior. Please pass your input's `attention_mask` to obtain reliable results.\n"
     ]
    },
    {
     "name": "stdout",
     "output_type": "stream",
     "text": [
      "GT: 48.99 Gen: 48.99 diff: 0.0 CCc1n[nH]c2c(c1=S)CN(C(=O)c1ccccc1)CC2 <|begin_of_text|>[SMILES]CCc1n[nH]c2c(c1=S)CN(C(=O)c1ccccc1)CC2[/SMILES][TPSA]48.99[/TPSA]\n",
      "GT: 85.02 Gen: 85.02 diff: 0.0 CNc1cccc(Nc2cnn(C)c2)c1[N+](=O)[O-] <|begin_of_text|>[SMILES]CNc1cccc(Nc2cnn(C)c2)c1[N+](=O)[O-][/SMILES][TPSA]85.02[/TPSA]\n",
      "GT: 133.25 Gen: 133.25 diff: 0.0 O=C(NCC(O)CN1CCOCC1)Nc1snc(OCc2ccc(Cl)cc2F)c1C(=O)O <|begin_of_text|>[SMILES]O=C(NCC(O)CN1CCOCC1)Nc1snc(OCc2ccc(Cl)cc2F)c1C(=O)O[/SMILES][TPSA]133.25[/TPSA]\n"
     ]
    },
    {
     "name": "stderr",
     "output_type": "stream",
     "text": [
      "Setting `pad_token_id` to `eos_token_id`:None for open-end generation.\n",
      "The attention mask and the pad token id were not set. As a consequence, you may observe unexpected behavior. Please pass your input's `attention_mask` to obtain reliable results.\n",
      "Setting `pad_token_id` to `eos_token_id`:None for open-end generation.\n",
      "The attention mask and the pad token id were not set. As a consequence, you may observe unexpected behavior. Please pass your input's `attention_mask` to obtain reliable results.\n",
      "Setting `pad_token_id` to `eos_token_id`:None for open-end generation.\n"
     ]
    },
    {
     "name": "stdout",
     "output_type": "stream",
     "text": [
      "GT: 64.35 Gen: 64.35 diff: 0.0 CCC(=O)c1sc(NC2C3C4CCC(C4)C23)c(OC)c1N <|begin_of_text|>[SMILES]CCC(=O)c1sc(NC2C3C4CCC(C4)C23)c(OC)c1N[/SMILES][TPSA]64.35[/TPSA]\n",
      "GT: 78.09 Gen: 78.09 diff: 0.0 CN(C)S(=O)(=O)NCCCc1ncc[nH]1 <|begin_of_text|>[SMILES]CN(C)S(=O)(=O)NCCCc1ncc[nH]1[/SMILES][TPSA]78.09[/TPSA]\n"
     ]
    },
    {
     "name": "stderr",
     "output_type": "stream",
     "text": [
      "The attention mask and the pad token id were not set. As a consequence, you may observe unexpected behavior. Please pass your input's `attention_mask` to obtain reliable results.\n",
      "Setting `pad_token_id` to `eos_token_id`:None for open-end generation.\n",
      "The attention mask and the pad token id were not set. As a consequence, you may observe unexpected behavior. Please pass your input's `attention_mask` to obtain reliable results.\n",
      "Setting `pad_token_id` to `eos_token_id`:None for open-end generation.\n",
      "The attention mask and the pad token id were not set. As a consequence, you may observe unexpected behavior. Please pass your input's `attention_mask` to obtain reliable results.\n",
      "Setting `pad_token_id` to `eos_token_id`:None for open-end generation.\n"
     ]
    },
    {
     "name": "stdout",
     "output_type": "stream",
     "text": [
      "GT: 29.46 Gen: 29.46 diff: 0.0 Cc1ccc(F)c(OCc2cc(F)cc(C#CCO)c2)c1 <|begin_of_text|>[SMILES]Cc1ccc(F)c(OCc2cc(F)cc(C#CCO)c2)c1[/SMILES][TPSA]29.46[/TPSA]\n",
      "GT: 49.41 Gen: 49.41 diff: 0.0 Cc1cc(C)c(S(=O)(=O)NCC2CCCN2c2ccccc2)c(C)c1 <|begin_of_text|>[SMILES]Cc1cc(C)c(S(=O)(=O)NCC2CCCN2c2ccccc2)c(C)c1[/SMILES][TPSA]49.41[/TPSA]\n",
      "GT: 90.42 Gen: 90.42 diff: 0.0 Cc1nn(C)c(Oc2ccc(Br)cc2[N+](=O)[O-])c1CO <|begin_of_text|>[SMILES]Cc1nn(C)c(Oc2ccc(Br)cc2[N+](=O)[O-])c1CO[/SMILES][TPSA]90.42[/TPSA]\n"
     ]
    },
    {
     "name": "stderr",
     "output_type": "stream",
     "text": [
      "The attention mask and the pad token id were not set. As a consequence, you may observe unexpected behavior. Please pass your input's `attention_mask` to obtain reliable results.\n",
      "Setting `pad_token_id` to `eos_token_id`:None for open-end generation.\n",
      "The attention mask and the pad token id were not set. As a consequence, you may observe unexpected behavior. Please pass your input's `attention_mask` to obtain reliable results.\n",
      "Setting `pad_token_id` to `eos_token_id`:None for open-end generation.\n"
     ]
    },
    {
     "name": "stdout",
     "output_type": "stream",
     "text": [
      "GT: 40.52 Gen: 40.52 diff: 0.0 CN=C(NCc1nc(-c2ccccc2)cs1)N1CCSC(C)(C)C1 <|begin_of_text|>[SMILES]CN=C(NCc1nc(-c2ccccc2)cs1)N1CCSC(C)(C)C1[/SMILES][TPSA]40.52[/TPSA]\n",
      "GT: 115.39 Gen: 115.39 diff: 0.0 CC(C)NS(=O)(=O)[N-]Cc1ccccc1.O=C(O)c1cccc2c1cnn2-c1ccc(F)cc1 <|begin_of_text|>[SMILES]CC(C)NS(=O)(=O)[N-]Cc1ccccc1.O=C(O)c1cccc2c1cnn2-c1ccc(F)cc1[/SMILES][TPSA]115.39[/TPSA]\n",
      "GT: 101.38 Gen: 101.38 diff: 0.0 CCOc1ccc(-c2noc(Cn3c(=O)n(C(C)C)c(=O)c4ccccc43)n2)cc1OC <|begin_of_text|>[SMILES]CCOc1ccc(-c2noc(Cn3c(=O)n(C(C)C)c(=O)c4ccccc43)n2)cc1OC[/SMILES][TPSA]101.38[/TPSA]\n"
     ]
    },
    {
     "name": "stderr",
     "output_type": "stream",
     "text": [
      "The attention mask and the pad token id were not set. As a consequence, you may observe unexpected behavior. Please pass your input's `attention_mask` to obtain reliable results.\n",
      "Setting `pad_token_id` to `eos_token_id`:None for open-end generation.\n",
      "The attention mask and the pad token id were not set. As a consequence, you may observe unexpected behavior. Please pass your input's `attention_mask` to obtain reliable results.\n",
      "Setting `pad_token_id` to `eos_token_id`:None for open-end generation.\n",
      "The attention mask and the pad token id were not set. As a consequence, you may observe unexpected behavior. Please pass your input's `attention_mask` to obtain reliable results.\n",
      "Setting `pad_token_id` to `eos_token_id`:None for open-end generation.\n"
     ]
    },
    {
     "name": "stdout",
     "output_type": "stream",
     "text": [
      "GT: 75.94 Gen: 75.94 diff: 0.0 O=C(CSc1nnnn1-c1ccc(Cl)cc1)Nc1cccc(Cl)c1N1CCCCC1 <|begin_of_text|>[SMILES]O=C(CSc1nnnn1-c1ccc(Cl)cc1)Nc1cccc(Cl)c1N1CCCCC1[/SMILES][TPSA]75.94[/TPSA]\n",
      "GT: 53.68 Gen: 53.68 diff: 0.0 Cc1ccccc1C1(O)CCN(C(=O)c2ccc(-c3ccc(F)cc3)o2)CC1 <|begin_of_text|>[SMILES]Cc1ccccc1C1(O)CCN(C(=O)c2ccc(-c3ccc(F)cc3)o2)CC1[/SMILES][TPSA]53.68[/TPSA]\n"
     ]
    },
    {
     "name": "stderr",
     "output_type": "stream",
     "text": [
      "The attention mask and the pad token id were not set. As a consequence, you may observe unexpected behavior. Please pass your input's `attention_mask` to obtain reliable results.\n",
      "Setting `pad_token_id` to `eos_token_id`:None for open-end generation.\n",
      "The attention mask and the pad token id were not set. As a consequence, you may observe unexpected behavior. Please pass your input's `attention_mask` to obtain reliable results.\n",
      "Setting `pad_token_id` to `eos_token_id`:None for open-end generation.\n",
      "The attention mask and the pad token id were not set. As a consequence, you may observe unexpected behavior. Please pass your input's `attention_mask` to obtain reliable results.\n",
      "Setting `pad_token_id` to `eos_token_id`:None for open-end generation.\n"
     ]
    },
    {
     "name": "stdout",
     "output_type": "stream",
     "text": [
      "GT: 138.59 Gen: 138.59 diff: 0.0 CCc1ccc(NC(=O)NC(C)(C)CCC(=O)O)cc1S(N)(=O)=O <|begin_of_text|>[SMILES]CCc1ccc(NC(=O)NC(C)(C)CCC(=O)O)cc1S(N)(=O)=O[/SMILES][TPSA]138.59[/TPSA]\n",
      "GT: 69.15 Gen: 69.15 diff: 0.0 CCCOc1ccc(C=NNC(=O)COc2ccccc2C)cc1OC <|begin_of_text|>[SMILES]CCCOc1ccc(C=NNC(=O)COc2ccccc2C)cc1OC[/SMILES][TPSA]69.15[/TPSA]\n",
      "GT: 67.87 Gen: 67.87 diff: 0.0 CC(C)(C)OC(=O)NCC(=O)N1CCOC(c2ccccc2F)C1 <|begin_of_text|>[SMILES]CC(C)(C)OC(=O)NCC(=O)N1CCOC(c2ccccc2F)C1[/SMILES][TPSA]67.87[/TPSA]\n"
     ]
    },
    {
     "name": "stderr",
     "output_type": "stream",
     "text": [
      "The attention mask and the pad token id were not set. As a consequence, you may observe unexpected behavior. Please pass your input's `attention_mask` to obtain reliable results.\n",
      "Setting `pad_token_id` to `eos_token_id`:None for open-end generation.\n",
      "The attention mask and the pad token id were not set. As a consequence, you may observe unexpected behavior. Please pass your input's `attention_mask` to obtain reliable results.\n",
      "Setting `pad_token_id` to `eos_token_id`:None for open-end generation.\n"
     ]
    },
    {
     "name": "stdout",
     "output_type": "stream",
     "text": [
      "GT: 30.49 Gen: 30.49 diff: 0.0 CCOc1cc(OC)c(Br)cc1CC1CCCNC1 <|begin_of_text|>[SMILES]CCOc1cc(OC)c(Br)cc1CC1CCCNC1[/SMILES][TPSA]30.49[/TPSA]\n",
      "GT: 77.2 Gen: 77.2 diff: 0.0 CCN(CC)C(=O)c1nn(-c2cccc(F)c2)c(=O)n(Cc2cccc(Cl)c2)c1=O <|begin_of_text|>[SMILES]CCN(CC)C(=O)c1nn(-c2cccc(F)c2)c(=O)n(Cc2cccc(Cl)c2)c1=O[/SMILES][TPSA]77.20[/TPSA]\n"
     ]
    },
    {
     "name": "stderr",
     "output_type": "stream",
     "text": [
      "The attention mask and the pad token id were not set. As a consequence, you may observe unexpected behavior. Please pass your input's `attention_mask` to obtain reliable results.\n",
      "Setting `pad_token_id` to `eos_token_id`:None for open-end generation.\n",
      "The attention mask and the pad token id were not set. As a consequence, you may observe unexpected behavior. Please pass your input's `attention_mask` to obtain reliable results.\n",
      "Setting `pad_token_id` to `eos_token_id`:None for open-end generation.\n"
     ]
    },
    {
     "name": "stdout",
     "output_type": "stream",
     "text": [
      "GT: 81.3 Gen: 81.3 diff: 0.0 CCCC(=O)n1cc(CCC(C)C)n(Cc2ccc(-c3ccccc3C(=O)O)cc2)c1=O <|begin_of_text|>[SMILES]CCCC(=O)n1cc(CCC(C)C)n(Cc2ccc(-c3ccccc3C(=O)O)cc2)c1=O[/SMILES][TPSA]81.30[/TPSA]\n",
      "GT: 206.11 Gen: 206.11 diff: 0.0 CON=C(C(=O)NC1C(=O)N2C(C(=O)OCOC(=O)C(C)(C)C)C(Cn3nnc(C)n3)=CSC12)c1csc(N)n1 <|begin_of_text|>[SMILES]CON=C(C(=O)NC1C(=O)N2C(C(=O)OCOC(=O)C(C)(C)C)C(Cn3nnc(C)n3)=CSC12)c1csc(N)n1[/SMILES][TPSA]206.11[/TPSA]\n",
      "GT: 45.15 Gen: 45.15 diff: 0.0 ONCc1ccccc1-c1ccncc1 <|begin_of_text|>[SMILES]ONCc1ccccc1-c1ccncc1[/SMILES][TPSA]45.15[/TPSA]\n"
     ]
    },
    {
     "name": "stderr",
     "output_type": "stream",
     "text": [
      "The attention mask and the pad token id were not set. As a consequence, you may observe unexpected behavior. Please pass your input's `attention_mask` to obtain reliable results.\n",
      "Setting `pad_token_id` to `eos_token_id`:None for open-end generation.\n",
      "The attention mask and the pad token id were not set. As a consequence, you may observe unexpected behavior. Please pass your input's `attention_mask` to obtain reliable results.\n",
      "Setting `pad_token_id` to `eos_token_id`:None for open-end generation.\n",
      "The attention mask and the pad token id were not set. As a consequence, you may observe unexpected behavior. Please pass your input's `attention_mask` to obtain reliable results.\n",
      "Setting `pad_token_id` to `eos_token_id`:None for open-end generation.\n"
     ]
    },
    {
     "name": "stdout",
     "output_type": "stream",
     "text": [
      "GT: 43.59 Gen: 43.59 diff: 0.0 Cn1c(Cl)c(C=NOC(=O)c2cccs2)c2ccccc21 <|begin_of_text|>[SMILES]Cn1c(Cl)c(C=NOC(=O)c2cccs2)c2ccccc21[/SMILES][TPSA]43.59[/TPSA]\n",
      "GT: 89.75 Gen: 89.75 diff: 0.0 COc1cc(Cn2ncc(N)n2)ccc1C#N <|begin_of_text|>[SMILES]COc1cc(Cn2ncc(N)n2)ccc1C#N[/SMILES][TPSA]89.75[/TPSA]\n"
     ]
    },
    {
     "name": "stderr",
     "output_type": "stream",
     "text": [
      "The attention mask and the pad token id were not set. As a consequence, you may observe unexpected behavior. Please pass your input's `attention_mask` to obtain reliable results.\n",
      "Setting `pad_token_id` to `eos_token_id`:None for open-end generation.\n",
      "The attention mask and the pad token id were not set. As a consequence, you may observe unexpected behavior. Please pass your input's `attention_mask` to obtain reliable results.\n",
      "Setting `pad_token_id` to `eos_token_id`:None for open-end generation.\n"
     ]
    },
    {
     "name": "stdout",
     "output_type": "stream",
     "text": [
      "GT: 102.5 Gen: 102.5 diff: 0.0 CCN(CC)C(C(=O)O)c1cc(NC(=O)c2c[nH]c3ccccc3c2=O)c(C(C)(C)C)cc1C(C)(C)C.Cl <|begin_of_text|>[SMILES]CCN(CC)C(C(=O)O)c1cc(NC(=O)c2c[nH]c3ccccc3c2=O)c(C(C)(C)C)cc1C(C)(C)C.Cl[/SMILES][TPSA]102.50[/TPSA]\n",
      "GT: 62.64 Gen: 62.64 diff: 0.0 CC(C(=O)NC(=O)NC1CCCC1)[NH+]1CCCCCC1 <|begin_of_text|>[SMILES]CC(C(=O)NC(=O)NC1CCCC1)[NH+]1CCCCCC1[/SMILES][TPSA]62.64[/TPSA]\n"
     ]
    },
    {
     "name": "stderr",
     "output_type": "stream",
     "text": [
      "The attention mask and the pad token id were not set. As a consequence, you may observe unexpected behavior. Please pass your input's `attention_mask` to obtain reliable results.\n",
      "Setting `pad_token_id` to `eos_token_id`:None for open-end generation.\n",
      "The attention mask and the pad token id were not set. As a consequence, you may observe unexpected behavior. Please pass your input's `attention_mask` to obtain reliable results.\n",
      "Setting `pad_token_id` to `eos_token_id`:None for open-end generation.\n"
     ]
    },
    {
     "name": "stdout",
     "output_type": "stream",
     "text": [
      "GT: 102.06 Gen: 102.06 diff: 0.0 COC(=O)C=C1SC(=NC(=O)c2ccc(Cl)cc2Cl)N(c2ccc(N)cc2)C1=O <|begin_of_text|>[SMILES]COC(=O)C=C1SC(=NC(=O)c2ccc(Cl)cc2Cl)N(c2ccc(N)cc2)C1=O[/SMILES][TPSA]102.06[/TPSA]\n",
      "GT: 46.61 Gen: 46.61 diff: 0.0 CCC1C(OS(C)(=O)=O)CN1C <|begin_of_text|>[SMILES]CCC1C(OS(C)(=O)=O)CN1C[/SMILES][TPSA]46.61[/TPSA]\n",
      "GT: 38.33 Gen: 38.33 diff: 0.0 CCC(=O)NCC1(CCOC)CC1 <|begin_of_text|>[SMILES]CCC(=O)NCC1(CCOC)CC1[/SMILES][TPSA]38.33[/TPSA]\n"
     ]
    },
    {
     "name": "stderr",
     "output_type": "stream",
     "text": [
      "The attention mask and the pad token id were not set. As a consequence, you may observe unexpected behavior. Please pass your input's `attention_mask` to obtain reliable results.\n",
      "Setting `pad_token_id` to `eos_token_id`:None for open-end generation.\n",
      "The attention mask and the pad token id were not set. As a consequence, you may observe unexpected behavior. Please pass your input's `attention_mask` to obtain reliable results.\n",
      "Setting `pad_token_id` to `eos_token_id`:None for open-end generation.\n",
      "The attention mask and the pad token id were not set. As a consequence, you may observe unexpected behavior. Please pass your input's `attention_mask` to obtain reliable results.\n",
      "Setting `pad_token_id` to `eos_token_id`:None for open-end generation.\n"
     ]
    },
    {
     "name": "stdout",
     "output_type": "stream",
     "text": [
      "GT: 36.44 Gen: 36.44 diff: 0.0 CN1C(=O)Cc2cc(-c3csc(N4CCCCC4)n3)ccc21 <|begin_of_text|>[SMILES]CN1C(=O)Cc2cc(-c3csc(N4CCCCC4)n3)ccc21[/SMILES][TPSA]36.44[/TPSA]\n",
      "GT: 52.6 Gen: 52.6 diff: 0.0 CCCCOc1cccc2c1C(=O)OC2=O <|begin_of_text|>[SMILES]CCCCOc1cccc2c1C(=O)OC2=O[/SMILES][TPSA]52.60[/TPSA]\n"
     ]
    },
    {
     "name": "stderr",
     "output_type": "stream",
     "text": [
      "The attention mask and the pad token id were not set. As a consequence, you may observe unexpected behavior. Please pass your input's `attention_mask` to obtain reliable results.\n",
      "Setting `pad_token_id` to `eos_token_id`:None for open-end generation.\n",
      "The attention mask and the pad token id were not set. As a consequence, you may observe unexpected behavior. Please pass your input's `attention_mask` to obtain reliable results.\n",
      "Setting `pad_token_id` to `eos_token_id`:None for open-end generation.\n"
     ]
    },
    {
     "name": "stdout",
     "output_type": "stream",
     "text": [
      "GT: 62.7 Gen: 62.7 diff: 0.0 N#CCc1nc(CN)c(C(F)F)cc1Br <|begin_of_text|>[SMILES]N#CCc1nc(CN)c(C(F)F)cc1Br[/SMILES][TPSA]62.70[/TPSA]\n",
      "GT: 21.26 Gen: 21.26 diff: 0.0 FC(F)(F)c1cccc(OCCC2CNCCC2c2ccsc2)c1 <|begin_of_text|>[SMILES]FC(F)(F)c1cccc(OCCC2CNCCC2c2ccsc2)c1[/SMILES][TPSA]21.26[/TPSA]\n"
     ]
    },
    {
     "name": "stderr",
     "output_type": "stream",
     "text": [
      "The attention mask and the pad token id were not set. As a consequence, you may observe unexpected behavior. Please pass your input's `attention_mask` to obtain reliable results.\n",
      "Setting `pad_token_id` to `eos_token_id`:None for open-end generation.\n",
      "The attention mask and the pad token id were not set. As a consequence, you may observe unexpected behavior. Please pass your input's `attention_mask` to obtain reliable results.\n",
      "Setting `pad_token_id` to `eos_token_id`:None for open-end generation.\n"
     ]
    },
    {
     "name": "stdout",
     "output_type": "stream",
     "text": [
      "GT: 75.27 Gen: 75.27 diff: 0.0 CCc1ccc(C(=O)CCC(=O)Nc2ccc(C(=O)NC3CC3)cc2)cc1 <|begin_of_text|>[SMILES]CCc1ccc(C(=O)CCC(=O)Nc2ccc(C(=O)NC3CC3)cc2)cc1[/SMILES][TPSA]75.27[/TPSA]\n",
      "GT: 78.87 Gen: 78.87 diff: 0.0 CC(=O)c1ccc(OCC(=O)N2CCc3ncnc(N4CCN(C5CCC5)CC4)c3CC2)cc1 <|begin_of_text|>[SMILES]CC(=O)c1ccc(OCC(=O)N2CCc3ncnc(N4CCN(C5CCC5)CC4)c3CC2)cc1[/SMILES][TPSA]78.87[/TPSA]\n"
     ]
    },
    {
     "name": "stderr",
     "output_type": "stream",
     "text": [
      "The attention mask and the pad token id were not set. As a consequence, you may observe unexpected behavior. Please pass your input's `attention_mask` to obtain reliable results.\n",
      "Setting `pad_token_id` to `eos_token_id`:None for open-end generation.\n",
      "The attention mask and the pad token id were not set. As a consequence, you may observe unexpected behavior. Please pass your input's `attention_mask` to obtain reliable results.\n",
      "Setting `pad_token_id` to `eos_token_id`:None for open-end generation.\n"
     ]
    },
    {
     "name": "stdout",
     "output_type": "stream",
     "text": [
      "GT: 30.29 Gen: 30.29 diff: 0.0 COCCCN(C)c1c(CCl)c(C)nn1C <|begin_of_text|>[SMILES]COCCCN(C)c1c(CCl)c(C)nn1C[/SMILES][TPSA]30.29[/TPSA]\n",
      "GT: 97.39 Gen: 97.39 diff: 0.0 CC(C)CCNC(=O)c1ccc(Oc2ccc(NS(C)(=O)=O)cc2)nc1 <|begin_of_text|>[SMILES]CC(C)CCNC(=O)c1ccc(Oc2ccc(NS(C)(=O)=O)cc2)nc1[/SMILES][TPSA]97.39[/TPSA]\n"
     ]
    },
    {
     "name": "stderr",
     "output_type": "stream",
     "text": [
      "The attention mask and the pad token id were not set. As a consequence, you may observe unexpected behavior. Please pass your input's `attention_mask` to obtain reliable results.\n",
      "Setting `pad_token_id` to `eos_token_id`:None for open-end generation.\n",
      "The attention mask and the pad token id were not set. As a consequence, you may observe unexpected behavior. Please pass your input's `attention_mask` to obtain reliable results.\n",
      "Setting `pad_token_id` to `eos_token_id`:None for open-end generation.\n"
     ]
    },
    {
     "name": "stdout",
     "output_type": "stream",
     "text": [
      "GT: 45.98 Gen: 45.98 diff: 0.0 ClC1=NC2N=C(N1)O2 <|begin_of_text|>[SMILES]ClC1=NC2N=C(N1)O2[/SMILES][TPSA]45.98[/TPSA]\n",
      "GT: 86.79 Gen: 86.79 diff: 0.0 CCNC(=O)C(Cc1ccccc1)N(Cc1ccc(C)cc1)C(=O)CCCN(c1ccccc1)S(C)(=O)=O <|begin_of_text|>[SMILES]CCNC(=O)C(Cc1ccccc1)N(Cc1ccc(C)cc1)C(=O)CCCN(c1ccccc1)S(C)(=O)=O[/SMILES][TPSA]86.79[/TPSA]\n"
     ]
    },
    {
     "name": "stderr",
     "output_type": "stream",
     "text": [
      "The attention mask and the pad token id were not set. As a consequence, you may observe unexpected behavior. Please pass your input's `attention_mask` to obtain reliable results.\n",
      "Setting `pad_token_id` to `eos_token_id`:None for open-end generation.\n",
      "The attention mask and the pad token id were not set. As a consequence, you may observe unexpected behavior. Please pass your input's `attention_mask` to obtain reliable results.\n",
      "Setting `pad_token_id` to `eos_token_id`:None for open-end generation.\n"
     ]
    },
    {
     "name": "stdout",
     "output_type": "stream",
     "text": [
      "GT: 55.43 Gen: 55.43 diff: 0.0 CCn1ccnc1C1CCCN(C(=O)c2cn3cccc(C)c3n2)C1 <|begin_of_text|>[SMILES]CCn1ccnc1C1CCCN(C(=O)c2cn3cccc(C)c3n2)C1[/SMILES][TPSA]55.43[/TPSA]\n",
      "GT: 176.73 Gen: 176.73 diff: 0.0 CCc1nc2c(C)cc(N3CCN(CC(=O)N4CC(O)C4)C(C)(C)C3)cn2c1N(C)c1nc(-c2ccc(F)cc2)c(C#N)s1.CCc1nc2c(C)cc(N3CCNC(C)(C)C3)cn2c1N(C)c1nc(-c2ccc(F)cc2)c(C#N)s1 <|begin_of_text|>[SMILES]CCc1nc2c(C)cc(N3CCN(CC(=O)N4CC(O)C4)C(C)(C)C3)cn2c1N(C)c1nc(-c2ccc(F)cc2)c(C#N)s1.CCc1nc2c(C)cc(N3CCNC(C)(C)C3)cn2c1N(C)c1nc(-c2ccc(F)cc2)c(C#N)s1[/SMILES][TPSA]176.73[/TPSA]\n"
     ]
    },
    {
     "name": "stderr",
     "output_type": "stream",
     "text": [
      "The attention mask and the pad token id were not set. As a consequence, you may observe unexpected behavior. Please pass your input's `attention_mask` to obtain reliable results.\n",
      "Setting `pad_token_id` to `eos_token_id`:None for open-end generation.\n",
      "The attention mask and the pad token id were not set. As a consequence, you may observe unexpected behavior. Please pass your input's `attention_mask` to obtain reliable results.\n",
      "Setting `pad_token_id` to `eos_token_id`:None for open-end generation.\n"
     ]
    },
    {
     "name": "stdout",
     "output_type": "stream",
     "text": [
      "GT: 26.3 Gen: 26.3 diff: 0.0 CCOC(=O)CCC(C)C1CCC2C3CCC4CCCCC4(C)C3CCC12C <|begin_of_text|>[SMILES]CCOC(=O)CCC(C)C1CCC2C3CCC4CCCCC4(C)C3CCC12C[/SMILES][TPSA]26.30[/TPSA]\n",
      "GT: 404.91 Gen: 404.91 diff: 0.0 C.CCC(=O)SCC(C(=O)NC(CCCCN)C(=O)OC)N(C)C(=O)Oc1ccc2c(c1)Oc1cc(N(C)C)ccc1C21OC(=O)c2ccccc21.CCC(=O)SCC(C(=O)NC(CCCCNC(=O)OC(C)(C)C)C(=O)OC)N(C)C(=O)Oc1ccc2c(c1)Oc1cc(N(C)C)ccc1C21OC(=O)c2ccccc21.CN(C)c1ccc2c(c1)Oc1cc(O)ccc1C21OC(=O)c2ccccc21 <|begin_of_text|>[SMILES]C.CCC(=O)SCC(C(=O)NC(CCCCN)C(=O)OC)N(C)C(=O)Oc1ccc2c(c1)Oc1cc(N(C)C)ccc1C21OC(=O)c2ccccc21.CCC(=O)SCC(C(=O)NC(CCCCNC(=O)OC(C)(C)C)C(=O)OC)N(C)C(=O)Oc1ccc2c(c1)Oc1cc(N(C)C)ccc1C21OC(=O)c2ccccc21.CN(C)c1ccc2c(c1)Oc1cc(O)ccc1C21OC(=O)c2ccccc21[/SMILES][TPSA]404.91[/TPSA]\n"
     ]
    },
    {
     "name": "stderr",
     "output_type": "stream",
     "text": [
      "The attention mask and the pad token id were not set. As a consequence, you may observe unexpected behavior. Please pass your input's `attention_mask` to obtain reliable results.\n",
      "Setting `pad_token_id` to `eos_token_id`:None for open-end generation.\n",
      "The attention mask and the pad token id were not set. As a consequence, you may observe unexpected behavior. Please pass your input's `attention_mask` to obtain reliable results.\n",
      "Setting `pad_token_id` to `eos_token_id`:None for open-end generation.\n"
     ]
    },
    {
     "name": "stdout",
     "output_type": "stream",
     "text": [
      "GT: 139.59 Gen: 139.59 diff: 0.0 CCC=CC(O)CC=CC=CCC=CCC=CCCCC(=O)OC(COC(=O)CCCCCCC)COP(=O)(O)O <|begin_of_text|>[SMILES]CCC=CC(O)CC=CC=CCC=CCC=CCCCC(=O)OC(COC(=O)CCCCCCC)COP(=O)(O)O[/SMILES][TPSA]139.59[/TPSA]\n",
      "GT: 159.36 Gen: 159.36 diff: 0.0 CC(C)(C)NOC(=O)Nc1c[nH]c2c(C(=O)NCc3ccc4c(c3)NC(=O)CO4)ncnc12 <|begin_of_text|>[SMILES]CC(C)(C)NOC(=O)Nc1c[nH]c2c(C(=O)NCc3ccc4c(c3)NC(=O)CO4)ncnc12[/SMILES][TPSA]159.36[/TPSA]\n",
      "GT: 155.9 Gen: 155.9 diff: 0.0 COc1cc(F)cc(C(CO)NC(=O)C(C)n2cnn3cc(-c4nc(NC5CCC(O)C5)ncc4Cl)cc3c2=O)c1 <|begin_of_text|>[SMILES]COc1cc(F)cc(C(CO)NC(=O)C(C)n2cnn3cc(-c4nc(NC5CCC(O)C5)ncc4Cl)cc3c2=O)c1[/SMILES][TPSA]155.90[/TPSA]\n"
     ]
    },
    {
     "name": "stderr",
     "output_type": "stream",
     "text": [
      "The attention mask and the pad token id were not set. As a consequence, you may observe unexpected behavior. Please pass your input's `attention_mask` to obtain reliable results.\n",
      "Setting `pad_token_id` to `eos_token_id`:None for open-end generation.\n",
      "The attention mask and the pad token id were not set. As a consequence, you may observe unexpected behavior. Please pass your input's `attention_mask` to obtain reliable results.\n",
      "Setting `pad_token_id` to `eos_token_id`:None for open-end generation.\n",
      "The attention mask and the pad token id were not set. As a consequence, you may observe unexpected behavior. Please pass your input's `attention_mask` to obtain reliable results.\n",
      "Setting `pad_token_id` to `eos_token_id`:None for open-end generation.\n"
     ]
    },
    {
     "name": "stdout",
     "output_type": "stream",
     "text": [
      "GT: 83.78 Gen: 83.78 diff: 0.0 CN1CCC(CN(C)C(=O)c2ccc(N3C(=S)N(c4cnc(C#N)c(C(F)(F)F)c4)C(=O)C34CCC4)cc2)CC1 <|begin_of_text|>[SMILES]CN1CCC(CN(C)C(=O)c2ccc(N3C(=S)N(c4cnc(C#N)c(C(F)(F)F)c4)C(=O)C34CCC4)cc2)CC1[/SMILES][TPSA]83.78[/TPSA]\n",
      "GT: 86.86 Gen: 86.86 diff: 0.0 CCC(C)n1nccc1NC(=O)C(C)Sc1nnc(-c2ccc(OC)cc2)n1C <|begin_of_text|>[SMILES]CCC(C)n1nccc1NC(=O)C(C)Sc1nnc(-c2ccc(OC)cc2)n1C[/SMILES][TPSA]86.86[/TPSA]\n"
     ]
    },
    {
     "name": "stderr",
     "output_type": "stream",
     "text": [
      "The attention mask and the pad token id were not set. As a consequence, you may observe unexpected behavior. Please pass your input's `attention_mask` to obtain reliable results.\n",
      "Setting `pad_token_id` to `eos_token_id`:None for open-end generation.\n",
      "The attention mask and the pad token id were not set. As a consequence, you may observe unexpected behavior. Please pass your input's `attention_mask` to obtain reliable results.\n",
      "Setting `pad_token_id` to `eos_token_id`:None for open-end generation.\n"
     ]
    },
    {
     "name": "stdout",
     "output_type": "stream",
     "text": [
      "GT: 89.23 Gen: 89.23 diff: 0.0 Cn1c(=O)c2ccc(C(=O)Nc3ccccc3N3CCCCC3)nc2n(C)c1=O <|begin_of_text|>[SMILES]Cn1c(=O)c2ccc(C(=O)Nc3ccccc3N3CCCCC3)nc2n(C)c1=O[/SMILES][TPSA]89.23[/TPSA]\n",
      "GT: 24.92 Gen: 24.92 diff: 0.0 Cc1ccnc2c(NCC3CC3)c(F)ccc12 <|begin_of_text|>[SMILES]Cc1ccnc2c(NCC3CC3)c(F)ccc12[/SMILES][TPSA]24.92[/TPSA]\n",
      "GT: 56.15 Gen: 56.15 diff: 0.0 C=CC(=O)NC(C)c1nc2ccccc2n1CCOc1cc(C)cc(C)c1 <|begin_of_text|>[SMILES]C=CC(=O)NC(C)c1nc2ccccc2n1CCOc1cc(C)cc(C)c1[/SMILES][TPSA]56.15[/TPSA]\n"
     ]
    },
    {
     "name": "stderr",
     "output_type": "stream",
     "text": [
      "The attention mask and the pad token id were not set. As a consequence, you may observe unexpected behavior. Please pass your input's `attention_mask` to obtain reliable results.\n",
      "Setting `pad_token_id` to `eos_token_id`:None for open-end generation.\n",
      "The attention mask and the pad token id were not set. As a consequence, you may observe unexpected behavior. Please pass your input's `attention_mask` to obtain reliable results.\n",
      "Setting `pad_token_id` to `eos_token_id`:None for open-end generation.\n",
      "The attention mask and the pad token id were not set. As a consequence, you may observe unexpected behavior. Please pass your input's `attention_mask` to obtain reliable results.\n",
      "Setting `pad_token_id` to `eos_token_id`:None for open-end generation.\n"
     ]
    },
    {
     "name": "stdout",
     "output_type": "stream",
     "text": [
      "GT: 47.61 Gen: 47.61 diff: 0.0 C=CCNCC(=O)NCCCN1CCN(C)CC1 <|begin_of_text|>[SMILES]C=CCNCC(=O)NCCCN1CCN(C)CC1[/SMILES][TPSA]47.61[/TPSA]\n",
      "GT: 65.18 Gen: 65.18 diff: 0.0 CC(=O)N1c2ccc(-c3cnn(C4CC4)c3)c(OCc3ccn(C)n3)c2CCC1C <|begin_of_text|>[SMILES]CC(=O)N1c2ccc(-c3cnn(C4CC4)c3)c(OCc3ccn(C)n3)c2CCC1C[/SMILES][TPSA]65.18[/TPSA]\n"
     ]
    },
    {
     "name": "stderr",
     "output_type": "stream",
     "text": [
      "The attention mask and the pad token id were not set. As a consequence, you may observe unexpected behavior. Please pass your input's `attention_mask` to obtain reliable results.\n",
      "Setting `pad_token_id` to `eos_token_id`:None for open-end generation.\n",
      "The attention mask and the pad token id were not set. As a consequence, you may observe unexpected behavior. Please pass your input's `attention_mask` to obtain reliable results.\n",
      "Setting `pad_token_id` to `eos_token_id`:None for open-end generation.\n"
     ]
    },
    {
     "name": "stdout",
     "output_type": "stream",
     "text": [
      "GT: 80.37 Gen: 80.37 diff: 0.0 CNC(CC(=O)N=C(C)N)Cc1cccc(-c2cccnc2)c1 <|begin_of_text|>[SMILES]CNC(CC(=O)N=C(C)N)Cc1cccc(-c2cccnc2)c1[/SMILES][TPSA]80.37[/TPSA]\n",
      "GT: 162.97 Gen: 162.97 diff: 0.0 COc1cc(OC)c2c(c1Cl)OC1(C2=O)C(O)=C(C(CC(=O)NCCc2nc(-c3ccccn3)no2)c2ccc(SC)cc2)C(=O)CC1C <|begin_of_text|>[SMILES]COc1cc(OC)c2c(c1Cl)OC1(C2=O)C(O)=C(C(CC(=O)NCCc2nc(-c3ccccn3)no2)c2ccc(SC)cc2)C(=O)CC1C[/SMILES][TPSA]162.97[/TPSA]\n"
     ]
    },
    {
     "name": "stderr",
     "output_type": "stream",
     "text": [
      "The attention mask and the pad token id were not set. As a consequence, you may observe unexpected behavior. Please pass your input's `attention_mask` to obtain reliable results.\n",
      "Setting `pad_token_id` to `eos_token_id`:None for open-end generation.\n",
      "The attention mask and the pad token id were not set. As a consequence, you may observe unexpected behavior. Please pass your input's `attention_mask` to obtain reliable results.\n",
      "Setting `pad_token_id` to `eos_token_id`:None for open-end generation.\n"
     ]
    },
    {
     "name": "stdout",
     "output_type": "stream",
     "text": [
      "GT: 80.27 Gen: 80.27 diff: 0.0 CCc1noc(CC)c1CNC(=NC)NCc1cnn(-c2ccc(Cl)cc2)c1 <|begin_of_text|>[SMILES]CCc1noc(CC)c1CNC(=NC)NCc1cnn(-c2ccc(Cl)cc2)c1[/SMILES][TPSA]80.27[/TPSA]\n",
      "GT: 92.32 Gen: 92.32 diff: 0.0 CCCCOC(=O)NC(CC(Cc1ccc(OC)c(OCCCOC)c1)C(C)C)C1CC(C(C)C)C(=O)O1 <|begin_of_text|>[SMILES]CCCCOC(=O)NC(CC(Cc1ccc(OC)c(OCCCOC)c1)C(C)C)C1CC(C(C)C)C(=O)O1[/SMILES][TPSA]92.32[/TPSA]\n"
     ]
    },
    {
     "name": "stderr",
     "output_type": "stream",
     "text": [
      "The attention mask and the pad token id were not set. As a consequence, you may observe unexpected behavior. Please pass your input's `attention_mask` to obtain reliable results.\n",
      "Setting `pad_token_id` to `eos_token_id`:None for open-end generation.\n",
      "The attention mask and the pad token id were not set. As a consequence, you may observe unexpected behavior. Please pass your input's `attention_mask` to obtain reliable results.\n",
      "Setting `pad_token_id` to `eos_token_id`:None for open-end generation.\n"
     ]
    },
    {
     "name": "stdout",
     "output_type": "stream",
     "text": [
      "GT: 66.4 Gen: 66.4 diff: 0.0 CCC(C)C(NC(=O)C=Cc1ccc(C)cc1)C(=O)O <|begin_of_text|>[SMILES]CCC(C)C(NC(=O)C=Cc1ccc(C)cc1)C(=O)O[/SMILES][TPSA]66.40[/TPSA]\n",
      "GT: 71.41 Gen: 71.41 diff: 0.0 C=C(N(N)C=CC(C)(F)c1ccc(C)cc1)N(N)c1cccnc1 <|begin_of_text|>[SMILES]C=C(N(N)C=CC(C)(F)c1ccc(C)cc1)N(N)c1cccnc1[/SMILES][TPSA]71.41[/TPSA]\n"
     ]
    },
    {
     "name": "stderr",
     "output_type": "stream",
     "text": [
      "The attention mask and the pad token id were not set. As a consequence, you may observe unexpected behavior. Please pass your input's `attention_mask` to obtain reliable results.\n",
      "Setting `pad_token_id` to `eos_token_id`:None for open-end generation.\n",
      "The attention mask and the pad token id were not set. As a consequence, you may observe unexpected behavior. Please pass your input's `attention_mask` to obtain reliable results.\n",
      "Setting `pad_token_id` to `eos_token_id`:None for open-end generation.\n"
     ]
    },
    {
     "name": "stdout",
     "output_type": "stream",
     "text": [
      "GT: 43.84 Gen: 43.84 diff: 0.0 CCC(C)n1ccc(CC(N)Cc2ccc(C)c(C)c2)n1 <|begin_of_text|>[SMILES]CCC(C)n1ccc(CC(N)Cc2ccc(C)c(C)c2)n1[/SMILES][TPSA]43.84[/TPSA]\n",
      "GT: 17.82 Gen: 17.82 diff: 0.0 CC(C)(C)c1nn(-c2ccccc2)c2ccccc12 <|begin_of_text|>[SMILES]CC(C)(C)c1nn(-c2ccccc2)c2ccccc12[/SMILES][TPSA]17.82[/TPSA]\n"
     ]
    },
    {
     "name": "stderr",
     "output_type": "stream",
     "text": [
      "The attention mask and the pad token id were not set. As a consequence, you may observe unexpected behavior. Please pass your input's `attention_mask` to obtain reliable results.\n",
      "Setting `pad_token_id` to `eos_token_id`:None for open-end generation.\n",
      "The attention mask and the pad token id were not set. As a consequence, you may observe unexpected behavior. Please pass your input's `attention_mask` to obtain reliable results.\n",
      "Setting `pad_token_id` to `eos_token_id`:None for open-end generation.\n"
     ]
    },
    {
     "name": "stdout",
     "output_type": "stream",
     "text": [
      "GT: 65.18 Gen: 65.18 diff: 0.0 CCOCC1CN(C(=O)Cc2ccn(C)n2)Cc2cnn(CC3CCCC3)c21 <|begin_of_text|>[SMILES]CCOCC1CN(C(=O)Cc2ccn(C)n2)Cc2cnn(CC3CCCC3)c21[/SMILES][TPSA]65.18[/TPSA]\n",
      "GT: 66.92 Gen: 66.92 diff: 0.0 CCC(C)c1ccc(S(=O)(=O)N2CCN(C(=O)c3ccc(COC)cc3)CC2)cc1 <|begin_of_text|>[SMILES]CCC(C)c1ccc(S(=O)(=O)N2CCN(C(=O)c3ccc(COC)cc3)CC2)cc1[/SMILES][TPSA]66.92[/TPSA]\n"
     ]
    },
    {
     "name": "stderr",
     "output_type": "stream",
     "text": [
      "The attention mask and the pad token id were not set. As a consequence, you may observe unexpected behavior. Please pass your input's `attention_mask` to obtain reliable results.\n",
      "Setting `pad_token_id` to `eos_token_id`:None for open-end generation.\n",
      "The attention mask and the pad token id were not set. As a consequence, you may observe unexpected behavior. Please pass your input's `attention_mask` to obtain reliable results.\n",
      "Setting `pad_token_id` to `eos_token_id`:None for open-end generation.\n"
     ]
    },
    {
     "name": "stdout",
     "output_type": "stream",
     "text": [
      "GT: 58.79 Gen: 58.79 diff: 0.0 COC(CNC(=NCc1cccs1)NCCc1ccco1)C(C)(C)C <|begin_of_text|>[SMILES]COC(CNC(=NCc1cccs1)NCCc1ccco1)C(C)(C)C[/SMILES][TPSA]58.79[/TPSA]\n",
      "GT: 193.1 Gen: 193.1 diff: 0.0 OCC1OC(OC2CC3C(O)CC(O)CC3[OH+]C2C2CCC(O)C(O)C2)C(O)C(O)C1O <|begin_of_text|>[SMILES]OCC1OC(OC2CC3C(O)CC(O)CC3[OH+]C2C2CCC(O)C(O)C2)C(O)C(O)C1O[/SMILES][TPSA]193.10[/TPSA]\n",
      "GT: 69.72 Gen: 69.72 diff: 0.0 CSc1ccc(N2CC(C(=O)Nc3ccc(C(=O)N(C)C4CCCCC4)cc3)CC2=O)cc1 <|begin_of_text|>[SMILES]CSc1ccc(N2CC(C(=O)Nc3ccc(C(=O)N(C)C4CCCCC4)cc3)CC2=O)cc1[/SMILES][TPSA]69.72[/TPSA]\n"
     ]
    },
    {
     "name": "stderr",
     "output_type": "stream",
     "text": [
      "The attention mask and the pad token id were not set. As a consequence, you may observe unexpected behavior. Please pass your input's `attention_mask` to obtain reliable results.\n",
      "Setting `pad_token_id` to `eos_token_id`:None for open-end generation.\n",
      "The attention mask and the pad token id were not set. As a consequence, you may observe unexpected behavior. Please pass your input's `attention_mask` to obtain reliable results.\n",
      "Setting `pad_token_id` to `eos_token_id`:None for open-end generation.\n",
      "The attention mask and the pad token id were not set. As a consequence, you may observe unexpected behavior. Please pass your input's `attention_mask` to obtain reliable results.\n",
      "Setting `pad_token_id` to `eos_token_id`:None for open-end generation.\n"
     ]
    },
    {
     "name": "stdout",
     "output_type": "stream",
     "text": [
      "GT: 83.83 Gen: 83.83 diff: 0.0 COc1cccc2c1C(=O)C(O)=C(O)C2=O <|begin_of_text|>[SMILES]COc1cccc2c1C(=O)C(O)=C(O)C2=O[/SMILES][TPSA]83.83[/TPSA]\n",
      "GT: 92.78 Gen: 92.78 diff: 0.0 Cc1ccccc1C(C)COC(=O)Nc1ccc(S(=O)(=O)C(C)C)c(CN(C)C=O)c1 <|begin_of_text|>[SMILES]Cc1ccccc1C(C)COC(=O)Nc1ccc(S(=O)(=O)C(C)C)c(CN(C)C=O)c1[/SMILES][TPSA]92.78[/TPSA]\n"
     ]
    },
    {
     "name": "stderr",
     "output_type": "stream",
     "text": [
      "The attention mask and the pad token id were not set. As a consequence, you may observe unexpected behavior. Please pass your input's `attention_mask` to obtain reliable results.\n",
      "Setting `pad_token_id` to `eos_token_id`:None for open-end generation.\n",
      "The attention mask and the pad token id were not set. As a consequence, you may observe unexpected behavior. Please pass your input's `attention_mask` to obtain reliable results.\n",
      "Setting `pad_token_id` to `eos_token_id`:None for open-end generation.\n"
     ]
    },
    {
     "name": "stdout",
     "output_type": "stream",
     "text": [
      "GT: 108.99 Gen: 108.99 diff: 0.0 CC1(NC(=O)CCc2nc3sc4c(c3c(=O)[nH]2)CCCC4)CCS(=O)(=O)C1 <|begin_of_text|>[SMILES]CC1(NC(=O)CCc2nc3sc4c(c3c(=O)[nH]2)CCCC4)CCS(=O)(=O)C1[/SMILES][TPSA]108.99[/TPSA]\n",
      "GT: 47.04 Gen: 47.04 diff: 0.0 CCCNc1ncc(C)c(Oc2ccccc2SC)n1 <|begin_of_text|>[SMILES]CCCNc1ncc(C)c(Oc2ccccc2SC)n1[/SMILES][TPSA]47.04[/TPSA]\n",
      "GT: 37.3 Gen: 37.3 diff: 0.0 C=CCC1(O)CCC(C(=O)CCCC)C(C)C1 <|begin_of_text|>[SMILES]C=CCC1(O)CCC(C(=O)CCCC)C(C)C1[/SMILES][TPSA]37.30[/TPSA]\n"
     ]
    },
    {
     "name": "stderr",
     "output_type": "stream",
     "text": [
      "The attention mask and the pad token id were not set. As a consequence, you may observe unexpected behavior. Please pass your input's `attention_mask` to obtain reliable results.\n",
      "Setting `pad_token_id` to `eos_token_id`:None for open-end generation.\n",
      "The attention mask and the pad token id were not set. As a consequence, you may observe unexpected behavior. Please pass your input's `attention_mask` to obtain reliable results.\n",
      "Setting `pad_token_id` to `eos_token_id`:None for open-end generation.\n",
      "The attention mask and the pad token id were not set. As a consequence, you may observe unexpected behavior. Please pass your input's `attention_mask` to obtain reliable results.\n",
      "Setting `pad_token_id` to `eos_token_id`:None for open-end generation.\n"
     ]
    },
    {
     "name": "stdout",
     "output_type": "stream",
     "text": [
      "GT: 100.35 Gen: 100.35 diff: 0.0 O=C(O)Cc1cc(=O)n2[nH]c(C3CC3)nc2n1 <|begin_of_text|>[SMILES]O=C(O)Cc1cc(=O)n2[nH]c(C3CC3)nc2n1[/SMILES][TPSA]100.35[/TPSA]\n",
      "GT: 80.04 Gen: 80.04 diff: 0.0 CC.CC(C)Cc1sc(Nc2cccc(C(=O)NCCN)c2)nc1-c1ccc(Cl)c(Cl)c1 <|begin_of_text|>[SMILES]CC.CC(C)Cc1sc(Nc2cccc(C(=O)NCCN)c2)nc1-c1ccc(Cl)c(Cl)c1[/SMILES][TPSA]80.04[/TPSA]\n",
      "GT: 91.19 Gen: 91.19 diff: 0.0 Cc1oc(-n2cccc2)c(C#N)c1C(=O)NCC(C)(C)CC(C)O <|begin_of_text|>[SMILES]Cc1oc(-n2cccc2)c(C#N)c1C(=O)NCC(C)(C)CC(C)O[/SMILES][TPSA]91.19[/TPSA]\n"
     ]
    },
    {
     "name": "stderr",
     "output_type": "stream",
     "text": [
      "The attention mask and the pad token id were not set. As a consequence, you may observe unexpected behavior. Please pass your input's `attention_mask` to obtain reliable results.\n",
      "Setting `pad_token_id` to `eos_token_id`:None for open-end generation.\n",
      "The attention mask and the pad token id were not set. As a consequence, you may observe unexpected behavior. Please pass your input's `attention_mask` to obtain reliable results.\n",
      "Setting `pad_token_id` to `eos_token_id`:None for open-end generation.\n",
      "The attention mask and the pad token id were not set. As a consequence, you may observe unexpected behavior. Please pass your input's `attention_mask` to obtain reliable results.\n",
      "Setting `pad_token_id` to `eos_token_id`:None for open-end generation.\n"
     ]
    },
    {
     "name": "stdout",
     "output_type": "stream",
     "text": [
      "GT: 69.63 Gen: 69.63 diff: 0.0 CCc1noc(C(C)Sc2nnc(-c3ccccc3F)n2-c2ccc(C)cc2)n1 <|begin_of_text|>[SMILES]CCc1noc(C(C)Sc2nnc(-c3ccccc3F)n2-c2ccc(C)cc2)n1[/SMILES][TPSA]69.63[/TPSA]\n",
      "GT: 74.6 Gen: 74.6 diff: 0.0 CC(CC(C)(C)O)OC(=O)CC1CN(C2=Nc3cc(Cl)ccc3Oc3ccccc32)CCN1C <|begin_of_text|>[SMILES]CC(CC(C)(C)O)OC(=O)CC1CN(C2=Nc3cc(Cl)ccc3Oc3ccccc32)CCN1C[/SMILES][TPSA]74.60[/TPSA]\n"
     ]
    },
    {
     "name": "stderr",
     "output_type": "stream",
     "text": [
      "The attention mask and the pad token id were not set. As a consequence, you may observe unexpected behavior. Please pass your input's `attention_mask` to obtain reliable results.\n",
      "Setting `pad_token_id` to `eos_token_id`:None for open-end generation.\n",
      "The attention mask and the pad token id were not set. As a consequence, you may observe unexpected behavior. Please pass your input's `attention_mask` to obtain reliable results.\n",
      "Setting `pad_token_id` to `eos_token_id`:None for open-end generation.\n"
     ]
    },
    {
     "name": "stdout",
     "output_type": "stream",
     "text": [
      "GT: 57.48 Gen: 57.48 diff: 0.0 CCNC(=NCC(c1ccccc1)N(CC)CC)NCCn1cc(C)cn1 <|begin_of_text|>[SMILES]CCNC(=NCC(c1ccccc1)N(CC)CC)NCCn1cc(C)cn1[/SMILES][TPSA]57.48[/TPSA]\n",
      "GT: 72.95 Gen: 72.95 diff: 0.0 Cc1ccc(C2C3=C(CC(C)(C)CC3=O)Nc3nc(-c4ccc(Cl)cc4)nn32)o1 <|begin_of_text|>[SMILES]Cc1ccc(C2C3=C(CC(C)(C)CC3=O)Nc3nc(-c4ccc(Cl)cc4)nn32)o1[/SMILES][TPSA]72.95[/TPSA]\n"
     ]
    },
    {
     "name": "stderr",
     "output_type": "stream",
     "text": [
      "The attention mask and the pad token id were not set. As a consequence, you may observe unexpected behavior. Please pass your input's `attention_mask` to obtain reliable results.\n",
      "Setting `pad_token_id` to `eos_token_id`:None for open-end generation.\n",
      "The attention mask and the pad token id were not set. As a consequence, you may observe unexpected behavior. Please pass your input's `attention_mask` to obtain reliable results.\n",
      "Setting `pad_token_id` to `eos_token_id`:None for open-end generation.\n"
     ]
    },
    {
     "name": "stdout",
     "output_type": "stream",
     "text": [
      "GT: 29.54 Gen: 29.54 diff: 0.0 Cc1ccc(C(=O)N(Cc2ccccc2F)CC2CCCO2)cc1 <|begin_of_text|>[SMILES]Cc1ccc(C(=O)N(Cc2ccccc2F)CC2CCCO2)cc1[/SMILES][TPSA]29.54[/TPSA]\n",
      "GT: 92.76 Gen: 92.76 diff: 0.0 O=C1CCCC(O)=C1C(CCc1noc2c1C(=O)CC(c1ccccc1)C2)=NCc1ccccc1 <|begin_of_text|>[SMILES]O=C1CCCC(O)=C1C(CCc1noc2c1C(=O)CC(c1ccccc1)C2)=NCc1ccccc1[/SMILES][TPSA]92.76[/TPSA]\n",
      "GT: 64.36 Gen: 64.36 diff: 0.0 COc1ccc(NC(=O)C=Cc2ccc(C3CC3C)o2)cn1 <|begin_of_text|>[SMILES]COc1ccc(NC(=O)C=Cc2ccc(C3CC3C)o2)cn1[/SMILES][TPSA]64.36[/TPSA]\n"
     ]
    },
    {
     "name": "stderr",
     "output_type": "stream",
     "text": [
      "The attention mask and the pad token id were not set. As a consequence, you may observe unexpected behavior. Please pass your input's `attention_mask` to obtain reliable results.\n",
      "Setting `pad_token_id` to `eos_token_id`:None for open-end generation.\n",
      "The attention mask and the pad token id were not set. As a consequence, you may observe unexpected behavior. Please pass your input's `attention_mask` to obtain reliable results.\n",
      "Setting `pad_token_id` to `eos_token_id`:None for open-end generation.\n",
      "The attention mask and the pad token id were not set. As a consequence, you may observe unexpected behavior. Please pass your input's `attention_mask` to obtain reliable results.\n",
      "Setting `pad_token_id` to `eos_token_id`:None for open-end generation.\n"
     ]
    },
    {
     "name": "stdout",
     "output_type": "stream",
     "text": [
      "GT: 92.34 Gen: 92.34 diff: 0.0 CC1(C(=O)NS(=O)(=O)c2cc(Cl)ccc2Cl)CCC(=O)NC1 <|begin_of_text|>[SMILES]CC1(C(=O)NS(=O)(=O)c2cc(Cl)ccc2Cl)CCC(=O)NC1[/SMILES][TPSA]92.34[/TPSA]\n",
      "GT: 73.97 Gen: 73.97 diff: 0.0 Cc1c2ccccc2nn1CCCNC(=O)c1nn2c(c1Cl)OCC2 <|begin_of_text|>[SMILES]Cc1c2ccccc2nn1CCCNC(=O)c1nn2c(c1Cl)OCC2[/SMILES][TPSA]73.97[/TPSA]\n",
      "GT: 40.1 Gen: 40.1 diff: 0.0 CCNC(=NCc1ccc(CN2CCOCC2)cc1)N1CCC(C)CC1 <|begin_of_text|>[SMILES]CCNC(=NCc1ccc(CN2CCOCC2)cc1)N1CCC(C)CC1[/SMILES][TPSA]40.10[/TPSA]\n"
     ]
    },
    {
     "name": "stderr",
     "output_type": "stream",
     "text": [
      "The attention mask and the pad token id were not set. As a consequence, you may observe unexpected behavior. Please pass your input's `attention_mask` to obtain reliable results.\n",
      "Setting `pad_token_id` to `eos_token_id`:None for open-end generation.\n",
      "The attention mask and the pad token id were not set. As a consequence, you may observe unexpected behavior. Please pass your input's `attention_mask` to obtain reliable results.\n",
      "Setting `pad_token_id` to `eos_token_id`:None for open-end generation.\n",
      "The attention mask and the pad token id were not set. As a consequence, you may observe unexpected behavior. Please pass your input's `attention_mask` to obtain reliable results.\n",
      "Setting `pad_token_id` to `eos_token_id`:None for open-end generation.\n"
     ]
    },
    {
     "name": "stdout",
     "output_type": "stream",
     "text": [
      "GT: 35.91 Gen: 35.91 diff: 0.0 CN1CN(C(=O)c2ccc(F)cc2)N=C(c2ccccc2)c2ccccc21 <|begin_of_text|>[SMILES]CN1CN(C(=O)c2ccc(F)cc2)N=C(c2ccccc2)c2ccccc21[/SMILES][TPSA]35.91[/TPSA]\n",
      "GT: 76.66 Gen: 76.66 diff: 0.0 CCOc1ccc(S(=O)(=O)NCC2(C)CCNCC2)cc1OCC.Cl <|begin_of_text|>[SMILES]CCOc1ccc(S(=O)(=O)NCC2(C)CCNCC2)cc1OCC.Cl[/SMILES][TPSA]76.66[/TPSA]\n",
      "GT: 64.94 Gen: 64.94 diff: 0.0 NCCc1nc(C2CCC(F)(F)CC2)no1 <|begin_of_text|>[SMILES]NCCc1nc(C2CCC(F)(F)CC2)no1[/SMILES][TPSA]64.94[/TPSA]\n"
     ]
    },
    {
     "name": "stderr",
     "output_type": "stream",
     "text": [
      "The attention mask and the pad token id were not set. As a consequence, you may observe unexpected behavior. Please pass your input's `attention_mask` to obtain reliable results.\n",
      "Setting `pad_token_id` to `eos_token_id`:None for open-end generation.\n",
      "The attention mask and the pad token id were not set. As a consequence, you may observe unexpected behavior. Please pass your input's `attention_mask` to obtain reliable results.\n",
      "Setting `pad_token_id` to `eos_token_id`:None for open-end generation.\n",
      "The attention mask and the pad token id were not set. As a consequence, you may observe unexpected behavior. Please pass your input's `attention_mask` to obtain reliable results.\n",
      "Setting `pad_token_id` to `eos_token_id`:None for open-end generation.\n"
     ]
    },
    {
     "name": "stdout",
     "output_type": "stream",
     "text": [
      "GT: 55.76 Gen: 55.76 diff: 0.0 COc1cc(O)c2c(c1)Oc1ccccc1CC2=O <|begin_of_text|>[SMILES]COc1cc(O)c2c(c1)Oc1ccccc1CC2=O[/SMILES][TPSA]55.76[/TPSA]\n",
      "GT: 18.46 Gen: 18.46 diff: 0.0 C1CO[SnH2]O1 <|begin_of_text|>[SMILES]C1CO[SnH2]O1[/SMILES][TPSA]18.46[/TPSA]\n",
      "GT: 58.16 Gen: 58.16 diff: 0.0 Cn1c(=O)c2c(-c3ccccc3Br)n3c(c2n(C)c1=O)C(c1cccs1)OCC3 <|begin_of_text|>[SMILES]Cn1c(=O)c2c(-c3ccccc3Br)n3c(c2n(C)c1=O)C(c1cccs1)OCC3[/SMILES][TPSA]58.16[/TPSA]\n"
     ]
    },
    {
     "name": "stderr",
     "output_type": "stream",
     "text": [
      "The attention mask and the pad token id were not set. As a consequence, you may observe unexpected behavior. Please pass your input's `attention_mask` to obtain reliable results.\n",
      "Setting `pad_token_id` to `eos_token_id`:None for open-end generation.\n",
      "The attention mask and the pad token id were not set. As a consequence, you may observe unexpected behavior. Please pass your input's `attention_mask` to obtain reliable results.\n",
      "Setting `pad_token_id` to `eos_token_id`:None for open-end generation.\n",
      "The attention mask and the pad token id were not set. As a consequence, you may observe unexpected behavior. Please pass your input's `attention_mask` to obtain reliable results.\n",
      "Setting `pad_token_id` to `eos_token_id`:None for open-end generation.\n"
     ]
    },
    {
     "name": "stdout",
     "output_type": "stream",
     "text": [
      "GT: 105.25 Gen: 105.25 diff: 0.0 COc1ccc(N(CC(=O)N(Cc2ccccc2F)C(Cc2ccccc2)C(=O)NC(C)C)S(C)(=O)=O)cc1OC <|begin_of_text|>[SMILES]COc1ccc(N(CC(=O)N(Cc2ccccc2F)C(Cc2ccccc2)C(=O)NC(C)C)S(C)(=O)=O)cc1OC[/SMILES][TPSA]105.25[/TPSA]\n",
      "GT: 71.84 Gen: 71.84 diff: 0.0 Cc1nc(NCCNC(=O)c2cccc(C(F)(F)F)c2)cc(-n2cccc2)n1 <|begin_of_text|>[SMILES]Cc1nc(NCCNC(=O)c2cccc(C(F)(F)F)c2)cc(-n2cccc2)n1[/SMILES][TPSA]71.84[/TPSA]\n"
     ]
    },
    {
     "name": "stderr",
     "output_type": "stream",
     "text": [
      "The attention mask and the pad token id were not set. As a consequence, you may observe unexpected behavior. Please pass your input's `attention_mask` to obtain reliable results.\n",
      "Setting `pad_token_id` to `eos_token_id`:None for open-end generation.\n",
      "The attention mask and the pad token id were not set. As a consequence, you may observe unexpected behavior. Please pass your input's `attention_mask` to obtain reliable results.\n",
      "Setting `pad_token_id` to `eos_token_id`:None for open-end generation.\n"
     ]
    },
    {
     "name": "stdout",
     "output_type": "stream",
     "text": [
      "GT: 72.55 Gen: 72.55 diff: 0.0 Cl.NCc1ccc(COc2ccc(C(=O)CC3CCCC3)c(O)c2C(F)(F)F)cc1 <|begin_of_text|>[SMILES]Cl.NCc1ccc(COc2ccc(C(=O)CC3CCCC3)c(O)c2C(F)(F)F)cc1[/SMILES][TPSA]72.55[/TPSA]\n",
      "GT: 550.69 Gen: 521.09 diff: 29.6 CC(=O)OCC1=CC2(O)OC1CC1C3=C(C(C)C)CCC3(C)CCC12C.CC(C)C(=O)CCC1(C)CCC2(C)C(CC=C3C(O)C4(O)COC5OC2C3C5(O)C4O)C1=O.CC(C)C(=O)CCC1(C)CCC2(C)C(CCC3C(O)OC4(O)C(O)COC5OC2C3C54O)C1=O.CC(C)C1=C2C3=CC=C(C(=O)[O-])CC(OC4OCC(O)C(O)C4O)C3(C)CCC2(C)CC1.CC(C)C1=C2C3CC=C4C(O)C5(O)COC6OC(C4C6(O)C5O)C3(C)CCC2(C)CC1.[Na+] <|begin_of_text|>[SMILES]CC(=O)OCC1=CC2(O)OC1CC1C3=C(C(C)C)CCC3(C)CCC12C.CC(C)C(=O)CCC1(C)CCC2(C)C(CC=C3C(O)C4(O)COC5OC2C3C5(O)C4O)C1=O.CC(C)C(=O)CCC1(C)CCC2(C)C(CCC3C(O)OC4(O)C(O)COC5OC2C3C54O)C1=O.CC(C)C1=C2C3=CC=C(C(=O)[O-])CC(OC4OCC(O)C(O)C4O)C3(C)CCC2(C)CC1.CC(C)C1=C2C3CC=C4C(O)C5(O)COC6OC(C4C6(O)C5O)C3(C)CCC2(C)CC1.[Na+][/SMILES][TPSA]521.09[/TPSA]\n"
     ]
    },
    {
     "name": "stderr",
     "output_type": "stream",
     "text": [
      "The attention mask and the pad token id were not set. As a consequence, you may observe unexpected behavior. Please pass your input's `attention_mask` to obtain reliable results.\n",
      "Setting `pad_token_id` to `eos_token_id`:None for open-end generation.\n",
      "The attention mask and the pad token id were not set. As a consequence, you may observe unexpected behavior. Please pass your input's `attention_mask` to obtain reliable results.\n",
      "Setting `pad_token_id` to `eos_token_id`:None for open-end generation.\n"
     ]
    },
    {
     "name": "stdout",
     "output_type": "stream",
     "text": [
      "GT: 90.3 Gen: 90.3 diff: 0.0 CCOc1cc(C2C(C(=O)Nc3ccc(Cl)cc3)=C(C)Nc3ncnn32)ccc1OCc1ccccc1Cl <|begin_of_text|>[SMILES]CCOc1cc(C2C(C(=O)Nc3ccc(Cl)cc3)=C(C)Nc3ncnn32)ccc1OCc1ccccc1Cl[/SMILES][TPSA]90.30[/TPSA]\n",
      "GT: 113.32 Gen: 113.32 diff: 0.0 CC1CCCC(C)C1n1c(-c2cccs2)nc2cc(C(=O)NC3(C(=O)Nc4ccc(C=CC(=O)O)cc4)CCCC3)ccc21 <|begin_of_text|>[SMILES]CC1CCCC(C)C1n1c(-c2cccs2)nc2cc(C(=O)NC3(C(=O)Nc4ccc(C=CC(=O)O)cc4)CCCC3)ccc21[/SMILES][TPSA]113.32[/TPSA]\n",
      "GT: 43.84 Gen: 43.84 diff: 0.0 CCC(CC)n1nc(C)c(C(C)N)c1C <|begin_of_text|>[SMILES]CCC(CC)n1nc(C)c(C(C)N)c1C[/SMILES][TPSA]43.84[/TPSA]\n"
     ]
    },
    {
     "name": "stderr",
     "output_type": "stream",
     "text": [
      "The attention mask and the pad token id were not set. As a consequence, you may observe unexpected behavior. Please pass your input's `attention_mask` to obtain reliable results.\n",
      "Setting `pad_token_id` to `eos_token_id`:None for open-end generation.\n",
      "/auto/home/menuab/miniforge3/envs/llama3/lib/python3.10/site-packages/sklearn/metrics/_regression.py:492: FutureWarning: 'squared' is deprecated in version 1.4 and will be removed in 1.6. To calculate the root mean squared error, use the function'root_mean_squared_error'.\n",
      "  warnings.warn(\n"
     ]
    },
    {
     "name": "stdout",
     "output_type": "stream",
     "text": [
      "GT: 56.73 Gen: 56.73 diff: 0.0 Nc1nc(C(F)(F)F)nn1-c1cc(S)c(C2CC2)cc1Cl <|begin_of_text|>[SMILES]Nc1nc(C(F)(F)F)nn1-c1cc(S)c(C2CC2)cc1Cl[/SMILES][TPSA]56.73[/TPSA]\n"
     ]
    },
    {
     "name": "stderr",
     "output_type": "stream",
     "text": [
      "The attention mask and the pad token id were not set. As a consequence, you may observe unexpected behavior. Please pass your input's `attention_mask` to obtain reliable results.\n",
      "Setting `pad_token_id` to `eos_token_id`:None for open-end generation.\n",
      "The attention mask and the pad token id were not set. As a consequence, you may observe unexpected behavior. Please pass your input's `attention_mask` to obtain reliable results.\n",
      "Setting `pad_token_id` to `eos_token_id`:None for open-end generation.\n",
      "The attention mask and the pad token id were not set. As a consequence, you may observe unexpected behavior. Please pass your input's `attention_mask` to obtain reliable results.\n",
      "Setting `pad_token_id` to `eos_token_id`:None for open-end generation.\n"
     ]
    },
    {
     "name": "stdout",
     "output_type": "stream",
     "text": [
      "GT: 460.14 Gen: 460.14 diff: 0.0 CC(=O)Nc1ccc(C(=O)NN=Cc2cccc([N+](=O)[O-])c2OC(=O)c2cccc(C)c2)cc1 <|begin_of_text|>[SMILES]CC(=O)Nc1ccc(C(=O)NN=Cc2cccc([N+](=O)[O-])c2OC(=O)c2cccc(C)c2)cc1[/SMILES][WEIGHT]460.14[/WEIGHT]\n",
      "GT: 389.2 Gen: 389.2 diff: 0.0 CCNC(=NCC(C)Cc1cccs1)NC1CCN(c2ncccc2F)C1 <|begin_of_text|>[SMILES]CCNC(=NCC(C)Cc1cccs1)NC1CCN(c2ncccc2F)C1[/SMILES][WEIGHT]389.20[/WEIGHT]\n",
      "GT: 341.14 Gen: 341.14 diff: 0.0 CCOC(=O)C1C(C)NNC1S(=O)(=O)Nc1cccc(CC)c1 <|begin_of_text|>[SMILES]CCOC(=O)C1C(C)NNC1S(=O)(=O)Nc1cccc(CC)c1[/SMILES][WEIGHT]341.14[/WEIGHT]\n"
     ]
    },
    {
     "name": "stderr",
     "output_type": "stream",
     "text": [
      "The attention mask and the pad token id were not set. As a consequence, you may observe unexpected behavior. Please pass your input's `attention_mask` to obtain reliable results.\n",
      "Setting `pad_token_id` to `eos_token_id`:None for open-end generation.\n",
      "The attention mask and the pad token id were not set. As a consequence, you may observe unexpected behavior. Please pass your input's `attention_mask` to obtain reliable results.\n",
      "Setting `pad_token_id` to `eos_token_id`:None for open-end generation.\n",
      "The attention mask and the pad token id were not set. As a consequence, you may observe unexpected behavior. Please pass your input's `attention_mask` to obtain reliable results.\n",
      "Setting `pad_token_id` to `eos_token_id`:None for open-end generation.\n"
     ]
    },
    {
     "name": "stdout",
     "output_type": "stream",
     "text": [
      "GT: 299.11 Gen: 299.11 diff: 0.0 CCc1n[nH]c2c(c1=S)CN(C(=O)c1ccccc1)CC2 <|begin_of_text|>[SMILES]CCc1n[nH]c2c(c1=S)CN(C(=O)c1ccccc1)CC2[/SMILES][WEIGHT]299.11[/WEIGHT]\n",
      "GT: 247.11 Gen: 247.11 diff: 0.0 CNc1cccc(Nc2cnn(C)c2)c1[N+](=O)[O-] <|begin_of_text|>[SMILES]CNc1cccc(Nc2cnn(C)c2)c1[N+](=O)[O-][/SMILES][WEIGHT]247.11[/WEIGHT]\n",
      "GT: 488.09 Gen: 488.09 diff: 0.0 O=C(NCC(O)CN1CCOCC1)Nc1snc(OCc2ccc(Cl)cc2F)c1C(=O)O <|begin_of_text|>[SMILES]O=C(NCC(O)CN1CCOCC1)Nc1snc(OCc2ccc(Cl)cc2F)c1C(=O)O[/SMILES][WEIGHT]488.09[/WEIGHT]\n"
     ]
    },
    {
     "name": "stderr",
     "output_type": "stream",
     "text": [
      "The attention mask and the pad token id were not set. As a consequence, you may observe unexpected behavior. Please pass your input's `attention_mask` to obtain reliable results.\n",
      "Setting `pad_token_id` to `eos_token_id`:None for open-end generation.\n",
      "The attention mask and the pad token id were not set. As a consequence, you may observe unexpected behavior. Please pass your input's `attention_mask` to obtain reliable results.\n",
      "Setting `pad_token_id` to `eos_token_id`:None for open-end generation.\n",
      "The attention mask and the pad token id were not set. As a consequence, you may observe unexpected behavior. Please pass your input's `attention_mask` to obtain reliable results.\n",
      "Setting `pad_token_id` to `eos_token_id`:None for open-end generation.\n"
     ]
    },
    {
     "name": "stdout",
     "output_type": "stream",
     "text": [
      "GT: 306.14 Gen: 306.14 diff: 0.0 CCC(=O)c1sc(NC2C3C4CCC(C4)C23)c(OC)c1N <|begin_of_text|>[SMILES]CCC(=O)c1sc(NC2C3C4CCC(C4)C23)c(OC)c1N[/SMILES][WEIGHT]306.14[/WEIGHT]\n",
      "GT: 232.1 Gen: 232.1 diff: 0.0 CN(C)S(=O)(=O)NCCCc1ncc[nH]1 <|begin_of_text|>[SMILES]CN(C)S(=O)(=O)NCCCc1ncc[nH]1[/SMILES][WEIGHT]232.10[/WEIGHT]\n",
      "GT: 288.1 Gen: 288.1 diff: 0.0 Cc1ccc(F)c(OCc2cc(F)cc(C#CCO)c2)c1 <|begin_of_text|>[SMILES]Cc1ccc(F)c(OCc2cc(F)cc(C#CCO)c2)c1[/SMILES][WEIGHT]288.10[/WEIGHT]\n"
     ]
    },
    {
     "name": "stderr",
     "output_type": "stream",
     "text": [
      "The attention mask and the pad token id were not set. As a consequence, you may observe unexpected behavior. Please pass your input's `attention_mask` to obtain reliable results.\n",
      "Setting `pad_token_id` to `eos_token_id`:None for open-end generation.\n",
      "The attention mask and the pad token id were not set. As a consequence, you may observe unexpected behavior. Please pass your input's `attention_mask` to obtain reliable results.\n",
      "Setting `pad_token_id` to `eos_token_id`:None for open-end generation.\n",
      "The attention mask and the pad token id were not set. As a consequence, you may observe unexpected behavior. Please pass your input's `attention_mask` to obtain reliable results.\n",
      "Setting `pad_token_id` to `eos_token_id`:None for open-end generation.\n"
     ]
    },
    {
     "name": "stdout",
     "output_type": "stream",
     "text": [
      "GT: 358.17 Gen: 358.17 diff: 0.0 Cc1cc(C)c(S(=O)(=O)NCC2CCCN2c2ccccc2)c(C)c1 <|begin_of_text|>[SMILES]Cc1cc(C)c(S(=O)(=O)NCC2CCCN2c2ccccc2)c(C)c1[/SMILES][WEIGHT]358.17[/WEIGHT]\n",
      "GT: 341.0 Gen: 341.0 diff: 0.0 Cc1nn(C)c(Oc2ccc(Br)cc2[N+](=O)[O-])c1CO <|begin_of_text|>[SMILES]Cc1nn(C)c(Oc2ccc(Br)cc2[N+](=O)[O-])c1CO[/SMILES][WEIGHT]341.00[/WEIGHT]\n",
      "GT: 360.14 Gen: 360.14 diff: 0.0 CN=C(NCc1nc(-c2ccccc2)cs1)N1CCSC(C)(C)C1 <|begin_of_text|>[SMILES]CN=C(NCc1nc(-c2ccccc2)cs1)N1CCSC(C)(C)C1[/SMILES][WEIGHT]360.14[/WEIGHT]\n"
     ]
    },
    {
     "name": "stderr",
     "output_type": "stream",
     "text": [
      "The attention mask and the pad token id were not set. As a consequence, you may observe unexpected behavior. Please pass your input's `attention_mask` to obtain reliable results.\n",
      "Setting `pad_token_id` to `eos_token_id`:None for open-end generation.\n",
      "The attention mask and the pad token id were not set. As a consequence, you may observe unexpected behavior. Please pass your input's `attention_mask` to obtain reliable results.\n",
      "Setting `pad_token_id` to `eos_token_id`:None for open-end generation.\n",
      "The attention mask and the pad token id were not set. As a consequence, you may observe unexpected behavior. Please pass your input's `attention_mask` to obtain reliable results.\n",
      "Setting `pad_token_id` to `eos_token_id`:None for open-end generation.\n"
     ]
    },
    {
     "name": "stdout",
     "output_type": "stream",
     "text": [
      "GT: 483.15 Gen: 483.15 diff: 0.0 CC(C)NS(=O)(=O)[N-]Cc1ccccc1.O=C(O)c1cccc2c1cnn2-c1ccc(F)cc1 <|begin_of_text|>[SMILES]CC(C)NS(=O)(=O)[N-]Cc1ccccc1.O=C(O)c1cccc2c1cnn2-c1ccc(F)cc1[/SMILES][WEIGHT]483.15[/WEIGHT]\n",
      "GT: 436.17 Gen: 436.17 diff: 0.0 CCOc1ccc(-c2noc(Cn3c(=O)n(C(C)C)c(=O)c4ccccc43)n2)cc1OC <|begin_of_text|>[SMILES]CCOc1ccc(-c2noc(Cn3c(=O)n(C(C)C)c(=O)c4ccccc43)n2)cc1OC[/SMILES][WEIGHT]436.17[/WEIGHT]\n"
     ]
    },
    {
     "name": "stderr",
     "output_type": "stream",
     "text": [
      "The attention mask and the pad token id were not set. As a consequence, you may observe unexpected behavior. Please pass your input's `attention_mask` to obtain reliable results.\n",
      "Setting `pad_token_id` to `eos_token_id`:None for open-end generation.\n",
      "The attention mask and the pad token id were not set. As a consequence, you may observe unexpected behavior. Please pass your input's `attention_mask` to obtain reliable results.\n",
      "Setting `pad_token_id` to `eos_token_id`:None for open-end generation.\n"
     ]
    },
    {
     "name": "stdout",
     "output_type": "stream",
     "text": [
      "GT: 462.08 Gen: 462.08 diff: 0.0 O=C(CSc1nnnn1-c1ccc(Cl)cc1)Nc1cccc(Cl)c1N1CCCCC1 <|begin_of_text|>[SMILES]O=C(CSc1nnnn1-c1ccc(Cl)cc1)Nc1cccc(Cl)c1N1CCCCC1[/SMILES][WEIGHT]462.08[/WEIGHT]\n",
      "GT: 379.16 Gen: 379.16 diff: 0.0 Cc1ccccc1C1(O)CCN(C(=O)c2ccc(-c3ccc(F)cc3)o2)CC1 <|begin_of_text|>[SMILES]Cc1ccccc1C1(O)CCN(C(=O)c2ccc(-c3ccc(F)cc3)o2)CC1[/SMILES][WEIGHT]379.16[/WEIGHT]\n"
     ]
    },
    {
     "name": "stderr",
     "output_type": "stream",
     "text": [
      "The attention mask and the pad token id were not set. As a consequence, you may observe unexpected behavior. Please pass your input's `attention_mask` to obtain reliable results.\n",
      "Setting `pad_token_id` to `eos_token_id`:None for open-end generation.\n",
      "The attention mask and the pad token id were not set. As a consequence, you may observe unexpected behavior. Please pass your input's `attention_mask` to obtain reliable results.\n",
      "Setting `pad_token_id` to `eos_token_id`:None for open-end generation.\n"
     ]
    },
    {
     "name": "stdout",
     "output_type": "stream",
     "text": [
      "GT: 357.14 Gen: 357.14 diff: 0.0 CCc1ccc(NC(=O)NC(C)(C)CCC(=O)O)cc1S(N)(=O)=O <|begin_of_text|>[SMILES]CCc1ccc(NC(=O)NC(C)(C)CCC(=O)O)cc1S(N)(=O)=O[/SMILES][WEIGHT]357.14[/WEIGHT]\n",
      "GT: 356.17 Gen: 356.17 diff: 0.0 CCCOc1ccc(C=NNC(=O)COc2ccccc2C)cc1OC <|begin_of_text|>[SMILES]CCCOc1ccc(C=NNC(=O)COc2ccccc2C)cc1OC[/SMILES][WEIGHT]356.17[/WEIGHT]\n",
      "GT: 338.16 Gen: 338.16 diff: 0.0 CC(C)(C)OC(=O)NCC(=O)N1CCOC(c2ccccc2F)C1 <|begin_of_text|>[SMILES]CC(C)(C)OC(=O)NCC(=O)N1CCOC(c2ccccc2F)C1[/SMILES][WEIGHT]338.16[/WEIGHT]\n"
     ]
    },
    {
     "name": "stderr",
     "output_type": "stream",
     "text": [
      "The attention mask and the pad token id were not set. As a consequence, you may observe unexpected behavior. Please pass your input's `attention_mask` to obtain reliable results.\n",
      "Setting `pad_token_id` to `eos_token_id`:None for open-end generation.\n",
      "The attention mask and the pad token id were not set. As a consequence, you may observe unexpected behavior. Please pass your input's `attention_mask` to obtain reliable results.\n",
      "Setting `pad_token_id` to `eos_token_id`:None for open-end generation.\n",
      "The attention mask and the pad token id were not set. As a consequence, you may observe unexpected behavior. Please pass your input's `attention_mask` to obtain reliable results.\n",
      "Setting `pad_token_id` to `eos_token_id`:None for open-end generation.\n"
     ]
    },
    {
     "name": "stdout",
     "output_type": "stream",
     "text": [
      "GT: 327.08 Gen: 327.08 diff: 0.0 CCOc1cc(OC)c(Br)cc1CC1CCCNC1 <|begin_of_text|>[SMILES]CCOc1cc(OC)c(Br)cc1CC1CCCNC1[/SMILES][WEIGHT]327.08[/WEIGHT]\n",
      "GT: 430.12 Gen: 430.12 diff: 0.0 CCN(CC)C(=O)c1nn(-c2cccc(F)c2)c(=O)n(Cc2cccc(Cl)c2)c1=O <|begin_of_text|>[SMILES]CCN(CC)C(=O)c1nn(-c2cccc(F)c2)c(=O)n(Cc2cccc(Cl)c2)c1=O[/SMILES][WEIGHT]430.12[/WEIGHT]\n"
     ]
    },
    {
     "name": "stderr",
     "output_type": "stream",
     "text": [
      "The attention mask and the pad token id were not set. As a consequence, you may observe unexpected behavior. Please pass your input's `attention_mask` to obtain reliable results.\n",
      "Setting `pad_token_id` to `eos_token_id`:None for open-end generation.\n",
      "The attention mask and the pad token id were not set. As a consequence, you may observe unexpected behavior. Please pass your input's `attention_mask` to obtain reliable results.\n",
      "Setting `pad_token_id` to `eos_token_id`:None for open-end generation.\n"
     ]
    },
    {
     "name": "stdout",
     "output_type": "stream",
     "text": [
      "GT: 434.22 Gen: 434.22 diff: 0.0 CCCC(=O)n1cc(CCC(C)C)n(Cc2ccc(-c3ccccc3C(=O)O)cc2)c1=O <|begin_of_text|>[SMILES]CCCC(=O)n1cc(CCC(C)C)n(Cc2ccc(-c3ccccc3C(=O)O)cc2)c1=O[/SMILES][WEIGHT]434.22[/WEIGHT]\n",
      "GT: 593.15 Gen: 579.13 diff: 14.02 CON=C(C(=O)NC1C(=O)N2C(C(=O)OCOC(=O)C(C)(C)C)C(Cn3nnc(C)n3)=CSC12)c1csc(N)n1 <|begin_of_text|>[SMILES]CON=C(C(=O)NC1C(=O)N2C(C(=O)OCOC(=O)C(C)(C)C)C(Cn3nnc(C)n3)=CSC12)c1csc(N)n1[/SMILES][WEIGHT]579.13[/WEIGHT]\n"
     ]
    },
    {
     "name": "stderr",
     "output_type": "stream",
     "text": [
      "The attention mask and the pad token id were not set. As a consequence, you may observe unexpected behavior. Please pass your input's `attention_mask` to obtain reliable results.\n",
      "Setting `pad_token_id` to `eos_token_id`:None for open-end generation.\n",
      "The attention mask and the pad token id were not set. As a consequence, you may observe unexpected behavior. Please pass your input's `attention_mask` to obtain reliable results.\n",
      "Setting `pad_token_id` to `eos_token_id`:None for open-end generation.\n"
     ]
    },
    {
     "name": "stdout",
     "output_type": "stream",
     "text": [
      "GT: 200.09 Gen: 200.09 diff: 0.0 ONCc1ccccc1-c1ccncc1 <|begin_of_text|>[SMILES]ONCc1ccccc1-c1ccncc1[/SMILES][WEIGHT]200.09[/WEIGHT]\n",
      "GT: 318.02 Gen: 318.02 diff: 0.0 Cn1c(Cl)c(C=NOC(=O)c2cccs2)c2ccccc21 <|begin_of_text|>[SMILES]Cn1c(Cl)c(C=NOC(=O)c2cccs2)c2ccccc21[/SMILES][WEIGHT]318.02[/WEIGHT]\n",
      "GT: 229.1 Gen: 229.1 diff: 0.0 COc1cc(Cn2ncc(N)n2)ccc1C#N <|begin_of_text|>[SMILES]COc1cc(Cn2ncc(N)n2)ccc1C#N[/SMILES][WEIGHT]229.10[/WEIGHT]\n"
     ]
    },
    {
     "name": "stderr",
     "output_type": "stream",
     "text": [
      "The attention mask and the pad token id were not set. As a consequence, you may observe unexpected behavior. Please pass your input's `attention_mask` to obtain reliable results.\n",
      "Setting `pad_token_id` to `eos_token_id`:None for open-end generation.\n",
      "The attention mask and the pad token id were not set. As a consequence, you may observe unexpected behavior. Please pass your input's `attention_mask` to obtain reliable results.\n",
      "Setting `pad_token_id` to `eos_token_id`:None for open-end generation.\n",
      "The attention mask and the pad token id were not set. As a consequence, you may observe unexpected behavior. Please pass your input's `attention_mask` to obtain reliable results.\n",
      "Setting `pad_token_id` to `eos_token_id`:None for open-end generation.\n"
     ]
    },
    {
     "name": "stdout",
     "output_type": "stream",
     "text": [
      "GT: 541.27 Gen: 541.27 diff: 0.0 CCN(CC)C(C(=O)O)c1cc(NC(=O)c2c[nH]c3ccccc3c2=O)c(C(C)(C)C)cc1C(C)(C)C.Cl <|begin_of_text|>[SMILES]CCN(CC)C(C(=O)O)c1cc(NC(=O)c2c[nH]c3ccccc3c2=O)c(C(C)(C)C)cc1C(C)(C)C.Cl[/SMILES][WEIGHT]541.27[/WEIGHT]\n",
      "GT: 282.22 Gen: 282.22 diff: 0.0 CC(C(=O)NC(=O)NC1CCCC1)[NH+]1CCCCCC1 <|begin_of_text|>[SMILES]CC(C(=O)NC(=O)NC1CCCC1)[NH+]1CCCCCC1[/SMILES][WEIGHT]282.22[/WEIGHT]\n"
     ]
    },
    {
     "name": "stderr",
     "output_type": "stream",
     "text": [
      "The attention mask and the pad token id were not set. As a consequence, you may observe unexpected behavior. Please pass your input's `attention_mask` to obtain reliable results.\n",
      "Setting `pad_token_id` to `eos_token_id`:None for open-end generation.\n",
      "The attention mask and the pad token id were not set. As a consequence, you may observe unexpected behavior. Please pass your input's `attention_mask` to obtain reliable results.\n",
      "Setting `pad_token_id` to `eos_token_id`:None for open-end generation.\n",
      "The attention mask and the pad token id were not set. As a consequence, you may observe unexpected behavior. Please pass your input's `attention_mask` to obtain reliable results.\n"
     ]
    },
    {
     "name": "stdout",
     "output_type": "stream",
     "text": [
      "GT: 449.0 Gen: 449.0 diff: 0.0 COC(=O)C=C1SC(=NC(=O)c2ccc(Cl)cc2Cl)N(c2ccc(N)cc2)C1=O <|begin_of_text|>[SMILES]COC(=O)C=C1SC(=NC(=O)c2ccc(Cl)cc2Cl)N(c2ccc(N)cc2)C1=O[/SMILES][WEIGHT]449.00[/WEIGHT]\n",
      "GT: 193.08 Gen: 193.08 diff: 0.0 CCC1C(OS(C)(=O)=O)CN1C <|begin_of_text|>[SMILES]CCC1C(OS(C)(=O)=O)CN1C[/SMILES][WEIGHT]193.08[/WEIGHT]\n",
      "GT: 185.14 Gen: 185.14 diff: 0.0 CCC(=O)NCC1(CCOC)CC1 <|begin_of_text|>[SMILES]CCC(=O)NCC1(CCOC)CC1[/SMILES][WEIGHT]185.14[/WEIGHT]\n"
     ]
    },
    {
     "name": "stderr",
     "output_type": "stream",
     "text": [
      "Setting `pad_token_id` to `eos_token_id`:None for open-end generation.\n",
      "The attention mask and the pad token id were not set. As a consequence, you may observe unexpected behavior. Please pass your input's `attention_mask` to obtain reliable results.\n",
      "Setting `pad_token_id` to `eos_token_id`:None for open-end generation.\n",
      "The attention mask and the pad token id were not set. As a consequence, you may observe unexpected behavior. Please pass your input's `attention_mask` to obtain reliable results.\n",
      "Setting `pad_token_id` to `eos_token_id`:None for open-end generation.\n"
     ]
    },
    {
     "name": "stdout",
     "output_type": "stream",
     "text": [
      "GT: 313.12 Gen: 313.12 diff: 0.0 CN1C(=O)Cc2cc(-c3csc(N4CCCCC4)n3)ccc21 <|begin_of_text|>[SMILES]CN1C(=O)Cc2cc(-c3csc(N4CCCCC4)n3)ccc21[/SMILES][WEIGHT]313.12[/WEIGHT]\n",
      "GT: 220.07 Gen: 220.07 diff: 0.0 CCCCOc1cccc2c1C(=O)OC2=O <|begin_of_text|>[SMILES]CCCCOc1cccc2c1C(=O)OC2=O[/SMILES][WEIGHT]220.07[/WEIGHT]\n"
     ]
    },
    {
     "name": "stderr",
     "output_type": "stream",
     "text": [
      "The attention mask and the pad token id were not set. As a consequence, you may observe unexpected behavior. Please pass your input's `attention_mask` to obtain reliable results.\n",
      "Setting `pad_token_id` to `eos_token_id`:None for open-end generation.\n",
      "The attention mask and the pad token id were not set. As a consequence, you may observe unexpected behavior. Please pass your input's `attention_mask` to obtain reliable results.\n",
      "Setting `pad_token_id` to `eos_token_id`:None for open-end generation.\n",
      "The attention mask and the pad token id were not set. As a consequence, you may observe unexpected behavior. Please pass your input's `attention_mask` to obtain reliable results.\n",
      "Setting `pad_token_id` to `eos_token_id`:None for open-end generation.\n"
     ]
    },
    {
     "name": "stdout",
     "output_type": "stream",
     "text": [
      "GT: 274.99 Gen: 274.99 diff: 0.0 N#CCc1nc(CN)c(C(F)F)cc1Br <|begin_of_text|>[SMILES]N#CCc1nc(CN)c(C(F)F)cc1Br[/SMILES][WEIGHT]274.99[/WEIGHT]\n",
      "GT: 355.12 Gen: 355.12 diff: 0.0 FC(F)(F)c1cccc(OCCC2CNCCC2c2ccsc2)c1 <|begin_of_text|>[SMILES]FC(F)(F)c1cccc(OCCC2CNCCC2c2ccsc2)c1[/SMILES][WEIGHT]355.12[/WEIGHT]\n",
      "GT: 364.18 Gen: 364.18 diff: 0.0 CCc1ccc(C(=O)CCC(=O)Nc2ccc(C(=O)NC3CC3)cc2)cc1 <|begin_of_text|>[SMILES]CCc1ccc(C(=O)CCC(=O)Nc2ccc(C(=O)NC3CC3)cc2)cc1[/SMILES][WEIGHT]364.18[/WEIGHT]\n"
     ]
    },
    {
     "name": "stderr",
     "output_type": "stream",
     "text": [
      "The attention mask and the pad token id were not set. As a consequence, you may observe unexpected behavior. Please pass your input's `attention_mask` to obtain reliable results.\n",
      "Setting `pad_token_id` to `eos_token_id`:None for open-end generation.\n",
      "The attention mask and the pad token id were not set. As a consequence, you may observe unexpected behavior. Please pass your input's `attention_mask` to obtain reliable results.\n",
      "Setting `pad_token_id` to `eos_token_id`:None for open-end generation.\n",
      "The attention mask and the pad token id were not set. As a consequence, you may observe unexpected behavior. Please pass your input's `attention_mask` to obtain reliable results.\n",
      "Setting `pad_token_id` to `eos_token_id`:None for open-end generation.\n"
     ]
    },
    {
     "name": "stdout",
     "output_type": "stream",
     "text": [
      "GT: 463.26 Gen: 463.26 diff: 0.0 CC(=O)c1ccc(OCC(=O)N2CCc3ncnc(N4CCN(C5CCC5)CC4)c3CC2)cc1 <|begin_of_text|>[SMILES]CC(=O)c1ccc(OCC(=O)N2CCc3ncnc(N4CCN(C5CCC5)CC4)c3CC2)cc1[/SMILES][WEIGHT]463.26[/WEIGHT]\n",
      "GT: 245.13 Gen: 245.13 diff: 0.0 COCCCN(C)c1c(CCl)c(C)nn1C <|begin_of_text|>[SMILES]COCCCN(C)c1c(CCl)c(C)nn1C[/SMILES][WEIGHT]245.13[/WEIGHT]\n",
      "GT: 377.14 Gen: 377.14 diff: 0.0 CC(C)CCNC(=O)c1ccc(Oc2ccc(NS(C)(=O)=O)cc2)nc1 <|begin_of_text|>[SMILES]CC(C)CCNC(=O)c1ccc(Oc2ccc(NS(C)(=O)=O)cc2)nc1[/SMILES][WEIGHT]377.14[/WEIGHT]\n"
     ]
    },
    {
     "name": "stderr",
     "output_type": "stream",
     "text": [
      "The attention mask and the pad token id were not set. As a consequence, you may observe unexpected behavior. Please pass your input's `attention_mask` to obtain reliable results.\n",
      "Setting `pad_token_id` to `eos_token_id`:None for open-end generation.\n",
      "The attention mask and the pad token id were not set. As a consequence, you may observe unexpected behavior. Please pass your input's `attention_mask` to obtain reliable results.\n",
      "Setting `pad_token_id` to `eos_token_id`:None for open-end generation.\n",
      "The attention mask and the pad token id were not set. As a consequence, you may observe unexpected behavior. Please pass your input's `attention_mask` to obtain reliable results.\n",
      "Setting `pad_token_id` to `eos_token_id`:None for open-end generation.\n"
     ]
    },
    {
     "name": "stdout",
     "output_type": "stream",
     "text": [
      "GT: 130.99 Gen: 130.99 diff: 0.0 ClC1=NC2N=C(N1)O2 <|begin_of_text|>[SMILES]ClC1=NC2N=C(N1)O2[/SMILES][WEIGHT]130.99[/WEIGHT]\n",
      "GT: 535.25 Gen: 535.25 diff: 0.0 CCNC(=O)C(Cc1ccccc1)N(Cc1ccc(C)cc1)C(=O)CCCN(c1ccccc1)S(C)(=O)=O <|begin_of_text|>[SMILES]CCNC(=O)C(Cc1ccccc1)N(Cc1ccc(C)cc1)C(=O)CCCN(c1ccccc1)S(C)(=O)=O[/SMILES][WEIGHT]535.25[/WEIGHT]\n",
      "GT: 337.19 Gen: 337.19 diff: 0.0 CCn1ccnc1C1CCCN(C(=O)c2cn3cccc(C)c3n2)C1 <|begin_of_text|>[SMILES]CCn1ccnc1C1CCCN(C(=O)c2cn3cccc(C)c3n2)C1[/SMILES][WEIGHT]337.19[/WEIGHT]\n"
     ]
    },
    {
     "name": "stderr",
     "output_type": "stream",
     "text": [
      "The attention mask and the pad token id were not set. As a consequence, you may observe unexpected behavior. Please pass your input's `attention_mask` to obtain reliable results.\n",
      "Setting `pad_token_id` to `eos_token_id`:None for open-end generation.\n",
      "The attention mask and the pad token id were not set. As a consequence, you may observe unexpected behavior. Please pass your input's `attention_mask` to obtain reliable results.\n",
      "Setting `pad_token_id` to `eos_token_id`:None for open-end generation.\n"
     ]
    },
    {
     "name": "stdout",
     "output_type": "stream",
     "text": [
      "GT: 1119.5 Gen: 1092.49 diff: 27.01 CCc1nc2c(C)cc(N3CCN(CC(=O)N4CC(O)C4)C(C)(C)C3)cn2c1N(C)c1nc(-c2ccc(F)cc2)c(C#N)s1.CCc1nc2c(C)cc(N3CCNC(C)(C)C3)cn2c1N(C)c1nc(-c2ccc(F)cc2)c(C#N)s1 <|begin_of_text|>[SMILES]CCc1nc2c(C)cc(N3CCN(CC(=O)N4CC(O)C4)C(C)(C)C3)cn2c1N(C)c1nc(-c2ccc(F)cc2)c(C#N)s1.CCc1nc2c(C)cc(N3CCNC(C)(C)C3)cn2c1N(C)c1nc(-c2ccc(F)cc2)c(C#N)s1[/SMILES][WEIGHT]1092.49[/WEIGHT]\n",
      "GT: 388.33 Gen: 388.33 diff: 0.0 CCOC(=O)CCC(C)C1CCC2C3CCC4CCCCC4(C)C3CCC12C <|begin_of_text|>[SMILES]CCOC(=O)CCC(C)C1CCC2C3CCC4CCCCC4(C)C3CCC12C[/SMILES][WEIGHT]388.33[/WEIGHT]\n"
     ]
    },
    {
     "name": "stderr",
     "output_type": "stream",
     "text": [
      "The attention mask and the pad token id were not set. As a consequence, you may observe unexpected behavior. Please pass your input's `attention_mask` to obtain reliable results.\n",
      "Setting `pad_token_id` to `eos_token_id`:None for open-end generation.\n",
      "The attention mask and the pad token id were not set. As a consequence, you may observe unexpected behavior. Please pass your input's `attention_mask` to obtain reliable results.\n",
      "Setting `pad_token_id` to `eos_token_id`:None for open-end generation.\n",
      "The attention mask and the pad token id were not set. As a consequence, you may observe unexpected behavior. Please pass your input's `attention_mask` to obtain reliable results.\n",
      "Setting `pad_token_id` to `eos_token_id`:None for open-end generation.\n"
     ]
    },
    {
     "name": "stdout",
     "output_type": "stream",
     "text": [
      "GT: 1911.73 Gen: 1848.72 diff: 63.01 C.CCC(=O)SCC(C(=O)NC(CCCCN)C(=O)OC)N(C)C(=O)Oc1ccc2c(c1)Oc1cc(N(C)C)ccc1C21OC(=O)c2ccccc21.CCC(=O)SCC(C(=O)NC(CCCCNC(=O)OC(C)(C)C)C(=O)OC)N(C)C(=O)Oc1ccc2c(c1)Oc1cc(N(C)C)ccc1C21OC(=O)c2ccccc21.CN(C)c1ccc2c(c1)Oc1cc(O)ccc1C21OC(=O)c2ccccc21 <|begin_of_text|>[SMILES]C.CCC(=O)SCC(C(=O)NC(CCCCN)C(=O)OC)N(C)C(=O)Oc1ccc2c(c1)Oc1cc(N(C)C)ccc1C21OC(=O)c2ccccc21.CCC(=O)SCC(C(=O)NC(CCCCNC(=O)OC(C)(C)C)C(=O)OC)N(C)C(=O)Oc1ccc2c(c1)Oc1cc(N(C)C)ccc1C21OC(=O)c2ccccc21.CN(C)c1ccc2c(c1)Oc1cc(O)ccc1C21OC(=O)c2ccccc21[/SMILES][WEIGHT]1848.72[/WEIGHT]\n",
      "GT: 598.33 Gen: 598.33 diff: 0.0 CCC=CC(O)CC=CC=CCC=CCC=CCCCC(=O)OC(COC(=O)CCCCCCC)COP(=O)(O)O <|begin_of_text|>[SMILES]CCC=CC(O)CC=CC=CCC=CCC=CCCCC(=O)OC(COC(=O)CCCCCCC)COP(=O)(O)O[/SMILES][WEIGHT]598.33[/WEIGHT]\n",
      "GT: 453.18 Gen: 453.18 diff: 0.0 CC(C)(C)NOC(=O)Nc1c[nH]c2c(C(=O)NCc3ccc4c(c3)NC(=O)CO4)ncnc12 <|begin_of_text|>[SMILES]CC(C)(C)NOC(=O)Nc1c[nH]c2c(C(=O)NCc3ccc4c(c3)NC(=O)CO4)ncnc12[/SMILES][WEIGHT]453.18[/WEIGHT]\n"
     ]
    },
    {
     "name": "stderr",
     "output_type": "stream",
     "text": [
      "The attention mask and the pad token id were not set. As a consequence, you may observe unexpected behavior. Please pass your input's `attention_mask` to obtain reliable results.\n",
      "Setting `pad_token_id` to `eos_token_id`:None for open-end generation.\n",
      "The attention mask and the pad token id were not set. As a consequence, you may observe unexpected behavior. Please pass your input's `attention_mask` to obtain reliable results.\n",
      "Setting `pad_token_id` to `eos_token_id`:None for open-end generation.\n",
      "The attention mask and the pad token id were not set. As a consequence, you may observe unexpected behavior. Please pass your input's `attention_mask` to obtain reliable results.\n",
      "Setting `pad_token_id` to `eos_token_id`:None for open-end generation.\n"
     ]
    },
    {
     "name": "stdout",
     "output_type": "stream",
     "text": [
      "GT: 585.19 Gen: 585.19 diff: 0.0 COc1cc(F)cc(C(CO)NC(=O)C(C)n2cnn3cc(-c4nc(NC5CCC(O)C5)ncc4Cl)cc3c2=O)c1 <|begin_of_text|>[SMILES]COc1cc(F)cc(C(CO)NC(=O)C(C)n2cnn3cc(-c4nc(NC5CCC(O)C5)ncc4Cl)cc3c2=O)c1[/SMILES][WEIGHT]585.19[/WEIGHT]\n",
      "GT: 570.2 Gen: 570.2 diff: 0.0 CN1CCC(CN(C)C(=O)c2ccc(N3C(=S)N(c4cnc(C#N)c(C(F)(F)F)c4)C(=O)C34CCC4)cc2)CC1 <|begin_of_text|>[SMILES]CN1CCC(CN(C)C(=O)c2ccc(N3C(=S)N(c4cnc(C#N)c(C(F)(F)F)c4)C(=O)C34CCC4)cc2)CC1[/SMILES][WEIGHT]570.20[/WEIGHT]\n",
      "GT: 414.18 Gen: 414.18 diff: 0.0 CCC(C)n1nccc1NC(=O)C(C)Sc1nnc(-c2ccc(OC)cc2)n1C <|begin_of_text|>[SMILES]CCC(C)n1nccc1NC(=O)C(C)Sc1nnc(-c2ccc(OC)cc2)n1C[/SMILES][WEIGHT]414.18[/WEIGHT]\n"
     ]
    },
    {
     "name": "stderr",
     "output_type": "stream",
     "text": [
      "The attention mask and the pad token id were not set. As a consequence, you may observe unexpected behavior. Please pass your input's `attention_mask` to obtain reliable results.\n",
      "Setting `pad_token_id` to `eos_token_id`:None for open-end generation.\n",
      "The attention mask and the pad token id were not set. As a consequence, you may observe unexpected behavior. Please pass your input's `attention_mask` to obtain reliable results.\n",
      "Setting `pad_token_id` to `eos_token_id`:None for open-end generation.\n",
      "The attention mask and the pad token id were not set. As a consequence, you may observe unexpected behavior. Please pass your input's `attention_mask` to obtain reliable results.\n",
      "Setting `pad_token_id` to `eos_token_id`:None for open-end generation.\n"
     ]
    },
    {
     "name": "stdout",
     "output_type": "stream",
     "text": [
      "GT: 393.18 Gen: 393.18 diff: 0.0 Cn1c(=O)c2ccc(C(=O)Nc3ccccc3N3CCCCC3)nc2n(C)c1=O <|begin_of_text|>[SMILES]Cn1c(=O)c2ccc(C(=O)Nc3ccccc3N3CCCCC3)nc2n(C)c1=O[/SMILES][WEIGHT]393.18[/WEIGHT]\n",
      "GT: 230.12 Gen: 230.12 diff: 0.0 Cc1ccnc2c(NCC3CC3)c(F)ccc12 <|begin_of_text|>[SMILES]Cc1ccnc2c(NCC3CC3)c(F)ccc12[/SMILES][WEIGHT]230.12[/WEIGHT]\n",
      "GT: 363.19 Gen: 363.19 diff: 0.0 C=CC(=O)NC(C)c1nc2ccccc2n1CCOc1cc(C)cc(C)c1 <|begin_of_text|>[SMILES]C=CC(=O)NC(C)c1nc2ccccc2n1CCOc1cc(C)cc(C)c1[/SMILES][WEIGHT]363.19[/WEIGHT]\n"
     ]
    },
    {
     "name": "stderr",
     "output_type": "stream",
     "text": [
      "The attention mask and the pad token id were not set. As a consequence, you may observe unexpected behavior. Please pass your input's `attention_mask` to obtain reliable results.\n",
      "Setting `pad_token_id` to `eos_token_id`:None for open-end generation.\n",
      "The attention mask and the pad token id were not set. As a consequence, you may observe unexpected behavior. Please pass your input's `attention_mask` to obtain reliable results.\n",
      "Setting `pad_token_id` to `eos_token_id`:None for open-end generation.\n",
      "The attention mask and the pad token id were not set. As a consequence, you may observe unexpected behavior. Please pass your input's `attention_mask` to obtain reliable results.\n",
      "Setting `pad_token_id` to `eos_token_id`:None for open-end generation.\n"
     ]
    },
    {
     "name": "stdout",
     "output_type": "stream",
     "text": [
      "GT: 254.21 Gen: 254.21 diff: 0.0 C=CCNCC(=O)NCCCN1CCN(C)CC1 <|begin_of_text|>[SMILES]C=CCNCC(=O)NCCCN1CCN(C)CC1[/SMILES][WEIGHT]254.21[/WEIGHT]\n",
      "GT: 405.22 Gen: 405.22 diff: 0.0 CC(=O)N1c2ccc(-c3cnn(C4CC4)c3)c(OCc3ccn(C)n3)c2CCC1C <|begin_of_text|>[SMILES]CC(=O)N1c2ccc(-c3cnn(C4CC4)c3)c(OCc3ccn(C)n3)c2CCC1C[/SMILES][WEIGHT]405.22[/WEIGHT]\n",
      "GT: 310.18 Gen: 310.18 diff: 0.0 CNC(CC(=O)N=C(C)N)Cc1cccc(-c2cccnc2)c1 <|begin_of_text|>[SMILES]CNC(CC(=O)N=C(C)N)Cc1cccc(-c2cccnc2)c1[/SMILES][WEIGHT]310.18[/WEIGHT]\n"
     ]
    },
    {
     "name": "stderr",
     "output_type": "stream",
     "text": [
      "The attention mask and the pad token id were not set. As a consequence, you may observe unexpected behavior. Please pass your input's `attention_mask` to obtain reliable results.\n",
      "Setting `pad_token_id` to `eos_token_id`:None for open-end generation.\n",
      "The attention mask and the pad token id were not set. As a consequence, you may observe unexpected behavior. Please pass your input's `attention_mask` to obtain reliable results.\n",
      "Setting `pad_token_id` to `eos_token_id`:None for open-end generation.\n",
      "The attention mask and the pad token id were not set. As a consequence, you may observe unexpected behavior. Please pass your input's `attention_mask` to obtain reliable results.\n",
      "Setting `pad_token_id` to `eos_token_id`:None for open-end generation.\n"
     ]
    },
    {
     "name": "stdout",
     "output_type": "stream",
     "text": [
      "GT: 704.17 Gen: 704.17 diff: 0.0 COc1cc(OC)c2c(c1Cl)OC1(C2=O)C(O)=C(C(CC(=O)NCCc2nc(-c3ccccn3)no2)c2ccc(SC)cc2)C(=O)CC1C <|begin_of_text|>[SMILES]COc1cc(OC)c2c(c1Cl)OC1(C2=O)C(O)=C(C(CC(=O)NCCc2nc(-c3ccccn3)no2)c2ccc(SC)cc2)C(=O)CC1C[/SMILES][WEIGHT]704.17[/WEIGHT]\n",
      "GT: 400.18 Gen: 400.18 diff: 0.0 CCc1noc(CC)c1CNC(=NC)NCc1cnn(-c2ccc(Cl)cc2)c1 <|begin_of_text|>[SMILES]CCc1noc(CC)c1CNC(=NC)NCc1cnn(-c2ccc(Cl)cc2)c1[/SMILES][WEIGHT]400.18[/WEIGHT]\n",
      "GT: 535.35 Gen: 535.35 diff: 0.0 CCCCOC(=O)NC(CC(Cc1ccc(OC)c(OCCCOC)c1)C(C)C)C1CC(C(C)C)C(=O)O1 <|begin_of_text|>[SMILES]CCCCOC(=O)NC(CC(Cc1ccc(OC)c(OCCCOC)c1)C(C)C)C1CC(C(C)C)C(=O)O1[/SMILES][WEIGHT]535.35[/WEIGHT]\n"
     ]
    },
    {
     "name": "stderr",
     "output_type": "stream",
     "text": [
      "The attention mask and the pad token id were not set. As a consequence, you may observe unexpected behavior. Please pass your input's `attention_mask` to obtain reliable results.\n",
      "Setting `pad_token_id` to `eos_token_id`:None for open-end generation.\n",
      "The attention mask and the pad token id were not set. As a consequence, you may observe unexpected behavior. Please pass your input's `attention_mask` to obtain reliable results.\n",
      "Setting `pad_token_id` to `eos_token_id`:None for open-end generation.\n",
      "The attention mask and the pad token id were not set. As a consequence, you may observe unexpected behavior. Please pass your input's `attention_mask` to obtain reliable results.\n",
      "Setting `pad_token_id` to `eos_token_id`:None for open-end generation.\n"
     ]
    },
    {
     "name": "stdout",
     "output_type": "stream",
     "text": [
      "GT: 275.15 Gen: 275.15 diff: 0.0 CCC(C)C(NC(=O)C=Cc1ccc(C)cc1)C(=O)O <|begin_of_text|>[SMILES]CCC(C)C(NC(=O)C=Cc1ccc(C)cc1)C(=O)O[/SMILES][WEIGHT]275.15[/WEIGHT]\n",
      "GT: 327.19 Gen: 327.19 diff: 0.0 C=C(N(N)C=CC(C)(F)c1ccc(C)cc1)N(N)c1cccnc1 <|begin_of_text|>[SMILES]C=C(N(N)C=CC(C)(F)c1ccc(C)cc1)N(N)c1cccnc1[/SMILES][WEIGHT]327.19[/WEIGHT]\n",
      "GT: 285.22 Gen: 285.22 diff: 0.0 CCC(C)n1ccc(CC(N)Cc2ccc(C)c(C)c2)n1 <|begin_of_text|>[SMILES]CCC(C)n1ccc(CC(N)Cc2ccc(C)c(C)c2)n1[/SMILES][WEIGHT]285.22[/WEIGHT]\n"
     ]
    },
    {
     "name": "stderr",
     "output_type": "stream",
     "text": [
      "The attention mask and the pad token id were not set. As a consequence, you may observe unexpected behavior. Please pass your input's `attention_mask` to obtain reliable results.\n",
      "Setting `pad_token_id` to `eos_token_id`:None for open-end generation.\n",
      "The attention mask and the pad token id were not set. As a consequence, you may observe unexpected behavior. Please pass your input's `attention_mask` to obtain reliable results.\n",
      "Setting `pad_token_id` to `eos_token_id`:None for open-end generation.\n",
      "The attention mask and the pad token id were not set. As a consequence, you may observe unexpected behavior. Please pass your input's `attention_mask` to obtain reliable results.\n",
      "Setting `pad_token_id` to `eos_token_id`:None for open-end generation.\n"
     ]
    },
    {
     "name": "stdout",
     "output_type": "stream",
     "text": [
      "GT: 250.15 Gen: 250.15 diff: 0.0 CC(C)(C)c1nn(-c2ccccc2)c2ccccc12 <|begin_of_text|>[SMILES]CC(C)(C)c1nn(-c2ccccc2)c2ccccc12[/SMILES][WEIGHT]250.15[/WEIGHT]\n",
      "GT: 385.25 Gen: 385.25 diff: 0.0 CCOCC1CN(C(=O)Cc2ccn(C)n2)Cc2cnn(CC3CCCC3)c21 <|begin_of_text|>[SMILES]CCOCC1CN(C(=O)Cc2ccn(C)n2)Cc2cnn(CC3CCCC3)c21[/SMILES][WEIGHT]385.25[/WEIGHT]\n",
      "GT: 430.19 Gen: 430.19 diff: 0.0 CCC(C)c1ccc(S(=O)(=O)N2CCN(C(=O)c3ccc(COC)cc3)CC2)cc1 <|begin_of_text|>[SMILES]CCC(C)c1ccc(S(=O)(=O)N2CCN(C(=O)c3ccc(COC)cc3)CC2)cc1[/SMILES][WEIGHT]430.19[/WEIGHT]\n"
     ]
    },
    {
     "name": "stderr",
     "output_type": "stream",
     "text": [
      "The attention mask and the pad token id were not set. As a consequence, you may observe unexpected behavior. Please pass your input's `attention_mask` to obtain reliable results.\n",
      "Setting `pad_token_id` to `eos_token_id`:None for open-end generation.\n",
      "The attention mask and the pad token id were not set. As a consequence, you may observe unexpected behavior. Please pass your input's `attention_mask` to obtain reliable results.\n",
      "Setting `pad_token_id` to `eos_token_id`:None for open-end generation.\n"
     ]
    },
    {
     "name": "stdout",
     "output_type": "stream",
     "text": [
      "GT: 363.2 Gen: 363.2 diff: 0.0 COC(CNC(=NCc1cccs1)NCCc1ccco1)C(C)(C)C <|begin_of_text|>[SMILES]COC(CNC(=NCc1cccs1)NCCc1ccco1)C(C)(C)C[/SMILES][WEIGHT]363.20[/WEIGHT]\n",
      "GT: 465.23 Gen: 465.23 diff: 0.0 OCC1OC(OC2CC3C(O)CC(O)CC3[OH+]C2C2CCC(O)C(O)C2)C(O)C(O)C1O <|begin_of_text|>[SMILES]OCC1OC(OC2CC3C(O)CC(O)CC3[OH+]C2C2CCC(O)C(O)C2)C(O)C(O)C1O[/SMILES][WEIGHT]465.23[/WEIGHT]\n",
      "GT: 465.21 Gen: 465.21 diff: 0.0 CSc1ccc(N2CC(C(=O)Nc3ccc(C(=O)N(C)C4CCCCC4)cc3)CC2=O)cc1 <|begin_of_text|>[SMILES]CSc1ccc(N2CC(C(=O)Nc3ccc(C(=O)N(C)C4CCCCC4)cc3)CC2=O)cc1[/SMILES][WEIGHT]465.21[/WEIGHT]\n"
     ]
    },
    {
     "name": "stderr",
     "output_type": "stream",
     "text": [
      "The attention mask and the pad token id were not set. As a consequence, you may observe unexpected behavior. Please pass your input's `attention_mask` to obtain reliable results.\n",
      "Setting `pad_token_id` to `eos_token_id`:None for open-end generation.\n",
      "The attention mask and the pad token id were not set. As a consequence, you may observe unexpected behavior. Please pass your input's `attention_mask` to obtain reliable results.\n",
      "Setting `pad_token_id` to `eos_token_id`:None for open-end generation.\n",
      "The attention mask and the pad token id were not set. As a consequence, you may observe unexpected behavior. Please pass your input's `attention_mask` to obtain reliable results.\n",
      "Setting `pad_token_id` to `eos_token_id`:None for open-end generation.\n",
      "The attention mask and the pad token id were not set. As a consequence, you may observe unexpected behavior. Please pass your input's `attention_mask` to obtain reliable results.\n",
      "Setting `pad_token_id` to `eos_token_id`:None for open-end generation.\n"
     ]
    },
    {
     "name": "stdout",
     "output_type": "stream",
     "text": [
      "GT: 220.04 Gen: 220.04 diff: 0.0 COc1cccc2c1C(=O)C(O)=C(O)C2=O <|begin_of_text|>[SMILES]COc1cccc2c1C(=O)C(O)=C(O)C2=O[/SMILES][WEIGHT]220.04[/WEIGHT]\n",
      "GT: 446.19 Gen: 446.19 diff: 0.0 Cc1ccccc1C(C)COC(=O)Nc1ccc(S(=O)(=O)C(C)C)c(CN(C)C=O)c1 <|begin_of_text|>[SMILES]Cc1ccccc1C(C)COC(=O)Nc1ccc(S(=O)(=O)C(C)C)c(CN(C)C=O)c1[/SMILES][WEIGHT]446.19[/WEIGHT]\n",
      "GT: 409.11 Gen: 409.11 diff: 0.0 CC1(NC(=O)CCc2nc3sc4c(c3c(=O)[nH]2)CCCC4)CCS(=O)(=O)C1 <|begin_of_text|>[SMILES]CC1(NC(=O)CCc2nc3sc4c(c3c(=O)[nH]2)CCCC4)CCS(=O)(=O)C1[/SMILES][WEIGHT]409.11[/WEIGHT]\n"
     ]
    },
    {
     "name": "stderr",
     "output_type": "stream",
     "text": [
      "The attention mask and the pad token id were not set. As a consequence, you may observe unexpected behavior. Please pass your input's `attention_mask` to obtain reliable results.\n",
      "Setting `pad_token_id` to `eos_token_id`:None for open-end generation.\n",
      "The attention mask and the pad token id were not set. As a consequence, you may observe unexpected behavior. Please pass your input's `attention_mask` to obtain reliable results.\n",
      "Setting `pad_token_id` to `eos_token_id`:None for open-end generation.\n",
      "The attention mask and the pad token id were not set. As a consequence, you may observe unexpected behavior. Please pass your input's `attention_mask` to obtain reliable results.\n",
      "Setting `pad_token_id` to `eos_token_id`:None for open-end generation.\n"
     ]
    },
    {
     "name": "stdout",
     "output_type": "stream",
     "text": [
      "GT: 289.12 Gen: 289.12 diff: 0.0 CCCNc1ncc(C)c(Oc2ccccc2SC)n1 <|begin_of_text|>[SMILES]CCCNc1ncc(C)c(Oc2ccccc2SC)n1[/SMILES][WEIGHT]289.12[/WEIGHT]\n",
      "GT: 238.19 Gen: 238.19 diff: 0.0 C=CCC1(O)CCC(C(=O)CCCC)C(C)C1 <|begin_of_text|>[SMILES]C=CCC1(O)CCC(C(=O)CCCC)C(C)C1[/SMILES][WEIGHT]238.19[/WEIGHT]\n",
      "GT: 234.08 Gen: 234.08 diff: 0.0 O=C(O)Cc1cc(=O)n2[nH]c(C3CC3)nc2n1 <|begin_of_text|>[SMILES]O=C(O)Cc1cc(=O)n2[nH]c(C3CC3)nc2n1[/SMILES][WEIGHT]234.08[/WEIGHT]\n"
     ]
    },
    {
     "name": "stderr",
     "output_type": "stream",
     "text": [
      "The attention mask and the pad token id were not set. As a consequence, you may observe unexpected behavior. Please pass your input's `attention_mask` to obtain reliable results.\n",
      "Setting `pad_token_id` to `eos_token_id`:None for open-end generation.\n",
      "The attention mask and the pad token id were not set. As a consequence, you may observe unexpected behavior. Please pass your input's `attention_mask` to obtain reliable results.\n",
      "Setting `pad_token_id` to `eos_token_id`:None for open-end generation.\n"
     ]
    },
    {
     "name": "stdout",
     "output_type": "stream",
     "text": [
      "GT: 492.15 Gen: 492.15 diff: 0.0 CC.CC(C)Cc1sc(Nc2cccc(C(=O)NCCN)c2)nc1-c1ccc(Cl)c(Cl)c1 <|begin_of_text|>[SMILES]CC.CC(C)Cc1sc(Nc2cccc(C(=O)NCCN)c2)nc1-c1ccc(Cl)c(Cl)c1[/SMILES][WEIGHT]492.15[/WEIGHT]\n",
      "GT: 329.17 Gen: 329.17 diff: 0.0 Cc1oc(-n2cccc2)c(C#N)c1C(=O)NCC(C)(C)CC(C)O <|begin_of_text|>[SMILES]Cc1oc(-n2cccc2)c(C#N)c1C(=O)NCC(C)(C)CC(C)O[/SMILES][WEIGHT]329.17[/WEIGHT]\n",
      "GT: 409.14 Gen: 409.14 diff: 0.0 CCc1noc(C(C)Sc2nnc(-c3ccccc3F)n2-c2ccc(C)cc2)n1 <|begin_of_text|>[SMILES]CCc1noc(C(C)Sc2nnc(-c3ccccc3F)n2-c2ccc(C)cc2)n1[/SMILES][WEIGHT]409.14[/WEIGHT]\n"
     ]
    },
    {
     "name": "stderr",
     "output_type": "stream",
     "text": [
      "The attention mask and the pad token id were not set. As a consequence, you may observe unexpected behavior. Please pass your input's `attention_mask` to obtain reliable results.\n",
      "Setting `pad_token_id` to `eos_token_id`:None for open-end generation.\n",
      "The attention mask and the pad token id were not set. As a consequence, you may observe unexpected behavior. Please pass your input's `attention_mask` to obtain reliable results.\n",
      "Setting `pad_token_id` to `eos_token_id`:None for open-end generation.\n",
      "The attention mask and the pad token id were not set. As a consequence, you may observe unexpected behavior. Please pass your input's `attention_mask` to obtain reliable results.\n",
      "Setting `pad_token_id` to `eos_token_id`:None for open-end generation.\n"
     ]
    },
    {
     "name": "stdout",
     "output_type": "stream",
     "text": [
      "GT: 485.21 Gen: 485.21 diff: 0.0 CC(CC(C)(C)O)OC(=O)CC1CN(C2=Nc3cc(Cl)ccc3Oc3ccccc32)CCN1C <|begin_of_text|>[SMILES]CC(CC(C)(C)O)OC(=O)CC1CN(C2=Nc3cc(Cl)ccc3Oc3ccccc32)CCN1C[/SMILES][WEIGHT]485.21[/WEIGHT]\n",
      "GT: 370.28 Gen: 370.28 diff: 0.0 CCNC(=NCC(c1ccccc1)N(CC)CC)NCCn1cc(C)cn1 <|begin_of_text|>[SMILES]CCNC(=NCC(c1ccccc1)N(CC)CC)NCCn1cc(C)cn1[/SMILES][WEIGHT]370.28[/WEIGHT]\n",
      "GT: 408.14 Gen: 408.14 diff: 0.0 Cc1ccc(C2C3=C(CC(C)(C)CC3=O)Nc3nc(-c4ccc(Cl)cc4)nn32)o1 <|begin_of_text|>[SMILES]Cc1ccc(C2C3=C(CC(C)(C)CC3=O)Nc3nc(-c4ccc(Cl)cc4)nn32)o1[/SMILES][WEIGHT]408.14[/WEIGHT]\n"
     ]
    },
    {
     "name": "stderr",
     "output_type": "stream",
     "text": [
      "The attention mask and the pad token id were not set. As a consequence, you may observe unexpected behavior. Please pass your input's `attention_mask` to obtain reliable results.\n",
      "Setting `pad_token_id` to `eos_token_id`:None for open-end generation.\n",
      "The attention mask and the pad token id were not set. As a consequence, you may observe unexpected behavior. Please pass your input's `attention_mask` to obtain reliable results.\n",
      "Setting `pad_token_id` to `eos_token_id`:None for open-end generation.\n",
      "The attention mask and the pad token id were not set. As a consequence, you may observe unexpected behavior. Please pass your input's `attention_mask` to obtain reliable results.\n",
      "Setting `pad_token_id` to `eos_token_id`:None for open-end generation.\n",
      "The attention mask and the pad token id were not set. As a consequence, you may observe unexpected behavior. Please pass your input's `attention_mask` to obtain reliable results.\n",
      "Setting `pad_token_id` to `eos_token_id`:None for open-end generation.\n"
     ]
    },
    {
     "name": "stdout",
     "output_type": "stream",
     "text": [
      "GT: 327.16 Gen: 327.16 diff: 0.0 Cc1ccc(C(=O)N(Cc2ccccc2F)CC2CCCO2)cc1 <|begin_of_text|>[SMILES]Cc1ccc(C(=O)N(Cc2ccccc2F)CC2CCCO2)cc1[/SMILES][WEIGHT]327.16[/WEIGHT]\n",
      "GT: 468.2 Gen: 468.2 diff: 0.0 O=C1CCCC(O)=C1C(CCc1noc2c1C(=O)CC(c1ccccc1)C2)=NCc1ccccc1 <|begin_of_text|>[SMILES]O=C1CCCC(O)=C1C(CCc1noc2c1C(=O)CC(c1ccccc1)C2)=NCc1ccccc1[/SMILES][WEIGHT]468.20[/WEIGHT]\n",
      "GT: 298.13 Gen: 298.13 diff: 0.0 COc1ccc(NC(=O)C=Cc2ccc(C3CC3C)o2)cn1 <|begin_of_text|>[SMILES]COc1ccc(NC(=O)C=Cc2ccc(C3CC3C)o2)cn1[/SMILES][WEIGHT]298.13[/WEIGHT]\n"
     ]
    },
    {
     "name": "stderr",
     "output_type": "stream",
     "text": [
      "The attention mask and the pad token id were not set. As a consequence, you may observe unexpected behavior. Please pass your input's `attention_mask` to obtain reliable results.\n",
      "Setting `pad_token_id` to `eos_token_id`:None for open-end generation.\n",
      "The attention mask and the pad token id were not set. As a consequence, you may observe unexpected behavior. Please pass your input's `attention_mask` to obtain reliable results.\n",
      "Setting `pad_token_id` to `eos_token_id`:None for open-end generation.\n",
      "The attention mask and the pad token id were not set. As a consequence, you may observe unexpected behavior. Please pass your input's `attention_mask` to obtain reliable results.\n",
      "Setting `pad_token_id` to `eos_token_id`:None for open-end generation.\n"
     ]
    },
    {
     "name": "stdout",
     "output_type": "stream",
     "text": [
      "GT: 364.01 Gen: 364.01 diff: 0.0 CC1(C(=O)NS(=O)(=O)c2cc(Cl)ccc2Cl)CCC(=O)NC1 <|begin_of_text|>[SMILES]CC1(C(=O)NS(=O)(=O)c2cc(Cl)ccc2Cl)CCC(=O)NC1[/SMILES][WEIGHT]364.01[/WEIGHT]\n",
      "GT: 359.11 Gen: 359.11 diff: 0.0 Cc1c2ccccc2nn1CCCNC(=O)c1nn2c(c1Cl)OCC2 <|begin_of_text|>[SMILES]Cc1c2ccccc2nn1CCCNC(=O)c1nn2c(c1Cl)OCC2[/SMILES][WEIGHT]359.11[/WEIGHT]\n",
      "GT: 358.27 Gen: 358.27 diff: 0.0 CCNC(=NCc1ccc(CN2CCOCC2)cc1)N1CCC(C)CC1 <|begin_of_text|>[SMILES]CCNC(=NCc1ccc(CN2CCOCC2)cc1)N1CCC(C)CC1[/SMILES][WEIGHT]358.27[/WEIGHT]\n"
     ]
    },
    {
     "name": "stderr",
     "output_type": "stream",
     "text": [
      "The attention mask and the pad token id were not set. As a consequence, you may observe unexpected behavior. Please pass your input's `attention_mask` to obtain reliable results.\n",
      "Setting `pad_token_id` to `eos_token_id`:None for open-end generation.\n",
      "The attention mask and the pad token id were not set. As a consequence, you may observe unexpected behavior. Please pass your input's `attention_mask` to obtain reliable results.\n",
      "Setting `pad_token_id` to `eos_token_id`:None for open-end generation.\n"
     ]
    },
    {
     "name": "stdout",
     "output_type": "stream",
     "text": [
      "GT: 359.14 Gen: 359.14 diff: 0.0 CN1CN(C(=O)c2ccc(F)cc2)N=C(c2ccccc2)c2ccccc21 <|begin_of_text|>[SMILES]CN1CN(C(=O)c2ccc(F)cc2)N=C(c2ccccc2)c2ccccc21[/SMILES][WEIGHT]359.14[/WEIGHT]\n",
      "GT: 392.15 Gen: 392.15 diff: 0.0 CCOc1ccc(S(=O)(=O)NCC2(C)CCNCC2)cc1OCC.Cl <|begin_of_text|>[SMILES]CCOc1ccc(S(=O)(=O)NCC2(C)CCNCC2)cc1OCC.Cl[/SMILES][WEIGHT]392.15[/WEIGHT]\n",
      "GT: 231.12 Gen: 231.12 diff: 0.0 NCCc1nc(C2CCC(F)(F)CC2)no1 <|begin_of_text|>[SMILES]NCCc1nc(C2CCC(F)(F)CC2)no1[/SMILES][WEIGHT]231.12[/WEIGHT]\n"
     ]
    },
    {
     "name": "stderr",
     "output_type": "stream",
     "text": [
      "The attention mask and the pad token id were not set. As a consequence, you may observe unexpected behavior. Please pass your input's `attention_mask` to obtain reliable results.\n",
      "Setting `pad_token_id` to `eos_token_id`:None for open-end generation.\n",
      "The attention mask and the pad token id were not set. As a consequence, you may observe unexpected behavior. Please pass your input's `attention_mask` to obtain reliable results.\n",
      "Setting `pad_token_id` to `eos_token_id`:None for open-end generation.\n",
      "The attention mask and the pad token id were not set. As a consequence, you may observe unexpected behavior. Please pass your input's `attention_mask` to obtain reliable results.\n",
      "Setting `pad_token_id` to `eos_token_id`:None for open-end generation.\n"
     ]
    },
    {
     "name": "stdout",
     "output_type": "stream",
     "text": [
      "GT: 256.07 Gen: 256.07 diff: 0.0 COc1cc(O)c2c(c1)Oc1ccccc1CC2=O <|begin_of_text|>[SMILES]COc1cc(O)c2c(c1)Oc1ccccc1CC2=O[/SMILES][WEIGHT]256.07[/WEIGHT]\n",
      "GT: 181.94 Gen: 181.94 diff: 0.0 C1CO[SnH2]O1 <|begin_of_text|>[SMILES]C1CO[SnH2]O1[/SMILES][WEIGHT]181.94[/WEIGHT]\n",
      "GT: 471.03 Gen: 471.03 diff: 0.0 Cn1c(=O)c2c(-c3ccccc3Br)n3c(c2n(C)c1=O)C(c1cccs1)OCC3 <|begin_of_text|>[SMILES]Cn1c(=O)c2c(-c3ccccc3Br)n3c(c2n(C)c1=O)C(c1cccs1)OCC3[/SMILES][WEIGHT]471.03[/WEIGHT]\n"
     ]
    },
    {
     "name": "stderr",
     "output_type": "stream",
     "text": [
      "The attention mask and the pad token id were not set. As a consequence, you may observe unexpected behavior. Please pass your input's `attention_mask` to obtain reliable results.\n",
      "Setting `pad_token_id` to `eos_token_id`:None for open-end generation.\n",
      "The attention mask and the pad token id were not set. As a consequence, you may observe unexpected behavior. Please pass your input's `attention_mask` to obtain reliable results.\n",
      "Setting `pad_token_id` to `eos_token_id`:None for open-end generation.\n",
      "The attention mask and the pad token id were not set. As a consequence, you may observe unexpected behavior. Please pass your input's `attention_mask` to obtain reliable results.\n",
      "Setting `pad_token_id` to `eos_token_id`:None for open-end generation.\n"
     ]
    },
    {
     "name": "stdout",
     "output_type": "stream",
     "text": [
      "GT: 585.23 Gen: 585.23 diff: 0.0 COc1ccc(N(CC(=O)N(Cc2ccccc2F)C(Cc2ccccc2)C(=O)NC(C)C)S(C)(=O)=O)cc1OC <|begin_of_text|>[SMILES]COc1ccc(N(CC(=O)N(Cc2ccccc2F)C(Cc2ccccc2)C(=O)NC(C)C)S(C)(=O)=O)cc1OC[/SMILES][WEIGHT]585.23[/WEIGHT]\n",
      "GT: 389.15 Gen: 389.15 diff: 0.0 Cc1nc(NCCNC(=O)c2cccc(C(F)(F)F)c2)cc(-n2cccc2)n1 <|begin_of_text|>[SMILES]Cc1nc(NCCNC(=O)c2cccc(C(F)(F)F)c2)cc(-n2cccc2)n1[/SMILES][WEIGHT]389.15[/WEIGHT]\n",
      "GT: 443.15 Gen: 443.15 diff: 0.0 Cl.NCc1ccc(COc2ccc(C(=O)CC3CCCC3)c(O)c2C(F)(F)F)cc1 <|begin_of_text|>[SMILES]Cl.NCc1ccc(COc2ccc(C(=O)CC3CCCC3)c(O)c2C(F)(F)F)cc1[/SMILES][WEIGHT]443.15[/WEIGHT]\n"
     ]
    },
    {
     "name": "stderr",
     "output_type": "stream",
     "text": [
      "The attention mask and the pad token id were not set. As a consequence, you may observe unexpected behavior. Please pass your input's `attention_mask` to obtain reliable results.\n",
      "Setting `pad_token_id` to `eos_token_id`:None for open-end generation.\n",
      "The attention mask and the pad token id were not set. As a consequence, you may observe unexpected behavior. Please pass your input's `attention_mask` to obtain reliable results.\n",
      "Setting `pad_token_id` to `eos_token_id`:None for open-end generation.\n",
      "The attention mask and the pad token id were not set. As a consequence, you may observe unexpected behavior. Please pass your input's `attention_mask` to obtain reliable results.\n",
      "Setting `pad_token_id` to `eos_token_id`:None for open-end generation.\n"
     ]
    },
    {
     "name": "stdout",
     "output_type": "stream",
     "text": [
      "GT: 2209.2 Gen: 2109.15 diff: 100.05 CC(=O)OCC1=CC2(O)OC1CC1C3=C(C(C)C)CCC3(C)CCC12C.CC(C)C(=O)CCC1(C)CCC2(C)C(CC=C3C(O)C4(O)COC5OC2C3C5(O)C4O)C1=O.CC(C)C(=O)CCC1(C)CCC2(C)C(CCC3C(O)OC4(O)C(O)COC5OC2C3C54O)C1=O.CC(C)C1=C2C3=CC=C(C(=O)[O-])CC(OC4OCC(O)C(O)C4O)C3(C)CCC2(C)CC1.CC(C)C1=C2C3CC=C4C(O)C5(O)COC6OC(C4C6(O)C5O)C3(C)CCC2(C)CC1.[Na+] <|begin_of_text|>[SMILES]CC(=O)OCC1=CC2(O)OC1CC1C3=C(C(C)C)CCC3(C)CCC12C.CC(C)C(=O)CCC1(C)CCC2(C)C(CC=C3C(O)C4(O)COC5OC2C3C5(O)C4O)C1=O.CC(C)C(=O)CCC1(C)CCC2(C)C(CCC3C(O)OC4(O)C(O)COC5OC2C3C54O)C1=O.CC(C)C1=C2C3=CC=C(C(=O)[O-])CC(OC4OCC(O)C(O)C4O)C3(C)CCC2(C)CC1.CC(C)C1=C2C3CC=C4C(O)C5(O)COC6OC(C4C6(O)C5O)C3(C)CCC2(C)CC1.[Na+][/SMILES][WEIGHT]2109.15[/WEIGHT]\n",
      "GT: 549.13 Gen: 549.13 diff: 0.0 CCOc1cc(C2C(C(=O)Nc3ccc(Cl)cc3)=C(C)Nc3ncnn32)ccc1OCc1ccccc1Cl <|begin_of_text|>[SMILES]CCOc1cc(C2C(C(=O)Nc3ccc(Cl)cc3)=C(C)Nc3ncnn32)ccc1OCc1ccccc1Cl[/SMILES][WEIGHT]549.13[/WEIGHT]\n"
     ]
    },
    {
     "name": "stderr",
     "output_type": "stream",
     "text": [
      "The attention mask and the pad token id were not set. As a consequence, you may observe unexpected behavior. Please pass your input's `attention_mask` to obtain reliable results.\n",
      "Setting `pad_token_id` to `eos_token_id`:None for open-end generation.\n",
      "The attention mask and the pad token id were not set. As a consequence, you may observe unexpected behavior. Please pass your input's `attention_mask` to obtain reliable results.\n",
      "Setting `pad_token_id` to `eos_token_id`:None for open-end generation.\n"
     ]
    },
    {
     "name": "stdout",
     "output_type": "stream",
     "text": [
      "GT: 610.26 Gen: 610.26 diff: 0.0 CC1CCCC(C)C1n1c(-c2cccs2)nc2cc(C(=O)NC3(C(=O)Nc4ccc(C=CC(=O)O)cc4)CCCC3)ccc21 <|begin_of_text|>[SMILES]CC1CCCC(C)C1n1c(-c2cccs2)nc2cc(C(=O)NC3(C(=O)Nc4ccc(C=CC(=O)O)cc4)CCCC3)ccc21[/SMILES][WEIGHT]610.26[/WEIGHT]\n",
      "GT: 209.19 Gen: 209.19 diff: 0.0 CCC(CC)n1nc(C)c(C(C)N)c1C <|begin_of_text|>[SMILES]CCC(CC)n1nc(C)c(C(C)N)c1C[/SMILES][WEIGHT]209.19[/WEIGHT]\n",
      "GT: 334.03 Gen: 334.03 diff: 0.0 Nc1nc(C(F)(F)F)nn1-c1cc(S)c(C2CC2)cc1Cl <|begin_of_text|>[SMILES]Nc1nc(C(F)(F)F)nn1-c1cc(S)c(C2CC2)cc1Cl[/SMILES][WEIGHT]334.03[/WEIGHT]\n"
     ]
    },
    {
     "name": "stderr",
     "output_type": "stream",
     "text": [
      "/auto/home/menuab/miniforge3/envs/llama3/lib/python3.10/site-packages/sklearn/metrics/_regression.py:492: FutureWarning: 'squared' is deprecated in version 1.4 and will be removed in 1.6. To calculate the root mean squared error, use the function'root_mean_squared_error'.\n",
      "  warnings.warn(\n",
      "The attention mask and the pad token id were not set. As a consequence, you may observe unexpected behavior. Please pass your input's `attention_mask` to obtain reliable results.\n",
      "Setting `pad_token_id` to `eos_token_id`:None for open-end generation.\n",
      "The attention mask and the pad token id were not set. As a consequence, you may observe unexpected behavior. Please pass your input's `attention_mask` to obtain reliable results.\n",
      "Setting `pad_token_id` to `eos_token_id`:None for open-end generation.\n",
      "The attention mask and the pad token id were not set. As a consequence, you may observe unexpected behavior. Please pass your input's `attention_mask` to obtain reliable results.\n",
      "Setting `pad_token_id` to `eos_token_id`:None for open-end generation.\n"
     ]
    },
    {
     "name": "stdout",
     "output_type": "stream",
     "text": [
      "GT: 0.18 Gen: 0.18 diff: 0.0 CC(=O)Nc1ccc(C(=O)NN=Cc2cccc([N+](=O)[O-])c2OC(=O)c2cccc(C)c2)cc1 <|begin_of_text|>[SMILES]CC(=O)Nc1ccc(C(=O)NN=Cc2cccc([N+](=O)[O-])c2OC(=O)c2cccc(C)c2)cc1[/SMILES][QED]0.18[/QED]\n",
      "GT: 0.56 Gen: 0.56 diff: 0.0 CCNC(=NCC(C)Cc1cccs1)NC1CCN(c2ncccc2F)C1 <|begin_of_text|>[SMILES]CCNC(=NCC(C)Cc1cccs1)NC1CCN(c2ncccc2F)C1[/SMILES][QED]0.56[/QED]\n"
     ]
    },
    {
     "name": "stderr",
     "output_type": "stream",
     "text": [
      "The attention mask and the pad token id were not set. As a consequence, you may observe unexpected behavior. Please pass your input's `attention_mask` to obtain reliable results.\n",
      "Setting `pad_token_id` to `eos_token_id`:None for open-end generation.\n",
      "The attention mask and the pad token id were not set. As a consequence, you may observe unexpected behavior. Please pass your input's `attention_mask` to obtain reliable results.\n",
      "Setting `pad_token_id` to `eos_token_id`:None for open-end generation.\n"
     ]
    },
    {
     "name": "stdout",
     "output_type": "stream",
     "text": [
      "GT: 0.67 Gen: 0.67 diff: 0.0 CCOC(=O)C1C(C)NNC1S(=O)(=O)Nc1cccc(CC)c1 <|begin_of_text|>[SMILES]CCOC(=O)C1C(C)NNC1S(=O)(=O)Nc1cccc(CC)c1[/SMILES][QED]0.67[/QED]\n",
      "GT: 0.87 Gen: 0.87 diff: 0.0 CCc1n[nH]c2c(c1=S)CN(C(=O)c1ccccc1)CC2 <|begin_of_text|>[SMILES]CCc1n[nH]c2c(c1=S)CN(C(=O)c1ccccc1)CC2[/SMILES][QED]0.87[/QED]\n",
      "GT: 0.64 Gen: 0.64 diff: 0.0 CNc1cccc(Nc2cnn(C)c2)c1[N+](=O)[O-] <|begin_of_text|>[SMILES]CNc1cccc(Nc2cnn(C)c2)c1[N+](=O)[O-][/SMILES][QED]0.64[/QED]\n"
     ]
    },
    {
     "name": "stderr",
     "output_type": "stream",
     "text": [
      "The attention mask and the pad token id were not set. As a consequence, you may observe unexpected behavior. Please pass your input's `attention_mask` to obtain reliable results.\n",
      "Setting `pad_token_id` to `eos_token_id`:None for open-end generation.\n",
      "The attention mask and the pad token id were not set. As a consequence, you may observe unexpected behavior. Please pass your input's `attention_mask` to obtain reliable results.\n",
      "Setting `pad_token_id` to `eos_token_id`:None for open-end generation.\n",
      "The attention mask and the pad token id were not set. As a consequence, you may observe unexpected behavior. Please pass your input's `attention_mask` to obtain reliable results.\n",
      "Setting `pad_token_id` to `eos_token_id`:None for open-end generation.\n"
     ]
    },
    {
     "name": "stdout",
     "output_type": "stream",
     "text": [
      "GT: 0.42 Gen: 0.42 diff: 0.0 O=C(NCC(O)CN1CCOCC1)Nc1snc(OCc2ccc(Cl)cc2F)c1C(=O)O <|begin_of_text|>[SMILES]O=C(NCC(O)CN1CCOCC1)Nc1snc(OCc2ccc(Cl)cc2F)c1C(=O)O[/SMILES][QED]0.42[/QED]\n",
      "GT: 0.82 Gen: 0.82 diff: 0.0 CCC(=O)c1sc(NC2C3C4CCC(C4)C23)c(OC)c1N <|begin_of_text|>[SMILES]CCC(=O)c1sc(NC2C3C4CCC(C4)C23)c(OC)c1N[/SMILES][QED]0.82[/QED]\n",
      "GT: 0.66 Gen: 0.66 diff: 0.0 CN(C)S(=O)(=O)NCCCc1ncc[nH]1 <|begin_of_text|>[SMILES]CN(C)S(=O)(=O)NCCCc1ncc[nH]1[/SMILES][QED]0.66[/QED]\n"
     ]
    },
    {
     "name": "stderr",
     "output_type": "stream",
     "text": [
      "The attention mask and the pad token id were not set. As a consequence, you may observe unexpected behavior. Please pass your input's `attention_mask` to obtain reliable results.\n",
      "Setting `pad_token_id` to `eos_token_id`:None for open-end generation.\n",
      "The attention mask and the pad token id were not set. As a consequence, you may observe unexpected behavior. Please pass your input's `attention_mask` to obtain reliable results.\n",
      "Setting `pad_token_id` to `eos_token_id`:None for open-end generation.\n",
      "The attention mask and the pad token id were not set. As a consequence, you may observe unexpected behavior. Please pass your input's `attention_mask` to obtain reliable results.\n",
      "Setting `pad_token_id` to `eos_token_id`:None for open-end generation.\n"
     ]
    },
    {
     "name": "stdout",
     "output_type": "stream",
     "text": [
      "GT: 0.88 Gen: 0.88 diff: 0.0 Cc1ccc(F)c(OCc2cc(F)cc(C#CCO)c2)c1 <|begin_of_text|>[SMILES]Cc1ccc(F)c(OCc2cc(F)cc(C#CCO)c2)c1[/SMILES][QED]0.88[/QED]\n",
      "GT: 0.89 Gen: 0.89 diff: 0.0 Cc1cc(C)c(S(=O)(=O)NCC2CCCN2c2ccccc2)c(C)c1 <|begin_of_text|>[SMILES]Cc1cc(C)c(S(=O)(=O)NCC2CCCN2c2ccccc2)c(C)c1[/SMILES][QED]0.89[/QED]\n",
      "GT: 0.68 Gen: 0.68 diff: 0.0 Cc1nn(C)c(Oc2ccc(Br)cc2[N+](=O)[O-])c1CO <|begin_of_text|>[SMILES]Cc1nn(C)c(Oc2ccc(Br)cc2[N+](=O)[O-])c1CO[/SMILES][QED]0.68[/QED]\n"
     ]
    },
    {
     "name": "stderr",
     "output_type": "stream",
     "text": [
      "The attention mask and the pad token id were not set. As a consequence, you may observe unexpected behavior. Please pass your input's `attention_mask` to obtain reliable results.\n",
      "Setting `pad_token_id` to `eos_token_id`:None for open-end generation.\n",
      "The attention mask and the pad token id were not set. As a consequence, you may observe unexpected behavior. Please pass your input's `attention_mask` to obtain reliable results.\n",
      "Setting `pad_token_id` to `eos_token_id`:None for open-end generation.\n",
      "The attention mask and the pad token id were not set. As a consequence, you may observe unexpected behavior. Please pass your input's `attention_mask` to obtain reliable results.\n",
      "Setting `pad_token_id` to `eos_token_id`:None for open-end generation.\n"
     ]
    },
    {
     "name": "stdout",
     "output_type": "stream",
     "text": [
      "GT: 0.67 Gen: 0.67 diff: 0.0 CN=C(NCc1nc(-c2ccccc2)cs1)N1CCSC(C)(C)C1 <|begin_of_text|>[SMILES]CN=C(NCc1nc(-c2ccccc2)cs1)N1CCSC(C)(C)C1[/SMILES][QED]0.67[/QED]\n",
      "GT: 0.4 Gen: 0.4 diff: 0.0 CC(C)NS(=O)(=O)[N-]Cc1ccccc1.O=C(O)c1cccc2c1cnn2-c1ccc(F)cc1 <|begin_of_text|>[SMILES]CC(C)NS(=O)(=O)[N-]Cc1ccccc1.O=C(O)c1cccc2c1cnn2-c1ccc(F)cc1[/SMILES][QED]0.40[/QED]\n"
     ]
    },
    {
     "name": "stderr",
     "output_type": "stream",
     "text": [
      "The attention mask and the pad token id were not set. As a consequence, you may observe unexpected behavior. Please pass your input's `attention_mask` to obtain reliable results.\n",
      "Setting `pad_token_id` to `eos_token_id`:None for open-end generation.\n",
      "The attention mask and the pad token id were not set. As a consequence, you may observe unexpected behavior. Please pass your input's `attention_mask` to obtain reliable results.\n",
      "Setting `pad_token_id` to `eos_token_id`:None for open-end generation.\n"
     ]
    },
    {
     "name": "stdout",
     "output_type": "stream",
     "text": [
      "GT: 0.44 Gen: 0.44 diff: 0.0 CCOc1ccc(-c2noc(Cn3c(=O)n(C(C)C)c(=O)c4ccccc43)n2)cc1OC <|begin_of_text|>[SMILES]CCOc1ccc(-c2noc(Cn3c(=O)n(C(C)C)c(=O)c4ccccc43)n2)cc1OC[/SMILES][QED]0.44[/QED]\n",
      "GT: 0.53 Gen: 0.54 diff: 0.01 O=C(CSc1nnnn1-c1ccc(Cl)cc1)Nc1cccc(Cl)c1N1CCCCC1 <|begin_of_text|>[SMILES]O=C(CSc1nnnn1-c1ccc(Cl)cc1)Nc1cccc(Cl)c1N1CCCCC1[/SMILES][QED]0.54[/QED]\n",
      "GT: 0.73 Gen: 0.73 diff: 0.0 Cc1ccccc1C1(O)CCN(C(=O)c2ccc(-c3ccc(F)cc3)o2)CC1 <|begin_of_text|>[SMILES]Cc1ccccc1C1(O)CCN(C(=O)c2ccc(-c3ccc(F)cc3)o2)CC1[/SMILES][QED]0.73[/QED]\n"
     ]
    },
    {
     "name": "stderr",
     "output_type": "stream",
     "text": [
      "The attention mask and the pad token id were not set. As a consequence, you may observe unexpected behavior. Please pass your input's `attention_mask` to obtain reliable results.\n",
      "Setting `pad_token_id` to `eos_token_id`:None for open-end generation.\n",
      "The attention mask and the pad token id were not set. As a consequence, you may observe unexpected behavior. Please pass your input's `attention_mask` to obtain reliable results.\n",
      "Setting `pad_token_id` to `eos_token_id`:None for open-end generation.\n",
      "The attention mask and the pad token id were not set. As a consequence, you may observe unexpected behavior. Please pass your input's `attention_mask` to obtain reliable results.\n",
      "Setting `pad_token_id` to `eos_token_id`:None for open-end generation.\n"
     ]
    },
    {
     "name": "stdout",
     "output_type": "stream",
     "text": [
      "GT: 0.59 Gen: 0.59 diff: 0.0 CCc1ccc(NC(=O)NC(C)(C)CCC(=O)O)cc1S(N)(=O)=O <|begin_of_text|>[SMILES]CCc1ccc(NC(=O)NC(C)(C)CCC(=O)O)cc1S(N)(=O)=O[/SMILES][QED]0.59[/QED]\n",
      "GT: 0.55 Gen: 0.55 diff: 0.0 CCCOc1ccc(C=NNC(=O)COc2ccccc2C)cc1OC <|begin_of_text|>[SMILES]CCCOc1ccc(C=NNC(=O)COc2ccccc2C)cc1OC[/SMILES][QED]0.55[/QED]\n",
      "GT: 0.92 Gen: 0.92 diff: 0.0 CC(C)(C)OC(=O)NCC(=O)N1CCOC(c2ccccc2F)C1 <|begin_of_text|>[SMILES]CC(C)(C)OC(=O)NCC(=O)N1CCOC(c2ccccc2F)C1[/SMILES][QED]0.92[/QED]\n"
     ]
    },
    {
     "name": "stderr",
     "output_type": "stream",
     "text": [
      "The attention mask and the pad token id were not set. As a consequence, you may observe unexpected behavior. Please pass your input's `attention_mask` to obtain reliable results.\n",
      "Setting `pad_token_id` to `eos_token_id`:None for open-end generation.\n",
      "The attention mask and the pad token id were not set. As a consequence, you may observe unexpected behavior. Please pass your input's `attention_mask` to obtain reliable results.\n",
      "Setting `pad_token_id` to `eos_token_id`:None for open-end generation.\n",
      "The attention mask and the pad token id were not set. As a consequence, you may observe unexpected behavior. Please pass your input's `attention_mask` to obtain reliable results.\n",
      "Setting `pad_token_id` to `eos_token_id`:None for open-end generation.\n"
     ]
    },
    {
     "name": "stdout",
     "output_type": "stream",
     "text": [
      "GT: 0.9 Gen: 0.9 diff: 0.0 CCOc1cc(OC)c(Br)cc1CC1CCCNC1 <|begin_of_text|>[SMILES]CCOc1cc(OC)c(Br)cc1CC1CCCNC1[/SMILES][QED]0.90[/QED]\n",
      "GT: 0.6 Gen: 0.61 diff: 0.01 CCN(CC)C(=O)c1nn(-c2cccc(F)c2)c(=O)n(Cc2cccc(Cl)c2)c1=O <|begin_of_text|>[SMILES]CCN(CC)C(=O)c1nn(-c2cccc(F)c2)c(=O)n(Cc2cccc(Cl)c2)c1=O[/SMILES][QED]0.61[/QED]\n"
     ]
    },
    {
     "name": "stderr",
     "output_type": "stream",
     "text": [
      "The attention mask and the pad token id were not set. As a consequence, you may observe unexpected behavior. Please pass your input's `attention_mask` to obtain reliable results.\n",
      "Setting `pad_token_id` to `eos_token_id`:None for open-end generation.\n",
      "The attention mask and the pad token id were not set. As a consequence, you may observe unexpected behavior. Please pass your input's `attention_mask` to obtain reliable results.\n",
      "Setting `pad_token_id` to `eos_token_id`:None for open-end generation.\n"
     ]
    },
    {
     "name": "stdout",
     "output_type": "stream",
     "text": [
      "GT: 0.51 Gen: 0.5 diff: 0.01 CCCC(=O)n1cc(CCC(C)C)n(Cc2ccc(-c3ccccc3C(=O)O)cc2)c1=O <|begin_of_text|>[SMILES]CCCC(=O)n1cc(CCC(C)C)n(Cc2ccc(-c3ccccc3C(=O)O)cc2)c1=O[/SMILES][QED]0.50[/QED]\n",
      "GT: 0.13 Gen: 0.13 diff: 0.0 CON=C(C(=O)NC1C(=O)N2C(C(=O)OCOC(=O)C(C)(C)C)C(Cn3nnc(C)n3)=CSC12)c1csc(N)n1 <|begin_of_text|>[SMILES]CON=C(C(=O)NC1C(=O)N2C(C(=O)OCOC(=O)C(C)(C)C)C(Cn3nnc(C)n3)=CSC12)c1csc(N)n1[/SMILES][QED]0.13[/QED]\n",
      "GT: 0.75 Gen: 0.75 diff: 0.0 ONCc1ccccc1-c1ccncc1 <|begin_of_text|>[SMILES]ONCc1ccccc1-c1ccncc1[/SMILES][QED]0.75[/QED]\n"
     ]
    },
    {
     "name": "stderr",
     "output_type": "stream",
     "text": [
      "The attention mask and the pad token id were not set. As a consequence, you may observe unexpected behavior. Please pass your input's `attention_mask` to obtain reliable results.\n",
      "Setting `pad_token_id` to `eos_token_id`:None for open-end generation.\n",
      "The attention mask and the pad token id were not set. As a consequence, you may observe unexpected behavior. Please pass your input's `attention_mask` to obtain reliable results.\n",
      "Setting `pad_token_id` to `eos_token_id`:None for open-end generation.\n",
      "The attention mask and the pad token id were not set. As a consequence, you may observe unexpected behavior. Please pass your input's `attention_mask` to obtain reliable results.\n",
      "Setting `pad_token_id` to `eos_token_id`:None for open-end generation.\n"
     ]
    },
    {
     "name": "stdout",
     "output_type": "stream",
     "text": [
      "GT: 0.41 Gen: 0.41 diff: 0.0 Cn1c(Cl)c(C=NOC(=O)c2cccs2)c2ccccc21 <|begin_of_text|>[SMILES]Cn1c(Cl)c(C=NOC(=O)c2cccs2)c2ccccc21[/SMILES][QED]0.41[/QED]\n",
      "GT: 0.84 Gen: 0.84 diff: 0.0 COc1cc(Cn2ncc(N)n2)ccc1C#N <|begin_of_text|>[SMILES]COc1cc(Cn2ncc(N)n2)ccc1C#N[/SMILES][QED]0.84[/QED]\n",
      "GT: 0.33 Gen: 0.33 diff: 0.0 CCN(CC)C(C(=O)O)c1cc(NC(=O)c2c[nH]c3ccccc3c2=O)c(C(C)(C)C)cc1C(C)(C)C.Cl <|begin_of_text|>[SMILES]CCN(CC)C(C(=O)O)c1cc(NC(=O)c2c[nH]c3ccccc3c2=O)c(C(C)(C)C)cc1C(C)(C)C.Cl[/SMILES][QED]0.33[/QED]\n"
     ]
    },
    {
     "name": "stderr",
     "output_type": "stream",
     "text": [
      "The attention mask and the pad token id were not set. As a consequence, you may observe unexpected behavior. Please pass your input's `attention_mask` to obtain reliable results.\n",
      "Setting `pad_token_id` to `eos_token_id`:None for open-end generation.\n",
      "The attention mask and the pad token id were not set. As a consequence, you may observe unexpected behavior. Please pass your input's `attention_mask` to obtain reliable results.\n",
      "Setting `pad_token_id` to `eos_token_id`:None for open-end generation.\n",
      "The attention mask and the pad token id were not set. As a consequence, you may observe unexpected behavior. Please pass your input's `attention_mask` to obtain reliable results.\n",
      "Setting `pad_token_id` to `eos_token_id`:None for open-end generation.\n"
     ]
    },
    {
     "name": "stdout",
     "output_type": "stream",
     "text": [
      "GT: 0.71 Gen: 0.71 diff: 0.0 CC(C(=O)NC(=O)NC1CCCC1)[NH+]1CCCCCC1 <|begin_of_text|>[SMILES]CC(C(=O)NC(=O)NC1CCCC1)[NH+]1CCCCCC1[/SMILES][QED]0.71[/QED]\n",
      "GT: 0.43 Gen: 0.43 diff: 0.0 COC(=O)C=C1SC(=NC(=O)c2ccc(Cl)cc2Cl)N(c2ccc(N)cc2)C1=O <|begin_of_text|>[SMILES]COC(=O)C=C1SC(=NC(=O)c2ccc(Cl)cc2Cl)N(c2ccc(N)cc2)C1=O[/SMILES][QED]0.43[/QED]\n",
      "GT: 0.59 Gen: 0.6 diff: 0.01 CCC1C(OS(C)(=O)=O)CN1C <|begin_of_text|>[SMILES]CCC1C(OS(C)(=O)=O)CN1C[/SMILES][QED]0.60[/QED]\n"
     ]
    },
    {
     "name": "stderr",
     "output_type": "stream",
     "text": [
      "The attention mask and the pad token id were not set. As a consequence, you may observe unexpected behavior. Please pass your input's `attention_mask` to obtain reliable results.\n",
      "Setting `pad_token_id` to `eos_token_id`:None for open-end generation.\n",
      "The attention mask and the pad token id were not set. As a consequence, you may observe unexpected behavior. Please pass your input's `attention_mask` to obtain reliable results.\n",
      "Setting `pad_token_id` to `eos_token_id`:None for open-end generation.\n",
      "The attention mask and the pad token id were not set. As a consequence, you may observe unexpected behavior. Please pass your input's `attention_mask` to obtain reliable results.\n",
      "Setting `pad_token_id` to `eos_token_id`:None for open-end generation.\n",
      "The attention mask and the pad token id were not set. As a consequence, you may observe unexpected behavior. Please pass your input's `attention_mask` to obtain reliable results.\n"
     ]
    },
    {
     "name": "stdout",
     "output_type": "stream",
     "text": [
      "GT: 0.68 Gen: 0.68 diff: 0.0 CCC(=O)NCC1(CCOC)CC1 <|begin_of_text|>[SMILES]CCC(=O)NCC1(CCOC)CC1[/SMILES][QED]0.68[/QED]\n",
      "GT: 0.85 Gen: 0.85 diff: 0.0 CN1C(=O)Cc2cc(-c3csc(N4CCCCC4)n3)ccc21 <|begin_of_text|>[SMILES]CN1C(=O)Cc2cc(-c3csc(N4CCCCC4)n3)ccc21[/SMILES][QED]0.85[/QED]\n",
      "GT: 0.44 Gen: 0.44 diff: 0.0 CCCCOc1cccc2c1C(=O)OC2=O <|begin_of_text|>[SMILES]CCCCOc1cccc2c1C(=O)OC2=O[/SMILES][QED]0.44[/QED]\n"
     ]
    },
    {
     "name": "stderr",
     "output_type": "stream",
     "text": [
      "Setting `pad_token_id` to `eos_token_id`:None for open-end generation.\n",
      "The attention mask and the pad token id were not set. As a consequence, you may observe unexpected behavior. Please pass your input's `attention_mask` to obtain reliable results.\n",
      "Setting `pad_token_id` to `eos_token_id`:None for open-end generation.\n",
      "The attention mask and the pad token id were not set. As a consequence, you may observe unexpected behavior. Please pass your input's `attention_mask` to obtain reliable results.\n",
      "Setting `pad_token_id` to `eos_token_id`:None for open-end generation.\n"
     ]
    },
    {
     "name": "stdout",
     "output_type": "stream",
     "text": [
      "GT: 0.92 Gen: 0.92 diff: 0.0 N#CCc1nc(CN)c(C(F)F)cc1Br <|begin_of_text|>[SMILES]N#CCc1nc(CN)c(C(F)F)cc1Br[/SMILES][QED]0.92[/QED]\n",
      "GT: 0.82 Gen: 0.82 diff: 0.0 FC(F)(F)c1cccc(OCCC2CNCCC2c2ccsc2)c1 <|begin_of_text|>[SMILES]FC(F)(F)c1cccc(OCCC2CNCCC2c2ccsc2)c1[/SMILES][QED]0.82[/QED]\n"
     ]
    },
    {
     "name": "stderr",
     "output_type": "stream",
     "text": [
      "The attention mask and the pad token id were not set. As a consequence, you may observe unexpected behavior. Please pass your input's `attention_mask` to obtain reliable results.\n",
      "Setting `pad_token_id` to `eos_token_id`:None for open-end generation.\n",
      "The attention mask and the pad token id were not set. As a consequence, you may observe unexpected behavior. Please pass your input's `attention_mask` to obtain reliable results.\n",
      "Setting `pad_token_id` to `eos_token_id`:None for open-end generation.\n"
     ]
    },
    {
     "name": "stdout",
     "output_type": "stream",
     "text": [
      "GT: 0.7 Gen: 0.7 diff: 0.0 CCc1ccc(C(=O)CCC(=O)Nc2ccc(C(=O)NC3CC3)cc2)cc1 <|begin_of_text|>[SMILES]CCc1ccc(C(=O)CCC(=O)Nc2ccc(C(=O)NC3CC3)cc2)cc1[/SMILES][QED]0.70[/QED]\n",
      "GT: 0.61 Gen: 0.61 diff: 0.0 CC(=O)c1ccc(OCC(=O)N2CCc3ncnc(N4CCN(C5CCC5)CC4)c3CC2)cc1 <|begin_of_text|>[SMILES]CC(=O)c1ccc(OCC(=O)N2CCc3ncnc(N4CCN(C5CCC5)CC4)c3CC2)cc1[/SMILES][QED]0.61[/QED]\n"
     ]
    },
    {
     "name": "stderr",
     "output_type": "stream",
     "text": [
      "The attention mask and the pad token id were not set. As a consequence, you may observe unexpected behavior. Please pass your input's `attention_mask` to obtain reliable results.\n",
      "Setting `pad_token_id` to `eos_token_id`:None for open-end generation.\n",
      "The attention mask and the pad token id were not set. As a consequence, you may observe unexpected behavior. Please pass your input's `attention_mask` to obtain reliable results.\n",
      "Setting `pad_token_id` to `eos_token_id`:None for open-end generation.\n",
      "The attention mask and the pad token id were not set. As a consequence, you may observe unexpected behavior. Please pass your input's `attention_mask` to obtain reliable results.\n",
      "Setting `pad_token_id` to `eos_token_id`:None for open-end generation.\n"
     ]
    },
    {
     "name": "stdout",
     "output_type": "stream",
     "text": [
      "GT: 0.57 Gen: 0.57 diff: 0.0 COCCCN(C)c1c(CCl)c(C)nn1C <|begin_of_text|>[SMILES]COCCCN(C)c1c(CCl)c(C)nn1C[/SMILES][QED]0.57[/QED]\n",
      "GT: 0.74 Gen: 0.74 diff: 0.0 CC(C)CCNC(=O)c1ccc(Oc2ccc(NS(C)(=O)=O)cc2)nc1 <|begin_of_text|>[SMILES]CC(C)CCNC(=O)c1ccc(Oc2ccc(NS(C)(=O)=O)cc2)nc1[/SMILES][QED]0.74[/QED]\n",
      "GT: 0.47 Gen: 0.49 diff: 0.02 ClC1=NC2N=C(N1)O2 <|begin_of_text|>[SMILES]ClC1=NC2N=C(N1)O2[/SMILES][QED]0.49[/QED]\n"
     ]
    },
    {
     "name": "stderr",
     "output_type": "stream",
     "text": [
      "The attention mask and the pad token id were not set. As a consequence, you may observe unexpected behavior. Please pass your input's `attention_mask` to obtain reliable results.\n",
      "Setting `pad_token_id` to `eos_token_id`:None for open-end generation.\n",
      "The attention mask and the pad token id were not set. As a consequence, you may observe unexpected behavior. Please pass your input's `attention_mask` to obtain reliable results.\n",
      "Setting `pad_token_id` to `eos_token_id`:None for open-end generation.\n"
     ]
    },
    {
     "name": "stdout",
     "output_type": "stream",
     "text": [
      "GT: 0.35 Gen: 0.36 diff: 0.01 CCNC(=O)C(Cc1ccccc1)N(Cc1ccc(C)cc1)C(=O)CCCN(c1ccccc1)S(C)(=O)=O <|begin_of_text|>[SMILES]CCNC(=O)C(Cc1ccccc1)N(Cc1ccc(C)cc1)C(=O)CCCN(c1ccccc1)S(C)(=O)=O[/SMILES][QED]0.36[/QED]\n",
      "GT: 0.74 Gen: 0.74 diff: 0.0 CCn1ccnc1C1CCCN(C(=O)c2cn3cccc(C)c3n2)C1 <|begin_of_text|>[SMILES]CCn1ccnc1C1CCCN(C(=O)c2cn3cccc(C)c3n2)C1[/SMILES][QED]0.74[/QED]\n"
     ]
    },
    {
     "name": "stderr",
     "output_type": "stream",
     "text": [
      "The attention mask and the pad token id were not set. As a consequence, you may observe unexpected behavior. Please pass your input's `attention_mask` to obtain reliable results.\n",
      "Setting `pad_token_id` to `eos_token_id`:None for open-end generation.\n",
      "The attention mask and the pad token id were not set. As a consequence, you may observe unexpected behavior. Please pass your input's `attention_mask` to obtain reliable results.\n",
      "Setting `pad_token_id` to `eos_token_id`:None for open-end generation.\n"
     ]
    },
    {
     "name": "stdout",
     "output_type": "stream",
     "text": [
      "GT: 0.12 Gen: 0.12 diff: 0.0 CCc1nc2c(C)cc(N3CCN(CC(=O)N4CC(O)C4)C(C)(C)C3)cn2c1N(C)c1nc(-c2ccc(F)cc2)c(C#N)s1.CCc1nc2c(C)cc(N3CCNC(C)(C)C3)cn2c1N(C)c1nc(-c2ccc(F)cc2)c(C#N)s1 <|begin_of_text|>[SMILES]CCc1nc2c(C)cc(N3CCN(CC(=O)N4CC(O)C4)C(C)(C)C3)cn2c1N(C)c1nc(-c2ccc(F)cc2)c(C#N)s1.CCc1nc2c(C)cc(N3CCNC(C)(C)C3)cn2c1N(C)c1nc(-c2ccc(F)cc2)c(C#N)s1[/SMILES][QED]0.12[/QED]\n",
      "GT: 0.47 Gen: 0.47 diff: 0.0 CCOC(=O)CCC(C)C1CCC2C3CCC4CCCCC4(C)C3CCC12C <|begin_of_text|>[SMILES]CCOC(=O)CCC(C)C1CCC2C3CCC4CCCCC4(C)C3CCC12C[/SMILES][QED]0.47[/QED]\n"
     ]
    },
    {
     "name": "stderr",
     "output_type": "stream",
     "text": [
      "The attention mask and the pad token id were not set. As a consequence, you may observe unexpected behavior. Please pass your input's `attention_mask` to obtain reliable results.\n",
      "Setting `pad_token_id` to `eos_token_id`:None for open-end generation.\n",
      "The attention mask and the pad token id were not set. As a consequence, you may observe unexpected behavior. Please pass your input's `attention_mask` to obtain reliable results.\n",
      "Setting `pad_token_id` to `eos_token_id`:None for open-end generation.\n"
     ]
    },
    {
     "name": "stdout",
     "output_type": "stream",
     "text": [
      "GT: 0.02 Gen: 0.02 diff: 0.0 C.CCC(=O)SCC(C(=O)NC(CCCCN)C(=O)OC)N(C)C(=O)Oc1ccc2c(c1)Oc1cc(N(C)C)ccc1C21OC(=O)c2ccccc21.CCC(=O)SCC(C(=O)NC(CCCCNC(=O)OC(C)(C)C)C(=O)OC)N(C)C(=O)Oc1ccc2c(c1)Oc1cc(N(C)C)ccc1C21OC(=O)c2ccccc21.CN(C)c1ccc2c(c1)Oc1cc(O)ccc1C21OC(=O)c2ccccc21 <|begin_of_text|>[SMILES]C.CCC(=O)SCC(C(=O)NC(CCCCN)C(=O)OC)N(C)C(=O)Oc1ccc2c(c1)Oc1cc(N(C)C)ccc1C21OC(=O)c2ccccc21.CCC(=O)SCC(C(=O)NC(CCCCNC(=O)OC(C)(C)C)C(=O)OC)N(C)C(=O)Oc1ccc2c(c1)Oc1cc(N(C)C)ccc1C21OC(=O)c2ccccc21.CN(C)c1ccc2c(c1)Oc1cc(O)ccc1C21OC(=O)c2ccccc21[/SMILES][QED]0.02[/QED]\n",
      "GT: 0.03 Gen: 0.03 diff: 0.0 CCC=CC(O)CC=CC=CCC=CCC=CCCCC(=O)OC(COC(=O)CCCCCCC)COP(=O)(O)O <|begin_of_text|>[SMILES]CCC=CC(O)CC=CC=CCC=CCC=CCCCC(=O)OC(COC(=O)CCCCCCC)COP(=O)(O)O[/SMILES][QED]0.03[/QED]\n"
     ]
    },
    {
     "name": "stderr",
     "output_type": "stream",
     "text": [
      "The attention mask and the pad token id were not set. As a consequence, you may observe unexpected behavior. Please pass your input's `attention_mask` to obtain reliable results.\n",
      "Setting `pad_token_id` to `eos_token_id`:None for open-end generation.\n",
      "The attention mask and the pad token id were not set. As a consequence, you may observe unexpected behavior. Please pass your input's `attention_mask` to obtain reliable results.\n",
      "Setting `pad_token_id` to `eos_token_id`:None for open-end generation.\n"
     ]
    },
    {
     "name": "stdout",
     "output_type": "stream",
     "text": [
      "GT: 0.37 Gen: 0.37 diff: 0.0 CC(C)(C)NOC(=O)Nc1c[nH]c2c(C(=O)NCc3ccc4c(c3)NC(=O)CO4)ncnc12 <|begin_of_text|>[SMILES]CC(C)(C)NOC(=O)Nc1c[nH]c2c(C(=O)NCc3ccc4c(c3)NC(=O)CO4)ncnc12[/SMILES][QED]0.37[/QED]\n",
      "GT: 0.23 Gen: 0.23 diff: 0.0 COc1cc(F)cc(C(CO)NC(=O)C(C)n2cnn3cc(-c4nc(NC5CCC(O)C5)ncc4Cl)cc3c2=O)c1 <|begin_of_text|>[SMILES]COc1cc(F)cc(C(CO)NC(=O)C(C)n2cnn3cc(-c4nc(NC5CCC(O)C5)ncc4Cl)cc3c2=O)c1[/SMILES][QED]0.23[/QED]\n"
     ]
    },
    {
     "name": "stderr",
     "output_type": "stream",
     "text": [
      "The attention mask and the pad token id were not set. As a consequence, you may observe unexpected behavior. Please pass your input's `attention_mask` to obtain reliable results.\n",
      "Setting `pad_token_id` to `eos_token_id`:None for open-end generation.\n",
      "The attention mask and the pad token id were not set. As a consequence, you may observe unexpected behavior. Please pass your input's `attention_mask` to obtain reliable results.\n",
      "Setting `pad_token_id` to `eos_token_id`:None for open-end generation.\n"
     ]
    },
    {
     "name": "stdout",
     "output_type": "stream",
     "text": [
      "GT: 0.49 Gen: 0.5 diff: 0.01 CN1CCC(CN(C)C(=O)c2ccc(N3C(=S)N(c4cnc(C#N)c(C(F)(F)F)c4)C(=O)C34CCC4)cc2)CC1 <|begin_of_text|>[SMILES]CN1CCC(CN(C)C(=O)c2ccc(N3C(=S)N(c4cnc(C#N)c(C(F)(F)F)c4)C(=O)C34CCC4)cc2)CC1[/SMILES][QED]0.50[/QED]\n",
      "GT: 0.56 Gen: 0.57 diff: 0.01 CCC(C)n1nccc1NC(=O)C(C)Sc1nnc(-c2ccc(OC)cc2)n1C <|begin_of_text|>[SMILES]CCC(C)n1nccc1NC(=O)C(C)Sc1nnc(-c2ccc(OC)cc2)n1C[/SMILES][QED]0.57[/QED]\n",
      "GT: 0.73 Gen: 0.74 diff: 0.01 Cn1c(=O)c2ccc(C(=O)Nc3ccccc3N3CCCCC3)nc2n(C)c1=O <|begin_of_text|>[SMILES]Cn1c(=O)c2ccc(C(=O)Nc3ccccc3N3CCCCC3)nc2n(C)c1=O[/SMILES][QED]0.74[/QED]\n"
     ]
    },
    {
     "name": "stderr",
     "output_type": "stream",
     "text": [
      "The attention mask and the pad token id were not set. As a consequence, you may observe unexpected behavior. Please pass your input's `attention_mask` to obtain reliable results.\n",
      "Setting `pad_token_id` to `eos_token_id`:None for open-end generation.\n",
      "The attention mask and the pad token id were not set. As a consequence, you may observe unexpected behavior. Please pass your input's `attention_mask` to obtain reliable results.\n",
      "Setting `pad_token_id` to `eos_token_id`:None for open-end generation.\n",
      "The attention mask and the pad token id were not set. As a consequence, you may observe unexpected behavior. Please pass your input's `attention_mask` to obtain reliable results.\n",
      "Setting `pad_token_id` to `eos_token_id`:None for open-end generation.\n"
     ]
    },
    {
     "name": "stdout",
     "output_type": "stream",
     "text": [
      "GT: 0.87 Gen: 0.87 diff: 0.0 Cc1ccnc2c(NCC3CC3)c(F)ccc12 <|begin_of_text|>[SMILES]Cc1ccnc2c(NCC3CC3)c(F)ccc12[/SMILES][QED]0.87[/QED]\n",
      "GT: 0.64 Gen: 0.65 diff: 0.01 C=CC(=O)NC(C)c1nc2ccccc2n1CCOc1cc(C)cc(C)c1 <|begin_of_text|>[SMILES]C=CC(=O)NC(C)c1nc2ccccc2n1CCOc1cc(C)cc(C)c1[/SMILES][QED]0.65[/QED]\n"
     ]
    },
    {
     "name": "stderr",
     "output_type": "stream",
     "text": [
      "The attention mask and the pad token id were not set. As a consequence, you may observe unexpected behavior. Please pass your input's `attention_mask` to obtain reliable results.\n",
      "Setting `pad_token_id` to `eos_token_id`:None for open-end generation.\n",
      "The attention mask and the pad token id were not set. As a consequence, you may observe unexpected behavior. Please pass your input's `attention_mask` to obtain reliable results.\n",
      "Setting `pad_token_id` to `eos_token_id`:None for open-end generation.\n"
     ]
    },
    {
     "name": "stdout",
     "output_type": "stream",
     "text": [
      "GT: 0.45 Gen: 0.45 diff: 0.0 C=CCNCC(=O)NCCCN1CCN(C)CC1 <|begin_of_text|>[SMILES]C=CCNCC(=O)NCCCN1CCN(C)CC1[/SMILES][QED]0.45[/QED]\n",
      "GT: 0.65 Gen: 0.65 diff: 0.0 CC(=O)N1c2ccc(-c3cnn(C4CC4)c3)c(OCc3ccn(C)n3)c2CCC1C <|begin_of_text|>[SMILES]CC(=O)N1c2ccc(-c3cnn(C4CC4)c3)c(OCc3ccn(C)n3)c2CCC1C[/SMILES][QED]0.65[/QED]\n",
      "GT: 0.63 Gen: 0.63 diff: 0.0 CNC(CC(=O)N=C(C)N)Cc1cccc(-c2cccnc2)c1 <|begin_of_text|>[SMILES]CNC(CC(=O)N=C(C)N)Cc1cccc(-c2cccnc2)c1[/SMILES][QED]0.63[/QED]\n"
     ]
    },
    {
     "name": "stderr",
     "output_type": "stream",
     "text": [
      "The attention mask and the pad token id were not set. As a consequence, you may observe unexpected behavior. Please pass your input's `attention_mask` to obtain reliable results.\n",
      "Setting `pad_token_id` to `eos_token_id`:None for open-end generation.\n",
      "The attention mask and the pad token id were not set. As a consequence, you may observe unexpected behavior. Please pass your input's `attention_mask` to obtain reliable results.\n",
      "Setting `pad_token_id` to `eos_token_id`:None for open-end generation.\n",
      "The attention mask and the pad token id were not set. As a consequence, you may observe unexpected behavior. Please pass your input's `attention_mask` to obtain reliable results.\n",
      "Setting `pad_token_id` to `eos_token_id`:None for open-end generation.\n"
     ]
    },
    {
     "name": "stdout",
     "output_type": "stream",
     "text": [
      "GT: 0.18 Gen: 0.19 diff: 0.01 COc1cc(OC)c2c(c1Cl)OC1(C2=O)C(O)=C(C(CC(=O)NCCc2nc(-c3ccccn3)no2)c2ccc(SC)cc2)C(=O)CC1C <|begin_of_text|>[SMILES]COc1cc(OC)c2c(c1Cl)OC1(C2=O)C(O)=C(C(CC(=O)NCCc2nc(-c3ccccn3)no2)c2ccc(SC)cc2)C(=O)CC1C[/SMILES][QED]0.19[/QED]\n",
      "GT: 0.47 Gen: 0.47 diff: 0.0 CCc1noc(CC)c1CNC(=NC)NCc1cnn(-c2ccc(Cl)cc2)c1 <|begin_of_text|>[SMILES]CCc1noc(CC)c1CNC(=NC)NCc1cnn(-c2ccc(Cl)cc2)c1[/SMILES][QED]0.47[/QED]\n"
     ]
    },
    {
     "name": "stderr",
     "output_type": "stream",
     "text": [
      "The attention mask and the pad token id were not set. As a consequence, you may observe unexpected behavior. Please pass your input's `attention_mask` to obtain reliable results.\n",
      "Setting `pad_token_id` to `eos_token_id`:None for open-end generation.\n",
      "The attention mask and the pad token id were not set. As a consequence, you may observe unexpected behavior. Please pass your input's `attention_mask` to obtain reliable results.\n",
      "Setting `pad_token_id` to `eos_token_id`:None for open-end generation.\n"
     ]
    },
    {
     "name": "stdout",
     "output_type": "stream",
     "text": [
      "GT: 0.2 Gen: 0.2 diff: 0.0 CCCCOC(=O)NC(CC(Cc1ccc(OC)c(OCCCOC)c1)C(C)C)C1CC(C(C)C)C(=O)O1 <|begin_of_text|>[SMILES]CCCCOC(=O)NC(CC(Cc1ccc(OC)c(OCCCOC)c1)C(C)C)C1CC(C(C)C)C(=O)O1[/SMILES][QED]0.20[/QED]\n",
      "GT: 0.78 Gen: 0.78 diff: 0.0 CCC(C)C(NC(=O)C=Cc1ccc(C)cc1)C(=O)O <|begin_of_text|>[SMILES]CCC(C)C(NC(=O)C=Cc1ccc(C)cc1)C(=O)O[/SMILES][QED]0.78[/QED]\n",
      "GT: 0.63 Gen: 0.63 diff: 0.0 C=C(N(N)C=CC(C)(F)c1ccc(C)cc1)N(N)c1cccnc1 <|begin_of_text|>[SMILES]C=C(N(N)C=CC(C)(F)c1ccc(C)cc1)N(N)c1cccnc1[/SMILES][QED]0.63[/QED]\n"
     ]
    },
    {
     "name": "stderr",
     "output_type": "stream",
     "text": [
      "The attention mask and the pad token id were not set. As a consequence, you may observe unexpected behavior. Please pass your input's `attention_mask` to obtain reliable results.\n",
      "Setting `pad_token_id` to `eos_token_id`:None for open-end generation.\n",
      "The attention mask and the pad token id were not set. As a consequence, you may observe unexpected behavior. Please pass your input's `attention_mask` to obtain reliable results.\n",
      "Setting `pad_token_id` to `eos_token_id`:None for open-end generation.\n",
      "The attention mask and the pad token id were not set. As a consequence, you may observe unexpected behavior. Please pass your input's `attention_mask` to obtain reliable results.\n",
      "Setting `pad_token_id` to `eos_token_id`:None for open-end generation.\n"
     ]
    },
    {
     "name": "stdout",
     "output_type": "stream",
     "text": [
      "GT: 0.88 Gen: 0.88 diff: 0.0 CCC(C)n1ccc(CC(N)Cc2ccc(C)c(C)c2)n1 <|begin_of_text|>[SMILES]CCC(C)n1ccc(CC(N)Cc2ccc(C)c(C)c2)n1[/SMILES][QED]0.88[/QED]\n",
      "GT: 0.63 Gen: 0.63 diff: 0.0 CC(C)(C)c1nn(-c2ccccc2)c2ccccc12 <|begin_of_text|>[SMILES]CC(C)(C)c1nn(-c2ccccc2)c2ccccc12[/SMILES][QED]0.63[/QED]\n"
     ]
    },
    {
     "name": "stderr",
     "output_type": "stream",
     "text": [
      "The attention mask and the pad token id were not set. As a consequence, you may observe unexpected behavior. Please pass your input's `attention_mask` to obtain reliable results.\n",
      "Setting `pad_token_id` to `eos_token_id`:None for open-end generation.\n",
      "The attention mask and the pad token id were not set. As a consequence, you may observe unexpected behavior. Please pass your input's `attention_mask` to obtain reliable results.\n",
      "Setting `pad_token_id` to `eos_token_id`:None for open-end generation.\n"
     ]
    },
    {
     "name": "stdout",
     "output_type": "stream",
     "text": [
      "GT: 0.73 Gen: 0.74 diff: 0.01 CCOCC1CN(C(=O)Cc2ccn(C)n2)Cc2cnn(CC3CCCC3)c21 <|begin_of_text|>[SMILES]CCOCC1CN(C(=O)Cc2ccn(C)n2)Cc2cnn(CC3CCCC3)c21[/SMILES][QED]0.74[/QED]\n",
      "GT: 0.67 Gen: 0.68 diff: 0.01 CCC(C)c1ccc(S(=O)(=O)N2CCN(C(=O)c3ccc(COC)cc3)CC2)cc1 <|begin_of_text|>[SMILES]CCC(C)c1ccc(S(=O)(=O)N2CCN(C(=O)c3ccc(COC)cc3)CC2)cc1[/SMILES][QED]0.68[/QED]\n",
      "GT: 0.55 Gen: 0.56 diff: 0.01 COC(CNC(=NCc1cccs1)NCCc1ccco1)C(C)(C)C <|begin_of_text|>[SMILES]COC(CNC(=NCc1cccs1)NCCc1ccco1)C(C)(C)C[/SMILES][QED]0.56[/QED]\n"
     ]
    },
    {
     "name": "stderr",
     "output_type": "stream",
     "text": [
      "The attention mask and the pad token id were not set. As a consequence, you may observe unexpected behavior. Please pass your input's `attention_mask` to obtain reliable results.\n",
      "Setting `pad_token_id` to `eos_token_id`:None for open-end generation.\n",
      "The attention mask and the pad token id were not set. As a consequence, you may observe unexpected behavior. Please pass your input's `attention_mask` to obtain reliable results.\n",
      "Setting `pad_token_id` to `eos_token_id`:None for open-end generation.\n",
      "The attention mask and the pad token id were not set. As a consequence, you may observe unexpected behavior. Please pass your input's `attention_mask` to obtain reliable results.\n",
      "Setting `pad_token_id` to `eos_token_id`:None for open-end generation.\n",
      "The attention mask and the pad token id were not set. As a consequence, you may observe unexpected behavior. Please pass your input's `attention_mask` to obtain reliable results.\n"
     ]
    },
    {
     "name": "stdout",
     "output_type": "stream",
     "text": [
      "GT: 0.19 Gen: 0.19 diff: 0.0 OCC1OC(OC2CC3C(O)CC(O)CC3[OH+]C2C2CCC(O)C(O)C2)C(O)C(O)C1O <|begin_of_text|>[SMILES]OCC1OC(OC2CC3C(O)CC(O)CC3[OH+]C2C2CCC(O)C(O)C2)C(O)C(O)C1O[/SMILES][QED]0.19[/QED]\n",
      "GT: 0.62 Gen: 0.62 diff: 0.0 CSc1ccc(N2CC(C(=O)Nc3ccc(C(=O)N(C)C4CCCCC4)cc3)CC2=O)cc1 <|begin_of_text|>[SMILES]CSc1ccc(N2CC(C(=O)Nc3ccc(C(=O)N(C)C4CCCCC4)cc3)CC2=O)cc1[/SMILES][QED]0.62[/QED]\n",
      "GT: 0.75 Gen: 0.75 diff: 0.0 COc1cccc2c1C(=O)C(O)=C(O)C2=O <|begin_of_text|>[SMILES]COc1cccc2c1C(=O)C(O)=C(O)C2=O[/SMILES][QED]0.75[/QED]\n"
     ]
    },
    {
     "name": "stderr",
     "output_type": "stream",
     "text": [
      "Setting `pad_token_id` to `eos_token_id`:None for open-end generation.\n",
      "The attention mask and the pad token id were not set. As a consequence, you may observe unexpected behavior. Please pass your input's `attention_mask` to obtain reliable results.\n",
      "Setting `pad_token_id` to `eos_token_id`:None for open-end generation.\n",
      "The attention mask and the pad token id were not set. As a consequence, you may observe unexpected behavior. Please pass your input's `attention_mask` to obtain reliable results.\n",
      "Setting `pad_token_id` to `eos_token_id`:None for open-end generation.\n"
     ]
    },
    {
     "name": "stdout",
     "output_type": "stream",
     "text": [
      "GT: 0.59 Gen: 0.59 diff: 0.0 Cc1ccccc1C(C)COC(=O)Nc1ccc(S(=O)(=O)C(C)C)c(CN(C)C=O)c1 <|begin_of_text|>[SMILES]Cc1ccccc1C(C)COC(=O)Nc1ccc(S(=O)(=O)C(C)C)c(CN(C)C=O)c1[/SMILES][QED]0.59[/QED]\n",
      "GT: 0.8 Gen: 0.8 diff: 0.0 CC1(NC(=O)CCc2nc3sc4c(c3c(=O)[nH]2)CCCC4)CCS(=O)(=O)C1 <|begin_of_text|>[SMILES]CC1(NC(=O)CCc2nc3sc4c(c3c(=O)[nH]2)CCCC4)CCS(=O)(=O)C1[/SMILES][QED]0.80[/QED]\n"
     ]
    },
    {
     "name": "stderr",
     "output_type": "stream",
     "text": [
      "The attention mask and the pad token id were not set. As a consequence, you may observe unexpected behavior. Please pass your input's `attention_mask` to obtain reliable results.\n",
      "Setting `pad_token_id` to `eos_token_id`:None for open-end generation.\n",
      "The attention mask and the pad token id were not set. As a consequence, you may observe unexpected behavior. Please pass your input's `attention_mask` to obtain reliable results.\n",
      "Setting `pad_token_id` to `eos_token_id`:None for open-end generation.\n"
     ]
    },
    {
     "name": "stdout",
     "output_type": "stream",
     "text": [
      "GT: 0.81 Gen: 0.81 diff: 0.0 CCCNc1ncc(C)c(Oc2ccccc2SC)n1 <|begin_of_text|>[SMILES]CCCNc1ncc(C)c(Oc2ccccc2SC)n1[/SMILES][QED]0.81[/QED]\n",
      "GT: 0.72 Gen: 0.72 diff: 0.0 C=CCC1(O)CCC(C(=O)CCCC)C(C)C1 <|begin_of_text|>[SMILES]C=CCC1(O)CCC(C(=O)CCCC)C(C)C1[/SMILES][QED]0.72[/QED]\n",
      "GT: 0.77 Gen: 0.77 diff: 0.0 O=C(O)Cc1cc(=O)n2[nH]c(C3CC3)nc2n1 <|begin_of_text|>[SMILES]O=C(O)Cc1cc(=O)n2[nH]c(C3CC3)nc2n1[/SMILES][QED]0.77[/QED]\n"
     ]
    },
    {
     "name": "stderr",
     "output_type": "stream",
     "text": [
      "The attention mask and the pad token id were not set. As a consequence, you may observe unexpected behavior. Please pass your input's `attention_mask` to obtain reliable results.\n",
      "Setting `pad_token_id` to `eos_token_id`:None for open-end generation.\n",
      "The attention mask and the pad token id were not set. As a consequence, you may observe unexpected behavior. Please pass your input's `attention_mask` to obtain reliable results.\n",
      "Setting `pad_token_id` to `eos_token_id`:None for open-end generation.\n",
      "The attention mask and the pad token id were not set. As a consequence, you may observe unexpected behavior. Please pass your input's `attention_mask` to obtain reliable results.\n",
      "Setting `pad_token_id` to `eos_token_id`:None for open-end generation.\n"
     ]
    },
    {
     "name": "stdout",
     "output_type": "stream",
     "text": [
      "GT: 0.32 Gen: 0.33 diff: 0.01 CC.CC(C)Cc1sc(Nc2cccc(C(=O)NCCN)c2)nc1-c1ccc(Cl)c(Cl)c1 <|begin_of_text|>[SMILES]CC.CC(C)Cc1sc(Nc2cccc(C(=O)NCCN)c2)nc1-c1ccc(Cl)c(Cl)c1[/SMILES][QED]0.33[/QED]\n",
      "GT: 0.85 Gen: 0.85 diff: 0.0 Cc1oc(-n2cccc2)c(C#N)c1C(=O)NCC(C)(C)CC(C)O <|begin_of_text|>[SMILES]Cc1oc(-n2cccc2)c(C#N)c1C(=O)NCC(C)(C)CC(C)O[/SMILES][QED]0.85[/QED]\n",
      "GT: 0.41 Gen: 0.41 diff: 0.0 CCc1noc(C(C)Sc2nnc(-c3ccccc3F)n2-c2ccc(C)cc2)n1 <|begin_of_text|>[SMILES]CCc1noc(C(C)Sc2nnc(-c3ccccc3F)n2-c2ccc(C)cc2)n1[/SMILES][QED]0.41[/QED]\n"
     ]
    },
    {
     "name": "stderr",
     "output_type": "stream",
     "text": [
      "The attention mask and the pad token id were not set. As a consequence, you may observe unexpected behavior. Please pass your input's `attention_mask` to obtain reliable results.\n",
      "Setting `pad_token_id` to `eos_token_id`:None for open-end generation.\n",
      "The attention mask and the pad token id were not set. As a consequence, you may observe unexpected behavior. Please pass your input's `attention_mask` to obtain reliable results.\n",
      "Setting `pad_token_id` to `eos_token_id`:None for open-end generation.\n",
      "The attention mask and the pad token id were not set. As a consequence, you may observe unexpected behavior. Please pass your input's `attention_mask` to obtain reliable results.\n",
      "Setting `pad_token_id` to `eos_token_id`:None for open-end generation.\n"
     ]
    },
    {
     "name": "stdout",
     "output_type": "stream",
     "text": [
      "GT: 0.62 Gen: 0.63 diff: 0.01 CC(CC(C)(C)O)OC(=O)CC1CN(C2=Nc3cc(Cl)ccc3Oc3ccccc32)CCN1C <|begin_of_text|>[SMILES]CC(CC(C)(C)O)OC(=O)CC1CN(C2=Nc3cc(Cl)ccc3Oc3ccccc32)CCN1C[/SMILES][QED]0.63[/QED]\n",
      "GT: 0.5 Gen: 0.5 diff: 0.0 CCNC(=NCC(c1ccccc1)N(CC)CC)NCCn1cc(C)cn1 <|begin_of_text|>[SMILES]CCNC(=NCC(c1ccccc1)N(CC)CC)NCCn1cc(C)cn1[/SMILES][QED]0.50[/QED]\n",
      "GT: 0.63 Gen: 0.63 diff: 0.0 Cc1ccc(C2C3=C(CC(C)(C)CC3=O)Nc3nc(-c4ccc(Cl)cc4)nn32)o1 <|begin_of_text|>[SMILES]Cc1ccc(C2C3=C(CC(C)(C)CC3=O)Nc3nc(-c4ccc(Cl)cc4)nn32)o1[/SMILES][QED]0.63[/QED]\n"
     ]
    },
    {
     "name": "stderr",
     "output_type": "stream",
     "text": [
      "The attention mask and the pad token id were not set. As a consequence, you may observe unexpected behavior. Please pass your input's `attention_mask` to obtain reliable results.\n",
      "Setting `pad_token_id` to `eos_token_id`:None for open-end generation.\n",
      "The attention mask and the pad token id were not set. As a consequence, you may observe unexpected behavior. Please pass your input's `attention_mask` to obtain reliable results.\n",
      "Setting `pad_token_id` to `eos_token_id`:None for open-end generation.\n",
      "The attention mask and the pad token id were not set. As a consequence, you may observe unexpected behavior. Please pass your input's `attention_mask` to obtain reliable results.\n",
      "Setting `pad_token_id` to `eos_token_id`:None for open-end generation.\n"
     ]
    },
    {
     "name": "stdout",
     "output_type": "stream",
     "text": [
      "GT: 0.83 Gen: 0.83 diff: 0.0 Cc1ccc(C(=O)N(Cc2ccccc2F)CC2CCCO2)cc1 <|begin_of_text|>[SMILES]Cc1ccc(C(=O)N(Cc2ccccc2F)CC2CCCO2)cc1[/SMILES][QED]0.83[/QED]\n",
      "GT: 0.45 Gen: 0.45 diff: 0.0 O=C1CCCC(O)=C1C(CCc1noc2c1C(=O)CC(c1ccccc1)C2)=NCc1ccccc1 <|begin_of_text|>[SMILES]O=C1CCCC(O)=C1C(CCc1noc2c1C(=O)CC(c1ccccc1)C2)=NCc1ccccc1[/SMILES][QED]0.45[/QED]\n"
     ]
    },
    {
     "name": "stderr",
     "output_type": "stream",
     "text": [
      "The attention mask and the pad token id were not set. As a consequence, you may observe unexpected behavior. Please pass your input's `attention_mask` to obtain reliable results.\n",
      "Setting `pad_token_id` to `eos_token_id`:None for open-end generation.\n",
      "The attention mask and the pad token id were not set. As a consequence, you may observe unexpected behavior. Please pass your input's `attention_mask` to obtain reliable results.\n",
      "Setting `pad_token_id` to `eos_token_id`:None for open-end generation.\n"
     ]
    },
    {
     "name": "stdout",
     "output_type": "stream",
     "text": [
      "GT: 0.86 Gen: 0.86 diff: 0.0 COc1ccc(NC(=O)C=Cc2ccc(C3CC3C)o2)cn1 <|begin_of_text|>[SMILES]COc1ccc(NC(=O)C=Cc2ccc(C3CC3C)o2)cn1[/SMILES][QED]0.86[/QED]\n",
      "GT: 0.85 Gen: 0.85 diff: 0.0 CC1(C(=O)NS(=O)(=O)c2cc(Cl)ccc2Cl)CCC(=O)NC1 <|begin_of_text|>[SMILES]CC1(C(=O)NS(=O)(=O)c2cc(Cl)ccc2Cl)CCC(=O)NC1[/SMILES][QED]0.85[/QED]\n",
      "GT: 0.71 Gen: 0.71 diff: 0.0 Cc1c2ccccc2nn1CCCNC(=O)c1nn2c(c1Cl)OCC2 <|begin_of_text|>[SMILES]Cc1c2ccccc2nn1CCCNC(=O)c1nn2c(c1Cl)OCC2[/SMILES][QED]0.71[/QED]\n"
     ]
    },
    {
     "name": "stderr",
     "output_type": "stream",
     "text": [
      "The attention mask and the pad token id were not set. As a consequence, you may observe unexpected behavior. Please pass your input's `attention_mask` to obtain reliable results.\n",
      "Setting `pad_token_id` to `eos_token_id`:None for open-end generation.\n",
      "The attention mask and the pad token id were not set. As a consequence, you may observe unexpected behavior. Please pass your input's `attention_mask` to obtain reliable results.\n",
      "Setting `pad_token_id` to `eos_token_id`:None for open-end generation.\n",
      "The attention mask and the pad token id were not set. As a consequence, you may observe unexpected behavior. Please pass your input's `attention_mask` to obtain reliable results.\n",
      "Setting `pad_token_id` to `eos_token_id`:None for open-end generation.\n"
     ]
    },
    {
     "name": "stdout",
     "output_type": "stream",
     "text": [
      "GT: 0.65 Gen: 0.65 diff: 0.0 CCNC(=NCc1ccc(CN2CCOCC2)cc1)N1CCC(C)CC1 <|begin_of_text|>[SMILES]CCNC(=NCc1ccc(CN2CCOCC2)cc1)N1CCC(C)CC1[/SMILES][QED]0.65[/QED]\n",
      "GT: 0.69 Gen: 0.7 diff: 0.01 CN1CN(C(=O)c2ccc(F)cc2)N=C(c2ccccc2)c2ccccc21 <|begin_of_text|>[SMILES]CN1CN(C(=O)c2ccc(F)cc2)N=C(c2ccccc2)c2ccccc21[/SMILES][QED]0.70[/QED]\n",
      "GT: 0.71 Gen: 0.71 diff: 0.0 CCOc1ccc(S(=O)(=O)NCC2(C)CCNCC2)cc1OCC.Cl <|begin_of_text|>[SMILES]CCOc1ccc(S(=O)(=O)NCC2(C)CCNCC2)cc1OCC.Cl[/SMILES][QED]0.71[/QED]\n"
     ]
    },
    {
     "name": "stderr",
     "output_type": "stream",
     "text": [
      "The attention mask and the pad token id were not set. As a consequence, you may observe unexpected behavior. Please pass your input's `attention_mask` to obtain reliable results.\n",
      "Setting `pad_token_id` to `eos_token_id`:None for open-end generation.\n",
      "The attention mask and the pad token id were not set. As a consequence, you may observe unexpected behavior. Please pass your input's `attention_mask` to obtain reliable results.\n",
      "Setting `pad_token_id` to `eos_token_id`:None for open-end generation.\n",
      "The attention mask and the pad token id were not set. As a consequence, you may observe unexpected behavior. Please pass your input's `attention_mask` to obtain reliable results.\n",
      "Setting `pad_token_id` to `eos_token_id`:None for open-end generation.\n"
     ]
    },
    {
     "name": "stdout",
     "output_type": "stream",
     "text": [
      "GT: 0.86 Gen: 0.86 diff: 0.0 NCCc1nc(C2CCC(F)(F)CC2)no1 <|begin_of_text|>[SMILES]NCCc1nc(C2CCC(F)(F)CC2)no1[/SMILES][QED]0.86[/QED]\n",
      "GT: 0.85 Gen: 0.85 diff: 0.0 COc1cc(O)c2c(c1)Oc1ccccc1CC2=O <|begin_of_text|>[SMILES]COc1cc(O)c2c(c1)Oc1ccccc1CC2=O[/SMILES][QED]0.85[/QED]\n",
      "GT: 0.45 Gen: 0.45 diff: 0.0 C1CO[SnH2]O1 <|begin_of_text|>[SMILES]C1CO[SnH2]O1[/SMILES][QED]0.45[/QED]\n"
     ]
    },
    {
     "name": "stderr",
     "output_type": "stream",
     "text": [
      "The attention mask and the pad token id were not set. As a consequence, you may observe unexpected behavior. Please pass your input's `attention_mask` to obtain reliable results.\n",
      "Setting `pad_token_id` to `eos_token_id`:None for open-end generation.\n",
      "The attention mask and the pad token id were not set. As a consequence, you may observe unexpected behavior. Please pass your input's `attention_mask` to obtain reliable results.\n",
      "Setting `pad_token_id` to `eos_token_id`:None for open-end generation.\n",
      "The attention mask and the pad token id were not set. As a consequence, you may observe unexpected behavior. Please pass your input's `attention_mask` to obtain reliable results.\n",
      "Setting `pad_token_id` to `eos_token_id`:None for open-end generation.\n"
     ]
    },
    {
     "name": "stdout",
     "output_type": "stream",
     "text": [
      "GT: 0.45 Gen: 0.45 diff: 0.0 Cn1c(=O)c2c(-c3ccccc3Br)n3c(c2n(C)c1=O)C(c1cccs1)OCC3 <|begin_of_text|>[SMILES]Cn1c(=O)c2c(-c3ccccc3Br)n3c(c2n(C)c1=O)C(c1cccs1)OCC3[/SMILES][QED]0.45[/QED]\n",
      "GT: 0.33 Gen: 0.33 diff: 0.0 COc1ccc(N(CC(=O)N(Cc2ccccc2F)C(Cc2ccccc2)C(=O)NC(C)C)S(C)(=O)=O)cc1OC <|begin_of_text|>[SMILES]COc1ccc(N(CC(=O)N(Cc2ccccc2F)C(Cc2ccccc2)C(=O)NC(C)C)S(C)(=O)=O)cc1OC[/SMILES][QED]0.33[/QED]\n"
     ]
    },
    {
     "name": "stderr",
     "output_type": "stream",
     "text": [
      "The attention mask and the pad token id were not set. As a consequence, you may observe unexpected behavior. Please pass your input's `attention_mask` to obtain reliable results.\n",
      "Setting `pad_token_id` to `eos_token_id`:None for open-end generation.\n",
      "The attention mask and the pad token id were not set. As a consequence, you may observe unexpected behavior. Please pass your input's `attention_mask` to obtain reliable results.\n",
      "Setting `pad_token_id` to `eos_token_id`:None for open-end generation.\n"
     ]
    },
    {
     "name": "stdout",
     "output_type": "stream",
     "text": [
      "GT: 0.63 Gen: 0.64 diff: 0.01 Cc1nc(NCCNC(=O)c2cccc(C(F)(F)F)c2)cc(-n2cccc2)n1 <|begin_of_text|>[SMILES]Cc1nc(NCCNC(=O)c2cccc(C(F)(F)F)c2)cc(-n2cccc2)n1[/SMILES][QED]0.64[/QED]\n",
      "GT: 0.54 Gen: 0.55 diff: 0.01 Cl.NCc1ccc(COc2ccc(C(=O)CC3CCCC3)c(O)c2C(F)(F)F)cc1 <|begin_of_text|>[SMILES]Cl.NCc1ccc(COc2ccc(C(=O)CC3CCCC3)c(O)c2C(F)(F)F)cc1[/SMILES][QED]0.55[/QED]\n"
     ]
    },
    {
     "name": "stderr",
     "output_type": "stream",
     "text": [
      "The attention mask and the pad token id were not set. As a consequence, you may observe unexpected behavior. Please pass your input's `attention_mask` to obtain reliable results.\n",
      "Setting `pad_token_id` to `eos_token_id`:None for open-end generation.\n",
      "The attention mask and the pad token id were not set. As a consequence, you may observe unexpected behavior. Please pass your input's `attention_mask` to obtain reliable results.\n",
      "Setting `pad_token_id` to `eos_token_id`:None for open-end generation.\n"
     ]
    },
    {
     "name": "stdout",
     "output_type": "stream",
     "text": [
      "GT: 0.05 Gen: 0.05 diff: 0.0 CC(=O)OCC1=CC2(O)OC1CC1C3=C(C(C)C)CCC3(C)CCC12C.CC(C)C(=O)CCC1(C)CCC2(C)C(CC=C3C(O)C4(O)COC5OC2C3C5(O)C4O)C1=O.CC(C)C(=O)CCC1(C)CCC2(C)C(CCC3C(O)OC4(O)C(O)COC5OC2C3C54O)C1=O.CC(C)C1=C2C3=CC=C(C(=O)[O-])CC(OC4OCC(O)C(O)C4O)C3(C)CCC2(C)CC1.CC(C)C1=C2C3CC=C4C(O)C5(O)COC6OC(C4C6(O)C5O)C3(C)CCC2(C)CC1.[Na+] <|begin_of_text|>[SMILES]CC(=O)OCC1=CC2(O)OC1CC1C3=C(C(C)C)CCC3(C)CCC12C.CC(C)C(=O)CCC1(C)CCC2(C)C(CC=C3C(O)C4(O)COC5OC2C3C5(O)C4O)C1=O.CC(C)C(=O)CCC1(C)CCC2(C)C(CCC3C(O)OC4(O)C(O)COC5OC2C3C54O)C1=O.CC(C)C1=C2C3=CC=C(C(=O)[O-])CC(OC4OCC(O)C(O)C4O)C3(C)CCC2(C)CC1.CC(C)C1=C2C3CC=C4C(O)C5(O)COC6OC(C4C6(O)C5O)C3(C)CCC2(C)CC1.[Na+][/SMILES][QED]0.05[/QED]\n",
      "GT: 0.26 Gen: 0.27 diff: 0.01 CCOc1cc(C2C(C(=O)Nc3ccc(Cl)cc3)=C(C)Nc3ncnn32)ccc1OCc1ccccc1Cl <|begin_of_text|>[SMILES]CCOc1cc(C2C(C(=O)Nc3ccc(Cl)cc3)=C(C)Nc3ncnn32)ccc1OCc1ccccc1Cl[/SMILES][QED]0.27[/QED]\n"
     ]
    },
    {
     "name": "stderr",
     "output_type": "stream",
     "text": [
      "The attention mask and the pad token id were not set. As a consequence, you may observe unexpected behavior. Please pass your input's `attention_mask` to obtain reliable results.\n",
      "Setting `pad_token_id` to `eos_token_id`:None for open-end generation.\n",
      "The attention mask and the pad token id were not set. As a consequence, you may observe unexpected behavior. Please pass your input's `attention_mask` to obtain reliable results.\n",
      "Setting `pad_token_id` to `eos_token_id`:None for open-end generation.\n"
     ]
    },
    {
     "name": "stdout",
     "output_type": "stream",
     "text": [
      "GT: 0.18 Gen: 0.18 diff: 0.0 CC1CCCC(C)C1n1c(-c2cccs2)nc2cc(C(=O)NC3(C(=O)Nc4ccc(C=CC(=O)O)cc4)CCCC3)ccc21 <|begin_of_text|>[SMILES]CC1CCCC(C)C1n1c(-c2cccs2)nc2cc(C(=O)NC3(C(=O)Nc4ccc(C=CC(=O)O)cc4)CCCC3)ccc21[/SMILES][QED]0.18[/QED]\n",
      "GT: 0.83 Gen: 0.83 diff: 0.0 CCC(CC)n1nc(C)c(C(C)N)c1C <|begin_of_text|>[SMILES]CCC(CC)n1nc(C)c(C(C)N)c1C[/SMILES][QED]0.83[/QED]\n",
      "GT: 0.82 Gen: 0.83 diff: 0.01 Nc1nc(C(F)(F)F)nn1-c1cc(S)c(C2CC2)cc1Cl <|begin_of_text|>[SMILES]Nc1nc(C(F)(F)F)nn1-c1cc(S)c(C2CC2)cc1Cl[/SMILES][QED]0.83[/QED]\n"
     ]
    },
    {
     "name": "stderr",
     "output_type": "stream",
     "text": [
      "/auto/home/menuab/miniforge3/envs/llama3/lib/python3.10/site-packages/sklearn/metrics/_regression.py:492: FutureWarning: 'squared' is deprecated in version 1.4 and will be removed in 1.6. To calculate the root mean squared error, use the function'root_mean_squared_error'.\n",
      "  warnings.warn(\n",
      "The attention mask and the pad token id were not set. As a consequence, you may observe unexpected behavior. Please pass your input's `attention_mask` to obtain reliable results.\n",
      "Setting `pad_token_id` to `eos_token_id`:None for open-end generation.\n",
      "[16:07:27] DEPRECATION WARNING: please use MorganGenerator\n",
      "The attention mask and the pad token id were not set. As a consequence, you may observe unexpected behavior. Please pass your input's `attention_mask` to obtain reliable results.\n",
      "Setting `pad_token_id` to `eos_token_id`:None for open-end generation.\n",
      "[16:07:27] DEPRECATION WARNING: please use MorganGenerator\n",
      "The attention mask and the pad token id were not set. As a consequence, you may observe unexpected behavior. Please pass your input's `attention_mask` to obtain reliable results.\n",
      "Setting `pad_token_id` to `eos_token_id`:None for open-end generation.\n",
      "[16:07:28] DEPRECATION WARNING: please use MorganGenerator\n"
     ]
    },
    {
     "name": "stdout",
     "output_type": "stream",
     "text": [
      "GT: 2.33 Gen: 2.32 diff: 0.01 CC(=O)Nc1ccc(C(=O)NN=Cc2cccc([N+](=O)[O-])c2OC(=O)c2cccc(C)c2)cc1 <|begin_of_text|>[SMILES]CC(=O)Nc1ccc(C(=O)NN=Cc2cccc([N+](=O)[O-])c2OC(=O)c2cccc(C)c2)cc1[/SMILES][SAS]2.32[/SAS]\n",
      "GT: 3.64 Gen: 3.64 diff: 0.0 CCNC(=NCC(C)Cc1cccs1)NC1CCN(c2ncccc2F)C1 <|begin_of_text|>[SMILES]CCNC(=NCC(C)Cc1cccs1)NC1CCN(c2ncccc2F)C1[/SMILES][SAS]3.64[/SAS]\n",
      "GT: 3.79 Gen: 3.79 diff: 0.0 CCOC(=O)C1C(C)NNC1S(=O)(=O)Nc1cccc(CC)c1 <|begin_of_text|>[SMILES]CCOC(=O)C1C(C)NNC1S(=O)(=O)Nc1cccc(CC)c1[/SMILES][SAS]3.79[/SAS]\n"
     ]
    },
    {
     "name": "stderr",
     "output_type": "stream",
     "text": [
      "The attention mask and the pad token id were not set. As a consequence, you may observe unexpected behavior. Please pass your input's `attention_mask` to obtain reliable results.\n",
      "Setting `pad_token_id` to `eos_token_id`:None for open-end generation.\n",
      "[16:07:28] DEPRECATION WARNING: please use MorganGenerator\n",
      "The attention mask and the pad token id were not set. As a consequence, you may observe unexpected behavior. Please pass your input's `attention_mask` to obtain reliable results.\n",
      "Setting `pad_token_id` to `eos_token_id`:None for open-end generation.\n",
      "[16:07:28] DEPRECATION WARNING: please use MorganGenerator\n",
      "The attention mask and the pad token id were not set. As a consequence, you may observe unexpected behavior. Please pass your input's `attention_mask` to obtain reliable results.\n",
      "Setting `pad_token_id` to `eos_token_id`:None for open-end generation.\n"
     ]
    },
    {
     "name": "stdout",
     "output_type": "stream",
     "text": [
      "GT: 2.53 Gen: 2.58 diff: 0.05 CCc1n[nH]c2c(c1=S)CN(C(=O)c1ccccc1)CC2 <|begin_of_text|>[SMILES]CCc1n[nH]c2c(c1=S)CN(C(=O)c1ccccc1)CC2[/SMILES][SAS]2.58[/SAS]\n",
      "GT: 2.49 Gen: 2.5 diff: 0.01 CNc1cccc(Nc2cnn(C)c2)c1[N+](=O)[O-] <|begin_of_text|>[SMILES]CNc1cccc(Nc2cnn(C)c2)c1[N+](=O)[O-][/SMILES][SAS]2.50[/SAS]\n"
     ]
    },
    {
     "name": "stderr",
     "output_type": "stream",
     "text": [
      "[16:07:28] DEPRECATION WARNING: please use MorganGenerator\n",
      "The attention mask and the pad token id were not set. As a consequence, you may observe unexpected behavior. Please pass your input's `attention_mask` to obtain reliable results.\n",
      "Setting `pad_token_id` to `eos_token_id`:None for open-end generation.\n",
      "[16:07:28] DEPRECATION WARNING: please use MorganGenerator\n",
      "The attention mask and the pad token id were not set. As a consequence, you may observe unexpected behavior. Please pass your input's `attention_mask` to obtain reliable results.\n",
      "Setting `pad_token_id` to `eos_token_id`:None for open-end generation.\n"
     ]
    },
    {
     "name": "stdout",
     "output_type": "stream",
     "text": [
      "GT: 3.17 Gen: 3.17 diff: 0.0 O=C(NCC(O)CN1CCOCC1)Nc1snc(OCc2ccc(Cl)cc2F)c1C(=O)O <|begin_of_text|>[SMILES]O=C(NCC(O)CN1CCOCC1)Nc1snc(OCc2ccc(Cl)cc2F)c1C(=O)O[/SMILES][SAS]3.17[/SAS]\n",
      "GT: 5.07 Gen: 5.03 diff: 0.04 CCC(=O)c1sc(NC2C3C4CCC(C4)C23)c(OC)c1N <|begin_of_text|>[SMILES]CCC(=O)c1sc(NC2C3C4CCC(C4)C23)c(OC)c1N[/SMILES][SAS]5.03[/SAS]\n"
     ]
    },
    {
     "name": "stderr",
     "output_type": "stream",
     "text": [
      "[16:07:28] DEPRECATION WARNING: please use MorganGenerator\n",
      "The attention mask and the pad token id were not set. As a consequence, you may observe unexpected behavior. Please pass your input's `attention_mask` to obtain reliable results.\n",
      "Setting `pad_token_id` to `eos_token_id`:None for open-end generation.\n",
      "[16:07:28] DEPRECATION WARNING: please use MorganGenerator\n",
      "The attention mask and the pad token id were not set. As a consequence, you may observe unexpected behavior. Please pass your input's `attention_mask` to obtain reliable results.\n",
      "Setting `pad_token_id` to `eos_token_id`:None for open-end generation.\n",
      "[16:07:28] DEPRECATION WARNING: please use MorganGenerator\n"
     ]
    },
    {
     "name": "stdout",
     "output_type": "stream",
     "text": [
      "GT: 2.66 Gen: 2.65 diff: 0.01 CN(C)S(=O)(=O)NCCCc1ncc[nH]1 <|begin_of_text|>[SMILES]CN(C)S(=O)(=O)NCCCc1ncc[nH]1[/SMILES][SAS]2.65[/SAS]\n",
      "GT: 2.29 Gen: 2.29 diff: 0.0 Cc1ccc(F)c(OCc2cc(F)cc(C#CCO)c2)c1 <|begin_of_text|>[SMILES]Cc1ccc(F)c(OCc2cc(F)cc(C#CCO)c2)c1[/SMILES][SAS]2.29[/SAS]\n",
      "GT: 2.61 Gen: 2.62 diff: 0.01 Cc1cc(C)c(S(=O)(=O)NCC2CCCN2c2ccccc2)c(C)c1 <|begin_of_text|>[SMILES]Cc1cc(C)c(S(=O)(=O)NCC2CCCN2c2ccccc2)c(C)c1[/SMILES][SAS]2.62[/SAS]\n"
     ]
    },
    {
     "name": "stderr",
     "output_type": "stream",
     "text": [
      "The attention mask and the pad token id were not set. As a consequence, you may observe unexpected behavior. Please pass your input's `attention_mask` to obtain reliable results.\n",
      "Setting `pad_token_id` to `eos_token_id`:None for open-end generation.\n",
      "[16:07:28] DEPRECATION WARNING: please use MorganGenerator\n",
      "The attention mask and the pad token id were not set. As a consequence, you may observe unexpected behavior. Please pass your input's `attention_mask` to obtain reliable results.\n",
      "Setting `pad_token_id` to `eos_token_id`:None for open-end generation.\n",
      "[16:07:28] DEPRECATION WARNING: please use MorganGenerator\n",
      "The attention mask and the pad token id were not set. As a consequence, you may observe unexpected behavior. Please pass your input's `attention_mask` to obtain reliable results.\n",
      "Setting `pad_token_id` to `eos_token_id`:None for open-end generation.\n"
     ]
    },
    {
     "name": "stdout",
     "output_type": "stream",
     "text": [
      "GT: 2.47 Gen: 2.47 diff: 0.0 Cc1nn(C)c(Oc2ccc(Br)cc2[N+](=O)[O-])c1CO <|begin_of_text|>[SMILES]Cc1nn(C)c(Oc2ccc(Br)cc2[N+](=O)[O-])c1CO[/SMILES][SAS]2.47[/SAS]\n",
      "GT: 3.01 Gen: 2.99 diff: 0.02 CN=C(NCc1nc(-c2ccccc2)cs1)N1CCSC(C)(C)C1 <|begin_of_text|>[SMILES]CN=C(NCc1nc(-c2ccccc2)cs1)N1CCSC(C)(C)C1[/SMILES][SAS]2.99[/SAS]\n"
     ]
    },
    {
     "name": "stderr",
     "output_type": "stream",
     "text": [
      "[16:07:29] DEPRECATION WARNING: please use MorganGenerator\n",
      "The attention mask and the pad token id were not set. As a consequence, you may observe unexpected behavior. Please pass your input's `attention_mask` to obtain reliable results.\n",
      "Setting `pad_token_id` to `eos_token_id`:None for open-end generation.\n",
      "[16:07:29] DEPRECATION WARNING: please use MorganGenerator\n",
      "The attention mask and the pad token id were not set. As a consequence, you may observe unexpected behavior. Please pass your input's `attention_mask` to obtain reliable results.\n",
      "Setting `pad_token_id` to `eos_token_id`:None for open-end generation.\n"
     ]
    },
    {
     "name": "stdout",
     "output_type": "stream",
     "text": [
      "GT: 2.91 Gen: 2.92 diff: 0.01 CC(C)NS(=O)(=O)[N-]Cc1ccccc1.O=C(O)c1cccc2c1cnn2-c1ccc(F)cc1 <|begin_of_text|>[SMILES]CC(C)NS(=O)(=O)[N-]Cc1ccccc1.O=C(O)c1cccc2c1cnn2-c1ccc(F)cc1[/SMILES][SAS]2.92[/SAS]\n",
      "GT: 2.39 Gen: 2.39 diff: 0.0 CCOc1ccc(-c2noc(Cn3c(=O)n(C(C)C)c(=O)c4ccccc43)n2)cc1OC <|begin_of_text|>[SMILES]CCOc1ccc(-c2noc(Cn3c(=O)n(C(C)C)c(=O)c4ccccc43)n2)cc1OC[/SMILES][SAS]2.39[/SAS]\n"
     ]
    },
    {
     "name": "stderr",
     "output_type": "stream",
     "text": [
      "[16:07:29] DEPRECATION WARNING: please use MorganGenerator\n",
      "The attention mask and the pad token id were not set. As a consequence, you may observe unexpected behavior. Please pass your input's `attention_mask` to obtain reliable results.\n",
      "Setting `pad_token_id` to `eos_token_id`:None for open-end generation.\n",
      "[16:07:29] DEPRECATION WARNING: please use MorganGenerator\n",
      "The attention mask and the pad token id were not set. As a consequence, you may observe unexpected behavior. Please pass your input's `attention_mask` to obtain reliable results.\n",
      "Setting `pad_token_id` to `eos_token_id`:None for open-end generation.\n"
     ]
    },
    {
     "name": "stdout",
     "output_type": "stream",
     "text": [
      "GT: 2.26 Gen: 2.26 diff: 0.0 O=C(CSc1nnnn1-c1ccc(Cl)cc1)Nc1cccc(Cl)c1N1CCCCC1 <|begin_of_text|>[SMILES]O=C(CSc1nnnn1-c1ccc(Cl)cc1)Nc1cccc(Cl)c1N1CCCCC1[/SMILES][SAS]2.26[/SAS]\n",
      "GT: 2.26 Gen: 2.26 diff: 0.0 Cc1ccccc1C1(O)CCN(C(=O)c2ccc(-c3ccc(F)cc3)o2)CC1 <|begin_of_text|>[SMILES]Cc1ccccc1C1(O)CCN(C(=O)c2ccc(-c3ccc(F)cc3)o2)CC1[/SMILES][SAS]2.26[/SAS]\n"
     ]
    },
    {
     "name": "stderr",
     "output_type": "stream",
     "text": [
      "[16:07:29] DEPRECATION WARNING: please use MorganGenerator\n",
      "The attention mask and the pad token id were not set. As a consequence, you may observe unexpected behavior. Please pass your input's `attention_mask` to obtain reliable results.\n",
      "Setting `pad_token_id` to `eos_token_id`:None for open-end generation.\n",
      "[16:07:29] DEPRECATION WARNING: please use MorganGenerator\n",
      "The attention mask and the pad token id were not set. As a consequence, you may observe unexpected behavior. Please pass your input's `attention_mask` to obtain reliable results.\n",
      "Setting `pad_token_id` to `eos_token_id`:None for open-end generation.\n"
     ]
    },
    {
     "name": "stdout",
     "output_type": "stream",
     "text": [
      "GT: 2.4 Gen: 2.4 diff: 0.0 CCc1ccc(NC(=O)NC(C)(C)CCC(=O)O)cc1S(N)(=O)=O <|begin_of_text|>[SMILES]CCc1ccc(NC(=O)NC(C)(C)CCC(=O)O)cc1S(N)(=O)=O[/SMILES][SAS]2.40[/SAS]\n",
      "GT: 1.97 Gen: 1.96 diff: 0.01 CCCOc1ccc(C=NNC(=O)COc2ccccc2C)cc1OC <|begin_of_text|>[SMILES]CCCOc1ccc(C=NNC(=O)COc2ccccc2C)cc1OC[/SMILES][SAS]1.96[/SAS]\n"
     ]
    },
    {
     "name": "stderr",
     "output_type": "stream",
     "text": [
      "[16:07:29] DEPRECATION WARNING: please use MorganGenerator\n",
      "The attention mask and the pad token id were not set. As a consequence, you may observe unexpected behavior. Please pass your input's `attention_mask` to obtain reliable results.\n",
      "Setting `pad_token_id` to `eos_token_id`:None for open-end generation.\n",
      "[16:07:29] DEPRECATION WARNING: please use MorganGenerator\n",
      "The attention mask and the pad token id were not set. As a consequence, you may observe unexpected behavior. Please pass your input's `attention_mask` to obtain reliable results.\n",
      "Setting `pad_token_id` to `eos_token_id`:None for open-end generation.\n"
     ]
    },
    {
     "name": "stdout",
     "output_type": "stream",
     "text": [
      "GT: 2.72 Gen: 2.7 diff: 0.02 CC(C)(C)OC(=O)NCC(=O)N1CCOC(c2ccccc2F)C1 <|begin_of_text|>[SMILES]CC(C)(C)OC(=O)NCC(=O)N1CCOC(c2ccccc2F)C1[/SMILES][SAS]2.70[/SAS]\n",
      "GT: 2.8 Gen: 2.78 diff: 0.02 CCOc1cc(OC)c(Br)cc1CC1CCCNC1 <|begin_of_text|>[SMILES]CCOc1cc(OC)c(Br)cc1CC1CCCNC1[/SMILES][SAS]2.78[/SAS]\n"
     ]
    },
    {
     "name": "stderr",
     "output_type": "stream",
     "text": [
      "[16:07:29] DEPRECATION WARNING: please use MorganGenerator\n",
      "The attention mask and the pad token id were not set. As a consequence, you may observe unexpected behavior. Please pass your input's `attention_mask` to obtain reliable results.\n",
      "Setting `pad_token_id` to `eos_token_id`:None for open-end generation.\n",
      "[16:07:29] DEPRECATION WARNING: please use MorganGenerator\n",
      "The attention mask and the pad token id were not set. As a consequence, you may observe unexpected behavior. Please pass your input's `attention_mask` to obtain reliable results.\n",
      "Setting `pad_token_id` to `eos_token_id`:None for open-end generation.\n"
     ]
    },
    {
     "name": "stdout",
     "output_type": "stream",
     "text": [
      "GT: 2.33 Gen: 2.33 diff: 0.0 CCN(CC)C(=O)c1nn(-c2cccc(F)c2)c(=O)n(Cc2cccc(Cl)c2)c1=O <|begin_of_text|>[SMILES]CCN(CC)C(=O)c1nn(-c2cccc(F)c2)c(=O)n(Cc2cccc(Cl)c2)c1=O[/SMILES][SAS]2.33[/SAS]\n",
      "GT: 2.51 Gen: 2.5 diff: 0.01 CCCC(=O)n1cc(CCC(C)C)n(Cc2ccc(-c3ccccc3C(=O)O)cc2)c1=O <|begin_of_text|>[SMILES]CCCC(=O)n1cc(CCC(C)C)n(Cc2ccc(-c3ccccc3C(=O)O)cc2)c1=O[/SMILES][SAS]2.50[/SAS]\n"
     ]
    },
    {
     "name": "stderr",
     "output_type": "stream",
     "text": [
      "[16:07:30] DEPRECATION WARNING: please use MorganGenerator\n",
      "The attention mask and the pad token id were not set. As a consequence, you may observe unexpected behavior. Please pass your input's `attention_mask` to obtain reliable results.\n",
      "Setting `pad_token_id` to `eos_token_id`:None for open-end generation.\n",
      "[16:07:30] DEPRECATION WARNING: please use MorganGenerator\n",
      "The attention mask and the pad token id were not set. As a consequence, you may observe unexpected behavior. Please pass your input's `attention_mask` to obtain reliable results.\n",
      "Setting `pad_token_id` to `eos_token_id`:None for open-end generation.\n"
     ]
    },
    {
     "name": "stdout",
     "output_type": "stream",
     "text": [
      "GT: 4.58 Gen: 4.61 diff: 0.03 CON=C(C(=O)NC1C(=O)N2C(C(=O)OCOC(=O)C(C)(C)C)C(Cn3nnc(C)n3)=CSC12)c1csc(N)n1 <|begin_of_text|>[SMILES]CON=C(C(=O)NC1C(=O)N2C(C(=O)OCOC(=O)C(C)(C)C)C(Cn3nnc(C)n3)=CSC12)c1csc(N)n1[/SMILES][SAS]4.61[/SAS]\n",
      "GT: 2.02 Gen: 2.04 diff: 0.02 ONCc1ccccc1-c1ccncc1 <|begin_of_text|>[SMILES]ONCc1ccccc1-c1ccncc1[/SMILES][SAS]2.04[/SAS]\n"
     ]
    },
    {
     "name": "stderr",
     "output_type": "stream",
     "text": [
      "[16:07:30] DEPRECATION WARNING: please use MorganGenerator\n",
      "The attention mask and the pad token id were not set. As a consequence, you may observe unexpected behavior. Please pass your input's `attention_mask` to obtain reliable results.\n",
      "Setting `pad_token_id` to `eos_token_id`:None for open-end generation.\n",
      "[16:07:30] DEPRECATION WARNING: please use MorganGenerator\n",
      "The attention mask and the pad token id were not set. As a consequence, you may observe unexpected behavior. Please pass your input's `attention_mask` to obtain reliable results.\n",
      "Setting `pad_token_id` to `eos_token_id`:None for open-end generation.\n"
     ]
    },
    {
     "name": "stdout",
     "output_type": "stream",
     "text": [
      "GT: 2.6 Gen: 2.63 diff: 0.03 Cn1c(Cl)c(C=NOC(=O)c2cccs2)c2ccccc21 <|begin_of_text|>[SMILES]Cn1c(Cl)c(C=NOC(=O)c2cccs2)c2ccccc21[/SMILES][SAS]2.63[/SAS]\n",
      "GT: 2.62 Gen: 2.6 diff: 0.02 COc1cc(Cn2ncc(N)n2)ccc1C#N <|begin_of_text|>[SMILES]COc1cc(Cn2ncc(N)n2)ccc1C#N[/SMILES][SAS]2.60[/SAS]\n"
     ]
    },
    {
     "name": "stderr",
     "output_type": "stream",
     "text": [
      "[16:07:30] DEPRECATION WARNING: please use MorganGenerator\n",
      "The attention mask and the pad token id were not set. As a consequence, you may observe unexpected behavior. Please pass your input's `attention_mask` to obtain reliable results.\n",
      "Setting `pad_token_id` to `eos_token_id`:None for open-end generation.\n",
      "[16:07:30] DEPRECATION WARNING: please use MorganGenerator\n",
      "The attention mask and the pad token id were not set. As a consequence, you may observe unexpected behavior. Please pass your input's `attention_mask` to obtain reliable results.\n",
      "Setting `pad_token_id` to `eos_token_id`:None for open-end generation.\n"
     ]
    },
    {
     "name": "stdout",
     "output_type": "stream",
     "text": [
      "GT: 3.39 Gen: 3.34 diff: 0.05 CCN(CC)C(C(=O)O)c1cc(NC(=O)c2c[nH]c3ccccc3c2=O)c(C(C)(C)C)cc1C(C)(C)C.Cl <|begin_of_text|>[SMILES]CCN(CC)C(C(=O)O)c1cc(NC(=O)c2c[nH]c3ccccc3c2=O)c(C(C)(C)C)cc1C(C)(C)C.Cl[/SMILES][SAS]3.34[/SAS]\n",
      "GT: 3.9 Gen: 3.89 diff: 0.01 CC(C(=O)NC(=O)NC1CCCC1)[NH+]1CCCCCC1 <|begin_of_text|>[SMILES]CC(C(=O)NC(=O)NC1CCCC1)[NH+]1CCCCCC1[/SMILES][SAS]3.89[/SAS]\n"
     ]
    },
    {
     "name": "stderr",
     "output_type": "stream",
     "text": [
      "[16:07:30] DEPRECATION WARNING: please use MorganGenerator\n",
      "The attention mask and the pad token id were not set. As a consequence, you may observe unexpected behavior. Please pass your input's `attention_mask` to obtain reliable results.\n",
      "Setting `pad_token_id` to `eos_token_id`:None for open-end generation.\n",
      "[16:07:30] DEPRECATION WARNING: please use MorganGenerator\n",
      "The attention mask and the pad token id were not set. As a consequence, you may observe unexpected behavior. Please pass your input's `attention_mask` to obtain reliable results.\n",
      "Setting `pad_token_id` to `eos_token_id`:None for open-end generation.\n",
      "[16:07:30] DEPRECATION WARNING: please use MorganGenerator\n",
      "The attention mask and the pad token id were not set. As a consequence, you may observe unexpected behavior. Please pass your input's `attention_mask` to obtain reliable results.\n",
      "Setting `pad_token_id` to `eos_token_id`:None for open-end generation.\n"
     ]
    },
    {
     "name": "stdout",
     "output_type": "stream",
     "text": [
      "GT: 2.64 Gen: 2.65 diff: 0.01 COC(=O)C=C1SC(=NC(=O)c2ccc(Cl)cc2Cl)N(c2ccc(N)cc2)C1=O <|begin_of_text|>[SMILES]COC(=O)C=C1SC(=NC(=O)c2ccc(Cl)cc2Cl)N(c2ccc(N)cc2)C1=O[/SMILES][SAS]2.65[/SAS]\n",
      "GT: 3.84 Gen: 3.77 diff: 0.07 CCC1C(OS(C)(=O)=O)CN1C <|begin_of_text|>[SMILES]CCC1C(OS(C)(=O)=O)CN1C[/SMILES][SAS]3.77[/SAS]\n",
      "GT: 2.5 Gen: 2.5 diff: 0.0 CCC(=O)NCC1(CCOC)CC1 <|begin_of_text|>[SMILES]CCC(=O)NCC1(CCOC)CC1[/SMILES][SAS]2.50[/SAS]\n"
     ]
    },
    {
     "name": "stderr",
     "output_type": "stream",
     "text": [
      "[16:07:31] DEPRECATION WARNING: please use MorganGenerator\n",
      "The attention mask and the pad token id were not set. As a consequence, you may observe unexpected behavior. Please pass your input's `attention_mask` to obtain reliable results.\n",
      "Setting `pad_token_id` to `eos_token_id`:None for open-end generation.\n",
      "[16:07:31] DEPRECATION WARNING: please use MorganGenerator\n",
      "The attention mask and the pad token id were not set. As a consequence, you may observe unexpected behavior. Please pass your input's `attention_mask` to obtain reliable results.\n",
      "Setting `pad_token_id` to `eos_token_id`:None for open-end generation.\n",
      "[16:07:31] DEPRECATION WARNING: please use MorganGenerator\n",
      "The attention mask and the pad token id were not set. As a consequence, you may observe unexpected behavior. Please pass your input's `attention_mask` to obtain reliable results.\n",
      "Setting `pad_token_id` to `eos_token_id`:None for open-end generation.\n"
     ]
    },
    {
     "name": "stdout",
     "output_type": "stream",
     "text": [
      "GT: 2.33 Gen: 2.33 diff: 0.0 CN1C(=O)Cc2cc(-c3csc(N4CCCCC4)n3)ccc21 <|begin_of_text|>[SMILES]CN1C(=O)Cc2cc(-c3csc(N4CCCCC4)n3)ccc21[/SMILES][SAS]2.33[/SAS]\n",
      "GT: 2.17 Gen: 2.17 diff: 0.0 CCCCOc1cccc2c1C(=O)OC2=O <|begin_of_text|>[SMILES]CCCCOc1cccc2c1C(=O)OC2=O[/SMILES][SAS]2.17[/SAS]\n",
      "GT: 3.4 Gen: 3.38 diff: 0.02 N#CCc1nc(CN)c(C(F)F)cc1Br <|begin_of_text|>[SMILES]N#CCc1nc(CN)c(C(F)F)cc1Br[/SMILES][SAS]3.38[/SAS]\n"
     ]
    },
    {
     "name": "stderr",
     "output_type": "stream",
     "text": [
      "[16:07:31] DEPRECATION WARNING: please use MorganGenerator\n",
      "The attention mask and the pad token id were not set. As a consequence, you may observe unexpected behavior. Please pass your input's `attention_mask` to obtain reliable results.\n",
      "Setting `pad_token_id` to `eos_token_id`:None for open-end generation.\n",
      "[16:07:31] DEPRECATION WARNING: please use MorganGenerator\n",
      "The attention mask and the pad token id were not set. As a consequence, you may observe unexpected behavior. Please pass your input's `attention_mask` to obtain reliable results.\n",
      "Setting `pad_token_id` to `eos_token_id`:None for open-end generation.\n",
      "[16:07:31] DEPRECATION WARNING: please use MorganGenerator\n"
     ]
    },
    {
     "name": "stdout",
     "output_type": "stream",
     "text": [
      "GT: 3.27 Gen: 3.25 diff: 0.02 FC(F)(F)c1cccc(OCCC2CNCCC2c2ccsc2)c1 <|begin_of_text|>[SMILES]FC(F)(F)c1cccc(OCCC2CNCCC2c2ccsc2)c1[/SMILES][SAS]3.25[/SAS]\n",
      "GT: 1.8 Gen: 1.8 diff: 0.0 CCc1ccc(C(=O)CCC(=O)Nc2ccc(C(=O)NC3CC3)cc2)cc1 <|begin_of_text|>[SMILES]CCc1ccc(C(=O)CCC(=O)Nc2ccc(C(=O)NC3CC3)cc2)cc1[/SMILES][SAS]1.80[/SAS]\n",
      "GT: 2.52 Gen: 2.5 diff: 0.02 CC(=O)c1ccc(OCC(=O)N2CCc3ncnc(N4CCN(C5CCC5)CC4)c3CC2)cc1 <|begin_of_text|>[SMILES]CC(=O)c1ccc(OCC(=O)N2CCc3ncnc(N4CCN(C5CCC5)CC4)c3CC2)cc1[/SMILES][SAS]2.50[/SAS]\n"
     ]
    },
    {
     "name": "stderr",
     "output_type": "stream",
     "text": [
      "The attention mask and the pad token id were not set. As a consequence, you may observe unexpected behavior. Please pass your input's `attention_mask` to obtain reliable results.\n",
      "Setting `pad_token_id` to `eos_token_id`:None for open-end generation.\n",
      "[16:07:31] DEPRECATION WARNING: please use MorganGenerator\n",
      "The attention mask and the pad token id were not set. As a consequence, you may observe unexpected behavior. Please pass your input's `attention_mask` to obtain reliable results.\n",
      "Setting `pad_token_id` to `eos_token_id`:None for open-end generation.\n",
      "[16:07:31] DEPRECATION WARNING: please use MorganGenerator\n",
      "The attention mask and the pad token id were not set. As a consequence, you may observe unexpected behavior. Please pass your input's `attention_mask` to obtain reliable results.\n",
      "Setting `pad_token_id` to `eos_token_id`:None for open-end generation.\n",
      "[16:07:31] DEPRECATION WARNING: please use MorganGenerator\n",
      "The attention mask and the pad token id were not set. As a consequence, you may observe unexpected behavior. Please pass your input's `attention_mask` to obtain reliable results.\n",
      "Setting `pad_token_id` to `eos_token_id`:None for open-end generation.\n"
     ]
    },
    {
     "name": "stdout",
     "output_type": "stream",
     "text": [
      "GT: 2.63 Gen: 2.64 diff: 0.01 COCCCN(C)c1c(CCl)c(C)nn1C <|begin_of_text|>[SMILES]COCCCN(C)c1c(CCl)c(C)nn1C[/SMILES][SAS]2.64[/SAS]\n",
      "GT: 2.09 Gen: 2.09 diff: 0.0 CC(C)CCNC(=O)c1ccc(Oc2ccc(NS(C)(=O)=O)cc2)nc1 <|begin_of_text|>[SMILES]CC(C)CCNC(=O)c1ccc(Oc2ccc(NS(C)(=O)=O)cc2)nc1[/SMILES][SAS]2.09[/SAS]\n",
      "GT: 5.72 Gen: 5.86 diff: 0.14 ClC1=NC2N=C(N1)O2 <|begin_of_text|>[SMILES]ClC1=NC2N=C(N1)O2[/SMILES][SAS]5.86[/SAS]\n"
     ]
    },
    {
     "name": "stderr",
     "output_type": "stream",
     "text": [
      "[16:07:31] DEPRECATION WARNING: please use MorganGenerator\n",
      "The attention mask and the pad token id were not set. As a consequence, you may observe unexpected behavior. Please pass your input's `attention_mask` to obtain reliable results.\n",
      "Setting `pad_token_id` to `eos_token_id`:None for open-end generation.\n",
      "[16:07:31] DEPRECATION WARNING: please use MorganGenerator\n",
      "The attention mask and the pad token id were not set. As a consequence, you may observe unexpected behavior. Please pass your input's `attention_mask` to obtain reliable results.\n",
      "Setting `pad_token_id` to `eos_token_id`:None for open-end generation.\n"
     ]
    },
    {
     "name": "stdout",
     "output_type": "stream",
     "text": [
      "GT: 2.89 Gen: 2.88 diff: 0.01 CCNC(=O)C(Cc1ccccc1)N(Cc1ccc(C)cc1)C(=O)CCCN(c1ccccc1)S(C)(=O)=O <|begin_of_text|>[SMILES]CCNC(=O)C(Cc1ccccc1)N(Cc1ccc(C)cc1)C(=O)CCCN(c1ccccc1)S(C)(=O)=O[/SMILES][SAS]2.88[/SAS]\n",
      "GT: 3.05 Gen: 3.06 diff: 0.01 CCn1ccnc1C1CCCN(C(=O)c2cn3cccc(C)c3n2)C1 <|begin_of_text|>[SMILES]CCn1ccnc1C1CCCN(C(=O)c2cn3cccc(C)c3n2)C1[/SMILES][SAS]3.06[/SAS]\n"
     ]
    },
    {
     "name": "stderr",
     "output_type": "stream",
     "text": [
      "[16:07:32] DEPRECATION WARNING: please use MorganGenerator\n",
      "The attention mask and the pad token id were not set. As a consequence, you may observe unexpected behavior. Please pass your input's `attention_mask` to obtain reliable results.\n",
      "Setting `pad_token_id` to `eos_token_id`:None for open-end generation.\n",
      "[16:07:32] DEPRECATION WARNING: please use MorganGenerator\n",
      "The attention mask and the pad token id were not set. As a consequence, you may observe unexpected behavior. Please pass your input's `attention_mask` to obtain reliable results.\n",
      "Setting `pad_token_id` to `eos_token_id`:None for open-end generation.\n"
     ]
    },
    {
     "name": "stdout",
     "output_type": "stream",
     "text": [
      "GT: 4.97 Gen: 4.92 diff: 0.05 CCc1nc2c(C)cc(N3CCN(CC(=O)N4CC(O)C4)C(C)(C)C3)cn2c1N(C)c1nc(-c2ccc(F)cc2)c(C#N)s1.CCc1nc2c(C)cc(N3CCNC(C)(C)C3)cn2c1N(C)c1nc(-c2ccc(F)cc2)c(C#N)s1 <|begin_of_text|>[SMILES]CCc1nc2c(C)cc(N3CCN(CC(=O)N4CC(O)C4)C(C)(C)C3)cn2c1N(C)c1nc(-c2ccc(F)cc2)c(C#N)s1.CCc1nc2c(C)cc(N3CCNC(C)(C)C3)cn2c1N(C)c1nc(-c2ccc(F)cc2)c(C#N)s1[/SMILES][SAS]4.92[/SAS]\n",
      "GT: 3.98 Gen: 3.98 diff: 0.0 CCOC(=O)CCC(C)C1CCC2C3CCC4CCCCC4(C)C3CCC12C <|begin_of_text|>[SMILES]CCOC(=O)CCC(C)C1CCC2C3CCC4CCCCC4(C)C3CCC12C[/SMILES][SAS]3.98[/SAS]\n"
     ]
    },
    {
     "name": "stderr",
     "output_type": "stream",
     "text": [
      "[16:07:32] DEPRECATION WARNING: please use MorganGenerator\n",
      "The attention mask and the pad token id were not set. As a consequence, you may observe unexpected behavior. Please pass your input's `attention_mask` to obtain reliable results.\n",
      "Setting `pad_token_id` to `eos_token_id`:None for open-end generation.\n",
      "[16:07:32] DEPRECATION WARNING: please use MorganGenerator\n",
      "The attention mask and the pad token id were not set. As a consequence, you may observe unexpected behavior. Please pass your input's `attention_mask` to obtain reliable results.\n",
      "Setting `pad_token_id` to `eos_token_id`:None for open-end generation.\n",
      "[16:07:32] DEPRECATION WARNING: please use MorganGenerator\n"
     ]
    },
    {
     "name": "stdout",
     "output_type": "stream",
     "text": [
      "GT: 7.68 Gen: 7.19 diff: 0.49 C.CCC(=O)SCC(C(=O)NC(CCCCN)C(=O)OC)N(C)C(=O)Oc1ccc2c(c1)Oc1cc(N(C)C)ccc1C21OC(=O)c2ccccc21.CCC(=O)SCC(C(=O)NC(CCCCNC(=O)OC(C)(C)C)C(=O)OC)N(C)C(=O)Oc1ccc2c(c1)Oc1cc(N(C)C)ccc1C21OC(=O)c2ccccc21.CN(C)c1ccc2c(c1)Oc1cc(O)ccc1C21OC(=O)c2ccccc21 <|begin_of_text|>[SMILES]C.CCC(=O)SCC(C(=O)NC(CCCCN)C(=O)OC)N(C)C(=O)Oc1ccc2c(c1)Oc1cc(N(C)C)ccc1C21OC(=O)c2ccccc21.CCC(=O)SCC(C(=O)NC(CCCCNC(=O)OC(C)(C)C)C(=O)OC)N(C)C(=O)Oc1ccc2c(c1)Oc1cc(N(C)C)ccc1C21OC(=O)c2ccccc21.CN(C)c1ccc2c(c1)Oc1cc(O)ccc1C21OC(=O)c2ccccc21[/SMILES][SAS]7.19[/SAS]\n",
      "GT: 4.17 Gen: 4.17 diff: 0.0 CCC=CC(O)CC=CC=CCC=CCC=CCCCC(=O)OC(COC(=O)CCCCCCC)COP(=O)(O)O <|begin_of_text|>[SMILES]CCC=CC(O)CC=CC=CCC=CCC=CCCCC(=O)OC(COC(=O)CCCCCCC)COP(=O)(O)O[/SMILES][SAS]4.17[/SAS]\n",
      "GT: 3.16 Gen: 3.16 diff: 0.0 CC(C)(C)NOC(=O)Nc1c[nH]c2c(C(=O)NCc3ccc4c(c3)NC(=O)CO4)ncnc12 <|begin_of_text|>[SMILES]CC(C)(C)NOC(=O)Nc1c[nH]c2c(C(=O)NCc3ccc4c(c3)NC(=O)CO4)ncnc12[/SMILES][SAS]3.16[/SAS]\n"
     ]
    },
    {
     "name": "stderr",
     "output_type": "stream",
     "text": [
      "The attention mask and the pad token id were not set. As a consequence, you may observe unexpected behavior. Please pass your input's `attention_mask` to obtain reliable results.\n",
      "Setting `pad_token_id` to `eos_token_id`:None for open-end generation.\n",
      "[16:07:32] DEPRECATION WARNING: please use MorganGenerator\n",
      "The attention mask and the pad token id were not set. As a consequence, you may observe unexpected behavior. Please pass your input's `attention_mask` to obtain reliable results.\n",
      "Setting `pad_token_id` to `eos_token_id`:None for open-end generation.\n",
      "[16:07:32] DEPRECATION WARNING: please use MorganGenerator\n",
      "The attention mask and the pad token id were not set. As a consequence, you may observe unexpected behavior. Please pass your input's `attention_mask` to obtain reliable results.\n",
      "Setting `pad_token_id` to `eos_token_id`:None for open-end generation.\n",
      "[16:07:32] DEPRECATION WARNING: please use MorganGenerator\n"
     ]
    },
    {
     "name": "stdout",
     "output_type": "stream",
     "text": [
      "GT: 4.34 Gen: 4.35 diff: 0.01 COc1cc(F)cc(C(CO)NC(=O)C(C)n2cnn3cc(-c4nc(NC5CCC(O)C5)ncc4Cl)cc3c2=O)c1 <|begin_of_text|>[SMILES]COc1cc(F)cc(C(CO)NC(=O)C(C)n2cnn3cc(-c4nc(NC5CCC(O)C5)ncc4Cl)cc3c2=O)c1[/SMILES][SAS]4.35[/SAS]\n",
      "GT: 3.62 Gen: 3.62 diff: 0.0 CN1CCC(CN(C)C(=O)c2ccc(N3C(=S)N(c4cnc(C#N)c(C(F)(F)F)c4)C(=O)C34CCC4)cc2)CC1 <|begin_of_text|>[SMILES]CN1CCC(CN(C)C(=O)c2ccc(N3C(=S)N(c4cnc(C#N)c(C(F)(F)F)c4)C(=O)C34CCC4)cc2)CC1[/SMILES][SAS]3.62[/SAS]\n",
      "GT: 3.14 Gen: 3.14 diff: 0.0 CCC(C)n1nccc1NC(=O)C(C)Sc1nnc(-c2ccc(OC)cc2)n1C <|begin_of_text|>[SMILES]CCC(C)n1nccc1NC(=O)C(C)Sc1nnc(-c2ccc(OC)cc2)n1C[/SMILES][SAS]3.14[/SAS]\n"
     ]
    },
    {
     "name": "stderr",
     "output_type": "stream",
     "text": [
      "The attention mask and the pad token id were not set. As a consequence, you may observe unexpected behavior. Please pass your input's `attention_mask` to obtain reliable results.\n",
      "Setting `pad_token_id` to `eos_token_id`:None for open-end generation.\n",
      "[16:07:32] DEPRECATION WARNING: please use MorganGenerator\n",
      "The attention mask and the pad token id were not set. As a consequence, you may observe unexpected behavior. Please pass your input's `attention_mask` to obtain reliable results.\n",
      "Setting `pad_token_id` to `eos_token_id`:None for open-end generation.\n",
      "[16:07:32] DEPRECATION WARNING: please use MorganGenerator\n",
      "The attention mask and the pad token id were not set. As a consequence, you may observe unexpected behavior. Please pass your input's `attention_mask` to obtain reliable results.\n",
      "Setting `pad_token_id` to `eos_token_id`:None for open-end generation.\n",
      "[16:07:33] DEPRECATION WARNING: please use MorganGenerator\n",
      "The attention mask and the pad token id were not set. As a consequence, you may observe unexpected behavior. Please pass your input's `attention_mask` to obtain reliable results.\n",
      "Setting `pad_token_id` to `eos_token_id`:None for open-end generation.\n"
     ]
    },
    {
     "name": "stdout",
     "output_type": "stream",
     "text": [
      "GT: 2.24 Gen: 2.23 diff: 0.01 Cn1c(=O)c2ccc(C(=O)Nc3ccccc3N3CCCCC3)nc2n(C)c1=O <|begin_of_text|>[SMILES]Cn1c(=O)c2ccc(C(=O)Nc3ccccc3N3CCCCC3)nc2n(C)c1=O[/SMILES][SAS]2.23[/SAS]\n",
      "GT: 2.33 Gen: 2.32 diff: 0.01 Cc1ccnc2c(NCC3CC3)c(F)ccc12 <|begin_of_text|>[SMILES]Cc1ccnc2c(NCC3CC3)c(F)ccc12[/SMILES][SAS]2.32[/SAS]\n",
      "GT: 2.75 Gen: 2.76 diff: 0.01 C=CC(=O)NC(C)c1nc2ccccc2n1CCOc1cc(C)cc(C)c1 <|begin_of_text|>[SMILES]C=CC(=O)NC(C)c1nc2ccccc2n1CCOc1cc(C)cc(C)c1[/SMILES][SAS]2.76[/SAS]\n"
     ]
    },
    {
     "name": "stderr",
     "output_type": "stream",
     "text": [
      "[16:07:33] DEPRECATION WARNING: please use MorganGenerator\n",
      "The attention mask and the pad token id were not set. As a consequence, you may observe unexpected behavior. Please pass your input's `attention_mask` to obtain reliable results.\n",
      "Setting `pad_token_id` to `eos_token_id`:None for open-end generation.\n",
      "[16:07:33] DEPRECATION WARNING: please use MorganGenerator\n",
      "The attention mask and the pad token id were not set. As a consequence, you may observe unexpected behavior. Please pass your input's `attention_mask` to obtain reliable results.\n",
      "Setting `pad_token_id` to `eos_token_id`:None for open-end generation.\n",
      "[16:07:33] DEPRECATION WARNING: please use MorganGenerator\n"
     ]
    },
    {
     "name": "stdout",
     "output_type": "stream",
     "text": [
      "GT: 2.22 Gen: 2.23 diff: 0.01 C=CCNCC(=O)NCCCN1CCN(C)CC1 <|begin_of_text|>[SMILES]C=CCNCC(=O)NCCCN1CCN(C)CC1[/SMILES][SAS]2.23[/SAS]\n",
      "GT: 3.44 Gen: 3.43 diff: 0.01 CC(=O)N1c2ccc(-c3cnn(C4CC4)c3)c(OCc3ccn(C)n3)c2CCC1C <|begin_of_text|>[SMILES]CC(=O)N1c2ccc(-c3cnn(C4CC4)c3)c(OCc3ccn(C)n3)c2CCC1C[/SMILES][SAS]3.43[/SAS]\n",
      "GT: 3.07 Gen: 3.07 diff: 0.0 CNC(CC(=O)N=C(C)N)Cc1cccc(-c2cccnc2)c1 <|begin_of_text|>[SMILES]CNC(CC(=O)N=C(C)N)Cc1cccc(-c2cccnc2)c1[/SMILES][SAS]3.07[/SAS]\n"
     ]
    },
    {
     "name": "stderr",
     "output_type": "stream",
     "text": [
      "The attention mask and the pad token id were not set. As a consequence, you may observe unexpected behavior. Please pass your input's `attention_mask` to obtain reliable results.\n",
      "Setting `pad_token_id` to `eos_token_id`:None for open-end generation.\n",
      "[16:07:33] DEPRECATION WARNING: please use MorganGenerator\n",
      "The attention mask and the pad token id were not set. As a consequence, you may observe unexpected behavior. Please pass your input's `attention_mask` to obtain reliable results.\n",
      "Setting `pad_token_id` to `eos_token_id`:None for open-end generation.\n",
      "[16:07:33] DEPRECATION WARNING: please use MorganGenerator\n",
      "The attention mask and the pad token id were not set. As a consequence, you may observe unexpected behavior. Please pass your input's `attention_mask` to obtain reliable results.\n",
      "Setting `pad_token_id` to `eos_token_id`:None for open-end generation.\n",
      "[16:07:33] DEPRECATION WARNING: please use MorganGenerator\n"
     ]
    },
    {
     "name": "stdout",
     "output_type": "stream",
     "text": [
      "GT: 4.84 Gen: 4.82 diff: 0.02 COc1cc(OC)c2c(c1Cl)OC1(C2=O)C(O)=C(C(CC(=O)NCCc2nc(-c3ccccn3)no2)c2ccc(SC)cc2)C(=O)CC1C <|begin_of_text|>[SMILES]COc1cc(OC)c2c(c1Cl)OC1(C2=O)C(O)=C(C(CC(=O)NCCc2nc(-c3ccccn3)no2)c2ccc(SC)cc2)C(=O)CC1C[/SMILES][SAS]4.82[/SAS]\n",
      "GT: 2.95 Gen: 2.96 diff: 0.01 CCc1noc(CC)c1CNC(=NC)NCc1cnn(-c2ccc(Cl)cc2)c1 <|begin_of_text|>[SMILES]CCc1noc(CC)c1CNC(=NC)NCc1cnn(-c2ccc(Cl)cc2)c1[/SMILES][SAS]2.96[/SAS]\n",
      "GT: 3.96 Gen: 3.95 diff: 0.01 CCCCOC(=O)NC(CC(Cc1ccc(OC)c(OCCCOC)c1)C(C)C)C1CC(C(C)C)C(=O)O1 <|begin_of_text|>[SMILES]CCCCOC(=O)NC(CC(Cc1ccc(OC)c(OCCCOC)c1)C(C)C)C1CC(C(C)C)C(=O)O1[/SMILES][SAS]3.95[/SAS]\n"
     ]
    },
    {
     "name": "stderr",
     "output_type": "stream",
     "text": [
      "The attention mask and the pad token id were not set. As a consequence, you may observe unexpected behavior. Please pass your input's `attention_mask` to obtain reliable results.\n",
      "Setting `pad_token_id` to `eos_token_id`:None for open-end generation.\n",
      "[16:07:33] DEPRECATION WARNING: please use MorganGenerator\n",
      "The attention mask and the pad token id were not set. As a consequence, you may observe unexpected behavior. Please pass your input's `attention_mask` to obtain reliable results.\n",
      "Setting `pad_token_id` to `eos_token_id`:None for open-end generation.\n",
      "[16:07:33] DEPRECATION WARNING: please use MorganGenerator\n",
      "The attention mask and the pad token id were not set. As a consequence, you may observe unexpected behavior. Please pass your input's `attention_mask` to obtain reliable results.\n",
      "Setting `pad_token_id` to `eos_token_id`:None for open-end generation.\n",
      "[16:07:33] DEPRECATION WARNING: please use MorganGenerator\n",
      "The attention mask and the pad token id were not set. As a consequence, you may observe unexpected behavior. Please pass your input's `attention_mask` to obtain reliable results.\n",
      "Setting `pad_token_id` to `eos_token_id`:None for open-end generation.\n"
     ]
    },
    {
     "name": "stdout",
     "output_type": "stream",
     "text": [
      "GT: 2.66 Gen: 2.67 diff: 0.01 CCC(C)C(NC(=O)C=Cc1ccc(C)cc1)C(=O)O <|begin_of_text|>[SMILES]CCC(C)C(NC(=O)C=Cc1ccc(C)cc1)C(=O)O[/SMILES][SAS]2.67[/SAS]\n",
      "GT: 3.86 Gen: 3.86 diff: 0.0 C=C(N(N)C=CC(C)(F)c1ccc(C)cc1)N(N)c1cccnc1 <|begin_of_text|>[SMILES]C=C(N(N)C=CC(C)(F)c1ccc(C)cc1)N(N)c1cccnc1[/SMILES][SAS]3.86[/SAS]\n",
      "GT: 3.09 Gen: 3.07 diff: 0.02 CCC(C)n1ccc(CC(N)Cc2ccc(C)c(C)c2)n1 <|begin_of_text|>[SMILES]CCC(C)n1ccc(CC(N)Cc2ccc(C)c(C)c2)n1[/SMILES][SAS]3.07[/SAS]\n"
     ]
    },
    {
     "name": "stderr",
     "output_type": "stream",
     "text": [
      "[16:07:34] DEPRECATION WARNING: please use MorganGenerator\n",
      "The attention mask and the pad token id were not set. As a consequence, you may observe unexpected behavior. Please pass your input's `attention_mask` to obtain reliable results.\n",
      "Setting `pad_token_id` to `eos_token_id`:None for open-end generation.\n",
      "[16:07:34] DEPRECATION WARNING: please use MorganGenerator\n",
      "The attention mask and the pad token id were not set. As a consequence, you may observe unexpected behavior. Please pass your input's `attention_mask` to obtain reliable results.\n",
      "Setting `pad_token_id` to `eos_token_id`:None for open-end generation.\n",
      "[16:07:34] DEPRECATION WARNING: please use MorganGenerator\n"
     ]
    },
    {
     "name": "stdout",
     "output_type": "stream",
     "text": [
      "GT: 1.96 Gen: 1.94 diff: 0.02 CC(C)(C)c1nn(-c2ccccc2)c2ccccc12 <|begin_of_text|>[SMILES]CC(C)(C)c1nn(-c2ccccc2)c2ccccc12[/SMILES][SAS]1.94[/SAS]\n",
      "GT: 3.58 Gen: 3.58 diff: 0.0 CCOCC1CN(C(=O)Cc2ccn(C)n2)Cc2cnn(CC3CCCC3)c21 <|begin_of_text|>[SMILES]CCOCC1CN(C(=O)Cc2ccn(C)n2)Cc2cnn(CC3CCCC3)c21[/SMILES][SAS]3.58[/SAS]\n",
      "GT: 2.47 Gen: 2.47 diff: 0.0 CCC(C)c1ccc(S(=O)(=O)N2CCN(C(=O)c3ccc(COC)cc3)CC2)cc1 <|begin_of_text|>[SMILES]CCC(C)c1ccc(S(=O)(=O)N2CCN(C(=O)c3ccc(COC)cc3)CC2)cc1[/SMILES][SAS]2.47[/SAS]\n"
     ]
    },
    {
     "name": "stderr",
     "output_type": "stream",
     "text": [
      "The attention mask and the pad token id were not set. As a consequence, you may observe unexpected behavior. Please pass your input's `attention_mask` to obtain reliable results.\n",
      "Setting `pad_token_id` to `eos_token_id`:None for open-end generation.\n",
      "[16:07:34] DEPRECATION WARNING: please use MorganGenerator\n",
      "The attention mask and the pad token id were not set. As a consequence, you may observe unexpected behavior. Please pass your input's `attention_mask` to obtain reliable results.\n",
      "Setting `pad_token_id` to `eos_token_id`:None for open-end generation.\n",
      "[16:07:34] DEPRECATION WARNING: please use MorganGenerator\n",
      "The attention mask and the pad token id were not set. As a consequence, you may observe unexpected behavior. Please pass your input's `attention_mask` to obtain reliable results.\n",
      "Setting `pad_token_id` to `eos_token_id`:None for open-end generation.\n",
      "[16:07:34] DEPRECATION WARNING: please use MorganGenerator\n"
     ]
    },
    {
     "name": "stdout",
     "output_type": "stream",
     "text": [
      "GT: 3.44 Gen: 3.43 diff: 0.01 COC(CNC(=NCc1cccs1)NCCc1ccco1)C(C)(C)C <|begin_of_text|>[SMILES]COC(CNC(=NCc1cccs1)NCCc1ccco1)C(C)(C)C[/SMILES][SAS]3.43[/SAS]\n",
      "GT: 5.61 Gen: 5.58 diff: 0.03 OCC1OC(OC2CC3C(O)CC(O)CC3[OH+]C2C2CCC(O)C(O)C2)C(O)C(O)C1O <|begin_of_text|>[SMILES]OCC1OC(OC2CC3C(O)CC(O)CC3[OH+]C2C2CCC(O)C(O)C2)C(O)C(O)C1O[/SMILES][SAS]5.58[/SAS]\n",
      "GT: 2.74 Gen: 2.74 diff: 0.0 CSc1ccc(N2CC(C(=O)Nc3ccc(C(=O)N(C)C4CCCCC4)cc3)CC2=O)cc1 <|begin_of_text|>[SMILES]CSc1ccc(N2CC(C(=O)Nc3ccc(C(=O)N(C)C4CCCCC4)cc3)CC2=O)cc1[/SMILES][SAS]2.74[/SAS]\n"
     ]
    },
    {
     "name": "stderr",
     "output_type": "stream",
     "text": [
      "The attention mask and the pad token id were not set. As a consequence, you may observe unexpected behavior. Please pass your input's `attention_mask` to obtain reliable results.\n",
      "Setting `pad_token_id` to `eos_token_id`:None for open-end generation.\n",
      "[16:07:34] DEPRECATION WARNING: please use MorganGenerator\n",
      "The attention mask and the pad token id were not set. As a consequence, you may observe unexpected behavior. Please pass your input's `attention_mask` to obtain reliable results.\n",
      "Setting `pad_token_id` to `eos_token_id`:None for open-end generation.\n",
      "[16:07:34] DEPRECATION WARNING: please use MorganGenerator\n",
      "The attention mask and the pad token id were not set. As a consequence, you may observe unexpected behavior. Please pass your input's `attention_mask` to obtain reliable results.\n",
      "Setting `pad_token_id` to `eos_token_id`:None for open-end generation.\n"
     ]
    },
    {
     "name": "stdout",
     "output_type": "stream",
     "text": [
      "GT: 2.4 Gen: 2.33 diff: 0.07 COc1cccc2c1C(=O)C(O)=C(O)C2=O <|begin_of_text|>[SMILES]COc1cccc2c1C(=O)C(O)=C(O)C2=O[/SMILES][SAS]2.33[/SAS]\n",
      "GT: 3.24 Gen: 3.21 diff: 0.03 Cc1ccccc1C(C)COC(=O)Nc1ccc(S(=O)(=O)C(C)C)c(CN(C)C=O)c1 <|begin_of_text|>[SMILES]Cc1ccccc1C(C)COC(=O)Nc1ccc(S(=O)(=O)C(C)C)c(CN(C)C=O)c1[/SMILES][SAS]3.21[/SAS]\n"
     ]
    },
    {
     "name": "stderr",
     "output_type": "stream",
     "text": [
      "[16:07:34] DEPRECATION WARNING: please use MorganGenerator\n",
      "The attention mask and the pad token id were not set. As a consequence, you may observe unexpected behavior. Please pass your input's `attention_mask` to obtain reliable results.\n",
      "Setting `pad_token_id` to `eos_token_id`:None for open-end generation.\n",
      "[16:07:34] DEPRECATION WARNING: please use MorganGenerator\n",
      "The attention mask and the pad token id were not set. As a consequence, you may observe unexpected behavior. Please pass your input's `attention_mask` to obtain reliable results.\n",
      "Setting `pad_token_id` to `eos_token_id`:None for open-end generation.\n",
      "[16:07:35] DEPRECATION WARNING: please use MorganGenerator\n",
      "The attention mask and the pad token id were not set. As a consequence, you may observe unexpected behavior. Please pass your input's `attention_mask` to obtain reliable results.\n",
      "Setting `pad_token_id` to `eos_token_id`:None for open-end generation.\n"
     ]
    },
    {
     "name": "stdout",
     "output_type": "stream",
     "text": [
      "GT: 3.29 Gen: 3.29 diff: 0.0 CC1(NC(=O)CCc2nc3sc4c(c3c(=O)[nH]2)CCCC4)CCS(=O)(=O)C1 <|begin_of_text|>[SMILES]CC1(NC(=O)CCc2nc3sc4c(c3c(=O)[nH]2)CCCC4)CCS(=O)(=O)C1[/SMILES][SAS]3.29[/SAS]\n",
      "GT: 2.4 Gen: 2.4 diff: 0.0 CCCNc1ncc(C)c(Oc2ccccc2SC)n1 <|begin_of_text|>[SMILES]CCCNc1ncc(C)c(Oc2ccccc2SC)n1[/SMILES][SAS]2.40[/SAS]\n",
      "GT: 3.9 Gen: 3.93 diff: 0.03 C=CCC1(O)CCC(C(=O)CCCC)C(C)C1 <|begin_of_text|>[SMILES]C=CCC1(O)CCC(C(=O)CCCC)C(C)C1[/SMILES][SAS]3.93[/SAS]\n"
     ]
    },
    {
     "name": "stderr",
     "output_type": "stream",
     "text": [
      "[16:07:35] DEPRECATION WARNING: please use MorganGenerator\n",
      "The attention mask and the pad token id were not set. As a consequence, you may observe unexpected behavior. Please pass your input's `attention_mask` to obtain reliable results.\n",
      "Setting `pad_token_id` to `eos_token_id`:None for open-end generation.\n",
      "[16:07:35] DEPRECATION WARNING: please use MorganGenerator\n",
      "The attention mask and the pad token id were not set. As a consequence, you may observe unexpected behavior. Please pass your input's `attention_mask` to obtain reliable results.\n",
      "Setting `pad_token_id` to `eos_token_id`:None for open-end generation.\n",
      "[16:07:35] DEPRECATION WARNING: please use MorganGenerator\n",
      "The attention mask and the pad token id were not set. As a consequence, you may observe unexpected behavior. Please pass your input's `attention_mask` to obtain reliable results.\n",
      "Setting `pad_token_id` to `eos_token_id`:None for open-end generation.\n"
     ]
    },
    {
     "name": "stdout",
     "output_type": "stream",
     "text": [
      "GT: 2.86 Gen: 2.83 diff: 0.03 O=C(O)Cc1cc(=O)n2[nH]c(C3CC3)nc2n1 <|begin_of_text|>[SMILES]O=C(O)Cc1cc(=O)n2[nH]c(C3CC3)nc2n1[/SMILES][SAS]2.83[/SAS]\n",
      "GT: 2.53 Gen: 2.53 diff: 0.0 CC.CC(C)Cc1sc(Nc2cccc(C(=O)NCCN)c2)nc1-c1ccc(Cl)c(Cl)c1 <|begin_of_text|>[SMILES]CC.CC(C)Cc1sc(Nc2cccc(C(=O)NCCN)c2)nc1-c1ccc(Cl)c(Cl)c1[/SMILES][SAS]2.53[/SAS]\n",
      "GT: 3.4 Gen: 3.4 diff: 0.0 Cc1oc(-n2cccc2)c(C#N)c1C(=O)NCC(C)(C)CC(C)O <|begin_of_text|>[SMILES]Cc1oc(-n2cccc2)c(C#N)c1C(=O)NCC(C)(C)CC(C)O[/SMILES][SAS]3.40[/SAS]\n"
     ]
    },
    {
     "name": "stderr",
     "output_type": "stream",
     "text": [
      "[16:07:35] DEPRECATION WARNING: please use MorganGenerator\n",
      "The attention mask and the pad token id were not set. As a consequence, you may observe unexpected behavior. Please pass your input's `attention_mask` to obtain reliable results.\n",
      "Setting `pad_token_id` to `eos_token_id`:None for open-end generation.\n",
      "[16:07:35] DEPRECATION WARNING: please use MorganGenerator\n",
      "The attention mask and the pad token id were not set. As a consequence, you may observe unexpected behavior. Please pass your input's `attention_mask` to obtain reliable results.\n",
      "Setting `pad_token_id` to `eos_token_id`:None for open-end generation.\n",
      "[16:07:35] DEPRECATION WARNING: please use MorganGenerator\n"
     ]
    },
    {
     "name": "stdout",
     "output_type": "stream",
     "text": [
      "GT: 2.85 Gen: 2.85 diff: 0.0 CCc1noc(C(C)Sc2nnc(-c3ccccc3F)n2-c2ccc(C)cc2)n1 <|begin_of_text|>[SMILES]CCc1noc(C(C)Sc2nnc(-c3ccccc3F)n2-c2ccc(C)cc2)n1[/SMILES][SAS]2.85[/SAS]\n",
      "GT: 3.69 Gen: 3.69 diff: 0.0 CC(CC(C)(C)O)OC(=O)CC1CN(C2=Nc3cc(Cl)ccc3Oc3ccccc32)CCN1C <|begin_of_text|>[SMILES]CC(CC(C)(C)O)OC(=O)CC1CN(C2=Nc3cc(Cl)ccc3Oc3ccccc32)CCN1C[/SMILES][SAS]3.69[/SAS]\n",
      "GT: 3.24 Gen: 3.23 diff: 0.01 CCNC(=NCC(c1ccccc1)N(CC)CC)NCCn1cc(C)cn1 <|begin_of_text|>[SMILES]CCNC(=NCC(c1ccccc1)N(CC)CC)NCCn1cc(C)cn1[/SMILES][SAS]3.23[/SAS]\n"
     ]
    },
    {
     "name": "stderr",
     "output_type": "stream",
     "text": [
      "The attention mask and the pad token id were not set. As a consequence, you may observe unexpected behavior. Please pass your input's `attention_mask` to obtain reliable results.\n",
      "Setting `pad_token_id` to `eos_token_id`:None for open-end generation.\n",
      "[16:07:35] DEPRECATION WARNING: please use MorganGenerator\n",
      "The attention mask and the pad token id were not set. As a consequence, you may observe unexpected behavior. Please pass your input's `attention_mask` to obtain reliable results.\n",
      "Setting `pad_token_id` to `eos_token_id`:None for open-end generation.\n",
      "[16:07:35] DEPRECATION WARNING: please use MorganGenerator\n",
      "The attention mask and the pad token id were not set. As a consequence, you may observe unexpected behavior. Please pass your input's `attention_mask` to obtain reliable results.\n",
      "Setting `pad_token_id` to `eos_token_id`:None for open-end generation.\n",
      "[16:07:35] DEPRECATION WARNING: please use MorganGenerator\n"
     ]
    },
    {
     "name": "stdout",
     "output_type": "stream",
     "text": [
      "GT: 3.43 Gen: 3.43 diff: 0.0 Cc1ccc(C2C3=C(CC(C)(C)CC3=O)Nc3nc(-c4ccc(Cl)cc4)nn32)o1 <|begin_of_text|>[SMILES]Cc1ccc(C2C3=C(CC(C)(C)CC3=O)Nc3nc(-c4ccc(Cl)cc4)nn32)o1[/SMILES][SAS]3.43[/SAS]\n",
      "GT: 2.37 Gen: 2.37 diff: 0.0 Cc1ccc(C(=O)N(Cc2ccccc2F)CC2CCCO2)cc1 <|begin_of_text|>[SMILES]Cc1ccc(C(=O)N(Cc2ccccc2F)CC2CCCO2)cc1[/SMILES][SAS]2.37[/SAS]\n",
      "GT: 3.47 Gen: 3.5 diff: 0.03 O=C1CCCC(O)=C1C(CCc1noc2c1C(=O)CC(c1ccccc1)C2)=NCc1ccccc1 <|begin_of_text|>[SMILES]O=C1CCCC(O)=C1C(CCc1noc2c1C(=O)CC(c1ccccc1)C2)=NCc1ccccc1[/SMILES][SAS]3.50[/SAS]\n"
     ]
    },
    {
     "name": "stderr",
     "output_type": "stream",
     "text": [
      "The attention mask and the pad token id were not set. As a consequence, you may observe unexpected behavior. Please pass your input's `attention_mask` to obtain reliable results.\n",
      "Setting `pad_token_id` to `eos_token_id`:None for open-end generation.\n",
      "[16:07:36] DEPRECATION WARNING: please use MorganGenerator\n",
      "The attention mask and the pad token id were not set. As a consequence, you may observe unexpected behavior. Please pass your input's `attention_mask` to obtain reliable results.\n",
      "Setting `pad_token_id` to `eos_token_id`:None for open-end generation.\n",
      "[16:07:36] DEPRECATION WARNING: please use MorganGenerator\n",
      "The attention mask and the pad token id were not set. As a consequence, you may observe unexpected behavior. Please pass your input's `attention_mask` to obtain reliable results.\n",
      "Setting `pad_token_id` to `eos_token_id`:None for open-end generation.\n",
      "[16:07:36] DEPRECATION WARNING: please use MorganGenerator\n",
      "The attention mask and the pad token id were not set. As a consequence, you may observe unexpected behavior. Please pass your input's `attention_mask` to obtain reliable results.\n",
      "Setting `pad_token_id` to `eos_token_id`:None for open-end generation.\n"
     ]
    },
    {
     "name": "stdout",
     "output_type": "stream",
     "text": [
      "GT: 3.12 Gen: 3.1 diff: 0.02 COc1ccc(NC(=O)C=Cc2ccc(C3CC3C)o2)cn1 <|begin_of_text|>[SMILES]COc1ccc(NC(=O)C=Cc2ccc(C3CC3C)o2)cn1[/SMILES][SAS]3.10[/SAS]\n",
      "GT: 3.09 Gen: 3.08 diff: 0.01 CC1(C(=O)NS(=O)(=O)c2cc(Cl)ccc2Cl)CCC(=O)NC1 <|begin_of_text|>[SMILES]CC1(C(=O)NS(=O)(=O)c2cc(Cl)ccc2Cl)CCC(=O)NC1[/SMILES][SAS]3.08[/SAS]\n",
      "GT: 2.92 Gen: 2.91 diff: 0.01 Cc1c2ccccc2nn1CCCNC(=O)c1nn2c(c1Cl)OCC2 <|begin_of_text|>[SMILES]Cc1c2ccccc2nn1CCCNC(=O)c1nn2c(c1Cl)OCC2[/SMILES][SAS]2.91[/SAS]\n"
     ]
    },
    {
     "name": "stderr",
     "output_type": "stream",
     "text": [
      "[16:07:36] DEPRECATION WARNING: please use MorganGenerator\n",
      "The attention mask and the pad token id were not set. As a consequence, you may observe unexpected behavior. Please pass your input's `attention_mask` to obtain reliable results.\n",
      "Setting `pad_token_id` to `eos_token_id`:None for open-end generation.\n",
      "[16:07:36] DEPRECATION WARNING: please use MorganGenerator\n",
      "The attention mask and the pad token id were not set. As a consequence, you may observe unexpected behavior. Please pass your input's `attention_mask` to obtain reliable results.\n",
      "Setting `pad_token_id` to `eos_token_id`:None for open-end generation.\n",
      "[16:07:36] DEPRECATION WARNING: please use MorganGenerator\n"
     ]
    },
    {
     "name": "stdout",
     "output_type": "stream",
     "text": [
      "GT: 2.45 Gen: 2.45 diff: 0.0 CCNC(=NCc1ccc(CN2CCOCC2)cc1)N1CCC(C)CC1 <|begin_of_text|>[SMILES]CCNC(=NCc1ccc(CN2CCOCC2)cc1)N1CCC(C)CC1[/SMILES][SAS]2.45[/SAS]\n",
      "GT: 2.33 Gen: 2.34 diff: 0.01 CN1CN(C(=O)c2ccc(F)cc2)N=C(c2ccccc2)c2ccccc21 <|begin_of_text|>[SMILES]CN1CN(C(=O)c2ccc(F)cc2)N=C(c2ccccc2)c2ccccc21[/SMILES][SAS]2.34[/SAS]\n"
     ]
    },
    {
     "name": "stderr",
     "output_type": "stream",
     "text": [
      "The attention mask and the pad token id were not set. As a consequence, you may observe unexpected behavior. Please pass your input's `attention_mask` to obtain reliable results.\n",
      "Setting `pad_token_id` to `eos_token_id`:None for open-end generation.\n",
      "[16:07:36] DEPRECATION WARNING: please use MorganGenerator\n",
      "The attention mask and the pad token id were not set. As a consequence, you may observe unexpected behavior. Please pass your input's `attention_mask` to obtain reliable results.\n",
      "Setting `pad_token_id` to `eos_token_id`:None for open-end generation.\n",
      "[16:07:36] DEPRECATION WARNING: please use MorganGenerator\n"
     ]
    },
    {
     "name": "stdout",
     "output_type": "stream",
     "text": [
      "GT: 2.54 Gen: 2.53 diff: 0.01 CCOc1ccc(S(=O)(=O)NCC2(C)CCNCC2)cc1OCC.Cl <|begin_of_text|>[SMILES]CCOc1ccc(S(=O)(=O)NCC2(C)CCNCC2)cc1OCC.Cl[/SMILES][SAS]2.53[/SAS]\n",
      "GT: 2.87 Gen: 2.87 diff: 0.0 NCCc1nc(C2CCC(F)(F)CC2)no1 <|begin_of_text|>[SMILES]NCCc1nc(C2CCC(F)(F)CC2)no1[/SMILES][SAS]2.87[/SAS]\n",
      "GT: 2.29 Gen: 2.28 diff: 0.01 COc1cc(O)c2c(c1)Oc1ccccc1CC2=O <|begin_of_text|>[SMILES]COc1cc(O)c2c(c1)Oc1ccccc1CC2=O[/SMILES][SAS]2.28[/SAS]\n"
     ]
    },
    {
     "name": "stderr",
     "output_type": "stream",
     "text": [
      "The attention mask and the pad token id were not set. As a consequence, you may observe unexpected behavior. Please pass your input's `attention_mask` to obtain reliable results.\n",
      "Setting `pad_token_id` to `eos_token_id`:None for open-end generation.\n",
      "[16:07:36] DEPRECATION WARNING: please use MorganGenerator\n",
      "The attention mask and the pad token id were not set. As a consequence, you may observe unexpected behavior. Please pass your input's `attention_mask` to obtain reliable results.\n",
      "Setting `pad_token_id` to `eos_token_id`:None for open-end generation.\n",
      "[16:07:36] DEPRECATION WARNING: please use MorganGenerator\n",
      "The attention mask and the pad token id were not set. As a consequence, you may observe unexpected behavior. Please pass your input's `attention_mask` to obtain reliable results.\n",
      "Setting `pad_token_id` to `eos_token_id`:None for open-end generation.\n"
     ]
    },
    {
     "name": "stdout",
     "output_type": "stream",
     "text": [
      "GT: 6.27 Gen: 6.31 diff: 0.04 C1CO[SnH2]O1 <|begin_of_text|>[SMILES]C1CO[SnH2]O1[/SMILES][SAS]6.31[/SAS]\n",
      "GT: 3.39 Gen: 3.36 diff: 0.03 Cn1c(=O)c2c(-c3ccccc3Br)n3c(c2n(C)c1=O)C(c1cccs1)OCC3 <|begin_of_text|>[SMILES]Cn1c(=O)c2c(-c3ccccc3Br)n3c(c2n(C)c1=O)C(c1cccs1)OCC3[/SMILES][SAS]3.36[/SAS]\n"
     ]
    },
    {
     "name": "stderr",
     "output_type": "stream",
     "text": [
      "[16:07:37] DEPRECATION WARNING: please use MorganGenerator\n",
      "The attention mask and the pad token id were not set. As a consequence, you may observe unexpected behavior. Please pass your input's `attention_mask` to obtain reliable results.\n",
      "Setting `pad_token_id` to `eos_token_id`:None for open-end generation.\n",
      "[16:07:37] DEPRECATION WARNING: please use MorganGenerator\n",
      "The attention mask and the pad token id were not set. As a consequence, you may observe unexpected behavior. Please pass your input's `attention_mask` to obtain reliable results.\n",
      "Setting `pad_token_id` to `eos_token_id`:None for open-end generation.\n",
      "[16:07:37] DEPRECATION WARNING: please use MorganGenerator\n"
     ]
    },
    {
     "name": "stdout",
     "output_type": "stream",
     "text": [
      "GT: 3.05 Gen: 3.04 diff: 0.01 COc1ccc(N(CC(=O)N(Cc2ccccc2F)C(Cc2ccccc2)C(=O)NC(C)C)S(C)(=O)=O)cc1OC <|begin_of_text|>[SMILES]COc1ccc(N(CC(=O)N(Cc2ccccc2F)C(Cc2ccccc2)C(=O)NC(C)C)S(C)(=O)=O)cc1OC[/SMILES][SAS]3.04[/SAS]\n",
      "GT: 2.46 Gen: 2.45 diff: 0.01 Cc1nc(NCCNC(=O)c2cccc(C(F)(F)F)c2)cc(-n2cccc2)n1 <|begin_of_text|>[SMILES]Cc1nc(NCCNC(=O)c2cccc(C(F)(F)F)c2)cc(-n2cccc2)n1[/SMILES][SAS]2.45[/SAS]\n",
      "GT: 2.56 Gen: 2.56 diff: 0.0 Cl.NCc1ccc(COc2ccc(C(=O)CC3CCCC3)c(O)c2C(F)(F)F)cc1 <|begin_of_text|>[SMILES]Cl.NCc1ccc(COc2ccc(C(=O)CC3CCCC3)c(O)c2C(F)(F)F)cc1[/SMILES][SAS]2.56[/SAS]\n"
     ]
    },
    {
     "name": "stderr",
     "output_type": "stream",
     "text": [
      "The attention mask and the pad token id were not set. As a consequence, you may observe unexpected behavior. Please pass your input's `attention_mask` to obtain reliable results.\n",
      "Setting `pad_token_id` to `eos_token_id`:None for open-end generation.\n",
      "[16:07:37] DEPRECATION WARNING: please use MorganGenerator\n",
      "The attention mask and the pad token id were not set. As a consequence, you may observe unexpected behavior. Please pass your input's `attention_mask` to obtain reliable results.\n",
      "Setting `pad_token_id` to `eos_token_id`:None for open-end generation.\n",
      "[16:07:37] DEPRECATION WARNING: please use MorganGenerator\n",
      "The attention mask and the pad token id were not set. As a consequence, you may observe unexpected behavior. Please pass your input's `attention_mask` to obtain reliable results.\n",
      "Setting `pad_token_id` to `eos_token_id`:None for open-end generation.\n"
     ]
    },
    {
     "name": "stdout",
     "output_type": "stream",
     "text": [
      "GT: 9.48 Gen: 9.52 diff: 0.04 CC(=O)OCC1=CC2(O)OC1CC1C3=C(C(C)C)CCC3(C)CCC12C.CC(C)C(=O)CCC1(C)CCC2(C)C(CC=C3C(O)C4(O)COC5OC2C3C5(O)C4O)C1=O.CC(C)C(=O)CCC1(C)CCC2(C)C(CCC3C(O)OC4(O)C(O)COC5OC2C3C54O)C1=O.CC(C)C1=C2C3=CC=C(C(=O)[O-])CC(OC4OCC(O)C(O)C4O)C3(C)CCC2(C)CC1.CC(C)C1=C2C3CC=C4C(O)C5(O)COC6OC(C4C6(O)C5O)C3(C)CCC2(C)CC1.[Na+] <|begin_of_text|>[SMILES]CC(=O)OCC1=CC2(O)OC1CC1C3=C(C(C)C)CCC3(C)CCC12C.CC(C)C(=O)CCC1(C)CCC2(C)C(CC=C3C(O)C4(O)COC5OC2C3C5(O)C4O)C1=O.CC(C)C(=O)CCC1(C)CCC2(C)C(CCC3C(O)OC4(O)C(O)COC5OC2C3C54O)C1=O.CC(C)C1=C2C3=CC=C(C(=O)[O-])CC(OC4OCC(O)C(O)C4O)C3(C)CCC2(C)CC1.CC(C)C1=C2C3CC=C4C(O)C5(O)COC6OC(C4C6(O)C5O)C3(C)CCC2(C)CC1.[Na+][/SMILES][SAS]9.52[/SAS]\n",
      "GT: 3.13 Gen: 3.12 diff: 0.01 CCOc1cc(C2C(C(=O)Nc3ccc(Cl)cc3)=C(C)Nc3ncnn32)ccc1OCc1ccccc1Cl <|begin_of_text|>[SMILES]CCOc1cc(C2C(C(=O)Nc3ccc(Cl)cc3)=C(C)Nc3ncnn32)ccc1OCc1ccccc1Cl[/SMILES][SAS]3.12[/SAS]\n"
     ]
    },
    {
     "name": "stderr",
     "output_type": "stream",
     "text": [
      "[16:07:37] DEPRECATION WARNING: please use MorganGenerator\n",
      "The attention mask and the pad token id were not set. As a consequence, you may observe unexpected behavior. Please pass your input's `attention_mask` to obtain reliable results.\n",
      "Setting `pad_token_id` to `eos_token_id`:None for open-end generation.\n",
      "[16:07:37] DEPRECATION WARNING: please use MorganGenerator\n",
      "The attention mask and the pad token id were not set. As a consequence, you may observe unexpected behavior. Please pass your input's `attention_mask` to obtain reliable results.\n",
      "Setting `pad_token_id` to `eos_token_id`:None for open-end generation.\n",
      "[16:07:37] DEPRECATION WARNING: please use MorganGenerator\n",
      "/auto/home/menuab/miniforge3/envs/llama3/lib/python3.10/site-packages/sklearn/metrics/_regression.py:492: FutureWarning: 'squared' is deprecated in version 1.4 and will be removed in 1.6. To calculate the root mean squared error, use the function'root_mean_squared_error'.\n",
      "  warnings.warn(\n"
     ]
    },
    {
     "name": "stdout",
     "output_type": "stream",
     "text": [
      "GT: 3.78 Gen: 3.86 diff: 0.08 CC1CCCC(C)C1n1c(-c2cccs2)nc2cc(C(=O)NC3(C(=O)Nc4ccc(C=CC(=O)O)cc4)CCCC3)ccc21 <|begin_of_text|>[SMILES]CC1CCCC(C)C1n1c(-c2cccs2)nc2cc(C(=O)NC3(C(=O)Nc4ccc(C=CC(=O)O)cc4)CCCC3)ccc21[/SMILES][SAS]3.86[/SAS]\n",
      "GT: 3.23 Gen: 3.2 diff: 0.03 CCC(CC)n1nc(C)c(C(C)N)c1C <|begin_of_text|>[SMILES]CCC(CC)n1nc(C)c(C(C)N)c1C[/SMILES][SAS]3.20[/SAS]\n",
      "GT: 3.09 Gen: 3.15 diff: 0.06 Nc1nc(C(F)(F)F)nn1-c1cc(S)c(C2CC2)cc1Cl <|begin_of_text|>[SMILES]Nc1nc(C(F)(F)F)nn1-c1cc(S)c(C2CC2)cc1Cl[/SMILES][SAS]3.15[/SAS]\n"
     ]
    },
    {
     "name": "stderr",
     "output_type": "stream",
     "text": [
      "The attention mask and the pad token id were not set. As a consequence, you may observe unexpected behavior. Please pass your input's `attention_mask` to obtain reliable results.\n",
      "Setting `pad_token_id` to `eos_token_id`:None for open-end generation.\n",
      "The attention mask and the pad token id were not set. As a consequence, you may observe unexpected behavior. Please pass your input's `attention_mask` to obtain reliable results.\n",
      "Setting `pad_token_id` to `eos_token_id`:None for open-end generation.\n",
      "The attention mask and the pad token id were not set. As a consequence, you may observe unexpected behavior. Please pass your input's `attention_mask` to obtain reliable results.\n",
      "Setting `pad_token_id` to `eos_token_id`:None for open-end generation.\n",
      "The attention mask and the pad token id were not set. As a consequence, you may observe unexpected behavior. Please pass your input's `attention_mask` to obtain reliable results.\n",
      "Setting `pad_token_id` to `eos_token_id`:None for open-end generation.\n"
     ]
    },
    {
     "name": "stdout",
     "output_type": "stream",
     "text": [
      "GT: 3.84 Gen: 3.74 diff: 0.1 CC(=O)Nc1ccc(C(=O)NN=Cc2cccc([N+](=O)[O-])c2OC(=O)c2cccc(C)c2)cc1 <|begin_of_text|>[SMILES]CC(=O)Nc1ccc(C(=O)NN=Cc2cccc([N+](=O)[O-])c2OC(=O)c2cccc(C)c2)cc1[/SMILES][CLOGP]3.74[/CLOGP]\n",
      "GT: 3.29 Gen: 3.3 diff: 0.01 CCNC(=NCC(C)Cc1cccs1)NC1CCN(c2ncccc2F)C1 <|begin_of_text|>[SMILES]CCNC(=NCC(C)Cc1cccs1)NC1CCN(c2ncccc2F)C1[/SMILES][CLOGP]3.30[/CLOGP]\n",
      "GT: 0.99 Gen: 0.93 diff: 0.06 CCOC(=O)C1C(C)NNC1S(=O)(=O)Nc1cccc(CC)c1 <|begin_of_text|>[SMILES]CCOC(=O)C1C(C)NNC1S(=O)(=O)Nc1cccc(CC)c1[/SMILES][CLOGP]0.93[/CLOGP]\n"
     ]
    },
    {
     "name": "stderr",
     "output_type": "stream",
     "text": [
      "The attention mask and the pad token id were not set. As a consequence, you may observe unexpected behavior. Please pass your input's `attention_mask` to obtain reliable results.\n",
      "Setting `pad_token_id` to `eos_token_id`:None for open-end generation.\n",
      "The attention mask and the pad token id were not set. As a consequence, you may observe unexpected behavior. Please pass your input's `attention_mask` to obtain reliable results.\n",
      "Setting `pad_token_id` to `eos_token_id`:None for open-end generation.\n"
     ]
    },
    {
     "name": "stdout",
     "output_type": "stream",
     "text": [
      "GT: 2.9 Gen: 2.87 diff: 0.03 CCc1n[nH]c2c(c1=S)CN(C(=O)c1ccccc1)CC2 <|begin_of_text|>[SMILES]CCc1n[nH]c2c(c1=S)CN(C(=O)c1ccccc1)CC2[/SMILES][CLOGP]2.87[/CLOGP]\n",
      "GT: 2.11 Gen: 2.14 diff: 0.03 CNc1cccc(Nc2cnn(C)c2)c1[N+](=O)[O-] <|begin_of_text|>[SMILES]CNc1cccc(Nc2cnn(C)c2)c1[N+](=O)[O-][/SMILES][CLOGP]2.14[/CLOGP]\n",
      "GT: 2.03 Gen: 1.93 diff: 0.1 O=C(NCC(O)CN1CCOCC1)Nc1snc(OCc2ccc(Cl)cc2F)c1C(=O)O <|begin_of_text|>[SMILES]O=C(NCC(O)CN1CCOCC1)Nc1snc(OCc2ccc(Cl)cc2F)c1C(=O)O[/SMILES][CLOGP]1.93[/CLOGP]\n"
     ]
    },
    {
     "name": "stderr",
     "output_type": "stream",
     "text": [
      "The attention mask and the pad token id were not set. As a consequence, you may observe unexpected behavior. Please pass your input's `attention_mask` to obtain reliable results.\n",
      "Setting `pad_token_id` to `eos_token_id`:None for open-end generation.\n",
      "The attention mask and the pad token id were not set. As a consequence, you may observe unexpected behavior. Please pass your input's `attention_mask` to obtain reliable results.\n",
      "Setting `pad_token_id` to `eos_token_id`:None for open-end generation.\n",
      "The attention mask and the pad token id were not set. As a consequence, you may observe unexpected behavior. Please pass your input's `attention_mask` to obtain reliable results.\n",
      "Setting `pad_token_id` to `eos_token_id`:None for open-end generation.\n"
     ]
    },
    {
     "name": "stdout",
     "output_type": "stream",
     "text": [
      "GT: 3.39 Gen: 3.4 diff: 0.01 CCC(=O)c1sc(NC2C3C4CCC(C4)C23)c(OC)c1N <|begin_of_text|>[SMILES]CCC(=O)c1sc(NC2C3C4CCC(C4)C23)c(OC)c1N[/SMILES][CLOGP]3.40[/CLOGP]\n",
      "GT: -0.26 Gen: -0.27 diff: 0.01 CN(C)S(=O)(=O)NCCCc1ncc[nH]1 <|begin_of_text|>[SMILES]CN(C)S(=O)(=O)NCCCc1ncc[nH]1[/SMILES][CLOGP]-0.27[/CLOGP]\n"
     ]
    },
    {
     "name": "stderr",
     "output_type": "stream",
     "text": [
      "The attention mask and the pad token id were not set. As a consequence, you may observe unexpected behavior. Please pass your input's `attention_mask` to obtain reliable results.\n",
      "Setting `pad_token_id` to `eos_token_id`:None for open-end generation.\n",
      "The attention mask and the pad token id were not set. As a consequence, you may observe unexpected behavior. Please pass your input's `attention_mask` to obtain reliable results.\n",
      "Setting `pad_token_id` to `eos_token_id`:None for open-end generation.\n",
      "The attention mask and the pad token id were not set. As a consequence, you may observe unexpected behavior. Please pass your input's `attention_mask` to obtain reliable results.\n"
     ]
    },
    {
     "name": "stdout",
     "output_type": "stream",
     "text": [
      "GT: 3.2 Gen: 3.24 diff: 0.04 Cc1ccc(F)c(OCc2cc(F)cc(C#CCO)c2)c1 <|begin_of_text|>[SMILES]Cc1ccc(F)c(OCc2cc(F)cc(C#CCO)c2)c1[/SMILES][CLOGP]3.24[/CLOGP]\n",
      "GT: 3.56 Gen: 3.51 diff: 0.05 Cc1cc(C)c(S(=O)(=O)NCC2CCCN2c2ccccc2)c(C)c1 <|begin_of_text|>[SMILES]Cc1cc(C)c(S(=O)(=O)NCC2CCCN2c2ccccc2)c(C)c1[/SMILES][CLOGP]3.51[/CLOGP]\n",
      "GT: 2.68 Gen: 2.7 diff: 0.02 Cc1nn(C)c(Oc2ccc(Br)cc2[N+](=O)[O-])c1CO <|begin_of_text|>[SMILES]Cc1nn(C)c(Oc2ccc(Br)cc2[N+](=O)[O-])c1CO[/SMILES][CLOGP]2.70[/CLOGP]\n"
     ]
    },
    {
     "name": "stderr",
     "output_type": "stream",
     "text": [
      "Setting `pad_token_id` to `eos_token_id`:None for open-end generation.\n",
      "The attention mask and the pad token id were not set. As a consequence, you may observe unexpected behavior. Please pass your input's `attention_mask` to obtain reliable results.\n",
      "Setting `pad_token_id` to `eos_token_id`:None for open-end generation.\n",
      "The attention mask and the pad token id were not set. As a consequence, you may observe unexpected behavior. Please pass your input's `attention_mask` to obtain reliable results.\n",
      "Setting `pad_token_id` to `eos_token_id`:None for open-end generation.\n"
     ]
    },
    {
     "name": "stdout",
     "output_type": "stream",
     "text": [
      "GT: 3.71 Gen: 3.68 diff: 0.03 CN=C(NCc1nc(-c2ccccc2)cs1)N1CCSC(C)(C)C1 <|begin_of_text|>[SMILES]CN=C(NCc1nc(-c2ccccc2)cs1)N1CCSC(C)(C)C1[/SMILES][CLOGP]3.68[/CLOGP]\n",
      "GT: 4.67 Gen: 4.6 diff: 0.07 CC(C)NS(=O)(=O)[N-]Cc1ccccc1.O=C(O)c1cccc2c1cnn2-c1ccc(F)cc1 <|begin_of_text|>[SMILES]CC(C)NS(=O)(=O)[N-]Cc1ccccc1.O=C(O)c1cccc2c1cnn2-c1ccc(F)cc1[/SMILES][CLOGP]4.60[/CLOGP]\n"
     ]
    },
    {
     "name": "stderr",
     "output_type": "stream",
     "text": [
      "The attention mask and the pad token id were not set. As a consequence, you may observe unexpected behavior. Please pass your input's `attention_mask` to obtain reliable results.\n",
      "Setting `pad_token_id` to `eos_token_id`:None for open-end generation.\n",
      "The attention mask and the pad token id were not set. As a consequence, you may observe unexpected behavior. Please pass your input's `attention_mask` to obtain reliable results.\n",
      "Setting `pad_token_id` to `eos_token_id`:None for open-end generation.\n"
     ]
    },
    {
     "name": "stdout",
     "output_type": "stream",
     "text": [
      "GT: 3.25 Gen: 3.23 diff: 0.02 CCOc1ccc(-c2noc(Cn3c(=O)n(C(C)C)c(=O)c4ccccc43)n2)cc1OC <|begin_of_text|>[SMILES]CCOc1ccc(-c2noc(Cn3c(=O)n(C(C)C)c(=O)c4ccccc43)n2)cc1OC[/SMILES][CLOGP]3.23[/CLOGP]\n",
      "GT: 4.69 Gen: 4.6 diff: 0.09 O=C(CSc1nnnn1-c1ccc(Cl)cc1)Nc1cccc(Cl)c1N1CCCCC1 <|begin_of_text|>[SMILES]O=C(CSc1nnnn1-c1ccc(Cl)cc1)Nc1cccc(Cl)c1N1CCCCC1[/SMILES][CLOGP]4.60[/CLOGP]\n",
      "GT: 4.52 Gen: 4.5 diff: 0.02 Cc1ccccc1C1(O)CCN(C(=O)c2ccc(-c3ccc(F)cc3)o2)CC1 <|begin_of_text|>[SMILES]Cc1ccccc1C1(O)CCN(C(=O)c2ccc(-c3ccc(F)cc3)o2)CC1[/SMILES][CLOGP]4.50[/CLOGP]\n"
     ]
    },
    {
     "name": "stderr",
     "output_type": "stream",
     "text": [
      "The attention mask and the pad token id were not set. As a consequence, you may observe unexpected behavior. Please pass your input's `attention_mask` to obtain reliable results.\n",
      "Setting `pad_token_id` to `eos_token_id`:None for open-end generation.\n",
      "The attention mask and the pad token id were not set. As a consequence, you may observe unexpected behavior. Please pass your input's `attention_mask` to obtain reliable results.\n",
      "Setting `pad_token_id` to `eos_token_id`:None for open-end generation.\n",
      "The attention mask and the pad token id were not set. As a consequence, you may observe unexpected behavior. Please pass your input's `attention_mask` to obtain reliable results.\n",
      "Setting `pad_token_id` to `eos_token_id`:None for open-end generation.\n"
     ]
    },
    {
     "name": "stdout",
     "output_type": "stream",
     "text": [
      "GT: 1.66 Gen: 1.76 diff: 0.1 CCc1ccc(NC(=O)NC(C)(C)CCC(=O)O)cc1S(N)(=O)=O <|begin_of_text|>[SMILES]CCc1ccc(NC(=O)NC(C)(C)CCC(=O)O)cc1S(N)(=O)=O[/SMILES][CLOGP]1.76[/CLOGP]\n",
      "GT: 3.32 Gen: 3.31 diff: 0.01 CCCOc1ccc(C=NNC(=O)COc2ccccc2C)cc1OC <|begin_of_text|>[SMILES]CCCOc1ccc(C=NNC(=O)COc2ccccc2C)cc1OC[/SMILES][CLOGP]3.31[/CLOGP]\n",
      "GT: 2.25 Gen: 2.23 diff: 0.02 CC(C)(C)OC(=O)NCC(=O)N1CCOC(c2ccccc2F)C1 <|begin_of_text|>[SMILES]CC(C)(C)OC(=O)NCC(=O)N1CCOC(c2ccccc2F)C1[/SMILES][CLOGP]2.23[/CLOGP]\n"
     ]
    },
    {
     "name": "stderr",
     "output_type": "stream",
     "text": [
      "The attention mask and the pad token id were not set. As a consequence, you may observe unexpected behavior. Please pass your input's `attention_mask` to obtain reliable results.\n",
      "Setting `pad_token_id` to `eos_token_id`:None for open-end generation.\n",
      "The attention mask and the pad token id were not set. As a consequence, you may observe unexpected behavior. Please pass your input's `attention_mask` to obtain reliable results.\n",
      "Setting `pad_token_id` to `eos_token_id`:None for open-end generation.\n",
      "The attention mask and the pad token id were not set. As a consequence, you may observe unexpected behavior. Please pass your input's `attention_mask` to obtain reliable results.\n",
      "Setting `pad_token_id` to `eos_token_id`:None for open-end generation.\n"
     ]
    },
    {
     "name": "stdout",
     "output_type": "stream",
     "text": [
      "GT: 3.4 Gen: 3.39 diff: 0.01 CCOc1cc(OC)c(Br)cc1CC1CCCNC1 <|begin_of_text|>[SMILES]CCOc1cc(OC)c(Br)cc1CC1CCCNC1[/SMILES][CLOGP]3.39[/CLOGP]\n",
      "GT: 2.72 Gen: 2.71 diff: 0.01 CCN(CC)C(=O)c1nn(-c2cccc(F)c2)c(=O)n(Cc2cccc(Cl)c2)c1=O <|begin_of_text|>[SMILES]CCN(CC)C(=O)c1nn(-c2cccc(F)c2)c(=O)n(Cc2cccc(Cl)c2)c1=O[/SMILES][CLOGP]2.71[/CLOGP]\n"
     ]
    },
    {
     "name": "stderr",
     "output_type": "stream",
     "text": [
      "The attention mask and the pad token id were not set. As a consequence, you may observe unexpected behavior. Please pass your input's `attention_mask` to obtain reliable results.\n",
      "Setting `pad_token_id` to `eos_token_id`:None for open-end generation.\n",
      "The attention mask and the pad token id were not set. As a consequence, you may observe unexpected behavior. Please pass your input's `attention_mask` to obtain reliable results.\n",
      "Setting `pad_token_id` to `eos_token_id`:None for open-end generation.\n"
     ]
    },
    {
     "name": "stdout",
     "output_type": "stream",
     "text": [
      "GT: 5.09 Gen: 5.16 diff: 0.07 CCCC(=O)n1cc(CCC(C)C)n(Cc2ccc(-c3ccccc3C(=O)O)cc2)c1=O <|begin_of_text|>[SMILES]CCCC(=O)n1cc(CCC(C)C)n(Cc2ccc(-c3ccccc3C(=O)O)cc2)c1=O[/SMILES][CLOGP]5.16[/CLOGP]\n",
      "GT: -0.19 Gen: -0.33 diff: 0.14 CON=C(C(=O)NC1C(=O)N2C(C(=O)OCOC(=O)C(C)(C)C)C(Cn3nnc(C)n3)=CSC12)c1csc(N)n1 <|begin_of_text|>[SMILES]CON=C(C(=O)NC1C(=O)N2C(C(=O)OCOC(=O)C(C)(C)C)C(Cn3nnc(C)n3)=CSC12)c1csc(N)n1[/SMILES][CLOGP]-0.33[/CLOGP]\n"
     ]
    },
    {
     "name": "stderr",
     "output_type": "stream",
     "text": [
      "The attention mask and the pad token id were not set. As a consequence, you may observe unexpected behavior. Please pass your input's `attention_mask` to obtain reliable results.\n",
      "Setting `pad_token_id` to `eos_token_id`:None for open-end generation.\n",
      "The attention mask and the pad token id were not set. As a consequence, you may observe unexpected behavior. Please pass your input's `attention_mask` to obtain reliable results.\n",
      "Setting `pad_token_id` to `eos_token_id`:None for open-end generation.\n"
     ]
    },
    {
     "name": "stdout",
     "output_type": "stream",
     "text": [
      "GT: 2.23 Gen: 2.2 diff: 0.03 ONCc1ccccc1-c1ccncc1 <|begin_of_text|>[SMILES]ONCc1ccccc1-c1ccncc1[/SMILES][CLOGP]2.20[/CLOGP]\n",
      "GT: 4.08 Gen: 4.03 diff: 0.05 Cn1c(Cl)c(C=NOC(=O)c2cccs2)c2ccccc21 <|begin_of_text|>[SMILES]Cn1c(Cl)c(C=NOC(=O)c2cccs2)c2ccccc21[/SMILES][CLOGP]4.03[/CLOGP]\n",
      "GT: 0.79 Gen: 0.78 diff: 0.01 COc1cc(Cn2ncc(N)n2)ccc1C#N <|begin_of_text|>[SMILES]COc1cc(Cn2ncc(N)n2)ccc1C#N[/SMILES][CLOGP]0.78[/CLOGP]\n"
     ]
    },
    {
     "name": "stderr",
     "output_type": "stream",
     "text": [
      "The attention mask and the pad token id were not set. As a consequence, you may observe unexpected behavior. Please pass your input's `attention_mask` to obtain reliable results.\n",
      "Setting `pad_token_id` to `eos_token_id`:None for open-end generation.\n",
      "The attention mask and the pad token id were not set. As a consequence, you may observe unexpected behavior. Please pass your input's `attention_mask` to obtain reliable results.\n",
      "Setting `pad_token_id` to `eos_token_id`:None for open-end generation.\n",
      "The attention mask and the pad token id were not set. As a consequence, you may observe unexpected behavior. Please pass your input's `attention_mask` to obtain reliable results.\n",
      "Setting `pad_token_id` to `eos_token_id`:None for open-end generation.\n",
      "The attention mask and the pad token id were not set. As a consequence, you may observe unexpected behavior. Please pass your input's `attention_mask` to obtain reliable results.\n"
     ]
    },
    {
     "name": "stdout",
     "output_type": "stream",
     "text": [
      "GT: 6.26 Gen: 6.13 diff: 0.13 CCN(CC)C(C(=O)O)c1cc(NC(=O)c2c[nH]c3ccccc3c2=O)c(C(C)(C)C)cc1C(C)(C)C.Cl <|begin_of_text|>[SMILES]CCN(CC)C(C(=O)O)c1cc(NC(=O)c2c[nH]c3ccccc3c2=O)c(C(C)(C)C)cc1C(C)(C)C.Cl[/SMILES][CLOGP]6.13[/CLOGP]\n",
      "GT: 0.6 Gen: 0.58 diff: 0.02 CC(C(=O)NC(=O)NC1CCCC1)[NH+]1CCCCCC1 <|begin_of_text|>[SMILES]CC(C(=O)NC(=O)NC1CCCC1)[NH+]1CCCCCC1[/SMILES][CLOGP]0.58[/CLOGP]\n",
      "GT: 3.91 Gen: 3.88 diff: 0.03 COC(=O)C=C1SC(=NC(=O)c2ccc(Cl)cc2Cl)N(c2ccc(N)cc2)C1=O <|begin_of_text|>[SMILES]COC(=O)C=C1SC(=NC(=O)c2ccc(Cl)cc2Cl)N(c2ccc(N)cc2)C1=O[/SMILES][CLOGP]3.88[/CLOGP]\n"
     ]
    },
    {
     "name": "stderr",
     "output_type": "stream",
     "text": [
      "Setting `pad_token_id` to `eos_token_id`:None for open-end generation.\n",
      "The attention mask and the pad token id were not set. As a consequence, you may observe unexpected behavior. Please pass your input's `attention_mask` to obtain reliable results.\n",
      "Setting `pad_token_id` to `eos_token_id`:None for open-end generation.\n",
      "The attention mask and the pad token id were not set. As a consequence, you may observe unexpected behavior. Please pass your input's `attention_mask` to obtain reliable results.\n",
      "Setting `pad_token_id` to `eos_token_id`:None for open-end generation.\n"
     ]
    },
    {
     "name": "stdout",
     "output_type": "stream",
     "text": [
      "GT: 0.06 Gen: 0.06 diff: 0.0 CCC1C(OS(C)(=O)=O)CN1C <|begin_of_text|>[SMILES]CCC1C(OS(C)(=O)=O)CN1C[/SMILES][CLOGP]0.06[/CLOGP]\n",
      "GT: 1.33 Gen: 1.33 diff: 0.0 CCC(=O)NCC1(CCOC)CC1 <|begin_of_text|>[SMILES]CCC(=O)NCC1(CCOC)CC1[/SMILES][CLOGP]1.33[/CLOGP]\n",
      "GT: 3.32 Gen: 3.24 diff: 0.08 CN1C(=O)Cc2cc(-c3csc(N4CCCCC4)n3)ccc21 <|begin_of_text|>[SMILES]CN1C(=O)Cc2cc(-c3csc(N4CCCCC4)n3)ccc21[/SMILES][CLOGP]3.24[/CLOGP]\n"
     ]
    },
    {
     "name": "stderr",
     "output_type": "stream",
     "text": [
      "The attention mask and the pad token id were not set. As a consequence, you may observe unexpected behavior. Please pass your input's `attention_mask` to obtain reliable results.\n",
      "Setting `pad_token_id` to `eos_token_id`:None for open-end generation.\n",
      "The attention mask and the pad token id were not set. As a consequence, you may observe unexpected behavior. Please pass your input's `attention_mask` to obtain reliable results.\n",
      "Setting `pad_token_id` to `eos_token_id`:None for open-end generation.\n",
      "The attention mask and the pad token id were not set. As a consequence, you may observe unexpected behavior. Please pass your input's `attention_mask` to obtain reliable results.\n",
      "Setting `pad_token_id` to `eos_token_id`:None for open-end generation.\n",
      "The attention mask and the pad token id were not set. As a consequence, you may observe unexpected behavior. Please pass your input's `attention_mask` to obtain reliable results.\n",
      "Setting `pad_token_id` to `eos_token_id`:None for open-end generation.\n"
     ]
    },
    {
     "name": "stdout",
     "output_type": "stream",
     "text": [
      "GT: 2.18 Gen: 2.22 diff: 0.04 CCCCOc1cccc2c1C(=O)OC2=O <|begin_of_text|>[SMILES]CCCCOc1cccc2c1C(=O)OC2=O[/SMILES][CLOGP]2.22[/CLOGP]\n",
      "GT: 2.31 Gen: 2.27 diff: 0.04 N#CCc1nc(CN)c(C(F)F)cc1Br <|begin_of_text|>[SMILES]N#CCc1nc(CN)c(C(F)F)cc1Br[/SMILES][CLOGP]2.27[/CLOGP]\n",
      "GT: 4.93 Gen: 4.91 diff: 0.02 FC(F)(F)c1cccc(OCCC2CNCCC2c2ccsc2)c1 <|begin_of_text|>[SMILES]FC(F)(F)c1cccc(OCCC2CNCCC2c2ccsc2)c1[/SMILES][CLOGP]4.91[/CLOGP]\n"
     ]
    },
    {
     "name": "stderr",
     "output_type": "stream",
     "text": [
      "The attention mask and the pad token id were not set. As a consequence, you may observe unexpected behavior. Please pass your input's `attention_mask` to obtain reliable results.\n",
      "Setting `pad_token_id` to `eos_token_id`:None for open-end generation.\n",
      "The attention mask and the pad token id were not set. As a consequence, you may observe unexpected behavior. Please pass your input's `attention_mask` to obtain reliable results.\n",
      "Setting `pad_token_id` to `eos_token_id`:None for open-end generation.\n",
      "The attention mask and the pad token id were not set. As a consequence, you may observe unexpected behavior. Please pass your input's `attention_mask` to obtain reliable results.\n",
      "Setting `pad_token_id` to `eos_token_id`:None for open-end generation.\n"
     ]
    },
    {
     "name": "stdout",
     "output_type": "stream",
     "text": [
      "GT: 3.74 Gen: 3.73 diff: 0.01 CCc1ccc(C(=O)CCC(=O)Nc2ccc(C(=O)NC3CC3)cc2)cc1 <|begin_of_text|>[SMILES]CCc1ccc(C(=O)CCC(=O)Nc2ccc(C(=O)NC3CC3)cc2)cc1[/SMILES][CLOGP]3.73[/CLOGP]\n",
      "GT: 2.36 Gen: 2.31 diff: 0.05 CC(=O)c1ccc(OCC(=O)N2CCc3ncnc(N4CCN(C5CCC5)CC4)c3CC2)cc1 <|begin_of_text|>[SMILES]CC(=O)c1ccc(OCC(=O)N2CCc3ncnc(N4CCN(C5CCC5)CC4)c3CC2)cc1[/SMILES][CLOGP]2.31[/CLOGP]\n",
      "GT: 1.94 Gen: 1.93 diff: 0.01 COCCCN(C)c1c(CCl)c(C)nn1C <|begin_of_text|>[SMILES]COCCCN(C)c1c(CCl)c(C)nn1C[/SMILES][CLOGP]1.93[/CLOGP]\n"
     ]
    },
    {
     "name": "stderr",
     "output_type": "stream",
     "text": [
      "The attention mask and the pad token id were not set. As a consequence, you may observe unexpected behavior. Please pass your input's `attention_mask` to obtain reliable results.\n",
      "Setting `pad_token_id` to `eos_token_id`:None for open-end generation.\n",
      "The attention mask and the pad token id were not set. As a consequence, you may observe unexpected behavior. Please pass your input's `attention_mask` to obtain reliable results.\n",
      "Setting `pad_token_id` to `eos_token_id`:None for open-end generation.\n"
     ]
    },
    {
     "name": "stdout",
     "output_type": "stream",
     "text": [
      "GT: 3.02 Gen: 3.05 diff: 0.03 CC(C)CCNC(=O)c1ccc(Oc2ccc(NS(C)(=O)=O)cc2)nc1 <|begin_of_text|>[SMILES]CC(C)CCNC(=O)c1ccc(Oc2ccc(NS(C)(=O)=O)cc2)nc1[/SMILES][CLOGP]3.05[/CLOGP]\n",
      "GT: -0.15 Gen: -0.16 diff: 0.01 ClC1=NC2N=C(N1)O2 <|begin_of_text|>[SMILES]ClC1=NC2N=C(N1)O2[/SMILES][CLOGP]-0.16[/CLOGP]\n"
     ]
    },
    {
     "name": "stderr",
     "output_type": "stream",
     "text": [
      "The attention mask and the pad token id were not set. As a consequence, you may observe unexpected behavior. Please pass your input's `attention_mask` to obtain reliable results.\n",
      "Setting `pad_token_id` to `eos_token_id`:None for open-end generation.\n",
      "The attention mask and the pad token id were not set. As a consequence, you may observe unexpected behavior. Please pass your input's `attention_mask` to obtain reliable results.\n",
      "Setting `pad_token_id` to `eos_token_id`:None for open-end generation.\n"
     ]
    },
    {
     "name": "stdout",
     "output_type": "stream",
     "text": [
      "GT: 4.32 Gen: 4.32 diff: 0.0 CCNC(=O)C(Cc1ccccc1)N(Cc1ccc(C)cc1)C(=O)CCCN(c1ccccc1)S(C)(=O)=O <|begin_of_text|>[SMILES]CCNC(=O)C(Cc1ccccc1)N(Cc1ccc(C)cc1)C(=O)CCCN(c1ccccc1)S(C)(=O)=O[/SMILES][CLOGP]4.32[/CLOGP]\n",
      "GT: 2.88 Gen: 2.89 diff: 0.01 CCn1ccnc1C1CCCN(C(=O)c2cn3cccc(C)c3n2)C1 <|begin_of_text|>[SMILES]CCn1ccnc1C1CCCN(C(=O)c2cn3cccc(C)c3n2)C1[/SMILES][CLOGP]2.89[/CLOGP]\n"
     ]
    },
    {
     "name": "stderr",
     "output_type": "stream",
     "text": [
      "The attention mask and the pad token id were not set. As a consequence, you may observe unexpected behavior. Please pass your input's `attention_mask` to obtain reliable results.\n",
      "Setting `pad_token_id` to `eos_token_id`:None for open-end generation.\n",
      "The attention mask and the pad token id were not set. As a consequence, you may observe unexpected behavior. Please pass your input's `attention_mask` to obtain reliable results.\n",
      "Setting `pad_token_id` to `eos_token_id`:None for open-end generation.\n"
     ]
    },
    {
     "name": "stdout",
     "output_type": "stream",
     "text": [
      "GT: 9.51 Gen: 9.23 diff: 0.28 CCc1nc2c(C)cc(N3CCN(CC(=O)N4CC(O)C4)C(C)(C)C3)cn2c1N(C)c1nc(-c2ccc(F)cc2)c(C#N)s1.CCc1nc2c(C)cc(N3CCNC(C)(C)C3)cn2c1N(C)c1nc(-c2ccc(F)cc2)c(C#N)s1 <|begin_of_text|>[SMILES]CCc1nc2c(C)cc(N3CCN(CC(=O)N4CC(O)C4)C(C)(C)C3)cn2c1N(C)c1nc(-c2ccc(F)cc2)c(C#N)s1.CCc1nc2c(C)cc(N3CCNC(C)(C)C3)cn2c1N(C)c1nc(-c2ccc(F)cc2)c(C#N)s1[/SMILES][CLOGP]9.23[/CLOGP]\n",
      "GT: 7.01 Gen: 6.93 diff: 0.08 CCOC(=O)CCC(C)C1CCC2C3CCC4CCCCC4(C)C3CCC12C <|begin_of_text|>[SMILES]CCOC(=O)CCC(C)C1CCC2C3CCC4CCCCC4(C)C3CCC12C[/SMILES][CLOGP]6.93[/CLOGP]\n"
     ]
    },
    {
     "name": "stderr",
     "output_type": "stream",
     "text": [
      "The attention mask and the pad token id were not set. As a consequence, you may observe unexpected behavior. Please pass your input's `attention_mask` to obtain reliable results.\n",
      "Setting `pad_token_id` to `eos_token_id`:None for open-end generation.\n",
      "The attention mask and the pad token id were not set. As a consequence, you may observe unexpected behavior. Please pass your input's `attention_mask` to obtain reliable results.\n",
      "Setting `pad_token_id` to `eos_token_id`:None for open-end generation.\n"
     ]
    },
    {
     "name": "stdout",
     "output_type": "stream",
     "text": [
      "GT: 15.38 Gen: 14.82 diff: 0.56 C.CCC(=O)SCC(C(=O)NC(CCCCN)C(=O)OC)N(C)C(=O)Oc1ccc2c(c1)Oc1cc(N(C)C)ccc1C21OC(=O)c2ccccc21.CCC(=O)SCC(C(=O)NC(CCCCNC(=O)OC(C)(C)C)C(=O)OC)N(C)C(=O)Oc1ccc2c(c1)Oc1cc(N(C)C)ccc1C21OC(=O)c2ccccc21.CN(C)c1ccc2c(c1)Oc1cc(O)ccc1C21OC(=O)c2ccccc21 <|begin_of_text|>[SMILES]C.CCC(=O)SCC(C(=O)NC(CCCCN)C(=O)OC)N(C)C(=O)Oc1ccc2c(c1)Oc1cc(N(C)C)ccc1C21OC(=O)c2ccccc21.CCC(=O)SCC(C(=O)NC(CCCCNC(=O)OC(C)(C)C)C(=O)OC)N(C)C(=O)Oc1ccc2c(c1)Oc1cc(N(C)C)ccc1C21OC(=O)c2ccccc21.CN(C)c1ccc2c(c1)Oc1cc(O)ccc1C21OC(=O)c2ccccc21[/SMILES][CLOGP]14.82[/CLOGP]\n",
      "GT: 6.8 Gen: 6.87 diff: 0.07 CCC=CC(O)CC=CC=CCC=CCC=CCCCC(=O)OC(COC(=O)CCCCCCC)COP(=O)(O)O <|begin_of_text|>[SMILES]CCC=CC(O)CC=CC=CCC=CCC=CCCCC(=O)OC(COC(=O)CCCCCCC)COP(=O)(O)O[/SMILES][CLOGP]6.87[/CLOGP]\n",
      "GT: 2.07 Gen: 2.09 diff: 0.02 CC(C)(C)NOC(=O)Nc1c[nH]c2c(C(=O)NCc3ccc4c(c3)NC(=O)CO4)ncnc12 <|begin_of_text|>[SMILES]CC(C)(C)NOC(=O)Nc1c[nH]c2c(C(=O)NCc3ccc4c(c3)NC(=O)CO4)ncnc12[/SMILES][CLOGP]2.09[/CLOGP]\n"
     ]
    },
    {
     "name": "stderr",
     "output_type": "stream",
     "text": [
      "The attention mask and the pad token id were not set. As a consequence, you may observe unexpected behavior. Please pass your input's `attention_mask` to obtain reliable results.\n",
      "Setting `pad_token_id` to `eos_token_id`:None for open-end generation.\n",
      "The attention mask and the pad token id were not set. As a consequence, you may observe unexpected behavior. Please pass your input's `attention_mask` to obtain reliable results.\n",
      "Setting `pad_token_id` to `eos_token_id`:None for open-end generation.\n",
      "The attention mask and the pad token id were not set. As a consequence, you may observe unexpected behavior. Please pass your input's `attention_mask` to obtain reliable results.\n",
      "Setting `pad_token_id` to `eos_token_id`:None for open-end generation.\n"
     ]
    },
    {
     "name": "stdout",
     "output_type": "stream",
     "text": [
      "GT: 2.49 Gen: 2.46 diff: 0.03 COc1cc(F)cc(C(CO)NC(=O)C(C)n2cnn3cc(-c4nc(NC5CCC(O)C5)ncc4Cl)cc3c2=O)c1 <|begin_of_text|>[SMILES]COc1cc(F)cc(C(CO)NC(=O)C(C)n2cnn3cc(-c4nc(NC5CCC(O)C5)ncc4Cl)cc3c2=O)c1[/SMILES][CLOGP]2.46[/CLOGP]\n",
      "GT: 4.45 Gen: 4.31 diff: 0.14 CN1CCC(CN(C)C(=O)c2ccc(N3C(=S)N(c4cnc(C#N)c(C(F)(F)F)c4)C(=O)C34CCC4)cc2)CC1 <|begin_of_text|>[SMILES]CN1CCC(CN(C)C(=O)c2ccc(N3C(=S)N(c4cnc(C#N)c(C(F)(F)F)c4)C(=O)C34CCC4)cc2)CC1[/SMILES][CLOGP]4.31[/CLOGP]\n"
     ]
    },
    {
     "name": "stderr",
     "output_type": "stream",
     "text": [
      "The attention mask and the pad token id were not set. As a consequence, you may observe unexpected behavior. Please pass your input's `attention_mask` to obtain reliable results.\n",
      "Setting `pad_token_id` to `eos_token_id`:None for open-end generation.\n",
      "The attention mask and the pad token id were not set. As a consequence, you may observe unexpected behavior. Please pass your input's `attention_mask` to obtain reliable results.\n",
      "Setting `pad_token_id` to `eos_token_id`:None for open-end generation.\n"
     ]
    },
    {
     "name": "stdout",
     "output_type": "stream",
     "text": [
      "GT: 3.78 Gen: 3.78 diff: 0.0 CCC(C)n1nccc1NC(=O)C(C)Sc1nnc(-c2ccc(OC)cc2)n1C <|begin_of_text|>[SMILES]CCC(C)n1nccc1NC(=O)C(C)Sc1nnc(-c2ccc(OC)cc2)n1C[/SMILES][CLOGP]3.78[/CLOGP]\n",
      "GT: 1.87 Gen: 1.87 diff: 0.0 Cn1c(=O)c2ccc(C(=O)Nc3ccccc3N3CCCCC3)nc2n(C)c1=O <|begin_of_text|>[SMILES]Cn1c(=O)c2ccc(C(=O)Nc3ccccc3N3CCCCC3)nc2n(C)c1=O[/SMILES][CLOGP]1.87[/CLOGP]\n",
      "GT: 3.5 Gen: 3.5 diff: 0.0 Cc1ccnc2c(NCC3CC3)c(F)ccc12 <|begin_of_text|>[SMILES]Cc1ccnc2c(NCC3CC3)c(F)ccc12[/SMILES][CLOGP]3.50[/CLOGP]\n"
     ]
    },
    {
     "name": "stderr",
     "output_type": "stream",
     "text": [
      "The attention mask and the pad token id were not set. As a consequence, you may observe unexpected behavior. Please pass your input's `attention_mask` to obtain reliable results.\n",
      "Setting `pad_token_id` to `eos_token_id`:None for open-end generation.\n",
      "The attention mask and the pad token id were not set. As a consequence, you may observe unexpected behavior. Please pass your input's `attention_mask` to obtain reliable results.\n",
      "Setting `pad_token_id` to `eos_token_id`:None for open-end generation.\n",
      "The attention mask and the pad token id were not set. As a consequence, you may observe unexpected behavior. Please pass your input's `attention_mask` to obtain reliable results.\n",
      "Setting `pad_token_id` to `eos_token_id`:None for open-end generation.\n"
     ]
    },
    {
     "name": "stdout",
     "output_type": "stream",
     "text": [
      "GT: 4.1 Gen: 4.06 diff: 0.04 C=CC(=O)NC(C)c1nc2ccccc2n1CCOc1cc(C)cc(C)c1 <|begin_of_text|>[SMILES]C=CC(=O)NC(C)c1nc2ccccc2n1CCOc1cc(C)cc(C)c1[/SMILES][CLOGP]4.06[/CLOGP]\n",
      "GT: -0.48 Gen: -0.49 diff: 0.01 C=CCNCC(=O)NCCCN1CCN(C)CC1 <|begin_of_text|>[SMILES]C=CCNCC(=O)NCCCN1CCN(C)CC1[/SMILES][CLOGP]-0.49[/CLOGP]\n"
     ]
    },
    {
     "name": "stderr",
     "output_type": "stream",
     "text": [
      "The attention mask and the pad token id were not set. As a consequence, you may observe unexpected behavior. Please pass your input's `attention_mask` to obtain reliable results.\n",
      "Setting `pad_token_id` to `eos_token_id`:None for open-end generation.\n",
      "The attention mask and the pad token id were not set. As a consequence, you may observe unexpected behavior. Please pass your input's `attention_mask` to obtain reliable results.\n",
      "Setting `pad_token_id` to `eos_token_id`:None for open-end generation.\n"
     ]
    },
    {
     "name": "stdout",
     "output_type": "stream",
     "text": [
      "GT: 3.89 Gen: 3.82 diff: 0.07 CC(=O)N1c2ccc(-c3cnn(C4CC4)c3)c(OCc3ccn(C)n3)c2CCC1C <|begin_of_text|>[SMILES]CC(=O)N1c2ccc(-c3cnn(C4CC4)c3)c(OCc3ccn(C)n3)c2CCC1C[/SMILES][CLOGP]3.82[/CLOGP]\n",
      "GT: 2.17 Gen: 2.13 diff: 0.04 CNC(CC(=O)N=C(C)N)Cc1cccc(-c2cccnc2)c1 <|begin_of_text|>[SMILES]CNC(CC(=O)N=C(C)N)Cc1cccc(-c2cccnc2)c1[/SMILES][CLOGP]2.13[/CLOGP]\n",
      "GT: 5.79 Gen: 5.71 diff: 0.08 COc1cc(OC)c2c(c1Cl)OC1(C2=O)C(O)=C(C(CC(=O)NCCc2nc(-c3ccccn3)no2)c2ccc(SC)cc2)C(=O)CC1C <|begin_of_text|>[SMILES]COc1cc(OC)c2c(c1Cl)OC1(C2=O)C(O)=C(C(CC(=O)NCCc2nc(-c3ccccn3)no2)c2ccc(SC)cc2)C(=O)CC1C[/SMILES][CLOGP]5.71[/CLOGP]\n"
     ]
    },
    {
     "name": "stderr",
     "output_type": "stream",
     "text": [
      "The attention mask and the pad token id were not set. As a consequence, you may observe unexpected behavior. Please pass your input's `attention_mask` to obtain reliable results.\n",
      "Setting `pad_token_id` to `eos_token_id`:None for open-end generation.\n",
      "The attention mask and the pad token id were not set. As a consequence, you may observe unexpected behavior. Please pass your input's `attention_mask` to obtain reliable results.\n",
      "Setting `pad_token_id` to `eos_token_id`:None for open-end generation.\n",
      "The attention mask and the pad token id were not set. As a consequence, you may observe unexpected behavior. Please pass your input's `attention_mask` to obtain reliable results.\n",
      "Setting `pad_token_id` to `eos_token_id`:None for open-end generation.\n"
     ]
    },
    {
     "name": "stdout",
     "output_type": "stream",
     "text": [
      "GT: 3.5 Gen: 3.48 diff: 0.02 CCc1noc(CC)c1CNC(=NC)NCc1cnn(-c2ccc(Cl)cc2)c1 <|begin_of_text|>[SMILES]CCc1noc(CC)c1CNC(=NC)NCc1cnn(-c2ccc(Cl)cc2)c1[/SMILES][CLOGP]3.48[/CLOGP]\n",
      "GT: 5.8 Gen: 5.85 diff: 0.05 CCCCOC(=O)NC(CC(Cc1ccc(OC)c(OCCCOC)c1)C(C)C)C1CC(C(C)C)C(=O)O1 <|begin_of_text|>[SMILES]CCCCOC(=O)NC(CC(Cc1ccc(OC)c(OCCCOC)c1)C(C)C)C1CC(C(C)C)C(=O)O1[/SMILES][CLOGP]5.85[/CLOGP]\n"
     ]
    },
    {
     "name": "stderr",
     "output_type": "stream",
     "text": [
      "The attention mask and the pad token id were not set. As a consequence, you may observe unexpected behavior. Please pass your input's `attention_mask` to obtain reliable results.\n",
      "Setting `pad_token_id` to `eos_token_id`:None for open-end generation.\n",
      "The attention mask and the pad token id were not set. As a consequence, you may observe unexpected behavior. Please pass your input's `attention_mask` to obtain reliable results.\n",
      "Setting `pad_token_id` to `eos_token_id`:None for open-end generation.\n"
     ]
    },
    {
     "name": "stdout",
     "output_type": "stream",
     "text": [
      "GT: 2.62 Gen: 2.65 diff: 0.03 CCC(C)C(NC(=O)C=Cc1ccc(C)cc1)C(=O)O <|begin_of_text|>[SMILES]CCC(C)C(NC(=O)C=Cc1ccc(C)cc1)C(=O)O[/SMILES][CLOGP]2.65[/CLOGP]\n",
      "GT: 3.12 Gen: 3.07 diff: 0.05 C=C(N(N)C=CC(C)(F)c1ccc(C)cc1)N(N)c1cccnc1 <|begin_of_text|>[SMILES]C=C(N(N)C=CC(C)(F)c1ccc(C)cc1)N(N)c1cccnc1[/SMILES][CLOGP]3.07[/CLOGP]\n"
     ]
    },
    {
     "name": "stderr",
     "output_type": "stream",
     "text": [
      "The attention mask and the pad token id were not set. As a consequence, you may observe unexpected behavior. Please pass your input's `attention_mask` to obtain reliable results.\n",
      "Setting `pad_token_id` to `eos_token_id`:None for open-end generation.\n",
      "The attention mask and the pad token id were not set. As a consequence, you may observe unexpected behavior. Please pass your input's `attention_mask` to obtain reliable results.\n",
      "Setting `pad_token_id` to `eos_token_id`:None for open-end generation.\n",
      "The attention mask and the pad token id were not set. As a consequence, you may observe unexpected behavior. Please pass your input's `attention_mask` to obtain reliable results.\n",
      "Setting `pad_token_id` to `eos_token_id`:None for open-end generation.\n"
     ]
    },
    {
     "name": "stdout",
     "output_type": "stream",
     "text": [
      "GT: 3.58 Gen: 3.6 diff: 0.02 CCC(C)n1ccc(CC(N)Cc2ccc(C)c(C)c2)n1 <|begin_of_text|>[SMILES]CCC(C)n1ccc(CC(N)Cc2ccc(C)c(C)c2)n1[/SMILES][CLOGP]3.60[/CLOGP]\n",
      "GT: 4.32 Gen: 4.3 diff: 0.02 CC(C)(C)c1nn(-c2ccccc2)c2ccccc12 <|begin_of_text|>[SMILES]CC(C)(C)c1nn(-c2ccccc2)c2ccccc12[/SMILES][CLOGP]4.30[/CLOGP]\n",
      "GT: 2.51 Gen: 2.45 diff: 0.06 CCOCC1CN(C(=O)Cc2ccn(C)n2)Cc2cnn(CC3CCCC3)c21 <|begin_of_text|>[SMILES]CCOCC1CN(C(=O)Cc2ccn(C)n2)Cc2cnn(CC3CCCC3)c21[/SMILES][CLOGP]2.45[/CLOGP]\n"
     ]
    },
    {
     "name": "stderr",
     "output_type": "stream",
     "text": [
      "The attention mask and the pad token id were not set. As a consequence, you may observe unexpected behavior. Please pass your input's `attention_mask` to obtain reliable results.\n",
      "Setting `pad_token_id` to `eos_token_id`:None for open-end generation.\n",
      "The attention mask and the pad token id were not set. As a consequence, you may observe unexpected behavior. Please pass your input's `attention_mask` to obtain reliable results.\n",
      "Setting `pad_token_id` to `eos_token_id`:None for open-end generation.\n"
     ]
    },
    {
     "name": "stdout",
     "output_type": "stream",
     "text": [
      "GT: 3.49 Gen: 3.48 diff: 0.01 CCC(C)c1ccc(S(=O)(=O)N2CCN(C(=O)c3ccc(COC)cc3)CC2)cc1 <|begin_of_text|>[SMILES]CCC(C)c1ccc(S(=O)(=O)N2CCN(C(=O)c3ccc(COC)cc3)CC2)cc1[/SMILES][CLOGP]3.48[/CLOGP]\n",
      "GT: 3.68 Gen: 3.63 diff: 0.05 COC(CNC(=NCc1cccs1)NCCc1ccco1)C(C)(C)C <|begin_of_text|>[SMILES]COC(CNC(=NCc1cccs1)NCCc1ccco1)C(C)(C)C[/SMILES][CLOGP]3.63[/CLOGP]\n"
     ]
    },
    {
     "name": "stderr",
     "output_type": "stream",
     "text": [
      "The attention mask and the pad token id were not set. As a consequence, you may observe unexpected behavior. Please pass your input's `attention_mask` to obtain reliable results.\n",
      "Setting `pad_token_id` to `eos_token_id`:None for open-end generation.\n",
      "The attention mask and the pad token id were not set. As a consequence, you may observe unexpected behavior. Please pass your input's `attention_mask` to obtain reliable results.\n",
      "Setting `pad_token_id` to `eos_token_id`:None for open-end generation.\n"
     ]
    },
    {
     "name": "stdout",
     "output_type": "stream",
     "text": [
      "GT: -3.51 Gen: -3.46 diff: 0.05 OCC1OC(OC2CC3C(O)CC(O)CC3[OH+]C2C2CCC(O)C(O)C2)C(O)C(O)C1O <|begin_of_text|>[SMILES]OCC1OC(OC2CC3C(O)CC(O)CC3[OH+]C2C2CCC(O)C(O)C2)C(O)C(O)C1O[/SMILES][CLOGP]-3.46[/CLOGP]\n",
      "GT: 4.8 Gen: 4.79 diff: 0.01 CSc1ccc(N2CC(C(=O)Nc3ccc(C(=O)N(C)C4CCCCC4)cc3)CC2=O)cc1 <|begin_of_text|>[SMILES]CSc1ccc(N2CC(C(=O)Nc3ccc(C(=O)N(C)C4CCCCC4)cc3)CC2=O)cc1[/SMILES][CLOGP]4.79[/CLOGP]\n",
      "GT: 1.4 Gen: 1.43 diff: 0.03 COc1cccc2c1C(=O)C(O)=C(O)C2=O <|begin_of_text|>[SMILES]COc1cccc2c1C(=O)C(O)=C(O)C2=O[/SMILES][CLOGP]1.43[/CLOGP]\n"
     ]
    },
    {
     "name": "stderr",
     "output_type": "stream",
     "text": [
      "The attention mask and the pad token id were not set. As a consequence, you may observe unexpected behavior. Please pass your input's `attention_mask` to obtain reliable results.\n",
      "Setting `pad_token_id` to `eos_token_id`:None for open-end generation.\n",
      "The attention mask and the pad token id were not set. As a consequence, you may observe unexpected behavior. Please pass your input's `attention_mask` to obtain reliable results.\n",
      "Setting `pad_token_id` to `eos_token_id`:None for open-end generation.\n",
      "The attention mask and the pad token id were not set. As a consequence, you may observe unexpected behavior. Please pass your input's `attention_mask` to obtain reliable results.\n",
      "Setting `pad_token_id` to `eos_token_id`:None for open-end generation.\n"
     ]
    },
    {
     "name": "stdout",
     "output_type": "stream",
     "text": [
      "GT: 4.12 Gen: 4.19 diff: 0.07 Cc1ccccc1C(C)COC(=O)Nc1ccc(S(=O)(=O)C(C)C)c(CN(C)C=O)c1 <|begin_of_text|>[SMILES]Cc1ccccc1C(C)COC(=O)Nc1ccc(S(=O)(=O)C(C)C)c(CN(C)C=O)c1[/SMILES][CLOGP]4.19[/CLOGP]\n",
      "GT: 1.49 Gen: 1.51 diff: 0.02 CC1(NC(=O)CCc2nc3sc4c(c3c(=O)[nH]2)CCCC4)CCS(=O)(=O)C1 <|begin_of_text|>[SMILES]CC1(NC(=O)CCc2nc3sc4c(c3c(=O)[nH]2)CCCC4)CCS(=O)(=O)C1[/SMILES][CLOGP]1.51[/CLOGP]\n",
      "GT: 4.12 Gen: 4.11 diff: 0.01 CCCNc1ncc(C)c(Oc2ccccc2SC)n1 <|begin_of_text|>[SMILES]CCCNc1ncc(C)c(Oc2ccccc2SC)n1[/SMILES][CLOGP]4.11[/CLOGP]\n"
     ]
    },
    {
     "name": "stderr",
     "output_type": "stream",
     "text": [
      "The attention mask and the pad token id were not set. As a consequence, you may observe unexpected behavior. Please pass your input's `attention_mask` to obtain reliable results.\n",
      "Setting `pad_token_id` to `eos_token_id`:None for open-end generation.\n",
      "The attention mask and the pad token id were not set. As a consequence, you may observe unexpected behavior. Please pass your input's `attention_mask` to obtain reliable results.\n",
      "Setting `pad_token_id` to `eos_token_id`:None for open-end generation.\n",
      "The attention mask and the pad token id were not set. As a consequence, you may observe unexpected behavior. Please pass your input's `attention_mask` to obtain reliable results.\n",
      "Setting `pad_token_id` to `eos_token_id`:None for open-end generation.\n"
     ]
    },
    {
     "name": "stdout",
     "output_type": "stream",
     "text": [
      "GT: 3.49 Gen: 3.49 diff: 0.0 C=CCC1(O)CCC(C(=O)CCCC)C(C)C1 <|begin_of_text|>[SMILES]C=CCC1(O)CCC(C(=O)CCCC)C(C)C1[/SMILES][CLOGP]3.49[/CLOGP]\n",
      "GT: -0.08 Gen: -0.1 diff: 0.02 O=C(O)Cc1cc(=O)n2[nH]c(C3CC3)nc2n1 <|begin_of_text|>[SMILES]O=C(O)Cc1cc(=O)n2[nH]c(C3CC3)nc2n1[/SMILES][CLOGP]-0.10[/CLOGP]\n"
     ]
    },
    {
     "name": "stderr",
     "output_type": "stream",
     "text": [
      "The attention mask and the pad token id were not set. As a consequence, you may observe unexpected behavior. Please pass your input's `attention_mask` to obtain reliable results.\n",
      "Setting `pad_token_id` to `eos_token_id`:None for open-end generation.\n",
      "The attention mask and the pad token id were not set. As a consequence, you may observe unexpected behavior. Please pass your input's `attention_mask` to obtain reliable results.\n",
      "Setting `pad_token_id` to `eos_token_id`:None for open-end generation.\n"
     ]
    },
    {
     "name": "stdout",
     "output_type": "stream",
     "text": [
      "GT: 6.77 Gen: 6.78 diff: 0.01 CC.CC(C)Cc1sc(Nc2cccc(C(=O)NCCN)c2)nc1-c1ccc(Cl)c(Cl)c1 <|begin_of_text|>[SMILES]CC.CC(C)Cc1sc(Nc2cccc(C(=O)NCCN)c2)nc1-c1ccc(Cl)c(Cl)c1[/SMILES][CLOGP]6.78[/CLOGP]\n",
      "GT: 2.78 Gen: 2.78 diff: 0.0 Cc1oc(-n2cccc2)c(C#N)c1C(=O)NCC(C)(C)CC(C)O <|begin_of_text|>[SMILES]Cc1oc(-n2cccc2)c(C#N)c1C(=O)NCC(C)(C)CC(C)O[/SMILES][CLOGP]2.78[/CLOGP]\n",
      "GT: 5.18 Gen: 5.18 diff: 0.0 CCc1noc(C(C)Sc2nnc(-c3ccccc3F)n2-c2ccc(C)cc2)n1 <|begin_of_text|>[SMILES]CCc1noc(C(C)Sc2nnc(-c3ccccc3F)n2-c2ccc(C)cc2)n1[/SMILES][CLOGP]5.18[/CLOGP]\n"
     ]
    },
    {
     "name": "stderr",
     "output_type": "stream",
     "text": [
      "The attention mask and the pad token id were not set. As a consequence, you may observe unexpected behavior. Please pass your input's `attention_mask` to obtain reliable results.\n",
      "Setting `pad_token_id` to `eos_token_id`:None for open-end generation.\n",
      "The attention mask and the pad token id were not set. As a consequence, you may observe unexpected behavior. Please pass your input's `attention_mask` to obtain reliable results.\n",
      "Setting `pad_token_id` to `eos_token_id`:None for open-end generation.\n",
      "The attention mask and the pad token id were not set. As a consequence, you may observe unexpected behavior. Please pass your input's `attention_mask` to obtain reliable results.\n",
      "Setting `pad_token_id` to `eos_token_id`:None for open-end generation.\n"
     ]
    },
    {
     "name": "stdout",
     "output_type": "stream",
     "text": [
      "GT: 4.62 Gen: 4.57 diff: 0.05 CC(CC(C)(C)O)OC(=O)CC1CN(C2=Nc3cc(Cl)ccc3Oc3ccccc32)CCN1C <|begin_of_text|>[SMILES]CC(CC(C)(C)O)OC(=O)CC1CN(C2=Nc3cc(Cl)ccc3Oc3ccccc32)CCN1C[/SMILES][CLOGP]4.57[/CLOGP]\n",
      "GT: 2.83 Gen: 2.82 diff: 0.01 CCNC(=NCC(c1ccccc1)N(CC)CC)NCCn1cc(C)cn1 <|begin_of_text|>[SMILES]CCNC(=NCC(c1ccccc1)N(CC)CC)NCCn1cc(C)cn1[/SMILES][CLOGP]2.82[/CLOGP]\n",
      "GT: 5.16 Gen: 5.17 diff: 0.01 Cc1ccc(C2C3=C(CC(C)(C)CC3=O)Nc3nc(-c4ccc(Cl)cc4)nn32)o1 <|begin_of_text|>[SMILES]Cc1ccc(C2C3=C(CC(C)(C)CC3=O)Nc3nc(-c4ccc(Cl)cc4)nn32)o1[/SMILES][CLOGP]5.17[/CLOGP]\n"
     ]
    },
    {
     "name": "stderr",
     "output_type": "stream",
     "text": [
      "The attention mask and the pad token id were not set. As a consequence, you may observe unexpected behavior. Please pass your input's `attention_mask` to obtain reliable results.\n",
      "Setting `pad_token_id` to `eos_token_id`:None for open-end generation.\n",
      "The attention mask and the pad token id were not set. As a consequence, you may observe unexpected behavior. Please pass your input's `attention_mask` to obtain reliable results.\n",
      "Setting `pad_token_id` to `eos_token_id`:None for open-end generation.\n",
      "The attention mask and the pad token id were not set. As a consequence, you may observe unexpected behavior. Please pass your input's `attention_mask` to obtain reliable results.\n",
      "Setting `pad_token_id` to `eos_token_id`:None for open-end generation.\n"
     ]
    },
    {
     "name": "stdout",
     "output_type": "stream",
     "text": [
      "GT: 3.96 Gen: 3.93 diff: 0.03 Cc1ccc(C(=O)N(Cc2ccccc2F)CC2CCCO2)cc1 <|begin_of_text|>[SMILES]Cc1ccc(C(=O)N(Cc2ccccc2F)CC2CCCO2)cc1[/SMILES][CLOGP]3.93[/CLOGP]\n",
      "GT: 5.73 Gen: 5.66 diff: 0.07 O=C1CCCC(O)=C1C(CCc1noc2c1C(=O)CC(c1ccccc1)C2)=NCc1ccccc1 <|begin_of_text|>[SMILES]O=C1CCCC(O)=C1C(CCc1noc2c1C(=O)CC(c1ccccc1)C2)=NCc1ccccc1[/SMILES][CLOGP]5.66[/CLOGP]\n",
      "GT: 3.46 Gen: 3.44 diff: 0.02 COc1ccc(NC(=O)C=Cc2ccc(C3CC3C)o2)cn1 <|begin_of_text|>[SMILES]COc1ccc(NC(=O)C=Cc2ccc(C3CC3C)o2)cn1[/SMILES][CLOGP]3.44[/CLOGP]\n"
     ]
    },
    {
     "name": "stderr",
     "output_type": "stream",
     "text": [
      "The attention mask and the pad token id were not set. As a consequence, you may observe unexpected behavior. Please pass your input's `attention_mask` to obtain reliable results.\n",
      "Setting `pad_token_id` to `eos_token_id`:None for open-end generation.\n",
      "The attention mask and the pad token id were not set. As a consequence, you may observe unexpected behavior. Please pass your input's `attention_mask` to obtain reliable results.\n",
      "Setting `pad_token_id` to `eos_token_id`:None for open-end generation.\n",
      "The attention mask and the pad token id were not set. As a consequence, you may observe unexpected behavior. Please pass your input's `attention_mask` to obtain reliable results.\n",
      "Setting `pad_token_id` to `eos_token_id`:None for open-end generation.\n"
     ]
    },
    {
     "name": "stdout",
     "output_type": "stream",
     "text": [
      "GT: 1.71 Gen: 1.67 diff: 0.04 CC1(C(=O)NS(=O)(=O)c2cc(Cl)ccc2Cl)CCC(=O)NC1 <|begin_of_text|>[SMILES]CC1(C(=O)NS(=O)(=O)c2cc(Cl)ccc2Cl)CCC(=O)NC1[/SMILES][CLOGP]1.67[/CLOGP]\n",
      "GT: 2.41 Gen: 2.42 diff: 0.01 Cc1c2ccccc2nn1CCCNC(=O)c1nn2c(c1Cl)OCC2 <|begin_of_text|>[SMILES]Cc1c2ccccc2nn1CCCNC(=O)c1nn2c(c1Cl)OCC2[/SMILES][CLOGP]2.42[/CLOGP]\n",
      "GT: 2.72 Gen: 2.68 diff: 0.04 CCNC(=NCc1ccc(CN2CCOCC2)cc1)N1CCC(C)CC1 <|begin_of_text|>[SMILES]CCNC(=NCc1ccc(CN2CCOCC2)cc1)N1CCC(C)CC1[/SMILES][CLOGP]2.68[/CLOGP]\n"
     ]
    },
    {
     "name": "stderr",
     "output_type": "stream",
     "text": [
      "The attention mask and the pad token id were not set. As a consequence, you may observe unexpected behavior. Please pass your input's `attention_mask` to obtain reliable results.\n",
      "Setting `pad_token_id` to `eos_token_id`:None for open-end generation.\n",
      "The attention mask and the pad token id were not set. As a consequence, you may observe unexpected behavior. Please pass your input's `attention_mask` to obtain reliable results.\n",
      "Setting `pad_token_id` to `eos_token_id`:None for open-end generation.\n",
      "The attention mask and the pad token id were not set. As a consequence, you may observe unexpected behavior. Please pass your input's `attention_mask` to obtain reliable results.\n",
      "Setting `pad_token_id` to `eos_token_id`:None for open-end generation.\n"
     ]
    },
    {
     "name": "stdout",
     "output_type": "stream",
     "text": [
      "GT: 4.13 Gen: 4.03 diff: 0.1 CN1CN(C(=O)c2ccc(F)cc2)N=C(c2ccccc2)c2ccccc21 <|begin_of_text|>[SMILES]CN1CN(C(=O)c2ccc(F)cc2)N=C(c2ccccc2)c2ccccc21[/SMILES][CLOGP]4.03[/CLOGP]\n",
      "GT: 2.57 Gen: 2.54 diff: 0.03 CCOc1ccc(S(=O)(=O)NCC2(C)CCNCC2)cc1OCC.Cl <|begin_of_text|>[SMILES]CCOc1ccc(S(=O)(=O)NCC2(C)CCNCC2)cc1OCC.Cl[/SMILES][CLOGP]2.54[/CLOGP]\n",
      "GT: 1.86 Gen: 1.85 diff: 0.01 NCCc1nc(C2CCC(F)(F)CC2)no1 <|begin_of_text|>[SMILES]NCCc1nc(C2CCC(F)(F)CC2)no1[/SMILES][CLOGP]1.85[/CLOGP]\n"
     ]
    },
    {
     "name": "stderr",
     "output_type": "stream",
     "text": [
      "The attention mask and the pad token id were not set. As a consequence, you may observe unexpected behavior. Please pass your input's `attention_mask` to obtain reliable results.\n",
      "Setting `pad_token_id` to `eos_token_id`:None for open-end generation.\n",
      "The attention mask and the pad token id were not set. As a consequence, you may observe unexpected behavior. Please pass your input's `attention_mask` to obtain reliable results.\n",
      "Setting `pad_token_id` to `eos_token_id`:None for open-end generation.\n",
      "The attention mask and the pad token id were not set. As a consequence, you may observe unexpected behavior. Please pass your input's `attention_mask` to obtain reliable results.\n",
      "Setting `pad_token_id` to `eos_token_id`:None for open-end generation.\n"
     ]
    },
    {
     "name": "stdout",
     "output_type": "stream",
     "text": [
      "GT: 2.93 Gen: 2.92 diff: 0.01 COc1cc(O)c2c(c1)Oc1ccccc1CC2=O <|begin_of_text|>[SMILES]COc1cc(O)c2c(c1)Oc1ccccc1CC2=O[/SMILES][CLOGP]2.92[/CLOGP]\n",
      "GT: -0.97 Gen: -1.0 diff: 0.03 C1CO[SnH2]O1 <|begin_of_text|>[SMILES]C1CO[SnH2]O1[/SMILES][CLOGP]-1.00[/CLOGP]\n"
     ]
    },
    {
     "name": "stderr",
     "output_type": "stream",
     "text": [
      "The attention mask and the pad token id were not set. As a consequence, you may observe unexpected behavior. Please pass your input's `attention_mask` to obtain reliable results.\n",
      "Setting `pad_token_id` to `eos_token_id`:None for open-end generation.\n",
      "The attention mask and the pad token id were not set. As a consequence, you may observe unexpected behavior. Please pass your input's `attention_mask` to obtain reliable results.\n",
      "Setting `pad_token_id` to `eos_token_id`:None for open-end generation.\n"
     ]
    },
    {
     "name": "stdout",
     "output_type": "stream",
     "text": [
      "GT: 3.65 Gen: 3.6 diff: 0.05 Cn1c(=O)c2c(-c3ccccc3Br)n3c(c2n(C)c1=O)C(c1cccs1)OCC3 <|begin_of_text|>[SMILES]Cn1c(=O)c2c(-c3ccccc3Br)n3c(c2n(C)c1=O)C(c1cccs1)OCC3[/SMILES][CLOGP]3.60[/CLOGP]\n",
      "GT: 3.77 Gen: 3.81 diff: 0.04 COc1ccc(N(CC(=O)N(Cc2ccccc2F)C(Cc2ccccc2)C(=O)NC(C)C)S(C)(=O)=O)cc1OC <|begin_of_text|>[SMILES]COc1ccc(N(CC(=O)N(Cc2ccccc2F)C(Cc2ccccc2)C(=O)NC(C)C)S(C)(=O)=O)cc1OC[/SMILES][CLOGP]3.81[/CLOGP]\n"
     ]
    },
    {
     "name": "stderr",
     "output_type": "stream",
     "text": [
      "The attention mask and the pad token id were not set. As a consequence, you may observe unexpected behavior. Please pass your input's `attention_mask` to obtain reliable results.\n",
      "Setting `pad_token_id` to `eos_token_id`:None for open-end generation.\n",
      "The attention mask and the pad token id were not set. As a consequence, you may observe unexpected behavior. Please pass your input's `attention_mask` to obtain reliable results.\n",
      "Setting `pad_token_id` to `eos_token_id`:None for open-end generation.\n"
     ]
    },
    {
     "name": "stdout",
     "output_type": "stream",
     "text": [
      "GT: 3.44 Gen: 3.43 diff: 0.01 Cc1nc(NCCNC(=O)c2cccc(C(F)(F)F)c2)cc(-n2cccc2)n1 <|begin_of_text|>[SMILES]Cc1nc(NCCNC(=O)c2cccc(C(F)(F)F)c2)cc(-n2cccc2)n1[/SMILES][CLOGP]3.43[/CLOGP]\n",
      "GT: 5.63 Gen: 5.57 diff: 0.06 Cl.NCc1ccc(COc2ccc(C(=O)CC3CCCC3)c(O)c2C(F)(F)F)cc1 <|begin_of_text|>[SMILES]Cl.NCc1ccc(COc2ccc(C(=O)CC3CCCC3)c(O)c2C(F)(F)F)cc1[/SMILES][CLOGP]5.57[/CLOGP]\n"
     ]
    },
    {
     "name": "stderr",
     "output_type": "stream",
     "text": [
      "The attention mask and the pad token id were not set. As a consequence, you may observe unexpected behavior. Please pass your input's `attention_mask` to obtain reliable results.\n",
      "Setting `pad_token_id` to `eos_token_id`:None for open-end generation.\n",
      "The attention mask and the pad token id were not set. As a consequence, you may observe unexpected behavior. Please pass your input's `attention_mask` to obtain reliable results.\n",
      "Setting `pad_token_id` to `eos_token_id`:None for open-end generation.\n"
     ]
    },
    {
     "name": "stdout",
     "output_type": "stream",
     "text": [
      "GT: 6.34 Gen: 6.0 diff: 0.34 CC(=O)OCC1=CC2(O)OC1CC1C3=C(C(C)C)CCC3(C)CCC12C.CC(C)C(=O)CCC1(C)CCC2(C)C(CC=C3C(O)C4(O)COC5OC2C3C5(O)C4O)C1=O.CC(C)C(=O)CCC1(C)CCC2(C)C(CCC3C(O)OC4(O)C(O)COC5OC2C3C54O)C1=O.CC(C)C1=C2C3=CC=C(C(=O)[O-])CC(OC4OCC(O)C(O)C4O)C3(C)CCC2(C)CC1.CC(C)C1=C2C3CC=C4C(O)C5(O)COC6OC(C4C6(O)C5O)C3(C)CCC2(C)CC1.[Na+] <|begin_of_text|>[SMILES]CC(=O)OCC1=CC2(O)OC1CC1C3=C(C(C)C)CCC3(C)CCC12C.CC(C)C(=O)CCC1(C)CCC2(C)C(CC=C3C(O)C4(O)COC5OC2C3C5(O)C4O)C1=O.CC(C)C(=O)CCC1(C)CCC2(C)C(CCC3C(O)OC4(O)C(O)COC5OC2C3C54O)C1=O.CC(C)C1=C2C3=CC=C(C(=O)[O-])CC(OC4OCC(O)C(O)C4O)C3(C)CCC2(C)CC1.CC(C)C1=C2C3CC=C4C(O)C5(O)COC6OC(C4C6(O)C5O)C3(C)CCC2(C)CC1.[Na+][/SMILES][CLOGP]6.00[/CLOGP]\n",
      "GT: 6.49 Gen: 6.41 diff: 0.08 CCOc1cc(C2C(C(=O)Nc3ccc(Cl)cc3)=C(C)Nc3ncnn32)ccc1OCc1ccccc1Cl <|begin_of_text|>[SMILES]CCOc1cc(C2C(C(=O)Nc3ccc(Cl)cc3)=C(C)Nc3ncnn32)ccc1OCc1ccccc1Cl[/SMILES][CLOGP]6.41[/CLOGP]\n"
     ]
    },
    {
     "name": "stderr",
     "output_type": "stream",
     "text": [
      "The attention mask and the pad token id were not set. As a consequence, you may observe unexpected behavior. Please pass your input's `attention_mask` to obtain reliable results.\n",
      "Setting `pad_token_id` to `eos_token_id`:None for open-end generation.\n",
      "The attention mask and the pad token id were not set. As a consequence, you may observe unexpected behavior. Please pass your input's `attention_mask` to obtain reliable results.\n",
      "Setting `pad_token_id` to `eos_token_id`:None for open-end generation.\n"
     ]
    },
    {
     "name": "stdout",
     "output_type": "stream",
     "text": [
      "GT: 7.54 Gen: 7.54 diff: 0.0 CC1CCCC(C)C1n1c(-c2cccs2)nc2cc(C(=O)NC3(C(=O)Nc4ccc(C=CC(=O)O)cc4)CCCC3)ccc21 <|begin_of_text|>[SMILES]CC1CCCC(C)C1n1c(-c2cccs2)nc2cc(C(=O)NC3(C(=O)Nc4ccc(C=CC(=O)O)cc4)CCCC3)ccc21[/SMILES][CLOGP]7.54[/CLOGP]\n",
      "GT: 2.88 Gen: 2.9 diff: 0.02 CCC(CC)n1nc(C)c(C(C)N)c1C <|begin_of_text|>[SMILES]CCC(CC)n1nc(C)c(C(C)N)c1C[/SMILES][CLOGP]2.90[/CLOGP]\n",
      "GT: 3.69 Gen: 3.6 diff: 0.09 Nc1nc(C(F)(F)F)nn1-c1cc(S)c(C2CC2)cc1Cl <|begin_of_text|>[SMILES]Nc1nc(C(F)(F)F)nn1-c1cc(S)c(C2CC2)cc1Cl[/SMILES][CLOGP]3.60[/CLOGP]\n"
     ]
    },
    {
     "name": "stderr",
     "output_type": "stream",
     "text": [
      "/auto/home/menuab/miniforge3/envs/llama3/lib/python3.10/site-packages/sklearn/metrics/_regression.py:492: FutureWarning: 'squared' is deprecated in version 1.4 and will be removed in 1.6. To calculate the root mean squared error, use the function'root_mean_squared_error'.\n",
      "  warnings.warn(\n"
     ]
    }
   ],
   "source": [
    "tic = {\n",
    "        \"QED\": .01,\n",
    "        \"SAS\": .1,\n",
    "        \"TPSA\": 1,\n",
    "        \"WEIGHT\": 12,\n",
    "        \"CLOGP\": .25,\n",
    "        }\n",
    "properties = [\"TPSA\",\"WEIGHT\",\"QED\",\"SAS\",\"CLOGP\"]\n",
    "for property in properties:\n",
    "    ground_truths, gens, diffs = [],[],[]\n",
    "    invalids = 0\n",
    "    for s in smiles100:\n",
    "        prompt = f\"<|begin_of_text|>[SMILES]{s}[/SMILES][{property}]\"\n",
    "        len_prompt = len(prompt)\n",
    "        prompt = tokenizer(prompt, return_tensors=\"pt\", add_special_tokens=False).to(model.device)\n",
    "        out = model.generate(prompt.input_ids, do_sample=False, eos_token_id=tokenizer.encode(f\"[/{property}]\", add_special_tokens=False)[0], max_new_tokens=300)\n",
    "        out = tokenizer.batch_decode(out)[0]\n",
    "        try:\n",
    "            if out.find(f\"[{property}]\")!=-1:\n",
    "                gen_score = float(out[out.find(f\"[{property}]\") + len(f\"[{property}]\"):out.find(f\"[/{property}]\")])\n",
    "                if property == \"TPSA\":\n",
    "                    gt_score = AllChem.CalcTPSA(Chem.MolFromSmiles(s))\n",
    "                elif property == \"QED\":\n",
    "                    gt_score = QED.qed(Chem.MolFromSmiles(s))\n",
    "                elif property == \"SAS\":\n",
    "                    gt_score = sascorer.calculateScore(Chem.MolFromSmiles(s))\n",
    "                elif property == \"WEIGHT\":\n",
    "                    gt_score = Descriptors.ExactMolWt(Chem.MolFromSmiles(s))\n",
    "                elif property == \"CLOGP\":\n",
    "                    gt_score = Descriptors.MolLogP(Chem.MolFromSmiles(s))\n",
    "                diff = abs(gt_score - gen_score)\n",
    "                print(\"GT:\", round(gt_score,2), \"Gen:\", gen_score, \"diff:\", round(diff,2), s, out )\n",
    "                ground_truths.append(gt_score)\n",
    "                gens.append(gen_score)\n",
    "                diffs.append(diff)\n",
    "            else:\n",
    "                print(f\"GT: {gt_score} GEN: {gen_score} {out}\")\n",
    "        except:\n",
    "            print(f\"GT: {gt_score} {out}\")\n",
    "            invalids += 1\n",
    "            raise\n",
    "\n",
    "    combined = list(zip(ground_truths, gens, diffs))\n",
    "    combined.sort(key=lambda x: x[0])\n",
    "    ground_truths, gens, diffs = zip(*combined)\n",
    "    rmse = metrics.mean_squared_error(ground_truths, gens, squared=False)\n",
    "    mape = metrics.mean_absolute_percentage_error(ground_truths, gens)\n",
    "    correlation = correlation, pvalue = spearmanr(ground_truths, gens)\n",
    "    # tic = 900 if property in [\"TPSA\", \"WEIGHT\"] else 100\n",
    "    generate_plot(ground_truths, gens, diffs, property, rmse, mape, correlation, invalids, len(ground_truths), (min(ground_truths), max(ground_truths)), tic[property])"
   ]
  },
  {
   "cell_type": "code",
   "execution_count": 16,
   "metadata": {
    "metadata": {}
   },
   "outputs": [
    {
     "name": "stderr",
     "output_type": "stream",
     "text": [
      "The attention mask and the pad token id were not set. As a consequence, you may observe unexpected behavior. Please pass your input's `attention_mask` to obtain reliable results.\n",
      "Setting `pad_token_id` to `eos_token_id`:None for open-end generation.\n",
      "[16:07:53] DEPRECATION WARNING: please use MorganGenerator\n",
      "[16:07:53] DEPRECATION WARNING: please use MorganGenerator\n",
      "The attention mask and the pad token id were not set. As a consequence, you may observe unexpected behavior. Please pass your input's `attention_mask` to obtain reliable results.\n",
      "Setting `pad_token_id` to `eos_token_id`:None for open-end generation.\n",
      "[16:07:53] DEPRECATION WARNING: please use MorganGenerator\n",
      "[16:07:53] DEPRECATION WARNING: please use MorganGenerator\n",
      "The attention mask and the pad token id were not set. As a consequence, you may observe unexpected behavior. Please pass your input's `attention_mask` to obtain reliable results.\n",
      "Setting `pad_token_id` to `eos_token_id`:None for open-end generation.\n"
     ]
    },
    {
     "name": "stdout",
     "output_type": "stream",
     "text": [
      "GT: 0.2 Gen: 0.2 diff: 0.0 CC(=O)Nc1ccc(C(=O)NN=Cc2cccc([N+](=O)[O-])c2OC(=O)c2cccc(C)c2)cc1 <|begin_of_text|>[SMILES]CC(=O)Nc1ccc(C(=O)NN=Cc2cccc([N+](=O)[O-])c2OC(=O)c2cccc(C)c2)cc1[/SMILES][SIMILAR]Cc1nn(C)c(Oc2ccc(Br)cc2[N+](=O)[O-])c1CO 0.20[/SIMILAR]\n",
      "GT: 0.09 Gen: 0.13 diff: 0.04 CC(=O)Nc1ccc(C(=O)NN=Cc2cccc([N+](=O)[O-])c2OC(=O)c2cccc(C)c2)cc1 <|begin_of_text|>[SMILES]CC(=O)Nc1ccc(C(=O)NN=Cc2cccc([N+](=O)[O-])c2OC(=O)c2cccc(C)c2)cc1[/SMILES][SIMILAR]CN=C(NCc1nc(-c2ccccc2)cs1)N1CCSC(C)(C)C1 0.13[/SIMILAR]\n"
     ]
    },
    {
     "name": "stderr",
     "output_type": "stream",
     "text": [
      "[16:07:54] DEPRECATION WARNING: please use MorganGenerator\n",
      "[16:07:54] DEPRECATION WARNING: please use MorganGenerator\n",
      "The attention mask and the pad token id were not set. As a consequence, you may observe unexpected behavior. Please pass your input's `attention_mask` to obtain reliable results.\n",
      "Setting `pad_token_id` to `eos_token_id`:None for open-end generation.\n",
      "[16:07:54] DEPRECATION WARNING: please use MorganGenerator\n",
      "[16:07:54] DEPRECATION WARNING: please use MorganGenerator\n",
      "The attention mask and the pad token id were not set. As a consequence, you may observe unexpected behavior. Please pass your input's `attention_mask` to obtain reliable results.\n",
      "Setting `pad_token_id` to `eos_token_id`:None for open-end generation.\n"
     ]
    },
    {
     "name": "stdout",
     "output_type": "stream",
     "text": [
      "GT: 0.12 Gen: 0.24 diff: 0.12 CC(=O)Nc1ccc(C(=O)NN=Cc2cccc([N+](=O)[O-])c2OC(=O)c2cccc(C)c2)cc1 <|begin_of_text|>[SMILES]CC(=O)Nc1ccc(C(=O)NN=Cc2cccc([N+](=O)[O-])c2OC(=O)c2cccc(C)c2)cc1[/SMILES][SIMILAR]CC(C)NS(=O)(=O)[N-]Cc1ccccc1.O=C(O)c1cccc2c1cnn2-c1ccc(F)cc1 0.24[/SIMILAR]\n",
      "GT: 0.09 Gen: 0.17 diff: 0.08 CC(=O)Nc1ccc(C(=O)NN=Cc2cccc([N+](=O)[O-])c2OC(=O)c2cccc(C)c2)cc1 <|begin_of_text|>[SMILES]CC(=O)Nc1ccc(C(=O)NN=Cc2cccc([N+](=O)[O-])c2OC(=O)c2cccc(C)c2)cc1[/SMILES][SIMILAR]CCOc1ccc(-c2noc(Cn3c(=O)n(C(C)C)c(=O)c4ccccc43)n2)cc1OC 0.17[/SIMILAR]\n"
     ]
    },
    {
     "name": "stderr",
     "output_type": "stream",
     "text": [
      "[16:07:54] DEPRECATION WARNING: please use MorganGenerator\n",
      "[16:07:54] DEPRECATION WARNING: please use MorganGenerator\n",
      "The attention mask and the pad token id were not set. As a consequence, you may observe unexpected behavior. Please pass your input's `attention_mask` to obtain reliable results.\n",
      "Setting `pad_token_id` to `eos_token_id`:None for open-end generation.\n",
      "[16:07:54] DEPRECATION WARNING: please use MorganGenerator\n",
      "[16:07:54] DEPRECATION WARNING: please use MorganGenerator\n",
      "The attention mask and the pad token id were not set. As a consequence, you may observe unexpected behavior. Please pass your input's `attention_mask` to obtain reliable results.\n",
      "Setting `pad_token_id` to `eos_token_id`:None for open-end generation.\n"
     ]
    },
    {
     "name": "stdout",
     "output_type": "stream",
     "text": [
      "GT: 0.11 Gen: 0.17 diff: 0.06 CC(=O)Nc1ccc(C(=O)NN=Cc2cccc([N+](=O)[O-])c2OC(=O)c2cccc(C)c2)cc1 <|begin_of_text|>[SMILES]CC(=O)Nc1ccc(C(=O)NN=Cc2cccc([N+](=O)[O-])c2OC(=O)c2cccc(C)c2)cc1[/SMILES][SIMILAR]O=C(CSc1nnnn1-c1ccc(Cl)cc1)Nc1cccc(Cl)c1N1CCCCC1 0.17[/SIMILAR]\n",
      "GT: 0.12 Gen: 0.22 diff: 0.1 CC(=O)Nc1ccc(C(=O)NN=Cc2cccc([N+](=O)[O-])c2OC(=O)c2cccc(C)c2)cc1 <|begin_of_text|>[SMILES]CC(=O)Nc1ccc(C(=O)NN=Cc2cccc([N+](=O)[O-])c2OC(=O)c2cccc(C)c2)cc1[/SMILES][SIMILAR]Cc1ccccc1C1(O)CCN(C(=O)c2ccc(-c3ccc(F)cc3)o2)CC1 0.22[/SIMILAR]\n"
     ]
    },
    {
     "name": "stderr",
     "output_type": "stream",
     "text": [
      "[16:07:54] DEPRECATION WARNING: please use MorganGenerator\n",
      "[16:07:54] DEPRECATION WARNING: please use MorganGenerator\n",
      "The attention mask and the pad token id were not set. As a consequence, you may observe unexpected behavior. Please pass your input's `attention_mask` to obtain reliable results.\n",
      "Setting `pad_token_id` to `eos_token_id`:None for open-end generation.\n",
      "[16:07:54] DEPRECATION WARNING: please use MorganGenerator\n",
      "[16:07:54] DEPRECATION WARNING: please use MorganGenerator\n",
      "The attention mask and the pad token id were not set. As a consequence, you may observe unexpected behavior. Please pass your input's `attention_mask` to obtain reliable results.\n",
      "Setting `pad_token_id` to `eos_token_id`:None for open-end generation.\n"
     ]
    },
    {
     "name": "stdout",
     "output_type": "stream",
     "text": [
      "GT: 0.15 Gen: 0.18 diff: 0.03 CC(=O)Nc1ccc(C(=O)NN=Cc2cccc([N+](=O)[O-])c2OC(=O)c2cccc(C)c2)cc1 <|begin_of_text|>[SMILES]CC(=O)Nc1ccc(C(=O)NN=Cc2cccc([N+](=O)[O-])c2OC(=O)c2cccc(C)c2)cc1[/SMILES][SIMILAR]CCc1ccc(NC(=O)NC(C)(C)CCC(=O)O)cc1S(N)(=O)=O 0.18[/SIMILAR]\n",
      "GT: 0.21 Gen: 0.24 diff: 0.03 CC(=O)Nc1ccc(C(=O)NN=Cc2cccc([N+](=O)[O-])c2OC(=O)c2cccc(C)c2)cc1 <|begin_of_text|>[SMILES]CC(=O)Nc1ccc(C(=O)NN=Cc2cccc([N+](=O)[O-])c2OC(=O)c2cccc(C)c2)cc1[/SMILES][SIMILAR]CCCOc1ccc(C=NNC(=O)COc2ccccc2C)cc1OC 0.24[/SIMILAR]\n"
     ]
    },
    {
     "name": "stderr",
     "output_type": "stream",
     "text": [
      "[16:07:54] DEPRECATION WARNING: please use MorganGenerator\n",
      "[16:07:54] DEPRECATION WARNING: please use MorganGenerator\n",
      "The attention mask and the pad token id were not set. As a consequence, you may observe unexpected behavior. Please pass your input's `attention_mask` to obtain reliable results.\n",
      "Setting `pad_token_id` to `eos_token_id`:None for open-end generation.\n",
      "[16:07:54] DEPRECATION WARNING: please use MorganGenerator\n",
      "[16:07:54] DEPRECATION WARNING: please use MorganGenerator\n",
      "The attention mask and the pad token id were not set. As a consequence, you may observe unexpected behavior. Please pass your input's `attention_mask` to obtain reliable results.\n",
      "Setting `pad_token_id` to `eos_token_id`:None for open-end generation.\n"
     ]
    },
    {
     "name": "stdout",
     "output_type": "stream",
     "text": [
      "GT: 0.11 Gen: 0.14 diff: 0.03 CC(=O)Nc1ccc(C(=O)NN=Cc2cccc([N+](=O)[O-])c2OC(=O)c2cccc(C)c2)cc1 <|begin_of_text|>[SMILES]CC(=O)Nc1ccc(C(=O)NN=Cc2cccc([N+](=O)[O-])c2OC(=O)c2cccc(C)c2)cc1[/SMILES][SIMILAR]CC(C)(C)OC(=O)NCC(=O)N1CCOC(c2ccccc2F)C1 0.14[/SIMILAR]\n",
      "GT: 0.05 Gen: 0.08 diff: 0.03 CC(=O)Nc1ccc(C(=O)NN=Cc2cccc([N+](=O)[O-])c2OC(=O)c2cccc(C)c2)cc1 <|begin_of_text|>[SMILES]CC(=O)Nc1ccc(C(=O)NN=Cc2cccc([N+](=O)[O-])c2OC(=O)c2cccc(C)c2)cc1[/SMILES][SIMILAR]CCOc1cc(OC)c(Br)cc1CC1CCCNC1 0.08[/SIMILAR]\n"
     ]
    },
    {
     "name": "stderr",
     "output_type": "stream",
     "text": [
      "[16:07:54] DEPRECATION WARNING: please use MorganGenerator\n",
      "[16:07:54] DEPRECATION WARNING: please use MorganGenerator\n",
      "The attention mask and the pad token id were not set. As a consequence, you may observe unexpected behavior. Please pass your input's `attention_mask` to obtain reliable results.\n",
      "Setting `pad_token_id` to `eos_token_id`:None for open-end generation.\n",
      "[16:07:55] DEPRECATION WARNING: please use MorganGenerator\n",
      "[16:07:55] DEPRECATION WARNING: please use MorganGenerator\n",
      "The attention mask and the pad token id were not set. As a consequence, you may observe unexpected behavior. Please pass your input's `attention_mask` to obtain reliable results.\n",
      "Setting `pad_token_id` to `eos_token_id`:None for open-end generation.\n"
     ]
    },
    {
     "name": "stdout",
     "output_type": "stream",
     "text": [
      "GT: 0.08 Gen: 0.12 diff: 0.04 CCNC(=NCC(C)Cc1cccs1)NC1CCN(c2ncccc2F)C1 <|begin_of_text|>[SMILES]CCNC(=NCC(C)Cc1cccs1)NC1CCN(c2ncccc2F)C1[/SMILES][SIMILAR]Cc1nn(C)c(Oc2ccc(Br)cc2[N+](=O)[O-])c1CO 0.12[/SIMILAR]\n",
      "GT: 0.18 Gen: 0.23 diff: 0.05 CCNC(=NCC(C)Cc1cccs1)NC1CCN(c2ncccc2F)C1 <|begin_of_text|>[SMILES]CCNC(=NCC(C)Cc1cccs1)NC1CCN(c2ncccc2F)C1[/SMILES][SIMILAR]CN=C(NCc1nc(-c2ccccc2)cs1)N1CCSC(C)(C)C1 0.23[/SIMILAR]\n"
     ]
    },
    {
     "name": "stderr",
     "output_type": "stream",
     "text": [
      "[16:07:55] DEPRECATION WARNING: please use MorganGenerator\n",
      "[16:07:55] DEPRECATION WARNING: please use MorganGenerator\n",
      "The attention mask and the pad token id were not set. As a consequence, you may observe unexpected behavior. Please pass your input's `attention_mask` to obtain reliable results.\n",
      "Setting `pad_token_id` to `eos_token_id`:None for open-end generation.\n",
      "[16:07:55] DEPRECATION WARNING: please use MorganGenerator\n",
      "[16:07:55] DEPRECATION WARNING: please use MorganGenerator\n",
      "The attention mask and the pad token id were not set. As a consequence, you may observe unexpected behavior. Please pass your input's `attention_mask` to obtain reliable results.\n",
      "Setting `pad_token_id` to `eos_token_id`:None for open-end generation.\n"
     ]
    },
    {
     "name": "stdout",
     "output_type": "stream",
     "text": [
      "GT: 0.13 Gen: 0.16 diff: 0.03 CCNC(=NCC(C)Cc1cccs1)NC1CCN(c2ncccc2F)C1 <|begin_of_text|>[SMILES]CCNC(=NCC(C)Cc1cccs1)NC1CCN(c2ncccc2F)C1[/SMILES][SIMILAR]CC(C)NS(=O)(=O)[N-]Cc1ccccc1.O=C(O)c1cccc2c1cnn2-c1ccc(F)cc1 0.16[/SIMILAR]\n",
      "GT: 0.14 Gen: 0.16 diff: 0.02 CCNC(=NCC(C)Cc1cccs1)NC1CCN(c2ncccc2F)C1 <|begin_of_text|>[SMILES]CCNC(=NCC(C)Cc1cccs1)NC1CCN(c2ncccc2F)C1[/SMILES][SIMILAR]CCOc1ccc(-c2noc(Cn3c(=O)n(C(C)C)c(=O)c4ccccc43)n2)cc1OC 0.16[/SIMILAR]\n"
     ]
    },
    {
     "name": "stderr",
     "output_type": "stream",
     "text": [
      "[16:07:55] DEPRECATION WARNING: please use MorganGenerator\n",
      "[16:07:55] DEPRECATION WARNING: please use MorganGenerator\n",
      "The attention mask and the pad token id were not set. As a consequence, you may observe unexpected behavior. Please pass your input's `attention_mask` to obtain reliable results.\n",
      "Setting `pad_token_id` to `eos_token_id`:None for open-end generation.\n",
      "[16:07:55] DEPRECATION WARNING: please use MorganGenerator\n",
      "[16:07:55] DEPRECATION WARNING: please use MorganGenerator\n",
      "The attention mask and the pad token id were not set. As a consequence, you may observe unexpected behavior. Please pass your input's `attention_mask` to obtain reliable results.\n",
      "Setting `pad_token_id` to `eos_token_id`:None for open-end generation.\n"
     ]
    },
    {
     "name": "stdout",
     "output_type": "stream",
     "text": [
      "GT: 0.11 Gen: 0.15 diff: 0.04 CCNC(=NCC(C)Cc1cccs1)NC1CCN(c2ncccc2F)C1 <|begin_of_text|>[SMILES]CCNC(=NCC(C)Cc1cccs1)NC1CCN(c2ncccc2F)C1[/SMILES][SIMILAR]O=C(CSc1nnnn1-c1ccc(Cl)cc1)Nc1cccc(Cl)c1N1CCCCC1 0.15[/SIMILAR]\n",
      "GT: 0.13 Gen: 0.17 diff: 0.04 CCNC(=NCC(C)Cc1cccs1)NC1CCN(c2ncccc2F)C1 <|begin_of_text|>[SMILES]CCNC(=NCC(C)Cc1cccs1)NC1CCN(c2ncccc2F)C1[/SMILES][SIMILAR]Cc1ccccc1C1(O)CCN(C(=O)c2ccc(-c3ccc(F)cc3)o2)CC1 0.17[/SIMILAR]\n"
     ]
    },
    {
     "name": "stderr",
     "output_type": "stream",
     "text": [
      "[16:07:55] DEPRECATION WARNING: please use MorganGenerator\n",
      "[16:07:55] DEPRECATION WARNING: please use MorganGenerator\n",
      "The attention mask and the pad token id were not set. As a consequence, you may observe unexpected behavior. Please pass your input's `attention_mask` to obtain reliable results.\n",
      "Setting `pad_token_id` to `eos_token_id`:None for open-end generation.\n",
      "[16:07:55] DEPRECATION WARNING: please use MorganGenerator\n",
      "[16:07:55] DEPRECATION WARNING: please use MorganGenerator\n",
      "The attention mask and the pad token id were not set. As a consequence, you may observe unexpected behavior. Please pass your input's `attention_mask` to obtain reliable results.\n",
      "Setting `pad_token_id` to `eos_token_id`:None for open-end generation.\n"
     ]
    },
    {
     "name": "stdout",
     "output_type": "stream",
     "text": [
      "GT: 0.08 Gen: 0.14 diff: 0.06 CCNC(=NCC(C)Cc1cccs1)NC1CCN(c2ncccc2F)C1 <|begin_of_text|>[SMILES]CCNC(=NCC(C)Cc1cccs1)NC1CCN(c2ncccc2F)C1[/SMILES][SIMILAR]CCc1ccc(NC(=O)NC(C)(C)CCC(=O)O)cc1S(N)(=O)=O 0.14[/SIMILAR]\n",
      "GT: 0.11 Gen: 0.17 diff: 0.06 CCNC(=NCC(C)Cc1cccs1)NC1CCN(c2ncccc2F)C1 <|begin_of_text|>[SMILES]CCNC(=NCC(C)Cc1cccs1)NC1CCN(c2ncccc2F)C1[/SMILES][SIMILAR]CCCOc1ccc(C=NNC(=O)COc2ccccc2C)cc1OC 0.17[/SIMILAR]\n"
     ]
    },
    {
     "name": "stderr",
     "output_type": "stream",
     "text": [
      "[16:07:55] DEPRECATION WARNING: please use MorganGenerator\n",
      "[16:07:55] DEPRECATION WARNING: please use MorganGenerator\n",
      "The attention mask and the pad token id were not set. As a consequence, you may observe unexpected behavior. Please pass your input's `attention_mask` to obtain reliable results.\n",
      "Setting `pad_token_id` to `eos_token_id`:None for open-end generation.\n",
      "[16:07:55] DEPRECATION WARNING: please use MorganGenerator\n",
      "[16:07:55] DEPRECATION WARNING: please use MorganGenerator\n",
      "The attention mask and the pad token id were not set. As a consequence, you may observe unexpected behavior. Please pass your input's `attention_mask` to obtain reliable results.\n",
      "Setting `pad_token_id` to `eos_token_id`:None for open-end generation.\n"
     ]
    },
    {
     "name": "stdout",
     "output_type": "stream",
     "text": [
      "GT: 0.2 Gen: 0.23 diff: 0.03 CCNC(=NCC(C)Cc1cccs1)NC1CCN(c2ncccc2F)C1 <|begin_of_text|>[SMILES]CCNC(=NCC(C)Cc1cccs1)NC1CCN(c2ncccc2F)C1[/SMILES][SIMILAR]CC(C)(C)OC(=O)NCC(=O)N1CCOC(c2ccccc2F)C1 0.23[/SIMILAR]\n",
      "GT: 0.09 Gen: 0.13 diff: 0.04 CCNC(=NCC(C)Cc1cccs1)NC1CCN(c2ncccc2F)C1 <|begin_of_text|>[SMILES]CCNC(=NCC(C)Cc1cccs1)NC1CCN(c2ncccc2F)C1[/SMILES][SIMILAR]CCOc1cc(OC)c(Br)cc1CC1CCCNC1 0.13[/SIMILAR]\n"
     ]
    },
    {
     "name": "stderr",
     "output_type": "stream",
     "text": [
      "[16:07:56] DEPRECATION WARNING: please use MorganGenerator\n",
      "[16:07:56] DEPRECATION WARNING: please use MorganGenerator\n",
      "The attention mask and the pad token id were not set. As a consequence, you may observe unexpected behavior. Please pass your input's `attention_mask` to obtain reliable results.\n",
      "Setting `pad_token_id` to `eos_token_id`:None for open-end generation.\n",
      "[16:07:56] DEPRECATION WARNING: please use MorganGenerator\n",
      "[16:07:56] DEPRECATION WARNING: please use MorganGenerator\n",
      "The attention mask and the pad token id were not set. As a consequence, you may observe unexpected behavior. Please pass your input's `attention_mask` to obtain reliable results.\n",
      "Setting `pad_token_id` to `eos_token_id`:None for open-end generation.\n"
     ]
    },
    {
     "name": "stdout",
     "output_type": "stream",
     "text": [
      "GT: 0.12 Gen: 0.13 diff: 0.01 CCOC(=O)C1C(C)NNC1S(=O)(=O)Nc1cccc(CC)c1 <|begin_of_text|>[SMILES]CCOC(=O)C1C(C)NNC1S(=O)(=O)Nc1cccc(CC)c1[/SMILES][SIMILAR]Cc1nn(C)c(Oc2ccc(Br)cc2[N+](=O)[O-])c1CO 0.13[/SIMILAR]\n",
      "GT: 0.09 Gen: 0.13 diff: 0.04 CCOC(=O)C1C(C)NNC1S(=O)(=O)Nc1cccc(CC)c1 <|begin_of_text|>[SMILES]CCOC(=O)C1C(C)NNC1S(=O)(=O)Nc1cccc(CC)c1[/SMILES][SIMILAR]CN=C(NCc1nc(-c2ccccc2)cs1)N1CCSC(C)(C)C1 0.13[/SIMILAR]\n"
     ]
    },
    {
     "name": "stderr",
     "output_type": "stream",
     "text": [
      "[16:07:56] DEPRECATION WARNING: please use MorganGenerator\n",
      "[16:07:56] DEPRECATION WARNING: please use MorganGenerator\n",
      "The attention mask and the pad token id were not set. As a consequence, you may observe unexpected behavior. Please pass your input's `attention_mask` to obtain reliable results.\n",
      "Setting `pad_token_id` to `eos_token_id`:None for open-end generation.\n",
      "[16:07:56] DEPRECATION WARNING: please use MorganGenerator\n",
      "[16:07:56] DEPRECATION WARNING: please use MorganGenerator\n",
      "The attention mask and the pad token id were not set. As a consequence, you may observe unexpected behavior. Please pass your input's `attention_mask` to obtain reliable results.\n",
      "Setting `pad_token_id` to `eos_token_id`:None for open-end generation.\n"
     ]
    },
    {
     "name": "stdout",
     "output_type": "stream",
     "text": [
      "GT: 0.17 Gen: 0.19 diff: 0.02 CCOC(=O)C1C(C)NNC1S(=O)(=O)Nc1cccc(CC)c1 <|begin_of_text|>[SMILES]CCOC(=O)C1C(C)NNC1S(=O)(=O)Nc1cccc(CC)c1[/SMILES][SIMILAR]CC(C)NS(=O)(=O)[N-]Cc1ccccc1.O=C(O)c1cccc2c1cnn2-c1ccc(F)cc1 0.19[/SIMILAR]\n",
      "GT: 0.12 Gen: 0.16 diff: 0.04 CCOC(=O)C1C(C)NNC1S(=O)(=O)Nc1cccc(CC)c1 <|begin_of_text|>[SMILES]CCOC(=O)C1C(C)NNC1S(=O)(=O)Nc1cccc(CC)c1[/SMILES][SIMILAR]CCOc1ccc(-c2noc(Cn3c(=O)n(C(C)C)c(=O)c4ccccc43)n2)cc1OC 0.16[/SIMILAR]\n"
     ]
    },
    {
     "name": "stderr",
     "output_type": "stream",
     "text": [
      "[16:07:56] DEPRECATION WARNING: please use MorganGenerator\n",
      "[16:07:56] DEPRECATION WARNING: please use MorganGenerator\n",
      "The attention mask and the pad token id were not set. As a consequence, you may observe unexpected behavior. Please pass your input's `attention_mask` to obtain reliable results.\n",
      "Setting `pad_token_id` to `eos_token_id`:None for open-end generation.\n",
      "[16:07:56] DEPRECATION WARNING: please use MorganGenerator\n",
      "[16:07:56] DEPRECATION WARNING: please use MorganGenerator\n",
      "The attention mask and the pad token id were not set. As a consequence, you may observe unexpected behavior. Please pass your input's `attention_mask` to obtain reliable results.\n",
      "Setting `pad_token_id` to `eos_token_id`:None for open-end generation.\n"
     ]
    },
    {
     "name": "stdout",
     "output_type": "stream",
     "text": [
      "GT: 0.11 Gen: 0.11 diff: 0.0 CCOC(=O)C1C(C)NNC1S(=O)(=O)Nc1cccc(CC)c1 <|begin_of_text|>[SMILES]CCOC(=O)C1C(C)NNC1S(=O)(=O)Nc1cccc(CC)c1[/SMILES][SIMILAR]O=C(CSc1nnnn1-c1ccc(Cl)cc1)Nc1cccc(Cl)c1N1CCCCC1 0.11[/SIMILAR]\n",
      "GT: 0.12 Gen: 0.11 diff: 0.01 CCOC(=O)C1C(C)NNC1S(=O)(=O)Nc1cccc(CC)c1 <|begin_of_text|>[SMILES]CCOC(=O)C1C(C)NNC1S(=O)(=O)Nc1cccc(CC)c1[/SMILES][SIMILAR]Cc1ccccc1C1(O)CCN(C(=O)c2ccc(-c3ccc(F)cc3)o2)CC1 0.11[/SIMILAR]\n"
     ]
    },
    {
     "name": "stderr",
     "output_type": "stream",
     "text": [
      "[16:07:56] DEPRECATION WARNING: please use MorganGenerator\n",
      "[16:07:56] DEPRECATION WARNING: please use MorganGenerator\n",
      "The attention mask and the pad token id were not set. As a consequence, you may observe unexpected behavior. Please pass your input's `attention_mask` to obtain reliable results.\n",
      "Setting `pad_token_id` to `eos_token_id`:None for open-end generation.\n",
      "[16:07:56] DEPRECATION WARNING: please use MorganGenerator\n",
      "[16:07:56] DEPRECATION WARNING: please use MorganGenerator\n",
      "The attention mask and the pad token id were not set. As a consequence, you may observe unexpected behavior. Please pass your input's `attention_mask` to obtain reliable results.\n",
      "Setting `pad_token_id` to `eos_token_id`:None for open-end generation.\n"
     ]
    },
    {
     "name": "stdout",
     "output_type": "stream",
     "text": [
      "GT: 0.2 Gen: 0.25 diff: 0.05 CCOC(=O)C1C(C)NNC1S(=O)(=O)Nc1cccc(CC)c1 <|begin_of_text|>[SMILES]CCOC(=O)C1C(C)NNC1S(=O)(=O)Nc1cccc(CC)c1[/SMILES][SIMILAR]CCc1ccc(NC(=O)NC(C)(C)CCC(=O)O)cc1S(N)(=O)=O 0.25[/SIMILAR]\n",
      "GT: 0.17 Gen: 0.18 diff: 0.01 CCOC(=O)C1C(C)NNC1S(=O)(=O)Nc1cccc(CC)c1 <|begin_of_text|>[SMILES]CCOC(=O)C1C(C)NNC1S(=O)(=O)Nc1cccc(CC)c1[/SMILES][SIMILAR]CCCOc1ccc(C=NNC(=O)COc2ccccc2C)cc1OC 0.18[/SIMILAR]\n"
     ]
    },
    {
     "name": "stderr",
     "output_type": "stream",
     "text": [
      "[16:07:56] DEPRECATION WARNING: please use MorganGenerator\n",
      "[16:07:56] DEPRECATION WARNING: please use MorganGenerator\n",
      "The attention mask and the pad token id were not set. As a consequence, you may observe unexpected behavior. Please pass your input's `attention_mask` to obtain reliable results.\n",
      "Setting `pad_token_id` to `eos_token_id`:None for open-end generation.\n",
      "[16:07:57] DEPRECATION WARNING: please use MorganGenerator\n",
      "[16:07:57] DEPRECATION WARNING: please use MorganGenerator\n",
      "The attention mask and the pad token id were not set. As a consequence, you may observe unexpected behavior. Please pass your input's `attention_mask` to obtain reliable results.\n",
      "Setting `pad_token_id` to `eos_token_id`:None for open-end generation.\n"
     ]
    },
    {
     "name": "stdout",
     "output_type": "stream",
     "text": [
      "GT: 0.14 Gen: 0.18 diff: 0.04 CCOC(=O)C1C(C)NNC1S(=O)(=O)Nc1cccc(CC)c1 <|begin_of_text|>[SMILES]CCOC(=O)C1C(C)NNC1S(=O)(=O)Nc1cccc(CC)c1[/SMILES][SIMILAR]CC(C)(C)OC(=O)NCC(=O)N1CCOC(c2ccccc2F)C1 0.18[/SIMILAR]\n",
      "GT: 0.13 Gen: 0.14 diff: 0.01 CCOC(=O)C1C(C)NNC1S(=O)(=O)Nc1cccc(CC)c1 <|begin_of_text|>[SMILES]CCOC(=O)C1C(C)NNC1S(=O)(=O)Nc1cccc(CC)c1[/SMILES][SIMILAR]CCOc1cc(OC)c(Br)cc1CC1CCCNC1 0.14[/SIMILAR]\n"
     ]
    },
    {
     "name": "stderr",
     "output_type": "stream",
     "text": [
      "[16:07:57] DEPRECATION WARNING: please use MorganGenerator\n",
      "[16:07:57] DEPRECATION WARNING: please use MorganGenerator\n",
      "The attention mask and the pad token id were not set. As a consequence, you may observe unexpected behavior. Please pass your input's `attention_mask` to obtain reliable results.\n",
      "Setting `pad_token_id` to `eos_token_id`:None for open-end generation.\n",
      "[16:07:57] DEPRECATION WARNING: please use MorganGenerator\n",
      "[16:07:57] DEPRECATION WARNING: please use MorganGenerator\n",
      "The attention mask and the pad token id were not set. As a consequence, you may observe unexpected behavior. Please pass your input's `attention_mask` to obtain reliable results.\n",
      "Setting `pad_token_id` to `eos_token_id`:None for open-end generation.\n"
     ]
    },
    {
     "name": "stdout",
     "output_type": "stream",
     "text": [
      "GT: 0.11 Gen: 0.15 diff: 0.04 CCc1n[nH]c2c(c1=S)CN(C(=O)c1ccccc1)CC2 <|begin_of_text|>[SMILES]CCc1n[nH]c2c(c1=S)CN(C(=O)c1ccccc1)CC2[/SMILES][SIMILAR]Cc1nn(C)c(Oc2ccc(Br)cc2[N+](=O)[O-])c1CO 0.15[/SIMILAR]\n",
      "GT: 0.17 Gen: 0.25 diff: 0.08 CCc1n[nH]c2c(c1=S)CN(C(=O)c1ccccc1)CC2 <|begin_of_text|>[SMILES]CCc1n[nH]c2c(c1=S)CN(C(=O)c1ccccc1)CC2[/SMILES][SIMILAR]CN=C(NCc1nc(-c2ccccc2)cs1)N1CCSC(C)(C)C1 0.25[/SIMILAR]\n"
     ]
    },
    {
     "name": "stderr",
     "output_type": "stream",
     "text": [
      "[16:07:57] DEPRECATION WARNING: please use MorganGenerator\n",
      "[16:07:57] DEPRECATION WARNING: please use MorganGenerator\n",
      "The attention mask and the pad token id were not set. As a consequence, you may observe unexpected behavior. Please pass your input's `attention_mask` to obtain reliable results.\n",
      "Setting `pad_token_id` to `eos_token_id`:None for open-end generation.\n",
      "[16:07:57] DEPRECATION WARNING: please use MorganGenerator\n",
      "[16:07:57] DEPRECATION WARNING: please use MorganGenerator\n",
      "The attention mask and the pad token id were not set. As a consequence, you may observe unexpected behavior. Please pass your input's `attention_mask` to obtain reliable results.\n",
      "Setting `pad_token_id` to `eos_token_id`:None for open-end generation.\n"
     ]
    },
    {
     "name": "stdout",
     "output_type": "stream",
     "text": [
      "GT: 0.17 Gen: 0.19 diff: 0.02 CCc1n[nH]c2c(c1=S)CN(C(=O)c1ccccc1)CC2 <|begin_of_text|>[SMILES]CCc1n[nH]c2c(c1=S)CN(C(=O)c1ccccc1)CC2[/SMILES][SIMILAR]CC(C)NS(=O)(=O)[N-]Cc1ccccc1.O=C(O)c1cccc2c1cnn2-c1ccc(F)cc1 0.19[/SIMILAR]\n",
      "GT: 0.13 Gen: 0.18 diff: 0.05 CCc1n[nH]c2c(c1=S)CN(C(=O)c1ccccc1)CC2 <|begin_of_text|>[SMILES]CCc1n[nH]c2c(c1=S)CN(C(=O)c1ccccc1)CC2[/SMILES][SIMILAR]CCOc1ccc(-c2noc(Cn3c(=O)n(C(C)C)c(=O)c4ccccc43)n2)cc1OC 0.18[/SIMILAR]\n"
     ]
    },
    {
     "name": "stderr",
     "output_type": "stream",
     "text": [
      "[16:07:57] DEPRECATION WARNING: please use MorganGenerator\n",
      "[16:07:57] DEPRECATION WARNING: please use MorganGenerator\n",
      "The attention mask and the pad token id were not set. As a consequence, you may observe unexpected behavior. Please pass your input's `attention_mask` to obtain reliable results.\n",
      "Setting `pad_token_id` to `eos_token_id`:None for open-end generation.\n",
      "[16:07:57] DEPRECATION WARNING: please use MorganGenerator\n",
      "[16:07:57] DEPRECATION WARNING: please use MorganGenerator\n",
      "The attention mask and the pad token id were not set. As a consequence, you may observe unexpected behavior. Please pass your input's `attention_mask` to obtain reliable results.\n",
      "Setting `pad_token_id` to `eos_token_id`:None for open-end generation.\n"
     ]
    },
    {
     "name": "stdout",
     "output_type": "stream",
     "text": [
      "GT: 0.14 Gen: 0.18 diff: 0.04 CCc1n[nH]c2c(c1=S)CN(C(=O)c1ccccc1)CC2 <|begin_of_text|>[SMILES]CCc1n[nH]c2c(c1=S)CN(C(=O)c1ccccc1)CC2[/SMILES][SIMILAR]O=C(CSc1nnnn1-c1ccc(Cl)cc1)Nc1cccc(Cl)c1N1CCCCC1 0.18[/SIMILAR]\n",
      "GT: 0.18 Gen: 0.25 diff: 0.07 CCc1n[nH]c2c(c1=S)CN(C(=O)c1ccccc1)CC2 <|begin_of_text|>[SMILES]CCc1n[nH]c2c(c1=S)CN(C(=O)c1ccccc1)CC2[/SMILES][SIMILAR]Cc1ccccc1C1(O)CCN(C(=O)c2ccc(-c3ccc(F)cc3)o2)CC1 0.25[/SIMILAR]\n"
     ]
    },
    {
     "name": "stderr",
     "output_type": "stream",
     "text": [
      "[16:07:57] DEPRECATION WARNING: please use MorganGenerator\n",
      "[16:07:57] DEPRECATION WARNING: please use MorganGenerator\n",
      "The attention mask and the pad token id were not set. As a consequence, you may observe unexpected behavior. Please pass your input's `attention_mask` to obtain reliable results.\n",
      "Setting `pad_token_id` to `eos_token_id`:None for open-end generation.\n",
      "[16:07:57] DEPRECATION WARNING: please use MorganGenerator\n",
      "[16:07:57] DEPRECATION WARNING: please use MorganGenerator\n",
      "The attention mask and the pad token id were not set. As a consequence, you may observe unexpected behavior. Please pass your input's `attention_mask` to obtain reliable results.\n",
      "Setting `pad_token_id` to `eos_token_id`:None for open-end generation.\n"
     ]
    },
    {
     "name": "stdout",
     "output_type": "stream",
     "text": [
      "GT: 0.14 Gen: 0.14 diff: 0.0 CCc1n[nH]c2c(c1=S)CN(C(=O)c1ccccc1)CC2 <|begin_of_text|>[SMILES]CCc1n[nH]c2c(c1=S)CN(C(=O)c1ccccc1)CC2[/SMILES][SIMILAR]CCc1ccc(NC(=O)NC(C)(C)CCC(=O)O)cc1S(N)(=O)=O 0.14[/SIMILAR]\n",
      "GT: 0.16 Gen: 0.2 diff: 0.04 CCc1n[nH]c2c(c1=S)CN(C(=O)c1ccccc1)CC2 <|begin_of_text|>[SMILES]CCc1n[nH]c2c(c1=S)CN(C(=O)c1ccccc1)CC2[/SMILES][SIMILAR]CCCOc1ccc(C=NNC(=O)COc2ccccc2C)cc1OC 0.20[/SIMILAR]\n"
     ]
    },
    {
     "name": "stderr",
     "output_type": "stream",
     "text": [
      "[16:07:57] DEPRECATION WARNING: please use MorganGenerator\n",
      "[16:07:57] DEPRECATION WARNING: please use MorganGenerator\n",
      "The attention mask and the pad token id were not set. As a consequence, you may observe unexpected behavior. Please pass your input's `attention_mask` to obtain reliable results.\n",
      "Setting `pad_token_id` to `eos_token_id`:None for open-end generation.\n",
      "[16:07:58] DEPRECATION WARNING: please use MorganGenerator\n",
      "[16:07:58] DEPRECATION WARNING: please use MorganGenerator\n",
      "The attention mask and the pad token id were not set. As a consequence, you may observe unexpected behavior. Please pass your input's `attention_mask` to obtain reliable results.\n",
      "Setting `pad_token_id` to `eos_token_id`:None for open-end generation.\n",
      "[16:07:58] DEPRECATION WARNING: please use MorganGenerator\n",
      "[16:07:58] DEPRECATION WARNING: please use MorganGenerator\n"
     ]
    },
    {
     "name": "stdout",
     "output_type": "stream",
     "text": [
      "GT: 0.2 Gen: 0.22 diff: 0.02 CCc1n[nH]c2c(c1=S)CN(C(=O)c1ccccc1)CC2 <|begin_of_text|>[SMILES]CCc1n[nH]c2c(c1=S)CN(C(=O)c1ccccc1)CC2[/SMILES][SIMILAR]CC(C)(C)OC(=O)NCC(=O)N1CCOC(c2ccccc2F)C1 0.22[/SIMILAR]\n",
      "GT: 0.09 Gen: 0.14 diff: 0.05 CCc1n[nH]c2c(c1=S)CN(C(=O)c1ccccc1)CC2 <|begin_of_text|>[SMILES]CCc1n[nH]c2c(c1=S)CN(C(=O)c1ccccc1)CC2[/SMILES][SIMILAR]CCOc1cc(OC)c(Br)cc1CC1CCCNC1 0.14[/SIMILAR]\n",
      "GT: 0.19 Gen: 0.24 diff: 0.05 CNc1cccc(Nc2cnn(C)c2)c1[N+](=O)[O-] <|begin_of_text|>[SMILES]CNc1cccc(Nc2cnn(C)c2)c1[N+](=O)[O-][/SMILES][SIMILAR]Cc1nn(C)c(Oc2ccc(Br)cc2[N+](=O)[O-])c1CO 0.24[/SIMILAR]\n"
     ]
    },
    {
     "name": "stderr",
     "output_type": "stream",
     "text": [
      "The attention mask and the pad token id were not set. As a consequence, you may observe unexpected behavior. Please pass your input's `attention_mask` to obtain reliable results.\n",
      "Setting `pad_token_id` to `eos_token_id`:None for open-end generation.\n",
      "[16:07:58] DEPRECATION WARNING: please use MorganGenerator\n",
      "[16:07:58] DEPRECATION WARNING: please use MorganGenerator\n",
      "The attention mask and the pad token id were not set. As a consequence, you may observe unexpected behavior. Please pass your input's `attention_mask` to obtain reliable results.\n",
      "Setting `pad_token_id` to `eos_token_id`:None for open-end generation.\n",
      "[16:07:58] DEPRECATION WARNING: please use MorganGenerator\n",
      "[16:07:58] DEPRECATION WARNING: please use MorganGenerator\n",
      "The attention mask and the pad token id were not set. As a consequence, you may observe unexpected behavior. Please pass your input's `attention_mask` to obtain reliable results.\n",
      "Setting `pad_token_id` to `eos_token_id`:None for open-end generation.\n"
     ]
    },
    {
     "name": "stdout",
     "output_type": "stream",
     "text": [
      "GT: 0.12 Gen: 0.16 diff: 0.04 CNc1cccc(Nc2cnn(C)c2)c1[N+](=O)[O-] <|begin_of_text|>[SMILES]CNc1cccc(Nc2cnn(C)c2)c1[N+](=O)[O-][/SMILES][SIMILAR]CN=C(NCc1nc(-c2ccccc2)cs1)N1CCSC(C)(C)C1 0.16[/SIMILAR]\n",
      "GT: 0.14 Gen: 0.17 diff: 0.03 CNc1cccc(Nc2cnn(C)c2)c1[N+](=O)[O-] <|begin_of_text|>[SMILES]CNc1cccc(Nc2cnn(C)c2)c1[N+](=O)[O-][/SMILES][SIMILAR]CC(C)NS(=O)(=O)[N-]Cc1ccccc1.O=C(O)c1cccc2c1cnn2-c1ccc(F)cc1 0.17[/SIMILAR]\n"
     ]
    },
    {
     "name": "stderr",
     "output_type": "stream",
     "text": [
      "[16:07:58] DEPRECATION WARNING: please use MorganGenerator\n",
      "[16:07:58] DEPRECATION WARNING: please use MorganGenerator\n",
      "The attention mask and the pad token id were not set. As a consequence, you may observe unexpected behavior. Please pass your input's `attention_mask` to obtain reliable results.\n",
      "Setting `pad_token_id` to `eos_token_id`:None for open-end generation.\n",
      "[16:07:58] DEPRECATION WARNING: please use MorganGenerator\n",
      "[16:07:58] DEPRECATION WARNING: please use MorganGenerator\n",
      "The attention mask and the pad token id were not set. As a consequence, you may observe unexpected behavior. Please pass your input's `attention_mask` to obtain reliable results.\n",
      "Setting `pad_token_id` to `eos_token_id`:None for open-end generation.\n"
     ]
    },
    {
     "name": "stdout",
     "output_type": "stream",
     "text": [
      "GT: 0.09 Gen: 0.15 diff: 0.06 CNc1cccc(Nc2cnn(C)c2)c1[N+](=O)[O-] <|begin_of_text|>[SMILES]CNc1cccc(Nc2cnn(C)c2)c1[N+](=O)[O-][/SMILES][SIMILAR]CCOc1ccc(-c2noc(Cn3c(=O)n(C(C)C)c(=O)c4ccccc43)n2)cc1OC 0.15[/SIMILAR]\n",
      "GT: 0.15 Gen: 0.16 diff: 0.01 CNc1cccc(Nc2cnn(C)c2)c1[N+](=O)[O-] <|begin_of_text|>[SMILES]CNc1cccc(Nc2cnn(C)c2)c1[N+](=O)[O-][/SMILES][SIMILAR]O=C(CSc1nnnn1-c1ccc(Cl)cc1)Nc1cccc(Cl)c1N1CCCCC1 0.16[/SIMILAR]\n"
     ]
    },
    {
     "name": "stderr",
     "output_type": "stream",
     "text": [
      "[16:07:58] DEPRECATION WARNING: please use MorganGenerator\n",
      "[16:07:58] DEPRECATION WARNING: please use MorganGenerator\n",
      "The attention mask and the pad token id were not set. As a consequence, you may observe unexpected behavior. Please pass your input's `attention_mask` to obtain reliable results.\n",
      "Setting `pad_token_id` to `eos_token_id`:None for open-end generation.\n",
      "[16:07:58] DEPRECATION WARNING: please use MorganGenerator\n",
      "[16:07:58] DEPRECATION WARNING: please use MorganGenerator\n",
      "The attention mask and the pad token id were not set. As a consequence, you may observe unexpected behavior. Please pass your input's `attention_mask` to obtain reliable results.\n",
      "Setting `pad_token_id` to `eos_token_id`:None for open-end generation.\n"
     ]
    },
    {
     "name": "stdout",
     "output_type": "stream",
     "text": [
      "GT: 0.1 Gen: 0.14 diff: 0.04 CNc1cccc(Nc2cnn(C)c2)c1[N+](=O)[O-] <|begin_of_text|>[SMILES]CNc1cccc(Nc2cnn(C)c2)c1[N+](=O)[O-][/SMILES][SIMILAR]Cc1ccccc1C1(O)CCN(C(=O)c2ccc(-c3ccc(F)cc3)o2)CC1 0.14[/SIMILAR]\n",
      "GT: 0.09 Gen: 0.14 diff: 0.05 CNc1cccc(Nc2cnn(C)c2)c1[N+](=O)[O-] <|begin_of_text|>[SMILES]CNc1cccc(Nc2cnn(C)c2)c1[N+](=O)[O-][/SMILES][SIMILAR]CCc1ccc(NC(=O)NC(C)(C)CCC(=O)O)cc1S(N)(=O)=O 0.14[/SIMILAR]\n"
     ]
    },
    {
     "name": "stderr",
     "output_type": "stream",
     "text": [
      "[16:07:58] DEPRECATION WARNING: please use MorganGenerator\n",
      "[16:07:58] DEPRECATION WARNING: please use MorganGenerator\n",
      "The attention mask and the pad token id were not set. As a consequence, you may observe unexpected behavior. Please pass your input's `attention_mask` to obtain reliable results.\n",
      "Setting `pad_token_id` to `eos_token_id`:None for open-end generation.\n",
      "[16:07:58] DEPRECATION WARNING: please use MorganGenerator\n",
      "[16:07:58] DEPRECATION WARNING: please use MorganGenerator\n",
      "The attention mask and the pad token id were not set. As a consequence, you may observe unexpected behavior. Please pass your input's `attention_mask` to obtain reliable results.\n",
      "Setting `pad_token_id` to `eos_token_id`:None for open-end generation.\n"
     ]
    },
    {
     "name": "stdout",
     "output_type": "stream",
     "text": [
      "GT: 0.09 Gen: 0.15 diff: 0.06 CNc1cccc(Nc2cnn(C)c2)c1[N+](=O)[O-] <|begin_of_text|>[SMILES]CNc1cccc(Nc2cnn(C)c2)c1[N+](=O)[O-][/SMILES][SIMILAR]CCCOc1ccc(C=NNC(=O)COc2ccccc2C)cc1OC 0.15[/SIMILAR]\n",
      "GT: 0.13 Gen: 0.14 diff: 0.01 CNc1cccc(Nc2cnn(C)c2)c1[N+](=O)[O-] <|begin_of_text|>[SMILES]CNc1cccc(Nc2cnn(C)c2)c1[N+](=O)[O-][/SMILES][SIMILAR]CC(C)(C)OC(=O)NCC(=O)N1CCOC(c2ccccc2F)C1 0.14[/SIMILAR]\n"
     ]
    },
    {
     "name": "stderr",
     "output_type": "stream",
     "text": [
      "[16:07:59] DEPRECATION WARNING: please use MorganGenerator\n",
      "[16:07:59] DEPRECATION WARNING: please use MorganGenerator\n",
      "The attention mask and the pad token id were not set. As a consequence, you may observe unexpected behavior. Please pass your input's `attention_mask` to obtain reliable results.\n",
      "Setting `pad_token_id` to `eos_token_id`:None for open-end generation.\n",
      "[16:07:59] DEPRECATION WARNING: please use MorganGenerator\n",
      "[16:07:59] DEPRECATION WARNING: please use MorganGenerator\n",
      "The attention mask and the pad token id were not set. As a consequence, you may observe unexpected behavior. Please pass your input's `attention_mask` to obtain reliable results.\n",
      "Setting `pad_token_id` to `eos_token_id`:None for open-end generation.\n"
     ]
    },
    {
     "name": "stdout",
     "output_type": "stream",
     "text": [
      "GT: 0.05 Gen: 0.09 diff: 0.04 CNc1cccc(Nc2cnn(C)c2)c1[N+](=O)[O-] <|begin_of_text|>[SMILES]CNc1cccc(Nc2cnn(C)c2)c1[N+](=O)[O-][/SMILES][SIMILAR]CCOc1cc(OC)c(Br)cc1CC1CCCNC1 0.09[/SIMILAR]\n",
      "GT: 0.11 Gen: 0.15 diff: 0.04 O=C(NCC(O)CN1CCOCC1)Nc1snc(OCc2ccc(Cl)cc2F)c1C(=O)O <|begin_of_text|>[SMILES]O=C(NCC(O)CN1CCOCC1)Nc1snc(OCc2ccc(Cl)cc2F)c1C(=O)O[/SMILES][SIMILAR]Cc1nn(C)c(Oc2ccc(Br)cc2[N+](=O)[O-])c1CO 0.15[/SIMILAR]\n"
     ]
    },
    {
     "name": "stderr",
     "output_type": "stream",
     "text": [
      "[16:07:59] DEPRECATION WARNING: please use MorganGenerator\n",
      "[16:07:59] DEPRECATION WARNING: please use MorganGenerator\n",
      "The attention mask and the pad token id were not set. As a consequence, you may observe unexpected behavior. Please pass your input's `attention_mask` to obtain reliable results.\n",
      "Setting `pad_token_id` to `eos_token_id`:None for open-end generation.\n",
      "[16:07:59] DEPRECATION WARNING: please use MorganGenerator\n",
      "[16:07:59] DEPRECATION WARNING: please use MorganGenerator\n",
      "The attention mask and the pad token id were not set. As a consequence, you may observe unexpected behavior. Please pass your input's `attention_mask` to obtain reliable results.\n",
      "Setting `pad_token_id` to `eos_token_id`:None for open-end generation.\n"
     ]
    },
    {
     "name": "stdout",
     "output_type": "stream",
     "text": [
      "GT: 0.14 Gen: 0.14 diff: 0.0 O=C(NCC(O)CN1CCOCC1)Nc1snc(OCc2ccc(Cl)cc2F)c1C(=O)O <|begin_of_text|>[SMILES]O=C(NCC(O)CN1CCOCC1)Nc1snc(OCc2ccc(Cl)cc2F)c1C(=O)O[/SMILES][SIMILAR]CN=C(NCc1nc(-c2ccccc2)cs1)N1CCSC(C)(C)C1 0.14[/SIMILAR]\n",
      "GT: 0.15 Gen: 0.16 diff: 0.01 O=C(NCC(O)CN1CCOCC1)Nc1snc(OCc2ccc(Cl)cc2F)c1C(=O)O <|begin_of_text|>[SMILES]O=C(NCC(O)CN1CCOCC1)Nc1snc(OCc2ccc(Cl)cc2F)c1C(=O)O[/SMILES][SIMILAR]CC(C)NS(=O)(=O)[N-]Cc1ccccc1.O=C(O)c1cccc2c1cnn2-c1ccc(F)cc1 0.16[/SIMILAR]\n"
     ]
    },
    {
     "name": "stderr",
     "output_type": "stream",
     "text": [
      "[16:07:59] DEPRECATION WARNING: please use MorganGenerator\n",
      "[16:07:59] DEPRECATION WARNING: please use MorganGenerator\n",
      "The attention mask and the pad token id were not set. As a consequence, you may observe unexpected behavior. Please pass your input's `attention_mask` to obtain reliable results.\n",
      "Setting `pad_token_id` to `eos_token_id`:None for open-end generation.\n",
      "[16:07:59] DEPRECATION WARNING: please use MorganGenerator\n",
      "[16:07:59] DEPRECATION WARNING: please use MorganGenerator\n",
      "The attention mask and the pad token id were not set. As a consequence, you may observe unexpected behavior. Please pass your input's `attention_mask` to obtain reliable results.\n",
      "Setting `pad_token_id` to `eos_token_id`:None for open-end generation.\n"
     ]
    },
    {
     "name": "stdout",
     "output_type": "stream",
     "text": [
      "GT: 0.12 Gen: 0.14 diff: 0.02 O=C(NCC(O)CN1CCOCC1)Nc1snc(OCc2ccc(Cl)cc2F)c1C(=O)O <|begin_of_text|>[SMILES]O=C(NCC(O)CN1CCOCC1)Nc1snc(OCc2ccc(Cl)cc2F)c1C(=O)O[/SMILES][SIMILAR]CCOc1ccc(-c2noc(Cn3c(=O)n(C(C)C)c(=O)c4ccccc43)n2)cc1OC 0.14[/SIMILAR]\n",
      "GT: 0.16 Gen: 0.2 diff: 0.04 O=C(NCC(O)CN1CCOCC1)Nc1snc(OCc2ccc(Cl)cc2F)c1C(=O)O <|begin_of_text|>[SMILES]O=C(NCC(O)CN1CCOCC1)Nc1snc(OCc2ccc(Cl)cc2F)c1C(=O)O[/SMILES][SIMILAR]O=C(CSc1nnnn1-c1ccc(Cl)cc1)Nc1cccc(Cl)c1N1CCCCC1 0.20[/SIMILAR]\n"
     ]
    },
    {
     "name": "stderr",
     "output_type": "stream",
     "text": [
      "[16:07:59] DEPRECATION WARNING: please use MorganGenerator\n",
      "[16:07:59] DEPRECATION WARNING: please use MorganGenerator\n",
      "The attention mask and the pad token id were not set. As a consequence, you may observe unexpected behavior. Please pass your input's `attention_mask` to obtain reliable results.\n",
      "Setting `pad_token_id` to `eos_token_id`:None for open-end generation.\n",
      "[16:07:59] DEPRECATION WARNING: please use MorganGenerator\n",
      "[16:07:59] DEPRECATION WARNING: please use MorganGenerator\n",
      "The attention mask and the pad token id were not set. As a consequence, you may observe unexpected behavior. Please pass your input's `attention_mask` to obtain reliable results.\n",
      "Setting `pad_token_id` to `eos_token_id`:None for open-end generation.\n"
     ]
    },
    {
     "name": "stdout",
     "output_type": "stream",
     "text": [
      "GT: 0.12 Gen: 0.18 diff: 0.06 O=C(NCC(O)CN1CCOCC1)Nc1snc(OCc2ccc(Cl)cc2F)c1C(=O)O <|begin_of_text|>[SMILES]O=C(NCC(O)CN1CCOCC1)Nc1snc(OCc2ccc(Cl)cc2F)c1C(=O)O[/SMILES][SIMILAR]Cc1ccccc1C1(O)CCN(C(=O)c2ccc(-c3ccc(F)cc3)o2)CC1 0.18[/SIMILAR]\n",
      "GT: 0.16 Gen: 0.21 diff: 0.05 O=C(NCC(O)CN1CCOCC1)Nc1snc(OCc2ccc(Cl)cc2F)c1C(=O)O <|begin_of_text|>[SMILES]O=C(NCC(O)CN1CCOCC1)Nc1snc(OCc2ccc(Cl)cc2F)c1C(=O)O[/SMILES][SIMILAR]CCc1ccc(NC(=O)NC(C)(C)CCC(=O)O)cc1S(N)(=O)=O 0.21[/SIMILAR]\n"
     ]
    },
    {
     "name": "stderr",
     "output_type": "stream",
     "text": [
      "[16:07:59] DEPRECATION WARNING: please use MorganGenerator\n",
      "[16:07:59] DEPRECATION WARNING: please use MorganGenerator\n",
      "The attention mask and the pad token id were not set. As a consequence, you may observe unexpected behavior. Please pass your input's `attention_mask` to obtain reliable results.\n",
      "Setting `pad_token_id` to `eos_token_id`:None for open-end generation.\n",
      "[16:08:00] DEPRECATION WARNING: please use MorganGenerator\n",
      "[16:08:00] DEPRECATION WARNING: please use MorganGenerator\n",
      "The attention mask and the pad token id were not set. As a consequence, you may observe unexpected behavior. Please pass your input's `attention_mask` to obtain reliable results.\n",
      "Setting `pad_token_id` to `eos_token_id`:None for open-end generation.\n"
     ]
    },
    {
     "name": "stdout",
     "output_type": "stream",
     "text": [
      "GT: 0.1 Gen: 0.15 diff: 0.05 O=C(NCC(O)CN1CCOCC1)Nc1snc(OCc2ccc(Cl)cc2F)c1C(=O)O <|begin_of_text|>[SMILES]O=C(NCC(O)CN1CCOCC1)Nc1snc(OCc2ccc(Cl)cc2F)c1C(=O)O[/SMILES][SIMILAR]CCCOc1ccc(C=NNC(=O)COc2ccccc2C)cc1OC 0.15[/SIMILAR]\n",
      "GT: 0.2 Gen: 0.21 diff: 0.01 O=C(NCC(O)CN1CCOCC1)Nc1snc(OCc2ccc(Cl)cc2F)c1C(=O)O <|begin_of_text|>[SMILES]O=C(NCC(O)CN1CCOCC1)Nc1snc(OCc2ccc(Cl)cc2F)c1C(=O)O[/SMILES][SIMILAR]CC(C)(C)OC(=O)NCC(=O)N1CCOC(c2ccccc2F)C1 0.21[/SIMILAR]\n"
     ]
    },
    {
     "name": "stderr",
     "output_type": "stream",
     "text": [
      "[16:08:00] DEPRECATION WARNING: please use MorganGenerator\n",
      "[16:08:00] DEPRECATION WARNING: please use MorganGenerator\n",
      "The attention mask and the pad token id were not set. As a consequence, you may observe unexpected behavior. Please pass your input's `attention_mask` to obtain reliable results.\n",
      "Setting `pad_token_id` to `eos_token_id`:None for open-end generation.\n",
      "[16:08:00] DEPRECATION WARNING: please use MorganGenerator\n",
      "[16:08:00] DEPRECATION WARNING: please use MorganGenerator\n",
      "The attention mask and the pad token id were not set. As a consequence, you may observe unexpected behavior. Please pass your input's `attention_mask` to obtain reliable results.\n",
      "Setting `pad_token_id` to `eos_token_id`:None for open-end generation.\n"
     ]
    },
    {
     "name": "stdout",
     "output_type": "stream",
     "text": [
      "GT: 0.08 Gen: 0.13 diff: 0.05 O=C(NCC(O)CN1CCOCC1)Nc1snc(OCc2ccc(Cl)cc2F)c1C(=O)O <|begin_of_text|>[SMILES]O=C(NCC(O)CN1CCOCC1)Nc1snc(OCc2ccc(Cl)cc2F)c1C(=O)O[/SMILES][SIMILAR]CCOc1cc(OC)c(Br)cc1CC1CCCNC1 0.13[/SIMILAR]\n",
      "GT: 0.07 Gen: 0.1 diff: 0.03 CCC(=O)c1sc(NC2C3C4CCC(C4)C23)c(OC)c1N <|begin_of_text|>[SMILES]CCC(=O)c1sc(NC2C3C4CCC(C4)C23)c(OC)c1N[/SMILES][SIMILAR]Cc1nn(C)c(Oc2ccc(Br)cc2[N+](=O)[O-])c1CO 0.10[/SIMILAR]\n"
     ]
    },
    {
     "name": "stderr",
     "output_type": "stream",
     "text": [
      "[16:08:00] DEPRECATION WARNING: please use MorganGenerator\n",
      "[16:08:00] DEPRECATION WARNING: please use MorganGenerator\n",
      "The attention mask and the pad token id were not set. As a consequence, you may observe unexpected behavior. Please pass your input's `attention_mask` to obtain reliable results.\n",
      "Setting `pad_token_id` to `eos_token_id`:None for open-end generation.\n",
      "[16:08:00] DEPRECATION WARNING: please use MorganGenerator\n",
      "[16:08:00] DEPRECATION WARNING: please use MorganGenerator\n",
      "The attention mask and the pad token id were not set. As a consequence, you may observe unexpected behavior. Please pass your input's `attention_mask` to obtain reliable results.\n",
      "Setting `pad_token_id` to `eos_token_id`:None for open-end generation.\n"
     ]
    },
    {
     "name": "stdout",
     "output_type": "stream",
     "text": [
      "GT: 0.1 Gen: 0.1 diff: 0.0 CCC(=O)c1sc(NC2C3C4CCC(C4)C23)c(OC)c1N <|begin_of_text|>[SMILES]CCC(=O)c1sc(NC2C3C4CCC(C4)C23)c(OC)c1N[/SMILES][SIMILAR]CN=C(NCc1nc(-c2ccccc2)cs1)N1CCSC(C)(C)C1 0.10[/SIMILAR]\n",
      "GT: 0.08 Gen: 0.09 diff: 0.01 CCC(=O)c1sc(NC2C3C4CCC(C4)C23)c(OC)c1N <|begin_of_text|>[SMILES]CCC(=O)c1sc(NC2C3C4CCC(C4)C23)c(OC)c1N[/SMILES][SIMILAR]CC(C)NS(=O)(=O)[N-]Cc1ccccc1.O=C(O)c1cccc2c1cnn2-c1ccc(F)cc1 0.09[/SIMILAR]\n"
     ]
    },
    {
     "name": "stderr",
     "output_type": "stream",
     "text": [
      "[16:08:00] DEPRECATION WARNING: please use MorganGenerator\n",
      "[16:08:00] DEPRECATION WARNING: please use MorganGenerator\n",
      "The attention mask and the pad token id were not set. As a consequence, you may observe unexpected behavior. Please pass your input's `attention_mask` to obtain reliable results.\n",
      "Setting `pad_token_id` to `eos_token_id`:None for open-end generation.\n",
      "[16:08:00] DEPRECATION WARNING: please use MorganGenerator\n",
      "[16:08:00] DEPRECATION WARNING: please use MorganGenerator\n",
      "The attention mask and the pad token id were not set. As a consequence, you may observe unexpected behavior. Please pass your input's `attention_mask` to obtain reliable results.\n",
      "Setting `pad_token_id` to `eos_token_id`:None for open-end generation.\n"
     ]
    },
    {
     "name": "stdout",
     "output_type": "stream",
     "text": [
      "GT: 0.09 Gen: 0.1 diff: 0.01 CCC(=O)c1sc(NC2C3C4CCC(C4)C23)c(OC)c1N <|begin_of_text|>[SMILES]CCC(=O)c1sc(NC2C3C4CCC(C4)C23)c(OC)c1N[/SMILES][SIMILAR]CCOc1ccc(-c2noc(Cn3c(=O)n(C(C)C)c(=O)c4ccccc43)n2)cc1OC 0.10[/SIMILAR]\n",
      "GT: 0.09 Gen: 0.1 diff: 0.01 CCC(=O)c1sc(NC2C3C4CCC(C4)C23)c(OC)c1N <|begin_of_text|>[SMILES]CCC(=O)c1sc(NC2C3C4CCC(C4)C23)c(OC)c1N[/SMILES][SIMILAR]O=C(CSc1nnnn1-c1ccc(Cl)cc1)Nc1cccc(Cl)c1N1CCCCC1 0.10[/SIMILAR]\n"
     ]
    },
    {
     "name": "stderr",
     "output_type": "stream",
     "text": [
      "[16:08:00] DEPRECATION WARNING: please use MorganGenerator\n",
      "[16:08:00] DEPRECATION WARNING: please use MorganGenerator\n",
      "The attention mask and the pad token id were not set. As a consequence, you may observe unexpected behavior. Please pass your input's `attention_mask` to obtain reliable results.\n",
      "Setting `pad_token_id` to `eos_token_id`:None for open-end generation.\n",
      "[16:08:00] DEPRECATION WARNING: please use MorganGenerator\n",
      "[16:08:00] DEPRECATION WARNING: please use MorganGenerator\n",
      "The attention mask and the pad token id were not set. As a consequence, you may observe unexpected behavior. Please pass your input's `attention_mask` to obtain reliable results.\n",
      "Setting `pad_token_id` to `eos_token_id`:None for open-end generation.\n"
     ]
    },
    {
     "name": "stdout",
     "output_type": "stream",
     "text": [
      "GT: 0.08 Gen: 0.1 diff: 0.02 CCC(=O)c1sc(NC2C3C4CCC(C4)C23)c(OC)c1N <|begin_of_text|>[SMILES]CCC(=O)c1sc(NC2C3C4CCC(C4)C23)c(OC)c1N[/SMILES][SIMILAR]Cc1ccccc1C1(O)CCN(C(=O)c2ccc(-c3ccc(F)cc3)o2)CC1 0.10[/SIMILAR]\n",
      "GT: 0.12 Gen: 0.12 diff: 0.0 CCC(=O)c1sc(NC2C3C4CCC(C4)C23)c(OC)c1N <|begin_of_text|>[SMILES]CCC(=O)c1sc(NC2C3C4CCC(C4)C23)c(OC)c1N[/SMILES][SIMILAR]CCc1ccc(NC(=O)NC(C)(C)CCC(=O)O)cc1S(N)(=O)=O 0.12[/SIMILAR]\n"
     ]
    },
    {
     "name": "stderr",
     "output_type": "stream",
     "text": [
      "[16:08:01] DEPRECATION WARNING: please use MorganGenerator\n",
      "[16:08:01] DEPRECATION WARNING: please use MorganGenerator\n",
      "The attention mask and the pad token id were not set. As a consequence, you may observe unexpected behavior. Please pass your input's `attention_mask` to obtain reliable results.\n",
      "Setting `pad_token_id` to `eos_token_id`:None for open-end generation.\n",
      "[16:08:01] DEPRECATION WARNING: please use MorganGenerator\n",
      "[16:08:01] DEPRECATION WARNING: please use MorganGenerator\n",
      "The attention mask and the pad token id were not set. As a consequence, you may observe unexpected behavior. Please pass your input's `attention_mask` to obtain reliable results.\n",
      "Setting `pad_token_id` to `eos_token_id`:None for open-end generation.\n"
     ]
    },
    {
     "name": "stdout",
     "output_type": "stream",
     "text": [
      "GT: 0.13 Gen: 0.13 diff: 0.0 CCC(=O)c1sc(NC2C3C4CCC(C4)C23)c(OC)c1N <|begin_of_text|>[SMILES]CCC(=O)c1sc(NC2C3C4CCC(C4)C23)c(OC)c1N[/SMILES][SIMILAR]CCCOc1ccc(C=NNC(=O)COc2ccccc2C)cc1OC 0.13[/SIMILAR]\n",
      "GT: 0.12 Gen: 0.13 diff: 0.01 CCC(=O)c1sc(NC2C3C4CCC(C4)C23)c(OC)c1N <|begin_of_text|>[SMILES]CCC(=O)c1sc(NC2C3C4CCC(C4)C23)c(OC)c1N[/SMILES][SIMILAR]CC(C)(C)OC(=O)NCC(=O)N1CCOC(c2ccccc2F)C1 0.13[/SIMILAR]\n"
     ]
    },
    {
     "name": "stderr",
     "output_type": "stream",
     "text": [
      "[16:08:01] DEPRECATION WARNING: please use MorganGenerator\n",
      "[16:08:01] DEPRECATION WARNING: please use MorganGenerator\n",
      "The attention mask and the pad token id were not set. As a consequence, you may observe unexpected behavior. Please pass your input's `attention_mask` to obtain reliable results.\n",
      "Setting `pad_token_id` to `eos_token_id`:None for open-end generation.\n",
      "[16:08:01] DEPRECATION WARNING: please use MorganGenerator\n",
      "[16:08:01] DEPRECATION WARNING: please use MorganGenerator\n",
      "The attention mask and the pad token id were not set. As a consequence, you may observe unexpected behavior. Please pass your input's `attention_mask` to obtain reliable results.\n",
      "Setting `pad_token_id` to `eos_token_id`:None for open-end generation.\n"
     ]
    },
    {
     "name": "stdout",
     "output_type": "stream",
     "text": [
      "GT: 0.13 Gen: 0.18 diff: 0.05 CCC(=O)c1sc(NC2C3C4CCC(C4)C23)c(OC)c1N <|begin_of_text|>[SMILES]CCC(=O)c1sc(NC2C3C4CCC(C4)C23)c(OC)c1N[/SMILES][SIMILAR]CCOc1cc(OC)c(Br)cc1CC1CCCNC1 0.18[/SIMILAR]\n",
      "GT: 0.08 Gen: 0.1 diff: 0.02 CN(C)S(=O)(=O)NCCCc1ncc[nH]1 <|begin_of_text|>[SMILES]CN(C)S(=O)(=O)NCCCc1ncc[nH]1[/SMILES][SIMILAR]Cc1nn(C)c(Oc2ccc(Br)cc2[N+](=O)[O-])c1CO 0.10[/SIMILAR]\n"
     ]
    },
    {
     "name": "stderr",
     "output_type": "stream",
     "text": [
      "[16:08:01] DEPRECATION WARNING: please use MorganGenerator\n",
      "[16:08:01] DEPRECATION WARNING: please use MorganGenerator\n",
      "The attention mask and the pad token id were not set. As a consequence, you may observe unexpected behavior. Please pass your input's `attention_mask` to obtain reliable results.\n",
      "Setting `pad_token_id` to `eos_token_id`:None for open-end generation.\n",
      "[16:08:01] DEPRECATION WARNING: please use MorganGenerator\n",
      "[16:08:01] DEPRECATION WARNING: please use MorganGenerator\n",
      "The attention mask and the pad token id were not set. As a consequence, you may observe unexpected behavior. Please pass your input's `attention_mask` to obtain reliable results.\n",
      "Setting `pad_token_id` to `eos_token_id`:None for open-end generation.\n"
     ]
    },
    {
     "name": "stdout",
     "output_type": "stream",
     "text": [
      "GT: 0.09 Gen: 0.08 diff: 0.01 CN(C)S(=O)(=O)NCCCc1ncc[nH]1 <|begin_of_text|>[SMILES]CN(C)S(=O)(=O)NCCCc1ncc[nH]1[/SMILES][SIMILAR]CN=C(NCc1nc(-c2ccccc2)cs1)N1CCSC(C)(C)C1 0.08[/SIMILAR]\n",
      "GT: 0.12 Gen: 0.11 diff: 0.01 CN(C)S(=O)(=O)NCCCc1ncc[nH]1 <|begin_of_text|>[SMILES]CN(C)S(=O)(=O)NCCCc1ncc[nH]1[/SMILES][SIMILAR]CC(C)NS(=O)(=O)[N-]Cc1ccccc1.O=C(O)c1cccc2c1cnn2-c1ccc(F)cc1 0.11[/SIMILAR]\n"
     ]
    },
    {
     "name": "stderr",
     "output_type": "stream",
     "text": [
      "[16:08:01] DEPRECATION WARNING: please use MorganGenerator\n",
      "[16:08:01] DEPRECATION WARNING: please use MorganGenerator\n",
      "The attention mask and the pad token id were not set. As a consequence, you may observe unexpected behavior. Please pass your input's `attention_mask` to obtain reliable results.\n",
      "Setting `pad_token_id` to `eos_token_id`:None for open-end generation.\n",
      "[16:08:01] DEPRECATION WARNING: please use MorganGenerator\n",
      "[16:08:01] DEPRECATION WARNING: please use MorganGenerator\n",
      "The attention mask and the pad token id were not set. As a consequence, you may observe unexpected behavior. Please pass your input's `attention_mask` to obtain reliable results.\n",
      "Setting `pad_token_id` to `eos_token_id`:None for open-end generation.\n"
     ]
    },
    {
     "name": "stdout",
     "output_type": "stream",
     "text": [
      "GT: 0.1 Gen: 0.09 diff: 0.01 CN(C)S(=O)(=O)NCCCc1ncc[nH]1 <|begin_of_text|>[SMILES]CN(C)S(=O)(=O)NCCCc1ncc[nH]1[/SMILES][SIMILAR]CCOc1ccc(-c2noc(Cn3c(=O)n(C(C)C)c(=O)c4ccccc43)n2)cc1OC 0.09[/SIMILAR]\n",
      "GT: 0.1 Gen: 0.06 diff: 0.04 CN(C)S(=O)(=O)NCCCc1ncc[nH]1 <|begin_of_text|>[SMILES]CN(C)S(=O)(=O)NCCCc1ncc[nH]1[/SMILES][SIMILAR]O=C(CSc1nnnn1-c1ccc(Cl)cc1)Nc1cccc(Cl)c1N1CCCCC1 0.06[/SIMILAR]\n"
     ]
    },
    {
     "name": "stderr",
     "output_type": "stream",
     "text": [
      "[16:08:01] DEPRECATION WARNING: please use MorganGenerator\n",
      "[16:08:01] DEPRECATION WARNING: please use MorganGenerator\n",
      "The attention mask and the pad token id were not set. As a consequence, you may observe unexpected behavior. Please pass your input's `attention_mask` to obtain reliable results.\n",
      "Setting `pad_token_id` to `eos_token_id`:None for open-end generation.\n",
      "[16:08:01] DEPRECATION WARNING: please use MorganGenerator\n",
      "[16:08:01] DEPRECATION WARNING: please use MorganGenerator\n",
      "The attention mask and the pad token id were not set. As a consequence, you may observe unexpected behavior. Please pass your input's `attention_mask` to obtain reliable results.\n",
      "Setting `pad_token_id` to `eos_token_id`:None for open-end generation.\n"
     ]
    },
    {
     "name": "stdout",
     "output_type": "stream",
     "text": [
      "GT: 0.05 Gen: 0.05 diff: 0.0 CN(C)S(=O)(=O)NCCCc1ncc[nH]1 <|begin_of_text|>[SMILES]CN(C)S(=O)(=O)NCCCc1ncc[nH]1[/SMILES][SIMILAR]Cc1ccccc1C1(O)CCN(C(=O)c2ccc(-c3ccc(F)cc3)o2)CC1 0.05[/SIMILAR]\n",
      "GT: 0.12 Gen: 0.16 diff: 0.04 CN(C)S(=O)(=O)NCCCc1ncc[nH]1 <|begin_of_text|>[SMILES]CN(C)S(=O)(=O)NCCCc1ncc[nH]1[/SMILES][SIMILAR]CCc1ccc(NC(=O)NC(C)(C)CCC(=O)O)cc1S(N)(=O)=O 0.16[/SIMILAR]\n"
     ]
    },
    {
     "name": "stderr",
     "output_type": "stream",
     "text": [
      "[16:08:02] DEPRECATION WARNING: please use MorganGenerator\n",
      "[16:08:02] DEPRECATION WARNING: please use MorganGenerator\n",
      "The attention mask and the pad token id were not set. As a consequence, you may observe unexpected behavior. Please pass your input's `attention_mask` to obtain reliable results.\n",
      "Setting `pad_token_id` to `eos_token_id`:None for open-end generation.\n",
      "[16:08:02] DEPRECATION WARNING: please use MorganGenerator\n",
      "[16:08:02] DEPRECATION WARNING: please use MorganGenerator\n",
      "The attention mask and the pad token id were not set. As a consequence, you may observe unexpected behavior. Please pass your input's `attention_mask` to obtain reliable results.\n",
      "Setting `pad_token_id` to `eos_token_id`:None for open-end generation.\n"
     ]
    },
    {
     "name": "stdout",
     "output_type": "stream",
     "text": [
      "GT: 0.11 Gen: 0.1 diff: 0.01 CN(C)S(=O)(=O)NCCCc1ncc[nH]1 <|begin_of_text|>[SMILES]CN(C)S(=O)(=O)NCCCc1ncc[nH]1[/SMILES][SIMILAR]CCCOc1ccc(C=NNC(=O)COc2ccccc2C)cc1OC 0.10[/SIMILAR]\n",
      "GT: 0.09 Gen: 0.09 diff: 0.0 CN(C)S(=O)(=O)NCCCc1ncc[nH]1 <|begin_of_text|>[SMILES]CN(C)S(=O)(=O)NCCCc1ncc[nH]1[/SMILES][SIMILAR]CC(C)(C)OC(=O)NCC(=O)N1CCOC(c2ccccc2F)C1 0.09[/SIMILAR]\n"
     ]
    },
    {
     "name": "stderr",
     "output_type": "stream",
     "text": [
      "[16:08:02] DEPRECATION WARNING: please use MorganGenerator\n",
      "[16:08:02] DEPRECATION WARNING: please use MorganGenerator\n",
      "The attention mask and the pad token id were not set. As a consequence, you may observe unexpected behavior. Please pass your input's `attention_mask` to obtain reliable results.\n",
      "Setting `pad_token_id` to `eos_token_id`:None for open-end generation.\n",
      "[16:08:02] DEPRECATION WARNING: please use MorganGenerator\n",
      "[16:08:02] DEPRECATION WARNING: please use MorganGenerator\n",
      "The attention mask and the pad token id were not set. As a consequence, you may observe unexpected behavior. Please pass your input's `attention_mask` to obtain reliable results.\n",
      "Setting `pad_token_id` to `eos_token_id`:None for open-end generation.\n"
     ]
    },
    {
     "name": "stdout",
     "output_type": "stream",
     "text": [
      "GT: 0.09 Gen: 0.1 diff: 0.01 CN(C)S(=O)(=O)NCCCc1ncc[nH]1 <|begin_of_text|>[SMILES]CN(C)S(=O)(=O)NCCCc1ncc[nH]1[/SMILES][SIMILAR]CCOc1cc(OC)c(Br)cc1CC1CCCNC1 0.10[/SIMILAR]\n",
      "GT: 0.15 Gen: 0.2 diff: 0.05 Cc1ccc(F)c(OCc2cc(F)cc(C#CCO)c2)c1 <|begin_of_text|>[SMILES]Cc1ccc(F)c(OCc2cc(F)cc(C#CCO)c2)c1[/SMILES][SIMILAR]Cc1nn(C)c(Oc2ccc(Br)cc2[N+](=O)[O-])c1CO 0.20[/SIMILAR]\n"
     ]
    },
    {
     "name": "stderr",
     "output_type": "stream",
     "text": [
      "[16:08:02] DEPRECATION WARNING: please use MorganGenerator\n",
      "[16:08:02] DEPRECATION WARNING: please use MorganGenerator\n",
      "The attention mask and the pad token id were not set. As a consequence, you may observe unexpected behavior. Please pass your input's `attention_mask` to obtain reliable results.\n",
      "Setting `pad_token_id` to `eos_token_id`:None for open-end generation.\n",
      "[16:08:02] DEPRECATION WARNING: please use MorganGenerator\n",
      "[16:08:02] DEPRECATION WARNING: please use MorganGenerator\n",
      "The attention mask and the pad token id were not set. As a consequence, you may observe unexpected behavior. Please pass your input's `attention_mask` to obtain reliable results.\n",
      "Setting `pad_token_id` to `eos_token_id`:None for open-end generation.\n"
     ]
    },
    {
     "name": "stdout",
     "output_type": "stream",
     "text": [
      "GT: 0.07 Gen: 0.12 diff: 0.05 Cc1ccc(F)c(OCc2cc(F)cc(C#CCO)c2)c1 <|begin_of_text|>[SMILES]Cc1ccc(F)c(OCc2cc(F)cc(C#CCO)c2)c1[/SMILES][SIMILAR]CN=C(NCc1nc(-c2ccccc2)cs1)N1CCSC(C)(C)C1 0.12[/SIMILAR]\n",
      "GT: 0.13 Gen: 0.16 diff: 0.03 Cc1ccc(F)c(OCc2cc(F)cc(C#CCO)c2)c1 <|begin_of_text|>[SMILES]Cc1ccc(F)c(OCc2cc(F)cc(C#CCO)c2)c1[/SMILES][SIMILAR]CC(C)NS(=O)(=O)[N-]Cc1ccccc1.O=C(O)c1cccc2c1cnn2-c1ccc(F)cc1 0.16[/SIMILAR]\n"
     ]
    },
    {
     "name": "stderr",
     "output_type": "stream",
     "text": [
      "[16:08:02] DEPRECATION WARNING: please use MorganGenerator\n",
      "[16:08:02] DEPRECATION WARNING: please use MorganGenerator\n",
      "The attention mask and the pad token id were not set. As a consequence, you may observe unexpected behavior. Please pass your input's `attention_mask` to obtain reliable results.\n",
      "Setting `pad_token_id` to `eos_token_id`:None for open-end generation.\n",
      "[16:08:02] DEPRECATION WARNING: please use MorganGenerator\n",
      "[16:08:02] DEPRECATION WARNING: please use MorganGenerator\n",
      "The attention mask and the pad token id were not set. As a consequence, you may observe unexpected behavior. Please pass your input's `attention_mask` to obtain reliable results.\n",
      "Setting `pad_token_id` to `eos_token_id`:None for open-end generation.\n"
     ]
    },
    {
     "name": "stdout",
     "output_type": "stream",
     "text": [
      "GT: 0.11 Gen: 0.17 diff: 0.06 Cc1ccc(F)c(OCc2cc(F)cc(C#CCO)c2)c1 <|begin_of_text|>[SMILES]Cc1ccc(F)c(OCc2cc(F)cc(C#CCO)c2)c1[/SMILES][SIMILAR]CCOc1ccc(-c2noc(Cn3c(=O)n(C(C)C)c(=O)c4ccccc43)n2)cc1OC 0.17[/SIMILAR]\n",
      "GT: 0.08 Gen: 0.12 diff: 0.04 Cc1ccc(F)c(OCc2cc(F)cc(C#CCO)c2)c1 <|begin_of_text|>[SMILES]Cc1ccc(F)c(OCc2cc(F)cc(C#CCO)c2)c1[/SMILES][SIMILAR]O=C(CSc1nnnn1-c1ccc(Cl)cc1)Nc1cccc(Cl)c1N1CCCCC1 0.12[/SIMILAR]\n"
     ]
    },
    {
     "name": "stderr",
     "output_type": "stream",
     "text": [
      "[16:08:02] DEPRECATION WARNING: please use MorganGenerator\n",
      "[16:08:02] DEPRECATION WARNING: please use MorganGenerator\n",
      "The attention mask and the pad token id were not set. As a consequence, you may observe unexpected behavior. Please pass your input's `attention_mask` to obtain reliable results.\n",
      "Setting `pad_token_id` to `eos_token_id`:None for open-end generation.\n",
      "[16:08:03] DEPRECATION WARNING: please use MorganGenerator\n",
      "[16:08:03] DEPRECATION WARNING: please use MorganGenerator\n",
      "The attention mask and the pad token id were not set. As a consequence, you may observe unexpected behavior. Please pass your input's `attention_mask` to obtain reliable results.\n",
      "Setting `pad_token_id` to `eos_token_id`:None for open-end generation.\n"
     ]
    },
    {
     "name": "stdout",
     "output_type": "stream",
     "text": [
      "GT: 0.13 Gen: 0.17 diff: 0.04 Cc1ccc(F)c(OCc2cc(F)cc(C#CCO)c2)c1 <|begin_of_text|>[SMILES]Cc1ccc(F)c(OCc2cc(F)cc(C#CCO)c2)c1[/SMILES][SIMILAR]Cc1ccccc1C1(O)CCN(C(=O)c2ccc(-c3ccc(F)cc3)o2)CC1 0.17[/SIMILAR]\n",
      "GT: 0.11 Gen: 0.12 diff: 0.01 Cc1ccc(F)c(OCc2cc(F)cc(C#CCO)c2)c1 <|begin_of_text|>[SMILES]Cc1ccc(F)c(OCc2cc(F)cc(C#CCO)c2)c1[/SMILES][SIMILAR]CCc1ccc(NC(=O)NC(C)(C)CCC(=O)O)cc1S(N)(=O)=O 0.12[/SIMILAR]\n"
     ]
    },
    {
     "name": "stderr",
     "output_type": "stream",
     "text": [
      "[16:08:03] DEPRECATION WARNING: please use MorganGenerator\n",
      "[16:08:03] DEPRECATION WARNING: please use MorganGenerator\n",
      "The attention mask and the pad token id were not set. As a consequence, you may observe unexpected behavior. Please pass your input's `attention_mask` to obtain reliable results.\n",
      "Setting `pad_token_id` to `eos_token_id`:None for open-end generation.\n",
      "[16:08:03] DEPRECATION WARNING: please use MorganGenerator\n",
      "[16:08:03] DEPRECATION WARNING: please use MorganGenerator\n",
      "The attention mask and the pad token id were not set. As a consequence, you may observe unexpected behavior. Please pass your input's `attention_mask` to obtain reliable results.\n",
      "Setting `pad_token_id` to `eos_token_id`:None for open-end generation.\n"
     ]
    },
    {
     "name": "stdout",
     "output_type": "stream",
     "text": [
      "GT: 0.14 Gen: 0.19 diff: 0.05 Cc1ccc(F)c(OCc2cc(F)cc(C#CCO)c2)c1 <|begin_of_text|>[SMILES]Cc1ccc(F)c(OCc2cc(F)cc(C#CCO)c2)c1[/SMILES][SIMILAR]CCCOc1ccc(C=NNC(=O)COc2ccccc2C)cc1OC 0.19[/SIMILAR]\n",
      "GT: 0.12 Gen: 0.12 diff: 0.0 Cc1ccc(F)c(OCc2cc(F)cc(C#CCO)c2)c1 <|begin_of_text|>[SMILES]Cc1ccc(F)c(OCc2cc(F)cc(C#CCO)c2)c1[/SMILES][SIMILAR]CC(C)(C)OC(=O)NCC(=O)N1CCOC(c2ccccc2F)C1 0.12[/SIMILAR]\n"
     ]
    },
    {
     "name": "stderr",
     "output_type": "stream",
     "text": [
      "[16:08:03] DEPRECATION WARNING: please use MorganGenerator\n",
      "[16:08:03] DEPRECATION WARNING: please use MorganGenerator\n",
      "The attention mask and the pad token id were not set. As a consequence, you may observe unexpected behavior. Please pass your input's `attention_mask` to obtain reliable results.\n",
      "Setting `pad_token_id` to `eos_token_id`:None for open-end generation.\n",
      "[16:08:03] DEPRECATION WARNING: please use MorganGenerator\n",
      "[16:08:03] DEPRECATION WARNING: please use MorganGenerator\n",
      "The attention mask and the pad token id were not set. As a consequence, you may observe unexpected behavior. Please pass your input's `attention_mask` to obtain reliable results.\n",
      "Setting `pad_token_id` to `eos_token_id`:None for open-end generation.\n"
     ]
    },
    {
     "name": "stdout",
     "output_type": "stream",
     "text": [
      "GT: 0.11 Gen: 0.14 diff: 0.03 Cc1ccc(F)c(OCc2cc(F)cc(C#CCO)c2)c1 <|begin_of_text|>[SMILES]Cc1ccc(F)c(OCc2cc(F)cc(C#CCO)c2)c1[/SMILES][SIMILAR]CCOc1cc(OC)c(Br)cc1CC1CCCNC1 0.14[/SIMILAR]\n",
      "GT: 0.13 Gen: 0.17 diff: 0.04 Cc1cc(C)c(S(=O)(=O)NCC2CCCN2c2ccccc2)c(C)c1 <|begin_of_text|>[SMILES]Cc1cc(C)c(S(=O)(=O)NCC2CCCN2c2ccccc2)c(C)c1[/SMILES][SIMILAR]Cc1nn(C)c(Oc2ccc(Br)cc2[N+](=O)[O-])c1CO 0.17[/SIMILAR]\n"
     ]
    },
    {
     "name": "stderr",
     "output_type": "stream",
     "text": [
      "[16:08:03] DEPRECATION WARNING: please use MorganGenerator\n",
      "[16:08:03] DEPRECATION WARNING: please use MorganGenerator\n",
      "The attention mask and the pad token id were not set. As a consequence, you may observe unexpected behavior. Please pass your input's `attention_mask` to obtain reliable results.\n",
      "Setting `pad_token_id` to `eos_token_id`:None for open-end generation.\n",
      "[16:08:03] DEPRECATION WARNING: please use MorganGenerator\n",
      "[16:08:03] DEPRECATION WARNING: please use MorganGenerator\n",
      "The attention mask and the pad token id were not set. As a consequence, you may observe unexpected behavior. Please pass your input's `attention_mask` to obtain reliable results.\n",
      "Setting `pad_token_id` to `eos_token_id`:None for open-end generation.\n"
     ]
    },
    {
     "name": "stdout",
     "output_type": "stream",
     "text": [
      "GT: 0.15 Gen: 0.25 diff: 0.1 Cc1cc(C)c(S(=O)(=O)NCC2CCCN2c2ccccc2)c(C)c1 <|begin_of_text|>[SMILES]Cc1cc(C)c(S(=O)(=O)NCC2CCCN2c2ccccc2)c(C)c1[/SMILES][SIMILAR]CN=C(NCc1nc(-c2ccccc2)cs1)N1CCSC(C)(C)C1 0.25[/SIMILAR]\n",
      "GT: 0.18 Gen: 0.23 diff: 0.05 Cc1cc(C)c(S(=O)(=O)NCC2CCCN2c2ccccc2)c(C)c1 <|begin_of_text|>[SMILES]Cc1cc(C)c(S(=O)(=O)NCC2CCCN2c2ccccc2)c(C)c1[/SMILES][SIMILAR]CC(C)NS(=O)(=O)[N-]Cc1ccccc1.O=C(O)c1cccc2c1cnn2-c1ccc(F)cc1 0.23[/SIMILAR]\n"
     ]
    },
    {
     "name": "stderr",
     "output_type": "stream",
     "text": [
      "[16:08:03] DEPRECATION WARNING: please use MorganGenerator\n",
      "[16:08:03] DEPRECATION WARNING: please use MorganGenerator\n",
      "The attention mask and the pad token id were not set. As a consequence, you may observe unexpected behavior. Please pass your input's `attention_mask` to obtain reliable results.\n",
      "Setting `pad_token_id` to `eos_token_id`:None for open-end generation.\n",
      "[16:08:03] DEPRECATION WARNING: please use MorganGenerator\n",
      "[16:08:03] DEPRECATION WARNING: please use MorganGenerator\n",
      "The attention mask and the pad token id were not set. As a consequence, you may observe unexpected behavior. Please pass your input's `attention_mask` to obtain reliable results.\n",
      "Setting `pad_token_id` to `eos_token_id`:None for open-end generation.\n"
     ]
    },
    {
     "name": "stdout",
     "output_type": "stream",
     "text": [
      "GT: 0.12 Gen: 0.19 diff: 0.07 Cc1cc(C)c(S(=O)(=O)NCC2CCCN2c2ccccc2)c(C)c1 <|begin_of_text|>[SMILES]Cc1cc(C)c(S(=O)(=O)NCC2CCCN2c2ccccc2)c(C)c1[/SMILES][SIMILAR]CCOc1ccc(-c2noc(Cn3c(=O)n(C(C)C)c(=O)c4ccccc43)n2)cc1OC 0.19[/SIMILAR]\n",
      "GT: 0.14 Gen: 0.19 diff: 0.05 Cc1cc(C)c(S(=O)(=O)NCC2CCCN2c2ccccc2)c(C)c1 <|begin_of_text|>[SMILES]Cc1cc(C)c(S(=O)(=O)NCC2CCCN2c2ccccc2)c(C)c1[/SMILES][SIMILAR]O=C(CSc1nnnn1-c1ccc(Cl)cc1)Nc1cccc(Cl)c1N1CCCCC1 0.19[/SIMILAR]\n"
     ]
    },
    {
     "name": "stderr",
     "output_type": "stream",
     "text": [
      "[16:08:03] DEPRECATION WARNING: please use MorganGenerator\n",
      "[16:08:03] DEPRECATION WARNING: please use MorganGenerator\n",
      "The attention mask and the pad token id were not set. As a consequence, you may observe unexpected behavior. Please pass your input's `attention_mask` to obtain reliable results.\n",
      "Setting `pad_token_id` to `eos_token_id`:None for open-end generation.\n",
      "[16:08:04] DEPRECATION WARNING: please use MorganGenerator\n",
      "[16:08:04] DEPRECATION WARNING: please use MorganGenerator\n",
      "The attention mask and the pad token id were not set. As a consequence, you may observe unexpected behavior. Please pass your input's `attention_mask` to obtain reliable results.\n",
      "Setting `pad_token_id` to `eos_token_id`:None for open-end generation.\n"
     ]
    },
    {
     "name": "stdout",
     "output_type": "stream",
     "text": [
      "GT: 0.17 Gen: 0.22 diff: 0.05 Cc1cc(C)c(S(=O)(=O)NCC2CCCN2c2ccccc2)c(C)c1 <|begin_of_text|>[SMILES]Cc1cc(C)c(S(=O)(=O)NCC2CCCN2c2ccccc2)c(C)c1[/SMILES][SIMILAR]Cc1ccccc1C1(O)CCN(C(=O)c2ccc(-c3ccc(F)cc3)o2)CC1 0.22[/SIMILAR]\n",
      "GT: 0.15 Gen: 0.17 diff: 0.02 Cc1cc(C)c(S(=O)(=O)NCC2CCCN2c2ccccc2)c(C)c1 <|begin_of_text|>[SMILES]Cc1cc(C)c(S(=O)(=O)NCC2CCCN2c2ccccc2)c(C)c1[/SMILES][SIMILAR]CCc1ccc(NC(=O)NC(C)(C)CCC(=O)O)cc1S(N)(=O)=O 0.17[/SIMILAR]\n"
     ]
    },
    {
     "name": "stderr",
     "output_type": "stream",
     "text": [
      "[16:08:04] DEPRECATION WARNING: please use MorganGenerator\n",
      "[16:08:04] DEPRECATION WARNING: please use MorganGenerator\n",
      "The attention mask and the pad token id were not set. As a consequence, you may observe unexpected behavior. Please pass your input's `attention_mask` to obtain reliable results.\n",
      "Setting `pad_token_id` to `eos_token_id`:None for open-end generation.\n",
      "[16:08:04] DEPRECATION WARNING: please use MorganGenerator\n",
      "[16:08:04] DEPRECATION WARNING: please use MorganGenerator\n",
      "The attention mask and the pad token id were not set. As a consequence, you may observe unexpected behavior. Please pass your input's `attention_mask` to obtain reliable results.\n",
      "Setting `pad_token_id` to `eos_token_id`:None for open-end generation.\n"
     ]
    },
    {
     "name": "stdout",
     "output_type": "stream",
     "text": [
      "GT: 0.15 Gen: 0.23 diff: 0.08 Cc1cc(C)c(S(=O)(=O)NCC2CCCN2c2ccccc2)c(C)c1 <|begin_of_text|>[SMILES]Cc1cc(C)c(S(=O)(=O)NCC2CCCN2c2ccccc2)c(C)c1[/SMILES][SIMILAR]CCCOc1ccc(C=NNC(=O)COc2ccccc2C)cc1OC 0.23[/SIMILAR]\n",
      "GT: 0.16 Gen: 0.22 diff: 0.06 Cc1cc(C)c(S(=O)(=O)NCC2CCCN2c2ccccc2)c(C)c1 <|begin_of_text|>[SMILES]Cc1cc(C)c(S(=O)(=O)NCC2CCCN2c2ccccc2)c(C)c1[/SMILES][SIMILAR]CC(C)(C)OC(=O)NCC(=O)N1CCOC(c2ccccc2F)C1 0.22[/SIMILAR]\n",
      "GT: 0.13 Gen: 0.16 diff: 0.03 Cc1cc(C)c(S(=O)(=O)NCC2CCCN2c2ccccc2)c(C)c1 <|begin_of_text|>[SMILES]Cc1cc(C)c(S(=O)(=O)NCC2CCCN2c2ccccc2)c(C)c1[/SMILES][SIMILAR]CCOc1cc(OC)c(Br)cc1CC1CCCNC1 0.16[/SIMILAR]\n"
     ]
    },
    {
     "name": "stderr",
     "output_type": "stream",
     "text": [
      "[16:08:04] DEPRECATION WARNING: please use MorganGenerator\n",
      "[16:08:04] DEPRECATION WARNING: please use MorganGenerator\n"
     ]
    }
   ],
   "source": [
    "ground_truths, gens, diffs = [],[],[]\n",
    "invalids = 0\n",
    "for s in smiles100[:10]:\n",
    "    for s2 in smiles100[10:20]:\n",
    "        prompt = f\"<|begin_of_text|>[SMILES]{s}[/SMILES][SIMILAR]{s2} \"\n",
    "        len_prompt = len(s2) + 1\n",
    "        prompt = tokenizer(prompt, return_tensors=\"pt\", add_special_tokens=False).to(model.device)\n",
    "        out = model.generate(prompt.input_ids, do_sample=False, eos_token_id=tokenizer.encode(\"[/SIMILAR]\", add_special_tokens=False)[0], max_new_tokens=300)\n",
    "        out = tokenizer.batch_decode(out)[0]\n",
    "        try:\n",
    "            if out.find(\"[/SIMILAR]\")!=-1:\n",
    "                gen_score = round(float(out[out.find(\"[SIMILAR]\") + len(\"[SIMILAR]\") + len_prompt:out.find(\"[/SIMILAR]\")]), 2)\n",
    "                # tpsa_score = AllChem.CalcTPSA(Chem.MolFromSmiles(smiles))\n",
    "                # gt_score = round(QED.qed(Chem.MolFromSmiles(s)), 2)\n",
    "                # gt_score = round(sascorer.calculateScore(Chem.MolFromSmiles(s)), 2)\n",
    "                gt_score = calculate_tanim_sim(s, s2)\n",
    "                diff = abs(gt_score - gen_score)\n",
    "                print(\"GT:\", round(gt_score,2), \"Gen:\", gen_score, \"diff:\", round(diff,2), s, out )\n",
    "                ground_truths.append(gt_score)\n",
    "                gens.append(gen_score)\n",
    "                diffs.append(diff)\n",
    "            else:\n",
    "                print(f\"GT: {gt_score} GEN: {gen_score} {out}\")\n",
    "        except:\n",
    "            print(f\"\\n*********s: {s}, s2 {s2}, {out}\")\n",
    "            invalids += 1\n",
    "            raise"
   ]
  },
  {
   "cell_type": "code",
   "execution_count": 17,
   "metadata": {
    "metadata": {}
   },
   "outputs": [
    {
     "name": "stderr",
     "output_type": "stream",
     "text": [
      "/auto/home/menuab/miniforge3/envs/llama3/lib/python3.10/site-packages/sklearn/metrics/_regression.py:492: FutureWarning: 'squared' is deprecated in version 1.4 and will be removed in 1.6. To calculate the root mean squared error, use the function'root_mean_squared_error'.\n",
      "  warnings.warn(\n"
     ]
    }
   ],
   "source": [
    "combined = list(zip(ground_truths, gens, diffs))\n",
    "combined.sort(key=lambda x: x[0])\n",
    "ground_truths, gens, diffs = zip(*combined)\n",
    "rmse = metrics.mean_squared_error(ground_truths, gens, squared=False)\n",
    "mape = metrics.mean_absolute_percentage_error(ground_truths, gens)\n",
    "correlation = correlation, pvalue = spearmanr(ground_truths, gens)\n",
    "generate_plot(ground_truths, gens,diffs, 'Similarity', rmse, mape, correlation, invalids, len(ground_truths), (0,1), 0)"
   ]
  },
  {
   "cell_type": "code",
   "execution_count": 20,
   "metadata": {
    "metadata": {}
   },
   "outputs": [
    {
     "name": "stderr",
     "output_type": "stream",
     "text": [
      "The attention mask and the pad token id were not set. As a consequence, you may observe unexpected behavior. Please pass your input's `attention_mask` to obtain reliable results.\n",
      "Setting `pad_token_id` to `eos_token_id`:None for open-end generation.\n"
     ]
    },
    {
     "name": "stderr",
     "output_type": "stream",
     "text": [
      "[16:38:00] DEPRECATION WARNING: please use MorganGenerator\n",
      "[16:38:00] DEPRECATION WARNING: please use MorganGenerator\n",
      "The attention mask and the pad token id were not set. As a consequence, you may observe unexpected behavior. Please pass your input's `attention_mask` to obtain reliable results.\n",
      "Setting `pad_token_id` to `eos_token_id`:None for open-end generation.\n"
     ]
    },
    {
     "name": "stdout",
     "output_type": "stream",
     "text": [
      "GT: 0.2 Gen: 0.45054945054945056 diff: 0.25 CC(=O)Nc1ccc(C(=O)NN=Cc2cccc([N+](=O)[O-])c2OC(=O)c2cccc(C)c2)cc1 <|begin_of_text|>[SIMILAR]CC(=O)Nc1ccc(C(=O)NN=Cc2cccc([N+](=O)[O-])c2OC(=O)c2cccc(C)c2)cc1 0.20[/SIMILAR][QED]0.02[/QED][WEIGHT]1012.57[/WEIGHT][FORMULA]C56H76N8O10[/FORMULA][CLOGP]11.55[/CLOGP][RINGCOUNT]4[/RINGCOUNT][TPSA]245.62[/TPSA][SAS]3.72[/SAS][SMILES]CCCCCCCCCCCCCCCCCC(=O)Nc1ccc(C(=O)NN=Cc2cc([N+](=O)[O-])cc([N+](=O)[O-])c2OC(=O)c2ccc(NC(=O)CCCCCCCCCCCCCCCCC)cc2)cc1.N#C[O-].[C-]#[N+]C#N.[K+][/SMILES]\n"
     ]
    },
    {
     "name": "stderr",
     "output_type": "stream",
     "text": [
      "[16:38:01] DEPRECATION WARNING: please use MorganGenerator\n",
      "[16:38:01] DEPRECATION WARNING: please use MorganGenerator\n",
      "The attention mask and the pad token id were not set. As a consequence, you may observe unexpected behavior. Please pass your input's `attention_mask` to obtain reliable results.\n",
      "Setting `pad_token_id` to `eos_token_id`:None for open-end generation.\n"
     ]
    },
    {
     "name": "stdout",
     "output_type": "stream",
     "text": [
      "GT: 0.25 Gen: 0.3404255319148936 diff: 0.09 CC(=O)Nc1ccc(C(=O)NN=Cc2cccc([N+](=O)[O-])c2OC(=O)c2cccc(C)c2)cc1 <|begin_of_text|>[SIMILAR]CC(=O)Nc1ccc(C(=O)NN=Cc2cccc([N+](=O)[O-])c2OC(=O)c2cccc(C)c2)cc1 0.25[/SIMILAR][QED]0.10[/QED][WEIGHT]494.22[/WEIGHT][CLOGP]4.81[/CLOGP][FORMULA]C26H30N4O6[/FORMULA][RINGCOUNT]3[/RINGCOUNT][TPSA]136.92[/TPSA][SAS]2.60[/SAS][SMILES]CCCCCCCCC(=O)NN=Cc1ccc(OC(=O)c2ccc3c(c2)CCC(=O)N3)c([N+](=O)[O-])c1[/SMILES]\n"
     ]
    },
    {
     "name": "stderr",
     "output_type": "stream",
     "text": [
      "[16:38:02] DEPRECATION WARNING: please use MorganGenerator\n",
      "[16:38:02] DEPRECATION WARNING: please use MorganGenerator\n",
      "The attention mask and the pad token id were not set. As a consequence, you may observe unexpected behavior. Please pass your input's `attention_mask` to obtain reliable results.\n",
      "Setting `pad_token_id` to `eos_token_id`:None for open-end generation.\n"
     ]
    },
    {
     "name": "stdout",
     "output_type": "stream",
     "text": [
      "GT: 0.3 Gen: 0.30434782608695654 diff: 0.0 CC(=O)Nc1ccc(C(=O)NN=Cc2cccc([N+](=O)[O-])c2OC(=O)c2cccc(C)c2)cc1 <|begin_of_text|>[SIMILAR]CC(=O)Nc1ccc(C(=O)NN=Cc2cccc([N+](=O)[O-])c2OC(=O)c2cccc(C)c2)cc1 0.30[/SIMILAR][QED]0.16[/QED][WEIGHT]494.22[/WEIGHT][FORMULA]C26H30N4O6[/FORMULA][CLOGP]4.95[/CLOGP][TPSA]140.00[/TPSA][RINGCOUNT]3[/RINGCOUNT][SAS]2.47[/SAS][SMILES]CC(=NNC(=O)c1ccc(NC(=O)C2CCCCC2)cc1)c1cc([N+](=O)[O-])ccc1OC(=O)C(C)C[/SMILES]\n"
     ]
    },
    {
     "name": "stderr",
     "output_type": "stream",
     "text": [
      "[16:38:03] WARNING: not removing hydrogen atom without neighbors\n",
      "[16:38:03] DEPRECATION WARNING: please use MorganGenerator\n",
      "[16:38:03] DEPRECATION WARNING: please use MorganGenerator\n",
      "The attention mask and the pad token id were not set. As a consequence, you may observe unexpected behavior. Please pass your input's `attention_mask` to obtain reliable results.\n",
      "Setting `pad_token_id` to `eos_token_id`:None for open-end generation.\n"
     ]
    },
    {
     "name": "stdout",
     "output_type": "stream",
     "text": [
      "GT: 0.35 Gen: 0.3595505617977528 diff: 0.01 CC(=O)Nc1ccc(C(=O)NN=Cc2cccc([N+](=O)[O-])c2OC(=O)c2cccc(C)c2)cc1 <|begin_of_text|>[SIMILAR]CC(=O)Nc1ccc(C(=O)NN=Cc2cccc([N+](=O)[O-])c2OC(=O)c2cccc(C)c2)cc1 0.35[/SIMILAR][QED]0.16[/QED][WEIGHT]494.22[/WEIGHT][CLOGP]4.95[/CLOGP][FORMULA]C26H30N4O6[/FORMULA][RINGCOUNT]3[/RINGCOUNT][TPSA]132.16[/TPSA][SAS]2.47[/SAS][SMILES]CCOc1ccc(C(=O)NN=Cc2cc([N+](=O)[O-])ccc2OCC(=O)Nc2c(C)cc(C)cc2C)cc1.[HH][/SMILES]\n"
     ]
    },
    {
     "name": "stderr",
     "output_type": "stream",
     "text": [
      "[16:38:03] DEPRECATION WARNING: please use MorganGenerator\n",
      "[16:38:03] DEPRECATION WARNING: please use MorganGenerator\n",
      "The attention mask and the pad token id were not set. As a consequence, you may observe unexpected behavior. Please pass your input's `attention_mask` to obtain reliable results.\n",
      "Setting `pad_token_id` to `eos_token_id`:None for open-end generation.\n"
     ]
    },
    {
     "name": "stdout",
     "output_type": "stream",
     "text": [
      "GT: 0.4 Gen: 0.40963855421686746 diff: 0.01 CC(=O)Nc1ccc(C(=O)NN=Cc2cccc([N+](=O)[O-])c2OC(=O)c2cccc(C)c2)cc1 <|begin_of_text|>[SIMILAR]CC(=O)Nc1ccc(C(=O)NN=Cc2cccc([N+](=O)[O-])c2OC(=O)c2cccc(C)c2)cc1 0.40[/SIMILAR][QED]0.21[/QED][WEIGHT]436.14[/WEIGHT][FORMULA]C22H20N4O6[/FORMULA][CLOGP]3.50[/CLOGP][RINGCOUNT]3[/RINGCOUNT][TPSA]136.92[/TPSA][SAS]2.37[/SAS][SMILES]CC(C)C(=O)Nc1ccc(C(=O)NN=Cc2cc([N+](=O)[O-])ccc2OC(=O)C2CC2)cc1[/SMILES]\n"
     ]
    },
    {
     "name": "stderr",
     "output_type": "stream",
     "text": [
      "[16:38:04] DEPRECATION WARNING: please use MorganGenerator\n",
      "[16:38:04] DEPRECATION WARNING: please use MorganGenerator\n",
      "The attention mask and the pad token id were not set. As a consequence, you may observe unexpected behavior. Please pass your input's `attention_mask` to obtain reliable results.\n",
      "Setting `pad_token_id` to `eos_token_id`:None for open-end generation.\n"
     ]
    },
    {
     "name": "stdout",
     "output_type": "stream",
     "text": [
      "GT: 0.45 Gen: 0.37209302325581395 diff: 0.08 CC(=O)Nc1ccc(C(=O)NN=Cc2cccc([N+](=O)[O-])c2OC(=O)c2cccc(C)c2)cc1 <|begin_of_text|>[SIMILAR]CC(=O)Nc1ccc(C(=O)NN=Cc2cccc([N+](=O)[O-])c2OC(=O)c2cccc(C)c2)cc1 0.45[/SIMILAR][QED]0.21[/QED][WEIGHT]448.14[/WEIGHT][FORMULA]C23H20N4O6[/FORMULA][CLOGP]3.77[/CLOGP][RINGCOUNT]3[/RINGCOUNT][TPSA]132.16[/TPSA][SAS]2.25[/SAS][SMILES]COc1ccc(C=NNC(=O)c2ccc([N+](=O)[O-])cc2)cc1COc1ccccc1NC(C)=O[/SMILES]\n"
     ]
    },
    {
     "name": "stderr",
     "output_type": "stream",
     "text": [
      "[16:38:05] DEPRECATION WARNING: please use MorganGenerator\n",
      "[16:38:05] DEPRECATION WARNING: please use MorganGenerator\n",
      "The attention mask and the pad token id were not set. As a consequence, you may observe unexpected behavior. Please pass your input's `attention_mask` to obtain reliable results.\n",
      "Setting `pad_token_id` to `eos_token_id`:None for open-end generation.\n"
     ]
    },
    {
     "name": "stdout",
     "output_type": "stream",
     "text": [
      "GT: 0.5 Gen: 0.37209302325581395 diff: 0.13 CC(=O)Nc1ccc(C(=O)NN=Cc2cccc([N+](=O)[O-])c2OC(=O)c2cccc(C)c2)cc1 <|begin_of_text|>[SIMILAR]CC(=O)Nc1ccc(C(=O)NN=Cc2cccc([N+](=O)[O-])c2OC(=O)c2cccc(C)c2)cc1 0.50[/SIMILAR][QED]0.20[/QED][WEIGHT]448.14[/WEIGHT][FORMULA]C23H20N4O6[/FORMULA][CLOGP]3.77[/CLOGP][RINGCOUNT]3[/RINGCOUNT][SAS]2.26[/SAS][TPSA]132.16[/TPSA][SMILES]COc1ccc(C=NNC(=O)c2ccc([N+](=O)[O-])cc2)cc1COc1ccccc1NC(C)=O[/SMILES]\n"
     ]
    },
    {
     "name": "stderr",
     "output_type": "stream",
     "text": [
      "[16:38:06] DEPRECATION WARNING: please use MorganGenerator\n",
      "[16:38:06] DEPRECATION WARNING: please use MorganGenerator\n",
      "The attention mask and the pad token id were not set. As a consequence, you may observe unexpected behavior. Please pass your input's `attention_mask` to obtain reliable results.\n",
      "Setting `pad_token_id` to `eos_token_id`:None for open-end generation.\n"
     ]
    },
    {
     "name": "stdout",
     "output_type": "stream",
     "text": [
      "GT: 0.55 Gen: 0.5394736842105263 diff: 0.01 CC(=O)Nc1ccc(C(=O)NN=Cc2cccc([N+](=O)[O-])c2OC(=O)c2cccc(C)c2)cc1 <|begin_of_text|>[SIMILAR]CC(=O)Nc1ccc(C(=O)NN=Cc2cccc([N+](=O)[O-])c2OC(=O)c2cccc(C)c2)cc1 0.55[/SIMILAR][RINGCOUNT]3[/RINGCOUNT][TPSA]140.00[/TPSA][CLOGP]3.77[/CLOGP][QED]0.18[/QED][WEIGHT]460.14[/WEIGHT][FORMULA]C24H20N4O6[/FORMULA][SAS]2.26[/SAS][SMILES]CC(=O)Nc1ccc(C(=O)NN=Cc2cc([N+](=O)[O-])ccc2OC(=O)c2ccccc2C)cc1[/SMILES]\n"
     ]
    },
    {
     "name": "stderr",
     "output_type": "stream",
     "text": [
      "[16:38:07] DEPRECATION WARNING: please use MorganGenerator\n",
      "[16:38:07] DEPRECATION WARNING: please use MorganGenerator\n",
      "The attention mask and the pad token id were not set. As a consequence, you may observe unexpected behavior. Please pass your input's `attention_mask` to obtain reliable results.\n",
      "Setting `pad_token_id` to `eos_token_id`:None for open-end generation.\n"
     ]
    },
    {
     "name": "stdout",
     "output_type": "stream",
     "text": [
      "GT: 0.6 Gen: 0.5394736842105263 diff: 0.06 CC(=O)Nc1ccc(C(=O)NN=Cc2cccc([N+](=O)[O-])c2OC(=O)c2cccc(C)c2)cc1 <|begin_of_text|>[SIMILAR]CC(=O)Nc1ccc(C(=O)NN=Cc2cccc([N+](=O)[O-])c2OC(=O)c2cccc(C)c2)cc1 0.60[/SIMILAR][RINGCOUNT]3[/RINGCOUNT][TPSA]140.00[/TPSA][QED]0.18[/QED][WEIGHT]460.14[/WEIGHT][FORMULA]C24H20N4O6[/FORMULA][CLOGP]3.89[/CLOGP][SAS]2.26[/SAS][SMILES]CC(=O)Nc1ccc(C(=O)NN=Cc2cc([N+](=O)[O-])ccc2OC(=O)c2ccccc2C)cc1[/SMILES]\n"
     ]
    },
    {
     "name": "stderr",
     "output_type": "stream",
     "text": [
      "[16:38:07] DEPRECATION WARNING: please use MorganGenerator\n",
      "[16:38:07] DEPRECATION WARNING: please use MorganGenerator\n",
      "The attention mask and the pad token id were not set. As a consequence, you may observe unexpected behavior. Please pass your input's `attention_mask` to obtain reliable results.\n",
      "Setting `pad_token_id` to `eos_token_id`:None for open-end generation.\n"
     ]
    },
    {
     "name": "stdout",
     "output_type": "stream",
     "text": [
      "GT: 0.65 Gen: 0.6617647058823529 diff: 0.01 CC(=O)Nc1ccc(C(=O)NN=Cc2cccc([N+](=O)[O-])c2OC(=O)c2cccc(C)c2)cc1 <|begin_of_text|>[SIMILAR]CC(=O)Nc1ccc(C(=O)NN=Cc2cccc([N+](=O)[O-])c2OC(=O)c2cccc(C)c2)cc1 0.65[/SIMILAR][RINGCOUNT]3[/RINGCOUNT][QED]0.18[/QED][WEIGHT]446.12[/WEIGHT][TPSA]140.00[/TPSA][CLOGP]3.66[/CLOGP][SAS]2.22[/SAS][FORMULA]C23H18N4O6[/FORMULA][SMILES]CC(=O)Nc1ccc(C(=O)NN=Cc2ccccc2OC(=O)c2cccc([N+](=O)[O-])c2)cc1[/SMILES]\n"
     ]
    },
    {
     "name": "stderr",
     "output_type": "stream",
     "text": [
      "[16:38:08] DEPRECATION WARNING: please use MorganGenerator\n",
      "[16:38:08] DEPRECATION WARNING: please use MorganGenerator\n",
      "The attention mask and the pad token id were not set. As a consequence, you may observe unexpected behavior. Please pass your input's `attention_mask` to obtain reliable results.\n",
      "Setting `pad_token_id` to `eos_token_id`:None for open-end generation.\n"
     ]
    },
    {
     "name": "stdout",
     "output_type": "stream",
     "text": [
      "GT: 0.7 Gen: 0.8360655737704918 diff: 0.14 CC(=O)Nc1ccc(C(=O)NN=Cc2cccc([N+](=O)[O-])c2OC(=O)c2cccc(C)c2)cc1 <|begin_of_text|>[SIMILAR]CC(=O)Nc1ccc(C(=O)NN=Cc2cccc([N+](=O)[O-])c2OC(=O)c2cccc(C)c2)cc1 0.70[/SIMILAR][RINGCOUNT]3[/RINGCOUNT][QED]0.18[/QED][WEIGHT]446.12[/WEIGHT][FORMULA]C23H18N4O6[/FORMULA][SAS]2.25[/SAS][CLOGP]3.66[/CLOGP][TPSA]140.00[/TPSA][SMILES]CC(=O)Nc1ccc(C(=O)NN=Cc2cccc([N+](=O)[O-])c2OC(=O)c2ccccc2)cc1[/SMILES]\n"
     ]
    },
    {
     "name": "stderr",
     "output_type": "stream",
     "text": [
      "[16:38:09] DEPRECATION WARNING: please use MorganGenerator\n",
      "[16:38:09] DEPRECATION WARNING: please use MorganGenerator\n",
      "The attention mask and the pad token id were not set. As a consequence, you may observe unexpected behavior. Please pass your input's `attention_mask` to obtain reliable results.\n",
      "Setting `pad_token_id` to `eos_token_id`:None for open-end generation.\n"
     ]
    },
    {
     "name": "stdout",
     "output_type": "stream",
     "text": [
      "GT: 0.75 Gen: 0.8524590163934426 diff: 0.1 CC(=O)Nc1ccc(C(=O)NN=Cc2cccc([N+](=O)[O-])c2OC(=O)c2cccc(C)c2)cc1 <|begin_of_text|>[SIMILAR]CC(=O)Nc1ccc(C(=O)NN=Cc2cccc([N+](=O)[O-])c2OC(=O)c2cccc(C)c2)cc1 0.75[/SIMILAR][QED]0.18[/QED][WEIGHT]460.14[/WEIGHT][FORMULA]C24H20N4O6[/FORMULA][RINGCOUNT]3[/RINGCOUNT][CLOGP]3.96[/CLOGP][TPSA]140.00[/TPSA][SAS]2.31[/SAS][SMILES]CC(=O)Nc1ccc(C(=O)NN=Cc2cccc([N+](=O)[O-])c2OC(=O)c2ccc(C)cc2)cc1[/SMILES]\n"
     ]
    },
    {
     "name": "stderr",
     "output_type": "stream",
     "text": [
      "[16:38:10] DEPRECATION WARNING: please use MorganGenerator\n",
      "[16:38:10] DEPRECATION WARNING: please use MorganGenerator\n",
      "The attention mask and the pad token id were not set. As a consequence, you may observe unexpected behavior. Please pass your input's `attention_mask` to obtain reliable results.\n",
      "Setting `pad_token_id` to `eos_token_id`:None for open-end generation.\n"
     ]
    },
    {
     "name": "stdout",
     "output_type": "stream",
     "text": [
      "GT: 0.8 Gen: 0.8524590163934426 diff: 0.05 CC(=O)Nc1ccc(C(=O)NN=Cc2cccc([N+](=O)[O-])c2OC(=O)c2cccc(C)c2)cc1 <|begin_of_text|>[SIMILAR]CC(=O)Nc1ccc(C(=O)NN=Cc2cccc([N+](=O)[O-])c2OC(=O)c2cccc(C)c2)cc1 0.80[/SIMILAR][QED]0.18[/QED][WEIGHT]460.14[/WEIGHT][FORMULA]C24H20N4O6[/FORMULA][SAS]2.31[/SAS][RINGCOUNT]3[/RINGCOUNT][CLOGP]3.96[/CLOGP][TPSA]140.00[/TPSA][SMILES]CC(=O)Nc1ccc(C(=O)NN=Cc2cccc([N+](=O)[O-])c2OC(=O)c2ccc(C)cc2)cc1[/SMILES]\n"
     ]
    },
    {
     "name": "stderr",
     "output_type": "stream",
     "text": [
      "[16:38:11] DEPRECATION WARNING: please use MorganGenerator\n",
      "[16:38:11] DEPRECATION WARNING: please use MorganGenerator\n",
      "The attention mask and the pad token id were not set. As a consequence, you may observe unexpected behavior. Please pass your input's `attention_mask` to obtain reliable results.\n",
      "Setting `pad_token_id` to `eos_token_id`:None for open-end generation.\n"
     ]
    },
    {
     "name": "stdout",
     "output_type": "stream",
     "text": [
      "GT: 0.85 Gen: 1.0 diff: 0.15 CC(=O)Nc1ccc(C(=O)NN=Cc2cccc([N+](=O)[O-])c2OC(=O)c2cccc(C)c2)cc1 <|begin_of_text|>[SIMILAR]CC(=O)Nc1ccc(C(=O)NN=Cc2cccc([N+](=O)[O-])c2OC(=O)c2cccc(C)c2)cc1 0.85[/SIMILAR][QED]0.18[/QED][WEIGHT]460.14[/WEIGHT][FORMULA]C24H20N4O6[/FORMULA][RINGCOUNT]3[/RINGCOUNT][TPSA]140.00[/TPSA][CLOGP]3.96[/CLOGP][SAS]2.31[/SAS][SMILES]CC(=O)Nc1ccc(C(=O)NN=Cc2cccc([N+](=O)[O-])c2OC(=O)c2cccc(C)c2)cc1[/SMILES]\n"
     ]
    },
    {
     "name": "stderr",
     "output_type": "stream",
     "text": [
      "[16:38:12] DEPRECATION WARNING: please use MorganGenerator\n",
      "[16:38:12] DEPRECATION WARNING: please use MorganGenerator\n",
      "The attention mask and the pad token id were not set. As a consequence, you may observe unexpected behavior. Please pass your input's `attention_mask` to obtain reliable results.\n",
      "Setting `pad_token_id` to `eos_token_id`:None for open-end generation.\n"
     ]
    },
    {
     "name": "stdout",
     "output_type": "stream",
     "text": [
      "GT: 0.9 Gen: 1.0 diff: 0.1 CC(=O)Nc1ccc(C(=O)NN=Cc2cccc([N+](=O)[O-])c2OC(=O)c2cccc(C)c2)cc1 <|begin_of_text|>[SIMILAR]CC(=O)Nc1ccc(C(=O)NN=Cc2cccc([N+](=O)[O-])c2OC(=O)c2cccc(C)c2)cc1 0.90[/SIMILAR][QED]0.18[/QED][WEIGHT]460.14[/WEIGHT][FORMULA]C24H20N4O6[/FORMULA][RINGCOUNT]3[/RINGCOUNT][TPSA]140.00[/TPSA][CLOGP]3.95[/CLOGP][SAS]2.31[/SAS][SMILES]CC(=O)Nc1ccc(C(=O)NN=Cc2cccc([N+](=O)[O-])c2OC(=O)c2cccc(C)c2)cc1[/SMILES]\n"
     ]
    },
    {
     "name": "stderr",
     "output_type": "stream",
     "text": [
      "[16:38:12] DEPRECATION WARNING: please use MorganGenerator\n",
      "[16:38:12] DEPRECATION WARNING: please use MorganGenerator\n",
      "The attention mask and the pad token id were not set. As a consequence, you may observe unexpected behavior. Please pass your input's `attention_mask` to obtain reliable results.\n",
      "Setting `pad_token_id` to `eos_token_id`:None for open-end generation.\n"
     ]
    },
    {
     "name": "stdout",
     "output_type": "stream",
     "text": [
      "GT: 0.95 Gen: 1.0 diff: 0.05 CC(=O)Nc1ccc(C(=O)NN=Cc2cccc([N+](=O)[O-])c2OC(=O)c2cccc(C)c2)cc1 <|begin_of_text|>[SIMILAR]CC(=O)Nc1ccc(C(=O)NN=Cc2cccc([N+](=O)[O-])c2OC(=O)c2cccc(C)c2)cc1 0.95[/SIMILAR][CLOGP]3.96[/CLOGP][SAS]2.32[/SAS][FORMULA]C24H20N4O6[/FORMULA][WEIGHT]460.14[/WEIGHT][RINGCOUNT]3[/RINGCOUNT][TPSA]140.00[/TPSA][SMILES]CC(=O)Nc1ccc(C(=O)NN=Cc2cccc([N+](=O)[O-])c2OC(=O)c2cccc(C)c2)cc1[/SMILES]\n"
     ]
    },
    {
     "name": "stderr",
     "output_type": "stream",
     "text": [
      "[16:38:13] DEPRECATION WARNING: please use MorganGenerator\n",
      "[16:38:13] DEPRECATION WARNING: please use MorganGenerator\n",
      "The attention mask and the pad token id were not set. As a consequence, you may observe unexpected behavior. Please pass your input's `attention_mask` to obtain reliable results.\n",
      "Setting `pad_token_id` to `eos_token_id`:None for open-end generation.\n"
     ]
    },
    {
     "name": "stdout",
     "output_type": "stream",
     "text": [
      "GT: 1.0 Gen: 1.0 diff: 0.0 CC(=O)Nc1ccc(C(=O)NN=Cc2cccc([N+](=O)[O-])c2OC(=O)c2cccc(C)c2)cc1 <|begin_of_text|>[SIMILAR]CC(=O)Nc1ccc(C(=O)NN=Cc2cccc([N+](=O)[O-])c2OC(=O)c2cccc(C)c2)cc1 1.00[/SIMILAR][QED]0.18[/QED][WEIGHT]460.14[/WEIGHT][SAS]2.32[/SAS][CLOGP]3.73[/CLOGP][FORMULA]C24H20N4O6[/FORMULA][SMILES]CC(=O)Nc1ccc(C(=O)NN=Cc2cccc([N+](=O)[O-])c2OC(=O)c2cccc(C)c2)cc1[/SMILES]\n"
     ]
    },
    {
     "name": "stderr",
     "output_type": "stream",
     "text": [
      "[16:38:14] WARNING: not removing hydrogen atom without neighbors\n",
      "[16:38:14] DEPRECATION WARNING: please use MorganGenerator\n",
      "[16:38:14] DEPRECATION WARNING: please use MorganGenerator\n",
      "The attention mask and the pad token id were not set. As a consequence, you may observe unexpected behavior. Please pass your input's `attention_mask` to obtain reliable results.\n",
      "Setting `pad_token_id` to `eos_token_id`:None for open-end generation.\n"
     ]
    },
    {
     "name": "stdout",
     "output_type": "stream",
     "text": [
      "GT: 0.2 Gen: 0.2608695652173913 diff: 0.06 CCNC(=NCC(C)Cc1cccs1)NC1CCN(c2ncccc2F)C1 <|begin_of_text|>[SIMILAR]CCNC(=NCC(C)Cc1cccs1)NC1CCN(c2ncccc2F)C1 0.20[/SIMILAR][TPSA]52.55[/TPSA][SAS]3.16[/SAS][WEIGHT]373.23[/WEIGHT][FORMULA]C20H31N5S[/FORMULA][RINGCOUNT]2[/RINGCOUNT][QED]0.55[/QED][CLOGP]3.67[/CLOGP][SMILES]CCNC(=NCc1ccnc(N(C)C)c1)NCC(C)(C)c1cccs1.[HH][/SMILES]\n"
     ]
    },
    {
     "name": "stderr",
     "output_type": "stream",
     "text": [
      "[16:38:14] DEPRECATION WARNING: please use MorganGenerator\n",
      "[16:38:14] DEPRECATION WARNING: please use MorganGenerator\n",
      "The attention mask and the pad token id were not set. As a consequence, you may observe unexpected behavior. Please pass your input's `attention_mask` to obtain reliable results.\n",
      "Setting `pad_token_id` to `eos_token_id`:None for open-end generation.\n"
     ]
    },
    {
     "name": "stdout",
     "output_type": "stream",
     "text": [
      "GT: 0.25 Gen: 0.24468085106382978 diff: 0.01 CCNC(=NCC(C)Cc1cccs1)NC1CCN(c2ncccc2F)C1 <|begin_of_text|>[SIMILAR]CCNC(=NCC(C)Cc1cccs1)NC1CCN(c2ncccc2F)C1 0.25[/SIMILAR][TPSA]52.55[/TPSA][SAS]3.16[/SAS][WEIGHT]357.20[/WEIGHT][FORMULA]C19H27N5S[/FORMULA][RINGCOUNT]3[/RINGCOUNT][QED]0.64[/QED][CLOGP]3.12[/CLOGP][SMILES]CN=C(NCc1ccnc(N2CCCC2)c1)NCC(C)c1ccsc1[/SMILES]\n"
     ]
    },
    {
     "name": "stderr",
     "output_type": "stream",
     "text": [
      "[16:38:15] DEPRECATION WARNING: please use MorganGenerator\n",
      "[16:38:15] DEPRECATION WARNING: please use MorganGenerator\n",
      "The attention mask and the pad token id were not set. As a consequence, you may observe unexpected behavior. Please pass your input's `attention_mask` to obtain reliable results.\n",
      "Setting `pad_token_id` to `eos_token_id`:None for open-end generation.\n"
     ]
    },
    {
     "name": "stdout",
     "output_type": "stream",
     "text": [
      "GT: 0.3 Gen: 0.2967032967032967 diff: 0.0 CCNC(=NCC(C)Cc1cccs1)NC1CCN(c2ncccc2F)C1 <|begin_of_text|>[SIMILAR]CCNC(=NCC(C)Cc1cccs1)NC1CCN(c2ncccc2F)C1 0.30[/SIMILAR][TPSA]52.55[/TPSA][SAS]3.23[/SAS][WEIGHT]357.20[/WEIGHT][FORMULA]C19H27N5S[/FORMULA][RINGCOUNT]3[/RINGCOUNT][CLOGP]3.01[/CLOGP][QED]0.62[/QED][SMILES]CCNC(=NCc1ccnc(N2CCCC2)c1)NCC(C)c1ccsc1[/SMILES]\n"
     ]
    },
    {
     "name": "stderr",
     "output_type": "stream",
     "text": [
      "[16:38:16] DEPRECATION WARNING: please use MorganGenerator\n",
      "[16:38:16] DEPRECATION WARNING: please use MorganGenerator\n",
      "The attention mask and the pad token id were not set. As a consequence, you may observe unexpected behavior. Please pass your input's `attention_mask` to obtain reliable results.\n",
      "Setting `pad_token_id` to `eos_token_id`:None for open-end generation.\n"
     ]
    },
    {
     "name": "stdout",
     "output_type": "stream",
     "text": [
      "GT: 0.35 Gen: 0.3563218390804598 diff: 0.01 CCNC(=NCC(C)Cc1cccs1)NC1CCN(c2ncccc2F)C1 <|begin_of_text|>[SIMILAR]CCNC(=NCC(C)Cc1cccs1)NC1CCN(c2ncccc2F)C1 0.35[/SIMILAR][TPSA]52.55[/TPSA][SAS]3.23[/SAS][WEIGHT]357.20[/WEIGHT][FORMULA]C19H27N5S[/FORMULA][RINGCOUNT]3[/RINGCOUNT][CLOGP]3.01[/CLOGP][QED]0.62[/QED][SMILES]CCNC(=NCc1ccnc(N2CCCC2)c1)NCC(C)c1cccs1[/SMILES]\n"
     ]
    },
    {
     "name": "stderr",
     "output_type": "stream",
     "text": [
      "[16:38:16] DEPRECATION WARNING: please use MorganGenerator\n",
      "[16:38:16] DEPRECATION WARNING: please use MorganGenerator\n",
      "The attention mask and the pad token id were not set. As a consequence, you may observe unexpected behavior. Please pass your input's `attention_mask` to obtain reliable results.\n",
      "Setting `pad_token_id` to `eos_token_id`:None for open-end generation.\n"
     ]
    },
    {
     "name": "stdout",
     "output_type": "stream",
     "text": [
      "GT: 0.4 Gen: 0.3563218390804598 diff: 0.04 CCNC(=NCC(C)Cc1cccs1)NC1CCN(c2ncccc2F)C1 <|begin_of_text|>[SIMILAR]CCNC(=NCC(C)Cc1cccs1)NC1CCN(c2ncccc2F)C1 0.40[/SIMILAR][TPSA]52.55[/TPSA][SAS]3.23[/SAS][FORMULA]C19H27N5S[/FORMULA][WEIGHT]357.20[/WEIGHT][RINGCOUNT]3[/RINGCOUNT][CLOGP]2.92[/CLOGP][QED]0.62[/QED][SMILES]CCNC(=NCc1ccnc(N2CCCC2)c1)NCC(C)c1cccs1[/SMILES]\n"
     ]
    },
    {
     "name": "stderr",
     "output_type": "stream",
     "text": [
      "[16:38:17] DEPRECATION WARNING: please use MorganGenerator\n",
      "[16:38:17] DEPRECATION WARNING: please use MorganGenerator\n",
      "The attention mask and the pad token id were not set. As a consequence, you may observe unexpected behavior. Please pass your input's `attention_mask` to obtain reliable results.\n",
      "Setting `pad_token_id` to `eos_token_id`:None for open-end generation.\n"
     ]
    },
    {
     "name": "stdout",
     "output_type": "stream",
     "text": [
      "GT: 0.45 Gen: 0.3563218390804598 diff: 0.09 CCNC(=NCC(C)Cc1cccs1)NC1CCN(c2ncccc2F)C1 <|begin_of_text|>[SIMILAR]CCNC(=NCC(C)Cc1cccs1)NC1CCN(c2ncccc2F)C1 0.45[/SIMILAR][TPSA]52.55[/TPSA][SAS]3.23[/SAS][WEIGHT]371.21[/WEIGHT][CLOGP]3.36[/CLOGP][FORMULA]C20H29N5S[/FORMULA][RINGCOUNT]3[/RINGCOUNT][QED]0.61[/QED][SMILES]CCNC(=NCc1ccnc(N2CCCC2)c1)NCC(C)c1cccs1[/SMILES]\n"
     ]
    },
    {
     "name": "stderr",
     "output_type": "stream",
     "text": [
      "[16:38:17] DEPRECATION WARNING: please use MorganGenerator\n",
      "[16:38:17] DEPRECATION WARNING: please use MorganGenerator\n",
      "The attention mask and the pad token id were not set. As a consequence, you may observe unexpected behavior. Please pass your input's `attention_mask` to obtain reliable results.\n",
      "Setting `pad_token_id` to `eos_token_id`:None for open-end generation.\n"
     ]
    },
    {
     "name": "stdout",
     "output_type": "stream",
     "text": [
      "GT: 0.5 Gen: 0.5189873417721519 diff: 0.02 CCNC(=NCC(C)Cc1cccs1)NC1CCN(c2ncccc2F)C1 <|begin_of_text|>[SIMILAR]CCNC(=NCC(C)Cc1cccs1)NC1CCN(c2ncccc2F)C1 0.50[/SIMILAR][TPSA]52.55[/TPSA][SAS]3.23[/SAS][FORMULA]C19H27N5S[/FORMULA][RINGCOUNT]3[/RINGCOUNT][WEIGHT]357.20[/WEIGHT][CLOGP]2.92[/CLOGP][QED]0.62[/QED][SMILES]CCNC(=NCCc1cccs1)NC1CCN(c2cccc(C)n2)C1[/SMILES]\n"
     ]
    },
    {
     "name": "stderr",
     "output_type": "stream",
     "text": [
      "[16:38:18] DEPRECATION WARNING: please use MorganGenerator\n",
      "[16:38:18] DEPRECATION WARNING: please use MorganGenerator\n",
      "The attention mask and the pad token id were not set. As a consequence, you may observe unexpected behavior. Please pass your input's `attention_mask` to obtain reliable results.\n",
      "Setting `pad_token_id` to `eos_token_id`:None for open-end generation.\n"
     ]
    },
    {
     "name": "stdout",
     "output_type": "stream",
     "text": [
      "GT: 0.55 Gen: 0.5189873417721519 diff: 0.03 CCNC(=NCC(C)Cc1cccs1)NC1CCN(c2ncccc2F)C1 <|begin_of_text|>[SIMILAR]CCNC(=NCC(C)Cc1cccs1)NC1CCN(c2ncccc2F)C1 0.55[/SIMILAR][TPSA]52.55[/TPSA][SAS]3.23[/SAS][FORMULA]C19H27N5S[/FORMULA][RINGCOUNT]3[/RINGCOUNT][WEIGHT]357.20[/WEIGHT][CLOGP]2.92[/CLOGP][QED]0.62[/QED][SMILES]CCNC(=NCCc1cccs1)NC1CCN(c2cccc(C)n2)C1[/SMILES]\n"
     ]
    },
    {
     "name": "stderr",
     "output_type": "stream",
     "text": [
      "[16:38:19] DEPRECATION WARNING: please use MorganGenerator\n",
      "[16:38:19] DEPRECATION WARNING: please use MorganGenerator\n",
      "The attention mask and the pad token id were not set. As a consequence, you may observe unexpected behavior. Please pass your input's `attention_mask` to obtain reliable results.\n",
      "Setting `pad_token_id` to `eos_token_id`:None for open-end generation.\n"
     ]
    },
    {
     "name": "stdout",
     "output_type": "stream",
     "text": [
      "GT: 0.6 Gen: 0.6575342465753424 diff: 0.06 CCNC(=NCC(C)Cc1cccs1)NC1CCN(c2ncccc2F)C1 <|begin_of_text|>[SIMILAR]CCNC(=NCC(C)Cc1cccs1)NC1CCN(c2ncccc2F)C1 0.60[/SIMILAR][TPSA]52.55[/TPSA][SAS]3.23[/SAS][FORMULA]C19H27N5S[/FORMULA][RINGCOUNT]3[/RINGCOUNT][WEIGHT]357.20[/WEIGHT][CLOGP]2.92[/CLOGP][QED]0.62[/QED][SMILES]CCNC(=NCCc1cccs1)NC1CCN(c2ncccc2C)C1[/SMILES]\n"
     ]
    },
    {
     "name": "stderr",
     "output_type": "stream",
     "text": [
      "[16:38:19] DEPRECATION WARNING: please use MorganGenerator\n",
      "[16:38:19] DEPRECATION WARNING: please use MorganGenerator\n",
      "The attention mask and the pad token id were not set. As a consequence, you may observe unexpected behavior. Please pass your input's `attention_mask` to obtain reliable results.\n",
      "Setting `pad_token_id` to `eos_token_id`:None for open-end generation.\n"
     ]
    },
    {
     "name": "stdout",
     "output_type": "stream",
     "text": [
      "GT: 0.65 Gen: 0.7605633802816901 diff: 0.11 CCNC(=NCC(C)Cc1cccs1)NC1CCN(c2ncccc2F)C1 <|begin_of_text|>[SIMILAR]CCNC(=NCC(C)Cc1cccs1)NC1CCN(c2ncccc2F)C1 0.65[/SIMILAR][TPSA]52.55[/TPSA][SAS]3.58[/SAS][FORMULA]C19H27FIN5S[/FORMULA][WEIGHT]503.10[/WEIGHT][CLOGP]3.79[/CLOGP][QED]0.36[/QED][RINGCOUNT]3[/RINGCOUNT][SMILES]CCNC(=NCC(C)c1cccs1)NC1CCN(c2ncccc2F)C1.I[/SMILES]\n"
     ]
    },
    {
     "name": "stderr",
     "output_type": "stream",
     "text": [
      "[16:38:20] DEPRECATION WARNING: please use MorganGenerator\n",
      "[16:38:20] DEPRECATION WARNING: please use MorganGenerator\n",
      "The attention mask and the pad token id were not set. As a consequence, you may observe unexpected behavior. Please pass your input's `attention_mask` to obtain reliable results.\n",
      "Setting `pad_token_id` to `eos_token_id`:None for open-end generation.\n"
     ]
    },
    {
     "name": "stdout",
     "output_type": "stream",
     "text": [
      "GT: 0.7 Gen: 0.7605633802816901 diff: 0.06 CCNC(=NCC(C)Cc1cccs1)NC1CCN(c2ncccc2F)C1 <|begin_of_text|>[SIMILAR]CCNC(=NCC(C)Cc1cccs1)NC1CCN(c2ncccc2F)C1 0.70[/SIMILAR][TPSA]52.55[/TPSA][SAS]3.58[/SAS][FORMULA]C19H27FIN5S[/FORMULA][WEIGHT]503.10[/WEIGHT][CLOGP]3.79[/CLOGP][QED]0.35[/QED][RINGCOUNT]3[/RINGCOUNT][SMILES]CCNC(=NCC(C)c1cccs1)NC1CCN(c2ncccc2F)C1.I[/SMILES]\n"
     ]
    },
    {
     "name": "stderr",
     "output_type": "stream",
     "text": [
      "[16:38:21] DEPRECATION WARNING: please use MorganGenerator\n",
      "[16:38:21] DEPRECATION WARNING: please use MorganGenerator\n",
      "The attention mask and the pad token id were not set. As a consequence, you may observe unexpected behavior. Please pass your input's `attention_mask` to obtain reliable results.\n",
      "Setting `pad_token_id` to `eos_token_id`:None for open-end generation.\n"
     ]
    },
    {
     "name": "stdout",
     "output_type": "stream",
     "text": [
      "GT: 0.75 Gen: 0.6666666666666666 diff: 0.08 CCNC(=NCC(C)Cc1cccs1)NC1CCN(c2ncccc2F)C1 <|begin_of_text|>[SIMILAR]CCNC(=NCC(C)Cc1cccs1)NC1CCN(c2ncccc2F)C1 0.75[/SIMILAR][TPSA]52.55[/TPSA][SAS]3.63[/SAS][WEIGHT]501.14[/WEIGHT][CLOGP]4.16[/CLOGP][FORMULA]C21H32IN5S[/FORMULA][RINGCOUNT]3[/RINGCOUNT][QED]0.33[/QED][SMILES]CCNC(=NCC(C)Cc1cccs1)NC1CCN(c2cccc(C)n2)C1.I[/SMILES]\n"
     ]
    },
    {
     "name": "stderr",
     "output_type": "stream",
     "text": [
      "[16:38:21] DEPRECATION WARNING: please use MorganGenerator\n",
      "[16:38:21] DEPRECATION WARNING: please use MorganGenerator\n",
      "The attention mask and the pad token id were not set. As a consequence, you may observe unexpected behavior. Please pass your input's `attention_mask` to obtain reliable results.\n",
      "Setting `pad_token_id` to `eos_token_id`:None for open-end generation.\n"
     ]
    },
    {
     "name": "stdout",
     "output_type": "stream",
     "text": [
      "GT: 0.8 Gen: 0.984375 diff: 0.18 CCNC(=NCC(C)Cc1cccs1)NC1CCN(c2ncccc2F)C1 <|begin_of_text|>[SIMILAR]CCNC(=NCC(C)Cc1cccs1)NC1CCN(c2ncccc2F)C1 0.80[/SIMILAR][TPSA]52.55[/TPSA][SAS]3.65[/SAS][CLOGP]3.77[/CLOGP][FORMULA]C20H29FIN5S[/FORMULA][RINGCOUNT]3[/RINGCOUNT][WEIGHT]517.12[/WEIGHT][QED]0.33[/QED][SMILES]CCNC(=NCC(C)Cc1cccs1)NC1CCN(c2ncccc2F)C1.I[/SMILES]\n"
     ]
    },
    {
     "name": "stderr",
     "output_type": "stream",
     "text": [
      "[16:38:22] DEPRECATION WARNING: please use MorganGenerator\n",
      "[16:38:22] DEPRECATION WARNING: please use MorganGenerator\n",
      "The attention mask and the pad token id were not set. As a consequence, you may observe unexpected behavior. Please pass your input's `attention_mask` to obtain reliable results.\n",
      "Setting `pad_token_id` to `eos_token_id`:None for open-end generation.\n"
     ]
    },
    {
     "name": "stdout",
     "output_type": "stream",
     "text": [
      "GT: 0.85 Gen: 0.984375 diff: 0.13 CCNC(=NCC(C)Cc1cccs1)NC1CCN(c2ncccc2F)C1 <|begin_of_text|>[SIMILAR]CCNC(=NCC(C)Cc1cccs1)NC1CCN(c2ncccc2F)C1 0.85[/SIMILAR][CLOGP]3.57[/CLOGP][TPSA]52.55[/TPSA][SAS]3.66[/SAS][FORMULA]C20H29FIN5S[/FORMULA][WEIGHT]517.12[/WEIGHT][RINGCOUNT]3[/RINGCOUNT][QED]0.33[/QED][SMILES]CCNC(=NCC(C)Cc1cccs1)NC1CCN(c2ncccc2F)C1.I[/SMILES]\n"
     ]
    },
    {
     "name": "stderr",
     "output_type": "stream",
     "text": [
      "[16:38:22] DEPRECATION WARNING: please use MorganGenerator\n",
      "[16:38:22] DEPRECATION WARNING: please use MorganGenerator\n",
      "The attention mask and the pad token id were not set. As a consequence, you may observe unexpected behavior. Please pass your input's `attention_mask` to obtain reliable results.\n",
      "Setting `pad_token_id` to `eos_token_id`:None for open-end generation.\n"
     ]
    },
    {
     "name": "stdout",
     "output_type": "stream",
     "text": [
      "GT: 0.9 Gen: 1.0 diff: 0.1 CCNC(=NCC(C)Cc1cccs1)NC1CCN(c2ncccc2F)C1 <|begin_of_text|>[SIMILAR]CCNC(=NCC(C)Cc1cccs1)NC1CCN(c2ncccc2F)C1 0.90[/SIMILAR][CLOGP]3.57[/CLOGP][SAS]3.66[/SAS][FORMULA]C20H28FN5S[/FORMULA][RINGCOUNT]3[/RINGCOUNT][TPSA]52.55[/TPSA][WEIGHT]389.20[/WEIGHT][SMILES]CCNC(=NCC(C)Cc1cccs1)NC1CCN(c2ncccc2F)C1[/SMILES]\n"
     ]
    },
    {
     "name": "stderr",
     "output_type": "stream",
     "text": [
      "[16:38:23] DEPRECATION WARNING: please use MorganGenerator\n",
      "[16:38:23] DEPRECATION WARNING: please use MorganGenerator\n",
      "The attention mask and the pad token id were not set. As a consequence, you may observe unexpected behavior. Please pass your input's `attention_mask` to obtain reliable results.\n",
      "Setting `pad_token_id` to `eos_token_id`:None for open-end generation.\n"
     ]
    },
    {
     "name": "stdout",
     "output_type": "stream",
     "text": [
      "GT: 0.95 Gen: 0.984375 diff: 0.03 CCNC(=NCC(C)Cc1cccs1)NC1CCN(c2ncccc2F)C1 <|begin_of_text|>[SIMILAR]CCNC(=NCC(C)Cc1cccs1)NC1CCN(c2ncccc2F)C1 0.95[/SIMILAR][CLOGP]3.77[/CLOGP][FORMULA]C20H29FIN5S[/FORMULA][SAS]3.72[/SAS][TPSA]52.55[/TPSA][RINGCOUNT]3[/RINGCOUNT][SMILES]CCNC(=NCC(C)Cc1cccs1)NC1CCN(c2ncccc2F)C1.I[/SMILES]\n"
     ]
    },
    {
     "name": "stderr",
     "output_type": "stream",
     "text": [
      "[16:38:24] DEPRECATION WARNING: please use MorganGenerator\n",
      "[16:38:24] DEPRECATION WARNING: please use MorganGenerator\n",
      "The attention mask and the pad token id were not set. As a consequence, you may observe unexpected behavior. Please pass your input's `attention_mask` to obtain reliable results.\n",
      "Setting `pad_token_id` to `eos_token_id`:None for open-end generation.\n"
     ]
    },
    {
     "name": "stdout",
     "output_type": "stream",
     "text": [
      "GT: 1.0 Gen: 1.0 diff: 0.0 CCNC(=NCC(C)Cc1cccs1)NC1CCN(c2ncccc2F)C1 <|begin_of_text|>[SIMILAR]CCNC(=NCC(C)Cc1cccs1)NC1CCN(c2ncccc2F)C1 1.00[/SIMILAR][CLOGP]3.36[/CLOGP][SAS]3.64[/SAS][FORMULA]C20H28FN5S[/FORMULA][TPSA]52.55[/TPSA][RINGCOUNT]3[/RINGCOUNT][WEIGHT]389.20[/WEIGHT][SMILES]CCNC(=NCC(C)Cc1cccs1)NC1CCN(c2ncccc2F)C1[/SMILES]\n"
     ]
    },
    {
     "name": "stderr",
     "output_type": "stream",
     "text": [
      "[16:38:24] DEPRECATION WARNING: please use MorganGenerator\n",
      "[16:38:24] DEPRECATION WARNING: please use MorganGenerator\n",
      "The attention mask and the pad token id were not set. As a consequence, you may observe unexpected behavior. Please pass your input's `attention_mask` to obtain reliable results.\n",
      "Setting `pad_token_id` to `eos_token_id`:None for open-end generation.\n"
     ]
    },
    {
     "name": "stdout",
     "output_type": "stream",
     "text": [
      "GT: 0.2 Gen: 0.21621621621621623 diff: 0.02 CCOC(=O)C1C(C)NNC1S(=O)(=O)Nc1cccc(CC)c1 <|begin_of_text|>[SIMILAR]CCOC(=O)C1C(C)NNC1S(=O)(=O)Nc1cccc(CC)c1 0.20[/SIMILAR][RINGCOUNT]2[/RINGCOUNT][FORMULA]C13H19N3O4S[/FORMULA][TPSA]101.73[/TPSA][WEIGHT]313.11[/WEIGHT][CLOGP]0.15[/CLOGP][QED]0.78[/QED][SAS]2.96[/SAS][SMILES]COC(=O)C1CCN(S(=O)(=O)NC(C)c2ccccc2)N1[/SMILES]\n"
     ]
    },
    {
     "name": "stderr",
     "output_type": "stream",
     "text": [
      "[16:38:25] DEPRECATION WARNING: please use MorganGenerator\n",
      "[16:38:25] DEPRECATION WARNING: please use MorganGenerator\n",
      "The attention mask and the pad token id were not set. As a consequence, you may observe unexpected behavior. Please pass your input's `attention_mask` to obtain reliable results.\n",
      "Setting `pad_token_id` to `eos_token_id`:None for open-end generation.\n"
     ]
    },
    {
     "name": "stdout",
     "output_type": "stream",
     "text": [
      "GT: 0.25 Gen: 0.18421052631578946 diff: 0.07 CCOC(=O)C1C(C)NNC1S(=O)(=O)Nc1cccc(CC)c1 <|begin_of_text|>[SIMILAR]CCOC(=O)C1C(C)NNC1S(=O)(=O)Nc1cccc(CC)c1 0.25[/SIMILAR][RINGCOUNT]2[/RINGCOUNT][FORMULA]C14H21N3O4S[/FORMULA][TPSA]87.74[/TPSA][QED]0.79[/QED][CLOGP]0.45[/CLOGP][WEIGHT]327.13[/WEIGHT][SAS]2.81[/SAS][SMILES]COC(=O)C1CCN(S(=O)(=O)NC(C)c2ccccc2)C1.N[/SMILES]\n"
     ]
    },
    {
     "name": "stderr",
     "output_type": "stream",
     "text": [
      "[16:38:26] DEPRECATION WARNING: please use MorganGenerator\n",
      "[16:38:26] DEPRECATION WARNING: please use MorganGenerator\n",
      "The attention mask and the pad token id were not set. As a consequence, you may observe unexpected behavior. Please pass your input's `attention_mask` to obtain reliable results.\n",
      "Setting `pad_token_id` to `eos_token_id`:None for open-end generation.\n"
     ]
    },
    {
     "name": "stdout",
     "output_type": "stream",
     "text": [
      "GT: 0.3 Gen: 0.5 diff: 0.2 CCOC(=O)C1C(C)NNC1S(=O)(=O)Nc1cccc(CC)c1 <|begin_of_text|>[SIMILAR]CCOC(=O)C1C(C)NNC1S(=O)(=O)Nc1cccc(CC)c1 0.30[/SIMILAR][RINGCOUNT]2[/RINGCOUNT][FORMULA]C14H21N3O4S[/FORMULA][CLOGP]0.50[/CLOGP][TPSA]96.53[/TPSA][QED]0.67[/QED][SAS]3.07[/SAS][WEIGHT]327.13[/WEIGHT][SMILES]CCOC(=O)C1CNNC1S(=O)(=O)Nc1ccc(CC)cc1[/SMILES]\n"
     ]
    },
    {
     "name": "stderr",
     "output_type": "stream",
     "text": [
      "[16:38:26] DEPRECATION WARNING: please use MorganGenerator\n",
      "[16:38:26] DEPRECATION WARNING: please use MorganGenerator\n",
      "The attention mask and the pad token id were not set. As a consequence, you may observe unexpected behavior. Please pass your input's `attention_mask` to obtain reliable results.\n",
      "Setting `pad_token_id` to `eos_token_id`:None for open-end generation.\n"
     ]
    },
    {
     "name": "stdout",
     "output_type": "stream",
     "text": [
      "GT: 0.35 Gen: 0.5 diff: 0.15 CCOC(=O)C1C(C)NNC1S(=O)(=O)Nc1cccc(CC)c1 <|begin_of_text|>[SIMILAR]CCOC(=O)C1C(C)NNC1S(=O)(=O)Nc1cccc(CC)c1 0.35[/SIMILAR][RINGCOUNT]2[/RINGCOUNT][FORMULA]C14H21N3O4S[/FORMULA][CLOGP]0.62[/CLOGP][TPSA]96.53[/TPSA][QED]0.67[/QED][SAS]3.11[/SAS][WEIGHT]327.13[/WEIGHT][SMILES]CCOC(=O)C1CNNC1S(=O)(=O)Nc1ccc(CC)cc1[/SMILES]\n"
     ]
    },
    {
     "name": "stderr",
     "output_type": "stream",
     "text": [
      "[16:38:27] DEPRECATION WARNING: please use MorganGenerator\n",
      "[16:38:27] DEPRECATION WARNING: please use MorganGenerator\n",
      "The attention mask and the pad token id were not set. As a consequence, you may observe unexpected behavior. Please pass your input's `attention_mask` to obtain reliable results.\n",
      "Setting `pad_token_id` to `eos_token_id`:None for open-end generation.\n"
     ]
    },
    {
     "name": "stdout",
     "output_type": "stream",
     "text": [
      "GT: 0.4 Gen: 0.5 diff: 0.1 CCOC(=O)C1C(C)NNC1S(=O)(=O)Nc1cccc(CC)c1 <|begin_of_text|>[SIMILAR]CCOC(=O)C1C(C)NNC1S(=O)(=O)Nc1cccc(CC)c1 0.40[/SIMILAR][RINGCOUNT]2[/RINGCOUNT][FORMULA]C14H21N3O4S[/FORMULA][CLOGP]0.62[/CLOGP][TPSA]96.53[/TPSA][QED]0.67[/QED][SAS]3.41[/SAS][WEIGHT]327.13[/WEIGHT][SMILES]CCOC(=O)C1CNNC1S(=O)(=O)Nc1ccc(CC)cc1[/SMILES]\n"
     ]
    },
    {
     "name": "stderr",
     "output_type": "stream",
     "text": [
      "[16:38:28] DEPRECATION WARNING: please use MorganGenerator\n",
      "[16:38:28] DEPRECATION WARNING: please use MorganGenerator\n",
      "The attention mask and the pad token id were not set. As a consequence, you may observe unexpected behavior. Please pass your input's `attention_mask` to obtain reliable results.\n",
      "Setting `pad_token_id` to `eos_token_id`:None for open-end generation.\n"
     ]
    },
    {
     "name": "stdout",
     "output_type": "stream",
     "text": [
      "GT: 0.45 Gen: 0.46774193548387094 diff: 0.02 CCOC(=O)C1C(C)NNC1S(=O)(=O)Nc1cccc(CC)c1 <|begin_of_text|>[SIMILAR]CCOC(=O)C1C(C)NNC1S(=O)(=O)Nc1cccc(CC)c1 0.45[/SIMILAR][RINGCOUNT]2[/RINGCOUNT][FORMULA]C14H21N3O4S[/FORMULA][CLOGP]0.71[/CLOGP][TPSA]96.53[/TPSA][QED]0.67[/QED][SAS]3.49[/SAS][WEIGHT]327.13[/WEIGHT][SMILES]CCOC(=O)C1CNNC1S(=O)(=O)Nc1ccc(C)c(C)c1[/SMILES]\n"
     ]
    },
    {
     "name": "stderr",
     "output_type": "stream",
     "text": [
      "[16:38:28] DEPRECATION WARNING: please use MorganGenerator\n",
      "[16:38:28] DEPRECATION WARNING: please use MorganGenerator\n",
      "The attention mask and the pad token id were not set. As a consequence, you may observe unexpected behavior. Please pass your input's `attention_mask` to obtain reliable results.\n",
      "Setting `pad_token_id` to `eos_token_id`:None for open-end generation.\n"
     ]
    },
    {
     "name": "stdout",
     "output_type": "stream",
     "text": [
      "GT: 0.5 Gen: 0.46774193548387094 diff: 0.03 CCOC(=O)C1C(C)NNC1S(=O)(=O)Nc1cccc(CC)c1 <|begin_of_text|>[SIMILAR]CCOC(=O)C1C(C)NNC1S(=O)(=O)Nc1cccc(CC)c1 0.50[/SIMILAR][RINGCOUNT]2[/RINGCOUNT][FORMULA]C14H21N3O4S[/FORMULA][CLOGP]0.71[/CLOGP][WEIGHT]327.13[/WEIGHT][TPSA]96.53[/TPSA][SAS]3.51[/SAS][QED]0.70[/QED][SMILES]CCOC(=O)C1CNNC1S(=O)(=O)Nc1ccc(C)c(C)c1[/SMILES]\n"
     ]
    },
    {
     "name": "stderr",
     "output_type": "stream",
     "text": [
      "[16:38:29] DEPRECATION WARNING: please use MorganGenerator\n",
      "[16:38:29] DEPRECATION WARNING: please use MorganGenerator\n",
      "The attention mask and the pad token id were not set. As a consequence, you may observe unexpected behavior. Please pass your input's `attention_mask` to obtain reliable results.\n",
      "Setting `pad_token_id` to `eos_token_id`:None for open-end generation.\n"
     ]
    },
    {
     "name": "stdout",
     "output_type": "stream",
     "text": [
      "GT: 0.55 Gen: 0.5 diff: 0.05 CCOC(=O)C1C(C)NNC1S(=O)(=O)Nc1cccc(CC)c1 <|begin_of_text|>[SIMILAR]CCOC(=O)C1C(C)NNC1S(=O)(=O)Nc1cccc(CC)c1 0.55[/SIMILAR][RINGCOUNT]2[/RINGCOUNT][QED]0.68[/QED][FORMULA]C14H21N3O4S[/FORMULA][CLOGP]0.70[/CLOGP][TPSA]96.53[/TPSA][SAS]3.55[/SAS][WEIGHT]327.13[/WEIGHT][SMILES]CCOC(=O)C1CNNC1S(=O)(=O)Nc1ccc(CC)cc1[/SMILES]\n"
     ]
    },
    {
     "name": "stderr",
     "output_type": "stream",
     "text": [
      "[16:38:30] DEPRECATION WARNING: please use MorganGenerator\n",
      "[16:38:30] DEPRECATION WARNING: please use MorganGenerator\n",
      "The attention mask and the pad token id were not set. As a consequence, you may observe unexpected behavior. Please pass your input's `attention_mask` to obtain reliable results.\n",
      "Setting `pad_token_id` to `eos_token_id`:None for open-end generation.\n"
     ]
    },
    {
     "name": "stdout",
     "output_type": "stream",
     "text": [
      "GT: 0.6 Gen: 0.7647058823529411 diff: 0.16 CCOC(=O)C1C(C)NNC1S(=O)(=O)Nc1cccc(CC)c1 <|begin_of_text|>[SIMILAR]CCOC(=O)C1C(C)NNC1S(=O)(=O)Nc1cccc(CC)c1 0.60[/SIMILAR][RINGCOUNT]2[/RINGCOUNT][QED]0.68[/QED][TPSA]96.53[/TPSA][CLOGP]0.79[/CLOGP][FORMULA]C15H23N3O4S[/FORMULA][SAS]3.69[/SAS][WEIGHT]341.14[/WEIGHT][SMILES]CCOC(=O)C1C(C)NNC1S(=O)(=O)Nc1ccc(CC)cc1[/SMILES]\n"
     ]
    },
    {
     "name": "stderr",
     "output_type": "stream",
     "text": [
      "[16:38:30] DEPRECATION WARNING: please use MorganGenerator\n",
      "[16:38:30] DEPRECATION WARNING: please use MorganGenerator\n",
      "The attention mask and the pad token id were not set. As a consequence, you may observe unexpected behavior. Please pass your input's `attention_mask` to obtain reliable results.\n",
      "Setting `pad_token_id` to `eos_token_id`:None for open-end generation.\n"
     ]
    },
    {
     "name": "stdout",
     "output_type": "stream",
     "text": [
      "GT: 0.65 Gen: 0.7647058823529411 diff: 0.11 CCOC(=O)C1C(C)NNC1S(=O)(=O)Nc1cccc(CC)c1 <|begin_of_text|>[SIMILAR]CCOC(=O)C1C(C)NNC1S(=O)(=O)Nc1cccc(CC)c1 0.65[/SIMILAR][RINGCOUNT]2[/RINGCOUNT][QED]0.68[/QED][TPSA]96.53[/TPSA][CLOGP]0.79[/CLOGP][FORMULA]C15H23N3O4S[/FORMULA][SAS]3.71[/SAS][WEIGHT]341.14[/WEIGHT][SMILES]CCOC(=O)C1C(C)NNC1S(=O)(=O)Nc1ccc(CC)cc1[/SMILES]\n"
     ]
    },
    {
     "name": "stderr",
     "output_type": "stream",
     "text": [
      "[16:38:31] DEPRECATION WARNING: please use MorganGenerator\n",
      "[16:38:31] DEPRECATION WARNING: please use MorganGenerator\n",
      "The attention mask and the pad token id were not set. As a consequence, you may observe unexpected behavior. Please pass your input's `attention_mask` to obtain reliable results.\n",
      "Setting `pad_token_id` to `eos_token_id`:None for open-end generation.\n"
     ]
    },
    {
     "name": "stdout",
     "output_type": "stream",
     "text": [
      "GT: 0.7 Gen: 0.7647058823529411 diff: 0.06 CCOC(=O)C1C(C)NNC1S(=O)(=O)Nc1cccc(CC)c1 <|begin_of_text|>[SIMILAR]CCOC(=O)C1C(C)NNC1S(=O)(=O)Nc1cccc(CC)c1 0.70[/SIMILAR][RINGCOUNT]2[/RINGCOUNT][QED]0.67[/QED][TPSA]96.53[/TPSA][CLOGP]0.90[/CLOGP][FORMULA]C15H23N3O4S[/FORMULA][SAS]3.76[/SAS][WEIGHT]341.14[/WEIGHT][SMILES]CCOC(=O)C1C(C)NNC1S(=O)(=O)Nc1ccc(CC)cc1[/SMILES]\n"
     ]
    },
    {
     "name": "stderr",
     "output_type": "stream",
     "text": [
      "[16:38:32] DEPRECATION WARNING: please use MorganGenerator\n",
      "[16:38:32] DEPRECATION WARNING: please use MorganGenerator\n",
      "The attention mask and the pad token id were not set. As a consequence, you may observe unexpected behavior. Please pass your input's `attention_mask` to obtain reliable results.\n",
      "Setting `pad_token_id` to `eos_token_id`:None for open-end generation.\n"
     ]
    },
    {
     "name": "stdout",
     "output_type": "stream",
     "text": [
      "GT: 0.75 Gen: 0.7647058823529411 diff: 0.01 CCOC(=O)C1C(C)NNC1S(=O)(=O)Nc1cccc(CC)c1 <|begin_of_text|>[SIMILAR]CCOC(=O)C1C(C)NNC1S(=O)(=O)Nc1cccc(CC)c1 0.75[/SIMILAR][QED]0.67[/QED][TPSA]96.53[/TPSA][CLOGP]0.90[/CLOGP][SAS]3.76[/SAS][RINGCOUNT]2[/RINGCOUNT][WEIGHT]341.14[/WEIGHT][FORMULA]C15H23N3O4S[/FORMULA][SMILES]CCOC(=O)C1C(C)NNC1S(=O)(=O)Nc1ccc(CC)cc1[/SMILES]\n"
     ]
    },
    {
     "name": "stderr",
     "output_type": "stream",
     "text": [
      "[16:38:32] DEPRECATION WARNING: please use MorganGenerator\n",
      "[16:38:32] DEPRECATION WARNING: please use MorganGenerator\n",
      "The attention mask and the pad token id were not set. As a consequence, you may observe unexpected behavior. Please pass your input's `attention_mask` to obtain reliable results.\n",
      "Setting `pad_token_id` to `eos_token_id`:None for open-end generation.\n"
     ]
    },
    {
     "name": "stdout",
     "output_type": "stream",
     "text": [
      "GT: 0.8 Gen: 0.803921568627451 diff: 0.0 CCOC(=O)C1C(C)NNC1S(=O)(=O)Nc1cccc(CC)c1 <|begin_of_text|>[SIMILAR]CCOC(=O)C1C(C)NNC1S(=O)(=O)Nc1cccc(CC)c1 0.80[/SIMILAR][WEIGHT]327.13[/WEIGHT][TPSA]96.53[/TPSA][CLOGP]0.71[/CLOGP][FORMULA]C14H21N3O4S[/FORMULA][RINGCOUNT]2[/RINGCOUNT][SAS]3.75[/SAS][SMILES]CCOC(=O)C1C(C)NNC1S(=O)(=O)Nc1cccc(C)c1[/SMILES]\n"
     ]
    },
    {
     "name": "stderr",
     "output_type": "stream",
     "text": [
      "[16:38:33] DEPRECATION WARNING: please use MorganGenerator\n",
      "[16:38:33] DEPRECATION WARNING: please use MorganGenerator\n",
      "The attention mask and the pad token id were not set. As a consequence, you may observe unexpected behavior. Please pass your input's `attention_mask` to obtain reliable results.\n",
      "Setting `pad_token_id` to `eos_token_id`:None for open-end generation.\n"
     ]
    },
    {
     "name": "stdout",
     "output_type": "stream",
     "text": [
      "GT: 0.85 Gen: 0.803921568627451 diff: 0.05 CCOC(=O)C1C(C)NNC1S(=O)(=O)Nc1cccc(CC)c1 <|begin_of_text|>[SIMILAR]CCOC(=O)C1C(C)NNC1S(=O)(=O)Nc1cccc(CC)c1 0.85[/SIMILAR][WEIGHT]327.13[/WEIGHT][TPSA]96.53[/TPSA][CLOGP]0.71[/CLOGP][FORMULA]C14H21N3O4S[/FORMULA][RINGCOUNT]2[/RINGCOUNT][SMILES]CCOC(=O)C1C(C)NNC1S(=O)(=O)Nc1cccc(C)c1[/SMILES]\n"
     ]
    },
    {
     "name": "stderr",
     "output_type": "stream",
     "text": [
      "[16:38:34] DEPRECATION WARNING: please use MorganGenerator\n",
      "[16:38:34] DEPRECATION WARNING: please use MorganGenerator\n",
      "The attention mask and the pad token id were not set. As a consequence, you may observe unexpected behavior. Please pass your input's `attention_mask` to obtain reliable results.\n",
      "Setting `pad_token_id` to `eos_token_id`:None for open-end generation.\n"
     ]
    },
    {
     "name": "stdout",
     "output_type": "stream",
     "text": [
      "GT: 0.9 Gen: 1.0 diff: 0.1 CCOC(=O)C1C(C)NNC1S(=O)(=O)Nc1cccc(CC)c1 <|begin_of_text|>[SIMILAR]CCOC(=O)C1C(C)NNC1S(=O)(=O)Nc1cccc(CC)c1 0.90[/SIMILAR][WEIGHT]341.14[/WEIGHT][RINGCOUNT]2[/RINGCOUNT][QED]0.67[/QED][SAS]3.78[/SAS][CLOGP]1.05[/CLOGP][FORMULA]C15H23N3O4S[/FORMULA][TPSA]96.53[/TPSA][SMILES]CCOC(=O)C1C(C)NNC1S(=O)(=O)Nc1cccc(CC)c1[/SMILES]\n"
     ]
    },
    {
     "name": "stderr",
     "output_type": "stream",
     "text": [
      "[16:38:34] DEPRECATION WARNING: please use MorganGenerator\n",
      "[16:38:34] DEPRECATION WARNING: please use MorganGenerator\n",
      "The attention mask and the pad token id were not set. As a consequence, you may observe unexpected behavior. Please pass your input's `attention_mask` to obtain reliable results.\n",
      "Setting `pad_token_id` to `eos_token_id`:None for open-end generation.\n"
     ]
    },
    {
     "name": "stdout",
     "output_type": "stream",
     "text": [
      "GT: 0.95 Gen: 1.0 diff: 0.05 CCOC(=O)C1C(C)NNC1S(=O)(=O)Nc1cccc(CC)c1 <|begin_of_text|>[SIMILAR]CCOC(=O)C1C(C)NNC1S(=O)(=O)Nc1cccc(CC)c1 0.95[/SIMILAR][RINGCOUNT]2[/RINGCOUNT][QED]0.67[/QED][WEIGHT]341.14[/WEIGHT][SAS]3.80[/SAS][CLOGP]1.08[/CLOGP][FORMULA]C15H23N3O4S[/FORMULA][SMILES]CCOC(=O)C1C(C)NNC1S(=O)(=O)Nc1cccc(CC)c1[/SMILES]\n"
     ]
    },
    {
     "name": "stderr",
     "output_type": "stream",
     "text": [
      "[16:38:35] DEPRECATION WARNING: please use MorganGenerator\n",
      "[16:38:35] DEPRECATION WARNING: please use MorganGenerator\n",
      "The attention mask and the pad token id were not set. As a consequence, you may observe unexpected behavior. Please pass your input's `attention_mask` to obtain reliable results.\n",
      "Setting `pad_token_id` to `eos_token_id`:None for open-end generation.\n"
     ]
    },
    {
     "name": "stdout",
     "output_type": "stream",
     "text": [
      "GT: 1.0 Gen: 1.0 diff: 0.0 CCOC(=O)C1C(C)NNC1S(=O)(=O)Nc1cccc(CC)c1 <|begin_of_text|>[SIMILAR]CCOC(=O)C1C(C)NNC1S(=O)(=O)Nc1cccc(CC)c1 1.00[/SIMILAR][WEIGHT]341.14[/WEIGHT][CLOGP]0.98[/CLOGP][SAS]3.78[/SAS][SMILES]CCOC(=O)C1C(C)NNC1S(=O)(=O)Nc1cccc(CC)c1[/SMILES]\n"
     ]
    },
    {
     "name": "stderr",
     "output_type": "stream",
     "text": [
      "[16:38:35] DEPRECATION WARNING: please use MorganGenerator\n",
      "[16:38:35] DEPRECATION WARNING: please use MorganGenerator\n",
      "The attention mask and the pad token id were not set. As a consequence, you may observe unexpected behavior. Please pass your input's `attention_mask` to obtain reliable results.\n",
      "Setting `pad_token_id` to `eos_token_id`:None for open-end generation.\n"
     ]
    },
    {
     "name": "stdout",
     "output_type": "stream",
     "text": [
      "GT: 0.2 Gen: 0.15942028985507245 diff: 0.04 CCc1n[nH]c2c(c1=S)CN(C(=O)c1ccccc1)CC2 <|begin_of_text|>[SIMILAR]CCc1n[nH]c2c(c1=S)CN(C(=O)c1ccccc1)CC2 0.20[/SIMILAR][WEIGHT]289.12[/WEIGHT][FORMULA]C15H19N3OS[/FORMULA][TPSA]57.78[/TPSA][CLOGP]2.95[/CLOGP][RINGCOUNT]2[/RINGCOUNT][SAS]2.26[/SAS][SMILES]Cc1cc(C)c(C(=O)NCc2c(C)n[nH]c2C)c(C)c1[/SMILES]\n"
     ]
    },
    {
     "name": "stderr",
     "output_type": "stream",
     "text": [
      "[16:38:36] DEPRECATION WARNING: please use MorganGenerator\n",
      "[16:38:36] DEPRECATION WARNING: please use MorganGenerator\n",
      "The attention mask and the pad token id were not set. As a consequence, you may observe unexpected behavior. Please pass your input's `attention_mask` to obtain reliable results.\n",
      "Setting `pad_token_id` to `eos_token_id`:None for open-end generation.\n"
     ]
    },
    {
     "name": "stdout",
     "output_type": "stream",
     "text": [
      "GT: 0.25 Gen: 0.36923076923076925 diff: 0.12 CCc1n[nH]c2c(c1=S)CN(C(=O)c1ccccc1)CC2 <|begin_of_text|>[SIMILAR]CCc1n[nH]c2c(c1=S)CN(C(=O)c1ccccc1)CC2 0.25[/SIMILAR][WEIGHT]301.12[/WEIGHT][TPSA]48.99[/TPSA][FORMULA]C16H19N3OS[/FORMULA][CLOGP]3.11[/CLOGP][RINGCOUNT]3[/RINGCOUNT][QED]0.88[/QED][SAS]2.37[/SAS][SMILES]Cc1ccc(C(=O)N2CCCc3c(C)n[nH]c3C2)cc1S[/SMILES]\n"
     ]
    },
    {
     "name": "stderr",
     "output_type": "stream",
     "text": [
      "[16:38:36] DEPRECATION WARNING: please use MorganGenerator\n",
      "[16:38:36] DEPRECATION WARNING: please use MorganGenerator\n",
      "The attention mask and the pad token id were not set. As a consequence, you may observe unexpected behavior. Please pass your input's `attention_mask` to obtain reliable results.\n",
      "Setting `pad_token_id` to `eos_token_id`:None for open-end generation.\n"
     ]
    },
    {
     "name": "stdout",
     "output_type": "stream",
     "text": [
      "GT: 0.3 Gen: 0.22666666666666666 diff: 0.07 CCc1n[nH]c2c(c1=S)CN(C(=O)c1ccccc1)CC2 <|begin_of_text|>[SIMILAR]CCc1n[nH]c2c(c1=S)CN(C(=O)c1ccccc1)CC2 0.30[/SIMILAR][WEIGHT]301.12[/WEIGHT][TPSA]48.99[/TPSA][FORMULA]C16H19N3OS[/FORMULA][QED]0.88[/QED][CLOGP]3.07[/CLOGP][RINGCOUNT]3[/RINGCOUNT][SAS]2.37[/SAS][SMILES]Cc1n[nH]c(C)c1C(=O)N1CCCc2cc(CS)ccc21[/SMILES]\n"
     ]
    },
    {
     "name": "stderr",
     "output_type": "stream",
     "text": [
      "[16:38:37] DEPRECATION WARNING: please use MorganGenerator\n",
      "[16:38:37] DEPRECATION WARNING: please use MorganGenerator\n",
      "The attention mask and the pad token id were not set. As a consequence, you may observe unexpected behavior. Please pass your input's `attention_mask` to obtain reliable results.\n",
      "Setting `pad_token_id` to `eos_token_id`:None for open-end generation.\n"
     ]
    },
    {
     "name": "stdout",
     "output_type": "stream",
     "text": [
      "GT: 0.35 Gen: 0.22666666666666666 diff: 0.12 CCc1n[nH]c2c(c1=S)CN(C(=O)c1ccccc1)CC2 <|begin_of_text|>[SIMILAR]CCc1n[nH]c2c(c1=S)CN(C(=O)c1ccccc1)CC2 0.35[/SIMILAR][WEIGHT]301.12[/WEIGHT][TPSA]48.99[/TPSA][FORMULA]C16H19N3OS[/FORMULA][CLOGP]3.01[/CLOGP][RINGCOUNT]3[/RINGCOUNT][QED]0.88[/QED][SAS]2.39[/SAS][SMILES]Cc1n[nH]c(C)c1C(=O)N1CCCc2cc(CS)ccc21[/SMILES]\n"
     ]
    },
    {
     "name": "stderr",
     "output_type": "stream",
     "text": [
      "[16:38:38] DEPRECATION WARNING: please use MorganGenerator\n",
      "[16:38:38] DEPRECATION WARNING: please use MorganGenerator\n",
      "The attention mask and the pad token id were not set. As a consequence, you may observe unexpected behavior. Please pass your input's `attention_mask` to obtain reliable results.\n",
      "Setting `pad_token_id` to `eos_token_id`:None for open-end generation.\n"
     ]
    },
    {
     "name": "stdout",
     "output_type": "stream",
     "text": [
      "GT: 0.4 Gen: 0.34375 diff: 0.06 CCc1n[nH]c2c(c1=S)CN(C(=O)c1ccccc1)CC2 <|begin_of_text|>[SIMILAR]CCc1n[nH]c2c(c1=S)CN(C(=O)c1ccccc1)CC2 0.40[/SIMILAR][WEIGHT]299.11[/WEIGHT][TPSA]48.99[/TPSA][FORMULA]C16H17N3OS[/FORMULA][CLOGP]2.95[/CLOGP][RINGCOUNT]3[/RINGCOUNT][QED]0.87[/QED][SAS]2.44[/SAS][SMILES]Cc1n[nH]c(C)c1C(=O)N1CCc2ccccc2C1.[C-]#[S+][/SMILES]\n"
     ]
    },
    {
     "name": "stderr",
     "output_type": "stream",
     "text": [
      "[16:38:39] DEPRECATION WARNING: please use MorganGenerator\n",
      "[16:38:39] DEPRECATION WARNING: please use MorganGenerator\n",
      "The attention mask and the pad token id were not set. As a consequence, you may observe unexpected behavior. Please pass your input's `attention_mask` to obtain reliable results.\n",
      "Setting `pad_token_id` to `eos_token_id`:None for open-end generation.\n"
     ]
    },
    {
     "name": "stdout",
     "output_type": "stream",
     "text": [
      "GT: 0.45 Gen: 0.34375 diff: 0.11 CCc1n[nH]c2c(c1=S)CN(C(=O)c1ccccc1)CC2 <|begin_of_text|>[SIMILAR]CCc1n[nH]c2c(c1=S)CN(C(=O)c1ccccc1)CC2 0.45[/SIMILAR][WEIGHT]299.11[/WEIGHT][TPSA]48.99[/TPSA][FORMULA]C16H17N3OS[/FORMULA][CLOGP]2.95[/CLOGP][RINGCOUNT]3[/RINGCOUNT][QED]0.87[/QED][SAS]2.53[/SAS][SMILES]Cc1n[nH]c(C)c1C(=O)N1CCc2ccccc2C1.[C-]#[S+][/SMILES]\n"
     ]
    },
    {
     "name": "stderr",
     "output_type": "stream",
     "text": [
      "[16:38:39] DEPRECATION WARNING: please use MorganGenerator\n",
      "[16:38:39] DEPRECATION WARNING: please use MorganGenerator\n",
      "The attention mask and the pad token id were not set. As a consequence, you may observe unexpected behavior. Please pass your input's `attention_mask` to obtain reliable results.\n",
      "Setting `pad_token_id` to `eos_token_id`:None for open-end generation.\n"
     ]
    },
    {
     "name": "stdout",
     "output_type": "stream",
     "text": [
      "GT: 0.5 Gen: 0.48333333333333334 diff: 0.02 CCc1n[nH]c2c(c1=S)CN(C(=O)c1ccccc1)CC2 <|begin_of_text|>[SIMILAR]CCc1n[nH]c2c(c1=S)CN(C(=O)c1ccccc1)CC2 0.50[/SIMILAR][WEIGHT]299.11[/WEIGHT][TPSA]48.99[/TPSA][FORMULA]C16H17N3OS[/FORMULA][CLOGP]2.95[/CLOGP][RINGCOUNT]3[/RINGCOUNT][QED]0.87[/QED][SAS]2.53[/SAS][SMILES]CCc1n[nH]c2c1CN(C(=O)c1ccc(C)cc1)C(=S)C2[/SMILES]\n"
     ]
    },
    {
     "name": "stderr",
     "output_type": "stream",
     "text": [
      "[16:38:40] DEPRECATION WARNING: please use MorganGenerator\n",
      "[16:38:40] DEPRECATION WARNING: please use MorganGenerator\n",
      "The attention mask and the pad token id were not set. As a consequence, you may observe unexpected behavior. Please pass your input's `attention_mask` to obtain reliable results.\n",
      "Setting `pad_token_id` to `eos_token_id`:None for open-end generation.\n"
     ]
    },
    {
     "name": "stdout",
     "output_type": "stream",
     "text": [
      "GT: 0.55 Gen: 1.0 diff: 0.45 CCc1n[nH]c2c(c1=S)CN(C(=O)c1ccccc1)CC2 <|begin_of_text|>[SIMILAR]CCc1n[nH]c2c(c1=S)CN(C(=O)c1ccccc1)CC2 0.55[/SIMILAR][WEIGHT]299.11[/WEIGHT][TPSA]48.99[/TPSA][FORMULA]C16H17N3OS[/FORMULA][CLOGP]2.93[/CLOGP][RINGCOUNT]3[/RINGCOUNT][QED]0.87[/QED][SAS]2.53[/SAS][SMILES]CCc1n[nH]c2c(c1=S)CN(C(=O)c1ccccc1)CC2[/SMILES]\n"
     ]
    },
    {
     "name": "stderr",
     "output_type": "stream",
     "text": [
      "[16:38:41] DEPRECATION WARNING: please use MorganGenerator\n",
      "[16:38:41] DEPRECATION WARNING: please use MorganGenerator\n",
      "The attention mask and the pad token id were not set. As a consequence, you may observe unexpected behavior. Please pass your input's `attention_mask` to obtain reliable results.\n",
      "Setting `pad_token_id` to `eos_token_id`:None for open-end generation.\n"
     ]
    },
    {
     "name": "stdout",
     "output_type": "stream",
     "text": [
      "GT: 0.6 Gen: 1.0 diff: 0.4 CCc1n[nH]c2c(c1=S)CN(C(=O)c1ccccc1)CC2 <|begin_of_text|>[SIMILAR]CCc1n[nH]c2c(c1=S)CN(C(=O)c1ccccc1)CC2 0.60[/SIMILAR][WEIGHT]299.11[/WEIGHT][TPSA]48.99[/TPSA][FORMULA]C16H17N3OS[/FORMULA][CLOGP]2.93[/CLOGP][RINGCOUNT]3[/RINGCOUNT][QED]0.87[/QED][SAS]2.53[/SAS][SMILES]CCc1n[nH]c2c(c1=S)CN(C(=O)c1ccccc1)CC2[/SMILES]\n"
     ]
    },
    {
     "name": "stderr",
     "output_type": "stream",
     "text": [
      "[16:38:41] DEPRECATION WARNING: please use MorganGenerator\n",
      "[16:38:41] DEPRECATION WARNING: please use MorganGenerator\n",
      "The attention mask and the pad token id were not set. As a consequence, you may observe unexpected behavior. Please pass your input's `attention_mask` to obtain reliable results.\n",
      "Setting `pad_token_id` to `eos_token_id`:None for open-end generation.\n"
     ]
    },
    {
     "name": "stdout",
     "output_type": "stream",
     "text": [
      "GT: 0.65 Gen: 1.0 diff: 0.35 CCc1n[nH]c2c(c1=S)CN(C(=O)c1ccccc1)CC2 <|begin_of_text|>[SIMILAR]CCc1n[nH]c2c(c1=S)CN(C(=O)c1ccccc1)CC2 0.65[/SIMILAR][WEIGHT]299.11[/WEIGHT][RINGCOUNT]3[/RINGCOUNT][QED]0.86[/QED][CLOGP]2.95[/CLOGP][TPSA]48.99[/TPSA][SAS]2.57[/SAS][FORMULA]C16H17N3OS[/FORMULA][SMILES]CCc1n[nH]c2c(c1=S)CN(C(=O)c1ccccc1)CC2[/SMILES]\n"
     ]
    },
    {
     "name": "stderr",
     "output_type": "stream",
     "text": [
      "[16:38:42] DEPRECATION WARNING: please use MorganGenerator\n",
      "[16:38:42] DEPRECATION WARNING: please use MorganGenerator\n",
      "The attention mask and the pad token id were not set. As a consequence, you may observe unexpected behavior. Please pass your input's `attention_mask` to obtain reliable results.\n",
      "Setting `pad_token_id` to `eos_token_id`:None for open-end generation.\n"
     ]
    },
    {
     "name": "stdout",
     "output_type": "stream",
     "text": [
      "GT: 0.7 Gen: 1.0 diff: 0.3 CCc1n[nH]c2c(c1=S)CN(C(=O)c1ccccc1)CC2 <|begin_of_text|>[SIMILAR]CCc1n[nH]c2c(c1=S)CN(C(=O)c1ccccc1)CC2 0.70[/SIMILAR][WEIGHT]299.11[/WEIGHT][RINGCOUNT]3[/RINGCOUNT][QED]0.86[/QED][CLOGP]2.95[/CLOGP][SAS]2.57[/SAS][TPSA]48.99[/TPSA][FORMULA]C16H17N3OS[/FORMULA][SMILES]CCc1n[nH]c2c(c1=S)CN(C(=O)c1ccccc1)CC2[/SMILES]\n"
     ]
    },
    {
     "name": "stderr",
     "output_type": "stream",
     "text": [
      "[16:38:43] DEPRECATION WARNING: please use MorganGenerator\n",
      "[16:38:43] DEPRECATION WARNING: please use MorganGenerator\n",
      "The attention mask and the pad token id were not set. As a consequence, you may observe unexpected behavior. Please pass your input's `attention_mask` to obtain reliable results.\n",
      "Setting `pad_token_id` to `eos_token_id`:None for open-end generation.\n"
     ]
    },
    {
     "name": "stdout",
     "output_type": "stream",
     "text": [
      "GT: 0.75 Gen: 1.0 diff: 0.25 CCc1n[nH]c2c(c1=S)CN(C(=O)c1ccccc1)CC2 <|begin_of_text|>[SIMILAR]CCc1n[nH]c2c(c1=S)CN(C(=O)c1ccccc1)CC2 0.75[/SIMILAR][WEIGHT]299.11[/WEIGHT][RINGCOUNT]3[/RINGCOUNT][QED]0.86[/QED][CLOGP]2.95[/CLOGP][FORMULA]C16H17N3OS[/FORMULA][TPSA]48.99[/TPSA][SAS]2.57[/SAS][SMILES]CCc1n[nH]c2c(c1=S)CN(C(=O)c1ccccc1)CC2[/SMILES]\n"
     ]
    },
    {
     "name": "stderr",
     "output_type": "stream",
     "text": [
      "[16:38:43] DEPRECATION WARNING: please use MorganGenerator\n",
      "[16:38:43] DEPRECATION WARNING: please use MorganGenerator\n",
      "The attention mask and the pad token id were not set. As a consequence, you may observe unexpected behavior. Please pass your input's `attention_mask` to obtain reliable results.\n",
      "Setting `pad_token_id` to `eos_token_id`:None for open-end generation.\n"
     ]
    },
    {
     "name": "stdout",
     "output_type": "stream",
     "text": [
      "GT: 0.8 Gen: 1.0 diff: 0.2 CCc1n[nH]c2c(c1=S)CN(C(=O)c1ccccc1)CC2 <|begin_of_text|>[SIMILAR]CCc1n[nH]c2c(c1=S)CN(C(=O)c1ccccc1)CC2 0.80[/SIMILAR][WEIGHT]299.11[/WEIGHT][RINGCOUNT]3[/RINGCOUNT][QED]0.87[/QED][CLOGP]2.95[/CLOGP][FORMULA]C16H17N3OS[/FORMULA][TPSA]48.99[/TPSA][SAS]2.57[/SAS][SMILES]CCc1n[nH]c2c(c1=S)CN(C(=O)c1ccccc1)CC2[/SMILES]\n"
     ]
    },
    {
     "name": "stderr",
     "output_type": "stream",
     "text": [
      "[16:38:44] DEPRECATION WARNING: please use MorganGenerator\n",
      "[16:38:44] DEPRECATION WARNING: please use MorganGenerator\n",
      "The attention mask and the pad token id were not set. As a consequence, you may observe unexpected behavior. Please pass your input's `attention_mask` to obtain reliable results.\n",
      "Setting `pad_token_id` to `eos_token_id`:None for open-end generation.\n"
     ]
    },
    {
     "name": "stdout",
     "output_type": "stream",
     "text": [
      "GT: 0.85 Gen: 1.0 diff: 0.15 CCc1n[nH]c2c(c1=S)CN(C(=O)c1ccccc1)CC2 <|begin_of_text|>[SIMILAR]CCc1n[nH]c2c(c1=S)CN(C(=O)c1ccccc1)CC2 0.85[/SIMILAR][WEIGHT]299.11[/WEIGHT][RINGCOUNT]3[/RINGCOUNT][QED]0.87[/QED][FORMULA]C16H17N3OS[/FORMULA][SAS]2.57[/SAS][CLOGP]2.95[/CLOGP][TPSA]48.99[/TPSA][SMILES]CCc1n[nH]c2c(c1=S)CN(C(=O)c1ccccc1)CC2[/SMILES]\n"
     ]
    },
    {
     "name": "stderr",
     "output_type": "stream",
     "text": [
      "[16:38:45] DEPRECATION WARNING: please use MorganGenerator\n",
      "[16:38:45] DEPRECATION WARNING: please use MorganGenerator\n",
      "The attention mask and the pad token id were not set. As a consequence, you may observe unexpected behavior. Please pass your input's `attention_mask` to obtain reliable results.\n",
      "Setting `pad_token_id` to `eos_token_id`:None for open-end generation.\n"
     ]
    },
    {
     "name": "stdout",
     "output_type": "stream",
     "text": [
      "GT: 0.9 Gen: 1.0 diff: 0.1 CCc1n[nH]c2c(c1=S)CN(C(=O)c1ccccc1)CC2 <|begin_of_text|>[SIMILAR]CCc1n[nH]c2c(c1=S)CN(C(=O)c1ccccc1)CC2 0.90[/SIMILAR][WEIGHT]299.11[/WEIGHT][TPSA]48.99[/TPSA][FORMULA]C16H17N3OS[/FORMULA][SAS]2.56[/SAS][CLOGP]2.96[/CLOGP][RINGCOUNT]3[/RINGCOUNT][QED]0.87[/QED][SMILES]CCc1n[nH]c2c(c1=S)CN(C(=O)c1ccccc1)CC2[/SMILES]\n"
     ]
    },
    {
     "name": "stderr",
     "output_type": "stream",
     "text": [
      "[16:38:45] DEPRECATION WARNING: please use MorganGenerator\n",
      "[16:38:45] DEPRECATION WARNING: please use MorganGenerator\n",
      "The attention mask and the pad token id were not set. As a consequence, you may observe unexpected behavior. Please pass your input's `attention_mask` to obtain reliable results.\n",
      "Setting `pad_token_id` to `eos_token_id`:None for open-end generation.\n"
     ]
    },
    {
     "name": "stdout",
     "output_type": "stream",
     "text": [
      "GT: 0.95 Gen: 1.0 diff: 0.05 CCc1n[nH]c2c(c1=S)CN(C(=O)c1ccccc1)CC2 <|begin_of_text|>[SIMILAR]CCc1n[nH]c2c(c1=S)CN(C(=O)c1ccccc1)CC2 0.95[/SIMILAR][WEIGHT]299.11[/WEIGHT][TPSA]48.99[/TPSA][FORMULA]C16H17N3OS[/FORMULA][SAS]2.57[/SAS][CLOGP]2.96[/CLOGP][RINGCOUNT]3[/RINGCOUNT][SMILES]CCc1n[nH]c2c(c1=S)CN(C(=O)c1ccccc1)CC2[/SMILES]\n"
     ]
    },
    {
     "name": "stderr",
     "output_type": "stream",
     "text": [
      "[16:38:46] DEPRECATION WARNING: please use MorganGenerator\n",
      "[16:38:46] DEPRECATION WARNING: please use MorganGenerator\n",
      "The attention mask and the pad token id were not set. As a consequence, you may observe unexpected behavior. Please pass your input's `attention_mask` to obtain reliable results.\n",
      "Setting `pad_token_id` to `eos_token_id`:None for open-end generation.\n"
     ]
    },
    {
     "name": "stdout",
     "output_type": "stream",
     "text": [
      "GT: 1.0 Gen: 1.0 diff: 0.0 CCc1n[nH]c2c(c1=S)CN(C(=O)c1ccccc1)CC2 <|begin_of_text|>[SIMILAR]CCc1n[nH]c2c(c1=S)CN(C(=O)c1ccccc1)CC2 1.00[/SIMILAR][WEIGHT]299.11[/WEIGHT][TPSA]48.99[/TPSA][FORMULA]C16H17N3OS[/FORMULA][SAS]2.57[/SAS][CLOGP]2.89[/CLOGP][RINGCOUNT]3[/RINGCOUNT][QED]0.87[/QED][SMILES]CCc1n[nH]c2c(c1=S)CN(C(=O)c1ccccc1)CC2[/SMILES]\n"
     ]
    },
    {
     "name": "stderr",
     "output_type": "stream",
     "text": [
      "[16:38:47] DEPRECATION WARNING: please use MorganGenerator\n",
      "[16:38:47] DEPRECATION WARNING: please use MorganGenerator\n",
      "The attention mask and the pad token id were not set. As a consequence, you may observe unexpected behavior. Please pass your input's `attention_mask` to obtain reliable results.\n",
      "Setting `pad_token_id` to `eos_token_id`:None for open-end generation.\n"
     ]
    },
    {
     "name": "stdout",
     "output_type": "stream",
     "text": [
      "GT: 0.2 Gen: 0.23943661971830985 diff: 0.04 CNc1cccc(Nc2cnn(C)c2)c1[N+](=O)[O-] <|begin_of_text|>[SIMILAR]CNc1cccc(Nc2cnn(C)c2)c1[N+](=O)[O-] 0.20[/SIMILAR][TPSA]107.88[/TPSA][WEIGHT]290.11[/WEIGHT][QED]0.66[/QED][FORMULA]C12H14N6O3[/FORMULA][CLOGP]1.36[/CLOGP][RINGCOUNT]2[/RINGCOUNT][SAS]2.59[/SAS][SMILES]CCn1cc(CNc2cc([N+](=O)[O-])ccc2-n2cncn2)cn1[/SMILES]\n"
     ]
    },
    {
     "name": "stderr",
     "output_type": "stream",
     "text": [
      "[16:38:47] DEPRECATION WARNING: please use MorganGenerator\n",
      "[16:38:47] DEPRECATION WARNING: please use MorganGenerator\n",
      "The attention mask and the pad token id were not set. As a consequence, you may observe unexpected behavior. Please pass your input's `attention_mask` to obtain reliable results.\n",
      "Setting `pad_token_id` to `eos_token_id`:None for open-end generation.\n"
     ]
    },
    {
     "name": "stdout",
     "output_type": "stream",
     "text": [
      "GT: 0.25 Gen: 0.22727272727272727 diff: 0.02 CNc1cccc(Nc2cnn(C)c2)c1[N+](=O)[O-] <|begin_of_text|>[SIMILAR]CNc1cccc(Nc2cnn(C)c2)c1[N+](=O)[O-] 0.25[/SIMILAR][TPSA]107.88[/TPSA][QED]0.66[/QED][FORMULA]C12H14N6O3[/FORMULA][RINGCOUNT]2[/RINGCOUNT][CLOGP]1.45[/CLOGP][WEIGHT]290.11[/WEIGHT][SAS]2.50[/SAS][SMILES]CCn1cc(CNc2ccc([N+](=O)[O-])cc2[N+](=O)[O-])nn1[/SMILES]\n"
     ]
    },
    {
     "name": "stderr",
     "output_type": "stream",
     "text": [
      "[16:38:48] DEPRECATION WARNING: please use MorganGenerator\n",
      "[16:38:48] DEPRECATION WARNING: please use MorganGenerator\n",
      "The attention mask and the pad token id were not set. As a consequence, you may observe unexpected behavior. Please pass your input's `attention_mask` to obtain reliable results.\n",
      "Setting `pad_token_id` to `eos_token_id`:None for open-end generation.\n"
     ]
    },
    {
     "name": "stdout",
     "output_type": "stream",
     "text": [
      "GT: 0.3 Gen: 0.36363636363636365 diff: 0.06 CNc1cccc(Nc2cnn(C)c2)c1[N+](=O)[O-] <|begin_of_text|>[SIMILAR]CNc1cccc(Nc2cnn(C)c2)c1[N+](=O)[O-] 0.30[/SIMILAR][TPSA]72.99[/TPSA][SAS]2.35[/SAS][WEIGHT]260.13[/WEIGHT][RINGCOUNT]2[/RINGCOUNT][CLOGP]2.95[/CLOGP][FORMULA]C13H16N4O2[/FORMULA][QED]0.66[/QED][SMILES]CC(C)c1nn(C)cc1Nc1ccc([N+](=O)[O-])cc1[/SMILES]\n"
     ]
    },
    {
     "name": "stderr",
     "output_type": "stream",
     "text": [
      "[16:38:49] DEPRECATION WARNING: please use MorganGenerator\n",
      "[16:38:49] DEPRECATION WARNING: please use MorganGenerator\n",
      "The attention mask and the pad token id were not set. As a consequence, you may observe unexpected behavior. Please pass your input's `attention_mask` to obtain reliable results.\n",
      "Setting `pad_token_id` to `eos_token_id`:None for open-end generation.\n"
     ]
    },
    {
     "name": "stdout",
     "output_type": "stream",
     "text": [
      "GT: 0.35 Gen: 0.36363636363636365 diff: 0.01 CNc1cccc(Nc2cnn(C)c2)c1[N+](=O)[O-] <|begin_of_text|>[SIMILAR]CNc1cccc(Nc2cnn(C)c2)c1[N+](=O)[O-] 0.35[/SIMILAR][TPSA]72.99[/TPSA][SAS]2.35[/SAS][WEIGHT]260.13[/WEIGHT][RINGCOUNT]2[/RINGCOUNT][CLOGP]2.95[/CLOGP][FORMULA]C13H16N4O2[/FORMULA][QED]0.68[/QED][SMILES]CC(C)c1nn(C)cc1Nc1ccccc1[N+](=O)[O-][/SMILES]\n"
     ]
    },
    {
     "name": "stderr",
     "output_type": "stream",
     "text": [
      "[16:38:49] DEPRECATION WARNING: please use MorganGenerator\n",
      "[16:38:49] DEPRECATION WARNING: please use MorganGenerator\n",
      "The attention mask and the pad token id were not set. As a consequence, you may observe unexpected behavior. Please pass your input's `attention_mask` to obtain reliable results.\n",
      "Setting `pad_token_id` to `eos_token_id`:None for open-end generation.\n"
     ]
    },
    {
     "name": "stdout",
     "output_type": "stream",
     "text": [
      "GT: 0.4 Gen: 0.36363636363636365 diff: 0.04 CNc1cccc(Nc2cnn(C)c2)c1[N+](=O)[O-] <|begin_of_text|>[SIMILAR]CNc1cccc(Nc2cnn(C)c2)c1[N+](=O)[O-] 0.40[/SIMILAR][TPSA]72.99[/TPSA][SAS]2.35[/SAS][WEIGHT]260.13[/WEIGHT][RINGCOUNT]2[/RINGCOUNT][CLOGP]2.95[/CLOGP][FORMULA]C13H16N4O2[/FORMULA][QED]0.68[/QED][SMILES]CC(C)c1nn(C)cc1Nc1ccccc1[N+](=O)[O-][/SMILES]\n"
     ]
    },
    {
     "name": "stderr",
     "output_type": "stream",
     "text": [
      "[16:38:50] DEPRECATION WARNING: please use MorganGenerator\n",
      "[16:38:50] DEPRECATION WARNING: please use MorganGenerator\n",
      "The attention mask and the pad token id were not set. As a consequence, you may observe unexpected behavior. Please pass your input's `attention_mask` to obtain reliable results.\n",
      "Setting `pad_token_id` to `eos_token_id`:None for open-end generation.\n"
     ]
    },
    {
     "name": "stdout",
     "output_type": "stream",
     "text": [
      "GT: 0.45 Gen: 0.36363636363636365 diff: 0.09 CNc1cccc(Nc2cnn(C)c2)c1[N+](=O)[O-] <|begin_of_text|>[SIMILAR]CNc1cccc(Nc2cnn(C)c2)c1[N+](=O)[O-] 0.45[/SIMILAR][TPSA]72.99[/TPSA][SAS]2.35[/SAS][WEIGHT]260.13[/WEIGHT][RINGCOUNT]2[/RINGCOUNT][CLOGP]2.98[/CLOGP][FORMULA]C13H16N4O2[/FORMULA][QED]0.68[/QED][SMILES]CC(C)c1nn(C)cc1Nc1ccccc1[N+](=O)[O-][/SMILES]\n"
     ]
    },
    {
     "name": "stderr",
     "output_type": "stream",
     "text": [
      "[16:38:51] DEPRECATION WARNING: please use MorganGenerator\n",
      "[16:38:51] DEPRECATION WARNING: please use MorganGenerator\n",
      "The attention mask and the pad token id were not set. As a consequence, you may observe unexpected behavior. Please pass your input's `attention_mask` to obtain reliable results.\n",
      "Setting `pad_token_id` to `eos_token_id`:None for open-end generation.\n"
     ]
    },
    {
     "name": "stdout",
     "output_type": "stream",
     "text": [
      "GT: 0.5 Gen: 0.36363636363636365 diff: 0.14 CNc1cccc(Nc2cnn(C)c2)c1[N+](=O)[O-] <|begin_of_text|>[SIMILAR]CNc1cccc(Nc2cnn(C)c2)c1[N+](=O)[O-] 0.50[/SIMILAR][TPSA]72.99[/TPSA][SAS]2.35[/SAS][WEIGHT]260.13[/WEIGHT][RINGCOUNT]2[/RINGCOUNT][CLOGP]3.15[/CLOGP][FORMULA]C13H16N4O2[/FORMULA][QED]0.68[/QED][SMILES]CC(C)c1nn(C)cc1Nc1ccccc1[N+](=O)[O-][/SMILES]\n"
     ]
    },
    {
     "name": "stderr",
     "output_type": "stream",
     "text": [
      "[16:38:52] DEPRECATION WARNING: please use MorganGenerator\n",
      "[16:38:52] DEPRECATION WARNING: please use MorganGenerator\n",
      "The attention mask and the pad token id were not set. As a consequence, you may observe unexpected behavior. Please pass your input's `attention_mask` to obtain reliable results.\n",
      "Setting `pad_token_id` to `eos_token_id`:None for open-end generation.\n"
     ]
    },
    {
     "name": "stdout",
     "output_type": "stream",
     "text": [
      "GT: 0.55 Gen: 0.41818181818181815 diff: 0.13 CNc1cccc(Nc2cnn(C)c2)c1[N+](=O)[O-] <|begin_of_text|>[SIMILAR]CNc1cccc(Nc2cnn(C)c2)c1[N+](=O)[O-] 0.55[/SIMILAR][TPSA]72.99[/TPSA][SAS]2.35[/SAS][WEIGHT]260.13[/WEIGHT][RINGCOUNT]2[/RINGCOUNT][CLOGP]3.15[/CLOGP][FORMULA]C13H16N4O2[/FORMULA][QED]0.68[/QED][SMILES]CC(C)c1ccn(-c2cccc(NC)c2[N+](=O)[O-])n1[/SMILES]\n"
     ]
    },
    {
     "name": "stderr",
     "output_type": "stream",
     "text": [
      "[16:38:52] DEPRECATION WARNING: please use MorganGenerator\n",
      "[16:38:52] DEPRECATION WARNING: please use MorganGenerator\n",
      "The attention mask and the pad token id were not set. As a consequence, you may observe unexpected behavior. Please pass your input's `attention_mask` to obtain reliable results.\n",
      "Setting `pad_token_id` to `eos_token_id`:None for open-end generation.\n"
     ]
    },
    {
     "name": "stdout",
     "output_type": "stream",
     "text": [
      "GT: 0.6 Gen: 0.717391304347826 diff: 0.12 CNc1cccc(Nc2cnn(C)c2)c1[N+](=O)[O-] <|begin_of_text|>[SIMILAR]CNc1cccc(Nc2cnn(C)c2)c1[N+](=O)[O-] 0.60[/SIMILAR][TPSA]72.99[/TPSA][SAS]2.42[/SAS][WEIGHT]260.13[/WEIGHT][RINGCOUNT]2[/RINGCOUNT][CLOGP]3.15[/CLOGP][FORMULA]C13H16N4O2[/FORMULA][QED]0.68[/QED][SMILES]CC(C)c1cccc(Nc2cnn(C)c2)c1[N+](=O)[O-][/SMILES]\n"
     ]
    },
    {
     "name": "stderr",
     "output_type": "stream",
     "text": [
      "[16:38:53] DEPRECATION WARNING: please use MorganGenerator\n",
      "[16:38:53] DEPRECATION WARNING: please use MorganGenerator\n",
      "The attention mask and the pad token id were not set. As a consequence, you may observe unexpected behavior. Please pass your input's `attention_mask` to obtain reliable results.\n",
      "Setting `pad_token_id` to `eos_token_id`:None for open-end generation.\n"
     ]
    },
    {
     "name": "stdout",
     "output_type": "stream",
     "text": [
      "GT: 0.65 Gen: 1.0 diff: 0.35 CNc1cccc(Nc2cnn(C)c2)c1[N+](=O)[O-] <|begin_of_text|>[SIMILAR]CNc1cccc(Nc2cnn(C)c2)c1[N+](=O)[O-] 0.65[/SIMILAR][QED]0.65[/QED][WEIGHT]261.12[/WEIGHT][TPSA]85.02[/TPSA][CLOGP]2.28[/CLOGP][FORMULA]C12H15N5O2[/FORMULA][RINGCOUNT]2[/RINGCOUNT][SAS]2.50[/SAS][SMILES]CNc1cccc(Nc2cnn(C)c2)c1[N+](=O)[O-][/SMILES]\n"
     ]
    },
    {
     "name": "stderr",
     "output_type": "stream",
     "text": [
      "[16:38:54] DEPRECATION WARNING: please use MorganGenerator\n",
      "[16:38:54] DEPRECATION WARNING: please use MorganGenerator\n",
      "The attention mask and the pad token id were not set. As a consequence, you may observe unexpected behavior. Please pass your input's `attention_mask` to obtain reliable results.\n",
      "Setting `pad_token_id` to `eos_token_id`:None for open-end generation.\n"
     ]
    },
    {
     "name": "stdout",
     "output_type": "stream",
     "text": [
      "GT: 0.7 Gen: 0.6170212765957447 diff: 0.08 CNc1cccc(Nc2cnn(C)c2)c1[N+](=O)[O-] <|begin_of_text|>[SIMILAR]CNc1cccc(Nc2cnn(C)c2)c1[N+](=O)[O-] 0.70[/SIMILAR][QED]0.64[/QED][WEIGHT]261.12[/WEIGHT][TPSA]85.02[/TPSA][CLOGP]2.33[/CLOGP][FORMULA]C12H15N5O2[/FORMULA][RINGCOUNT]2[/RINGCOUNT][SAS]2.50[/SAS][SMILES]CNc1cccc(Nc2cnn(C)c2C)c1[N+](=O)[O-][/SMILES]\n"
     ]
    },
    {
     "name": "stderr",
     "output_type": "stream",
     "text": [
      "[16:38:54] DEPRECATION WARNING: please use MorganGenerator\n",
      "[16:38:54] DEPRECATION WARNING: please use MorganGenerator\n",
      "The attention mask and the pad token id were not set. As a consequence, you may observe unexpected behavior. Please pass your input's `attention_mask` to obtain reliable results.\n",
      "Setting `pad_token_id` to `eos_token_id`:None for open-end generation.\n"
     ]
    },
    {
     "name": "stdout",
     "output_type": "stream",
     "text": [
      "GT: 0.75 Gen: 0.7555555555555555 diff: 0.01 CNc1cccc(Nc2cnn(C)c2)c1[N+](=O)[O-] <|begin_of_text|>[SIMILAR]CNc1cccc(Nc2cnn(C)c2)c1[N+](=O)[O-] 0.75[/SIMILAR][QED]0.64[/QED][WEIGHT]261.12[/WEIGHT][FORMULA]C12H15N5O2[/FORMULA][TPSA]85.02[/TPSA][CLOGP]2.48[/CLOGP][SAS]2.50[/SAS][RINGCOUNT]2[/RINGCOUNT][SMILES]CCNc1cccc(Nc2cnn(C)c2)c1[N+](=O)[O-][/SMILES]\n"
     ]
    },
    {
     "name": "stderr",
     "output_type": "stream",
     "text": [
      "[16:38:55] DEPRECATION WARNING: please use MorganGenerator\n",
      "[16:38:55] DEPRECATION WARNING: please use MorganGenerator\n",
      "The attention mask and the pad token id were not set. As a consequence, you may observe unexpected behavior. Please pass your input's `attention_mask` to obtain reliable results.\n",
      "Setting `pad_token_id` to `eos_token_id`:None for open-end generation.\n"
     ]
    },
    {
     "name": "stdout",
     "output_type": "stream",
     "text": [
      "GT: 0.8 Gen: 1.0 diff: 0.2 CNc1cccc(Nc2cnn(C)c2)c1[N+](=O)[O-] <|begin_of_text|>[SIMILAR]CNc1cccc(Nc2cnn(C)c2)c1[N+](=O)[O-] 0.80[/SIMILAR][QED]0.64[/QED][WEIGHT]247.11[/WEIGHT][TPSA]85.02[/TPSA][FORMULA]C11H13N5O2[/FORMULA][CLOGP]2.10[/CLOGP][SAS]2.50[/SAS][RINGCOUNT]2[/RINGCOUNT][SMILES]CNc1cccc(Nc2cnn(C)c2)c1[N+](=O)[O-][/SMILES]\n"
     ]
    },
    {
     "name": "stderr",
     "output_type": "stream",
     "text": [
      "[16:38:55] DEPRECATION WARNING: please use MorganGenerator\n",
      "[16:38:55] DEPRECATION WARNING: please use MorganGenerator\n",
      "The attention mask and the pad token id were not set. As a consequence, you may observe unexpected behavior. Please pass your input's `attention_mask` to obtain reliable results.\n",
      "Setting `pad_token_id` to `eos_token_id`:None for open-end generation.\n"
     ]
    },
    {
     "name": "stdout",
     "output_type": "stream",
     "text": [
      "GT: 0.85 Gen: 1.0 diff: 0.15 CNc1cccc(Nc2cnn(C)c2)c1[N+](=O)[O-] <|begin_of_text|>[SIMILAR]CNc1cccc(Nc2cnn(C)c2)c1[N+](=O)[O-] 0.85[/SIMILAR][CLOGP]2.29[/CLOGP][FORMULA]C11H13N5O2[/FORMULA][WEIGHT]247.11[/WEIGHT][TPSA]85.02[/TPSA][SAS]2.50[/SAS][SMILES]CNc1cccc(Nc2cnn(C)c2)c1[N+](=O)[O-][/SMILES]\n"
     ]
    },
    {
     "name": "stderr",
     "output_type": "stream",
     "text": [
      "[16:38:56] DEPRECATION WARNING: please use MorganGenerator\n",
      "[16:38:56] DEPRECATION WARNING: please use MorganGenerator\n",
      "The attention mask and the pad token id were not set. As a consequence, you may observe unexpected behavior. Please pass your input's `attention_mask` to obtain reliable results.\n",
      "Setting `pad_token_id` to `eos_token_id`:None for open-end generation.\n"
     ]
    },
    {
     "name": "stdout",
     "output_type": "stream",
     "text": [
      "GT: 0.9 Gen: 1.0 diff: 0.1 CNc1cccc(Nc2cnn(C)c2)c1[N+](=O)[O-] <|begin_of_text|>[SIMILAR]CNc1cccc(Nc2cnn(C)c2)c1[N+](=O)[O-] 0.90[/SIMILAR][CLOGP]2.29[/CLOGP][FORMULA]C11H13N5O2[/FORMULA][WEIGHT]247.11[/WEIGHT][TPSA]84.19[/TPSA][QED]0.66[/QED][RINGCOUNT]2[/RINGCOUNT][SAS]2.47[/SAS][SMILES]CNc1cccc(Nc2cnn(C)c2)c1[N+](=O)[O-][/SMILES]\n"
     ]
    },
    {
     "name": "stderr",
     "output_type": "stream",
     "text": [
      "[16:38:57] DEPRECATION WARNING: please use MorganGenerator\n",
      "[16:38:57] DEPRECATION WARNING: please use MorganGenerator\n",
      "The attention mask and the pad token id were not set. As a consequence, you may observe unexpected behavior. Please pass your input's `attention_mask` to obtain reliable results.\n",
      "Setting `pad_token_id` to `eos_token_id`:None for open-end generation.\n"
     ]
    },
    {
     "name": "stdout",
     "output_type": "stream",
     "text": [
      "GT: 0.95 Gen: 0.926829268292683 diff: 0.02 CNc1cccc(Nc2cnn(C)c2)c1[N+](=O)[O-] <|begin_of_text|>[SIMILAR]CNc1cccc(Nc2cnn(C)c2)c1[N+](=O)[O-] 0.95[/SIMILAR][CLOGP]2.51[/CLOGP][QED]0.65[/QED][WEIGHT]261.12[/WEIGHT][FORMULA]C12H15N5O2[/FORMULA][SAS]2.51[/SAS][SMILES]CNc1cccc(Nc2cnn(C)c2)c1[N+](=O)[O-].c1cc2ccc1=2[/SMILES]\n"
     ]
    },
    {
     "name": "stderr",
     "output_type": "stream",
     "text": [
      "[16:38:57] DEPRECATION WARNING: please use MorganGenerator\n",
      "[16:38:57] DEPRECATION WARNING: please use MorganGenerator\n",
      "The attention mask and the pad token id were not set. As a consequence, you may observe unexpected behavior. Please pass your input's `attention_mask` to obtain reliable results.\n",
      "Setting `pad_token_id` to `eos_token_id`:None for open-end generation.\n"
     ]
    },
    {
     "name": "stdout",
     "output_type": "stream",
     "text": [
      "GT: 1.0 Gen: 1.0 diff: 0.0 CNc1cccc(Nc2cnn(C)c2)c1[N+](=O)[O-] <|begin_of_text|>[SIMILAR]CNc1cccc(Nc2cnn(C)c2)c1[N+](=O)[O-] 1.00[/SIMILAR][WEIGHT]247.11[/WEIGHT][FORMULA]C11H13N5O2[/FORMULA][SAS]2.49[/SAS][CLOGP]2.12[/CLOGP][SMILES]CNc1cccc(Nc2cnn(C)c2)c1[N+](=O)[O-][/SMILES]\n"
     ]
    },
    {
     "name": "stderr",
     "output_type": "stream",
     "text": [
      "[16:39:00] DEPRECATION WARNING: please use MorganGenerator\n",
      "[16:39:00] DEPRECATION WARNING: please use MorganGenerator\n",
      "The attention mask and the pad token id were not set. As a consequence, you may observe unexpected behavior. Please pass your input's `attention_mask` to obtain reliable results.\n",
      "Setting `pad_token_id` to `eos_token_id`:None for open-end generation.\n"
     ]
    },
    {
     "name": "stdout",
     "output_type": "stream",
     "text": [
      "GT: 0.2 Gen: 0.29285714285714287 diff: 0.09 O=C(NCC(O)CN1CCOCC1)Nc1snc(OCc2ccc(Cl)cc2F)c1C(=O)O <|begin_of_text|>[SIMILAR]O=C(NCC(O)CN1CCOCC1)Nc1snc(OCc2ccc(Cl)cc2F)c1C(=O)O 0.20[/SIMILAR][QED]0.02[/QED][WEIGHT]2429.78[/WEIGHT][SAS]7.98[/SAS][CLOGP]12.80[/CLOGP][TPSA]621.60[/TPSA][RINGCOUNT]12[/RINGCOUNT][FORMULA]C104H143Cl4F4N19O25S4[/FORMULA][SMILES]CC(C)NC(=O)CCS(=O)(=O)Nc1snc(OC(C)c2c(Cl)ccc(F)c2Cl)c1C(N)=O.CC(C)NC(=O)CCS(=O)(=O)Nc1snc(OC(C)c2c(F)ccc(Cl)c2F)c1C(N)=O.CC(Oc1nsc(NC(=O)NCCCN2CCOCC2)c1C(N)=O)c1c(F)ccc(Cl)c1F.CC(Oc1nsc(NC(=O)NCCCN2CCOCC2)c1C(N)=O)c1c(O)cccc1O.CC1CN(C(=O)CCS(=O)(=O)Nc2snc(OC(C)c3c(C(C)C)cccc3C(C)C)c2C(N)=O)CC(C)O1[/SMILES]\n"
     ]
    },
    {
     "name": "stderr",
     "output_type": "stream",
     "text": [
      "[16:39:01] SMILES Parse Error: unclosed ring for input: 'CC(C)CN(CCCCCCNC(=O)NCC(O)C(O)C(O)C(O)CO)C(=O)c1snc(OCc2c(F)cc(Cl)cc2F)c1C(=O)N(CC(C)C)CC(C)C.O=C(Oc1c(F)cc(Cl)cc1F)c1cns'\n",
      "[16:39:01] DEPRECATION WARNING: please use MorganGenerator\n",
      "The attention mask and the pad token id were not set. As a consequence, you may observe unexpected behavior. Please pass your input's `attention_mask` to obtain reliable results.\n",
      "Setting `pad_token_id` to `eos_token_id`:None for open-end generation.\n"
     ]
    },
    {
     "name": "stdout",
     "output_type": "stream",
     "text": [
      "GT: 0.25 <|begin_of_text|>[SIMILAR]O=C(NCC(O)CN1CCOCC1)Nc1snc(OCc2ccc(Cl)cc2F)c1C(=O)O 0.25[/SIMILAR][QED]0.05[/QED][WEIGHT]1002.32[/WEIGHT][CLOGP]6.25[/CLOGP][SAS]4.45[/SAS][FORMULA]C44H56Cl2F4N6O10S[/FORMULA][RINGCOUNT]4[/RINGCOUNT][TPSA]204.28[/TPSA][SMILES]CC(C)CN(CCCCCCNC(=O)NCC(O)C(O)C(O)C(O)CO)C(=O)c1snc(OCc2c(F)cc(Cl)cc2F)c1C(=O)N(CC(C)C)CC(C)C.O=C(Oc1c(F)cc(Cl)cc1F)c1cns[/SMILES]\n"
     ]
    },
    {
     "name": "stderr",
     "output_type": "stream",
     "text": [
      "[16:39:02] DEPRECATION WARNING: please use MorganGenerator\n",
      "[16:39:02] DEPRECATION WARNING: please use MorganGenerator\n",
      "The attention mask and the pad token id were not set. As a consequence, you may observe unexpected behavior. Please pass your input's `attention_mask` to obtain reliable results.\n",
      "Setting `pad_token_id` to `eos_token_id`:None for open-end generation.\n"
     ]
    },
    {
     "name": "stdout",
     "output_type": "stream",
     "text": [
      "GT: 0.3 Gen: 0.37373737373737376 diff: 0.07 O=C(NCC(O)CN1CCOCC1)Nc1snc(OCc2ccc(Cl)cc2F)c1C(=O)O <|begin_of_text|>[SIMILAR]O=C(NCC(O)CN1CCOCC1)Nc1snc(OCc2ccc(Cl)cc2F)c1C(=O)O 0.30[/SIMILAR][QED]0.32[/QED][WEIGHT]514.11[/WEIGHT][FORMULA]C22H24ClFN4O5S[/FORMULA][CLOGP]3.63[/CLOGP][SAS]3.35[/SAS][TPSA]113.02[/TPSA][RINGCOUNT]3[/RINGCOUNT][SMILES]COC(=O)c1c(OCc2c(F)cc(Cl)cc2F)nsc1NC(=O)NCCCN(C)Cc1ccoc1[/SMILES]\n"
     ]
    },
    {
     "name": "stderr",
     "output_type": "stream",
     "text": [
      "[16:39:03] DEPRECATION WARNING: please use MorganGenerator\n",
      "[16:39:03] DEPRECATION WARNING: please use MorganGenerator\n",
      "The attention mask and the pad token id were not set. As a consequence, you may observe unexpected behavior. Please pass your input's `attention_mask` to obtain reliable results.\n",
      "Setting `pad_token_id` to `eos_token_id`:None for open-end generation.\n"
     ]
    },
    {
     "name": "stdout",
     "output_type": "stream",
     "text": [
      "GT: 0.35 Gen: 0.29292929292929293 diff: 0.06 O=C(NCC(O)CN1CCOCC1)Nc1snc(OCc2ccc(Cl)cc2F)c1C(=O)O <|begin_of_text|>[SIMILAR]O=C(NCC(O)CN1CCOCC1)Nc1snc(OCc2ccc(Cl)cc2F)c1C(=O)O 0.35[/SIMILAR][CLOGP]3.29[/CLOGP][SAS]3.22[/SAS][FORMULA]C19H23ClN4O5S[/FORMULA][QED]0.50[/QED][WEIGHT]454.11[/WEIGHT][RINGCOUNT]3[/RINGCOUNT][TPSA]113.02[/TPSA][SMILES]CC(C)NC(=O)Nc1snc(OCC2=CC=C(Cl)CC2)c1C(=O)OCC(=O)NC1CC1[/SMILES]\n"
     ]
    },
    {
     "name": "stderr",
     "output_type": "stream",
     "text": [
      "[16:39:04] DEPRECATION WARNING: please use MorganGenerator\n",
      "[16:39:04] DEPRECATION WARNING: please use MorganGenerator\n",
      "The attention mask and the pad token id were not set. As a consequence, you may observe unexpected behavior. Please pass your input's `attention_mask` to obtain reliable results.\n",
      "Setting `pad_token_id` to `eos_token_id`:None for open-end generation.\n"
     ]
    },
    {
     "name": "stdout",
     "output_type": "stream",
     "text": [
      "GT: 0.4 Gen: 0.43820224719101125 diff: 0.04 O=C(NCC(O)CN1CCOCC1)Nc1snc(OCc2ccc(Cl)cc2F)c1C(=O)O <|begin_of_text|>[SIMILAR]O=C(NCC(O)CN1CCOCC1)Nc1snc(OCc2ccc(Cl)cc2F)c1C(=O)O 0.40[/SIMILAR][CLOGP]3.11[/CLOGP][SAS]3.26[/SAS][FORMULA]C19H23ClN4O5S[/FORMULA][QED]0.50[/QED][RINGCOUNT]3[/RINGCOUNT][TPSA]113.02[/TPSA][WEIGHT]454.11[/WEIGHT][SMILES]CCN1CCN(CCCNC(=O)Nc2snc(OCc3ccc(Cl)cc3)c2C(=O)O)C1=O[/SMILES]\n"
     ]
    },
    {
     "name": "stderr",
     "output_type": "stream",
     "text": [
      "[16:39:05] DEPRECATION WARNING: please use MorganGenerator\n",
      "[16:39:05] DEPRECATION WARNING: please use MorganGenerator\n",
      "The attention mask and the pad token id were not set. As a consequence, you may observe unexpected behavior. Please pass your input's `attention_mask` to obtain reliable results.\n",
      "Setting `pad_token_id` to `eos_token_id`:None for open-end generation.\n"
     ]
    },
    {
     "name": "stdout",
     "output_type": "stream",
     "text": [
      "GT: 0.45 Gen: 0.43820224719101125 diff: 0.01 O=C(NCC(O)CN1CCOCC1)Nc1snc(OCc2ccc(Cl)cc2F)c1C(=O)O <|begin_of_text|>[SIMILAR]O=C(NCC(O)CN1CCOCC1)Nc1snc(OCc2ccc(Cl)cc2F)c1C(=O)O 0.45[/SIMILAR][CLOGP]2.95[/CLOGP][SAS]3.26[/SAS][FORMULA]C19H23ClN4O5S[/FORMULA][QED]0.49[/QED][RINGCOUNT]3[/RINGCOUNT][TPSA]113.02[/TPSA][WEIGHT]454.11[/WEIGHT][SMILES]CCN1CCN(CCCNC(=O)Nc2snc(OCc3ccc(Cl)cc3)c2C(=O)O)C1=O[/SMILES]\n"
     ]
    },
    {
     "name": "stderr",
     "output_type": "stream",
     "text": [
      "[16:39:05] DEPRECATION WARNING: please use MorganGenerator\n",
      "[16:39:05] DEPRECATION WARNING: please use MorganGenerator\n",
      "The attention mask and the pad token id were not set. As a consequence, you may observe unexpected behavior. Please pass your input's `attention_mask` to obtain reliable results.\n",
      "Setting `pad_token_id` to `eos_token_id`:None for open-end generation.\n"
     ]
    },
    {
     "name": "stdout",
     "output_type": "stream",
     "text": [
      "GT: 0.5 Gen: 0.7702702702702703 diff: 0.27 O=C(NCC(O)CN1CCOCC1)Nc1snc(OCc2ccc(Cl)cc2F)c1C(=O)O <|begin_of_text|>[SIMILAR]O=C(NCC(O)CN1CCOCC1)Nc1snc(OCc2ccc(Cl)cc2F)c1C(=O)O 0.50[/SIMILAR][CLOGP]2.81[/CLOGP][SAS]3.26[/SAS][FORMULA]C19H22ClFN4O5S[/FORMULA][QED]0.46[/QED][RINGCOUNT]3[/RINGCOUNT][TPSA]113.02[/TPSA][SMILES]O=C(NCCCN1CCOCC1)Nc1snc(OCc2ccc(Cl)cc2F)c1C(=O)O[/SMILES]\n"
     ]
    },
    {
     "name": "stderr",
     "output_type": "stream",
     "text": [
      "[16:39:06] DEPRECATION WARNING: please use MorganGenerator\n",
      "[16:39:06] DEPRECATION WARNING: please use MorganGenerator\n",
      "The attention mask and the pad token id were not set. As a consequence, you may observe unexpected behavior. Please pass your input's `attention_mask` to obtain reliable results.\n",
      "Setting `pad_token_id` to `eos_token_id`:None for open-end generation.\n"
     ]
    },
    {
     "name": "stdout",
     "output_type": "stream",
     "text": [
      "GT: 0.55 Gen: 0.7702702702702703 diff: 0.22 O=C(NCC(O)CN1CCOCC1)Nc1snc(OCc2ccc(Cl)cc2F)c1C(=O)O <|begin_of_text|>[SIMILAR]O=C(NCC(O)CN1CCOCC1)Nc1snc(OCc2ccc(Cl)cc2F)c1C(=O)O 0.55[/SIMILAR][CLOGP]2.81[/CLOGP][SAS]3.23[/SAS][FORMULA]C19H22ClFN4O5S[/FORMULA][QED]0.46[/QED][RINGCOUNT]3[/RINGCOUNT][TPSA]113.02[/TPSA][SMILES]O=C(NCCCN1CCOCC1)Nc1snc(OCc2ccc(Cl)cc2F)c1C(=O)O[/SMILES]\n"
     ]
    },
    {
     "name": "stderr",
     "output_type": "stream",
     "text": [
      "[16:39:07] DEPRECATION WARNING: please use MorganGenerator\n",
      "[16:39:07] DEPRECATION WARNING: please use MorganGenerator\n",
      "The attention mask and the pad token id were not set. As a consequence, you may observe unexpected behavior. Please pass your input's `attention_mask` to obtain reliable results.\n",
      "Setting `pad_token_id` to `eos_token_id`:None for open-end generation.\n"
     ]
    },
    {
     "name": "stdout",
     "output_type": "stream",
     "text": [
      "GT: 0.6 Gen: 0.7466666666666667 diff: 0.15 O=C(NCC(O)CN1CCOCC1)Nc1snc(OCc2ccc(Cl)cc2F)c1C(=O)O <|begin_of_text|>[SIMILAR]O=C(NCC(O)CN1CCOCC1)Nc1snc(OCc2ccc(Cl)cc2F)c1C(=O)O 0.60[/SIMILAR][CLOGP]2.81[/CLOGP][SAS]3.23[/SAS][FORMULA]C20H24ClFN4O5S[/FORMULA][RINGCOUNT]3[/RINGCOUNT][QED]0.48[/QED][TPSA]113.02[/TPSA][SMILES]COC(=O)c1c(OCc2ccc(Cl)cc2F)nsc1NC(=O)NCC(O)CN1CCCC1[/SMILES]\n"
     ]
    },
    {
     "name": "stderr",
     "output_type": "stream",
     "text": [
      "[16:39:08] DEPRECATION WARNING: please use MorganGenerator\n",
      "[16:39:08] DEPRECATION WARNING: please use MorganGenerator\n",
      "The attention mask and the pad token id were not set. As a consequence, you may observe unexpected behavior. Please pass your input's `attention_mask` to obtain reliable results.\n",
      "Setting `pad_token_id` to `eos_token_id`:None for open-end generation.\n"
     ]
    },
    {
     "name": "stdout",
     "output_type": "stream",
     "text": [
      "GT: 0.65 Gen: 0.5595238095238095 diff: 0.09 O=C(NCC(O)CN1CCOCC1)Nc1snc(OCc2ccc(Cl)cc2F)c1C(=O)O <|begin_of_text|>[SIMILAR]O=C(NCC(O)CN1CCOCC1)Nc1snc(OCc2ccc(Cl)cc2F)c1C(=O)O 0.65[/SIMILAR][TPSA]113.02[/TPSA][WEIGHT]486.11[/WEIGHT][CLOGP]2.81[/CLOGP][SAS]3.22[/SAS][RINGCOUNT]3[/RINGCOUNT][QED]0.50[/QED][FORMULA]C20H24ClFN4O5S[/FORMULA][SMILES]CC(=O)N1CCN(CCC(O)Nc2snc(OCc3ccc(Cl)cc3F)c2C(=O)O)CC1[/SMILES]\n"
     ]
    },
    {
     "name": "stderr",
     "output_type": "stream",
     "text": [
      "[16:39:08] DEPRECATION WARNING: please use MorganGenerator\n",
      "[16:39:08] DEPRECATION WARNING: please use MorganGenerator\n",
      "The attention mask and the pad token id were not set. As a consequence, you may observe unexpected behavior. Please pass your input's `attention_mask` to obtain reliable results.\n",
      "Setting `pad_token_id` to `eos_token_id`:None for open-end generation.\n"
     ]
    },
    {
     "name": "stdout",
     "output_type": "stream",
     "text": [
      "GT: 0.7 Gen: 0.8026315789473685 diff: 0.1 O=C(NCC(O)CN1CCOCC1)Nc1snc(OCc2ccc(Cl)cc2F)c1C(=O)O <|begin_of_text|>[SIMILAR]O=C(NCC(O)CN1CCOCC1)Nc1snc(OCc2ccc(Cl)cc2F)c1C(=O)O 0.70[/SIMILAR][TPSA]133.25[/TPSA][WEIGHT]486.08[/WEIGHT][QED]0.42[/QED][SAS]3.22[/SAS][CLOGP]2.02[/CLOGP][RINGCOUNT]3[/RINGCOUNT][FORMULA]C19H20ClFN4O6S[/FORMULA][SMILES]O=C(NCC(O)CN1CCOCC1=O)Nc1snc(OCc2ccc(Cl)cc2F)c1C(=O)O[/SMILES]\n"
     ]
    },
    {
     "name": "stderr",
     "output_type": "stream",
     "text": [
      "[16:39:09] DEPRECATION WARNING: please use MorganGenerator\n",
      "[16:39:09] DEPRECATION WARNING: please use MorganGenerator\n",
      "The attention mask and the pad token id were not set. As a consequence, you may observe unexpected behavior. Please pass your input's `attention_mask` to obtain reliable results.\n",
      "Setting `pad_token_id` to `eos_token_id`:None for open-end generation.\n"
     ]
    },
    {
     "name": "stdout",
     "output_type": "stream",
     "text": [
      "GT: 0.75 Gen: 0.821917808219178 diff: 0.07 O=C(NCC(O)CN1CCOCC1)Nc1snc(OCc2ccc(Cl)cc2F)c1C(=O)O <|begin_of_text|>[SIMILAR]O=C(NCC(O)CN1CCOCC1)Nc1snc(OCc2ccc(Cl)cc2F)c1C(=O)O 0.75[/SIMILAR][TPSA]133.25[/TPSA][WEIGHT]486.11[/WEIGHT][QED]0.42[/QED][SAS]3.19[/SAS][CLOGP]1.91[/CLOGP][RINGCOUNT]3[/RINGCOUNT][FORMULA]C20H24ClFN4O5S[/FORMULA][SMILES]O=C(NCC(O)CN1CCC(O)CC1)Nc1snc(OCc2ccc(Cl)cc2F)c1C(=O)O[/SMILES]\n"
     ]
    },
    {
     "name": "stderr",
     "output_type": "stream",
     "text": [
      "[16:39:10] WARNING: not removing hydrogen atom without neighbors\n",
      "[16:39:10] DEPRECATION WARNING: please use MorganGenerator\n",
      "[16:39:10] DEPRECATION WARNING: please use MorganGenerator\n",
      "The attention mask and the pad token id were not set. As a consequence, you may observe unexpected behavior. Please pass your input's `attention_mask` to obtain reliable results.\n",
      "Setting `pad_token_id` to `eos_token_id`:None for open-end generation.\n"
     ]
    },
    {
     "name": "stdout",
     "output_type": "stream",
     "text": [
      "GT: 0.8 Gen: 0.9850746268656716 diff: 0.19 O=C(NCC(O)CN1CCOCC1)Nc1snc(OCc2ccc(Cl)cc2F)c1C(=O)O <|begin_of_text|>[SIMILAR]O=C(NCC(O)CN1CCOCC1)Nc1snc(OCc2ccc(Cl)cc2F)c1C(=O)O 0.80[/SIMILAR][TPSA]133.25[/TPSA][WEIGHT]486.11[/WEIGHT][QED]0.42[/QED][SAS]3.18[/SAS][CLOGP]1.87[/CLOGP][RINGCOUNT]3[/RINGCOUNT][FORMULA]C19H24ClFN4O6S[/FORMULA][SMILES]O=C(NCC(O)CN1CCOCC1)Nc1snc(OCc2ccc(Cl)cc2F)c1C(=O)O.[HH][/SMILES]\n"
     ]
    },
    {
     "name": "stderr",
     "output_type": "stream",
     "text": [
      "[16:39:11] DEPRECATION WARNING: please use MorganGenerator\n",
      "[16:39:11] DEPRECATION WARNING: please use MorganGenerator\n",
      "The attention mask and the pad token id were not set. As a consequence, you may observe unexpected behavior. Please pass your input's `attention_mask` to obtain reliable results.\n",
      "Setting `pad_token_id` to `eos_token_id`:None for open-end generation.\n"
     ]
    },
    {
     "name": "stdout",
     "output_type": "stream",
     "text": [
      "GT: 0.85 Gen: 1.0 diff: 0.15 O=C(NCC(O)CN1CCOCC1)Nc1snc(OCc2ccc(Cl)cc2F)c1C(=O)O <|begin_of_text|>[SIMILAR]O=C(NCC(O)CN1CCOCC1)Nc1snc(OCc2ccc(Cl)cc2F)c1C(=O)O 0.85[/SIMILAR][FORMULA]C19H22ClFN4O6S[/FORMULA][WEIGHT]488.09[/WEIGHT][RINGCOUNT]3[/RINGCOUNT][CLOGP]1.87[/CLOGP][QED]0.42[/QED][TPSA]133.25[/TPSA][SAS]3.17[/SAS][SMILES]O=C(NCC(O)CN1CCOCC1)Nc1snc(OCc2ccc(Cl)cc2F)c1C(=O)O[/SMILES]\n"
     ]
    },
    {
     "name": "stderr",
     "output_type": "stream",
     "text": [
      "[16:39:12] DEPRECATION WARNING: please use MorganGenerator\n",
      "[16:39:12] DEPRECATION WARNING: please use MorganGenerator\n",
      "The attention mask and the pad token id were not set. As a consequence, you may observe unexpected behavior. Please pass your input's `attention_mask` to obtain reliable results.\n",
      "Setting `pad_token_id` to `eos_token_id`:None for open-end generation.\n"
     ]
    },
    {
     "name": "stdout",
     "output_type": "stream",
     "text": [
      "GT: 0.9 Gen: 1.0 diff: 0.1 O=C(NCC(O)CN1CCOCC1)Nc1snc(OCc2ccc(Cl)cc2F)c1C(=O)O <|begin_of_text|>[SIMILAR]O=C(NCC(O)CN1CCOCC1)Nc1snc(OCc2ccc(Cl)cc2F)c1C(=O)O 0.90[/SIMILAR][FORMULA]C19H22ClFN4O6S[/FORMULA][WEIGHT]488.09[/WEIGHT][SAS]3.16[/SAS][RINGCOUNT]3[/RINGCOUNT][CLOGP]1.87[/CLOGP][TPSA]133.25[/TPSA][QED]0.42[/QED][SMILES]O=C(NCC(O)CN1CCOCC1)Nc1snc(OCc2ccc(Cl)cc2F)c1C(=O)O[/SMILES]\n"
     ]
    },
    {
     "name": "stderr",
     "output_type": "stream",
     "text": [
      "[16:39:12] DEPRECATION WARNING: please use MorganGenerator\n",
      "[16:39:12] DEPRECATION WARNING: please use MorganGenerator\n",
      "The attention mask and the pad token id were not set. As a consequence, you may observe unexpected behavior. Please pass your input's `attention_mask` to obtain reliable results.\n",
      "Setting `pad_token_id` to `eos_token_id`:None for open-end generation.\n"
     ]
    },
    {
     "name": "stdout",
     "output_type": "stream",
     "text": [
      "GT: 0.95 Gen: 1.0 diff: 0.05 O=C(NCC(O)CN1CCOCC1)Nc1snc(OCc2ccc(Cl)cc2F)c1C(=O)O <|begin_of_text|>[SIMILAR]O=C(NCC(O)CN1CCOCC1)Nc1snc(OCc2ccc(Cl)cc2F)c1C(=O)O 0.95[/SIMILAR][FORMULA]C19H22ClFN4O6S[/FORMULA][SAS]3.16[/SAS][RINGCOUNT]3[/RINGCOUNT][QED]0.42[/QED][WEIGHT]488.09[/WEIGHT][CLOGP]1.91[/CLOGP][TPSA]133.25[/TPSA][SMILES]O=C(NCC(O)CN1CCOCC1)Nc1snc(OCc2ccc(Cl)cc2F)c1C(=O)O[/SMILES]\n"
     ]
    },
    {
     "name": "stderr",
     "output_type": "stream",
     "text": [
      "[16:39:13] DEPRECATION WARNING: please use MorganGenerator\n",
      "[16:39:13] DEPRECATION WARNING: please use MorganGenerator\n",
      "The attention mask and the pad token id were not set. As a consequence, you may observe unexpected behavior. Please pass your input's `attention_mask` to obtain reliable results.\n",
      "Setting `pad_token_id` to `eos_token_id`:None for open-end generation.\n"
     ]
    },
    {
     "name": "stdout",
     "output_type": "stream",
     "text": [
      "GT: 1.0 Gen: 1.0 diff: 0.0 O=C(NCC(O)CN1CCOCC1)Nc1snc(OCc2ccc(Cl)cc2F)c1C(=O)O <|begin_of_text|>[SIMILAR]O=C(NCC(O)CN1CCOCC1)Nc1snc(OCc2ccc(Cl)cc2F)c1C(=O)O 1.00[/SIMILAR][QED]0.42[/QED][WEIGHT]488.09[/WEIGHT][TPSA]133.25[/TPSA][CLOGP]1.94[/CLOGP][FORMULA]C19H22ClFN4O6S[/FORMULA][SMILES]O=C(NCC(O)CN1CCOCC1)Nc1snc(OCc2ccc(Cl)cc2F)c1C(=O)O[/SMILES]\n"
     ]
    },
    {
     "name": "stderr",
     "output_type": "stream",
     "text": [
      "[16:39:14] DEPRECATION WARNING: please use MorganGenerator\n",
      "[16:39:14] DEPRECATION WARNING: please use MorganGenerator\n",
      "The attention mask and the pad token id were not set. As a consequence, you may observe unexpected behavior. Please pass your input's `attention_mask` to obtain reliable results.\n",
      "Setting `pad_token_id` to `eos_token_id`:None for open-end generation.\n"
     ]
    },
    {
     "name": "stdout",
     "output_type": "stream",
     "text": [
      "GT: 0.2 Gen: 0.1686746987951807 diff: 0.03 CCC(=O)c1sc(NC2C3C4CCC(C4)C23)c(OC)c1N <|begin_of_text|>[SIMILAR]CCC(=O)c1sc(NC2C3C4CCC(C4)C23)c(OC)c1N 0.20[/SIMILAR][FORMULA]C16H24N2O2S[/FORMULA][CLOGP]3.86[/CLOGP][SAS]4.11[/SAS][QED]0.84[/QED][RINGCOUNT]3[/RINGCOUNT][TPSA]64.35[/TPSA][WEIGHT]308.16[/WEIGHT][SMILES]CC(C)Oc1c(NC2C3(C)CCC(C3)C2(C)C)sc2c(=O)[nH]cnc12[/SMILES]\n"
     ]
    },
    {
     "name": "stderr",
     "output_type": "stream",
     "text": [
      "[16:39:15] DEPRECATION WARNING: please use MorganGenerator\n",
      "[16:39:15] DEPRECATION WARNING: please use MorganGenerator\n",
      "The attention mask and the pad token id were not set. As a consequence, you may observe unexpected behavior. Please pass your input's `attention_mask` to obtain reliable results.\n",
      "Setting `pad_token_id` to `eos_token_id`:None for open-end generation.\n"
     ]
    },
    {
     "name": "stdout",
     "output_type": "stream",
     "text": [
      "GT: 0.25 Gen: 0.3333333333333333 diff: 0.08 CCC(=O)c1sc(NC2C3C4CCC(C4)C23)c(OC)c1N <|begin_of_text|>[SIMILAR]CCC(=O)c1sc(NC2C3C4CCC(C4)C23)c(OC)c1N 0.25[/SIMILAR][FORMULA]C16H24N2O2S[/FORMULA][CLOGP]3.86[/CLOGP][SAS]4.11[/SAS][QED]0.84[/QED][RINGCOUNT]3[/RINGCOUNT][TPSA]64.35[/TPSA][WEIGHT]308.16[/WEIGHT][SMILES]CC(C)Oc1c(NC2CC3CCC2C3)sc(C(N)=O)c1C[/SMILES]\n"
     ]
    },
    {
     "name": "stderr",
     "output_type": "stream",
     "text": [
      "[16:39:15] DEPRECATION WARNING: please use MorganGenerator\n",
      "[16:39:15] DEPRECATION WARNING: please use MorganGenerator\n",
      "The attention mask and the pad token id were not set. As a consequence, you may observe unexpected behavior. Please pass your input's `attention_mask` to obtain reliable results.\n",
      "Setting `pad_token_id` to `eos_token_id`:None for open-end generation.\n"
     ]
    },
    {
     "name": "stdout",
     "output_type": "stream",
     "text": [
      "GT: 0.3 Gen: 0.3968253968253968 diff: 0.1 CCC(=O)c1sc(NC2C3C4CCC(C4)C23)c(OC)c1N <|begin_of_text|>[SIMILAR]CCC(=O)c1sc(NC2C3C4CCC(C4)C23)c(OC)c1N 0.30[/SIMILAR][FORMULA]C16H24N2O2S[/FORMULA][CLOGP]3.86[/CLOGP][SAS]4.35[/SAS][QED]0.81[/QED][RINGCOUNT]3[/RINGCOUNT][TPSA]64.35[/TPSA][WEIGHT]308.16[/WEIGHT][SMILES]CC(C)Oc1c(NC2CC3CCC2C3)sc(C(C)=O)c1N[/SMILES]\n"
     ]
    },
    {
     "name": "stderr",
     "output_type": "stream",
     "text": [
      "[16:39:16] DEPRECATION WARNING: please use MorganGenerator\n",
      "[16:39:16] DEPRECATION WARNING: please use MorganGenerator\n",
      "The attention mask and the pad token id were not set. As a consequence, you may observe unexpected behavior. Please pass your input's `attention_mask` to obtain reliable results.\n",
      "Setting `pad_token_id` to `eos_token_id`:None for open-end generation.\n"
     ]
    },
    {
     "name": "stdout",
     "output_type": "stream",
     "text": [
      "GT: 0.35 Gen: 0.3968253968253968 diff: 0.05 CCC(=O)c1sc(NC2C3C4CCC(C4)C23)c(OC)c1N <|begin_of_text|>[SIMILAR]CCC(=O)c1sc(NC2C3C4CCC(C4)C23)c(OC)c1N 0.35[/SIMILAR][FORMULA]C16H24N2O2S[/FORMULA][CLOGP]3.86[/CLOGP][SAS]4.36[/SAS][RINGCOUNT]3[/RINGCOUNT][QED]0.81[/QED][TPSA]64.35[/TPSA][WEIGHT]308.16[/WEIGHT][SMILES]CC(C)Oc1c(NC2CC3CCC2C3)sc(C(C)=O)c1N[/SMILES]\n"
     ]
    },
    {
     "name": "stderr",
     "output_type": "stream",
     "text": [
      "[16:39:17] DEPRECATION WARNING: please use MorganGenerator\n",
      "[16:39:17] DEPRECATION WARNING: please use MorganGenerator\n",
      "The attention mask and the pad token id were not set. As a consequence, you may observe unexpected behavior. Please pass your input's `attention_mask` to obtain reliable results.\n",
      "Setting `pad_token_id` to `eos_token_id`:None for open-end generation.\n"
     ]
    },
    {
     "name": "stdout",
     "output_type": "stream",
     "text": [
      "GT: 0.4 Gen: 0.4576271186440678 diff: 0.06 CCC(=O)c1sc(NC2C3C4CCC(C4)C23)c(OC)c1N <|begin_of_text|>[SIMILAR]CCC(=O)c1sc(NC2C3C4CCC(C4)C23)c(OC)c1N 0.40[/SIMILAR][FORMULA]C16H24N2O2S[/FORMULA][CLOGP]3.86[/CLOGP][SAS]4.36[/SAS][RINGCOUNT]3[/RINGCOUNT][QED]0.81[/QED][TPSA]64.35[/TPSA][WEIGHT]308.16[/WEIGHT][SMILES]COc1c(NC2CCCC(C)C2C)sc(C(=O)C2CC2)c1N[/SMILES]\n"
     ]
    },
    {
     "name": "stderr",
     "output_type": "stream",
     "text": [
      "[16:39:17] DEPRECATION WARNING: please use MorganGenerator\n",
      "[16:39:17] DEPRECATION WARNING: please use MorganGenerator\n",
      "The attention mask and the pad token id were not set. As a consequence, you may observe unexpected behavior. Please pass your input's `attention_mask` to obtain reliable results.\n",
      "Setting `pad_token_id` to `eos_token_id`:None for open-end generation.\n"
     ]
    },
    {
     "name": "stdout",
     "output_type": "stream",
     "text": [
      "GT: 0.45 Gen: 0.5614035087719298 diff: 0.11 CCC(=O)c1sc(NC2C3C4CCC(C4)C23)c(OC)c1N <|begin_of_text|>[SIMILAR]CCC(=O)c1sc(NC2C3C4CCC(C4)C23)c(OC)c1N 0.45[/SIMILAR][FORMULA]C16H24N2O2S[/FORMULA][CLOGP]3.86[/CLOGP][SAS]4.57[/SAS][QED]0.78[/QED][RINGCOUNT]3[/RINGCOUNT][TPSA]64.35[/TPSA][WEIGHT]308.16[/WEIGHT][SMILES]CCOc1c(NC2CC3CCC2C3)sc(C(=O)CC)c1N[/SMILES]\n"
     ]
    },
    {
     "name": "stderr",
     "output_type": "stream",
     "text": [
      "[16:39:18] DEPRECATION WARNING: please use MorganGenerator\n",
      "[16:39:18] DEPRECATION WARNING: please use MorganGenerator\n",
      "The attention mask and the pad token id were not set. As a consequence, you may observe unexpected behavior. Please pass your input's `attention_mask` to obtain reliable results.\n",
      "Setting `pad_token_id` to `eos_token_id`:None for open-end generation.\n"
     ]
    },
    {
     "name": "stdout",
     "output_type": "stream",
     "text": [
      "GT: 0.5 Gen: 0.6140350877192983 diff: 0.11 CCC(=O)c1sc(NC2C3C4CCC(C4)C23)c(OC)c1N <|begin_of_text|>[SIMILAR]CCC(=O)c1sc(NC2C3C4CCC(C4)C23)c(OC)c1N 0.50[/SIMILAR][FORMULA]C16H24N2O2S[/FORMULA][CLOGP]3.79[/CLOGP][SAS]4.60[/SAS][RINGCOUNT]3[/RINGCOUNT][QED]0.78[/QED][TPSA]64.35[/TPSA][WEIGHT]308.16[/WEIGHT][SMILES]CCC(=O)c1sc(NC(C)C2CC3CCC2C3)c(OC)c1N[/SMILES]\n"
     ]
    },
    {
     "name": "stderr",
     "output_type": "stream",
     "text": [
      "[16:39:19] DEPRECATION WARNING: please use MorganGenerator\n",
      "[16:39:19] DEPRECATION WARNING: please use MorganGenerator\n",
      "The attention mask and the pad token id were not set. As a consequence, you may observe unexpected behavior. Please pass your input's `attention_mask` to obtain reliable results.\n",
      "Setting `pad_token_id` to `eos_token_id`:None for open-end generation.\n"
     ]
    },
    {
     "name": "stdout",
     "output_type": "stream",
     "text": [
      "GT: 0.55 Gen: 0.5357142857142857 diff: 0.01 CCC(=O)c1sc(NC2C3C4CCC(C4)C23)c(OC)c1N <|begin_of_text|>[SIMILAR]CCC(=O)c1sc(NC2C3C4CCC(C4)C23)c(OC)c1N 0.55[/SIMILAR][RINGCOUNT]3[/RINGCOUNT][TPSA]64.35[/TPSA][SAS]4.57[/SAS][CLOGP]3.14[/CLOGP][FORMULA]C15H22N2O2S[/FORMULA][QED]0.82[/QED][WEIGHT]294.14[/WEIGHT][SMILES]COc1c(NC2CC3CCC2C3)sc(C(=O)C2CC2)c1N[/SMILES]\n"
     ]
    },
    {
     "name": "stderr",
     "output_type": "stream",
     "text": [
      "[16:39:20] DEPRECATION WARNING: please use MorganGenerator\n",
      "[16:39:20] DEPRECATION WARNING: please use MorganGenerator\n",
      "The attention mask and the pad token id were not set. As a consequence, you may observe unexpected behavior. Please pass your input's `attention_mask` to obtain reliable results.\n",
      "Setting `pad_token_id` to `eos_token_id`:None for open-end generation.\n"
     ]
    },
    {
     "name": "stdout",
     "output_type": "stream",
     "text": [
      "GT: 0.6 Gen: 0.7659574468085106 diff: 0.17 CCC(=O)c1sc(NC2C3C4CCC(C4)C23)c(OC)c1N <|begin_of_text|>[SIMILAR]CCC(=O)c1sc(NC2C3C4CCC(C4)C23)c(OC)c1N 0.60[/SIMILAR][RINGCOUNT]4[/RINGCOUNT][FORMULA]C16H22N2O2S[/FORMULA][CLOGP]3.54[/CLOGP][QED]0.84[/QED][SAS]4.92[/SAS][TPSA]64.35[/TPSA][WEIGHT]306.14[/WEIGHT][SMILES]COc1c(NC2C3C4CCC(C4)C23)sc(C(C)=O)c1N[/SMILES]\n"
     ]
    },
    {
     "name": "stderr",
     "output_type": "stream",
     "text": [
      "[16:39:20] DEPRECATION WARNING: please use MorganGenerator\n",
      "[16:39:20] DEPRECATION WARNING: please use MorganGenerator\n",
      "The attention mask and the pad token id were not set. As a consequence, you may observe unexpected behavior. Please pass your input's `attention_mask` to obtain reliable results.\n",
      "Setting `pad_token_id` to `eos_token_id`:None for open-end generation.\n"
     ]
    },
    {
     "name": "stdout",
     "output_type": "stream",
     "text": [
      "GT: 0.65 Gen: 0.7872340425531915 diff: 0.14 CCC(=O)c1sc(NC2C3C4CCC(C4)C23)c(OC)c1N <|begin_of_text|>[SIMILAR]CCC(=O)c1sc(NC2C3C4CCC(C4)C23)c(OC)c1N 0.65[/SIMILAR][RINGCOUNT]4[/RINGCOUNT][TPSA]64.35[/TPSA][SAS]4.97[/SAS][CLOGP]3.13[/CLOGP][FORMULA]C16H22N2O2S[/FORMULA][QED]0.84[/QED][WEIGHT]306.14[/WEIGHT][SMILES]COc1c(NC2C3C4CCC(C4)C23)sc(C(=O)C2CC2)c1N[/SMILES]\n"
     ]
    },
    {
     "name": "stderr",
     "output_type": "stream",
     "text": [
      "[16:39:21] DEPRECATION WARNING: please use MorganGenerator\n",
      "[16:39:21] DEPRECATION WARNING: please use MorganGenerator\n",
      "The attention mask and the pad token id were not set. As a consequence, you may observe unexpected behavior. Please pass your input's `attention_mask` to obtain reliable results.\n",
      "Setting `pad_token_id` to `eos_token_id`:None for open-end generation.\n"
     ]
    },
    {
     "name": "stdout",
     "output_type": "stream",
     "text": [
      "GT: 0.7 Gen: 0.7872340425531915 diff: 0.09 CCC(=O)c1sc(NC2C3C4CCC(C4)C23)c(OC)c1N <|begin_of_text|>[SIMILAR]CCC(=O)c1sc(NC2C3C4CCC(C4)C23)c(OC)c1N 0.70[/SIMILAR][RINGCOUNT]4[/RINGCOUNT][TPSA]64.35[/TPSA][SAS]5.07[/SAS][CLOGP]3.13[/CLOGP][QED]0.84[/QED][FORMULA]C16H22N2O2S[/FORMULA][WEIGHT]306.14[/WEIGHT][SMILES]COc1c(NC2C3C4CCC(C4)C23)sc(C(=O)C2CC2)c1N[/SMILES]\n"
     ]
    },
    {
     "name": "stderr",
     "output_type": "stream",
     "text": [
      "[16:39:22] DEPRECATION WARNING: please use MorganGenerator\n",
      "[16:39:22] DEPRECATION WARNING: please use MorganGenerator\n",
      "The attention mask and the pad token id were not set. As a consequence, you may observe unexpected behavior. Please pass your input's `attention_mask` to obtain reliable results.\n",
      "Setting `pad_token_id` to `eos_token_id`:None for open-end generation.\n"
     ]
    },
    {
     "name": "stdout",
     "output_type": "stream",
     "text": [
      "GT: 0.75 Gen: 0.7872340425531915 diff: 0.04 CCC(=O)c1sc(NC2C3C4CCC(C4)C23)c(OC)c1N <|begin_of_text|>[SIMILAR]CCC(=O)c1sc(NC2C3C4CCC(C4)C23)c(OC)c1N 0.75[/SIMILAR][RINGCOUNT]4[/RINGCOUNT][TPSA]64.35[/TPSA][SAS]5.10[/SAS][CLOGP]3.23[/CLOGP][QED]0.82[/QED][FORMULA]C16H22N2O2S[/FORMULA][WEIGHT]306.14[/WEIGHT][SMILES]COc1c(NC2C3C4CCC(C4)C23)sc(C(=O)C2CC2)c1N[/SMILES]\n"
     ]
    },
    {
     "name": "stderr",
     "output_type": "stream",
     "text": [
      "[16:39:22] DEPRECATION WARNING: please use MorganGenerator\n",
      "[16:39:22] DEPRECATION WARNING: please use MorganGenerator\n",
      "The attention mask and the pad token id were not set. As a consequence, you may observe unexpected behavior. Please pass your input's `attention_mask` to obtain reliable results.\n",
      "Setting `pad_token_id` to `eos_token_id`:None for open-end generation.\n"
     ]
    },
    {
     "name": "stdout",
     "output_type": "stream",
     "text": [
      "GT: 0.8 Gen: 1.0 diff: 0.2 CCC(=O)c1sc(NC2C3C4CCC(C4)C23)c(OC)c1N <|begin_of_text|>[SIMILAR]CCC(=O)c1sc(NC2C3C4CCC(C4)C23)c(OC)c1N 0.80[/SIMILAR][RINGCOUNT]4[/RINGCOUNT][TPSA]64.35[/TPSA][SAS]5.10[/SAS][CLOGP]3.29[/CLOGP][QED]0.82[/QED][FORMULA]C16H22N2O2S[/FORMULA][WEIGHT]306.14[/WEIGHT][SMILES]CCC(=O)c1sc(NC2C3C4CCC(C4)C23)c(OC)c1N[/SMILES]\n"
     ]
    },
    {
     "name": "stderr",
     "output_type": "stream",
     "text": [
      "[16:39:23] DEPRECATION WARNING: please use MorganGenerator\n",
      "[16:39:23] DEPRECATION WARNING: please use MorganGenerator\n",
      "The attention mask and the pad token id were not set. As a consequence, you may observe unexpected behavior. Please pass your input's `attention_mask` to obtain reliable results.\n",
      "Setting `pad_token_id` to `eos_token_id`:None for open-end generation.\n"
     ]
    },
    {
     "name": "stdout",
     "output_type": "stream",
     "text": [
      "GT: 0.85 Gen: 1.0 diff: 0.15 CCC(=O)c1sc(NC2C3C4CCC(C4)C23)c(OC)c1N <|begin_of_text|>[SIMILAR]CCC(=O)c1sc(NC2C3C4CCC(C4)C23)c(OC)c1N 0.85[/SIMILAR][RINGCOUNT]4[/RINGCOUNT][TPSA]64.35[/TPSA][SAS]5.10[/SAS][CLOGP]3.29[/CLOGP][QED]0.82[/QED][FORMULA]C16H22N2O2S[/FORMULA][WEIGHT]306.14[/WEIGHT][SMILES]CCC(=O)c1sc(NC2C3C4CCC(C4)C23)c(OC)c1N[/SMILES]\n"
     ]
    },
    {
     "name": "stderr",
     "output_type": "stream",
     "text": [
      "[16:39:24] DEPRECATION WARNING: please use MorganGenerator\n",
      "[16:39:24] DEPRECATION WARNING: please use MorganGenerator\n",
      "The attention mask and the pad token id were not set. As a consequence, you may observe unexpected behavior. Please pass your input's `attention_mask` to obtain reliable results.\n",
      "Setting `pad_token_id` to `eos_token_id`:None for open-end generation.\n"
     ]
    },
    {
     "name": "stdout",
     "output_type": "stream",
     "text": [
      "GT: 0.9 Gen: 1.0 diff: 0.1 CCC(=O)c1sc(NC2C3C4CCC(C4)C23)c(OC)c1N <|begin_of_text|>[SIMILAR]CCC(=O)c1sc(NC2C3C4CCC(C4)C23)c(OC)c1N 0.90[/SIMILAR][RINGCOUNT]4[/RINGCOUNT][TPSA]64.35[/TPSA][QED]0.82[/QED][CLOGP]3.36[/CLOGP][SAS]5.05[/SAS][FORMULA]C16H22N2O2S[/FORMULA][WEIGHT]306.14[/WEIGHT][SMILES]CCC(=O)c1sc(NC2C3C4CCC(C4)C23)c(OC)c1N[/SMILES]\n"
     ]
    },
    {
     "name": "stderr",
     "output_type": "stream",
     "text": [
      "[16:39:24] DEPRECATION WARNING: please use MorganGenerator\n",
      "[16:39:24] DEPRECATION WARNING: please use MorganGenerator\n",
      "The attention mask and the pad token id were not set. As a consequence, you may observe unexpected behavior. Please pass your input's `attention_mask` to obtain reliable results.\n",
      "Setting `pad_token_id` to `eos_token_id`:None for open-end generation.\n"
     ]
    },
    {
     "name": "stdout",
     "output_type": "stream",
     "text": [
      "GT: 0.95 Gen: 1.0 diff: 0.05 CCC(=O)c1sc(NC2C3C4CCC(C4)C23)c(OC)c1N <|begin_of_text|>[SIMILAR]CCC(=O)c1sc(NC2C3C4CCC(C4)C23)c(OC)c1N 0.95[/SIMILAR][CLOGP]3.71[/CLOGP][FORMULA]C17H24N2O2S[/FORMULA][SAS]5.11[/SAS][TPSA]64.35[/TPSA][QED]0.81[/QED][WEIGHT]320.16[/WEIGHT][RINGCOUNT]4[/RINGCOUNT][SMILES]CCC(=O)c1sc(NC2C3C4CCC(C4)C23)c(OC)c1N[/SMILES]\n"
     ]
    },
    {
     "name": "stderr",
     "output_type": "stream",
     "text": [
      "[16:39:25] DEPRECATION WARNING: please use MorganGenerator\n",
      "[16:39:25] DEPRECATION WARNING: please use MorganGenerator\n",
      "The attention mask and the pad token id were not set. As a consequence, you may observe unexpected behavior. Please pass your input's `attention_mask` to obtain reliable results.\n",
      "Setting `pad_token_id` to `eos_token_id`:None for open-end generation.\n"
     ]
    },
    {
     "name": "stdout",
     "output_type": "stream",
     "text": [
      "GT: 1.0 Gen: 1.0 diff: 0.0 CCC(=O)c1sc(NC2C3C4CCC(C4)C23)c(OC)c1N <|begin_of_text|>[SIMILAR]CCC(=O)c1sc(NC2C3C4CCC(C4)C23)c(OC)c1N 1.00[/SIMILAR][QED]0.82[/QED][CLOGP]3.32[/CLOGP][WEIGHT]306.14[/WEIGHT][FORMULA]C16H22N2O2S[/FORMULA][SAS]5.09[/SAS][TPSA]64.35[/TPSA][RINGCOUNT]4[/RINGCOUNT][SMILES]CCC(=O)c1sc(NC2C3C4CCC(C4)C23)c(OC)c1N[/SMILES]\n"
     ]
    },
    {
     "name": "stderr",
     "output_type": "stream",
     "text": [
      "[16:39:26] DEPRECATION WARNING: please use MorganGenerator\n",
      "[16:39:26] DEPRECATION WARNING: please use MorganGenerator\n",
      "The attention mask and the pad token id were not set. As a consequence, you may observe unexpected behavior. Please pass your input's `attention_mask` to obtain reliable results.\n",
      "Setting `pad_token_id` to `eos_token_id`:None for open-end generation.\n"
     ]
    },
    {
     "name": "stdout",
     "output_type": "stream",
     "text": [
      "GT: 0.2 Gen: 0.26785714285714285 diff: 0.07 CN(C)S(=O)(=O)NCCCc1ncc[nH]1 <|begin_of_text|>[SIMILAR]CN(C)S(=O)(=O)NCCCc1ncc[nH]1 0.20[/SIMILAR][RINGCOUNT]2[/RINGCOUNT][FORMULA]C8H14N4O2S[/FORMULA][TPSA]78.09[/TPSA][WEIGHT]230.08[/WEIGHT][QED]0.71[/QED][CLOGP]-0.51[/CLOGP][SAS]3.26[/SAS][SMILES]CNS(=O)(=O)N1CCC(c2ncc[nH]2)C1[/SMILES]\n"
     ]
    },
    {
     "name": "stderr",
     "output_type": "stream",
     "text": [
      "[16:39:26] DEPRECATION WARNING: please use MorganGenerator\n",
      "[16:39:26] DEPRECATION WARNING: please use MorganGenerator\n",
      "The attention mask and the pad token id were not set. As a consequence, you may observe unexpected behavior. Please pass your input's `attention_mask` to obtain reliable results.\n",
      "Setting `pad_token_id` to `eos_token_id`:None for open-end generation.\n"
     ]
    },
    {
     "name": "stdout",
     "output_type": "stream",
     "text": [
      "GT: 0.25 Gen: 0.2777777777777778 diff: 0.03 CN(C)S(=O)(=O)NCCCc1ncc[nH]1 <|begin_of_text|>[SIMILAR]CN(C)S(=O)(=O)NCCCc1ncc[nH]1 0.25[/SIMILAR][RINGCOUNT]2[/RINGCOUNT][FORMULA]C9H16N4O2S[/FORMULA][TPSA]78.09[/TPSA][QED]0.77[/QED][WEIGHT]244.10[/WEIGHT][CLOGP]-0.18[/CLOGP][SAS]3.21[/SAS][SMILES]CC(NS(=O)(=O)N1CCCC1)c1ncc[nH]1[/SMILES]\n"
     ]
    },
    {
     "name": "stderr",
     "output_type": "stream",
     "text": [
      "[16:39:27] DEPRECATION WARNING: please use MorganGenerator\n",
      "[16:39:27] DEPRECATION WARNING: please use MorganGenerator\n",
      "The attention mask and the pad token id were not set. As a consequence, you may observe unexpected behavior. Please pass your input's `attention_mask` to obtain reliable results.\n",
      "Setting `pad_token_id` to `eos_token_id`:None for open-end generation.\n"
     ]
    },
    {
     "name": "stdout",
     "output_type": "stream",
     "text": [
      "GT: 0.3 Gen: 0.4166666666666667 diff: 0.12 CN(C)S(=O)(=O)NCCCc1ncc[nH]1 <|begin_of_text|>[SIMILAR]CN(C)S(=O)(=O)NCCCc1ncc[nH]1 0.30[/SIMILAR][RINGCOUNT]1[/RINGCOUNT][FORMULA]C7H14N4O2S[/FORMULA][TPSA]100.87[/TPSA][SAS]3.34[/SAS][WEIGHT]218.08[/WEIGHT][QED]0.63[/QED][CLOGP]-0.62[/CLOGP][SMILES]CC(CN)S(=O)(=O)NCc1ncc[nH]1[/SMILES]\n"
     ]
    },
    {
     "name": "stderr",
     "output_type": "stream",
     "text": [
      "[16:39:28] DEPRECATION WARNING: please use MorganGenerator\n",
      "[16:39:28] DEPRECATION WARNING: please use MorganGenerator\n",
      "The attention mask and the pad token id were not set. As a consequence, you may observe unexpected behavior. Please pass your input's `attention_mask` to obtain reliable results.\n",
      "Setting `pad_token_id` to `eos_token_id`:None for open-end generation.\n"
     ]
    },
    {
     "name": "stdout",
     "output_type": "stream",
     "text": [
      "GT: 0.35 Gen: 0.6585365853658537 diff: 0.31 CN(C)S(=O)(=O)NCCCc1ncc[nH]1 <|begin_of_text|>[SIMILAR]CN(C)S(=O)(=O)NCCCc1ncc[nH]1 0.35[/SIMILAR][RINGCOUNT]1[/RINGCOUNT][FORMULA]C8H16N4O2S[/FORMULA][TPSA]86.88[/TPSA][SAS]2.62[/SAS][WEIGHT]232.10[/WEIGHT][CLOGP]-0.23[/CLOGP][QED]0.60[/QED][SMILES]CCNS(=O)(=O)NCCCc1ncc[nH]1[/SMILES]\n"
     ]
    },
    {
     "name": "stderr",
     "output_type": "stream",
     "text": [
      "[16:39:28] DEPRECATION WARNING: please use MorganGenerator\n",
      "[16:39:28] DEPRECATION WARNING: please use MorganGenerator\n",
      "The attention mask and the pad token id were not set. As a consequence, you may observe unexpected behavior. Please pass your input's `attention_mask` to obtain reliable results.\n",
      "Setting `pad_token_id` to `eos_token_id`:None for open-end generation.\n"
     ]
    },
    {
     "name": "stdout",
     "output_type": "stream",
     "text": [
      "GT: 0.4 Gen: 0.6585365853658537 diff: 0.26 CN(C)S(=O)(=O)NCCCc1ncc[nH]1 <|begin_of_text|>[SIMILAR]CN(C)S(=O)(=O)NCCCc1ncc[nH]1 0.40[/SIMILAR][RINGCOUNT]1[/RINGCOUNT][FORMULA]C8H16N4O2S[/FORMULA][TPSA]86.88[/TPSA][SAS]2.61[/SAS][WEIGHT]232.10[/WEIGHT][CLOGP]-0.29[/CLOGP][QED]0.57[/QED][SMILES]CCNS(=O)(=O)NCCCc1ncc[nH]1[/SMILES]\n"
     ]
    },
    {
     "name": "stderr",
     "output_type": "stream",
     "text": [
      "[16:39:29] DEPRECATION WARNING: please use MorganGenerator\n",
      "[16:39:29] DEPRECATION WARNING: please use MorganGenerator\n",
      "The attention mask and the pad token id were not set. As a consequence, you may observe unexpected behavior. Please pass your input's `attention_mask` to obtain reliable results.\n",
      "Setting `pad_token_id` to `eos_token_id`:None for open-end generation.\n"
     ]
    },
    {
     "name": "stdout",
     "output_type": "stream",
     "text": [
      "GT: 0.45 Gen: 0.6585365853658537 diff: 0.21 CN(C)S(=O)(=O)NCCCc1ncc[nH]1 <|begin_of_text|>[SIMILAR]CN(C)S(=O)(=O)NCCCc1ncc[nH]1 0.45[/SIMILAR][RINGCOUNT]1[/RINGCOUNT][FORMULA]C8H16N4O2S[/FORMULA][TPSA]86.88[/TPSA][SAS]2.61[/SAS][WEIGHT]232.10[/WEIGHT][CLOGP]-0.36[/CLOGP][QED]0.59[/QED][SMILES]CCNS(=O)(=O)NCCCc1ncc[nH]1[/SMILES]\n"
     ]
    },
    {
     "name": "stderr",
     "output_type": "stream",
     "text": [
      "[16:39:29] DEPRECATION WARNING: please use MorganGenerator\n",
      "[16:39:29] DEPRECATION WARNING: please use MorganGenerator\n",
      "The attention mask and the pad token id were not set. As a consequence, you may observe unexpected behavior. Please pass your input's `attention_mask` to obtain reliable results.\n",
      "Setting `pad_token_id` to `eos_token_id`:None for open-end generation.\n"
     ]
    },
    {
     "name": "stdout",
     "output_type": "stream",
     "text": [
      "GT: 0.5 Gen: 0.5555555555555556 diff: 0.06 CN(C)S(=O)(=O)NCCCc1ncc[nH]1 <|begin_of_text|>[SIMILAR]CN(C)S(=O)(=O)NCCCc1ncc[nH]1 0.50[/SIMILAR][RINGCOUNT]1[/RINGCOUNT][FORMULA]C9H18N4O2S[/FORMULA][TPSA]78.09[/TPSA][QED]0.71[/QED][WEIGHT]246.12[/WEIGHT][CLOGP]0.05[/CLOGP][SAS]2.66[/SAS][SMILES]CCN(CCCc1ncc[nH]1)S(=O)(=O)NC[/SMILES]\n"
     ]
    },
    {
     "name": "stderr",
     "output_type": "stream",
     "text": [
      "[16:39:30] DEPRECATION WARNING: please use MorganGenerator\n",
      "[16:39:30] DEPRECATION WARNING: please use MorganGenerator\n",
      "The attention mask and the pad token id were not set. As a consequence, you may observe unexpected behavior. Please pass your input's `attention_mask` to obtain reliable results.\n",
      "Setting `pad_token_id` to `eos_token_id`:None for open-end generation.\n"
     ]
    },
    {
     "name": "stdout",
     "output_type": "stream",
     "text": [
      "GT: 0.55 Gen: 0.6585365853658537 diff: 0.11 CN(C)S(=O)(=O)NCCCc1ncc[nH]1 <|begin_of_text|>[SIMILAR]CN(C)S(=O)(=O)NCCCc1ncc[nH]1 0.55[/SIMILAR][RINGCOUNT]1[/RINGCOUNT][FORMULA]C8H16N4O2S[/FORMULA][WEIGHT]232.10[/WEIGHT][TPSA]86.88[/TPSA][QED]0.59[/QED][CLOGP]-0.44[/CLOGP][SAS]2.54[/SAS][SMILES]CCNS(=O)(=O)NCCCc1ncc[nH]1[/SMILES]\n"
     ]
    },
    {
     "name": "stderr",
     "output_type": "stream",
     "text": [
      "[16:39:31] DEPRECATION WARNING: please use MorganGenerator\n",
      "[16:39:31] DEPRECATION WARNING: please use MorganGenerator\n",
      "The attention mask and the pad token id were not set. As a consequence, you may observe unexpected behavior. Please pass your input's `attention_mask` to obtain reliable results.\n",
      "Setting `pad_token_id` to `eos_token_id`:None for open-end generation.\n"
     ]
    },
    {
     "name": "stdout",
     "output_type": "stream",
     "text": [
      "GT: 0.6 Gen: 0.6585365853658537 diff: 0.06 CN(C)S(=O)(=O)NCCCc1ncc[nH]1 <|begin_of_text|>[SIMILAR]CN(C)S(=O)(=O)NCCCc1ncc[nH]1 0.60[/SIMILAR][TPSA]86.88[/TPSA][WEIGHT]246.12[/WEIGHT][SAS]2.53[/SAS][RINGCOUNT]1[/RINGCOUNT][CLOGP]-0.13[/CLOGP][FORMULA]C9H18N4O2S[/FORMULA][SMILES]CCNS(=O)(=O)NCCCc1ncc[nH]1[/SMILES]\n"
     ]
    },
    {
     "name": "stderr",
     "output_type": "stream",
     "text": [
      "[16:39:31] DEPRECATION WARNING: please use MorganGenerator\n",
      "[16:39:31] DEPRECATION WARNING: please use MorganGenerator\n",
      "The attention mask and the pad token id were not set. As a consequence, you may observe unexpected behavior. Please pass your input's `attention_mask` to obtain reliable results.\n",
      "Setting `pad_token_id` to `eos_token_id`:None for open-end generation.\n"
     ]
    },
    {
     "name": "stdout",
     "output_type": "stream",
     "text": [
      "GT: 0.65 Gen: 0.9166666666666666 diff: 0.27 CN(C)S(=O)(=O)NCCCc1ncc[nH]1 <|begin_of_text|>[SIMILAR]CN(C)S(=O)(=O)NCCCc1ncc[nH]1 0.65[/SIMILAR][TPSA]78.09[/TPSA][QED]0.68[/QED][WEIGHT]246.12[/WEIGHT][SAS]2.62[/SAS][RINGCOUNT]1[/RINGCOUNT][CLOGP]-0.05[/CLOGP][FORMULA]C9H18N4O2S[/FORMULA][SMILES]CN(C)S(=O)(=O)NCCCCc1ncc[nH]1[/SMILES]\n"
     ]
    },
    {
     "name": "stderr",
     "output_type": "stream",
     "text": [
      "[16:39:32] DEPRECATION WARNING: please use MorganGenerator\n",
      "[16:39:32] DEPRECATION WARNING: please use MorganGenerator\n",
      "The attention mask and the pad token id were not set. As a consequence, you may observe unexpected behavior. Please pass your input's `attention_mask` to obtain reliable results.\n",
      "Setting `pad_token_id` to `eos_token_id`:None for open-end generation.\n"
     ]
    },
    {
     "name": "stdout",
     "output_type": "stream",
     "text": [
      "GT: 0.7 Gen: 1.0 diff: 0.3 CN(C)S(=O)(=O)NCCCc1ncc[nH]1 <|begin_of_text|>[SIMILAR]CN(C)S(=O)(=O)NCCCc1ncc[nH]1 0.70[/SIMILAR][TPSA]78.09[/TPSA][QED]0.68[/QED][WEIGHT]232.10[/WEIGHT][CLOGP]-0.37[/CLOGP][FORMULA]C8H16N4O2S[/FORMULA][RINGCOUNT]1[/RINGCOUNT][SAS]2.62[/SAS][SMILES]CN(C)S(=O)(=O)NCCCc1ncc[nH]1[/SMILES]\n"
     ]
    },
    {
     "name": "stderr",
     "output_type": "stream",
     "text": [
      "[16:39:32] DEPRECATION WARNING: please use MorganGenerator\n",
      "[16:39:32] DEPRECATION WARNING: please use MorganGenerator\n",
      "The attention mask and the pad token id were not set. As a consequence, you may observe unexpected behavior. Please pass your input's `attention_mask` to obtain reliable results.\n",
      "Setting `pad_token_id` to `eos_token_id`:None for open-end generation.\n"
     ]
    },
    {
     "name": "stdout",
     "output_type": "stream",
     "text": [
      "GT: 0.75 Gen: 1.0 diff: 0.25 CN(C)S(=O)(=O)NCCCc1ncc[nH]1 <|begin_of_text|>[SIMILAR]CN(C)S(=O)(=O)NCCCc1ncc[nH]1 0.75[/SIMILAR][TPSA]78.09[/TPSA][QED]0.69[/QED][WEIGHT]232.10[/WEIGHT][CLOGP]-0.32[/CLOGP][FORMULA]C8H16N4O2S[/FORMULA][RINGCOUNT]1[/RINGCOUNT][SAS]2.62[/SAS][SMILES]CN(C)S(=O)(=O)NCCCc1ncc[nH]1[/SMILES]\n"
     ]
    },
    {
     "name": "stderr",
     "output_type": "stream",
     "text": [
      "[16:39:33] DEPRECATION WARNING: please use MorganGenerator\n",
      "[16:39:33] DEPRECATION WARNING: please use MorganGenerator\n",
      "The attention mask and the pad token id were not set. As a consequence, you may observe unexpected behavior. Please pass your input's `attention_mask` to obtain reliable results.\n",
      "Setting `pad_token_id` to `eos_token_id`:None for open-end generation.\n"
     ]
    },
    {
     "name": "stdout",
     "output_type": "stream",
     "text": [
      "GT: 0.8 Gen: 1.0 diff: 0.2 CN(C)S(=O)(=O)NCCCc1ncc[nH]1 <|begin_of_text|>[SIMILAR]CN(C)S(=O)(=O)NCCCc1ncc[nH]1 0.80[/SIMILAR][WEIGHT]232.10[/WEIGHT][TPSA]78.09[/TPSA][SAS]2.66[/SAS][RINGCOUNT]1[/RINGCOUNT][CLOGP]-0.37[/CLOGP][FORMULA]C8H16N4O2S[/FORMULA][SMILES]CN(C)S(=O)(=O)NCCCc1ncc[nH]1[/SMILES]\n"
     ]
    },
    {
     "name": "stderr",
     "output_type": "stream",
     "text": [
      "[16:39:34] WARNING: not removing hydrogen atom without neighbors\n",
      "[16:39:34] DEPRECATION WARNING: please use MorganGenerator\n",
      "[16:39:34] DEPRECATION WARNING: please use MorganGenerator\n",
      "The attention mask and the pad token id were not set. As a consequence, you may observe unexpected behavior. Please pass your input's `attention_mask` to obtain reliable results.\n",
      "Setting `pad_token_id` to `eos_token_id`:None for open-end generation.\n"
     ]
    },
    {
     "name": "stdout",
     "output_type": "stream",
     "text": [
      "GT: 0.85 Gen: 0.9714285714285714 diff: 0.12 CN(C)S(=O)(=O)NCCCc1ncc[nH]1 <|begin_of_text|>[SIMILAR]CN(C)S(=O)(=O)NCCCc1ncc[nH]1 0.85[/SIMILAR][WEIGHT]234.12[/WEIGHT][TPSA]78.09[/TPSA][FORMULA]C8H18N4O2S[/FORMULA][RINGCOUNT]1[/RINGCOUNT][QED]0.67[/QED][CLOGP]-0.26[/CLOGP][SAS]2.68[/SAS][SMILES]CN(C)S(=O)(=O)NCCCc1ncc[nH]1.[HH][/SMILES]\n"
     ]
    },
    {
     "name": "stderr",
     "output_type": "stream",
     "text": [
      "[16:39:34] DEPRECATION WARNING: please use MorganGenerator\n",
      "[16:39:34] DEPRECATION WARNING: please use MorganGenerator\n",
      "The attention mask and the pad token id were not set. As a consequence, you may observe unexpected behavior. Please pass your input's `attention_mask` to obtain reliable results.\n",
      "Setting `pad_token_id` to `eos_token_id`:None for open-end generation.\n"
     ]
    },
    {
     "name": "stdout",
     "output_type": "stream",
     "text": [
      "GT: 0.9 Gen: 0.8108108108108109 diff: 0.09 CN(C)S(=O)(=O)NCCCc1ncc[nH]1 <|begin_of_text|>[SIMILAR]CN(C)S(=O)(=O)NCCCc1ncc[nH]1 0.90[/SIMILAR][CLOGP]0.07[/CLOGP][WEIGHT]234.12[/WEIGHT][QED]0.69[/QED][FORMULA]C8H18N4O2S[/FORMULA][TPSA]78.09[/TPSA][RINGCOUNT]1[/RINGCOUNT][SAS]2.68[/SAS][SMILES]CC.CN(C)S(=O)(=O)NCCc1ncc[nH]1[/SMILES]\n"
     ]
    },
    {
     "name": "stderr",
     "output_type": "stream",
     "text": [
      "[16:39:35] DEPRECATION WARNING: please use MorganGenerator\n",
      "[16:39:35] DEPRECATION WARNING: please use MorganGenerator\n",
      "The attention mask and the pad token id were not set. As a consequence, you may observe unexpected behavior. Please pass your input's `attention_mask` to obtain reliable results.\n",
      "Setting `pad_token_id` to `eos_token_id`:None for open-end generation.\n"
     ]
    },
    {
     "name": "stdout",
     "output_type": "stream",
     "text": [
      "GT: 0.95 Gen: 0.9714285714285714 diff: 0.02 CN(C)S(=O)(=O)NCCCc1ncc[nH]1 <|begin_of_text|>[SIMILAR]CN(C)S(=O)(=O)NCCCc1ncc[nH]1 0.95[/SIMILAR][CLOGP]0.35[/CLOGP][WEIGHT]248.13[/WEIGHT][QED]0.69[/QED][TPSA]78.09[/TPSA][FORMULA]C9H20N4O2S[/FORMULA][SAS]2.68[/SAS][RINGCOUNT]1[/RINGCOUNT][SMILES]CC.CN(C)S(=O)(=O)NCCCc1ncc[nH]1[/SMILES]\n"
     ]
    },
    {
     "name": "stderr",
     "output_type": "stream",
     "text": [
      "[16:39:36] DEPRECATION WARNING: please use MorganGenerator\n",
      "[16:39:36] DEPRECATION WARNING: please use MorganGenerator\n",
      "The attention mask and the pad token id were not set. As a consequence, you may observe unexpected behavior. Please pass your input's `attention_mask` to obtain reliable results.\n",
      "Setting `pad_token_id` to `eos_token_id`:None for open-end generation.\n"
     ]
    },
    {
     "name": "stdout",
     "output_type": "stream",
     "text": [
      "GT: 1.0 Gen: 1.0 diff: 0.0 CN(C)S(=O)(=O)NCCCc1ncc[nH]1 <|begin_of_text|>[SIMILAR]CN(C)S(=O)(=O)NCCCc1ncc[nH]1 1.00[/SIMILAR][WEIGHT]232.10[/WEIGHT][FORMULA]C8H16N4O2S[/FORMULA][SAS]2.64[/SAS][CLOGP]-0.20[/CLOGP][TPSA]78.09[/TPSA][RINGCOUNT]1[/RINGCOUNT][QED]0.67[/QED][SMILES]CN(C)S(=O)(=O)NCCCc1ncc[nH]1[/SMILES]\n"
     ]
    },
    {
     "name": "stderr",
     "output_type": "stream",
     "text": [
      "[16:39:36] DEPRECATION WARNING: please use MorganGenerator\n",
      "[16:39:36] DEPRECATION WARNING: please use MorganGenerator\n",
      "The attention mask and the pad token id were not set. As a consequence, you may observe unexpected behavior. Please pass your input's `attention_mask` to obtain reliable results.\n",
      "Setting `pad_token_id` to `eos_token_id`:None for open-end generation.\n"
     ]
    },
    {
     "name": "stdout",
     "output_type": "stream",
     "text": [
      "GT: 0.2 Gen: 0.16129032258064516 diff: 0.04 Cc1ccc(F)c(OCc2cc(F)cc(C#CCO)c2)c1 <|begin_of_text|>[SIMILAR]Cc1ccc(F)c(OCc2cc(F)cc(C#CCO)c2)c1 0.20[/SIMILAR][TPSA]29.46[/TPSA][FORMULA]C17H16O2[/FORMULA][SAS]2.20[/SAS][WEIGHT]252.12[/WEIGHT][CLOGP]3.14[/CLOGP][RINGCOUNT]2[/RINGCOUNT][QED]0.85[/QED][SMILES]CC(C)(O)C#Cc1cccc(Oc2ccccc2)c1[/SMILES]\n"
     ]
    },
    {
     "name": "stderr",
     "output_type": "stream",
     "text": [
      "[16:39:37] DEPRECATION WARNING: please use MorganGenerator\n",
      "[16:39:37] DEPRECATION WARNING: please use MorganGenerator\n",
      "The attention mask and the pad token id were not set. As a consequence, you may observe unexpected behavior. Please pass your input's `attention_mask` to obtain reliable results.\n",
      "Setting `pad_token_id` to `eos_token_id`:None for open-end generation.\n",
      "[16:39:37] DEPRECATION WARNING: please use MorganGenerator\n",
      "[16:39:37] DEPRECATION WARNING: please use MorganGenerator\n",
      "The attention mask and the pad token id were not set. As a consequence, you may observe unexpected behavior. Please pass your input's `attention_mask` to obtain reliable results.\n",
      "Setting `pad_token_id` to `eos_token_id`:None for open-end generation.\n"
     ]
    },
    {
     "name": "stdout",
     "output_type": "stream",
     "text": [
      "GT: 0.25 Gen: 0.26229508196721313 diff: 0.01 Cc1ccc(F)c(OCc2cc(F)cc(C#CCO)c2)c1 <|begin_of_text|>[SIMILAR]Cc1ccc(F)c(OCc2cc(F)cc(C#CCO)c2)c1 0.25[/SIMILAR][TPSA]29.46[/TPSA][FORMULA]C17H14O2[/FORMULA][SAS]2.20[/SAS][WEIGHT]250.10[/WEIGHT][CLOGP]2.81[/CLOGP][RINGCOUNT]2[/RINGCOUNT][QED]0.85[/QED][SMILES]OCC#Cc1cccc(OC=Cc2ccccc2)c1[/SMILES]\n",
      "GT: 0.3 Gen: 0.38596491228070173 diff: 0.09 Cc1ccc(F)c(OCc2cc(F)cc(C#CCO)c2)c1 <|begin_of_text|>[SIMILAR]Cc1ccc(F)c(OCc2cc(F)cc(C#CCO)c2)c1 0.30[/SIMILAR][SMILES]OCC#Cc1cccc(OCCOc2ccccc2F)c1[/SMILES]\n"
     ]
    },
    {
     "name": "stderr",
     "output_type": "stream",
     "text": [
      "[16:39:37] DEPRECATION WARNING: please use MorganGenerator\n",
      "[16:39:37] DEPRECATION WARNING: please use MorganGenerator\n",
      "The attention mask and the pad token id were not set. As a consequence, you may observe unexpected behavior. Please pass your input's `attention_mask` to obtain reliable results.\n",
      "Setting `pad_token_id` to `eos_token_id`:None for open-end generation.\n"
     ]
    },
    {
     "name": "stdout",
     "output_type": "stream",
     "text": [
      "GT: 0.35 Gen: 0.38596491228070173 diff: 0.04 Cc1ccc(F)c(OCc2cc(F)cc(C#CCO)c2)c1 <|begin_of_text|>[SIMILAR]Cc1ccc(F)c(OCc2cc(F)cc(C#CCO)c2)c1 0.35[/SIMILAR][SMILES]OCC#Cc1cccc(OCCOc2ccccc2F)c1[/SMILES]\n"
     ]
    },
    {
     "name": "stderr",
     "output_type": "stream",
     "text": [
      "[16:39:38] DEPRECATION WARNING: please use MorganGenerator\n",
      "[16:39:38] DEPRECATION WARNING: please use MorganGenerator\n",
      "The attention mask and the pad token id were not set. As a consequence, you may observe unexpected behavior. Please pass your input's `attention_mask` to obtain reliable results.\n",
      "Setting `pad_token_id` to `eos_token_id`:None for open-end generation.\n"
     ]
    },
    {
     "name": "stdout",
     "output_type": "stream",
     "text": [
      "GT: 0.4 Gen: 0.4423076923076923 diff: 0.04 Cc1ccc(F)c(OCc2cc(F)cc(C#CCO)c2)c1 <|begin_of_text|>[SIMILAR]Cc1ccc(F)c(OCc2cc(F)cc(C#CCO)c2)c1 0.40[/SIMILAR][CLOGP]3.12[/CLOGP][FORMULA]C18H16O2[/FORMULA][SAS]2.16[/SAS][WEIGHT]264.12[/WEIGHT][RINGCOUNT]2[/RINGCOUNT][TPSA]29.46[/TPSA][QED]0.86[/QED][SMILES]Cc1cc(C#CCO)cc(C)c1OCc1ccccc1[/SMILES]\n"
     ]
    },
    {
     "name": "stderr",
     "output_type": "stream",
     "text": [
      "[16:39:38] DEPRECATION WARNING: please use MorganGenerator\n",
      "[16:39:38] DEPRECATION WARNING: please use MorganGenerator\n",
      "The attention mask and the pad token id were not set. As a consequence, you may observe unexpected behavior. Please pass your input's `attention_mask` to obtain reliable results.\n",
      "Setting `pad_token_id` to `eos_token_id`:None for open-end generation.\n"
     ]
    },
    {
     "name": "stdout",
     "output_type": "stream",
     "text": [
      "GT: 0.45 Gen: 0.4909090909090909 diff: 0.04 Cc1ccc(F)c(OCc2cc(F)cc(C#CCO)c2)c1 <|begin_of_text|>[SIMILAR]Cc1ccc(F)c(OCc2cc(F)cc(C#CCO)c2)c1 0.45[/SIMILAR][CLOGP]3.12[/CLOGP][FORMULA]C18H15FO2[/FORMULA][RINGCOUNT]2[/RINGCOUNT][SAS]2.26[/SAS][TPSA]29.46[/TPSA][WEIGHT]282.11[/WEIGHT][QED]0.87[/QED][SMILES]Cc1cc(OCc2cccc(C#CCO)c2)ccc1F[/SMILES]\n"
     ]
    },
    {
     "name": "stderr",
     "output_type": "stream",
     "text": [
      "[16:39:39] DEPRECATION WARNING: please use MorganGenerator\n",
      "[16:39:39] DEPRECATION WARNING: please use MorganGenerator\n",
      "The attention mask and the pad token id were not set. As a consequence, you may observe unexpected behavior. Please pass your input's `attention_mask` to obtain reliable results.\n",
      "Setting `pad_token_id` to `eos_token_id`:None for open-end generation.\n"
     ]
    },
    {
     "name": "stdout",
     "output_type": "stream",
     "text": [
      "GT: 0.5 Gen: 0.4909090909090909 diff: 0.01 Cc1ccc(F)c(OCc2cc(F)cc(C#CCO)c2)c1 <|begin_of_text|>[SIMILAR]Cc1ccc(F)c(OCc2cc(F)cc(C#CCO)c2)c1 0.50[/SIMILAR][CLOGP]3.12[/CLOGP][TPSA]29.46[/TPSA][SAS]2.26[/SAS][WEIGHT]282.11[/WEIGHT][RINGCOUNT]2[/RINGCOUNT][FORMULA]C18H15FO2[/FORMULA][QED]0.88[/QED][SMILES]Cc1cc(OCc2cccc(C#CCO)c2)ccc1F[/SMILES]\n"
     ]
    },
    {
     "name": "stderr",
     "output_type": "stream",
     "text": [
      "[16:39:40] DEPRECATION WARNING: please use MorganGenerator\n",
      "[16:39:40] DEPRECATION WARNING: please use MorganGenerator\n",
      "The attention mask and the pad token id were not set. As a consequence, you may observe unexpected behavior. Please pass your input's `attention_mask` to obtain reliable results.\n",
      "Setting `pad_token_id` to `eos_token_id`:None for open-end generation.\n"
     ]
    },
    {
     "name": "stdout",
     "output_type": "stream",
     "text": [
      "GT: 0.55 Gen: 0.4909090909090909 diff: 0.06 Cc1ccc(F)c(OCc2cc(F)cc(C#CCO)c2)c1 <|begin_of_text|>[SIMILAR]Cc1ccc(F)c(OCc2cc(F)cc(C#CCO)c2)c1 0.55[/SIMILAR][CLOGP]3.18[/CLOGP][TPSA]29.46[/TPSA][SAS]2.26[/SAS][WEIGHT]282.11[/WEIGHT][RINGCOUNT]2[/RINGCOUNT][FORMULA]C18H15FO2[/FORMULA][QED]0.88[/QED][SMILES]Cc1cc(OCc2cccc(C#CCO)c2)ccc1F[/SMILES]\n"
     ]
    },
    {
     "name": "stderr",
     "output_type": "stream",
     "text": [
      "[16:39:40] DEPRECATION WARNING: please use MorganGenerator\n",
      "[16:39:40] DEPRECATION WARNING: please use MorganGenerator\n",
      "The attention mask and the pad token id were not set. As a consequence, you may observe unexpected behavior. Please pass your input's `attention_mask` to obtain reliable results.\n",
      "Setting `pad_token_id` to `eos_token_id`:None for open-end generation.\n"
     ]
    },
    {
     "name": "stdout",
     "output_type": "stream",
     "text": [
      "GT: 0.6 Gen: 0.673469387755102 diff: 0.07 Cc1ccc(F)c(OCc2cc(F)cc(C#CCO)c2)c1 <|begin_of_text|>[SIMILAR]Cc1ccc(F)c(OCc2cc(F)cc(C#CCO)c2)c1 0.60[/SIMILAR][CLOGP]3.29[/CLOGP][TPSA]29.46[/TPSA][SAS]2.33[/SAS][FORMULA]C18H15FO2[/FORMULA][RINGCOUNT]2[/RINGCOUNT][WEIGHT]282.11[/WEIGHT][QED]0.88[/QED][SMILES]Cc1cc(OCc2cc(F)cc(C#CCO)c2)ccc1F[/SMILES]\n"
     ]
    },
    {
     "name": "stderr",
     "output_type": "stream",
     "text": [
      "[16:39:41] DEPRECATION WARNING: please use MorganGenerator\n",
      "[16:39:41] DEPRECATION WARNING: please use MorganGenerator\n",
      "The attention mask and the pad token id were not set. As a consequence, you may observe unexpected behavior. Please pass your input's `attention_mask` to obtain reliable results.\n",
      "Setting `pad_token_id` to `eos_token_id`:None for open-end generation.\n"
     ]
    },
    {
     "name": "stdout",
     "output_type": "stream",
     "text": [
      "GT: 0.65 Gen: 1.0 diff: 0.35 Cc1ccc(F)c(OCc2cc(F)cc(C#CCO)c2)c1 <|begin_of_text|>[SIMILAR]Cc1ccc(F)c(OCc2cc(F)cc(C#CCO)c2)c1 0.65[/SIMILAR][CLOGP]3.29[/CLOGP][TPSA]29.46[/TPSA][SAS]2.33[/SAS][WEIGHT]288.10[/WEIGHT][RINGCOUNT]2[/RINGCOUNT][FORMULA]C17H14F2O2[/FORMULA][SMILES]Cc1ccc(F)c(OCc2cc(F)cc(C#CCO)c2)c1[/SMILES]\n"
     ]
    },
    {
     "name": "stderr",
     "output_type": "stream",
     "text": [
      "[16:39:41] DEPRECATION WARNING: please use MorganGenerator\n",
      "[16:39:41] DEPRECATION WARNING: please use MorganGenerator\n",
      "The attention mask and the pad token id were not set. As a consequence, you may observe unexpected behavior. Please pass your input's `attention_mask` to obtain reliable results.\n",
      "Setting `pad_token_id` to `eos_token_id`:None for open-end generation.\n"
     ]
    },
    {
     "name": "stdout",
     "output_type": "stream",
     "text": [
      "GT: 0.7 Gen: 1.0 diff: 0.3 Cc1ccc(F)c(OCc2cc(F)cc(C#CCO)c2)c1 <|begin_of_text|>[SIMILAR]Cc1ccc(F)c(OCc2cc(F)cc(C#CCO)c2)c1 0.70[/SIMILAR][CLOGP]3.29[/CLOGP][TPSA]29.46[/TPSA][SAS]2.33[/SAS][FORMULA]C17H14F2O2[/FORMULA][RINGCOUNT]2[/RINGCOUNT][WEIGHT]288.10[/WEIGHT][SMILES]Cc1ccc(F)c(OCc2cc(F)cc(C#CCO)c2)c1[/SMILES]\n"
     ]
    },
    {
     "name": "stderr",
     "output_type": "stream",
     "text": [
      "[16:39:42] DEPRECATION WARNING: please use MorganGenerator\n",
      "[16:39:42] DEPRECATION WARNING: please use MorganGenerator\n",
      "The attention mask and the pad token id were not set. As a consequence, you may observe unexpected behavior. Please pass your input's `attention_mask` to obtain reliable results.\n",
      "Setting `pad_token_id` to `eos_token_id`:None for open-end generation.\n"
     ]
    },
    {
     "name": "stdout",
     "output_type": "stream",
     "text": [
      "GT: 0.75 Gen: 1.0 diff: 0.25 Cc1ccc(F)c(OCc2cc(F)cc(C#CCO)c2)c1 <|begin_of_text|>[SIMILAR]Cc1ccc(F)c(OCc2cc(F)cc(C#CCO)c2)c1 0.75[/SIMILAR][CLOGP]3.29[/CLOGP][WEIGHT]288.10[/WEIGHT][RINGCOUNT]2[/RINGCOUNT][FORMULA]C17H14F2O2[/FORMULA][SAS]2.28[/SAS][TPSA]29.46[/TPSA][QED]0.88[/QED][SMILES]Cc1ccc(F)c(OCc2cc(F)cc(C#CCO)c2)c1[/SMILES]\n"
     ]
    },
    {
     "name": "stderr",
     "output_type": "stream",
     "text": [
      "[16:39:43] DEPRECATION WARNING: please use MorganGenerator\n",
      "[16:39:43] DEPRECATION WARNING: please use MorganGenerator\n",
      "The attention mask and the pad token id were not set. As a consequence, you may observe unexpected behavior. Please pass your input's `attention_mask` to obtain reliable results.\n",
      "Setting `pad_token_id` to `eos_token_id`:None for open-end generation.\n"
     ]
    },
    {
     "name": "stdout",
     "output_type": "stream",
     "text": [
      "GT: 0.8 Gen: 1.0 diff: 0.2 Cc1ccc(F)c(OCc2cc(F)cc(C#CCO)c2)c1 <|begin_of_text|>[SIMILAR]Cc1ccc(F)c(OCc2cc(F)cc(C#CCO)c2)c1 0.80[/SIMILAR][WEIGHT]288.10[/WEIGHT][RINGCOUNT]2[/RINGCOUNT][FORMULA]C17H14F2O2[/FORMULA][SAS]2.28[/SAS][CLOGP]3.19[/CLOGP][TPSA]29.46[/TPSA][QED]0.88[/QED][SMILES]Cc1ccc(F)c(OCc2cc(F)cc(C#CCO)c2)c1[/SMILES]\n"
     ]
    },
    {
     "name": "stderr",
     "output_type": "stream",
     "text": [
      "[16:39:43] DEPRECATION WARNING: please use MorganGenerator\n",
      "[16:39:43] DEPRECATION WARNING: please use MorganGenerator\n",
      "The attention mask and the pad token id were not set. As a consequence, you may observe unexpected behavior. Please pass your input's `attention_mask` to obtain reliable results.\n",
      "Setting `pad_token_id` to `eos_token_id`:None for open-end generation.\n"
     ]
    },
    {
     "name": "stdout",
     "output_type": "stream",
     "text": [
      "GT: 0.85 Gen: 1.0 diff: 0.15 Cc1ccc(F)c(OCc2cc(F)cc(C#CCO)c2)c1 <|begin_of_text|>[SIMILAR]Cc1ccc(F)c(OCc2cc(F)cc(C#CCO)c2)c1 0.85[/SIMILAR][WEIGHT]288.10[/WEIGHT][RINGCOUNT]2[/RINGCOUNT][FORMULA]C17H14F2O2[/FORMULA][SAS]2.28[/SAS][SMILES]Cc1ccc(F)c(OCc2cc(F)cc(C#CCO)c2)c1[/SMILES]\n"
     ]
    },
    {
     "name": "stderr",
     "output_type": "stream",
     "text": [
      "[16:39:44] DEPRECATION WARNING: please use MorganGenerator\n",
      "[16:39:44] DEPRECATION WARNING: please use MorganGenerator\n",
      "The attention mask and the pad token id were not set. As a consequence, you may observe unexpected behavior. Please pass your input's `attention_mask` to obtain reliable results.\n",
      "Setting `pad_token_id` to `eos_token_id`:None for open-end generation.\n"
     ]
    },
    {
     "name": "stdout",
     "output_type": "stream",
     "text": [
      "GT: 0.9 Gen: 1.0 diff: 0.1 Cc1ccc(F)c(OCc2cc(F)cc(C#CCO)c2)c1 <|begin_of_text|>[SIMILAR]Cc1ccc(F)c(OCc2cc(F)cc(C#CCO)c2)c1 0.90[/SIMILAR][TPSA]29.46[/TPSA][SAS]2.29[/SAS][RINGCOUNT]2[/RINGCOUNT][CLOGP]3.35[/CLOGP][FORMULA]C17H14F2O2[/FORMULA][WEIGHT]288.10[/WEIGHT][SMILES]Cc1ccc(F)c(OCc2cc(F)cc(C#CCO)c2)c1[/SMILES]\n"
     ]
    },
    {
     "name": "stderr",
     "output_type": "stream",
     "text": [
      "[16:39:44] DEPRECATION WARNING: please use MorganGenerator\n",
      "[16:39:44] DEPRECATION WARNING: please use MorganGenerator\n",
      "The attention mask and the pad token id were not set. As a consequence, you may observe unexpected behavior. Please pass your input's `attention_mask` to obtain reliable results.\n",
      "Setting `pad_token_id` to `eos_token_id`:None for open-end generation.\n"
     ]
    },
    {
     "name": "stdout",
     "output_type": "stream",
     "text": [
      "GT: 0.95 Gen: 1.0 diff: 0.05 Cc1ccc(F)c(OCc2cc(F)cc(C#CCO)c2)c1 <|begin_of_text|>[SIMILAR]Cc1ccc(F)c(OCc2cc(F)cc(C#CCO)c2)c1 0.95[/SIMILAR][TPSA]29.46[/TPSA][SAS]2.30[/SAS][FORMULA]C17H14F2O2[/FORMULA][RINGCOUNT]2[/RINGCOUNT][CLOGP]3.19[/CLOGP][WEIGHT]288.10[/WEIGHT][SMILES]Cc1ccc(F)c(OCc2cc(F)cc(C#CCO)c2)c1[/SMILES]\n"
     ]
    },
    {
     "name": "stderr",
     "output_type": "stream",
     "text": [
      "[16:39:45] DEPRECATION WARNING: please use MorganGenerator\n",
      "[16:39:45] DEPRECATION WARNING: please use MorganGenerator\n",
      "The attention mask and the pad token id were not set. As a consequence, you may observe unexpected behavior. Please pass your input's `attention_mask` to obtain reliable results.\n",
      "Setting `pad_token_id` to `eos_token_id`:None for open-end generation.\n"
     ]
    },
    {
     "name": "stdout",
     "output_type": "stream",
     "text": [
      "GT: 1.0 Gen: 1.0 diff: 0.0 Cc1ccc(F)c(OCc2cc(F)cc(C#CCO)c2)c1 <|begin_of_text|>[SIMILAR]Cc1ccc(F)c(OCc2cc(F)cc(C#CCO)c2)c1 1.00[/SIMILAR][TPSA]29.46[/TPSA][FORMULA]C17H14F2O2[/FORMULA][SAS]2.29[/SAS][CLOGP]3.20[/CLOGP][RINGCOUNT]2[/RINGCOUNT][WEIGHT]288.10[/WEIGHT][QED]0.88[/QED][SMILES]Cc1ccc(F)c(OCc2cc(F)cc(C#CCO)c2)c1[/SMILES]\n"
     ]
    },
    {
     "name": "stderr",
     "output_type": "stream",
     "text": [
      "[16:39:45] DEPRECATION WARNING: please use MorganGenerator\n",
      "[16:39:45] DEPRECATION WARNING: please use MorganGenerator\n",
      "The attention mask and the pad token id were not set. As a consequence, you may observe unexpected behavior. Please pass your input's `attention_mask` to obtain reliable results.\n",
      "Setting `pad_token_id` to `eos_token_id`:None for open-end generation.\n"
     ]
    },
    {
     "name": "stdout",
     "output_type": "stream",
     "text": [
      "GT: 0.2 Gen: 0.25757575757575757 diff: 0.06 Cc1cc(C)c(S(=O)(=O)NCC2CCCN2c2ccccc2)c(C)c1 <|begin_of_text|>[SIMILAR]Cc1cc(C)c(S(=O)(=O)NCC2CCCN2c2ccccc2)c(C)c1 0.20[/SIMILAR][TPSA]49.41[/TPSA][WEIGHT]308.16[/WEIGHT][SAS]2.84[/SAS][RINGCOUNT]3[/RINGCOUNT][CLOGP]2.45[/CLOGP][FORMULA]C16H24N2O2S[/FORMULA][SMILES]Cc1ccc(S(=O)(=O)N2CCCC2C)c(C)c1NC1CC1[/SMILES]\n"
     ]
    },
    {
     "name": "stderr",
     "output_type": "stream",
     "text": [
      "[16:39:46] DEPRECATION WARNING: please use MorganGenerator\n",
      "[16:39:46] DEPRECATION WARNING: please use MorganGenerator\n",
      "The attention mask and the pad token id were not set. As a consequence, you may observe unexpected behavior. Please pass your input's `attention_mask` to obtain reliable results.\n",
      "Setting `pad_token_id` to `eos_token_id`:None for open-end generation.\n"
     ]
    },
    {
     "name": "stdout",
     "output_type": "stream",
     "text": [
      "GT: 0.25 Gen: 0.39344262295081966 diff: 0.14 Cc1cc(C)c(S(=O)(=O)NCC2CCCN2c2ccccc2)c(C)c1 <|begin_of_text|>[SIMILAR]Cc1cc(C)c(S(=O)(=O)NCC2CCCN2c2ccccc2)c(C)c1 0.25[/SIMILAR][TPSA]49.41[/TPSA][WEIGHT]308.16[/WEIGHT][SAS]2.73[/SAS][RINGCOUNT]3[/RINGCOUNT][CLOGP]2.40[/CLOGP][FORMULA]C16H24N2O2S[/FORMULA][SMILES]Cc1ccc(S(=O)(=O)N2CCCC2CNC2CC2)c(C)c1[/SMILES]\n"
     ]
    },
    {
     "name": "stderr",
     "output_type": "stream",
     "text": [
      "[16:39:47] WARNING: not removing hydrogen atom without neighbors\n",
      "[16:39:47] DEPRECATION WARNING: please use MorganGenerator\n",
      "[16:39:47] DEPRECATION WARNING: please use MorganGenerator\n",
      "The attention mask and the pad token id were not set. As a consequence, you may observe unexpected behavior. Please pass your input's `attention_mask` to obtain reliable results.\n",
      "Setting `pad_token_id` to `eos_token_id`:None for open-end generation.\n"
     ]
    },
    {
     "name": "stdout",
     "output_type": "stream",
     "text": [
      "GT: 0.3 Gen: 0.7450980392156863 diff: 0.45 Cc1cc(C)c(S(=O)(=O)NCC2CCCN2c2ccccc2)c(C)c1 <|begin_of_text|>[SIMILAR]Cc1cc(C)c(S(=O)(=O)NCC2CCCN2c2ccccc2)c(C)c1 0.30[/SIMILAR][TPSA]49.41[/TPSA][WEIGHT]346.17[/WEIGHT][CLOGP]3.48[/CLOGP][RINGCOUNT]3[/RINGCOUNT][SAS]2.57[/SAS][QED]0.92[/QED][FORMULA]C19H26N2O2S[/FORMULA][SMILES]Cc1ccc(S(=O)(=O)NCC2CCCN2c2ccccc2)c(C)c1.[HH][/SMILES]\n"
     ]
    },
    {
     "name": "stderr",
     "output_type": "stream",
     "text": [
      "[16:39:47] WARNING: not removing hydrogen atom without neighbors\n",
      "[16:39:47] DEPRECATION WARNING: please use MorganGenerator\n",
      "[16:39:47] DEPRECATION WARNING: please use MorganGenerator\n",
      "The attention mask and the pad token id were not set. As a consequence, you may observe unexpected behavior. Please pass your input's `attention_mask` to obtain reliable results.\n",
      "Setting `pad_token_id` to `eos_token_id`:None for open-end generation.\n"
     ]
    },
    {
     "name": "stdout",
     "output_type": "stream",
     "text": [
      "GT: 0.35 Gen: 0.7450980392156863 diff: 0.4 Cc1cc(C)c(S(=O)(=O)NCC2CCCN2c2ccccc2)c(C)c1 <|begin_of_text|>[SIMILAR]Cc1cc(C)c(S(=O)(=O)NCC2CCCN2c2ccccc2)c(C)c1 0.35[/SIMILAR][TPSA]49.41[/TPSA][WEIGHT]346.17[/WEIGHT][CLOGP]3.48[/CLOGP][RINGCOUNT]3[/RINGCOUNT][SAS]2.53[/SAS][QED]0.92[/QED][FORMULA]C19H26N2O2S[/FORMULA][SMILES]Cc1ccc(S(=O)(=O)NCC2CCCN2c2ccccc2)c(C)c1.[HH][/SMILES]\n"
     ]
    },
    {
     "name": "stderr",
     "output_type": "stream",
     "text": [
      "[16:39:48] DEPRECATION WARNING: please use MorganGenerator\n",
      "[16:39:48] DEPRECATION WARNING: please use MorganGenerator\n",
      "The attention mask and the pad token id were not set. As a consequence, you may observe unexpected behavior. Please pass your input's `attention_mask` to obtain reliable results.\n",
      "Setting `pad_token_id` to `eos_token_id`:None for open-end generation.\n"
     ]
    },
    {
     "name": "stdout",
     "output_type": "stream",
     "text": [
      "GT: 0.4 Gen: 0.72 diff: 0.32 Cc1cc(C)c(S(=O)(=O)NCC2CCCN2c2ccccc2)c(C)c1 <|begin_of_text|>[SIMILAR]Cc1cc(C)c(S(=O)(=O)NCC2CCCN2c2ccccc2)c(C)c1 0.40[/SIMILAR][TPSA]49.41[/TPSA][WEIGHT]346.17[/WEIGHT][CLOGP]3.48[/CLOGP][SAS]2.53[/SAS][RINGCOUNT]3[/RINGCOUNT][FORMULA]C19H26N2O2S[/FORMULA][QED]0.92[/QED][SMILES]Cc1cc(C)c(S(=O)(=O)NCC2CCCN2c2ccccc2)cc1C[/SMILES]\n"
     ]
    },
    {
     "name": "stderr",
     "output_type": "stream",
     "text": [
      "[16:39:49] DEPRECATION WARNING: please use MorganGenerator\n",
      "[16:39:49] DEPRECATION WARNING: please use MorganGenerator\n",
      "The attention mask and the pad token id were not set. As a consequence, you may observe unexpected behavior. Please pass your input's `attention_mask` to obtain reliable results.\n",
      "Setting `pad_token_id` to `eos_token_id`:None for open-end generation.\n"
     ]
    },
    {
     "name": "stdout",
     "output_type": "stream",
     "text": [
      "GT: 0.45 Gen: 0.72 diff: 0.27 Cc1cc(C)c(S(=O)(=O)NCC2CCCN2c2ccccc2)c(C)c1 <|begin_of_text|>[SIMILAR]Cc1cc(C)c(S(=O)(=O)NCC2CCCN2c2ccccc2)c(C)c1 0.45[/SIMILAR][TPSA]49.41[/TPSA][WEIGHT]346.17[/WEIGHT][CLOGP]3.44[/CLOGP][SAS]2.53[/SAS][RINGCOUNT]3[/RINGCOUNT][FORMULA]C19H26N2O2S[/FORMULA][QED]0.92[/QED][SMILES]Cc1cc(C)c(S(=O)(=O)NCC2CCCN2c2ccccc2)cc1C[/SMILES]\n"
     ]
    },
    {
     "name": "stderr",
     "output_type": "stream",
     "text": [
      "[16:39:50] DEPRECATION WARNING: please use MorganGenerator\n",
      "[16:39:50] DEPRECATION WARNING: please use MorganGenerator\n",
      "The attention mask and the pad token id were not set. As a consequence, you may observe unexpected behavior. Please pass your input's `attention_mask` to obtain reliable results.\n",
      "Setting `pad_token_id` to `eos_token_id`:None for open-end generation.\n"
     ]
    },
    {
     "name": "stdout",
     "output_type": "stream",
     "text": [
      "GT: 0.5 Gen: 0.3870967741935484 diff: 0.11 Cc1cc(C)c(S(=O)(=O)NCC2CCCN2c2ccccc2)c(C)c1 <|begin_of_text|>[SIMILAR]Cc1cc(C)c(S(=O)(=O)NCC2CCCN2c2ccccc2)c(C)c1 0.50[/SIMILAR][TPSA]49.41[/TPSA][WEIGHT]386.20[/WEIGHT][FORMULA]C22H30N2O2S[/FORMULA][CLOGP]4.31[/CLOGP][RINGCOUNT]3[/RINGCOUNT][QED]0.84[/QED][SAS]2.66[/SAS][SMILES]Cc1cc(C)c(S(=O)(=O)NCC(c2ccc(N(C)C)cc2)C2CC2)c(C)c1[/SMILES]\n"
     ]
    },
    {
     "name": "stderr",
     "output_type": "stream",
     "text": [
      "[16:39:50] DEPRECATION WARNING: please use MorganGenerator\n",
      "[16:39:50] DEPRECATION WARNING: please use MorganGenerator\n",
      "The attention mask and the pad token id were not set. As a consequence, you may observe unexpected behavior. Please pass your input's `attention_mask` to obtain reliable results.\n",
      "Setting `pad_token_id` to `eos_token_id`:None for open-end generation.\n"
     ]
    },
    {
     "name": "stdout",
     "output_type": "stream",
     "text": [
      "GT: 0.55 Gen: 1.0 diff: 0.45 Cc1cc(C)c(S(=O)(=O)NCC2CCCN2c2ccccc2)c(C)c1 <|begin_of_text|>[SIMILAR]Cc1cc(C)c(S(=O)(=O)NCC2CCCN2c2ccccc2)c(C)c1 0.55[/SIMILAR][TPSA]49.41[/TPSA][WEIGHT]358.17[/WEIGHT][CLOGP]3.57[/CLOGP][SAS]2.57[/SAS][RINGCOUNT]3[/RINGCOUNT][FORMULA]C20H26N2O2S[/FORMULA][QED]0.89[/QED][SMILES]Cc1cc(C)c(S(=O)(=O)NCC2CCCN2c2ccccc2)c(C)c1[/SMILES]\n"
     ]
    },
    {
     "name": "stderr",
     "output_type": "stream",
     "text": [
      "[16:39:51] DEPRECATION WARNING: please use MorganGenerator\n",
      "[16:39:51] DEPRECATION WARNING: please use MorganGenerator\n",
      "The attention mask and the pad token id were not set. As a consequence, you may observe unexpected behavior. Please pass your input's `attention_mask` to obtain reliable results.\n",
      "Setting `pad_token_id` to `eos_token_id`:None for open-end generation.\n"
     ]
    },
    {
     "name": "stdout",
     "output_type": "stream",
     "text": [
      "GT: 0.6 Gen: 0.72 diff: 0.12 Cc1cc(C)c(S(=O)(=O)NCC2CCCN2c2ccccc2)c(C)c1 <|begin_of_text|>[SIMILAR]Cc1cc(C)c(S(=O)(=O)NCC2CCCN2c2ccccc2)c(C)c1 0.60[/SIMILAR][TPSA]49.41[/TPSA][WEIGHT]372.19[/WEIGHT][FORMULA]C21H28N2O2S[/FORMULA][SAS]2.63[/SAS][RINGCOUNT]3[/RINGCOUNT][CLOGP]3.96[/CLOGP][QED]0.86[/QED][SMILES]Cc1cc(C)c(S(=O)(=O)NCC2CCCN2c2ccc(C)cc2C)c(C)c1[/SMILES]\n"
     ]
    },
    {
     "name": "stderr",
     "output_type": "stream",
     "text": [
      "[16:39:52] DEPRECATION WARNING: please use MorganGenerator\n",
      "[16:39:52] DEPRECATION WARNING: please use MorganGenerator\n",
      "The attention mask and the pad token id were not set. As a consequence, you may observe unexpected behavior. Please pass your input's `attention_mask` to obtain reliable results.\n",
      "Setting `pad_token_id` to `eos_token_id`:None for open-end generation.\n"
     ]
    },
    {
     "name": "stdout",
     "output_type": "stream",
     "text": [
      "GT: 0.65 Gen: 0.6730769230769231 diff: 0.02 Cc1cc(C)c(S(=O)(=O)NCC2CCCN2c2ccccc2)c(C)c1 <|begin_of_text|>[SIMILAR]Cc1cc(C)c(S(=O)(=O)NCC2CCCN2c2ccccc2)c(C)c1 0.65[/SIMILAR][RINGCOUNT]3[/RINGCOUNT][TPSA]49.41[/TPSA][SAS]2.61[/SAS][WEIGHT]358.17[/WEIGHT][CLOGP]3.55[/CLOGP][FORMULA]C20H26N2O2S[/FORMULA][QED]0.89[/QED][SMILES]Cc1ccc(S(=O)(=O)NCC2CCCN2c2ccccc2)c(C)c1C[/SMILES]\n"
     ]
    },
    {
     "name": "stderr",
     "output_type": "stream",
     "text": [
      "[16:39:53] DEPRECATION WARNING: please use MorganGenerator\n",
      "[16:39:53] DEPRECATION WARNING: please use MorganGenerator\n",
      "The attention mask and the pad token id were not set. As a consequence, you may observe unexpected behavior. Please pass your input's `attention_mask` to obtain reliable results.\n",
      "Setting `pad_token_id` to `eos_token_id`:None for open-end generation.\n"
     ]
    },
    {
     "name": "stdout",
     "output_type": "stream",
     "text": [
      "GT: 0.7 Gen: 1.0 diff: 0.3 Cc1cc(C)c(S(=O)(=O)NCC2CCCN2c2ccccc2)c(C)c1 <|begin_of_text|>[SIMILAR]Cc1cc(C)c(S(=O)(=O)NCC2CCCN2c2ccccc2)c(C)c1 0.70[/SIMILAR][RINGCOUNT]3[/RINGCOUNT][TPSA]49.41[/TPSA][SAS]2.63[/SAS][WEIGHT]358.17[/WEIGHT][CLOGP]3.54[/CLOGP][FORMULA]C20H26N2O2S[/FORMULA][QED]0.89[/QED][SMILES]Cc1cc(C)c(S(=O)(=O)NCC2CCCN2c2ccccc2)c(C)c1[/SMILES]\n"
     ]
    },
    {
     "name": "stderr",
     "output_type": "stream",
     "text": [
      "[16:39:53] DEPRECATION WARNING: please use MorganGenerator\n",
      "[16:39:53] DEPRECATION WARNING: please use MorganGenerator\n",
      "The attention mask and the pad token id were not set. As a consequence, you may observe unexpected behavior. Please pass your input's `attention_mask` to obtain reliable results.\n",
      "Setting `pad_token_id` to `eos_token_id`:None for open-end generation.\n"
     ]
    },
    {
     "name": "stdout",
     "output_type": "stream",
     "text": [
      "GT: 0.75 Gen: 0.6730769230769231 diff: 0.08 Cc1cc(C)c(S(=O)(=O)NCC2CCCN2c2ccccc2)c(C)c1 <|begin_of_text|>[SIMILAR]Cc1cc(C)c(S(=O)(=O)NCC2CCCN2c2ccccc2)c(C)c1 0.75[/SIMILAR][RINGCOUNT]3[/RINGCOUNT][TPSA]49.41[/TPSA][QED]0.89[/QED][CLOGP]3.58[/CLOGP][SAS]2.61[/SAS][FORMULA]C20H26N2O2S[/FORMULA][WEIGHT]358.17[/WEIGHT][SMILES]Cc1ccc(S(=O)(=O)NCC2CCCN2c2ccccc2)c(C)c1C[/SMILES]\n"
     ]
    },
    {
     "name": "stderr",
     "output_type": "stream",
     "text": [
      "[16:39:54] DEPRECATION WARNING: please use MorganGenerator\n",
      "[16:39:54] DEPRECATION WARNING: please use MorganGenerator\n",
      "The attention mask and the pad token id were not set. As a consequence, you may observe unexpected behavior. Please pass your input's `attention_mask` to obtain reliable results.\n",
      "Setting `pad_token_id` to `eos_token_id`:None for open-end generation.\n"
     ]
    },
    {
     "name": "stdout",
     "output_type": "stream",
     "text": [
      "GT: 0.8 Gen: 1.0 diff: 0.2 Cc1cc(C)c(S(=O)(=O)NCC2CCCN2c2ccccc2)c(C)c1 <|begin_of_text|>[SIMILAR]Cc1cc(C)c(S(=O)(=O)NCC2CCCN2c2ccccc2)c(C)c1 0.80[/SIMILAR][RINGCOUNT]3[/RINGCOUNT][TPSA]49.41[/TPSA][SAS]2.63[/SAS][WEIGHT]358.17[/WEIGHT][CLOGP]3.53[/CLOGP][FORMULA]C20H26N2O2S[/FORMULA][QED]0.89[/QED][SMILES]Cc1cc(C)c(S(=O)(=O)NCC2CCCN2c2ccccc2)c(C)c1[/SMILES]\n"
     ]
    },
    {
     "name": "stderr",
     "output_type": "stream",
     "text": [
      "[16:39:55] DEPRECATION WARNING: please use MorganGenerator\n",
      "[16:39:55] DEPRECATION WARNING: please use MorganGenerator\n",
      "The attention mask and the pad token id were not set. As a consequence, you may observe unexpected behavior. Please pass your input's `attention_mask` to obtain reliable results.\n",
      "Setting `pad_token_id` to `eos_token_id`:None for open-end generation.\n"
     ]
    },
    {
     "name": "stdout",
     "output_type": "stream",
     "text": [
      "GT: 0.85 Gen: 1.0 diff: 0.15 Cc1cc(C)c(S(=O)(=O)NCC2CCCN2c2ccccc2)c(C)c1 <|begin_of_text|>[SIMILAR]Cc1cc(C)c(S(=O)(=O)NCC2CCCN2c2ccccc2)c(C)c1 0.85[/SIMILAR][RINGCOUNT]3[/RINGCOUNT][TPSA]49.41[/TPSA][QED]0.88[/QED][SAS]2.63[/SAS][CLOGP]3.66[/CLOGP][FORMULA]C20H26N2O2S[/FORMULA][WEIGHT]358.17[/WEIGHT][SMILES]Cc1cc(C)c(S(=O)(=O)NCC2CCCN2c2ccccc2)c(C)c1[/SMILES]\n"
     ]
    },
    {
     "name": "stderr",
     "output_type": "stream",
     "text": [
      "[16:39:56] DEPRECATION WARNING: please use MorganGenerator\n",
      "[16:39:56] DEPRECATION WARNING: please use MorganGenerator\n",
      "The attention mask and the pad token id were not set. As a consequence, you may observe unexpected behavior. Please pass your input's `attention_mask` to obtain reliable results.\n",
      "Setting `pad_token_id` to `eos_token_id`:None for open-end generation.\n"
     ]
    },
    {
     "name": "stdout",
     "output_type": "stream",
     "text": [
      "GT: 0.9 Gen: 1.0 diff: 0.1 Cc1cc(C)c(S(=O)(=O)NCC2CCCN2c2ccccc2)c(C)c1 <|begin_of_text|>[SIMILAR]Cc1cc(C)c(S(=O)(=O)NCC2CCCN2c2ccccc2)c(C)c1 0.90[/SIMILAR][WEIGHT]358.17[/WEIGHT][FORMULA]C20H26N2O2S[/FORMULA][SAS]2.62[/SAS][RINGCOUNT]3[/RINGCOUNT][TPSA]49.41[/TPSA][CLOGP]3.57[/CLOGP][QED]0.89[/QED][SMILES]Cc1cc(C)c(S(=O)(=O)NCC2CCCN2c2ccccc2)c(C)c1[/SMILES]\n"
     ]
    },
    {
     "name": "stderr",
     "output_type": "stream",
     "text": [
      "[16:39:56] DEPRECATION WARNING: please use MorganGenerator\n",
      "[16:39:56] DEPRECATION WARNING: please use MorganGenerator\n",
      "The attention mask and the pad token id were not set. As a consequence, you may observe unexpected behavior. Please pass your input's `attention_mask` to obtain reliable results.\n",
      "Setting `pad_token_id` to `eos_token_id`:None for open-end generation.\n"
     ]
    },
    {
     "name": "stdout",
     "output_type": "stream",
     "text": [
      "GT: 0.95 Gen: 0.9333333333333333 diff: 0.02 Cc1cc(C)c(S(=O)(=O)NCC2CCCN2c2ccccc2)c(C)c1 <|begin_of_text|>[SIMILAR]Cc1cc(C)c(S(=O)(=O)NCC2CCCN2c2ccccc2)c(C)c1 0.95[/SIMILAR][WEIGHT]372.19[/WEIGHT][QED]0.87[/QED][RINGCOUNT]3[/RINGCOUNT][SAS]2.66[/SAS][CLOGP]3.87[/CLOGP][TPSA]49.41[/TPSA][FORMULA]C21H28N2O2S[/FORMULA][SMILES]Cc1cc(C)c(S(=O)(=O)NCC2CCCCN2c2ccccc2)c(C)c1[/SMILES]\n"
     ]
    },
    {
     "name": "stderr",
     "output_type": "stream",
     "text": [
      "[16:39:57] DEPRECATION WARNING: please use MorganGenerator\n",
      "[16:39:57] DEPRECATION WARNING: please use MorganGenerator\n",
      "The attention mask and the pad token id were not set. As a consequence, you may observe unexpected behavior. Please pass your input's `attention_mask` to obtain reliable results.\n",
      "Setting `pad_token_id` to `eos_token_id`:None for open-end generation.\n"
     ]
    },
    {
     "name": "stdout",
     "output_type": "stream",
     "text": [
      "GT: 1.0 Gen: 1.0 diff: 0.0 Cc1cc(C)c(S(=O)(=O)NCC2CCCN2c2ccccc2)c(C)c1 <|begin_of_text|>[SIMILAR]Cc1cc(C)c(S(=O)(=O)NCC2CCCN2c2ccccc2)c(C)c1 1.00[/SIMILAR][SMILES]Cc1cc(C)c(S(=O)(=O)NCC2CCCN2c2ccccc2)c(C)c1[/SMILES]\n"
     ]
    },
    {
     "name": "stderr",
     "output_type": "stream",
     "text": [
      "[16:39:57] DEPRECATION WARNING: please use MorganGenerator\n",
      "[16:39:57] DEPRECATION WARNING: please use MorganGenerator\n",
      "The attention mask and the pad token id were not set. As a consequence, you may observe unexpected behavior. Please pass your input's `attention_mask` to obtain reliable results.\n",
      "Setting `pad_token_id` to `eos_token_id`:None for open-end generation.\n"
     ]
    },
    {
     "name": "stdout",
     "output_type": "stream",
     "text": [
      "GT: 0.2 Gen: 0.3382352941176471 diff: 0.14 Cc1nn(C)c(Oc2ccc(Br)cc2[N+](=O)[O-])c1CO <|begin_of_text|>[SIMILAR]Cc1nn(C)c(Oc2ccc(Br)cc2[N+](=O)[O-])c1CO 0.20[/SIMILAR][TPSA]90.42[/TPSA][FORMULA]C12H12BrN3O4[/FORMULA][SAS]2.60[/SAS][RINGCOUNT]2[/RINGCOUNT][CLOGP]2.53[/CLOGP][QED]0.67[/QED][WEIGHT]341.00[/WEIGHT][SMILES]Cn1ncc(CO)c1COc1c(Br)cccc1[N+](=O)[O-][/SMILES]\n"
     ]
    },
    {
     "name": "stderr",
     "output_type": "stream",
     "text": [
      "[16:39:58] DEPRECATION WARNING: please use MorganGenerator\n",
      "[16:39:58] DEPRECATION WARNING: please use MorganGenerator\n",
      "The attention mask and the pad token id were not set. As a consequence, you may observe unexpected behavior. Please pass your input's `attention_mask` to obtain reliable results.\n",
      "Setting `pad_token_id` to `eos_token_id`:None for open-end generation.\n"
     ]
    },
    {
     "name": "stdout",
     "output_type": "stream",
     "text": [
      "GT: 0.25 Gen: 0.2638888888888889 diff: 0.01 Cc1nn(C)c(Oc2ccc(Br)cc2[N+](=O)[O-])c1CO <|begin_of_text|>[SIMILAR]Cc1nn(C)c(Oc2ccc(Br)cc2[N+](=O)[O-])c1CO 0.25[/SIMILAR][WEIGHT]339.02[/WEIGHT][TPSA]70.19[/TPSA][SAS]2.35[/SAS][CLOGP]3.53[/CLOGP][RINGCOUNT]2[/RINGCOUNT][QED]0.62[/QED][FORMULA]C13H14BrN3O3[/FORMULA][SMILES]CCCn1cc(COc2c(Br)cccc2[N+](=O)[O-])cn1[/SMILES]\n"
     ]
    },
    {
     "name": "stderr",
     "output_type": "stream",
     "text": [
      "[16:39:59] DEPRECATION WARNING: please use MorganGenerator\n",
      "[16:39:59] DEPRECATION WARNING: please use MorganGenerator\n",
      "The attention mask and the pad token id were not set. As a consequence, you may observe unexpected behavior. Please pass your input's `attention_mask` to obtain reliable results.\n",
      "Setting `pad_token_id` to `eos_token_id`:None for open-end generation.\n"
     ]
    },
    {
     "name": "stdout",
     "output_type": "stream",
     "text": [
      "GT: 0.3 Gen: 0.6481481481481481 diff: 0.35 Cc1nn(C)c(Oc2ccc(Br)cc2[N+](=O)[O-])c1CO <|begin_of_text|>[SIMILAR]Cc1nn(C)c(Oc2ccc(Br)cc2[N+](=O)[O-])c1CO 0.30[/SIMILAR][WEIGHT]339.02[/WEIGHT][TPSA]70.19[/TPSA][SAS]2.35[/SAS][CLOGP]3.53[/CLOGP][RINGCOUNT]2[/RINGCOUNT][QED]0.62[/QED][FORMULA]C13H14BrN3O3[/FORMULA][SMILES]CCc1nn(C)c(Oc2ccc(Br)cc2[N+](=O)[O-])c1C[/SMILES]\n"
     ]
    },
    {
     "name": "stderr",
     "output_type": "stream",
     "text": [
      "[16:39:59] DEPRECATION WARNING: please use MorganGenerator\n",
      "[16:39:59] DEPRECATION WARNING: please use MorganGenerator\n",
      "The attention mask and the pad token id were not set. As a consequence, you may observe unexpected behavior. Please pass your input's `attention_mask` to obtain reliable results.\n",
      "Setting `pad_token_id` to `eos_token_id`:None for open-end generation.\n"
     ]
    },
    {
     "name": "stdout",
     "output_type": "stream",
     "text": [
      "GT: 0.35 Gen: 0.3333333333333333 diff: 0.02 Cc1nn(C)c(Oc2ccc(Br)cc2[N+](=O)[O-])c1CO <|begin_of_text|>[SIMILAR]Cc1nn(C)c(Oc2ccc(Br)cc2[N+](=O)[O-])c1CO 0.35[/SIMILAR][WEIGHT]339.02[/WEIGHT][TPSA]70.19[/TPSA][SAS]2.35[/SAS][CLOGP]3.62[/CLOGP][FORMULA]C13H14BrN3O3[/FORMULA][RINGCOUNT]2[/RINGCOUNT][QED]0.62[/QED][SMILES]CCn1nc(C)c(Br)c1COc1ccccc1[N+](=O)[O-][/SMILES]\n"
     ]
    },
    {
     "name": "stderr",
     "output_type": "stream",
     "text": [
      "[16:40:00] DEPRECATION WARNING: please use MorganGenerator\n",
      "[16:40:00] DEPRECATION WARNING: please use MorganGenerator\n",
      "The attention mask and the pad token id were not set. As a consequence, you may observe unexpected behavior. Please pass your input's `attention_mask` to obtain reliable results.\n",
      "Setting `pad_token_id` to `eos_token_id`:None for open-end generation.\n"
     ]
    },
    {
     "name": "stdout",
     "output_type": "stream",
     "text": [
      "GT: 0.4 Gen: 0.3333333333333333 diff: 0.07 Cc1nn(C)c(Oc2ccc(Br)cc2[N+](=O)[O-])c1CO <|begin_of_text|>[SIMILAR]Cc1nn(C)c(Oc2ccc(Br)cc2[N+](=O)[O-])c1CO 0.40[/SIMILAR][WEIGHT]355.02[/WEIGHT][TPSA]70.19[/TPSA][SAS]2.39[/SAS][CLOGP]3.89[/CLOGP][RINGCOUNT]2[/RINGCOUNT][FORMULA]C14H14BrN3O3[/FORMULA][QED]0.60[/QED][SMILES]CCn1nc(C)c(Br)c1COc1ccccc1[N+](=O)[O-][/SMILES]\n"
     ]
    },
    {
     "name": "stderr",
     "output_type": "stream",
     "text": [
      "[16:40:01] DEPRECATION WARNING: please use MorganGenerator\n",
      "[16:40:01] DEPRECATION WARNING: please use MorganGenerator\n",
      "The attention mask and the pad token id were not set. As a consequence, you may observe unexpected behavior. Please pass your input's `attention_mask` to obtain reliable results.\n",
      "Setting `pad_token_id` to `eos_token_id`:None for open-end generation.\n"
     ]
    },
    {
     "name": "stdout",
     "output_type": "stream",
     "text": [
      "GT: 0.45 Gen: 0.4 diff: 0.05 Cc1nn(C)c(Oc2ccc(Br)cc2[N+](=O)[O-])c1CO <|begin_of_text|>[SIMILAR]Cc1nn(C)c(Oc2ccc(Br)cc2[N+](=O)[O-])c1CO 0.45[/SIMILAR][WEIGHT]355.02[/WEIGHT][TPSA]70.19[/TPSA][SAS]2.41[/SAS][RINGCOUNT]2[/RINGCOUNT][CLOGP]3.89[/CLOGP][FORMULA]C14H14BrN3O3[/FORMULA][QED]0.61[/QED][SMILES]CCn1nc(C)c(Br)c1Oc1ccccc1[N+](=O)[O-].CC#N[/SMILES]\n"
     ]
    },
    {
     "name": "stderr",
     "output_type": "stream",
     "text": [
      "[16:40:01] DEPRECATION WARNING: please use MorganGenerator\n",
      "[16:40:01] DEPRECATION WARNING: please use MorganGenerator\n",
      "The attention mask and the pad token id were not set. As a consequence, you may observe unexpected behavior. Please pass your input's `attention_mask` to obtain reliable results.\n",
      "Setting `pad_token_id` to `eos_token_id`:None for open-end generation.\n"
     ]
    },
    {
     "name": "stdout",
     "output_type": "stream",
     "text": [
      "GT: 0.5 Gen: 0.3333333333333333 diff: 0.17 Cc1nn(C)c(Oc2ccc(Br)cc2[N+](=O)[O-])c1CO <|begin_of_text|>[SIMILAR]Cc1nn(C)c(Oc2ccc(Br)cc2[N+](=O)[O-])c1CO 0.50[/SIMILAR][WEIGHT]355.02[/WEIGHT][TPSA]90.42[/TPSA][FORMULA]C13H14BrN3O4[/FORMULA][SAS]2.46[/SAS][CLOGP]3.14[/CLOGP][RINGCOUNT]2[/RINGCOUNT][QED]0.66[/QED][SMILES]CCn1nc(C)c(Br)c1COc1ccc([N+](=O)[O-])cc1O[/SMILES]\n"
     ]
    },
    {
     "name": "stderr",
     "output_type": "stream",
     "text": [
      "[16:40:02] DEPRECATION WARNING: please use MorganGenerator\n",
      "[16:40:02] DEPRECATION WARNING: please use MorganGenerator\n",
      "The attention mask and the pad token id were not set. As a consequence, you may observe unexpected behavior. Please pass your input's `attention_mask` to obtain reliable results.\n",
      "Setting `pad_token_id` to `eos_token_id`:None for open-end generation.\n"
     ]
    },
    {
     "name": "stdout",
     "output_type": "stream",
     "text": [
      "GT: 0.55 Gen: 0.4375 diff: 0.11 Cc1nn(C)c(Oc2ccc(Br)cc2[N+](=O)[O-])c1CO <|begin_of_text|>[SIMILAR]Cc1nn(C)c(Oc2ccc(Br)cc2[N+](=O)[O-])c1CO 0.55[/SIMILAR][WEIGHT]355.02[/WEIGHT][TPSA]90.42[/TPSA][FORMULA]C13H14BrN3O4[/FORMULA][SAS]2.47[/SAS][CLOGP]3.14[/CLOGP][RINGCOUNT]2[/RINGCOUNT][QED]0.66[/QED][SMILES]CCn1nc(C)c(Br)c1Oc1ccc([N+](=O)[O-])cc1CO[/SMILES]\n"
     ]
    },
    {
     "name": "stderr",
     "output_type": "stream",
     "text": [
      "[16:40:03] DEPRECATION WARNING: please use MorganGenerator\n",
      "[16:40:03] DEPRECATION WARNING: please use MorganGenerator\n",
      "The attention mask and the pad token id were not set. As a consequence, you may observe unexpected behavior. Please pass your input's `attention_mask` to obtain reliable results.\n",
      "Setting `pad_token_id` to `eos_token_id`:None for open-end generation.\n"
     ]
    },
    {
     "name": "stdout",
     "output_type": "stream",
     "text": [
      "GT: 0.6 Gen: 0.4375 diff: 0.16 Cc1nn(C)c(Oc2ccc(Br)cc2[N+](=O)[O-])c1CO <|begin_of_text|>[SIMILAR]Cc1nn(C)c(Oc2ccc(Br)cc2[N+](=O)[O-])c1CO 0.60[/SIMILAR][WEIGHT]355.02[/WEIGHT][TPSA]90.42[/TPSA][FORMULA]C13H14BrN3O4[/FORMULA][SAS]2.48[/SAS][CLOGP]3.21[/CLOGP][RINGCOUNT]2[/RINGCOUNT][QED]0.66[/QED][SMILES]CCn1nc(C)c(Br)c1Oc1ccc([N+](=O)[O-])cc1CO[/SMILES]\n"
     ]
    },
    {
     "name": "stderr",
     "output_type": "stream",
     "text": [
      "[16:40:04] DEPRECATION WARNING: please use MorganGenerator\n",
      "[16:40:04] DEPRECATION WARNING: please use MorganGenerator\n",
      "The attention mask and the pad token id were not set. As a consequence, you may observe unexpected behavior. Please pass your input's `attention_mask` to obtain reliable results.\n",
      "Setting `pad_token_id` to `eos_token_id`:None for open-end generation.\n"
     ]
    },
    {
     "name": "stdout",
     "output_type": "stream",
     "text": [
      "GT: 0.65 Gen: 0.4375 diff: 0.21 Cc1nn(C)c(Oc2ccc(Br)cc2[N+](=O)[O-])c1CO <|begin_of_text|>[SIMILAR]Cc1nn(C)c(Oc2ccc(Br)cc2[N+](=O)[O-])c1CO 0.65[/SIMILAR][WEIGHT]355.02[/WEIGHT][TPSA]90.42[/TPSA][FORMULA]C13H14BrN3O4[/FORMULA][SAS]2.50[/SAS][CLOGP]3.21[/CLOGP][RINGCOUNT]2[/RINGCOUNT][QED]0.66[/QED][SMILES]CCn1nc(C)c(Br)c1Oc1ccc([N+](=O)[O-])cc1CO[/SMILES]\n"
     ]
    },
    {
     "name": "stderr",
     "output_type": "stream",
     "text": [
      "[16:40:04] DEPRECATION WARNING: please use MorganGenerator\n",
      "[16:40:04] DEPRECATION WARNING: please use MorganGenerator\n",
      "The attention mask and the pad token id were not set. As a consequence, you may observe unexpected behavior. Please pass your input's `attention_mask` to obtain reliable results.\n",
      "Setting `pad_token_id` to `eos_token_id`:None for open-end generation.\n"
     ]
    },
    {
     "name": "stdout",
     "output_type": "stream",
     "text": [
      "GT: 0.7 Gen: 0.4375 diff: 0.26 Cc1nn(C)c(Oc2ccc(Br)cc2[N+](=O)[O-])c1CO <|begin_of_text|>[SIMILAR]Cc1nn(C)c(Oc2ccc(Br)cc2[N+](=O)[O-])c1CO 0.70[/SIMILAR][WEIGHT]355.02[/WEIGHT][TPSA]90.42[/TPSA][FORMULA]C13H14BrN3O4[/FORMULA][SAS]2.50[/SAS][CLOGP]3.15[/CLOGP][RINGCOUNT]2[/RINGCOUNT][QED]0.67[/QED][SMILES]CCn1nc(C)c(Br)c1Oc1ccc([N+](=O)[O-])cc1CO[/SMILES]\n"
     ]
    },
    {
     "name": "stderr",
     "output_type": "stream",
     "text": [
      "[16:40:05] DEPRECATION WARNING: please use MorganGenerator\n",
      "[16:40:05] DEPRECATION WARNING: please use MorganGenerator\n",
      "The attention mask and the pad token id were not set. As a consequence, you may observe unexpected behavior. Please pass your input's `attention_mask` to obtain reliable results.\n",
      "Setting `pad_token_id` to `eos_token_id`:None for open-end generation.\n"
     ]
    },
    {
     "name": "stdout",
     "output_type": "stream",
     "text": [
      "GT: 0.75 Gen: 1.0 diff: 0.25 Cc1nn(C)c(Oc2ccc(Br)cc2[N+](=O)[O-])c1CO <|begin_of_text|>[SIMILAR]Cc1nn(C)c(Oc2ccc(Br)cc2[N+](=O)[O-])c1CO 0.75[/SIMILAR][WEIGHT]341.00[/WEIGHT][TPSA]90.42[/TPSA][FORMULA]C12H12BrN3O4[/FORMULA][SAS]2.47[/SAS][CLOGP]2.79[/CLOGP][RINGCOUNT]2[/RINGCOUNT][QED]0.68[/QED][SMILES]Cc1nn(C)c(Oc2ccc(Br)cc2[N+](=O)[O-])c1CO[/SMILES]\n"
     ]
    },
    {
     "name": "stderr",
     "output_type": "stream",
     "text": [
      "[16:40:06] DEPRECATION WARNING: please use MorganGenerator\n",
      "[16:40:06] DEPRECATION WARNING: please use MorganGenerator\n",
      "The attention mask and the pad token id were not set. As a consequence, you may observe unexpected behavior. Please pass your input's `attention_mask` to obtain reliable results.\n",
      "Setting `pad_token_id` to `eos_token_id`:None for open-end generation.\n"
     ]
    },
    {
     "name": "stdout",
     "output_type": "stream",
     "text": [
      "GT: 0.8 Gen: 1.0 diff: 0.2 Cc1nn(C)c(Oc2ccc(Br)cc2[N+](=O)[O-])c1CO <|begin_of_text|>[SIMILAR]Cc1nn(C)c(Oc2ccc(Br)cc2[N+](=O)[O-])c1CO 0.80[/SIMILAR][WEIGHT]341.00[/WEIGHT][TPSA]90.42[/TPSA][FORMULA]C12H12BrN3O4[/FORMULA][SAS]2.46[/SAS][CLOGP]2.78[/CLOGP][RINGCOUNT]2[/RINGCOUNT][QED]0.68[/QED][SMILES]Cc1nn(C)c(Oc2ccc(Br)cc2[N+](=O)[O-])c1CO[/SMILES]\n"
     ]
    },
    {
     "name": "stderr",
     "output_type": "stream",
     "text": [
      "[16:40:06] DEPRECATION WARNING: please use MorganGenerator\n",
      "[16:40:06] DEPRECATION WARNING: please use MorganGenerator\n",
      "The attention mask and the pad token id were not set. As a consequence, you may observe unexpected behavior. Please pass your input's `attention_mask` to obtain reliable results.\n",
      "Setting `pad_token_id` to `eos_token_id`:None for open-end generation.\n"
     ]
    },
    {
     "name": "stdout",
     "output_type": "stream",
     "text": [
      "GT: 0.85 Gen: 1.0 diff: 0.15 Cc1nn(C)c(Oc2ccc(Br)cc2[N+](=O)[O-])c1CO <|begin_of_text|>[SIMILAR]Cc1nn(C)c(Oc2ccc(Br)cc2[N+](=O)[O-])c1CO 0.85[/SIMILAR][WEIGHT]341.00[/WEIGHT][FORMULA]C12H12BrN3O4[/FORMULA][TPSA]90.42[/TPSA][RINGCOUNT]2[/RINGCOUNT][CLOGP]2.78[/CLOGP][SAS]2.47[/SAS][QED]0.68[/QED][SMILES]Cc1nn(C)c(Oc2ccc(Br)cc2[N+](=O)[O-])c1CO[/SMILES]\n"
     ]
    },
    {
     "name": "stderr",
     "output_type": "stream",
     "text": [
      "[16:40:07] DEPRECATION WARNING: please use MorganGenerator\n",
      "[16:40:07] DEPRECATION WARNING: please use MorganGenerator\n",
      "The attention mask and the pad token id were not set. As a consequence, you may observe unexpected behavior. Please pass your input's `attention_mask` to obtain reliable results.\n",
      "Setting `pad_token_id` to `eos_token_id`:None for open-end generation.\n"
     ]
    },
    {
     "name": "stdout",
     "output_type": "stream",
     "text": [
      "GT: 0.9 Gen: 1.0 diff: 0.1 Cc1nn(C)c(Oc2ccc(Br)cc2[N+](=O)[O-])c1CO <|begin_of_text|>[SIMILAR]Cc1nn(C)c(Oc2ccc(Br)cc2[N+](=O)[O-])c1CO 0.90[/SIMILAR][WEIGHT]341.00[/WEIGHT][FORMULA]C12H12BrN3O4[/FORMULA][TPSA]90.42[/TPSA][RINGCOUNT]2[/RINGCOUNT][CLOGP]2.79[/CLOGP][SAS]2.46[/SAS][QED]0.68[/QED][SMILES]Cc1nn(C)c(Oc2ccc(Br)cc2[N+](=O)[O-])c1CO[/SMILES]\n"
     ]
    },
    {
     "name": "stderr",
     "output_type": "stream",
     "text": [
      "[16:40:08] DEPRECATION WARNING: please use MorganGenerator\n",
      "[16:40:08] DEPRECATION WARNING: please use MorganGenerator\n",
      "The attention mask and the pad token id were not set. As a consequence, you may observe unexpected behavior. Please pass your input's `attention_mask` to obtain reliable results.\n",
      "Setting `pad_token_id` to `eos_token_id`:None for open-end generation.\n"
     ]
    },
    {
     "name": "stdout",
     "output_type": "stream",
     "text": [
      "GT: 0.95 Gen: 1.0 diff: 0.05 Cc1nn(C)c(Oc2ccc(Br)cc2[N+](=O)[O-])c1CO <|begin_of_text|>[SIMILAR]Cc1nn(C)c(Oc2ccc(Br)cc2[N+](=O)[O-])c1CO 0.95[/SIMILAR][QED]0.67[/QED][WEIGHT]341.00[/WEIGHT][FORMULA]C12H12BrN3O4[/FORMULA][TPSA]90.42[/TPSA][RINGCOUNT]2[/RINGCOUNT][CLOGP]2.78[/CLOGP][SAS]2.47[/SAS][SMILES]Cc1nn(C)c(Oc2ccc(Br)cc2[N+](=O)[O-])c1CO[/SMILES]\n"
     ]
    },
    {
     "name": "stderr",
     "output_type": "stream",
     "text": [
      "[16:40:09] DEPRECATION WARNING: please use MorganGenerator\n",
      "[16:40:09] DEPRECATION WARNING: please use MorganGenerator\n",
      "The attention mask and the pad token id were not set. As a consequence, you may observe unexpected behavior. Please pass your input's `attention_mask` to obtain reliable results.\n",
      "Setting `pad_token_id` to `eos_token_id`:None for open-end generation.\n"
     ]
    },
    {
     "name": "stdout",
     "output_type": "stream",
     "text": [
      "GT: 1.0 Gen: 1.0 diff: 0.0 Cc1nn(C)c(Oc2ccc(Br)cc2[N+](=O)[O-])c1CO <|begin_of_text|>[SIMILAR]Cc1nn(C)c(Oc2ccc(Br)cc2[N+](=O)[O-])c1CO 1.00[/SIMILAR][WEIGHT]341.00[/WEIGHT][TPSA]90.42[/TPSA][SAS]2.47[/SAS][CLOGP]2.69[/CLOGP][RINGCOUNT]2[/RINGCOUNT][FORMULA]C12H12BrN3O4[/FORMULA][QED]0.68[/QED][SMILES]Cc1nn(C)c(Oc2ccc(Br)cc2[N+](=O)[O-])c1CO[/SMILES]\n"
     ]
    },
    {
     "name": "stderr",
     "output_type": "stream",
     "text": [
      "[16:40:09] DEPRECATION WARNING: please use MorganGenerator\n",
      "[16:40:09] DEPRECATION WARNING: please use MorganGenerator\n",
      "The attention mask and the pad token id were not set. As a consequence, you may observe unexpected behavior. Please pass your input's `attention_mask` to obtain reliable results.\n",
      "Setting `pad_token_id` to `eos_token_id`:None for open-end generation.\n"
     ]
    },
    {
     "name": "stdout",
     "output_type": "stream",
     "text": [
      "GT: 0.2 Gen: 0.2375 diff: 0.04 CN=C(NCc1nc(-c2ccccc2)cs1)N1CCSC(C)(C)C1 <|begin_of_text|>[SIMILAR]CN=C(NCc1nc(-c2ccccc2)cs1)N1CCSC(C)(C)C1 0.20[/SIMILAR][TPSA]52.55[/TPSA][WEIGHT]375.25[/WEIGHT][FORMULA]C20H33N5S[/FORMULA][RINGCOUNT]2[/RINGCOUNT][SAS]2.78[/SAS][QED]0.57[/QED][CLOGP]3.48[/CLOGP][SMILES]CCNC(=NCc1csc(CC)n1)NC1CCN(C2CCCCC2)CC1[/SMILES]\n"
     ]
    },
    {
     "name": "stderr",
     "output_type": "stream",
     "text": [
      "[16:40:10] DEPRECATION WARNING: please use MorganGenerator\n",
      "[16:40:10] DEPRECATION WARNING: please use MorganGenerator\n",
      "The attention mask and the pad token id were not set. As a consequence, you may observe unexpected behavior. Please pass your input's `attention_mask` to obtain reliable results.\n",
      "Setting `pad_token_id` to `eos_token_id`:None for open-end generation.\n"
     ]
    },
    {
     "name": "stdout",
     "output_type": "stream",
     "text": [
      "GT: 0.25 Gen: 0.2289156626506024 diff: 0.02 CN=C(NCc1nc(-c2ccccc2)cs1)N1CCSC(C)(C)C1 <|begin_of_text|>[SIMILAR]CN=C(NCc1nc(-c2ccccc2)cs1)N1CCSC(C)(C)C1 0.25[/SIMILAR][TPSA]52.55[/TPSA][WEIGHT]373.23[/WEIGHT][FORMULA]C20H31N5S[/FORMULA][RINGCOUNT]2[/RINGCOUNT][SAS]2.73[/SAS][QED]0.58[/QED][CLOGP]3.40[/CLOGP][SMILES]CCNC(=NCc1csc(CC)n1)NCCN(CC)c1cccc(C)c1[/SMILES]\n"
     ]
    },
    {
     "name": "stderr",
     "output_type": "stream",
     "text": [
      "[16:40:10] DEPRECATION WARNING: please use MorganGenerator\n",
      "[16:40:10] DEPRECATION WARNING: please use MorganGenerator\n",
      "The attention mask and the pad token id were not set. As a consequence, you may observe unexpected behavior. Please pass your input's `attention_mask` to obtain reliable results.\n",
      "Setting `pad_token_id` to `eos_token_id`:None for open-end generation.\n"
     ]
    },
    {
     "name": "stdout",
     "output_type": "stream",
     "text": [
      "GT: 0.3 Gen: 0.2839506172839506 diff: 0.02 CN=C(NCc1nc(-c2ccccc2)cs1)N1CCSC(C)(C)C1 <|begin_of_text|>[SIMILAR]CN=C(NCc1nc(-c2ccccc2)cs1)N1CCSC(C)(C)C1 0.30[/SIMILAR][TPSA]52.55[/TPSA][WEIGHT]513.14[/WEIGHT][FORMULA]C21H32IN5S[/FORMULA][RINGCOUNT]3[/RINGCOUNT][SAS]2.73[/SAS][CLOGP]4.14[/CLOGP][SMILES]CCNC(=NCc1csc(CCc2ccccc2)n1)NC1CCN(C)CC1.I[/SMILES]\n"
     ]
    },
    {
     "name": "stderr",
     "output_type": "stream",
     "text": [
      "[16:40:11] DEPRECATION WARNING: please use MorganGenerator\n",
      "[16:40:11] DEPRECATION WARNING: please use MorganGenerator\n",
      "The attention mask and the pad token id were not set. As a consequence, you may observe unexpected behavior. Please pass your input's `attention_mask` to obtain reliable results.\n",
      "Setting `pad_token_id` to `eos_token_id`:None for open-end generation.\n"
     ]
    },
    {
     "name": "stdout",
     "output_type": "stream",
     "text": [
      "GT: 0.35 Gen: 0.27380952380952384 diff: 0.08 CN=C(NCc1nc(-c2ccccc2)cs1)N1CCSC(C)(C)C1 <|begin_of_text|>[SIMILAR]CN=C(NCc1nc(-c2ccccc2)cs1)N1CCSC(C)(C)C1 0.35[/SIMILAR][TPSA]52.55[/TPSA][WEIGHT]513.14[/WEIGHT][FORMULA]C21H32IN5S[/FORMULA][RINGCOUNT]3[/RINGCOUNT][SAS]3.26[/SAS][CLOGP]4.11[/CLOGP][SMILES]CCNC(=NCc1csc(CCc2ccccc2)n1)NCC1CCCN1C.I[/SMILES]\n"
     ]
    },
    {
     "name": "stderr",
     "output_type": "stream",
     "text": [
      "[16:40:11] DEPRECATION WARNING: please use MorganGenerator\n",
      "[16:40:11] DEPRECATION WARNING: please use MorganGenerator\n",
      "The attention mask and the pad token id were not set. As a consequence, you may observe unexpected behavior. Please pass your input's `attention_mask` to obtain reliable results.\n",
      "Setting `pad_token_id` to `eos_token_id`:None for open-end generation.\n"
     ]
    },
    {
     "name": "stdout",
     "output_type": "stream",
     "text": [
      "GT: 0.4 Gen: 0.2987012987012987 diff: 0.1 CN=C(NCc1nc(-c2ccccc2)cs1)N1CCSC(C)(C)C1 <|begin_of_text|>[SIMILAR]CN=C(NCc1nc(-c2ccccc2)cs1)N1CCSC(C)(C)C1 0.40[/SIMILAR][TPSA]52.55[/TPSA][FORMULA]C21H31N5S[/FORMULA][WEIGHT]385.23[/WEIGHT][RINGCOUNT]3[/RINGCOUNT][SAS]2.57[/SAS][CLOGP]3.42[/CLOGP][SMILES]CN=C(NCCc1csc(C)n1)NCc1ccccc1CN1CCCCC1[/SMILES]\n"
     ]
    },
    {
     "name": "stderr",
     "output_type": "stream",
     "text": [
      "[16:40:12] DEPRECATION WARNING: please use MorganGenerator\n",
      "[16:40:12] DEPRECATION WARNING: please use MorganGenerator\n",
      "The attention mask and the pad token id were not set. As a consequence, you may observe unexpected behavior. Please pass your input's `attention_mask` to obtain reliable results.\n",
      "Setting `pad_token_id` to `eos_token_id`:None for open-end generation.\n"
     ]
    },
    {
     "name": "stdout",
     "output_type": "stream",
     "text": [
      "GT: 0.45 Gen: 1.0 diff: 0.55 CN=C(NCc1nc(-c2ccccc2)cs1)N1CCSC(C)(C)C1 <|begin_of_text|>[SIMILAR]CN=C(NCc1nc(-c2ccccc2)cs1)N1CCSC(C)(C)C1 0.45[/SIMILAR][CLOGP]3.73[/CLOGP][WEIGHT]372.14[/WEIGHT][RINGCOUNT]3[/RINGCOUNT][TPSA]40.52[/TPSA][FORMULA]C18H24N4OS2[/FORMULA][SAS]3.26[/SAS][SMILES]CN=C(NCc1nc(-c2ccccc2)cs1)N1CCSC(C)(C)C1[/SMILES]\n"
     ]
    },
    {
     "name": "stderr",
     "output_type": "stream",
     "text": [
      "[16:40:13] DEPRECATION WARNING: please use MorganGenerator\n",
      "[16:40:13] DEPRECATION WARNING: please use MorganGenerator\n",
      "The attention mask and the pad token id were not set. As a consequence, you may observe unexpected behavior. Please pass your input's `attention_mask` to obtain reliable results.\n",
      "Setting `pad_token_id` to `eos_token_id`:None for open-end generation.\n"
     ]
    },
    {
     "name": "stdout",
     "output_type": "stream",
     "text": [
      "GT: 0.5 Gen: 1.0 diff: 0.5 CN=C(NCc1nc(-c2ccccc2)cs1)N1CCSC(C)(C)C1 <|begin_of_text|>[SIMILAR]CN=C(NCc1nc(-c2ccccc2)cs1)N1CCSC(C)(C)C1 0.50[/SIMILAR][CLOGP]3.57[/CLOGP][WEIGHT]372.14[/WEIGHT][RINGCOUNT]3[/RINGCOUNT][TPSA]40.52[/TPSA][FORMULA]C18H24N4OS2[/FORMULA][SAS]3.31[/SAS][SMILES]CN=C(NCc1nc(-c2ccccc2)cs1)N1CCSC(C)(C)C1[/SMILES]\n"
     ]
    },
    {
     "name": "stderr",
     "output_type": "stream",
     "text": [
      "[16:40:13] DEPRECATION WARNING: please use MorganGenerator\n",
      "[16:40:13] DEPRECATION WARNING: please use MorganGenerator\n",
      "The attention mask and the pad token id were not set. As a consequence, you may observe unexpected behavior. Please pass your input's `attention_mask` to obtain reliable results.\n",
      "Setting `pad_token_id` to `eos_token_id`:None for open-end generation.\n"
     ]
    },
    {
     "name": "stdout",
     "output_type": "stream",
     "text": [
      "GT: 0.55 Gen: 1.0 diff: 0.45 CN=C(NCc1nc(-c2ccccc2)cs1)N1CCSC(C)(C)C1 <|begin_of_text|>[SIMILAR]CN=C(NCc1nc(-c2ccccc2)cs1)N1CCSC(C)(C)C1 0.55[/SIMILAR][CLOGP]3.57[/CLOGP][WEIGHT]372.14[/WEIGHT][RINGCOUNT]3[/RINGCOUNT][TPSA]40.52[/TPSA][FORMULA]C18H24N4OS2[/FORMULA][SAS]3.31[/SAS][SMILES]CN=C(NCc1nc(-c2ccccc2)cs1)N1CCSC(C)(C)C1[/SMILES]\n"
     ]
    },
    {
     "name": "stderr",
     "output_type": "stream",
     "text": [
      "[16:40:14] DEPRECATION WARNING: please use MorganGenerator\n",
      "[16:40:14] DEPRECATION WARNING: please use MorganGenerator\n",
      "The attention mask and the pad token id were not set. As a consequence, you may observe unexpected behavior. Please pass your input's `attention_mask` to obtain reliable results.\n",
      "Setting `pad_token_id` to `eos_token_id`:None for open-end generation.\n"
     ]
    },
    {
     "name": "stdout",
     "output_type": "stream",
     "text": [
      "GT: 0.6 Gen: 1.0 diff: 0.4 CN=C(NCc1nc(-c2ccccc2)cs1)N1CCSC(C)(C)C1 <|begin_of_text|>[SIMILAR]CN=C(NCc1nc(-c2ccccc2)cs1)N1CCSC(C)(C)C1 0.60[/SIMILAR][CLOGP]3.57[/CLOGP][WEIGHT]372.14[/WEIGHT][RINGCOUNT]3[/RINGCOUNT][TPSA]40.52[/TPSA][FORMULA]C18H24N4OS2[/FORMULA][SAS]3.38[/SAS][QED]0.66[/QED][SMILES]CN=C(NCc1nc(-c2ccccc2)cs1)N1CCSC(C)(C)C1[/SMILES]\n"
     ]
    },
    {
     "name": "stderr",
     "output_type": "stream",
     "text": [
      "[16:40:15] DEPRECATION WARNING: please use MorganGenerator\n",
      "[16:40:15] DEPRECATION WARNING: please use MorganGenerator\n",
      "The attention mask and the pad token id were not set. As a consequence, you may observe unexpected behavior. Please pass your input's `attention_mask` to obtain reliable results.\n",
      "Setting `pad_token_id` to `eos_token_id`:None for open-end generation.\n"
     ]
    },
    {
     "name": "stdout",
     "output_type": "stream",
     "text": [
      "GT: 0.65 Gen: 0.6451612903225806 diff: 0.0 CN=C(NCc1nc(-c2ccccc2)cs1)N1CCSC(C)(C)C1 <|begin_of_text|>[SIMILAR]CN=C(NCc1nc(-c2ccccc2)cs1)N1CCSC(C)(C)C1 0.65[/SIMILAR][CLOGP]3.73[/CLOGP][WEIGHT]374.16[/WEIGHT][QED]0.66[/QED][TPSA]40.52[/TPSA][RINGCOUNT]3[/RINGCOUNT][FORMULA]C19H26N4S2[/FORMULA][SAS]3.52[/SAS][SMILES]CN=C(NCc1nc(-c2ccccc2)cs1)N1CCSC(C(C)C)C1[/SMILES]\n"
     ]
    },
    {
     "name": "stderr",
     "output_type": "stream",
     "text": [
      "[16:40:16] DEPRECATION WARNING: please use MorganGenerator\n",
      "[16:40:16] DEPRECATION WARNING: please use MorganGenerator\n",
      "The attention mask and the pad token id were not set. As a consequence, you may observe unexpected behavior. Please pass your input's `attention_mask` to obtain reliable results.\n",
      "Setting `pad_token_id` to `eos_token_id`:None for open-end generation.\n"
     ]
    },
    {
     "name": "stdout",
     "output_type": "stream",
     "text": [
      "GT: 0.7 Gen: 0.6451612903225806 diff: 0.05 CN=C(NCc1nc(-c2ccccc2)cs1)N1CCSC(C)(C)C1 <|begin_of_text|>[SIMILAR]CN=C(NCc1nc(-c2ccccc2)cs1)N1CCSC(C)(C)C1 0.70[/SIMILAR][CLOGP]3.73[/CLOGP][WEIGHT]374.16[/WEIGHT][QED]0.66[/QED][TPSA]40.52[/TPSA][FORMULA]C19H26N4S2[/FORMULA][RINGCOUNT]3[/RINGCOUNT][SAS]3.38[/SAS][SMILES]CN=C(NCc1nc(-c2ccccc2)cs1)N1CCSC(C(C)C)C1[/SMILES]\n"
     ]
    },
    {
     "name": "stderr",
     "output_type": "stream",
     "text": [
      "[16:40:16] DEPRECATION WARNING: please use MorganGenerator\n",
      "[16:40:16] DEPRECATION WARNING: please use MorganGenerator\n",
      "The attention mask and the pad token id were not set. As a consequence, you may observe unexpected behavior. Please pass your input's `attention_mask` to obtain reliable results.\n",
      "Setting `pad_token_id` to `eos_token_id`:None for open-end generation.\n"
     ]
    },
    {
     "name": "stdout",
     "output_type": "stream",
     "text": [
      "GT: 0.75 Gen: 1.0 diff: 0.25 CN=C(NCc1nc(-c2ccccc2)cs1)N1CCSC(C)(C)C1 <|begin_of_text|>[SIMILAR]CN=C(NCc1nc(-c2ccccc2)cs1)N1CCSC(C)(C)C1 0.75[/SIMILAR][CLOGP]3.77[/CLOGP][FORMULA]C18H24N4S2[/FORMULA][RINGCOUNT]3[/RINGCOUNT][TPSA]40.52[/TPSA][QED]0.67[/QED][WEIGHT]360.14[/WEIGHT][SAS]3.01[/SAS][SMILES]CN=C(NCc1nc(-c2ccccc2)cs1)N1CCSC(C)(C)C1[/SMILES]\n"
     ]
    },
    {
     "name": "stderr",
     "output_type": "stream",
     "text": [
      "[16:40:17] DEPRECATION WARNING: please use MorganGenerator\n",
      "[16:40:17] DEPRECATION WARNING: please use MorganGenerator\n",
      "The attention mask and the pad token id were not set. As a consequence, you may observe unexpected behavior. Please pass your input's `attention_mask` to obtain reliable results.\n",
      "Setting `pad_token_id` to `eos_token_id`:None for open-end generation.\n"
     ]
    },
    {
     "name": "stdout",
     "output_type": "stream",
     "text": [
      "GT: 0.8 Gen: 1.0 diff: 0.2 CN=C(NCc1nc(-c2ccccc2)cs1)N1CCSC(C)(C)C1 <|begin_of_text|>[SIMILAR]CN=C(NCc1nc(-c2ccccc2)cs1)N1CCSC(C)(C)C1 0.80[/SIMILAR][CLOGP]3.81[/CLOGP][FORMULA]C18H24N4S2[/FORMULA][SAS]3.01[/SAS][TPSA]40.52[/TPSA][WEIGHT]360.14[/WEIGHT][RINGCOUNT]3[/RINGCOUNT][QED]0.67[/QED][SMILES]CN=C(NCc1nc(-c2ccccc2)cs1)N1CCSC(C)(C)C1[/SMILES]\n"
     ]
    },
    {
     "name": "stderr",
     "output_type": "stream",
     "text": [
      "[16:40:18] DEPRECATION WARNING: please use MorganGenerator\n",
      "[16:40:18] DEPRECATION WARNING: please use MorganGenerator\n",
      "The attention mask and the pad token id were not set. As a consequence, you may observe unexpected behavior. Please pass your input's `attention_mask` to obtain reliable results.\n",
      "Setting `pad_token_id` to `eos_token_id`:None for open-end generation.\n"
     ]
    },
    {
     "name": "stdout",
     "output_type": "stream",
     "text": [
      "GT: 0.85 Gen: 0.98 diff: 0.13 CN=C(NCc1nc(-c2ccccc2)cs1)N1CCSC(C)(C)C1 <|begin_of_text|>[SIMILAR]CN=C(NCc1nc(-c2ccccc2)cs1)N1CCSC(C)(C)C1 0.85[/SIMILAR][CLOGP]3.95[/CLOGP][FORMULA]C18H25IN4S2[/FORMULA][TPSA]40.52[/TPSA][RINGCOUNT]3[/RINGCOUNT][QED]0.40[/QED][SAS]3.13[/SAS][WEIGHT]488.06[/WEIGHT][SMILES]CN=C(NCc1nc(-c2ccccc2)cs1)N1CCSC(C)(C)C1.I[/SMILES]\n"
     ]
    },
    {
     "name": "stderr",
     "output_type": "stream",
     "text": [
      "[16:40:18] DEPRECATION WARNING: please use MorganGenerator\n",
      "[16:40:18] DEPRECATION WARNING: please use MorganGenerator\n",
      "The attention mask and the pad token id were not set. As a consequence, you may observe unexpected behavior. Please pass your input's `attention_mask` to obtain reliable results.\n",
      "Setting `pad_token_id` to `eos_token_id`:None for open-end generation.\n"
     ]
    },
    {
     "name": "stdout",
     "output_type": "stream",
     "text": [
      "GT: 0.9 Gen: 0.98 diff: 0.08 CN=C(NCc1nc(-c2ccccc2)cs1)N1CCSC(C)(C)C1 <|begin_of_text|>[SIMILAR]CN=C(NCc1nc(-c2ccccc2)cs1)N1CCSC(C)(C)C1 0.90[/SIMILAR][CLOGP]4.02[/CLOGP][FORMULA]C18H25IN4S2[/FORMULA][TPSA]40.52[/TPSA][QED]0.40[/QED][RINGCOUNT]3[/RINGCOUNT][WEIGHT]488.06[/WEIGHT][SAS]3.11[/SAS][SMILES]CN=C(NCc1nc(-c2ccccc2)cs1)N1CCSC(C)(C)C1.I[/SMILES]\n"
     ]
    },
    {
     "name": "stderr",
     "output_type": "stream",
     "text": [
      "[16:40:19] DEPRECATION WARNING: please use MorganGenerator\n",
      "[16:40:19] DEPRECATION WARNING: please use MorganGenerator\n",
      "The attention mask and the pad token id were not set. As a consequence, you may observe unexpected behavior. Please pass your input's `attention_mask` to obtain reliable results.\n",
      "Setting `pad_token_id` to `eos_token_id`:None for open-end generation.\n"
     ]
    },
    {
     "name": "stdout",
     "output_type": "stream",
     "text": [
      "GT: 0.95 Gen: 0.98 diff: 0.03 CN=C(NCc1nc(-c2ccccc2)cs1)N1CCSC(C)(C)C1 <|begin_of_text|>[SIMILAR]CN=C(NCc1nc(-c2ccccc2)cs1)N1CCSC(C)(C)C1 0.95[/SIMILAR][TPSA]40.52[/TPSA][FORMULA]C18H25IN4S2[/FORMULA][SAS]3.11[/SAS][RINGCOUNT]3[/RINGCOUNT][CLOGP]4.36[/CLOGP][WEIGHT]488.06[/WEIGHT][QED]0.40[/QED][SMILES]CN=C(NCc1nc(-c2ccccc2)cs1)N1CCSC(C)(C)C1.I[/SMILES]\n"
     ]
    },
    {
     "name": "stderr",
     "output_type": "stream",
     "text": [
      "[16:40:20] DEPRECATION WARNING: please use MorganGenerator\n",
      "[16:40:20] DEPRECATION WARNING: please use MorganGenerator\n",
      "The attention mask and the pad token id were not set. As a consequence, you may observe unexpected behavior. Please pass your input's `attention_mask` to obtain reliable results.\n",
      "Setting `pad_token_id` to `eos_token_id`:None for open-end generation.\n"
     ]
    },
    {
     "name": "stdout",
     "output_type": "stream",
     "text": [
      "GT: 1.0 Gen: 1.0 diff: 0.0 CN=C(NCc1nc(-c2ccccc2)cs1)N1CCSC(C)(C)C1 <|begin_of_text|>[SIMILAR]CN=C(NCc1nc(-c2ccccc2)cs1)N1CCSC(C)(C)C1 1.00[/SIMILAR][TPSA]40.52[/TPSA][FORMULA]C18H24N4S2[/FORMULA][SAS]2.98[/SAS][WEIGHT]360.14[/WEIGHT][CLOGP]3.69[/CLOGP][RINGCOUNT]3[/RINGCOUNT][QED]0.67[/QED][SMILES]CN=C(NCc1nc(-c2ccccc2)cs1)N1CCSC(C)(C)C1[/SMILES]\n"
     ]
    },
    {
     "name": "stderr",
     "output_type": "stream",
     "text": [
      "[16:40:20] DEPRECATION WARNING: please use MorganGenerator\n",
      "[16:40:20] DEPRECATION WARNING: please use MorganGenerator\n",
      "The attention mask and the pad token id were not set. As a consequence, you may observe unexpected behavior. Please pass your input's `attention_mask` to obtain reliable results.\n",
      "Setting `pad_token_id` to `eos_token_id`:None for open-end generation.\n"
     ]
    },
    {
     "name": "stdout",
     "output_type": "stream",
     "text": [
      "GT: 0.2 Gen: 0.34210526315789475 diff: 0.14 CC(C)NS(=O)(=O)[N-]Cc1ccccc1.O=C(O)c1cccc2c1cnn2-c1ccc(F)cc1 <|begin_of_text|>[SIMILAR]CC(C)NS(=O)(=O)[N-]Cc1ccccc1.O=C(O)c1cccc2c1cnn2-c1ccc(F)cc1 0.20[/SIMILAR][RINGCOUNT]3[/RINGCOUNT][TPSA]84.22[/TPSA][FORMULA]C14H17N3O3[/FORMULA][WEIGHT]275.13[/WEIGHT][CLOGP]1.45[/CLOGP][QED]0.87[/QED][SAS]2.29[/SAS][SMILES]O=C(O)c1cccc2c1cnn2CCNC(=O)C1CCC1[/SMILES]\n"
     ]
    },
    {
     "name": "stderr",
     "output_type": "stream",
     "text": [
      "[16:40:21] DEPRECATION WARNING: please use MorganGenerator\n",
      "[16:40:21] DEPRECATION WARNING: please use MorganGenerator\n",
      "The attention mask and the pad token id were not set. As a consequence, you may observe unexpected behavior. Please pass your input's `attention_mask` to obtain reliable results.\n",
      "Setting `pad_token_id` to `eos_token_id`:None for open-end generation.\n"
     ]
    },
    {
     "name": "stdout",
     "output_type": "stream",
     "text": [
      "GT: 0.25 Gen: 0.2222222222222222 diff: 0.03 CC(C)NS(=O)(=O)[N-]Cc1ccccc1.O=C(O)c1cccc2c1cnn2-c1ccc(F)cc1 <|begin_of_text|>[SIMILAR]CC(C)NS(=O)(=O)[N-]Cc1ccccc1.O=C(O)c1cccc2c1cnn2-c1ccc(F)cc1 0.25[/SIMILAR][RINGCOUNT]3[/RINGCOUNT][TPSA]84.22[/TPSA][FORMULA]C15H17N3O3[/FORMULA][SAS]2.21[/SAS][CLOGP]1.86[/CLOGP][QED]0.90[/QED][WEIGHT]287.13[/WEIGHT][SMILES]Cn1ncc2c(C(=O)O)cc(NC3CCCC3)cc2c1=O[/SMILES]\n"
     ]
    },
    {
     "name": "stderr",
     "output_type": "stream",
     "text": [
      "[16:40:22] DEPRECATION WARNING: please use MorganGenerator\n",
      "[16:40:22] DEPRECATION WARNING: please use MorganGenerator\n",
      "The attention mask and the pad token id were not set. As a consequence, you may observe unexpected behavior. Please pass your input's `attention_mask` to obtain reliable results.\n",
      "Setting `pad_token_id` to `eos_token_id`:None for open-end generation.\n"
     ]
    },
    {
     "name": "stdout",
     "output_type": "stream",
     "text": [
      "GT: 0.3 Gen: 0.34210526315789475 diff: 0.04 CC(C)NS(=O)(=O)[N-]Cc1ccccc1.O=C(O)c1cccc2c1cnn2-c1ccc(F)cc1 <|begin_of_text|>[SIMILAR]CC(C)NS(=O)(=O)[N-]Cc1ccccc1.O=C(O)c1cccc2c1cnn2-c1ccc(F)cc1 0.30[/SIMILAR][RINGCOUNT]3[/RINGCOUNT][TPSA]84.22[/TPSA][FORMULA]C16H17N3O3[/FORMULA][SAS]2.07[/SAS][CLOGP]2.17[/CLOGP][WEIGHT]299.13[/WEIGHT][SMILES]O=C(O)c1cccc2c1cnn2CCC(=O)NC1CCC1[/SMILES]\n"
     ]
    },
    {
     "name": "stderr",
     "output_type": "stream",
     "text": [
      "[16:40:22] DEPRECATION WARNING: please use MorganGenerator\n",
      "[16:40:22] DEPRECATION WARNING: please use MorganGenerator\n",
      "The attention mask and the pad token id were not set. As a consequence, you may observe unexpected behavior. Please pass your input's `attention_mask` to obtain reliable results.\n",
      "Setting `pad_token_id` to `eos_token_id`:None for open-end generation.\n"
     ]
    },
    {
     "name": "stdout",
     "output_type": "stream",
     "text": [
      "GT: 0.35 Gen: 0.4444444444444444 diff: 0.09 CC(C)NS(=O)(=O)[N-]Cc1ccccc1.O=C(O)c1cccc2c1cnn2-c1ccc(F)cc1 <|begin_of_text|>[SIMILAR]CC(C)NS(=O)(=O)[N-]Cc1ccccc1.O=C(O)c1cccc2c1cnn2-c1ccc(F)cc1 0.35[/SIMILAR][RINGCOUNT]4[/RINGCOUNT][TPSA]84.22[/TPSA][FORMULA]C21H21N3O3[/FORMULA][SAS]2.16[/SAS][CLOGP]3.77[/CLOGP][WEIGHT]363.16[/WEIGHT][QED]0.74[/QED][SMILES]O=C(O)c1cccc2c1cnn2-c1ccc(C(=O)NC2CCCCC2)cc1[/SMILES]\n"
     ]
    },
    {
     "name": "stderr",
     "output_type": "stream",
     "text": [
      "[16:40:23] DEPRECATION WARNING: please use MorganGenerator\n",
      "[16:40:23] DEPRECATION WARNING: please use MorganGenerator\n",
      "The attention mask and the pad token id were not set. As a consequence, you may observe unexpected behavior. Please pass your input's `attention_mask` to obtain reliable results.\n",
      "Setting `pad_token_id` to `eos_token_id`:None for open-end generation.\n"
     ]
    },
    {
     "name": "stdout",
     "output_type": "stream",
     "text": [
      "GT: 0.4 Gen: 0.4507042253521127 diff: 0.05 CC(C)NS(=O)(=O)[N-]Cc1ccccc1.O=C(O)c1cccc2c1cnn2-c1ccc(F)cc1 <|begin_of_text|>[SIMILAR]CC(C)NS(=O)(=O)[N-]Cc1ccccc1.O=C(O)c1cccc2c1cnn2-c1ccc(F)cc1 0.40[/SIMILAR][RINGCOUNT]4[/RINGCOUNT][TPSA]84.22[/TPSA][FORMULA]C21H19N3O3[/FORMULA][SAS]2.07[/SAS][WEIGHT]361.14[/WEIGHT][CLOGP]3.63[/CLOGP][QED]0.74[/QED][SMILES]O=C(O)c1cccc2c1cnn2-c1ccc(C(=O)NC2CCCC2)cc1[/SMILES]\n"
     ]
    },
    {
     "name": "stderr",
     "output_type": "stream",
     "text": [
      "[16:40:24] DEPRECATION WARNING: please use MorganGenerator\n",
      "[16:40:24] DEPRECATION WARNING: please use MorganGenerator\n",
      "The attention mask and the pad token id were not set. As a consequence, you may observe unexpected behavior. Please pass your input's `attention_mask` to obtain reliable results.\n",
      "Setting `pad_token_id` to `eos_token_id`:None for open-end generation.\n"
     ]
    },
    {
     "name": "stdout",
     "output_type": "stream",
     "text": [
      "GT: 0.45 Gen: 0.47058823529411764 diff: 0.02 CC(C)NS(=O)(=O)[N-]Cc1ccccc1.O=C(O)c1cccc2c1cnn2-c1ccc(F)cc1 <|begin_of_text|>[SIMILAR]CC(C)NS(=O)(=O)[N-]Cc1ccccc1.O=C(O)c1cccc2c1cnn2-c1ccc(F)cc1 0.45[/SIMILAR][RINGCOUNT]4[/RINGCOUNT][TPSA]84.22[/TPSA][FORMULA]C22H19N3O3[/FORMULA][SAS]2.01[/SAS][CLOGP]3.99[/CLOGP][QED]0.55[/QED][WEIGHT]373.14[/WEIGHT][SMILES]Cc1ccc(-n2ncc3c(C(=O)O)cccc32)cc1.NC(=O)c1ccccc1[/SMILES]\n"
     ]
    },
    {
     "name": "stderr",
     "output_type": "stream",
     "text": [
      "[16:40:25] DEPRECATION WARNING: please use MorganGenerator\n",
      "[16:40:25] DEPRECATION WARNING: please use MorganGenerator\n",
      "The attention mask and the pad token id were not set. As a consequence, you may observe unexpected behavior. Please pass your input's `attention_mask` to obtain reliable results.\n",
      "Setting `pad_token_id` to `eos_token_id`:None for open-end generation.\n"
     ]
    },
    {
     "name": "stdout",
     "output_type": "stream",
     "text": [
      "GT: 0.5 Gen: 0.3924050632911392 diff: 0.11 CC(C)NS(=O)(=O)[N-]Cc1ccccc1.O=C(O)c1cccc2c1cnn2-c1ccc(F)cc1 <|begin_of_text|>[SIMILAR]CC(C)NS(=O)(=O)[N-]Cc1ccccc1.O=C(O)c1cccc2c1cnn2-c1ccc(F)cc1 0.50[/SIMILAR][RINGCOUNT]4[/RINGCOUNT][TPSA]84.22[/TPSA][FORMULA]C22H18FN3O3[/FORMULA][SAS]2.07[/SAS][CLOGP]3.99[/CLOGP][QED]0.53[/QED][WEIGHT]391.13[/WEIGHT][SMILES]O=C(O)c1cccc2c1cnn2-c1ccc(CNC(=O)c2ccccc2)cc1CF[/SMILES]\n"
     ]
    },
    {
     "name": "stderr",
     "output_type": "stream",
     "text": [
      "[16:40:25] DEPRECATION WARNING: please use MorganGenerator\n",
      "[16:40:25] DEPRECATION WARNING: please use MorganGenerator\n",
      "The attention mask and the pad token id were not set. As a consequence, you may observe unexpected behavior. Please pass your input's `attention_mask` to obtain reliable results.\n",
      "Setting `pad_token_id` to `eos_token_id`:None for open-end generation.\n"
     ]
    },
    {
     "name": "stdout",
     "output_type": "stream",
     "text": [
      "GT: 0.55 Gen: 0.47435897435897434 diff: 0.08 CC(C)NS(=O)(=O)[N-]Cc1ccccc1.O=C(O)c1cccc2c1cnn2-c1ccc(F)cc1 <|begin_of_text|>[SIMILAR]CC(C)NS(=O)(=O)[N-]Cc1ccccc1.O=C(O)c1cccc2c1cnn2-c1ccc(F)cc1 0.55[/SIMILAR][RINGCOUNT]4[/RINGCOUNT][TPSA]101.29[/TPSA][FORMULA]C23H20FN3O4S[/FORMULA][SAS]2.29[/SAS][CLOGP]3.99[/CLOGP][SMILES]Cc1ccccc1CNS(=O)(=O)c1ccc(-n2ncc3c(C(=O)O)cccc32)cc1F[/SMILES]\n"
     ]
    },
    {
     "name": "stderr",
     "output_type": "stream",
     "text": [
      "[16:40:26] DEPRECATION WARNING: please use MorganGenerator\n",
      "[16:40:26] DEPRECATION WARNING: please use MorganGenerator\n",
      "The attention mask and the pad token id were not set. As a consequence, you may observe unexpected behavior. Please pass your input's `attention_mask` to obtain reliable results.\n",
      "Setting `pad_token_id` to `eos_token_id`:None for open-end generation.\n"
     ]
    },
    {
     "name": "stdout",
     "output_type": "stream",
     "text": [
      "GT: 0.6 Gen: 0.4342105263157895 diff: 0.17 CC(C)NS(=O)(=O)[N-]Cc1ccccc1.O=C(O)c1cccc2c1cnn2-c1ccc(F)cc1 <|begin_of_text|>[SIMILAR]CC(C)NS(=O)(=O)[N-]Cc1ccccc1.O=C(O)c1cccc2c1cnn2-c1ccc(F)cc1 0.60[/SIMILAR][QED]0.42[/QED][WEIGHT]466.11[/WEIGHT][CLOGP]3.87[/CLOGP][FORMULA]C22H19FN4O5S[/FORMULA][SAS]2.41[/SAS][RINGCOUNT]4[/RINGCOUNT][TPSA]130.39[/TPSA][SMILES]Cc1ccc(NS(=O)(=O)NCc2ccccc2)c2cnn(-c3ccc(F)cc3)c12.O=C(O)O[/SMILES]\n"
     ]
    },
    {
     "name": "stderr",
     "output_type": "stream",
     "text": [
      "[16:40:27] DEPRECATION WARNING: please use MorganGenerator\n",
      "[16:40:27] DEPRECATION WARNING: please use MorganGenerator\n",
      "The attention mask and the pad token id were not set. As a consequence, you may observe unexpected behavior. Please pass your input's `attention_mask` to obtain reliable results.\n",
      "Setting `pad_token_id` to `eos_token_id`:None for open-end generation.\n"
     ]
    },
    {
     "name": "stdout",
     "output_type": "stream",
     "text": [
      "GT: 0.65 Gen: 0.5972222222222222 diff: 0.05 CC(C)NS(=O)(=O)[N-]Cc1ccccc1.O=C(O)c1cccc2c1cnn2-c1ccc(F)cc1 <|begin_of_text|>[SIMILAR]CC(C)NS(=O)(=O)[N-]Cc1ccccc1.O=C(O)c1cccc2c1cnn2-c1ccc(F)cc1 0.65[/SIMILAR][QED]0.41[/QED][WEIGHT]468.13[/WEIGHT][CLOGP]3.96[/CLOGP][FORMULA]C23H21FN4O4S[/FORMULA][SAS]2.41[/SAS][RINGCOUNT]4[/RINGCOUNT][TPSA]113.32[/TPSA][SMILES]CC(C)NS(=O)(=O)Nc1ccc(-n2ncc3c(C(=O)O)cccc32)cc1-c1ccc(F)cc1[/SMILES]\n"
     ]
    },
    {
     "name": "stderr",
     "output_type": "stream",
     "text": [
      "[16:40:28] DEPRECATION WARNING: please use MorganGenerator\n",
      "[16:40:28] DEPRECATION WARNING: please use MorganGenerator\n",
      "The attention mask and the pad token id were not set. As a consequence, you may observe unexpected behavior. Please pass your input's `attention_mask` to obtain reliable results.\n",
      "Setting `pad_token_id` to `eos_token_id`:None for open-end generation.\n"
     ]
    },
    {
     "name": "stdout",
     "output_type": "stream",
     "text": [
      "GT: 0.7 Gen: 0.43529411764705883 diff: 0.26 CC(C)NS(=O)(=O)[N-]Cc1ccccc1.O=C(O)c1cccc2c1cnn2-c1ccc(F)cc1 <|begin_of_text|>[SIMILAR]CC(C)NS(=O)(=O)[N-]Cc1ccccc1.O=C(O)c1cccc2c1cnn2-c1ccc(F)cc1 0.70[/SIMILAR][QED]0.41[/QED][WEIGHT]468.13[/WEIGHT][CLOGP]4.01[/CLOGP][FORMULA]C23H21FN4O4S[/FORMULA][SAS]2.50[/SAS][RINGCOUNT]4[/RINGCOUNT][TPSA]113.32[/TPSA][SMILES]CC(C)NS(=O)(=O)Nc1ccc(-c2ccccc2)cc1C(=O)O.O=C1c2cccc3c2cnn3-c2ccc(F)cc2-1[/SMILES]\n"
     ]
    },
    {
     "name": "stderr",
     "output_type": "stream",
     "text": [
      "[16:40:28] DEPRECATION WARNING: please use MorganGenerator\n",
      "[16:40:28] DEPRECATION WARNING: please use MorganGenerator\n",
      "The attention mask and the pad token id were not set. As a consequence, you may observe unexpected behavior. Please pass your input's `attention_mask` to obtain reliable results.\n",
      "Setting `pad_token_id` to `eos_token_id`:None for open-end generation.\n"
     ]
    },
    {
     "name": "stdout",
     "output_type": "stream",
     "text": [
      "GT: 0.75 Gen: 0.7384615384615385 diff: 0.01 CC(C)NS(=O)(=O)[N-]Cc1ccccc1.O=C(O)c1cccc2c1cnn2-c1ccc(F)cc1 <|begin_of_text|>[SIMILAR]CC(C)NS(=O)(=O)[N-]Cc1ccccc1.O=C(O)c1cccc2c1cnn2-c1ccc(F)cc1 0.75[/SIMILAR][SAS]2.68[/SAS][WEIGHT]484.16[/WEIGHT][FORMULA]C24H25FN4O4S[/FORMULA][CLOGP]4.24[/CLOGP][RINGCOUNT]4[/RINGCOUNT][SMILES]CC(C)NS(=O)(=O)NCc1ccccc1.O=C(O)c1cccc2c1cnn2-c1ccc(F)cc1[/SMILES]\n"
     ]
    },
    {
     "name": "stderr",
     "output_type": "stream",
     "text": [
      "[16:40:29] DEPRECATION WARNING: please use MorganGenerator\n",
      "[16:40:29] DEPRECATION WARNING: please use MorganGenerator\n",
      "The attention mask and the pad token id were not set. As a consequence, you may observe unexpected behavior. Please pass your input's `attention_mask` to obtain reliable results.\n",
      "Setting `pad_token_id` to `eos_token_id`:None for open-end generation.\n"
     ]
    },
    {
     "name": "stdout",
     "output_type": "stream",
     "text": [
      "GT: 0.8 Gen: 0.6716417910447762 diff: 0.13 CC(C)NS(=O)(=O)[N-]Cc1ccccc1.O=C(O)c1cccc2c1cnn2-c1ccc(F)cc1 <|begin_of_text|>[SIMILAR]CC(C)NS(=O)(=O)[N-]Cc1ccccc1.O=C(O)c1cccc2c1cnn2-c1ccc(F)cc1 0.80[/SIMILAR][SAS]2.74[/SAS][WEIGHT]470.14[/WEIGHT][FORMULA]C23H23FN4O4S[/FORMULA][CLOGP]4.02[/CLOGP][RINGCOUNT]4[/RINGCOUNT][TPSA]104.53[/TPSA][SMILES]CC(C)NS(=O)(=O)N(C)c1ccccc1.O=C(O)c1cccc2c1cnn2-c1ccc(F)cc1[/SMILES]\n"
     ]
    },
    {
     "name": "stderr",
     "output_type": "stream",
     "text": [
      "[16:40:30] DEPRECATION WARNING: please use MorganGenerator\n",
      "[16:40:30] DEPRECATION WARNING: please use MorganGenerator\n",
      "The attention mask and the pad token id were not set. As a consequence, you may observe unexpected behavior. Please pass your input's `attention_mask` to obtain reliable results.\n",
      "Setting `pad_token_id` to `eos_token_id`:None for open-end generation.\n"
     ]
    },
    {
     "name": "stdout",
     "output_type": "stream",
     "text": [
      "GT: 0.85 Gen: 0.9827586206896551 diff: 0.13 CC(C)NS(=O)(=O)[N-]Cc1ccccc1.O=C(O)c1cccc2c1cnn2-c1ccc(F)cc1 <|begin_of_text|>[SIMILAR]CC(C)NS(=O)(=O)[N-]Cc1ccccc1.O=C(O)c1cccc2c1cnn2-c1ccc(F)cc1 0.85[/SIMILAR][WEIGHT]483.14[/WEIGHT][CLOGP]4.16[/CLOGP][SAS]2.87[/SAS][FORMULA]C23H23F2N3O4S[/FORMULA][RINGCOUNT]4[/RINGCOUNT][QED]0.41[/QED][TPSA]101.29[/TPSA][SMILES]CC(C)NS(=O)(=O)[N-]Cc1ccccc1.O=C(O)c1cccc2c1cnn2-c1ccc(F)cc1.[F-][/SMILES]\n"
     ]
    },
    {
     "name": "stderr",
     "output_type": "stream",
     "text": [
      "[16:40:31] DEPRECATION WARNING: please use MorganGenerator\n",
      "[16:40:31] DEPRECATION WARNING: please use MorganGenerator\n",
      "The attention mask and the pad token id were not set. As a consequence, you may observe unexpected behavior. Please pass your input's `attention_mask` to obtain reliable results.\n",
      "Setting `pad_token_id` to `eos_token_id`:None for open-end generation.\n"
     ]
    },
    {
     "name": "stdout",
     "output_type": "stream",
     "text": [
      "GT: 0.9 Gen: 0.8125 diff: 0.09 CC(C)NS(=O)(=O)[N-]Cc1ccccc1.O=C(O)c1cccc2c1cnn2-c1ccc(F)cc1 <|begin_of_text|>[SIMILAR]CC(C)NS(=O)(=O)[N-]Cc1ccccc1.O=C(O)c1cccc2c1cnn2-c1ccc(F)cc1 0.90[/SIMILAR][WEIGHT]483.15[/WEIGHT][RINGCOUNT]4[/RINGCOUNT][QED]0.39[/QED][FORMULA]C24H24FN4O4S-[/FORMULA][SAS]2.95[/SAS][TPSA]115.39[/TPSA][CLOGP]4.45[/CLOGP][SMILES]CC(C)CNS(=O)(=O)[N-]Cc1ccccc1.O=C(O)c1cccc2c1cnn2-c1ccc(F)cc1[/SMILES]\n"
     ]
    },
    {
     "name": "stderr",
     "output_type": "stream",
     "text": [
      "[16:40:32] DEPRECATION WARNING: please use MorganGenerator\n",
      "[16:40:32] DEPRECATION WARNING: please use MorganGenerator\n",
      "The attention mask and the pad token id were not set. As a consequence, you may observe unexpected behavior. Please pass your input's `attention_mask` to obtain reliable results.\n",
      "Setting `pad_token_id` to `eos_token_id`:None for open-end generation.\n"
     ]
    },
    {
     "name": "stdout",
     "output_type": "stream",
     "text": [
      "GT: 0.95 Gen: 1.0 diff: 0.05 CC(C)NS(=O)(=O)[N-]Cc1ccccc1.O=C(O)c1cccc2c1cnn2-c1ccc(F)cc1 <|begin_of_text|>[SIMILAR]CC(C)NS(=O)(=O)[N-]Cc1ccccc1.O=C(O)c1cccc2c1cnn2-c1ccc(F)cc1 0.95[/SIMILAR][WEIGHT]483.15[/WEIGHT][QED]0.39[/QED][RINGCOUNT]4[/RINGCOUNT][SAS]2.91[/SAS][TPSA]115.39[/TPSA][CLOGP]4.55[/CLOGP][FORMULA]C24H24FN4O4S-[/FORMULA][SMILES]CC(C)NS(=O)(=O)[N-]Cc1ccccc1.O=C(O)c1cccc2c1cnn2-c1ccc(F)cc1[/SMILES]\n"
     ]
    },
    {
     "name": "stderr",
     "output_type": "stream",
     "text": [
      "[16:40:33] DEPRECATION WARNING: please use MorganGenerator\n",
      "[16:40:33] DEPRECATION WARNING: please use MorganGenerator\n",
      "The attention mask and the pad token id were not set. As a consequence, you may observe unexpected behavior. Please pass your input's `attention_mask` to obtain reliable results.\n",
      "Setting `pad_token_id` to `eos_token_id`:None for open-end generation.\n"
     ]
    },
    {
     "name": "stdout",
     "output_type": "stream",
     "text": [
      "GT: 1.0 Gen: 1.0 diff: 0.0 CC(C)NS(=O)(=O)[N-]Cc1ccccc1.O=C(O)c1cccc2c1cnn2-c1ccc(F)cc1 <|begin_of_text|>[SIMILAR]CC(C)NS(=O)(=O)[N-]Cc1ccccc1.O=C(O)c1cccc2c1cnn2-c1ccc(F)cc1 1.00[/SIMILAR][WEIGHT]483.15[/WEIGHT][CLOGP]4.53[/CLOGP][SAS]2.88[/SAS][FORMULA]C24H24FN4O4S-[/FORMULA][SMILES]CC(C)NS(=O)(=O)[N-]Cc1ccccc1.O=C(O)c1cccc2c1cnn2-c1ccc(F)cc1[/SMILES]\n"
     ]
    },
    {
     "name": "stderr",
     "output_type": "stream",
     "text": [
      "[16:40:33] DEPRECATION WARNING: please use MorganGenerator\n",
      "[16:40:33] DEPRECATION WARNING: please use MorganGenerator\n",
      "The attention mask and the pad token id were not set. As a consequence, you may observe unexpected behavior. Please pass your input's `attention_mask` to obtain reliable results.\n",
      "Setting `pad_token_id` to `eos_token_id`:None for open-end generation.\n"
     ]
    },
    {
     "name": "stdout",
     "output_type": "stream",
     "text": [
      "GT: 0.2 Gen: 0.20833333333333334 diff: 0.01 CCOc1ccc(-c2noc(Cn3c(=O)n(C(C)C)c(=O)c4ccccc43)n2)cc1OC <|begin_of_text|>[SIMILAR]CCOc1ccc(-c2noc(Cn3c(=O)n(C(C)C)c(=O)c4ccccc43)n2)cc1OC 0.20[/SIMILAR][QED]0.63[/QED][WEIGHT]422.16[/WEIGHT][TPSA]99.69[/TPSA][CLOGP]2.18[/CLOGP][RINGCOUNT]5[/RINGCOUNT][SAS]2.43[/SAS][FORMULA]C22H22N4O5[/FORMULA][SMILES]O=C(c1ccc2c(c1)OCCO2)N1CCC(c2noc(COc3ccccc3)n2)CC1.O=C=O[/SMILES]\n"
     ]
    },
    {
     "name": "stderr",
     "output_type": "stream",
     "text": [
      "[16:40:34] DEPRECATION WARNING: please use MorganGenerator\n",
      "[16:40:34] DEPRECATION WARNING: please use MorganGenerator\n",
      "The attention mask and the pad token id were not set. As a consequence, you may observe unexpected behavior. Please pass your input's `attention_mask` to obtain reliable results.\n",
      "Setting `pad_token_id` to `eos_token_id`:None for open-end generation.\n"
     ]
    },
    {
     "name": "stdout",
     "output_type": "stream",
     "text": [
      "GT: 0.25 Gen: 0.21505376344086022 diff: 0.03 CCOc1ccc(-c2noc(Cn3c(=O)n(C(C)C)c(=O)c4ccccc43)n2)cc1OC <|begin_of_text|>[SIMILAR]CCOc1ccc(-c2noc(Cn3c(=O)n(C(C)C)c(=O)c4ccccc43)n2)cc1OC 0.25[/SIMILAR][QED]0.60[/QED][WEIGHT]422.16[/WEIGHT][TPSA]99.69[/TPSA][CLOGP]2.34[/CLOGP][RINGCOUNT]5[/RINGCOUNT][SAS]2.43[/SAS][FORMULA]C22H22N4O5[/FORMULA][SMILES]O=C(Cn1c(=O)n(CC2CC2)c(=O)c2ccccc21)Nc1ccc2c(c1)OCCCO2[/SMILES]\n"
     ]
    },
    {
     "name": "stderr",
     "output_type": "stream",
     "text": [
      "[16:40:35] DEPRECATION WARNING: please use MorganGenerator\n",
      "[16:40:35] DEPRECATION WARNING: please use MorganGenerator\n",
      "The attention mask and the pad token id were not set. As a consequence, you may observe unexpected behavior. Please pass your input's `attention_mask` to obtain reliable results.\n",
      "Setting `pad_token_id` to `eos_token_id`:None for open-end generation.\n"
     ]
    },
    {
     "name": "stdout",
     "output_type": "stream",
     "text": [
      "GT: 0.3 Gen: 0.18556701030927836 diff: 0.11 CCOc1ccc(-c2noc(Cn3c(=O)n(C(C)C)c(=O)c4ccccc43)n2)cc1OC <|begin_of_text|>[SIMILAR]CCOc1ccc(-c2noc(Cn3c(=O)n(C(C)C)c(=O)c4ccccc43)n2)cc1OC 0.30[/SIMILAR][FORMULA]C23H24N4O5[/FORMULA][TPSA]99.69[/TPSA][WEIGHT]436.17[/WEIGHT][CLOGP]2.77[/CLOGP][QED]0.63[/QED][RINGCOUNT]5[/RINGCOUNT][SAS]2.89[/SAS][SMILES]CC(C)C(NC(=O)Cn1c(=O)[nH]c2ccccc2c1=O)c1ccc2c(c1)OCCCO2[/SMILES]\n"
     ]
    },
    {
     "name": "stderr",
     "output_type": "stream",
     "text": [
      "[16:40:36] DEPRECATION WARNING: please use MorganGenerator\n",
      "[16:40:36] DEPRECATION WARNING: please use MorganGenerator\n",
      "The attention mask and the pad token id were not set. As a consequence, you may observe unexpected behavior. Please pass your input's `attention_mask` to obtain reliable results.\n",
      "Setting `pad_token_id` to `eos_token_id`:None for open-end generation.\n"
     ]
    },
    {
     "name": "stdout",
     "output_type": "stream",
     "text": [
      "GT: 0.35 Gen: 0.6301369863013698 diff: 0.28 CCOc1ccc(-c2noc(Cn3c(=O)n(C(C)C)c(=O)c4ccccc43)n2)cc1OC <|begin_of_text|>[SIMILAR]CCOc1ccc(-c2noc(Cn3c(=O)n(C(C)C)c(=O)c4ccccc43)n2)cc1OC 0.35[/SIMILAR][FORMULA]C23H22N4O5[/FORMULA][TPSA]99.69[/TPSA][WEIGHT]434.16[/WEIGHT][CLOGP]2.77[/CLOGP][QED]0.48[/QED][RINGCOUNT]5[/RINGCOUNT][SAS]2.39[/SAS][SMILES]COc1ccc(-c2noc(Cn3c(=O)n(C4CC4)c(=O)c4ccccc43)n2)cc1OC1CC1[/SMILES]\n"
     ]
    },
    {
     "name": "stderr",
     "output_type": "stream",
     "text": [
      "[16:40:37] DEPRECATION WARNING: please use MorganGenerator\n",
      "[16:40:37] DEPRECATION WARNING: please use MorganGenerator\n",
      "The attention mask and the pad token id were not set. As a consequence, you may observe unexpected behavior. Please pass your input's `attention_mask` to obtain reliable results.\n",
      "Setting `pad_token_id` to `eos_token_id`:None for open-end generation.\n"
     ]
    },
    {
     "name": "stdout",
     "output_type": "stream",
     "text": [
      "GT: 0.4 Gen: 0.52 diff: 0.12 CCOc1ccc(-c2noc(Cn3c(=O)n(C(C)C)c(=O)c4ccccc43)n2)cc1OC <|begin_of_text|>[SIMILAR]CCOc1ccc(-c2noc(Cn3c(=O)n(C(C)C)c(=O)c4ccccc43)n2)cc1OC 0.40[/SIMILAR][FORMULA]C23H22N4O5[/FORMULA][TPSA]99.69[/TPSA][SAS]2.38[/SAS][RINGCOUNT]5[/RINGCOUNT][QED]0.47[/QED][CLOGP]2.77[/CLOGP][WEIGHT]434.16[/WEIGHT][SMILES]CCn1c(=O)c2ccccc2n(Cc2nc(-c3ccc4c(c3)OCCCO4)no2)c1=O[/SMILES]\n"
     ]
    },
    {
     "name": "stderr",
     "output_type": "stream",
     "text": [
      "[16:40:37] DEPRECATION WARNING: please use MorganGenerator\n",
      "[16:40:37] DEPRECATION WARNING: please use MorganGenerator\n",
      "The attention mask and the pad token id were not set. As a consequence, you may observe unexpected behavior. Please pass your input's `attention_mask` to obtain reliable results.\n",
      "Setting `pad_token_id` to `eos_token_id`:None for open-end generation.\n"
     ]
    },
    {
     "name": "stdout",
     "output_type": "stream",
     "text": [
      "GT: 0.45 Gen: 0.7391304347826086 diff: 0.29 CCOc1ccc(-c2noc(Cn3c(=O)n(C(C)C)c(=O)c4ccccc43)n2)cc1OC <|begin_of_text|>[SIMILAR]CCOc1ccc(-c2noc(Cn3c(=O)n(C(C)C)c(=O)c4ccccc43)n2)cc1OC 0.45[/SIMILAR][FORMULA]C24H24N4O5[/FORMULA][TPSA]99.69[/TPSA][WEIGHT]448.17[/WEIGHT][CLOGP]3.11[/CLOGP][SAS]2.39[/SAS][QED]0.44[/QED][RINGCOUNT]5[/RINGCOUNT][SMILES]CCOc1ccc(-c2noc(Cn3c(=O)n(CC4CC4)c(=O)c4ccccc43)n2)cc1OC[/SMILES]\n"
     ]
    },
    {
     "name": "stderr",
     "output_type": "stream",
     "text": [
      "[16:40:38] DEPRECATION WARNING: please use MorganGenerator\n",
      "[16:40:38] DEPRECATION WARNING: please use MorganGenerator\n",
      "The attention mask and the pad token id were not set. As a consequence, you may observe unexpected behavior. Please pass your input's `attention_mask` to obtain reliable results.\n",
      "Setting `pad_token_id` to `eos_token_id`:None for open-end generation.\n"
     ]
    },
    {
     "name": "stdout",
     "output_type": "stream",
     "text": [
      "GT: 0.5 Gen: 0.7391304347826086 diff: 0.24 CCOc1ccc(-c2noc(Cn3c(=O)n(C(C)C)c(=O)c4ccccc43)n2)cc1OC <|begin_of_text|>[SIMILAR]CCOc1ccc(-c2noc(Cn3c(=O)n(C(C)C)c(=O)c4ccccc43)n2)cc1OC 0.50[/SIMILAR][FORMULA]C24H24N4O5[/FORMULA][TPSA]100.55[/TPSA][SAS]2.39[/SAS][WEIGHT]448.17[/WEIGHT][CLOGP]2.96[/CLOGP][QED]0.45[/QED][RINGCOUNT]5[/RINGCOUNT][SMILES]CCOc1ccc(-c2noc(Cn3c(=O)n(CC4CC4)c(=O)c4ccccc43)n2)cc1OC[/SMILES]\n"
     ]
    },
    {
     "name": "stderr",
     "output_type": "stream",
     "text": [
      "[16:40:39] DEPRECATION WARNING: please use MorganGenerator\n",
      "[16:40:39] DEPRECATION WARNING: please use MorganGenerator\n",
      "The attention mask and the pad token id were not set. As a consequence, you may observe unexpected behavior. Please pass your input's `attention_mask` to obtain reliable results.\n",
      "Setting `pad_token_id` to `eos_token_id`:None for open-end generation.\n"
     ]
    },
    {
     "name": "stdout",
     "output_type": "stream",
     "text": [
      "GT: 0.55 Gen: 0.7391304347826086 diff: 0.19 CCOc1ccc(-c2noc(Cn3c(=O)n(C(C)C)c(=O)c4ccccc43)n2)cc1OC <|begin_of_text|>[SIMILAR]CCOc1ccc(-c2noc(Cn3c(=O)n(C(C)C)c(=O)c4ccccc43)n2)cc1OC 0.55[/SIMILAR][CLOGP]3.24[/CLOGP][TPSA]101.38[/TPSA][WEIGHT]448.17[/WEIGHT][FORMULA]C24H24N4O5[/FORMULA][RINGCOUNT]5[/RINGCOUNT][SAS]2.44[/SAS][QED]0.44[/QED][SMILES]CCOc1ccc(-c2noc(Cn3c(=O)n(CC4CC4)c(=O)c4ccccc43)n2)cc1OC[/SMILES]\n"
     ]
    },
    {
     "name": "stderr",
     "output_type": "stream",
     "text": [
      "[16:40:40] DEPRECATION WARNING: please use MorganGenerator\n",
      "[16:40:40] DEPRECATION WARNING: please use MorganGenerator\n",
      "The attention mask and the pad token id were not set. As a consequence, you may observe unexpected behavior. Please pass your input's `attention_mask` to obtain reliable results.\n",
      "Setting `pad_token_id` to `eos_token_id`:None for open-end generation.\n"
     ]
    },
    {
     "name": "stdout",
     "output_type": "stream",
     "text": [
      "GT: 0.6 Gen: 0.8153846153846154 diff: 0.22 CCOc1ccc(-c2noc(Cn3c(=O)n(C(C)C)c(=O)c4ccccc43)n2)cc1OC <|begin_of_text|>[SIMILAR]CCOc1ccc(-c2noc(Cn3c(=O)n(C(C)C)c(=O)c4ccccc43)n2)cc1OC 0.60[/SIMILAR][CLOGP]3.24[/CLOGP][TPSA]101.38[/TPSA][WEIGHT]450.19[/WEIGHT][FORMULA]C24H26N4O5[/FORMULA][RINGCOUNT]4[/RINGCOUNT][QED]0.41[/QED][SAS]2.39[/SAS][SMILES]CCOc1ccc(-c2noc(Cn3c(=O)n(CC(C)C)c(=O)c4ccccc43)n2)cc1OC[/SMILES]\n"
     ]
    },
    {
     "name": "stderr",
     "output_type": "stream",
     "text": [
      "[16:40:40] DEPRECATION WARNING: please use MorganGenerator\n",
      "[16:40:40] DEPRECATION WARNING: please use MorganGenerator\n",
      "The attention mask and the pad token id were not set. As a consequence, you may observe unexpected behavior. Please pass your input's `attention_mask` to obtain reliable results.\n",
      "Setting `pad_token_id` to `eos_token_id`:None for open-end generation.\n"
     ]
    },
    {
     "name": "stdout",
     "output_type": "stream",
     "text": [
      "GT: 0.65 Gen: 0.8153846153846154 diff: 0.17 CCOc1ccc(-c2noc(Cn3c(=O)n(C(C)C)c(=O)c4ccccc43)n2)cc1OC <|begin_of_text|>[SIMILAR]CCOc1ccc(-c2noc(Cn3c(=O)n(C(C)C)c(=O)c4ccccc43)n2)cc1OC 0.65[/SIMILAR][CLOGP]3.24[/CLOGP][TPSA]101.38[/TPSA][WEIGHT]450.19[/WEIGHT][FORMULA]C24H26N4O5[/FORMULA][RINGCOUNT]4[/RINGCOUNT][QED]0.41[/QED][SAS]2.39[/SAS][SMILES]CCOc1ccc(-c2noc(Cn3c(=O)n(CC(C)C)c(=O)c4ccccc43)n2)cc1OC[/SMILES]\n"
     ]
    },
    {
     "name": "stderr",
     "output_type": "stream",
     "text": [
      "[16:40:41] DEPRECATION WARNING: please use MorganGenerator\n",
      "[16:40:41] DEPRECATION WARNING: please use MorganGenerator\n",
      "The attention mask and the pad token id were not set. As a consequence, you may observe unexpected behavior. Please pass your input's `attention_mask` to obtain reliable results.\n",
      "Setting `pad_token_id` to `eos_token_id`:None for open-end generation.\n"
     ]
    },
    {
     "name": "stdout",
     "output_type": "stream",
     "text": [
      "GT: 0.7 Gen: 0.75 diff: 0.05 CCOc1ccc(-c2noc(Cn3c(=O)n(C(C)C)c(=O)c4ccccc43)n2)cc1OC <|begin_of_text|>[SIMILAR]CCOc1ccc(-c2noc(Cn3c(=O)n(C(C)C)c(=O)c4ccccc43)n2)cc1OC 0.70[/SIMILAR][CLOGP]3.24[/CLOGP][TPSA]101.38[/TPSA][WEIGHT]436.17[/WEIGHT][FORMULA]C23H24N4O5[/FORMULA][RINGCOUNT]4[/RINGCOUNT][QED]0.44[/QED][SAS]2.37[/SAS][SMILES]CCOc1ccc(-c2noc(Cn3c(=O)n(CC)c(=O)c4ccccc43)n2)cc1OCC[/SMILES]\n"
     ]
    },
    {
     "name": "stderr",
     "output_type": "stream",
     "text": [
      "[16:40:42] DEPRECATION WARNING: please use MorganGenerator\n",
      "[16:40:42] DEPRECATION WARNING: please use MorganGenerator\n",
      "The attention mask and the pad token id were not set. As a consequence, you may observe unexpected behavior. Please pass your input's `attention_mask` to obtain reliable results.\n",
      "Setting `pad_token_id` to `eos_token_id`:None for open-end generation.\n"
     ]
    },
    {
     "name": "stdout",
     "output_type": "stream",
     "text": [
      "GT: 0.75 Gen: 1.0 diff: 0.25 CCOc1ccc(-c2noc(Cn3c(=O)n(C(C)C)c(=O)c4ccccc43)n2)cc1OC <|begin_of_text|>[SIMILAR]CCOc1ccc(-c2noc(Cn3c(=O)n(C(C)C)c(=O)c4ccccc43)n2)cc1OC 0.75[/SIMILAR][CLOGP]3.24[/CLOGP][TPSA]101.38[/TPSA][WEIGHT]436.17[/WEIGHT][FORMULA]C23H24N4O5[/FORMULA][RINGCOUNT]4[/RINGCOUNT][QED]0.44[/QED][SAS]2.37[/SAS][SMILES]CCOc1ccc(-c2noc(Cn3c(=O)n(C(C)C)c(=O)c4ccccc43)n2)cc1OC[/SMILES]\n"
     ]
    },
    {
     "name": "stderr",
     "output_type": "stream",
     "text": [
      "[16:40:43] DEPRECATION WARNING: please use MorganGenerator\n",
      "[16:40:43] DEPRECATION WARNING: please use MorganGenerator\n",
      "The attention mask and the pad token id were not set. As a consequence, you may observe unexpected behavior. Please pass your input's `attention_mask` to obtain reliable results.\n",
      "Setting `pad_token_id` to `eos_token_id`:None for open-end generation.\n"
     ]
    },
    {
     "name": "stdout",
     "output_type": "stream",
     "text": [
      "GT: 0.8 Gen: 1.0 diff: 0.2 CCOc1ccc(-c2noc(Cn3c(=O)n(C(C)C)c(=O)c4ccccc43)n2)cc1OC <|begin_of_text|>[SIMILAR]CCOc1ccc(-c2noc(Cn3c(=O)n(C(C)C)c(=O)c4ccccc43)n2)cc1OC 0.80[/SIMILAR][CLOGP]3.24[/CLOGP][TPSA]101.38[/TPSA][WEIGHT]436.17[/WEIGHT][FORMULA]C23H24N4O5[/FORMULA][RINGCOUNT]4[/RINGCOUNT][QED]0.44[/QED][SAS]2.37[/SAS][SMILES]CCOc1ccc(-c2noc(Cn3c(=O)n(C(C)C)c(=O)c4ccccc43)n2)cc1OC[/SMILES]\n"
     ]
    },
    {
     "name": "stderr",
     "output_type": "stream",
     "text": [
      "[16:40:43] DEPRECATION WARNING: please use MorganGenerator\n",
      "[16:40:43] DEPRECATION WARNING: please use MorganGenerator\n",
      "The attention mask and the pad token id were not set. As a consequence, you may observe unexpected behavior. Please pass your input's `attention_mask` to obtain reliable results.\n",
      "Setting `pad_token_id` to `eos_token_id`:None for open-end generation.\n"
     ]
    },
    {
     "name": "stdout",
     "output_type": "stream",
     "text": [
      "GT: 0.85 Gen: 1.0 diff: 0.15 CCOc1ccc(-c2noc(Cn3c(=O)n(C(C)C)c(=O)c4ccccc43)n2)cc1OC <|begin_of_text|>[SIMILAR]CCOc1ccc(-c2noc(Cn3c(=O)n(C(C)C)c(=O)c4ccccc43)n2)cc1OC 0.85[/SIMILAR][CLOGP]3.24[/CLOGP][WEIGHT]436.17[/WEIGHT][FORMULA]C23H24N4O5[/FORMULA][TPSA]101.38[/TPSA][RINGCOUNT]4[/RINGCOUNT][QED]0.44[/QED][SAS]2.37[/SAS][SMILES]CCOc1ccc(-c2noc(Cn3c(=O)n(C(C)C)c(=O)c4ccccc43)n2)cc1OC[/SMILES]\n"
     ]
    },
    {
     "name": "stderr",
     "output_type": "stream",
     "text": [
      "[16:40:44] DEPRECATION WARNING: please use MorganGenerator\n",
      "[16:40:44] DEPRECATION WARNING: please use MorganGenerator\n",
      "The attention mask and the pad token id were not set. As a consequence, you may observe unexpected behavior. Please pass your input's `attention_mask` to obtain reliable results.\n",
      "Setting `pad_token_id` to `eos_token_id`:None for open-end generation.\n"
     ]
    },
    {
     "name": "stdout",
     "output_type": "stream",
     "text": [
      "GT: 0.9 Gen: 1.0 diff: 0.1 CCOc1ccc(-c2noc(Cn3c(=O)n(C(C)C)c(=O)c4ccccc43)n2)cc1OC <|begin_of_text|>[SIMILAR]CCOc1ccc(-c2noc(Cn3c(=O)n(C(C)C)c(=O)c4ccccc43)n2)cc1OC 0.90[/SIMILAR][WEIGHT]436.17[/WEIGHT][FORMULA]C23H24N4O5[/FORMULA][TPSA]101.38[/TPSA][CLOGP]3.25[/CLOGP][SAS]2.37[/SAS][RINGCOUNT]4[/RINGCOUNT][QED]0.44[/QED][SMILES]CCOc1ccc(-c2noc(Cn3c(=O)n(C(C)C)c(=O)c4ccccc43)n2)cc1OC[/SMILES]\n"
     ]
    },
    {
     "name": "stderr",
     "output_type": "stream",
     "text": [
      "[16:40:45] DEPRECATION WARNING: please use MorganGenerator\n",
      "[16:40:45] DEPRECATION WARNING: please use MorganGenerator\n",
      "The attention mask and the pad token id were not set. As a consequence, you may observe unexpected behavior. Please pass your input's `attention_mask` to obtain reliable results.\n",
      "Setting `pad_token_id` to `eos_token_id`:None for open-end generation.\n"
     ]
    },
    {
     "name": "stdout",
     "output_type": "stream",
     "text": [
      "GT: 0.95 Gen: 0.9322033898305084 diff: 0.02 CCOc1ccc(-c2noc(Cn3c(=O)n(C(C)C)c(=O)c4ccccc43)n2)cc1OC <|begin_of_text|>[SIMILAR]CCOc1ccc(-c2noc(Cn3c(=O)n(C(C)C)c(=O)c4ccccc43)n2)cc1OC 0.95[/SIMILAR][QED]0.42[/QED][WEIGHT]450.19[/WEIGHT][RINGCOUNT]4[/RINGCOUNT][SAS]2.40[/SAS][FORMULA]C24H26N4O5[/FORMULA][TPSA]101.38[/TPSA][CLOGP]3.66[/CLOGP][SMILES]CCOc1ccc(-c2noc(Cn3c(=O)n(C(C)C)c(=O)c4ccccc43)n2)cc1OCC[/SMILES]\n"
     ]
    },
    {
     "name": "stderr",
     "output_type": "stream",
     "text": [
      "[16:40:46] DEPRECATION WARNING: please use MorganGenerator\n",
      "[16:40:46] DEPRECATION WARNING: please use MorganGenerator\n",
      "The attention mask and the pad token id were not set. As a consequence, you may observe unexpected behavior. Please pass your input's `attention_mask` to obtain reliable results.\n",
      "Setting `pad_token_id` to `eos_token_id`:None for open-end generation.\n"
     ]
    },
    {
     "name": "stdout",
     "output_type": "stream",
     "text": [
      "GT: 1.0 Gen: 1.0 diff: 0.0 CCOc1ccc(-c2noc(Cn3c(=O)n(C(C)C)c(=O)c4ccccc43)n2)cc1OC <|begin_of_text|>[SIMILAR]CCOc1ccc(-c2noc(Cn3c(=O)n(C(C)C)c(=O)c4ccccc43)n2)cc1OC 1.00[/SIMILAR][QED]0.44[/QED][WEIGHT]436.17[/WEIGHT][SAS]2.38[/SAS][CLOGP]3.26[/CLOGP][TPSA]101.38[/TPSA][FORMULA]C23H24N4O5[/FORMULA][RINGCOUNT]4[/RINGCOUNT][SMILES]CCOc1ccc(-c2noc(Cn3c(=O)n(C(C)C)c(=O)c4ccccc43)n2)cc1OC[/SMILES]\n"
     ]
    },
    {
     "name": "stderr",
     "output_type": "stream",
     "text": [
      "[16:40:46] DEPRECATION WARNING: please use MorganGenerator\n",
      "[16:40:46] DEPRECATION WARNING: please use MorganGenerator\n",
      "The attention mask and the pad token id were not set. As a consequence, you may observe unexpected behavior. Please pass your input's `attention_mask` to obtain reliable results.\n",
      "Setting `pad_token_id` to `eos_token_id`:None for open-end generation.\n"
     ]
    },
    {
     "name": "stdout",
     "output_type": "stream",
     "text": [
      "GT: 0.2 Gen: 0.25301204819277107 diff: 0.05 O=C(CSc1nnnn1-c1ccc(Cl)cc1)Nc1cccc(Cl)c1N1CCCCC1 <|begin_of_text|>[SIMILAR]O=C(CSc1nnnn1-c1ccc(Cl)cc1)Nc1cccc(Cl)c1N1CCCCC1 0.20[/SIMILAR][WEIGHT]339.09[/WEIGHT][TPSA]63.05[/TPSA][CLOGP]2.74[/CLOGP][SAS]3.12[/SAS][RINGCOUNT]3[/RINGCOUNT][FORMULA]C14H18ClN5OS[/FORMULA][QED]0.87[/QED][SMILES]CC(Sc1nnnn1C(C)C)C(=O)N1CCc2cc(Cl)ccc21[/SMILES]\n"
     ]
    },
    {
     "name": "stderr",
     "output_type": "stream",
     "text": [
      "[16:40:47] DEPRECATION WARNING: please use MorganGenerator\n",
      "[16:40:47] DEPRECATION WARNING: please use MorganGenerator\n",
      "The attention mask and the pad token id were not set. As a consequence, you may observe unexpected behavior. Please pass your input's `attention_mask` to obtain reliable results.\n",
      "Setting `pad_token_id` to `eos_token_id`:None for open-end generation.\n"
     ]
    },
    {
     "name": "stdout",
     "output_type": "stream",
     "text": [
      "GT: 0.25 Gen: 0.2441860465116279 diff: 0.01 O=C(CSc1nnnn1-c1ccc(Cl)cc1)Nc1cccc(Cl)c1N1CCCCC1 <|begin_of_text|>[SIMILAR]O=C(CSc1nnnn1-c1ccc(Cl)cc1)Nc1cccc(Cl)c1N1CCCCC1 0.25[/SIMILAR][CLOGP]2.81[/CLOGP][TPSA]75.94[/TPSA][SAS]2.92[/SAS][RINGCOUNT]3[/RINGCOUNT][WEIGHT]378.10[/WEIGHT][QED]0.83[/QED][FORMULA]C16H19ClN6OS[/FORMULA][SMILES]CC(Sc1nnnn1C(C)C)C(=O)N1CCNc2cc(Cl)ccc21[/SMILES]\n"
     ]
    },
    {
     "name": "stderr",
     "output_type": "stream",
     "text": [
      "[16:40:48] DEPRECATION WARNING: please use MorganGenerator\n",
      "[16:40:48] DEPRECATION WARNING: please use MorganGenerator\n",
      "The attention mask and the pad token id were not set. As a consequence, you may observe unexpected behavior. Please pass your input's `attention_mask` to obtain reliable results.\n",
      "Setting `pad_token_id` to `eos_token_id`:None for open-end generation.\n"
     ]
    },
    {
     "name": "stdout",
     "output_type": "stream",
     "text": [
      "GT: 0.3 Gen: 0.3048780487804878 diff: 0.0 O=C(CSc1nnnn1-c1ccc(Cl)cc1)Nc1cccc(Cl)c1N1CCCCC1 <|begin_of_text|>[SIMILAR]O=C(CSc1nnnn1-c1ccc(Cl)cc1)Nc1cccc(Cl)c1N1CCCCC1 0.30[/SIMILAR][CLOGP]3.03[/CLOGP][TPSA]75.94[/TPSA][SAS]2.84[/SAS][RINGCOUNT]3[/RINGCOUNT][WEIGHT]392.12[/WEIGHT][QED]0.79[/QED][FORMULA]C17H21ClN6OS[/FORMULA][SMILES]CC(Sc1nnnn1C(C)(C)C)C(=O)Nc1cc(Cl)ccc1N1CC1[/SMILES]\n"
     ]
    },
    {
     "name": "stderr",
     "output_type": "stream",
     "text": [
      "[16:40:48] DEPRECATION WARNING: please use MorganGenerator\n",
      "[16:40:48] DEPRECATION WARNING: please use MorganGenerator\n",
      "The attention mask and the pad token id were not set. As a consequence, you may observe unexpected behavior. Please pass your input's `attention_mask` to obtain reliable results.\n",
      "Setting `pad_token_id` to `eos_token_id`:None for open-end generation.\n"
     ]
    },
    {
     "name": "stdout",
     "output_type": "stream",
     "text": [
      "GT: 0.35 Gen: 0.379746835443038 diff: 0.03 O=C(CSc1nnnn1-c1ccc(Cl)cc1)Nc1cccc(Cl)c1N1CCCCC1 <|begin_of_text|>[SIMILAR]O=C(CSc1nnnn1-c1ccc(Cl)cc1)Nc1cccc(Cl)c1N1CCCCC1 0.35[/SIMILAR][CLOGP]3.14[/CLOGP][TPSA]75.94[/TPSA][RINGCOUNT]3[/RINGCOUNT][SAS]2.28[/SAS][FORMULA]C17H19ClN6OS[/FORMULA][QED]0.65[/QED][WEIGHT]390.10[/WEIGHT][SMILES]CCN(CC)c1ccc(NC(=O)CSc2nnnn2C2CC2)c(Cl)c1[/SMILES]\n"
     ]
    },
    {
     "name": "stderr",
     "output_type": "stream",
     "text": [
      "[16:40:49] DEPRECATION WARNING: please use MorganGenerator\n",
      "[16:40:49] DEPRECATION WARNING: please use MorganGenerator\n",
      "The attention mask and the pad token id were not set. As a consequence, you may observe unexpected behavior. Please pass your input's `attention_mask` to obtain reliable results.\n",
      "Setting `pad_token_id` to `eos_token_id`:None for open-end generation.\n"
     ]
    },
    {
     "name": "stdout",
     "output_type": "stream",
     "text": [
      "GT: 0.4 Gen: 0.38461538461538464 diff: 0.02 O=C(CSc1nnnn1-c1ccc(Cl)cc1)Nc1cccc(Cl)c1N1CCCCC1 <|begin_of_text|>[SIMILAR]O=C(CSc1nnnn1-c1ccc(Cl)cc1)Nc1cccc(Cl)c1N1CCCCC1 0.40[/SIMILAR][CLOGP]3.14[/CLOGP][WEIGHT]418.10[/WEIGHT][TPSA]75.94[/TPSA][RINGCOUNT]4[/RINGCOUNT][SAS]2.26[/SAS][QED]0.64[/QED][FORMULA]C19H19ClN6OS[/FORMULA][SMILES]O=C(CSc1nnnn1-c1ccccc1Cl)N1CCC(Nc2ccccc2)CC1[/SMILES]\n"
     ]
    },
    {
     "name": "stderr",
     "output_type": "stream",
     "text": [
      "[16:40:50] DEPRECATION WARNING: please use MorganGenerator\n",
      "[16:40:50] DEPRECATION WARNING: please use MorganGenerator\n",
      "The attention mask and the pad token id were not set. As a consequence, you may observe unexpected behavior. Please pass your input's `attention_mask` to obtain reliable results.\n",
      "Setting `pad_token_id` to `eos_token_id`:None for open-end generation.\n"
     ]
    },
    {
     "name": "stdout",
     "output_type": "stream",
     "text": [
      "GT: 0.45 Gen: 0.5970149253731343 diff: 0.15 O=C(CSc1nnnn1-c1ccc(Cl)cc1)Nc1cccc(Cl)c1N1CCCCC1 <|begin_of_text|>[SIMILAR]O=C(CSc1nnnn1-c1ccc(Cl)cc1)Nc1cccc(Cl)c1N1CCCCC1 0.45[/SIMILAR][CLOGP]3.50[/CLOGP][WEIGHT]418.10[/WEIGHT][TPSA]75.94[/TPSA][RINGCOUNT]4[/RINGCOUNT][SAS]2.20[/SAS][QED]0.64[/QED][FORMULA]C19H19ClN6OS[/FORMULA][SMILES]O=C(CSc1nnnn1-c1ccccc1Cl)Nc1ccc(N2CCCC2)cc1[/SMILES]\n"
     ]
    },
    {
     "name": "stderr",
     "output_type": "stream",
     "text": [
      "[16:40:50] DEPRECATION WARNING: please use MorganGenerator\n",
      "[16:40:50] DEPRECATION WARNING: please use MorganGenerator\n",
      "The attention mask and the pad token id were not set. As a consequence, you may observe unexpected behavior. Please pass your input's `attention_mask` to obtain reliable results.\n",
      "Setting `pad_token_id` to `eos_token_id`:None for open-end generation.\n"
     ]
    },
    {
     "name": "stdout",
     "output_type": "stream",
     "text": [
      "GT: 0.5 Gen: 0.6056338028169014 diff: 0.11 O=C(CSc1nnnn1-c1ccc(Cl)cc1)Nc1cccc(Cl)c1N1CCCCC1 <|begin_of_text|>[SIMILAR]O=C(CSc1nnnn1-c1ccc(Cl)cc1)Nc1cccc(Cl)c1N1CCCCC1 0.50[/SIMILAR][CLOGP]3.81[/CLOGP][WEIGHT]444.09[/WEIGHT][TPSA]75.94[/TPSA][RINGCOUNT]4[/RINGCOUNT][SAS]2.17[/SAS][QED]0.59[/QED][FORMULA]C19H18ClFN6OS[/FORMULA][SMILES]O=C(CSc1nnnn1-c1cccc(F)c1)Nc1cc(Cl)ccc1N1CCCC1[/SMILES]\n"
     ]
    },
    {
     "name": "stderr",
     "output_type": "stream",
     "text": [
      "[16:40:51] DEPRECATION WARNING: please use MorganGenerator\n",
      "[16:40:51] DEPRECATION WARNING: please use MorganGenerator\n",
      "The attention mask and the pad token id were not set. As a consequence, you may observe unexpected behavior. Please pass your input's `attention_mask` to obtain reliable results.\n",
      "Setting `pad_token_id` to `eos_token_id`:None for open-end generation.\n"
     ]
    },
    {
     "name": "stdout",
     "output_type": "stream",
     "text": [
      "GT: 0.55 Gen: 0.6056338028169014 diff: 0.06 O=C(CSc1nnnn1-c1ccc(Cl)cc1)Nc1cccc(Cl)c1N1CCCCC1 <|begin_of_text|>[SIMILAR]O=C(CSc1nnnn1-c1ccc(Cl)cc1)Nc1cccc(Cl)c1N1CCCCC1 0.55[/SIMILAR][CLOGP]3.81[/CLOGP][WEIGHT]444.09[/WEIGHT][TPSA]75.94[/TPSA][RINGCOUNT]4[/RINGCOUNT][QED]0.59[/QED][SAS]2.17[/SAS][FORMULA]C19H18ClFN6OS[/FORMULA][SMILES]O=C(CSc1nnnn1-c1cccc(F)c1)Nc1cc(Cl)ccc1N1CCCC1[/SMILES]\n"
     ]
    },
    {
     "name": "stderr",
     "output_type": "stream",
     "text": [
      "[16:40:52] DEPRECATION WARNING: please use MorganGenerator\n",
      "[16:40:52] DEPRECATION WARNING: please use MorganGenerator\n",
      "The attention mask and the pad token id were not set. As a consequence, you may observe unexpected behavior. Please pass your input's `attention_mask` to obtain reliable results.\n",
      "Setting `pad_token_id` to `eos_token_id`:None for open-end generation.\n"
     ]
    },
    {
     "name": "stdout",
     "output_type": "stream",
     "text": [
      "GT: 0.6 Gen: 0.6984126984126984 diff: 0.1 O=C(CSc1nnnn1-c1ccc(Cl)cc1)Nc1cccc(Cl)c1N1CCCCC1 <|begin_of_text|>[SIMILAR]O=C(CSc1nnnn1-c1ccc(Cl)cc1)Nc1cccc(Cl)c1N1CCCCC1 0.60[/SIMILAR][CLOGP]4.11[/CLOGP][WEIGHT]444.09[/WEIGHT][TPSA]75.94[/TPSA][RINGCOUNT]4[/RINGCOUNT][SAS]2.17[/SAS][QED]0.58[/QED][FORMULA]C20H18Cl2N6O2[/FORMULA][SMILES]O=C(CSc1nnnn1-c1ccc(Cl)cc1)Nc1cc(Cl)ccc1N1CCCC1[/SMILES]\n"
     ]
    },
    {
     "name": "stderr",
     "output_type": "stream",
     "text": [
      "[16:40:52] DEPRECATION WARNING: please use MorganGenerator\n",
      "[16:40:52] DEPRECATION WARNING: please use MorganGenerator\n",
      "The attention mask and the pad token id were not set. As a consequence, you may observe unexpected behavior. Please pass your input's `attention_mask` to obtain reliable results.\n",
      "Setting `pad_token_id` to `eos_token_id`:None for open-end generation.\n"
     ]
    },
    {
     "name": "stdout",
     "output_type": "stream",
     "text": [
      "GT: 0.65 Gen: 0.6984126984126984 diff: 0.05 O=C(CSc1nnnn1-c1ccc(Cl)cc1)Nc1cccc(Cl)c1N1CCCCC1 <|begin_of_text|>[SIMILAR]O=C(CSc1nnnn1-c1ccc(Cl)cc1)Nc1cccc(Cl)c1N1CCCCC1 0.65[/SIMILAR][RINGCOUNT]4[/RINGCOUNT][WEIGHT]458.05[/WEIGHT][TPSA]75.94[/TPSA][SAS]2.21[/SAS][QED]0.56[/QED][CLOGP]4.24[/CLOGP][FORMULA]C19H17Cl3N6O[/FORMULA][SMILES]O=C(CSc1nnnn1-c1ccc(Cl)cc1)Nc1cc(Cl)ccc1N1CCCC1[/SMILES]\n"
     ]
    },
    {
     "name": "stderr",
     "output_type": "stream",
     "text": [
      "[16:40:53] DEPRECATION WARNING: please use MorganGenerator\n",
      "[16:40:53] DEPRECATION WARNING: please use MorganGenerator\n",
      "The attention mask and the pad token id were not set. As a consequence, you may observe unexpected behavior. Please pass your input's `attention_mask` to obtain reliable results.\n",
      "Setting `pad_token_id` to `eos_token_id`:None for open-end generation.\n"
     ]
    },
    {
     "name": "stdout",
     "output_type": "stream",
     "text": [
      "GT: 0.7 Gen: 0.5616438356164384 diff: 0.14 O=C(CSc1nnnn1-c1ccc(Cl)cc1)Nc1cccc(Cl)c1N1CCCCC1 <|begin_of_text|>[SIMILAR]O=C(CSc1nnnn1-c1ccc(Cl)cc1)Nc1cccc(Cl)c1N1CCCCC1 0.70[/SIMILAR][RINGCOUNT]4[/RINGCOUNT][WEIGHT]458.05[/WEIGHT][TPSA]75.94[/TPSA][SAS]2.22[/SAS][CLOGP]4.38[/CLOGP][FORMULA]C19H17Cl2FN6OS[/FORMULA][QED]0.55[/QED][SMILES]O=C(CSc1nnnn1-c1ccc(Cl)cc1)Nc1cc(Cl)ccc1N1CCCC1F[/SMILES]\n"
     ]
    },
    {
     "name": "stderr",
     "output_type": "stream",
     "text": [
      "[16:40:54] DEPRECATION WARNING: please use MorganGenerator\n",
      "[16:40:54] DEPRECATION WARNING: please use MorganGenerator\n",
      "The attention mask and the pad token id were not set. As a consequence, you may observe unexpected behavior. Please pass your input's `attention_mask` to obtain reliable results.\n",
      "Setting `pad_token_id` to `eos_token_id`:None for open-end generation.\n"
     ]
    },
    {
     "name": "stdout",
     "output_type": "stream",
     "text": [
      "GT: 0.75 Gen: 0.5616438356164384 diff: 0.19 O=C(CSc1nnnn1-c1ccc(Cl)cc1)Nc1cccc(Cl)c1N1CCCCC1 <|begin_of_text|>[SIMILAR]O=C(CSc1nnnn1-c1ccc(Cl)cc1)Nc1cccc(Cl)c1N1CCCCC1 0.75[/SIMILAR][RINGCOUNT]4[/RINGCOUNT][WEIGHT]458.05[/WEIGHT][TPSA]75.94[/TPSA][CLOGP]4.53[/CLOGP][SAS]2.22[/SAS][FORMULA]C19H17Cl2FN6OS[/FORMULA][QED]0.55[/QED][SMILES]O=C(CSc1nnnn1-c1ccc(Cl)cc1)Nc1cc(Cl)ccc1N1CCCC1F[/SMILES]\n"
     ]
    },
    {
     "name": "stderr",
     "output_type": "stream",
     "text": [
      "[16:40:55] DEPRECATION WARNING: please use MorganGenerator\n",
      "[16:40:55] DEPRECATION WARNING: please use MorganGenerator\n",
      "The attention mask and the pad token id were not set. As a consequence, you may observe unexpected behavior. Please pass your input's `attention_mask` to obtain reliable results.\n",
      "Setting `pad_token_id` to `eos_token_id`:None for open-end generation.\n"
     ]
    },
    {
     "name": "stdout",
     "output_type": "stream",
     "text": [
      "GT: 0.8 Gen: 0.7142857142857143 diff: 0.09 O=C(CSc1nnnn1-c1ccc(Cl)cc1)Nc1cccc(Cl)c1N1CCCCC1 <|begin_of_text|>[SIMILAR]O=C(CSc1nnnn1-c1ccc(Cl)cc1)Nc1cccc(Cl)c1N1CCCCC1 0.80[/SIMILAR][RINGCOUNT]4[/RINGCOUNT][WEIGHT]460.07[/WEIGHT][TPSA]75.94[/TPSA][CLOGP]4.63[/CLOGP][SAS]2.22[/SAS][FORMULA]C20H19Cl2FN6S[/FORMULA][QED]0.54[/QED][SMILES]O=C(CSc1nnnn1-c1ccc(Cl)cc1)Nc1cc(Cl)ccc1N1CCCCC1[/SMILES]\n"
     ]
    },
    {
     "name": "stderr",
     "output_type": "stream",
     "text": [
      "[16:40:55] WARNING: not removing hydrogen atom without neighbors\n",
      "[16:40:55] DEPRECATION WARNING: please use MorganGenerator\n",
      "[16:40:55] DEPRECATION WARNING: please use MorganGenerator\n",
      "The attention mask and the pad token id were not set. As a consequence, you may observe unexpected behavior. Please pass your input's `attention_mask` to obtain reliable results.\n",
      "Setting `pad_token_id` to `eos_token_id`:None for open-end generation.\n"
     ]
    },
    {
     "name": "stdout",
     "output_type": "stream",
     "text": [
      "GT: 0.85 Gen: 0.9821428571428571 diff: 0.13 O=C(CSc1nnnn1-c1ccc(Cl)cc1)Nc1cccc(Cl)c1N1CCCCC1 <|begin_of_text|>[SIMILAR]O=C(CSc1nnnn1-c1ccc(Cl)cc1)Nc1cccc(Cl)c1N1CCCCC1 0.85[/SIMILAR][WEIGHT]460.07[/WEIGHT][TPSA]75.94[/TPSA][SAS]2.22[/SAS][CLOGP]4.59[/CLOGP][FORMULA]C20H19Cl2N6OS-[/FORMULA][QED]0.53[/QED][RINGCOUNT]4[/RINGCOUNT][SMILES]O=C(CSc1nnnn1-c1ccc(Cl)cc1)Nc1cccc(Cl)c1N1CCCCC1.[H-][/SMILES]\n"
     ]
    },
    {
     "name": "stderr",
     "output_type": "stream",
     "text": [
      "[16:40:56] DEPRECATION WARNING: please use MorganGenerator\n",
      "[16:40:56] DEPRECATION WARNING: please use MorganGenerator\n",
      "The attention mask and the pad token id were not set. As a consequence, you may observe unexpected behavior. Please pass your input's `attention_mask` to obtain reliable results.\n",
      "Setting `pad_token_id` to `eos_token_id`:None for open-end generation.\n"
     ]
    },
    {
     "name": "stdout",
     "output_type": "stream",
     "text": [
      "GT: 0.9 Gen: 0.8360655737704918 diff: 0.06 O=C(CSc1nnnn1-c1ccc(Cl)cc1)Nc1cccc(Cl)c1N1CCCCC1 <|begin_of_text|>[SIMILAR]O=C(CSc1nnnn1-c1ccc(Cl)cc1)Nc1cccc(Cl)c1N1CCCCC1 0.90[/SIMILAR][WEIGHT]448.09[/WEIGHT][TPSA]75.94[/TPSA][SAS]2.21[/SAS][CLOGP]4.41[/CLOGP][FORMULA]C20H18ClFN6OS[/FORMULA][RINGCOUNT]4[/RINGCOUNT][QED]0.57[/QED][SMILES]O=C(CSc1nnnn1-c1ccc(Cl)cc1)Nc1cccc(F)c1N1CCCCC1[/SMILES]\n"
     ]
    },
    {
     "name": "stderr",
     "output_type": "stream",
     "text": [
      "[16:40:57] DEPRECATION WARNING: please use MorganGenerator\n",
      "[16:40:57] DEPRECATION WARNING: please use MorganGenerator\n",
      "The attention mask and the pad token id were not set. As a consequence, you may observe unexpected behavior. Please pass your input's `attention_mask` to obtain reliable results.\n",
      "Setting `pad_token_id` to `eos_token_id`:None for open-end generation.\n"
     ]
    },
    {
     "name": "stdout",
     "output_type": "stream",
     "text": [
      "GT: 0.95 Gen: 1.0 diff: 0.05 O=C(CSc1nnnn1-c1ccc(Cl)cc1)Nc1cccc(Cl)c1N1CCCCC1 <|begin_of_text|>[SIMILAR]O=C(CSc1nnnn1-c1ccc(Cl)cc1)Nc1cccc(Cl)c1N1CCCCC1 0.95[/SIMILAR][WEIGHT]462.08[/WEIGHT][TPSA]75.94[/TPSA][FORMULA]C20H20Cl2N6OS[/FORMULA][SAS]2.24[/SAS][CLOGP]4.69[/CLOGP][QED]0.53[/QED][RINGCOUNT]4[/RINGCOUNT][SMILES]O=C(CSc1nnnn1-c1ccc(Cl)cc1)Nc1cccc(Cl)c1N1CCCCC1[/SMILES]\n"
     ]
    },
    {
     "name": "stderr",
     "output_type": "stream",
     "text": [
      "[16:40:58] DEPRECATION WARNING: please use MorganGenerator\n",
      "[16:40:58] DEPRECATION WARNING: please use MorganGenerator\n",
      "The attention mask and the pad token id were not set. As a consequence, you may observe unexpected behavior. Please pass your input's `attention_mask` to obtain reliable results.\n",
      "Setting `pad_token_id` to `eos_token_id`:None for open-end generation.\n"
     ]
    },
    {
     "name": "stdout",
     "output_type": "stream",
     "text": [
      "GT: 1.0 Gen: 1.0 diff: 0.0 O=C(CSc1nnnn1-c1ccc(Cl)cc1)Nc1cccc(Cl)c1N1CCCCC1 <|begin_of_text|>[SIMILAR]O=C(CSc1nnnn1-c1ccc(Cl)cc1)Nc1cccc(Cl)c1N1CCCCC1 1.00[/SIMILAR][WEIGHT]462.08[/WEIGHT][TPSA]75.94[/TPSA][SAS]2.25[/SAS][CLOGP]4.63[/CLOGP][FORMULA]C20H20Cl2N6OS[/FORMULA][RINGCOUNT]4[/RINGCOUNT][QED]0.53[/QED][SMILES]O=C(CSc1nnnn1-c1ccc(Cl)cc1)Nc1cccc(Cl)c1N1CCCCC1[/SMILES]\n"
     ]
    },
    {
     "name": "stderr",
     "output_type": "stream",
     "text": [
      "[16:40:58] DEPRECATION WARNING: please use MorganGenerator\n",
      "[16:40:58] DEPRECATION WARNING: please use MorganGenerator\n",
      "The attention mask and the pad token id were not set. As a consequence, you may observe unexpected behavior. Please pass your input's `attention_mask` to obtain reliable results.\n",
      "Setting `pad_token_id` to `eos_token_id`:None for open-end generation.\n"
     ]
    },
    {
     "name": "stdout",
     "output_type": "stream",
     "text": [
      "GT: 0.2 Gen: 0.17333333333333334 diff: 0.03 Cc1ccccc1C1(O)CCN(C(=O)c2ccc(-c3ccc(F)cc3)o2)CC1 <|begin_of_text|>[SIMILAR]Cc1ccccc1C1(O)CCN(C(=O)c2ccc(-c3ccc(F)cc3)o2)CC1 0.20[/SIMILAR][QED]0.91[/QED][WEIGHT]287.15[/WEIGHT][CLOGP]2.77[/CLOGP][TPSA]53.68[/TPSA][RINGCOUNT]4[/RINGCOUNT][SAS]3.55[/SAS][FORMULA]C17H21NO3[/FORMULA][SMILES]O=C(c1cc2c(o1)CCCC2)N1CCC(O)C2=C1CCCC2[/SMILES]\n"
     ]
    },
    {
     "name": "stderr",
     "output_type": "stream",
     "text": [
      "[16:40:59] DEPRECATION WARNING: please use MorganGenerator\n",
      "[16:40:59] DEPRECATION WARNING: please use MorganGenerator\n",
      "The attention mask and the pad token id were not set. As a consequence, you may observe unexpected behavior. Please pass your input's `attention_mask` to obtain reliable results.\n",
      "Setting `pad_token_id` to `eos_token_id`:None for open-end generation.\n"
     ]
    },
    {
     "name": "stdout",
     "output_type": "stream",
     "text": [
      "GT: 0.25 Gen: 0.17333333333333334 diff: 0.08 Cc1ccccc1C1(O)CCN(C(=O)c2ccc(-c3ccc(F)cc3)o2)CC1 <|begin_of_text|>[SIMILAR]Cc1ccccc1C1(O)CCN(C(=O)c2ccc(-c3ccc(F)cc3)o2)CC1 0.25[/SIMILAR][TPSA]53.68[/TPSA][WEIGHT]287.15[/WEIGHT][CLOGP]2.84[/CLOGP][RINGCOUNT]4[/RINGCOUNT][SAS]3.55[/SAS][FORMULA]C17H21NO3[/FORMULA][SMILES]O=C(c1cc2c(o1)CCCC2)N1CCC(O)C2=C1CCCC2[/SMILES]\n"
     ]
    },
    {
     "name": "stderr",
     "output_type": "stream",
     "text": [
      "[16:40:59] DEPRECATION WARNING: please use MorganGenerator\n",
      "[16:40:59] DEPRECATION WARNING: please use MorganGenerator\n",
      "The attention mask and the pad token id were not set. As a consequence, you may observe unexpected behavior. Please pass your input's `attention_mask` to obtain reliable results.\n",
      "Setting `pad_token_id` to `eos_token_id`:None for open-end generation.\n"
     ]
    },
    {
     "name": "stdout",
     "output_type": "stream",
     "text": [
      "GT: 0.3 Gen: 0.6 diff: 0.3 Cc1ccccc1C1(O)CCN(C(=O)c2ccc(-c3ccc(F)cc3)o2)CC1 <|begin_of_text|>[SIMILAR]Cc1ccccc1C1(O)CCN(C(=O)c2ccc(-c3ccc(F)cc3)o2)CC1 0.30[/SIMILAR][TPSA]53.68[/TPSA][WEIGHT]285.14[/WEIGHT][RINGCOUNT]3[/RINGCOUNT][CLOGP]2.84[/CLOGP][SAS]2.74[/SAS][FORMULA]C17H19NO3[/FORMULA][SMILES]Cc1ccc(C(=O)N2CCC(O)(c3ccccc3C)C2)o1[/SMILES]\n"
     ]
    },
    {
     "name": "stderr",
     "output_type": "stream",
     "text": [
      "[16:41:00] DEPRECATION WARNING: please use MorganGenerator\n",
      "[16:41:00] DEPRECATION WARNING: please use MorganGenerator\n",
      "The attention mask and the pad token id were not set. As a consequence, you may observe unexpected behavior. Please pass your input's `attention_mask` to obtain reliable results.\n",
      "Setting `pad_token_id` to `eos_token_id`:None for open-end generation.\n"
     ]
    },
    {
     "name": "stdout",
     "output_type": "stream",
     "text": [
      "GT: 0.35 Gen: 0.42857142857142855 diff: 0.08 Cc1ccccc1C1(O)CCN(C(=O)c2ccc(-c3ccc(F)cc3)o2)CC1 <|begin_of_text|>[SIMILAR]Cc1ccccc1C1(O)CCN(C(=O)c2ccc(-c3ccc(F)cc3)o2)CC1 0.35[/SIMILAR][TPSA]53.68[/TPSA][WEIGHT]325.17[/WEIGHT][CLOGP]3.77[/CLOGP][RINGCOUNT]4[/RINGCOUNT][SAS]3.14[/SAS][QED]0.91[/QED][FORMULA]C20H23NO3[/FORMULA][SMILES]CC1CC1c1ccc(C(=O)N2CCC(O)(c3ccccc3)CC2)o1[/SMILES]\n"
     ]
    },
    {
     "name": "stderr",
     "output_type": "stream",
     "text": [
      "[16:41:01] DEPRECATION WARNING: please use MorganGenerator\n",
      "[16:41:01] DEPRECATION WARNING: please use MorganGenerator\n",
      "The attention mask and the pad token id were not set. As a consequence, you may observe unexpected behavior. Please pass your input's `attention_mask` to obtain reliable results.\n",
      "Setting `pad_token_id` to `eos_token_id`:None for open-end generation.\n"
     ]
    },
    {
     "name": "stdout",
     "output_type": "stream",
     "text": [
      "GT: 0.4 Gen: 0.30985915492957744 diff: 0.09 Cc1ccccc1C1(O)CCN(C(=O)c2ccc(-c3ccc(F)cc3)o2)CC1 <|begin_of_text|>[SIMILAR]Cc1ccccc1C1(O)CCN(C(=O)c2ccc(-c3ccc(F)cc3)o2)CC1 0.40[/SIMILAR][CLOGP]3.77[/CLOGP][WEIGHT]351.18[/WEIGHT][RINGCOUNT]4[/RINGCOUNT][TPSA]53.68[/TPSA][QED]0.92[/QED][SAS]3.40[/SAS][FORMULA]C22H25NO3[/FORMULA][SMILES]Cc1ccc(C(=O)N2CCC(O)(c3ccccc3)C3CCCCC32)o1[/SMILES]\n"
     ]
    },
    {
     "name": "stderr",
     "output_type": "stream",
     "text": [
      "[16:41:01] DEPRECATION WARNING: please use MorganGenerator\n",
      "[16:41:01] DEPRECATION WARNING: please use MorganGenerator\n",
      "The attention mask and the pad token id were not set. As a consequence, you may observe unexpected behavior. Please pass your input's `attention_mask` to obtain reliable results.\n",
      "Setting `pad_token_id` to `eos_token_id`:None for open-end generation.\n"
     ]
    },
    {
     "name": "stdout",
     "output_type": "stream",
     "text": [
      "GT: 0.45 Gen: 0.463768115942029 diff: 0.01 Cc1ccccc1C1(O)CCN(C(=O)c2ccc(-c3ccc(F)cc3)o2)CC1 <|begin_of_text|>[SIMILAR]Cc1ccccc1C1(O)CCN(C(=O)c2ccc(-c3ccc(F)cc3)o2)CC1 0.45[/SIMILAR][CLOGP]4.14[/CLOGP][WEIGHT]391.18[/WEIGHT][FORMULA]C24H25NO4[/FORMULA][RINGCOUNT]4[/RINGCOUNT][TPSA]62.91[/TPSA][QED]0.71[/QED][SAS]2.78[/SAS][SMILES]COc1ccc(C2(O)CCCN(C(=O)c3ccc(-c4ccccc4)o3)C2)cc1C[/SMILES]\n"
     ]
    },
    {
     "name": "stderr",
     "output_type": "stream",
     "text": [
      "[16:41:02] DEPRECATION WARNING: please use MorganGenerator\n",
      "[16:41:02] DEPRECATION WARNING: please use MorganGenerator\n",
      "The attention mask and the pad token id were not set. As a consequence, you may observe unexpected behavior. Please pass your input's `attention_mask` to obtain reliable results.\n",
      "Setting `pad_token_id` to `eos_token_id`:None for open-end generation.\n"
     ]
    },
    {
     "name": "stdout",
     "output_type": "stream",
     "text": [
      "GT: 0.5 Gen: 0.375 diff: 0.12 Cc1ccccc1C1(O)CCN(C(=O)c2ccc(-c3ccc(F)cc3)o2)CC1 <|begin_of_text|>[SIMILAR]Cc1ccccc1C1(O)CCN(C(=O)c2ccc(-c3ccc(F)cc3)o2)CC1 0.50[/SIMILAR][CLOGP]4.14[/CLOGP][WEIGHT]391.18[/WEIGHT][FORMULA]C24H25NO4[/FORMULA][RINGCOUNT]4[/RINGCOUNT][TPSA]62.91[/TPSA][QED]0.72[/QED][SAS]2.31[/SAS][SMILES]COc1ccc(C2(O)CCN(C(=O)c3occc3-c3ccccc3)CC2)cc1C[/SMILES]\n"
     ]
    },
    {
     "name": "stderr",
     "output_type": "stream",
     "text": [
      "[16:41:03] DEPRECATION WARNING: please use MorganGenerator\n",
      "[16:41:03] DEPRECATION WARNING: please use MorganGenerator\n",
      "The attention mask and the pad token id were not set. As a consequence, you may observe unexpected behavior. Please pass your input's `attention_mask` to obtain reliable results.\n",
      "Setting `pad_token_id` to `eos_token_id`:None for open-end generation.\n"
     ]
    },
    {
     "name": "stdout",
     "output_type": "stream",
     "text": [
      "GT: 0.55 Gen: 0.532258064516129 diff: 0.02 Cc1ccccc1C1(O)CCN(C(=O)c2ccc(-c3ccc(F)cc3)o2)CC1 <|begin_of_text|>[SIMILAR]Cc1ccccc1C1(O)CCN(C(=O)c2ccc(-c3ccc(F)cc3)o2)CC1 0.55[/SIMILAR][CLOGP]4.14[/CLOGP][WEIGHT]391.18[/WEIGHT][FORMULA]C24H25NO4[/FORMULA][RINGCOUNT]4[/RINGCOUNT][TPSA]62.91[/TPSA][QED]0.72[/QED][SAS]2.31[/SAS][SMILES]COc1ccc(C2(O)CCN(C(=O)c3ccc(-c4ccccc4C)o3)CC2)cc1[/SMILES]\n"
     ]
    },
    {
     "name": "stderr",
     "output_type": "stream",
     "text": [
      "[16:41:04] DEPRECATION WARNING: please use MorganGenerator\n",
      "[16:41:04] DEPRECATION WARNING: please use MorganGenerator\n",
      "The attention mask and the pad token id were not set. As a consequence, you may observe unexpected behavior. Please pass your input's `attention_mask` to obtain reliable results.\n",
      "Setting `pad_token_id` to `eos_token_id`:None for open-end generation.\n"
     ]
    },
    {
     "name": "stdout",
     "output_type": "stream",
     "text": [
      "GT: 0.6 Gen: 0.7924528301886793 diff: 0.19 Cc1ccccc1C1(O)CCN(C(=O)c2ccc(-c3ccc(F)cc3)o2)CC1 <|begin_of_text|>[SIMILAR]Cc1ccccc1C1(O)CCN(C(=O)c2ccc(-c3ccc(F)cc3)o2)CC1 0.60[/SIMILAR][CLOGP]4.29[/CLOGP][WEIGHT]391.18[/WEIGHT][FORMULA]C24H25NO4[/FORMULA][QED]0.72[/QED][SAS]2.27[/SAS][TPSA]62.91[/TPSA][RINGCOUNT]4[/RINGCOUNT][SMILES]COc1ccc(-c2ccc(C(=O)N3CCC(O)(c4ccccc4C)CC3)o2)cc1[/SMILES]\n"
     ]
    },
    {
     "name": "stderr",
     "output_type": "stream",
     "text": [
      "[16:41:04] DEPRECATION WARNING: please use MorganGenerator\n",
      "[16:41:04] DEPRECATION WARNING: please use MorganGenerator\n",
      "The attention mask and the pad token id were not set. As a consequence, you may observe unexpected behavior. Please pass your input's `attention_mask` to obtain reliable results.\n",
      "Setting `pad_token_id` to `eos_token_id`:None for open-end generation.\n"
     ]
    },
    {
     "name": "stdout",
     "output_type": "stream",
     "text": [
      "GT: 0.65 Gen: 0.7924528301886793 diff: 0.14 Cc1ccccc1C1(O)CCN(C(=O)c2ccc(-c3ccc(F)cc3)o2)CC1 <|begin_of_text|>[SIMILAR]Cc1ccccc1C1(O)CCN(C(=O)c2ccc(-c3ccc(F)cc3)o2)CC1 0.65[/SIMILAR][CLOGP]4.51[/CLOGP][WEIGHT]391.18[/WEIGHT][FORMULA]C24H25NO4[/FORMULA][QED]0.71[/QED][SAS]2.26[/SAS][TPSA]62.91[/TPSA][RINGCOUNT]4[/RINGCOUNT][SMILES]COc1ccc(-c2ccc(C(=O)N3CCC(O)(c4ccccc4C)CC3)o2)cc1[/SMILES]\n"
     ]
    },
    {
     "name": "stderr",
     "output_type": "stream",
     "text": [
      "[16:41:05] DEPRECATION WARNING: please use MorganGenerator\n",
      "[16:41:05] DEPRECATION WARNING: please use MorganGenerator\n",
      "The attention mask and the pad token id were not set. As a consequence, you may observe unexpected behavior. Please pass your input's `attention_mask` to obtain reliable results.\n",
      "Setting `pad_token_id` to `eos_token_id`:None for open-end generation.\n"
     ]
    },
    {
     "name": "stdout",
     "output_type": "stream",
     "text": [
      "GT: 0.7 Gen: 0.65 diff: 0.05 Cc1ccccc1C1(O)CCN(C(=O)c2ccc(-c3ccc(F)cc3)o2)CC1 <|begin_of_text|>[SIMILAR]Cc1ccccc1C1(O)CCN(C(=O)c2ccc(-c3ccc(F)cc3)o2)CC1 0.70[/SIMILAR][TPSA]53.68[/TPSA][WEIGHT]391.16[/WEIGHT][FORMULA]C24H22FNO3[/FORMULA][SAS]2.35[/SAS][CLOGP]4.77[/CLOGP][RINGCOUNT]5[/RINGCOUNT][QED]0.70[/QED][SMILES]O=C(c1ccc(-c2ccc(F)cc2)o1)N1CCC(O)(c2ccccc2C2CC2)C1[/SMILES]\n"
     ]
    },
    {
     "name": "stderr",
     "output_type": "stream",
     "text": [
      "[16:41:06] DEPRECATION WARNING: please use MorganGenerator\n",
      "[16:41:06] DEPRECATION WARNING: please use MorganGenerator\n",
      "The attention mask and the pad token id were not set. As a consequence, you may observe unexpected behavior. Please pass your input's `attention_mask` to obtain reliable results.\n",
      "Setting `pad_token_id` to `eos_token_id`:None for open-end generation.\n"
     ]
    },
    {
     "name": "stdout",
     "output_type": "stream",
     "text": [
      "GT: 0.75 Gen: 0.65 diff: 0.1 Cc1ccccc1C1(O)CCN(C(=O)c2ccc(-c3ccc(F)cc3)o2)CC1 <|begin_of_text|>[SIMILAR]Cc1ccccc1C1(O)CCN(C(=O)c2ccc(-c3ccc(F)cc3)o2)CC1 0.75[/SIMILAR][TPSA]53.68[/TPSA][WEIGHT]391.16[/WEIGHT][FORMULA]C24H22FNO3[/FORMULA][SAS]2.37[/SAS][CLOGP]4.77[/CLOGP][RINGCOUNT]5[/RINGCOUNT][QED]0.70[/QED][SMILES]O=C(c1ccc(-c2ccc(F)cc2)o1)N1CCC(O)(c2ccccc2C2CC2)C1[/SMILES]\n"
     ]
    },
    {
     "name": "stderr",
     "output_type": "stream",
     "text": [
      "[16:41:07] DEPRECATION WARNING: please use MorganGenerator\n",
      "[16:41:07] DEPRECATION WARNING: please use MorganGenerator\n",
      "The attention mask and the pad token id were not set. As a consequence, you may observe unexpected behavior. Please pass your input's `attention_mask` to obtain reliable results.\n",
      "Setting `pad_token_id` to `eos_token_id`:None for open-end generation.\n"
     ]
    },
    {
     "name": "stdout",
     "output_type": "stream",
     "text": [
      "GT: 0.8 Gen: 1.0 diff: 0.2 Cc1ccccc1C1(O)CCN(C(=O)c2ccc(-c3ccc(F)cc3)o2)CC1 <|begin_of_text|>[SIMILAR]Cc1ccccc1C1(O)CCN(C(=O)c2ccc(-c3ccc(F)cc3)o2)CC1 0.80[/SIMILAR][TPSA]53.68[/TPSA][WEIGHT]391.16[/WEIGHT][FORMULA]C23H22FNO3[/FORMULA][SAS]2.28[/SAS][CLOGP]4.61[/CLOGP][RINGCOUNT]4[/RINGCOUNT][QED]0.71[/QED][SMILES]Cc1ccccc1C1(O)CCN(C(=O)c2ccc(-c3ccc(F)cc3)o2)CC1[/SMILES]\n"
     ]
    },
    {
     "name": "stderr",
     "output_type": "stream",
     "text": [
      "[16:41:07] DEPRECATION WARNING: please use MorganGenerator\n",
      "[16:41:07] DEPRECATION WARNING: please use MorganGenerator\n",
      "The attention mask and the pad token id were not set. As a consequence, you may observe unexpected behavior. Please pass your input's `attention_mask` to obtain reliable results.\n",
      "Setting `pad_token_id` to `eos_token_id`:None for open-end generation.\n"
     ]
    },
    {
     "name": "stdout",
     "output_type": "stream",
     "text": [
      "GT: 0.85 Gen: 1.0 diff: 0.15 Cc1ccccc1C1(O)CCN(C(=O)c2ccc(-c3ccc(F)cc3)o2)CC1 <|begin_of_text|>[SIMILAR]Cc1ccccc1C1(O)CCN(C(=O)c2ccc(-c3ccc(F)cc3)o2)CC1 0.85[/SIMILAR][TPSA]53.68[/TPSA][WEIGHT]391.16[/WEIGHT][FORMULA]C23H22FNO3[/FORMULA][RINGCOUNT]4[/RINGCOUNT][CLOGP]4.61[/CLOGP][SAS]2.27[/SAS][QED]0.71[/QED][SMILES]Cc1ccccc1C1(O)CCN(C(=O)c2ccc(-c3ccc(F)cc3)o2)CC1[/SMILES]\n"
     ]
    },
    {
     "name": "stderr",
     "output_type": "stream",
     "text": [
      "[16:41:08] DEPRECATION WARNING: please use MorganGenerator\n",
      "[16:41:08] DEPRECATION WARNING: please use MorganGenerator\n",
      "The attention mask and the pad token id were not set. As a consequence, you may observe unexpected behavior. Please pass your input's `attention_mask` to obtain reliable results.\n",
      "Setting `pad_token_id` to `eos_token_id`:None for open-end generation.\n"
     ]
    },
    {
     "name": "stdout",
     "output_type": "stream",
     "text": [
      "GT: 0.9 Gen: 1.0 diff: 0.1 Cc1ccccc1C1(O)CCN(C(=O)c2ccc(-c3ccc(F)cc3)o2)CC1 <|begin_of_text|>[SIMILAR]Cc1ccccc1C1(O)CCN(C(=O)c2ccc(-c3ccc(F)cc3)o2)CC1 0.90[/SIMILAR][TPSA]53.68[/TPSA][WEIGHT]391.16[/WEIGHT][FORMULA]C23H22FNO3[/FORMULA][SAS]2.26[/SAS][CLOGP]4.59[/CLOGP][QED]0.71[/QED][RINGCOUNT]4[/RINGCOUNT][SMILES]Cc1ccccc1C1(O)CCN(C(=O)c2ccc(-c3ccc(F)cc3)o2)CC1[/SMILES]\n"
     ]
    },
    {
     "name": "stderr",
     "output_type": "stream",
     "text": [
      "[16:41:09] DEPRECATION WARNING: please use MorganGenerator\n",
      "[16:41:09] DEPRECATION WARNING: please use MorganGenerator\n",
      "The attention mask and the pad token id were not set. As a consequence, you may observe unexpected behavior. Please pass your input's `attention_mask` to obtain reliable results.\n",
      "Setting `pad_token_id` to `eos_token_id`:None for open-end generation.\n"
     ]
    },
    {
     "name": "stdout",
     "output_type": "stream",
     "text": [
      "GT: 0.95 Gen: 1.0 diff: 0.05 Cc1ccccc1C1(O)CCN(C(=O)c2ccc(-c3ccc(F)cc3)o2)CC1 <|begin_of_text|>[SIMILAR]Cc1ccccc1C1(O)CCN(C(=O)c2ccc(-c3ccc(F)cc3)o2)CC1 0.95[/SIMILAR][WEIGHT]379.16[/WEIGHT][FORMULA]C23H22FNO3[/FORMULA][SAS]2.26[/SAS][QED]0.73[/QED][CLOGP]4.53[/CLOGP][TPSA]53.68[/TPSA][RINGCOUNT]4[/RINGCOUNT][SMILES]Cc1ccccc1C1(O)CCN(C(=O)c2ccc(-c3ccc(F)cc3)o2)CC1[/SMILES]\n"
     ]
    },
    {
     "name": "stderr",
     "output_type": "stream",
     "text": [
      "[16:41:10] DEPRECATION WARNING: please use MorganGenerator\n",
      "[16:41:10] DEPRECATION WARNING: please use MorganGenerator\n",
      "The attention mask and the pad token id were not set. As a consequence, you may observe unexpected behavior. Please pass your input's `attention_mask` to obtain reliable results.\n",
      "Setting `pad_token_id` to `eos_token_id`:None for open-end generation.\n"
     ]
    },
    {
     "name": "stdout",
     "output_type": "stream",
     "text": [
      "GT: 1.0 Gen: 1.0 diff: 0.0 Cc1ccccc1C1(O)CCN(C(=O)c2ccc(-c3ccc(F)cc3)o2)CC1 <|begin_of_text|>[SIMILAR]Cc1ccccc1C1(O)CCN(C(=O)c2ccc(-c3ccc(F)cc3)o2)CC1 1.00[/SIMILAR][TPSA]53.68[/TPSA][SAS]2.26[/SAS][WEIGHT]379.16[/WEIGHT][CLOGP]4.47[/CLOGP][FORMULA]C23H22FNO3[/FORMULA][RINGCOUNT]4[/RINGCOUNT][QED]0.73[/QED][SMILES]Cc1ccccc1C1(O)CCN(C(=O)c2ccc(-c3ccc(F)cc3)o2)CC1[/SMILES]\n"
     ]
    },
    {
     "name": "stderr",
     "output_type": "stream",
     "text": [
      "[16:41:10] DEPRECATION WARNING: please use MorganGenerator\n",
      "[16:41:10] DEPRECATION WARNING: please use MorganGenerator\n",
      "The attention mask and the pad token id were not set. As a consequence, you may observe unexpected behavior. Please pass your input's `attention_mask` to obtain reliable results.\n",
      "Setting `pad_token_id` to `eos_token_id`:None for open-end generation.\n"
     ]
    },
    {
     "name": "stdout",
     "output_type": "stream",
     "text": [
      "GT: 0.2 Gen: 0.21739130434782608 diff: 0.02 CCc1ccc(NC(=O)NC(C)(C)CCC(=O)O)cc1S(N)(=O)=O <|begin_of_text|>[SIMILAR]CCc1ccc(NC(=O)NC(C)(C)CCC(=O)O)cc1S(N)(=O)=O 0.20[/SIMILAR][FORMULA]C14H18N2O4S[/FORMULA][WEIGHT]310.10[/WEIGHT][SAS]2.77[/SAS][CLOGP]2.06[/CLOGP][RINGCOUNT]2[/RINGCOUNT][TPSA]86.71[/TPSA][SMILES]Cc1ccc(NC(=O)N2CCC(C)(C(=O)O)C2)cc1S[/SMILES]\n"
     ]
    },
    {
     "name": "stderr",
     "output_type": "stream",
     "text": [
      "[16:41:11] DEPRECATION WARNING: please use MorganGenerator\n",
      "[16:41:11] DEPRECATION WARNING: please use MorganGenerator\n",
      "The attention mask and the pad token id were not set. As a consequence, you may observe unexpected behavior. Please pass your input's `attention_mask` to obtain reliable results.\n",
      "Setting `pad_token_id` to `eos_token_id`:None for open-end generation.\n"
     ]
    },
    {
     "name": "stdout",
     "output_type": "stream",
     "text": [
      "GT: 0.25 Gen: 0.2608695652173913 diff: 0.01 CCc1ccc(NC(=O)NC(C)(C)CCC(=O)O)cc1S(N)(=O)=O <|begin_of_text|>[SIMILAR]CCc1ccc(NC(=O)NC(C)(C)CCC(=O)O)cc1S(N)(=O)=O 0.25[/SIMILAR][FORMULA]C15H20N2O4S[/FORMULA][WEIGHT]324.11[/WEIGHT][SAS]2.64[/SAS][CLOGP]2.45[/CLOGP][RINGCOUNT]2[/RINGCOUNT][TPSA]86.71[/TPSA][SMILES]Cc1ccc(NC(=O)N2CCCC2(C)C(=O)O)cc1S(C)(=O)=O[/SMILES]\n"
     ]
    },
    {
     "name": "stderr",
     "output_type": "stream",
     "text": [
      "[16:41:12] DEPRECATION WARNING: please use MorganGenerator\n",
      "[16:41:12] DEPRECATION WARNING: please use MorganGenerator\n",
      "The attention mask and the pad token id were not set. As a consequence, you may observe unexpected behavior. Please pass your input's `attention_mask` to obtain reliable results.\n",
      "Setting `pad_token_id` to `eos_token_id`:None for open-end generation.\n"
     ]
    },
    {
     "name": "stdout",
     "output_type": "stream",
     "text": [
      "GT: 0.3 Gen: 0.2878787878787879 diff: 0.01 CCc1ccc(NC(=O)NC(C)(C)CCC(=O)O)cc1S(N)(=O)=O <|begin_of_text|>[SIMILAR]CCc1ccc(NC(=O)NC(C)(C)CCC(=O)O)cc1S(N)(=O)=O 0.30[/SIMILAR][FORMULA]C14H20N2O5S[/FORMULA][SAS]2.60[/SAS][TPSA]103.78[/TPSA][RINGCOUNT]1[/RINGCOUNT][WEIGHT]328.11[/WEIGHT][CLOGP]1.79[/CLOGP][QED]0.83[/QED][SMILES]Cc1ccc(NC(=O)N(C)CC(C)C(=O)O)cc1S(C)(=O)=O[/SMILES]\n"
     ]
    },
    {
     "name": "stderr",
     "output_type": "stream",
     "text": [
      "[16:41:13] DEPRECATION WARNING: please use MorganGenerator\n",
      "[16:41:13] DEPRECATION WARNING: please use MorganGenerator\n",
      "The attention mask and the pad token id were not set. As a consequence, you may observe unexpected behavior. Please pass your input's `attention_mask` to obtain reliable results.\n",
      "Setting `pad_token_id` to `eos_token_id`:None for open-end generation.\n"
     ]
    },
    {
     "name": "stdout",
     "output_type": "stream",
     "text": [
      "GT: 0.35 Gen: 0.36666666666666664 diff: 0.02 CCc1ccc(NC(=O)NC(C)(C)CCC(=O)O)cc1S(N)(=O)=O <|begin_of_text|>[SIMILAR]CCc1ccc(NC(=O)NC(C)(C)CCC(=O)O)cc1S(N)(=O)=O 0.35[/SIMILAR][RINGCOUNT]1[/RINGCOUNT][WEIGHT]314.09[/WEIGHT][TPSA]103.78[/TPSA][FORMULA]C13H18N2O5S[/FORMULA][CLOGP]1.45[/CLOGP][SAS]2.17[/SAS][QED]0.86[/QED][SMILES]Cc1ccc(NC(=O)N(C)CCC(=O)O)cc1S(C)(=O)=O[/SMILES]\n"
     ]
    },
    {
     "name": "stderr",
     "output_type": "stream",
     "text": [
      "[16:41:13] DEPRECATION WARNING: please use MorganGenerator\n",
      "[16:41:13] DEPRECATION WARNING: please use MorganGenerator\n",
      "The attention mask and the pad token id were not set. As a consequence, you may observe unexpected behavior. Please pass your input's `attention_mask` to obtain reliable results.\n",
      "Setting `pad_token_id` to `eos_token_id`:None for open-end generation.\n"
     ]
    },
    {
     "name": "stdout",
     "output_type": "stream",
     "text": [
      "GT: 0.4 Gen: 0.3442622950819672 diff: 0.06 CCc1ccc(NC(=O)NC(C)(C)CCC(=O)O)cc1S(N)(=O)=O <|begin_of_text|>[SIMILAR]CCc1ccc(NC(=O)NC(C)(C)CCC(=O)O)cc1S(N)(=O)=O 0.40[/SIMILAR][RINGCOUNT]1[/RINGCOUNT][WEIGHT]314.09[/WEIGHT][TPSA]112.57[/TPSA][SAS]2.02[/SAS][CLOGP]1.45[/CLOGP][FORMULA]C13H18N2O5S[/FORMULA][SMILES]Cc1ccc(NC(=O)NCC(C)C)cc1S(=O)(=O)C(=O)O[/SMILES]\n"
     ]
    },
    {
     "name": "stderr",
     "output_type": "stream",
     "text": [
      "[16:41:14] DEPRECATION WARNING: please use MorganGenerator\n",
      "[16:41:14] DEPRECATION WARNING: please use MorganGenerator\n",
      "The attention mask and the pad token id were not set. As a consequence, you may observe unexpected behavior. Please pass your input's `attention_mask` to obtain reliable results.\n",
      "Setting `pad_token_id` to `eos_token_id`:None for open-end generation.\n"
     ]
    },
    {
     "name": "stdout",
     "output_type": "stream",
     "text": [
      "GT: 0.45 Gen: 0.4642857142857143 diff: 0.01 CCc1ccc(NC(=O)NC(C)(C)CCC(=O)O)cc1S(N)(=O)=O <|begin_of_text|>[SIMILAR]CCc1ccc(NC(=O)NC(C)(C)CCC(=O)O)cc1S(N)(=O)=O 0.45[/SIMILAR][RINGCOUNT]1[/RINGCOUNT][WEIGHT]329.10[/WEIGHT][TPSA]121.52[/TPSA][SAS]2.26[/SAS][CLOGP]1.34[/CLOGP][FORMULA]C13H19N3O5S[/FORMULA][QED]0.65[/QED][SMILES]Cc1ccc(NC(=O)NCC(C)(C)C(=O)O)cc1S(N)(=O)=O[/SMILES]\n"
     ]
    },
    {
     "name": "stderr",
     "output_type": "stream",
     "text": [
      "[16:41:15] DEPRECATION WARNING: please use MorganGenerator\n",
      "[16:41:15] DEPRECATION WARNING: please use MorganGenerator\n",
      "The attention mask and the pad token id were not set. As a consequence, you may observe unexpected behavior. Please pass your input's `attention_mask` to obtain reliable results.\n",
      "Setting `pad_token_id` to `eos_token_id`:None for open-end generation.\n"
     ]
    },
    {
     "name": "stdout",
     "output_type": "stream",
     "text": [
      "GT: 0.5 Gen: 0.4642857142857143 diff: 0.04 CCc1ccc(NC(=O)NC(C)(C)CCC(=O)O)cc1S(N)(=O)=O <|begin_of_text|>[SIMILAR]CCc1ccc(NC(=O)NC(C)(C)CCC(=O)O)cc1S(N)(=O)=O 0.50[/SIMILAR][RINGCOUNT]1[/RINGCOUNT][WEIGHT]329.10[/WEIGHT][TPSA]121.52[/TPSA][SAS]2.26[/SAS][CLOGP]1.34[/CLOGP][FORMULA]C13H19N3O5S[/FORMULA][QED]0.65[/QED][SMILES]Cc1ccc(NC(=O)NCC(C)(C)C(=O)O)cc1S(N)(=O)=O[/SMILES]\n"
     ]
    },
    {
     "name": "stderr",
     "output_type": "stream",
     "text": [
      "[16:41:16] WARNING: not removing hydrogen atom without neighbors\n",
      "[16:41:16] DEPRECATION WARNING: please use MorganGenerator\n",
      "[16:41:16] DEPRECATION WARNING: please use MorganGenerator\n",
      "The attention mask and the pad token id were not set. As a consequence, you may observe unexpected behavior. Please pass your input's `attention_mask` to obtain reliable results.\n",
      "Setting `pad_token_id` to `eos_token_id`:None for open-end generation.\n"
     ]
    },
    {
     "name": "stdout",
     "output_type": "stream",
     "text": [
      "GT: 0.55 Gen: 0.47368421052631576 diff: 0.08 CCc1ccc(NC(=O)NC(C)(C)CCC(=O)O)cc1S(N)(=O)=O <|begin_of_text|>[SIMILAR]CCc1ccc(NC(=O)NC(C)(C)CCC(=O)O)cc1S(N)(=O)=O 0.55[/SIMILAR][RINGCOUNT]1[/RINGCOUNT][WEIGHT]329.10[/WEIGHT][TPSA]138.59[/TPSA][FORMULA]C13H19N3O5S[/FORMULA][CLOGP]0.90[/CLOGP][SAS]2.67[/SAS][QED]0.61[/QED][SMILES]Cc1ccc(NC(=O)NC(C)CC(=O)O)cc1S(N)(=O)=O.[HH][/SMILES]\n"
     ]
    },
    {
     "name": "stderr",
     "output_type": "stream",
     "text": [
      "[16:41:16] DEPRECATION WARNING: please use MorganGenerator\n",
      "[16:41:16] DEPRECATION WARNING: please use MorganGenerator\n",
      "The attention mask and the pad token id were not set. As a consequence, you may observe unexpected behavior. Please pass your input's `attention_mask` to obtain reliable results.\n",
      "Setting `pad_token_id` to `eos_token_id`:None for open-end generation.\n"
     ]
    },
    {
     "name": "stdout",
     "output_type": "stream",
     "text": [
      "GT: 0.6 Gen: 0.6111111111111112 diff: 0.01 CCc1ccc(NC(=O)NC(C)(C)CCC(=O)O)cc1S(N)(=O)=O <|begin_of_text|>[SIMILAR]CCc1ccc(NC(=O)NC(C)(C)CCC(=O)O)cc1S(N)(=O)=O 0.60[/SIMILAR][RINGCOUNT]1[/RINGCOUNT][WEIGHT]343.12[/WEIGHT][TPSA]121.52[/TPSA][SAS]2.35[/SAS][CLOGP]1.79[/CLOGP][FORMULA]C14H21N3O5S[/FORMULA][QED]0.73[/QED][SMILES]Cc1ccc(NC(=O)NC(C)(C)CCC(=O)O)cc1S(=O)(=O)N(C)C[/SMILES]\n"
     ]
    },
    {
     "name": "stderr",
     "output_type": "stream",
     "text": [
      "[16:41:17] DEPRECATION WARNING: please use MorganGenerator\n",
      "[16:41:17] DEPRECATION WARNING: please use MorganGenerator\n",
      "The attention mask and the pad token id were not set. As a consequence, you may observe unexpected behavior. Please pass your input's `attention_mask` to obtain reliable results.\n",
      "Setting `pad_token_id` to `eos_token_id`:None for open-end generation.\n"
     ]
    },
    {
     "name": "stdout",
     "output_type": "stream",
     "text": [
      "GT: 0.65 Gen: 0.7872340425531915 diff: 0.14 CCc1ccc(NC(=O)NC(C)(C)CCC(=O)O)cc1S(N)(=O)=O <|begin_of_text|>[SIMILAR]CCc1ccc(NC(=O)NC(C)(C)CCC(=O)O)cc1S(N)(=O)=O 0.65[/SIMILAR][RINGCOUNT]1[/RINGCOUNT][WEIGHT]343.12[/WEIGHT][TPSA]138.59[/TPSA][FORMULA]C14H21N3O5S[/FORMULA][CLOGP]1.34[/CLOGP][SAS]2.29[/SAS][QED]0.61[/QED][SMILES]CCc1ccc(NC(=O)NC(C)(C)CC(=O)O)cc1S(N)(=O)=O[/SMILES]\n"
     ]
    },
    {
     "name": "stderr",
     "output_type": "stream",
     "text": [
      "[16:41:18] DEPRECATION WARNING: please use MorganGenerator\n",
      "[16:41:18] DEPRECATION WARNING: please use MorganGenerator\n",
      "The attention mask and the pad token id were not set. As a consequence, you may observe unexpected behavior. Please pass your input's `attention_mask` to obtain reliable results.\n",
      "Setting `pad_token_id` to `eos_token_id`:None for open-end generation.\n"
     ]
    },
    {
     "name": "stdout",
     "output_type": "stream",
     "text": [
      "GT: 0.7 Gen: 0.7872340425531915 diff: 0.09 CCc1ccc(NC(=O)NC(C)(C)CCC(=O)O)cc1S(N)(=O)=O <|begin_of_text|>[SIMILAR]CCc1ccc(NC(=O)NC(C)(C)CCC(=O)O)cc1S(N)(=O)=O 0.70[/SIMILAR][WEIGHT]343.12[/WEIGHT][TPSA]138.59[/TPSA][FORMULA]C14H21N3O5S[/FORMULA][CLOGP]1.34[/CLOGP][RINGCOUNT]1[/RINGCOUNT][SAS]2.33[/SAS][QED]0.61[/QED][SMILES]CCc1ccc(NC(=O)NC(C)(C)CC(=O)O)cc1S(N)(=O)=O[/SMILES]\n"
     ]
    },
    {
     "name": "stderr",
     "output_type": "stream",
     "text": [
      "[16:41:18] DEPRECATION WARNING: please use MorganGenerator\n",
      "[16:41:18] DEPRECATION WARNING: please use MorganGenerator\n",
      "The attention mask and the pad token id were not set. As a consequence, you may observe unexpected behavior. Please pass your input's `attention_mask` to obtain reliable results.\n",
      "Setting `pad_token_id` to `eos_token_id`:None for open-end generation.\n"
     ]
    },
    {
     "name": "stdout",
     "output_type": "stream",
     "text": [
      "GT: 0.75 Gen: 0.7872340425531915 diff: 0.04 CCc1ccc(NC(=O)NC(C)(C)CCC(=O)O)cc1S(N)(=O)=O <|begin_of_text|>[SIMILAR]CCc1ccc(NC(=O)NC(C)(C)CCC(=O)O)cc1S(N)(=O)=O 0.75[/SIMILAR][WEIGHT]343.12[/WEIGHT][TPSA]138.59[/TPSA][FORMULA]C14H21N3O5S[/FORMULA][CLOGP]1.34[/CLOGP][RINGCOUNT]1[/RINGCOUNT][QED]0.61[/QED][SAS]2.33[/SAS][SMILES]CCc1ccc(NC(=O)NC(C)(C)CC(=O)O)cc1S(N)(=O)=O[/SMILES]\n"
     ]
    },
    {
     "name": "stderr",
     "output_type": "stream",
     "text": [
      "[16:41:19] DEPRECATION WARNING: please use MorganGenerator\n",
      "[16:41:19] DEPRECATION WARNING: please use MorganGenerator\n",
      "The attention mask and the pad token id were not set. As a consequence, you may observe unexpected behavior. Please pass your input's `attention_mask` to obtain reliable results.\n",
      "Setting `pad_token_id` to `eos_token_id`:None for open-end generation.\n"
     ]
    },
    {
     "name": "stdout",
     "output_type": "stream",
     "text": [
      "GT: 0.8 Gen: 1.0 diff: 0.2 CCc1ccc(NC(=O)NC(C)(C)CCC(=O)O)cc1S(N)(=O)=O <|begin_of_text|>[SIMILAR]CCc1ccc(NC(=O)NC(C)(C)CCC(=O)O)cc1S(N)(=O)=O 0.80[/SIMILAR][WEIGHT]357.14[/WEIGHT][TPSA]138.59[/TPSA][FORMULA]C15H23N3O5S[/FORMULA][CLOGP]1.74[/CLOGP][RINGCOUNT]1[/RINGCOUNT][QED]0.59[/QED][SAS]2.39[/SAS][SMILES]CCc1ccc(NC(=O)NC(C)(C)CCC(=O)O)cc1S(N)(=O)=O[/SMILES]\n"
     ]
    },
    {
     "name": "stderr",
     "output_type": "stream",
     "text": [
      "[16:41:20] DEPRECATION WARNING: please use MorganGenerator\n",
      "[16:41:20] DEPRECATION WARNING: please use MorganGenerator\n",
      "The attention mask and the pad token id were not set. As a consequence, you may observe unexpected behavior. Please pass your input's `attention_mask` to obtain reliable results.\n",
      "Setting `pad_token_id` to `eos_token_id`:None for open-end generation.\n"
     ]
    },
    {
     "name": "stdout",
     "output_type": "stream",
     "text": [
      "GT: 0.85 Gen: 1.0 diff: 0.15 CCc1ccc(NC(=O)NC(C)(C)CCC(=O)O)cc1S(N)(=O)=O <|begin_of_text|>[SIMILAR]CCc1ccc(NC(=O)NC(C)(C)CCC(=O)O)cc1S(N)(=O)=O 0.85[/SIMILAR][WEIGHT]357.14[/WEIGHT][TPSA]138.59[/TPSA][FORMULA]C15H23N3O5S[/FORMULA][CLOGP]1.74[/CLOGP][RINGCOUNT]1[/RINGCOUNT][QED]0.59[/QED][SAS]2.39[/SAS][SMILES]CCc1ccc(NC(=O)NC(C)(C)CCC(=O)O)cc1S(N)(=O)=O[/SMILES]\n"
     ]
    },
    {
     "name": "stderr",
     "output_type": "stream",
     "text": [
      "[16:41:21] DEPRECATION WARNING: please use MorganGenerator\n",
      "[16:41:21] DEPRECATION WARNING: please use MorganGenerator\n",
      "The attention mask and the pad token id were not set. As a consequence, you may observe unexpected behavior. Please pass your input's `attention_mask` to obtain reliable results.\n",
      "Setting `pad_token_id` to `eos_token_id`:None for open-end generation.\n"
     ]
    },
    {
     "name": "stdout",
     "output_type": "stream",
     "text": [
      "GT: 0.9 Gen: 1.0 diff: 0.1 CCc1ccc(NC(=O)NC(C)(C)CCC(=O)O)cc1S(N)(=O)=O <|begin_of_text|>[SIMILAR]CCc1ccc(NC(=O)NC(C)(C)CCC(=O)O)cc1S(N)(=O)=O 0.90[/SIMILAR][WEIGHT]357.14[/WEIGHT][TPSA]138.59[/TPSA][FORMULA]C15H23N3O5S[/FORMULA][CLOGP]1.74[/CLOGP][RINGCOUNT]1[/RINGCOUNT][SMILES]CCc1ccc(NC(=O)NC(C)(C)CCC(=O)O)cc1S(N)(=O)=O[/SMILES]\n"
     ]
    },
    {
     "name": "stderr",
     "output_type": "stream",
     "text": [
      "[16:41:21] DEPRECATION WARNING: please use MorganGenerator\n",
      "[16:41:21] DEPRECATION WARNING: please use MorganGenerator\n",
      "The attention mask and the pad token id were not set. As a consequence, you may observe unexpected behavior. Please pass your input's `attention_mask` to obtain reliable results.\n",
      "Setting `pad_token_id` to `eos_token_id`:None for open-end generation.\n"
     ]
    },
    {
     "name": "stdout",
     "output_type": "stream",
     "text": [
      "GT: 0.95 Gen: 1.0 diff: 0.05 CCc1ccc(NC(=O)NC(C)(C)CCC(=O)O)cc1S(N)(=O)=O <|begin_of_text|>[SIMILAR]CCc1ccc(NC(=O)NC(C)(C)CCC(=O)O)cc1S(N)(=O)=O 0.95[/SIMILAR][WEIGHT]357.14[/WEIGHT][FORMULA]C15H23N3O5S[/FORMULA][SAS]2.41[/SAS][RINGCOUNT]1[/RINGCOUNT][CLOGP]1.79[/CLOGP][SMILES]CCc1ccc(NC(=O)NC(C)(C)CCC(=O)O)cc1S(N)(=O)=O[/SMILES]\n"
     ]
    },
    {
     "name": "stderr",
     "output_type": "stream",
     "text": [
      "[16:41:22] DEPRECATION WARNING: please use MorganGenerator\n",
      "[16:41:22] DEPRECATION WARNING: please use MorganGenerator\n",
      "The attention mask and the pad token id were not set. As a consequence, you may observe unexpected behavior. Please pass your input's `attention_mask` to obtain reliable results.\n",
      "Setting `pad_token_id` to `eos_token_id`:None for open-end generation.\n"
     ]
    },
    {
     "name": "stdout",
     "output_type": "stream",
     "text": [
      "GT: 1.0 Gen: 1.0 diff: 0.0 CCc1ccc(NC(=O)NC(C)(C)CCC(=O)O)cc1S(N)(=O)=O <|begin_of_text|>[SIMILAR]CCc1ccc(NC(=O)NC(C)(C)CCC(=O)O)cc1S(N)(=O)=O 1.00[/SIMILAR][WEIGHT]357.14[/WEIGHT][FORMULA]C15H23N3O5S[/FORMULA][SAS]2.41[/SAS][CLOGP]1.72[/CLOGP][SMILES]CCc1ccc(NC(=O)NC(C)(C)CCC(=O)O)cc1S(N)(=O)=O[/SMILES]\n"
     ]
    },
    {
     "name": "stderr",
     "output_type": "stream",
     "text": [
      "[16:41:22] DEPRECATION WARNING: please use MorganGenerator\n",
      "[16:41:22] DEPRECATION WARNING: please use MorganGenerator\n",
      "The attention mask and the pad token id were not set. As a consequence, you may observe unexpected behavior. Please pass your input's `attention_mask` to obtain reliable results.\n",
      "Setting `pad_token_id` to `eos_token_id`:None for open-end generation.\n"
     ]
    },
    {
     "name": "stdout",
     "output_type": "stream",
     "text": [
      "GT: 0.2 Gen: 0.26744186046511625 diff: 0.07 CCCOc1ccc(C=NNC(=O)COc2ccccc2C)cc1OC <|begin_of_text|>[SIMILAR]CCCOc1ccc(C=NNC(=O)COc2ccccc2C)cc1OC 0.20[/SIMILAR][TPSA]69.15[/TPSA][WEIGHT]290.13[/WEIGHT][QED]0.86[/QED][CLOGP]1.82[/CLOGP][RINGCOUNT]3[/RINGCOUNT][SAS]2.77[/SAS][FORMULA]C15H18N2O4[/FORMULA][SMILES]CC1Oc2ccccc2C=C1C=NNC(=O)C1CC1.COc1ccc2cc1OC2[/SMILES]\n"
     ]
    },
    {
     "name": "stderr",
     "output_type": "stream",
     "text": [
      "[16:41:23] DEPRECATION WARNING: please use MorganGenerator\n",
      "[16:41:23] DEPRECATION WARNING: please use MorganGenerator\n",
      "The attention mask and the pad token id were not set. As a consequence, you may observe unexpected behavior. Please pass your input's `attention_mask` to obtain reliable results.\n",
      "Setting `pad_token_id` to `eos_token_id`:None for open-end generation.\n"
     ]
    },
    {
     "name": "stdout",
     "output_type": "stream",
     "text": [
      "GT: 0.25 Gen: 0.22784810126582278 diff: 0.02 CCCOc1ccc(C=NNC(=O)COc2ccccc2C)cc1OC <|begin_of_text|>[SIMILAR]CCCOc1ccc(C=NNC(=O)COc2ccccc2C)cc1OC 0.25[/SIMILAR][TPSA]69.15[/TPSA][SAS]2.84[/SAS][WEIGHT]316.14[/WEIGHT][CLOGP]2.34[/CLOGP][QED]0.87[/QED][RINGCOUNT]3[/RINGCOUNT][FORMULA]C17H20N2O4[/FORMULA][SMILES]CC1Oc2ccccc2C=C1C=NNC(=O)C1CC1.COC(C)=O[/SMILES]\n"
     ]
    },
    {
     "name": "stderr",
     "output_type": "stream",
     "text": [
      "[16:41:24] DEPRECATION WARNING: please use MorganGenerator\n",
      "[16:41:24] DEPRECATION WARNING: please use MorganGenerator\n",
      "The attention mask and the pad token id were not set. As a consequence, you may observe unexpected behavior. Please pass your input's `attention_mask` to obtain reliable results.\n",
      "Setting `pad_token_id` to `eos_token_id`:None for open-end generation.\n"
     ]
    },
    {
     "name": "stdout",
     "output_type": "stream",
     "text": [
      "GT: 0.3 Gen: 0.32098765432098764 diff: 0.02 CCCOc1ccc(C=NNC(=O)COc2ccccc2C)cc1OC <|begin_of_text|>[SIMILAR]CCCOc1ccc(C=NNC(=O)COc2ccccc2C)cc1OC 0.30[/SIMILAR][TPSA]69.15[/TPSA][SAS]2.82[/SAS][WEIGHT]342.16[/WEIGHT][FORMULA]C19H22N2O4[/FORMULA][CLOGP]2.92[/CLOGP][RINGCOUNT]3[/RINGCOUNT][QED]0.84[/QED][SMILES]CCOc1cc(C=NNC(=O)C2CCCO2)ccc1-c1ccc(C)o1[/SMILES]\n"
     ]
    },
    {
     "name": "stderr",
     "output_type": "stream",
     "text": [
      "[16:41:25] DEPRECATION WARNING: please use MorganGenerator\n",
      "[16:41:25] DEPRECATION WARNING: please use MorganGenerator\n",
      "The attention mask and the pad token id were not set. As a consequence, you may observe unexpected behavior. Please pass your input's `attention_mask` to obtain reliable results.\n",
      "Setting `pad_token_id` to `eos_token_id`:None for open-end generation.\n"
     ]
    },
    {
     "name": "stdout",
     "output_type": "stream",
     "text": [
      "GT: 0.35 Gen: 0.47761194029850745 diff: 0.13 CCCOc1ccc(C=NNC(=O)COc2ccccc2C)cc1OC <|begin_of_text|>[SIMILAR]CCCOc1ccc(C=NNC(=O)COc2ccccc2C)cc1OC 0.35[/SIMILAR][TPSA]69.15[/TPSA][SAS]2.25[/SAS][WEIGHT]340.14[/WEIGHT][CLOGP]2.83[/CLOGP][FORMULA]C19H20N2O4[/FORMULA][RINGCOUNT]3[/RINGCOUNT][QED]0.85[/QED][SMILES]Cc1ccc(C)c(OCC(=O)NN=Cc2ccc3c(c2)OCCO3)c1[/SMILES]\n"
     ]
    },
    {
     "name": "stderr",
     "output_type": "stream",
     "text": [
      "[16:41:25] DEPRECATION WARNING: please use MorganGenerator\n",
      "[16:41:25] DEPRECATION WARNING: please use MorganGenerator\n",
      "The attention mask and the pad token id were not set. As a consequence, you may observe unexpected behavior. Please pass your input's `attention_mask` to obtain reliable results.\n",
      "Setting `pad_token_id` to `eos_token_id`:None for open-end generation.\n"
     ]
    },
    {
     "name": "stdout",
     "output_type": "stream",
     "text": [
      "GT: 0.4 Gen: 0.4861111111111111 diff: 0.09 CCCOc1ccc(C=NNC(=O)COc2ccccc2C)cc1OC <|begin_of_text|>[SIMILAR]CCCOc1ccc(C=NNC(=O)COc2ccccc2C)cc1OC 0.40[/SIMILAR][TPSA]69.15[/TPSA][WEIGHT]354.16[/WEIGHT][CLOGP]3.15[/CLOGP][SAS]2.66[/SAS][FORMULA]C20H22N2O4[/FORMULA][RINGCOUNT]3[/RINGCOUNT][QED]0.64[/QED][SMILES]COc1cc(C=NNC(=O)C2CCCO2)ccc1OCc1ccccc1C[/SMILES]\n"
     ]
    },
    {
     "name": "stderr",
     "output_type": "stream",
     "text": [
      "[16:41:26] DEPRECATION WARNING: please use MorganGenerator\n",
      "[16:41:26] DEPRECATION WARNING: please use MorganGenerator\n",
      "The attention mask and the pad token id were not set. As a consequence, you may observe unexpected behavior. Please pass your input's `attention_mask` to obtain reliable results.\n",
      "Setting `pad_token_id` to `eos_token_id`:None for open-end generation.\n"
     ]
    },
    {
     "name": "stdout",
     "output_type": "stream",
     "text": [
      "GT: 0.45 Gen: 0.4411764705882353 diff: 0.01 CCCOc1ccc(C=NNC(=O)COc2ccccc2C)cc1OC <|begin_of_text|>[SIMILAR]CCCOc1ccc(C=NNC(=O)COc2ccccc2C)cc1OC 0.45[/SIMILAR][RINGCOUNT]2[/RINGCOUNT][TPSA]69.15[/TPSA][WEIGHT]370.19[/WEIGHT][FORMULA]C21H26N2O4[/FORMULA][SAS]2.14[/SAS][CLOGP]3.66[/CLOGP][QED]0.57[/QED][SMILES]COc1cc(C=NNC(=O)COc2cc(C)ccc2C(C)C)cc(OC)c1[/SMILES]\n"
     ]
    },
    {
     "name": "stderr",
     "output_type": "stream",
     "text": [
      "[16:41:27] DEPRECATION WARNING: please use MorganGenerator\n",
      "[16:41:27] DEPRECATION WARNING: please use MorganGenerator\n",
      "The attention mask and the pad token id were not set. As a consequence, you may observe unexpected behavior. Please pass your input's `attention_mask` to obtain reliable results.\n",
      "Setting `pad_token_id` to `eos_token_id`:None for open-end generation.\n"
     ]
    },
    {
     "name": "stdout",
     "output_type": "stream",
     "text": [
      "GT: 0.5 Gen: 0.5737704918032787 diff: 0.07 CCCOc1ccc(C=NNC(=O)COc2ccccc2C)cc1OC <|begin_of_text|>[SIMILAR]CCCOc1ccc(C=NNC(=O)COc2ccccc2C)cc1OC 0.50[/SIMILAR][CLOGP]3.35[/CLOGP][TPSA]69.15[/TPSA][SAS]2.10[/SAS][WEIGHT]354.16[/WEIGHT][FORMULA]C20H22N2O4[/FORMULA][RINGCOUNT]2[/RINGCOUNT][QED]0.45[/QED][SMILES]COc1cc(C=NNC(C)=O)ccc1OCCOc1cc(C)ccc1C[/SMILES]\n"
     ]
    },
    {
     "name": "stderr",
     "output_type": "stream",
     "text": [
      "[16:41:28] DEPRECATION WARNING: please use MorganGenerator\n",
      "[16:41:28] DEPRECATION WARNING: please use MorganGenerator\n",
      "The attention mask and the pad token id were not set. As a consequence, you may observe unexpected behavior. Please pass your input's `attention_mask` to obtain reliable results.\n",
      "Setting `pad_token_id` to `eos_token_id`:None for open-end generation.\n"
     ]
    },
    {
     "name": "stdout",
     "output_type": "stream",
     "text": [
      "GT: 0.55 Gen: 0.5833333333333334 diff: 0.03 CCCOc1ccc(C=NNC(=O)COc2ccccc2C)cc1OC <|begin_of_text|>[SIMILAR]CCCOc1ccc(C=NNC(=O)COc2ccccc2C)cc1OC 0.55[/SIMILAR][CLOGP]3.29[/CLOGP][TPSA]69.15[/TPSA][SAS]2.10[/SAS][WEIGHT]354.16[/WEIGHT][FORMULA]C20H22N2O4[/FORMULA][RINGCOUNT]2[/RINGCOUNT][QED]0.45[/QED][SMILES]COc1cc(C=NNC(C)=O)ccc1OCCOc1ccc(C)cc1C[/SMILES]\n"
     ]
    },
    {
     "name": "stderr",
     "output_type": "stream",
     "text": [
      "[16:41:28] DEPRECATION WARNING: please use MorganGenerator\n",
      "[16:41:28] DEPRECATION WARNING: please use MorganGenerator\n",
      "The attention mask and the pad token id were not set. As a consequence, you may observe unexpected behavior. Please pass your input's `attention_mask` to obtain reliable results.\n",
      "Setting `pad_token_id` to `eos_token_id`:None for open-end generation.\n"
     ]
    },
    {
     "name": "stdout",
     "output_type": "stream",
     "text": [
      "GT: 0.6 Gen: 0.5538461538461539 diff: 0.05 CCCOc1ccc(C=NNC(=O)COc2ccccc2C)cc1OC <|begin_of_text|>[SIMILAR]CCCOc1ccc(C=NNC(=O)COc2ccccc2C)cc1OC 0.60[/SIMILAR][CLOGP]3.29[/CLOGP][TPSA]69.15[/TPSA][SAS]2.04[/SAS][RINGCOUNT]2[/RINGCOUNT][WEIGHT]356.17[/WEIGHT][FORMULA]C20H24N2O4[/FORMULA][QED]0.58[/QED][SMILES]COc1cc(C=NNC(=O)COc2ccc(C)c(C)c2)ccc1OC(C)C[/SMILES]\n"
     ]
    },
    {
     "name": "stderr",
     "output_type": "stream",
     "text": [
      "[16:41:29] DEPRECATION WARNING: please use MorganGenerator\n",
      "[16:41:29] DEPRECATION WARNING: please use MorganGenerator\n",
      "The attention mask and the pad token id were not set. As a consequence, you may observe unexpected behavior. Please pass your input's `attention_mask` to obtain reliable results.\n",
      "Setting `pad_token_id` to `eos_token_id`:None for open-end generation.\n"
     ]
    },
    {
     "name": "stdout",
     "output_type": "stream",
     "text": [
      "GT: 0.65 Gen: 0.6779661016949152 diff: 0.03 CCCOc1ccc(C=NNC(=O)COc2ccccc2C)cc1OC <|begin_of_text|>[SIMILAR]CCCOc1ccc(C=NNC(=O)COc2ccccc2C)cc1OC 0.65[/SIMILAR][CLOGP]3.29[/CLOGP][TPSA]69.15[/TPSA][SAS]2.02[/SAS][RINGCOUNT]2[/RINGCOUNT][WEIGHT]356.17[/WEIGHT][FORMULA]C20H24N2O4[/FORMULA][QED]0.58[/QED][SMILES]CCOc1ccc(C=NNC(=O)COc2cc(C)ccc2C)cc1OC[/SMILES]\n"
     ]
    },
    {
     "name": "stderr",
     "output_type": "stream",
     "text": [
      "[16:41:30] DEPRECATION WARNING: please use MorganGenerator\n",
      "[16:41:30] DEPRECATION WARNING: please use MorganGenerator\n",
      "The attention mask and the pad token id were not set. As a consequence, you may observe unexpected behavior. Please pass your input's `attention_mask` to obtain reliable results.\n",
      "Setting `pad_token_id` to `eos_token_id`:None for open-end generation.\n"
     ]
    },
    {
     "name": "stdout",
     "output_type": "stream",
     "text": [
      "GT: 0.7 Gen: 0.8181818181818182 diff: 0.12 CCCOc1ccc(C=NNC(=O)COc2ccccc2C)cc1OC <|begin_of_text|>[SIMILAR]CCCOc1ccc(C=NNC(=O)COc2ccccc2C)cc1OC 0.70[/SIMILAR][TPSA]69.15[/TPSA][WEIGHT]370.19[/WEIGHT][FORMULA]C21H26N2O4[/FORMULA][SAS]2.05[/SAS][CLOGP]3.70[/CLOGP][QED]0.54[/QED][RINGCOUNT]2[/RINGCOUNT][SMILES]CCCOc1ccc(C=NNC(=O)COc2ccc(C)cc2C)cc1OC[/SMILES]\n"
     ]
    },
    {
     "name": "stderr",
     "output_type": "stream",
     "text": [
      "[16:41:30] DEPRECATION WARNING: please use MorganGenerator\n",
      "[16:41:30] DEPRECATION WARNING: please use MorganGenerator\n",
      "The attention mask and the pad token id were not set. As a consequence, you may observe unexpected behavior. Please pass your input's `attention_mask` to obtain reliable results.\n",
      "Setting `pad_token_id` to `eos_token_id`:None for open-end generation.\n"
     ]
    },
    {
     "name": "stdout",
     "output_type": "stream",
     "text": [
      "GT: 0.75 Gen: 0.8181818181818182 diff: 0.07 CCCOc1ccc(C=NNC(=O)COc2ccccc2C)cc1OC <|begin_of_text|>[SIMILAR]CCCOc1ccc(C=NNC(=O)COc2ccccc2C)cc1OC 0.75[/SIMILAR][TPSA]69.15[/TPSA][WEIGHT]370.19[/WEIGHT][FORMULA]C21H26N2O4[/FORMULA][SAS]2.04[/SAS][CLOGP]3.74[/CLOGP][QED]0.54[/QED][RINGCOUNT]2[/RINGCOUNT][SMILES]CCCOc1ccc(C=NNC(=O)COc2ccc(C)cc2C)cc1OC[/SMILES]\n"
     ]
    },
    {
     "name": "stderr",
     "output_type": "stream",
     "text": [
      "[16:41:31] DEPRECATION WARNING: please use MorganGenerator\n",
      "[16:41:31] DEPRECATION WARNING: please use MorganGenerator\n",
      "The attention mask and the pad token id were not set. As a consequence, you may observe unexpected behavior. Please pass your input's `attention_mask` to obtain reliable results.\n",
      "Setting `pad_token_id` to `eos_token_id`:None for open-end generation.\n"
     ]
    },
    {
     "name": "stdout",
     "output_type": "stream",
     "text": [
      "GT: 0.8 Gen: 0.6190476190476191 diff: 0.18 CCCOc1ccc(C=NNC(=O)COc2ccccc2C)cc1OC <|begin_of_text|>[SIMILAR]CCCOc1ccc(C=NNC(=O)COc2ccccc2C)cc1OC 0.80[/SIMILAR][TPSA]69.15[/TPSA][WEIGHT]370.19[/WEIGHT][FORMULA]C21H26N2O4[/FORMULA][SAS]2.04[/SAS][CLOGP]3.75[/CLOGP][RINGCOUNT]2[/RINGCOUNT][QED]0.54[/QED][SMILES]CCCOc1ccc(C=NNC(=O)COc2ccccc2C(C)C)cc1O[/SMILES]\n"
     ]
    },
    {
     "name": "stderr",
     "output_type": "stream",
     "text": [
      "[16:41:32] DEPRECATION WARNING: please use MorganGenerator\n",
      "[16:41:32] DEPRECATION WARNING: please use MorganGenerator\n",
      "The attention mask and the pad token id were not set. As a consequence, you may observe unexpected behavior. Please pass your input's `attention_mask` to obtain reliable results.\n",
      "Setting `pad_token_id` to `eos_token_id`:None for open-end generation.\n"
     ]
    },
    {
     "name": "stdout",
     "output_type": "stream",
     "text": [
      "GT: 0.85 Gen: 0.8035714285714286 diff: 0.05 CCCOc1ccc(C=NNC(=O)COc2ccccc2C)cc1OC <|begin_of_text|>[SIMILAR]CCCOc1ccc(C=NNC(=O)COc2ccccc2C)cc1OC 0.85[/SIMILAR][TPSA]69.15[/TPSA][QED]0.55[/QED][FORMULA]C19H21ClN2O4[/FORMULA][SAS]2.01[/SAS][WEIGHT]376.12[/WEIGHT][RINGCOUNT]2[/RINGCOUNT][CLOGP]3.62[/CLOGP][SMILES]CCCOc1ccc(C=NNC(=O)COc2ccccc2Cl)cc1OC[/SMILES]\n"
     ]
    },
    {
     "name": "stderr",
     "output_type": "stream",
     "text": [
      "[16:41:32] DEPRECATION WARNING: please use MorganGenerator\n",
      "[16:41:32] DEPRECATION WARNING: please use MorganGenerator\n",
      "The attention mask and the pad token id were not set. As a consequence, you may observe unexpected behavior. Please pass your input's `attention_mask` to obtain reliable results.\n",
      "Setting `pad_token_id` to `eos_token_id`:None for open-end generation.\n"
     ]
    },
    {
     "name": "stdout",
     "output_type": "stream",
     "text": [
      "GT: 0.9 Gen: 0.8035714285714286 diff: 0.1 CCCOc1ccc(C=NNC(=O)COc2ccccc2C)cc1OC <|begin_of_text|>[SIMILAR]CCCOc1ccc(C=NNC(=O)COc2ccccc2C)cc1OC 0.90[/SIMILAR][RINGCOUNT]2[/RINGCOUNT][TPSA]69.15[/TPSA][FORMULA]C19H21BrN2O4[/FORMULA][SAS]2.03[/SAS][CLOGP]3.75[/CLOGP][WEIGHT]420.07[/WEIGHT][QED]0.50[/QED][SMILES]CCCOc1ccc(C=NNC(=O)COc2ccccc2Br)cc1OC[/SMILES]\n"
     ]
    },
    {
     "name": "stderr",
     "output_type": "stream",
     "text": [
      "[16:41:33] DEPRECATION WARNING: please use MorganGenerator\n",
      "[16:41:33] DEPRECATION WARNING: please use MorganGenerator\n",
      "The attention mask and the pad token id were not set. As a consequence, you may observe unexpected behavior. Please pass your input's `attention_mask` to obtain reliable results.\n",
      "Setting `pad_token_id` to `eos_token_id`:None for open-end generation.\n"
     ]
    },
    {
     "name": "stdout",
     "output_type": "stream",
     "text": [
      "GT: 0.95 Gen: 1.0 diff: 0.05 CCCOc1ccc(C=NNC(=O)COc2ccccc2C)cc1OC <|begin_of_text|>[SIMILAR]CCCOc1ccc(C=NNC(=O)COc2ccccc2C)cc1OC 0.95[/SIMILAR][TPSA]69.15[/TPSA][FORMULA]C20H24N2O4[/FORMULA][SAS]1.96[/SAS][WEIGHT]356.17[/WEIGHT][RINGCOUNT]2[/RINGCOUNT][CLOGP]3.40[/CLOGP][QED]0.55[/QED][SMILES]CCCOc1ccc(C=NNC(=O)COc2ccccc2C)cc1OC[/SMILES]\n"
     ]
    },
    {
     "name": "stderr",
     "output_type": "stream",
     "text": [
      "[16:41:34] DEPRECATION WARNING: please use MorganGenerator\n",
      "[16:41:34] DEPRECATION WARNING: please use MorganGenerator\n",
      "The attention mask and the pad token id were not set. As a consequence, you may observe unexpected behavior. Please pass your input's `attention_mask` to obtain reliable results.\n",
      "Setting `pad_token_id` to `eos_token_id`:None for open-end generation.\n"
     ]
    },
    {
     "name": "stdout",
     "output_type": "stream",
     "text": [
      "GT: 1.0 Gen: 1.0 diff: 0.0 CCCOc1ccc(C=NNC(=O)COc2ccccc2C)cc1OC <|begin_of_text|>[SIMILAR]CCCOc1ccc(C=NNC(=O)COc2ccccc2C)cc1OC 1.00[/SIMILAR][CLOGP]3.33[/CLOGP][FORMULA]C20H24N2O4[/FORMULA][SAS]1.97[/SAS][RINGCOUNT]2[/RINGCOUNT][QED]0.55[/QED][WEIGHT]356.17[/WEIGHT][TPSA]69.15[/TPSA][SMILES]CCCOc1ccc(C=NNC(=O)COc2ccccc2C)cc1OC[/SMILES]\n"
     ]
    },
    {
     "name": "stderr",
     "output_type": "stream",
     "text": [
      "[16:41:34] DEPRECATION WARNING: please use MorganGenerator\n",
      "[16:41:34] DEPRECATION WARNING: please use MorganGenerator\n",
      "The attention mask and the pad token id were not set. As a consequence, you may observe unexpected behavior. Please pass your input's `attention_mask` to obtain reliable results.\n",
      "Setting `pad_token_id` to `eos_token_id`:None for open-end generation.\n"
     ]
    },
    {
     "name": "stdout",
     "output_type": "stream",
     "text": [
      "GT: 0.2 Gen: 0.24050632911392406 diff: 0.04 CC(C)(C)OC(=O)NCC(=O)N1CCOC(c2ccccc2F)C1 <|begin_of_text|>[SIMILAR]CC(C)(C)OC(=O)NCC(=O)N1CCOC(c2ccccc2F)C1 0.20[/SIMILAR][TPSA]67.87[/TPSA][WEIGHT]348.20[/WEIGHT][CLOGP]2.84[/CLOGP][FORMULA]C19H28N2O4[/FORMULA][RINGCOUNT]2[/RINGCOUNT][SAS]3.14[/SAS][SMILES]CC(C)(C)OC(=O)N1CC(=O)NC(COCc2ccccc2)C1(C)C[/SMILES]\n"
     ]
    },
    {
     "name": "stderr",
     "output_type": "stream",
     "text": [
      "[16:41:35] DEPRECATION WARNING: please use MorganGenerator\n",
      "[16:41:35] DEPRECATION WARNING: please use MorganGenerator\n",
      "The attention mask and the pad token id were not set. As a consequence, you may observe unexpected behavior. Please pass your input's `attention_mask` to obtain reliable results.\n",
      "Setting `pad_token_id` to `eos_token_id`:None for open-end generation.\n"
     ]
    },
    {
     "name": "stdout",
     "output_type": "stream",
     "text": [
      "GT: 0.25 Gen: 0.42028985507246375 diff: 0.17 CC(C)(C)OC(=O)NCC(=O)N1CCOC(c2ccccc2F)C1 <|begin_of_text|>[SIMILAR]CC(C)(C)OC(=O)NCC(=O)N1CCOC(c2ccccc2F)C1 0.25[/SIMILAR][TPSA]67.87[/TPSA][WEIGHT]348.20[/WEIGHT][FORMULA]C19H28N2O4[/FORMULA][CLOGP]2.80[/CLOGP][RINGCOUNT]2[/RINGCOUNT][SAS]2.96[/SAS][SMILES]CC(C)(C)OC(=O)NCC(=O)N1CC(C)(C)OCC1c1ccccc1[/SMILES]\n"
     ]
    },
    {
     "name": "stderr",
     "output_type": "stream",
     "text": [
      "[16:41:36] DEPRECATION WARNING: please use MorganGenerator\n",
      "[16:41:36] DEPRECATION WARNING: please use MorganGenerator\n",
      "The attention mask and the pad token id were not set. As a consequence, you may observe unexpected behavior. Please pass your input's `attention_mask` to obtain reliable results.\n",
      "Setting `pad_token_id` to `eos_token_id`:None for open-end generation.\n"
     ]
    },
    {
     "name": "stdout",
     "output_type": "stream",
     "text": [
      "GT: 0.3 Gen: 0.42028985507246375 diff: 0.12 CC(C)(C)OC(=O)NCC(=O)N1CCOC(c2ccccc2F)C1 <|begin_of_text|>[SIMILAR]CC(C)(C)OC(=O)NCC(=O)N1CCOC(c2ccccc2F)C1 0.30[/SIMILAR][TPSA]67.87[/TPSA][WEIGHT]348.20[/WEIGHT][CLOGP]2.84[/CLOGP][FORMULA]C19H28N2O4[/FORMULA][RINGCOUNT]2[/RINGCOUNT][SAS]2.99[/SAS][SMILES]CC(C)(C)OC(=O)NCC(=O)N1CC(C)(C)OCC1c1ccccc1[/SMILES]\n"
     ]
    },
    {
     "name": "stderr",
     "output_type": "stream",
     "text": [
      "[16:41:36] DEPRECATION WARNING: please use MorganGenerator\n",
      "[16:41:36] DEPRECATION WARNING: please use MorganGenerator\n",
      "The attention mask and the pad token id were not set. As a consequence, you may observe unexpected behavior. Please pass your input's `attention_mask` to obtain reliable results.\n",
      "Setting `pad_token_id` to `eos_token_id`:None for open-end generation.\n"
     ]
    },
    {
     "name": "stdout",
     "output_type": "stream",
     "text": [
      "GT: 0.35 Gen: 0.5 diff: 0.15 CC(C)(C)OC(=O)NCC(=O)N1CCOC(c2ccccc2F)C1 <|begin_of_text|>[SIMILAR]CC(C)(C)OC(=O)NCC(=O)N1CCOC(c2ccccc2F)C1 0.35[/SIMILAR][TPSA]67.87[/TPSA][WEIGHT]348.20[/WEIGHT][CLOGP]2.84[/CLOGP][FORMULA]C19H28N2O4[/FORMULA][RINGCOUNT]2[/RINGCOUNT][SAS]2.62[/SAS][SMILES]CC(C)(C)OC(=O)NCC(=O)N1CCCC(OCc2ccccc2)C1[/SMILES]\n"
     ]
    },
    {
     "name": "stderr",
     "output_type": "stream",
     "text": [
      "[16:41:37] DEPRECATION WARNING: please use MorganGenerator\n",
      "[16:41:37] DEPRECATION WARNING: please use MorganGenerator\n",
      "The attention mask and the pad token id were not set. As a consequence, you may observe unexpected behavior. Please pass your input's `attention_mask` to obtain reliable results.\n",
      "Setting `pad_token_id` to `eos_token_id`:None for open-end generation.\n"
     ]
    },
    {
     "name": "stdout",
     "output_type": "stream",
     "text": [
      "GT: 0.4 Gen: 0.5 diff: 0.1 CC(C)(C)OC(=O)NCC(=O)N1CCOC(c2ccccc2F)C1 <|begin_of_text|>[SIMILAR]CC(C)(C)OC(=O)NCC(=O)N1CCOC(c2ccccc2F)C1 0.40[/SIMILAR][TPSA]67.87[/TPSA][WEIGHT]348.20[/WEIGHT][CLOGP]2.84[/CLOGP][FORMULA]C19H28N2O4[/FORMULA][RINGCOUNT]2[/RINGCOUNT][SMILES]CC(C)(C)OC(=O)NCC(=O)N1CCC(COCc2ccccc2)C1[/SMILES]\n"
     ]
    },
    {
     "name": "stderr",
     "output_type": "stream",
     "text": [
      "[16:41:37] DEPRECATION WARNING: please use MorganGenerator\n",
      "[16:41:37] DEPRECATION WARNING: please use MorganGenerator\n",
      "The attention mask and the pad token id were not set. As a consequence, you may observe unexpected behavior. Please pass your input's `attention_mask` to obtain reliable results.\n",
      "Setting `pad_token_id` to `eos_token_id`:None for open-end generation.\n"
     ]
    },
    {
     "name": "stdout",
     "output_type": "stream",
     "text": [
      "GT: 0.45 Gen: 0.5 diff: 0.05 CC(C)(C)OC(=O)NCC(=O)N1CCOC(c2ccccc2F)C1 <|begin_of_text|>[SIMILAR]CC(C)(C)OC(=O)NCC(=O)N1CCOC(c2ccccc2F)C1 0.45[/SIMILAR][TPSA]67.87[/TPSA][WEIGHT]348.20[/WEIGHT][FORMULA]C19H28N2O4[/FORMULA][CLOGP]2.80[/CLOGP][RINGCOUNT]2[/RINGCOUNT][SMILES]CC(C)(C)OC(=O)NCC(=O)N1CCC(COCc2ccccc2)C1[/SMILES]\n"
     ]
    },
    {
     "name": "stderr",
     "output_type": "stream",
     "text": [
      "[16:41:38] DEPRECATION WARNING: please use MorganGenerator\n",
      "[16:41:38] DEPRECATION WARNING: please use MorganGenerator\n",
      "The attention mask and the pad token id were not set. As a consequence, you may observe unexpected behavior. Please pass your input's `attention_mask` to obtain reliable results.\n",
      "Setting `pad_token_id` to `eos_token_id`:None for open-end generation.\n"
     ]
    },
    {
     "name": "stdout",
     "output_type": "stream",
     "text": [
      "GT: 0.5 Gen: 0.5 diff: 0.0 CC(C)(C)OC(=O)NCC(=O)N1CCOC(c2ccccc2F)C1 <|begin_of_text|>[SIMILAR]CC(C)(C)OC(=O)NCC(=O)N1CCOC(c2ccccc2F)C1 0.50[/SIMILAR][TPSA]67.87[/TPSA][WEIGHT]348.20[/WEIGHT][FORMULA]C19H28N2O4[/FORMULA][CLOGP]2.80[/CLOGP][RINGCOUNT]2[/RINGCOUNT][SMILES]CC(C)(C)OC(=O)NCC(=O)N1CCC(COCc2ccccc2)C1[/SMILES]\n"
     ]
    },
    {
     "name": "stderr",
     "output_type": "stream",
     "text": [
      "[16:41:39] DEPRECATION WARNING: please use MorganGenerator\n",
      "[16:41:39] DEPRECATION WARNING: please use MorganGenerator\n",
      "The attention mask and the pad token id were not set. As a consequence, you may observe unexpected behavior. Please pass your input's `attention_mask` to obtain reliable results.\n",
      "Setting `pad_token_id` to `eos_token_id`:None for open-end generation.\n"
     ]
    },
    {
     "name": "stdout",
     "output_type": "stream",
     "text": [
      "GT: 0.55 Gen: 0.5967741935483871 diff: 0.05 CC(C)(C)OC(=O)NCC(=O)N1CCOC(c2ccccc2F)C1 <|begin_of_text|>[SIMILAR]CC(C)(C)OC(=O)NCC(=O)N1CCOC(c2ccccc2F)C1 0.55[/SIMILAR][TPSA]67.87[/TPSA][WEIGHT]348.20[/WEIGHT][FORMULA]C19H28N2O4[/FORMULA][CLOGP]2.80[/CLOGP][RINGCOUNT]2[/RINGCOUNT][QED]0.91[/QED][SAS]2.68[/SAS][SMILES]Cc1ccc(C2CN(C(=O)CNC(=O)OC(C)(C)C)CCCO2)cc1[/SMILES]\n"
     ]
    },
    {
     "name": "stderr",
     "output_type": "stream",
     "text": [
      "[16:41:40] DEPRECATION WARNING: please use MorganGenerator\n",
      "[16:41:40] DEPRECATION WARNING: please use MorganGenerator\n",
      "The attention mask and the pad token id were not set. As a consequence, you may observe unexpected behavior. Please pass your input's `attention_mask` to obtain reliable results.\n",
      "Setting `pad_token_id` to `eos_token_id`:None for open-end generation.\n"
     ]
    },
    {
     "name": "stdout",
     "output_type": "stream",
     "text": [
      "GT: 0.6 Gen: 0.5967741935483871 diff: 0.0 CC(C)(C)OC(=O)NCC(=O)N1CCOC(c2ccccc2F)C1 <|begin_of_text|>[SIMILAR]CC(C)(C)OC(=O)NCC(=O)N1CCOC(c2ccccc2F)C1 0.60[/SIMILAR][TPSA]67.87[/TPSA][WEIGHT]348.20[/WEIGHT][FORMULA]C19H28N2O4[/FORMULA][CLOGP]2.84[/CLOGP][RINGCOUNT]2[/RINGCOUNT][QED]0.91[/QED][SAS]2.69[/SAS][SMILES]Cc1ccc(C2CN(C(=O)CNC(=O)OC(C)(C)C)CCCO2)cc1[/SMILES]\n"
     ]
    },
    {
     "name": "stderr",
     "output_type": "stream",
     "text": [
      "[16:41:40] DEPRECATION WARNING: please use MorganGenerator\n",
      "[16:41:40] DEPRECATION WARNING: please use MorganGenerator\n",
      "The attention mask and the pad token id were not set. As a consequence, you may observe unexpected behavior. Please pass your input's `attention_mask` to obtain reliable results.\n",
      "Setting `pad_token_id` to `eos_token_id`:None for open-end generation.\n"
     ]
    },
    {
     "name": "stdout",
     "output_type": "stream",
     "text": [
      "GT: 0.65 Gen: 0.65 diff: 0.0 CC(C)(C)OC(=O)NCC(=O)N1CCOC(c2ccccc2F)C1 <|begin_of_text|>[SIMILAR]CC(C)(C)OC(=O)NCC(=O)N1CCOC(c2ccccc2F)C1 0.65[/SIMILAR][TPSA]67.87[/TPSA][WEIGHT]348.20[/WEIGHT][FORMULA]C19H28N2O4[/FORMULA][CLOGP]2.84[/CLOGP][RINGCOUNT]2[/RINGCOUNT][QED]0.91[/QED][SAS]2.71[/SAS][SMILES]Cc1ccc(C2CN(C(=O)CNC(=O)OC(C)(C)C)CCO2)cc1C[/SMILES]\n"
     ]
    },
    {
     "name": "stderr",
     "output_type": "stream",
     "text": [
      "[16:41:41] DEPRECATION WARNING: please use MorganGenerator\n",
      "[16:41:41] DEPRECATION WARNING: please use MorganGenerator\n",
      "The attention mask and the pad token id were not set. As a consequence, you may observe unexpected behavior. Please pass your input's `attention_mask` to obtain reliable results.\n",
      "Setting `pad_token_id` to `eos_token_id`:None for open-end generation.\n"
     ]
    },
    {
     "name": "stdout",
     "output_type": "stream",
     "text": [
      "GT: 0.7 Gen: 0.6896551724137931 diff: 0.01 CC(C)(C)OC(=O)NCC(=O)N1CCOC(c2ccccc2F)C1 <|begin_of_text|>[SIMILAR]CC(C)(C)OC(=O)NCC(=O)N1CCOC(c2ccccc2F)C1 0.70[/SIMILAR][TPSA]67.87[/TPSA][WEIGHT]336.15[/WEIGHT][SAS]2.69[/SAS][CLOGP]2.23[/CLOGP][RINGCOUNT]2[/RINGCOUNT][QED]0.92[/QED][FORMULA]C17H21FN2O4[/FORMULA][SMILES]CC(C)(C)OC(=O)NCC(=O)N1CCOC1c1ccccc1F[/SMILES]\n"
     ]
    },
    {
     "name": "stderr",
     "output_type": "stream",
     "text": [
      "[16:41:42] DEPRECATION WARNING: please use MorganGenerator\n",
      "[16:41:42] DEPRECATION WARNING: please use MorganGenerator\n",
      "The attention mask and the pad token id were not set. As a consequence, you may observe unexpected behavior. Please pass your input's `attention_mask` to obtain reliable results.\n",
      "Setting `pad_token_id` to `eos_token_id`:None for open-end generation.\n"
     ]
    },
    {
     "name": "stdout",
     "output_type": "stream",
     "text": [
      "GT: 0.75 Gen: 0.6896551724137931 diff: 0.06 CC(C)(C)OC(=O)NCC(=O)N1CCOC(c2ccccc2F)C1 <|begin_of_text|>[SIMILAR]CC(C)(C)OC(=O)NCC(=O)N1CCOC(c2ccccc2F)C1 0.75[/SIMILAR][TPSA]67.87[/TPSA][WEIGHT]336.15[/WEIGHT][SAS]2.71[/SAS][CLOGP]2.23[/CLOGP][RINGCOUNT]2[/RINGCOUNT][QED]0.92[/QED][FORMULA]C17H21FN2O4[/FORMULA][SMILES]CC(C)(C)OC(=O)NCC(=O)N1CCOC1c1ccccc1F[/SMILES]\n"
     ]
    },
    {
     "name": "stderr",
     "output_type": "stream",
     "text": [
      "[16:41:42] DEPRECATION WARNING: please use MorganGenerator\n",
      "[16:41:42] DEPRECATION WARNING: please use MorganGenerator\n",
      "The attention mask and the pad token id were not set. As a consequence, you may observe unexpected behavior. Please pass your input's `attention_mask` to obtain reliable results.\n",
      "Setting `pad_token_id` to `eos_token_id`:None for open-end generation.\n"
     ]
    },
    {
     "name": "stdout",
     "output_type": "stream",
     "text": [
      "GT: 0.8 Gen: 0.6896551724137931 diff: 0.11 CC(C)(C)OC(=O)NCC(=O)N1CCOC(c2ccccc2F)C1 <|begin_of_text|>[SIMILAR]CC(C)(C)OC(=O)NCC(=O)N1CCOC(c2ccccc2F)C1 0.80[/SIMILAR][TPSA]67.87[/TPSA][WEIGHT]336.15[/WEIGHT][CLOGP]2.23[/CLOGP][SAS]2.71[/SAS][RINGCOUNT]2[/RINGCOUNT][QED]0.92[/QED][FORMULA]C17H21FN2O4[/FORMULA][SMILES]CC(C)(C)OC(=O)NCC(=O)N1CCOC1c1ccccc1F[/SMILES]\n"
     ]
    },
    {
     "name": "stderr",
     "output_type": "stream",
     "text": [
      "[16:41:43] DEPRECATION WARNING: please use MorganGenerator\n",
      "[16:41:43] DEPRECATION WARNING: please use MorganGenerator\n",
      "The attention mask and the pad token id were not set. As a consequence, you may observe unexpected behavior. Please pass your input's `attention_mask` to obtain reliable results.\n",
      "Setting `pad_token_id` to `eos_token_id`:None for open-end generation.\n"
     ]
    },
    {
     "name": "stdout",
     "output_type": "stream",
     "text": [
      "GT: 0.85 Gen: 1.0 diff: 0.15 CC(C)(C)OC(=O)NCC(=O)N1CCOC(c2ccccc2F)C1 <|begin_of_text|>[SIMILAR]CC(C)(C)OC(=O)NCC(=O)N1CCOC(c2ccccc2F)C1 0.85[/SIMILAR][TPSA]67.87[/TPSA][WEIGHT]338.16[/WEIGHT][SAS]2.71[/SAS][RINGCOUNT]2[/RINGCOUNT][CLOGP]2.35[/CLOGP][FORMULA]C17H23FN2O4[/FORMULA][SMILES]CC(C)(C)OC(=O)NCC(=O)N1CCOC(c2ccccc2F)C1[/SMILES]\n"
     ]
    },
    {
     "name": "stderr",
     "output_type": "stream",
     "text": [
      "[16:41:44] DEPRECATION WARNING: please use MorganGenerator\n",
      "[16:41:44] DEPRECATION WARNING: please use MorganGenerator\n",
      "The attention mask and the pad token id were not set. As a consequence, you may observe unexpected behavior. Please pass your input's `attention_mask` to obtain reliable results.\n",
      "Setting `pad_token_id` to `eos_token_id`:None for open-end generation.\n"
     ]
    },
    {
     "name": "stdout",
     "output_type": "stream",
     "text": [
      "GT: 0.9 Gen: 1.0 diff: 0.1 CC(C)(C)OC(=O)NCC(=O)N1CCOC(c2ccccc2F)C1 <|begin_of_text|>[SIMILAR]CC(C)(C)OC(=O)NCC(=O)N1CCOC(c2ccccc2F)C1 0.90[/SIMILAR][WEIGHT]338.16[/WEIGHT][FORMULA]C17H23FN2O4[/FORMULA][SAS]2.72[/SAS][RINGCOUNT]2[/RINGCOUNT][TPSA]67.87[/TPSA][CLOGP]2.30[/CLOGP][QED]0.92[/QED][SMILES]CC(C)(C)OC(=O)NCC(=O)N1CCOC(c2ccccc2F)C1[/SMILES]\n"
     ]
    },
    {
     "name": "stderr",
     "output_type": "stream",
     "text": [
      "[16:41:44] DEPRECATION WARNING: please use MorganGenerator\n",
      "[16:41:44] DEPRECATION WARNING: please use MorganGenerator\n",
      "The attention mask and the pad token id were not set. As a consequence, you may observe unexpected behavior. Please pass your input's `attention_mask` to obtain reliable results.\n",
      "Setting `pad_token_id` to `eos_token_id`:None for open-end generation.\n"
     ]
    },
    {
     "name": "stdout",
     "output_type": "stream",
     "text": [
      "GT: 0.95 Gen: 0.8363636363636363 diff: 0.11 CC(C)(C)OC(=O)NCC(=O)N1CCOC(c2ccccc2F)C1 <|begin_of_text|>[SIMILAR]CC(C)(C)OC(=O)NCC(=O)N1CCOC(c2ccccc2F)C1 0.95[/SIMILAR][TPSA]67.87[/TPSA][WEIGHT]352.18[/WEIGHT][SAS]2.75[/SAS][FORMULA]C18H25FN2O4[/FORMULA][CLOGP]2.66[/CLOGP][RINGCOUNT]2[/RINGCOUNT][QED]0.91[/QED][SMILES]CC(C)(C)OC(=O)NCC(=O)N1CCOC(c2ccccc2F)CC1[/SMILES]\n"
     ]
    },
    {
     "name": "stderr",
     "output_type": "stream",
     "text": [
      "[16:41:45] DEPRECATION WARNING: please use MorganGenerator\n",
      "[16:41:45] DEPRECATION WARNING: please use MorganGenerator\n",
      "The attention mask and the pad token id were not set. As a consequence, you may observe unexpected behavior. Please pass your input's `attention_mask` to obtain reliable results.\n",
      "Setting `pad_token_id` to `eos_token_id`:None for open-end generation.\n"
     ]
    },
    {
     "name": "stdout",
     "output_type": "stream",
     "text": [
      "GT: 1.0 Gen: 1.0 diff: 0.0 CC(C)(C)OC(=O)NCC(=O)N1CCOC(c2ccccc2F)C1 <|begin_of_text|>[SIMILAR]CC(C)(C)OC(=O)NCC(=O)N1CCOC(c2ccccc2F)C1 1.00[/SIMILAR][TPSA]67.87[/TPSA][WEIGHT]338.16[/WEIGHT][FORMULA]C17H23FN2O4[/FORMULA][SAS]2.71[/SAS][CLOGP]2.29[/CLOGP][QED]0.92[/QED][RINGCOUNT]2[/RINGCOUNT][SMILES]CC(C)(C)OC(=O)NCC(=O)N1CCOC(c2ccccc2F)C1[/SMILES]\n"
     ]
    },
    {
     "name": "stderr",
     "output_type": "stream",
     "text": [
      "[16:41:46] DEPRECATION WARNING: please use MorganGenerator\n",
      "[16:41:46] DEPRECATION WARNING: please use MorganGenerator\n",
      "The attention mask and the pad token id were not set. As a consequence, you may observe unexpected behavior. Please pass your input's `attention_mask` to obtain reliable results.\n",
      "Setting `pad_token_id` to `eos_token_id`:None for open-end generation.\n"
     ]
    },
    {
     "name": "stdout",
     "output_type": "stream",
     "text": [
      "GT: 0.2 Gen: 0.39285714285714285 diff: 0.19 CCOc1cc(OC)c(Br)cc1CC1CCCNC1 <|begin_of_text|>[SIMILAR]CCOc1cc(OC)c(Br)cc1CC1CCCNC1 0.20[/SIMILAR][QED]0.90[/QED][WEIGHT]313.07[/WEIGHT][TPSA]30.49[/TPSA][CLOGP]3.29[/CLOGP][RINGCOUNT]2[/RINGCOUNT][FORMULA]C14H20BrNO2[/FORMULA][SAS]3.21[/SAS][SMILES]COc1c(C)cc(Br)c(OC)c1C1CCCNC1[/SMILES]\n"
     ]
    },
    {
     "name": "stderr",
     "output_type": "stream",
     "text": [
      "[16:41:46] DEPRECATION WARNING: please use MorganGenerator\n",
      "[16:41:46] DEPRECATION WARNING: please use MorganGenerator\n",
      "The attention mask and the pad token id were not set. As a consequence, you may observe unexpected behavior. Please pass your input's `attention_mask` to obtain reliable results.\n",
      "Setting `pad_token_id` to `eos_token_id`:None for open-end generation.\n"
     ]
    },
    {
     "name": "stdout",
     "output_type": "stream",
     "text": [
      "GT: 0.25 Gen: 0.26229508196721313 diff: 0.01 CCOc1cc(OC)c(Br)cc1CC1CCCNC1 <|begin_of_text|>[SIMILAR]CCOc1cc(OC)c(Br)cc1CC1CCCNC1 0.25[/SIMILAR][QED]0.90[/QED][WEIGHT]313.07[/WEIGHT][CLOGP]3.39[/CLOGP][TPSA]30.49[/TPSA][RINGCOUNT]2[/RINGCOUNT][FORMULA]C14H20BrNO2[/FORMULA][SAS]3.21[/SAS][SMILES]COc1cc(OC)c(C2(C)CCCN2)c(Br)c1C[/SMILES]\n"
     ]
    },
    {
     "name": "stderr",
     "output_type": "stream",
     "text": [
      "[16:41:47] DEPRECATION WARNING: please use MorganGenerator\n",
      "[16:41:47] DEPRECATION WARNING: please use MorganGenerator\n",
      "The attention mask and the pad token id were not set. As a consequence, you may observe unexpected behavior. Please pass your input's `attention_mask` to obtain reliable results.\n",
      "Setting `pad_token_id` to `eos_token_id`:None for open-end generation.\n"
     ]
    },
    {
     "name": "stdout",
     "output_type": "stream",
     "text": [
      "GT: 0.3 Gen: 0.42592592592592593 diff: 0.13 CCOc1cc(OC)c(Br)cc1CC1CCCNC1 <|begin_of_text|>[SIMILAR]CCOc1cc(OC)c(Br)cc1CC1CCCNC1 0.30[/SIMILAR][QED]0.90[/QED][WEIGHT]313.07[/WEIGHT][CLOGP]3.29[/CLOGP][TPSA]30.49[/TPSA][RINGCOUNT]2[/RINGCOUNT][FORMULA]C14H20BrNO2[/FORMULA][SAS]2.95[/SAS][SMILES]COc1cc(OC)c(C2CCCNC2)c(Br)c1C[/SMILES]\n"
     ]
    },
    {
     "name": "stderr",
     "output_type": "stream",
     "text": [
      "[16:41:47] DEPRECATION WARNING: please use MorganGenerator\n",
      "[16:41:47] DEPRECATION WARNING: please use MorganGenerator\n",
      "The attention mask and the pad token id were not set. As a consequence, you may observe unexpected behavior. Please pass your input's `attention_mask` to obtain reliable results.\n",
      "Setting `pad_token_id` to `eos_token_id`:None for open-end generation.\n"
     ]
    },
    {
     "name": "stdout",
     "output_type": "stream",
     "text": [
      "GT: 0.35 Gen: 0.42592592592592593 diff: 0.08 CCOc1cc(OC)c(Br)cc1CC1CCCNC1 <|begin_of_text|>[SIMILAR]CCOc1cc(OC)c(Br)cc1CC1CCCNC1 0.35[/SIMILAR][QED]0.90[/QED][WEIGHT]313.07[/WEIGHT][CLOGP]3.29[/CLOGP][TPSA]30.49[/TPSA][FORMULA]C14H20BrNO2[/FORMULA][RINGCOUNT]2[/RINGCOUNT][SAS]2.84[/SAS][SMILES]COc1cc(OC)c(C2CCCNC2)c(Br)c1C[/SMILES]\n"
     ]
    },
    {
     "name": "stderr",
     "output_type": "stream",
     "text": [
      "[16:41:48] DEPRECATION WARNING: please use MorganGenerator\n",
      "[16:41:48] DEPRECATION WARNING: please use MorganGenerator\n",
      "The attention mask and the pad token id were not set. As a consequence, you may observe unexpected behavior. Please pass your input's `attention_mask` to obtain reliable results.\n",
      "Setting `pad_token_id` to `eos_token_id`:None for open-end generation.\n"
     ]
    },
    {
     "name": "stdout",
     "output_type": "stream",
     "text": [
      "GT: 0.4 Gen: 0.42592592592592593 diff: 0.03 CCOc1cc(OC)c(Br)cc1CC1CCCNC1 <|begin_of_text|>[SIMILAR]CCOc1cc(OC)c(Br)cc1CC1CCCNC1 0.40[/SIMILAR][QED]0.90[/QED][WEIGHT]313.07[/WEIGHT][CLOGP]3.29[/CLOGP][TPSA]30.49[/TPSA][FORMULA]C14H20BrNO2[/FORMULA][RINGCOUNT]2[/RINGCOUNT][SAS]2.84[/SAS][SMILES]COc1cc(OC)c(C2CCCNC2)c(Br)c1C[/SMILES]\n"
     ]
    },
    {
     "name": "stderr",
     "output_type": "stream",
     "text": [
      "[16:41:48] DEPRECATION WARNING: please use MorganGenerator\n",
      "[16:41:48] DEPRECATION WARNING: please use MorganGenerator\n",
      "The attention mask and the pad token id were not set. As a consequence, you may observe unexpected behavior. Please pass your input's `attention_mask` to obtain reliable results.\n",
      "Setting `pad_token_id` to `eos_token_id`:None for open-end generation.\n"
     ]
    },
    {
     "name": "stdout",
     "output_type": "stream",
     "text": [
      "GT: 0.45 Gen: 0.42592592592592593 diff: 0.02 CCOc1cc(OC)c(Br)cc1CC1CCCNC1 <|begin_of_text|>[SIMILAR]CCOc1cc(OC)c(Br)cc1CC1CCCNC1 0.45[/SIMILAR][QED]0.90[/QED][WEIGHT]313.07[/WEIGHT][CLOGP]3.29[/CLOGP][FORMULA]C14H20BrNO2[/FORMULA][RINGCOUNT]2[/RINGCOUNT][TPSA]30.49[/TPSA][SAS]2.84[/SAS][SMILES]COc1cc(OC)c(C2CCCNC2)c(Br)c1C[/SMILES]\n"
     ]
    },
    {
     "name": "stderr",
     "output_type": "stream",
     "text": [
      "[16:41:49] DEPRECATION WARNING: please use MorganGenerator\n",
      "[16:41:49] DEPRECATION WARNING: please use MorganGenerator\n",
      "The attention mask and the pad token id were not set. As a consequence, you may observe unexpected behavior. Please pass your input's `attention_mask` to obtain reliable results.\n",
      "Setting `pad_token_id` to `eos_token_id`:None for open-end generation.\n"
     ]
    },
    {
     "name": "stdout",
     "output_type": "stream",
     "text": [
      "GT: 0.5 Gen: 0.41818181818181815 diff: 0.08 CCOc1cc(OC)c(Br)cc1CC1CCCNC1 <|begin_of_text|>[SIMILAR]CCOc1cc(OC)c(Br)cc1CC1CCCNC1 0.50[/SIMILAR][QED]0.90[/QED][WEIGHT]313.07[/WEIGHT][CLOGP]3.29[/CLOGP][FORMULA]C14H20BrNO2[/FORMULA][RINGCOUNT]2[/RINGCOUNT][TPSA]30.49[/TPSA][SAS]2.83[/SAS][SMILES]COc1cc(OC)c(C2CCCNC2)c(C)c1Br[/SMILES]\n"
     ]
    },
    {
     "name": "stderr",
     "output_type": "stream",
     "text": [
      "[16:41:50] DEPRECATION WARNING: please use MorganGenerator\n",
      "[16:41:50] DEPRECATION WARNING: please use MorganGenerator\n",
      "The attention mask and the pad token id were not set. As a consequence, you may observe unexpected behavior. Please pass your input's `attention_mask` to obtain reliable results.\n",
      "Setting `pad_token_id` to `eos_token_id`:None for open-end generation.\n"
     ]
    },
    {
     "name": "stdout",
     "output_type": "stream",
     "text": [
      "GT: 0.55 Gen: 0.5098039215686274 diff: 0.04 CCOc1cc(OC)c(Br)cc1CC1CCCNC1 <|begin_of_text|>[SIMILAR]CCOc1cc(OC)c(Br)cc1CC1CCCNC1 0.55[/SIMILAR][CLOGP]3.29[/CLOGP][FORMULA]C14H20BrNO2[/FORMULA][QED]0.93[/QED][WEIGHT]313.07[/WEIGHT][RINGCOUNT]2[/RINGCOUNT][TPSA]30.49[/TPSA][SAS]2.83[/SAS][SMILES]COc1cc(OC)c(C2CCCNC2)cc1Br.Cl[/SMILES]\n"
     ]
    },
    {
     "name": "stderr",
     "output_type": "stream",
     "text": [
      "[16:41:50] DEPRECATION WARNING: please use MorganGenerator\n",
      "[16:41:50] DEPRECATION WARNING: please use MorganGenerator\n",
      "The attention mask and the pad token id were not set. As a consequence, you may observe unexpected behavior. Please pass your input's `attention_mask` to obtain reliable results.\n",
      "Setting `pad_token_id` to `eos_token_id`:None for open-end generation.\n"
     ]
    },
    {
     "name": "stdout",
     "output_type": "stream",
     "text": [
      "GT: 0.6 Gen: 0.5 diff: 0.1 CCOc1cc(OC)c(Br)cc1CC1CCCNC1 <|begin_of_text|>[SIMILAR]CCOc1cc(OC)c(Br)cc1CC1CCCNC1 0.60[/SIMILAR][CLOGP]3.29[/CLOGP][FORMULA]C14H20BrNO2[/FORMULA][QED]0.93[/QED][WEIGHT]313.07[/WEIGHT][RINGCOUNT]2[/RINGCOUNT][TPSA]30.49[/TPSA][SAS]2.83[/SAS][SMILES]COc1cc(OC)c(CC2CCCCN2)cc1Br[/SMILES]\n"
     ]
    },
    {
     "name": "stderr",
     "output_type": "stream",
     "text": [
      "[16:41:51] DEPRECATION WARNING: please use MorganGenerator\n",
      "[16:41:51] DEPRECATION WARNING: please use MorganGenerator\n",
      "The attention mask and the pad token id were not set. As a consequence, you may observe unexpected behavior. Please pass your input's `attention_mask` to obtain reliable results.\n",
      "Setting `pad_token_id` to `eos_token_id`:None for open-end generation.\n"
     ]
    },
    {
     "name": "stdout",
     "output_type": "stream",
     "text": [
      "GT: 0.65 Gen: 0.8372093023255814 diff: 0.19 CCOc1cc(OC)c(Br)cc1CC1CCCNC1 <|begin_of_text|>[SIMILAR]CCOc1cc(OC)c(Br)cc1CC1CCCNC1 0.65[/SIMILAR][CLOGP]3.29[/CLOGP][FORMULA]C14H20BrNO2[/FORMULA][QED]0.93[/QED][WEIGHT]313.07[/WEIGHT][TPSA]30.49[/TPSA][SAS]2.79[/SAS][RINGCOUNT]2[/RINGCOUNT][SMILES]COc1cc(OC)c(CC2CCCNC2)cc1Br[/SMILES]\n"
     ]
    },
    {
     "name": "stderr",
     "output_type": "stream",
     "text": [
      "[16:41:51] DEPRECATION WARNING: please use MorganGenerator\n",
      "[16:41:51] DEPRECATION WARNING: please use MorganGenerator\n",
      "The attention mask and the pad token id were not set. As a consequence, you may observe unexpected behavior. Please pass your input's `attention_mask` to obtain reliable results.\n",
      "Setting `pad_token_id` to `eos_token_id`:None for open-end generation.\n"
     ]
    },
    {
     "name": "stdout",
     "output_type": "stream",
     "text": [
      "GT: 0.7 Gen: 0.8372093023255814 diff: 0.14 CCOc1cc(OC)c(Br)cc1CC1CCCNC1 <|begin_of_text|>[SIMILAR]CCOc1cc(OC)c(Br)cc1CC1CCCNC1 0.70[/SIMILAR][CLOGP]3.29[/CLOGP][FORMULA]C14H20BrNO2[/FORMULA][SAS]2.79[/SAS][WEIGHT]313.07[/WEIGHT][QED]0.93[/QED][TPSA]30.49[/TPSA][RINGCOUNT]2[/RINGCOUNT][SMILES]COc1cc(OC)c(CC2CCCNC2)cc1Br[/SMILES]\n"
     ]
    },
    {
     "name": "stderr",
     "output_type": "stream",
     "text": [
      "[16:41:52] DEPRECATION WARNING: please use MorganGenerator\n",
      "[16:41:52] DEPRECATION WARNING: please use MorganGenerator\n",
      "The attention mask and the pad token id were not set. As a consequence, you may observe unexpected behavior. Please pass your input's `attention_mask` to obtain reliable results.\n",
      "Setting `pad_token_id` to `eos_token_id`:None for open-end generation.\n"
     ]
    },
    {
     "name": "stdout",
     "output_type": "stream",
     "text": [
      "GT: 0.75 Gen: 0.8372093023255814 diff: 0.09 CCOc1cc(OC)c(Br)cc1CC1CCCNC1 <|begin_of_text|>[SIMILAR]CCOc1cc(OC)c(Br)cc1CC1CCCNC1 0.75[/SIMILAR][CLOGP]3.29[/CLOGP][FORMULA]C14H20BrNO2[/FORMULA][SAS]2.78[/SAS][WEIGHT]313.07[/WEIGHT][QED]0.93[/QED][TPSA]30.49[/TPSA][RINGCOUNT]2[/RINGCOUNT][SMILES]COc1cc(OC)c(CC2CCCNC2)cc1Br[/SMILES]\n"
     ]
    },
    {
     "name": "stderr",
     "output_type": "stream",
     "text": [
      "[16:41:53] DEPRECATION WARNING: please use MorganGenerator\n",
      "[16:41:53] DEPRECATION WARNING: please use MorganGenerator\n",
      "The attention mask and the pad token id were not set. As a consequence, you may observe unexpected behavior. Please pass your input's `attention_mask` to obtain reliable results.\n",
      "Setting `pad_token_id` to `eos_token_id`:None for open-end generation.\n"
     ]
    },
    {
     "name": "stdout",
     "output_type": "stream",
     "text": [
      "GT: 0.8 Gen: 0.673469387755102 diff: 0.13 CCOc1cc(OC)c(Br)cc1CC1CCCNC1 <|begin_of_text|>[SIMILAR]CCOc1cc(OC)c(Br)cc1CC1CCCNC1 0.80[/SIMILAR][CLOGP]3.29[/CLOGP][FORMULA]C14H20BrNO2[/FORMULA][SAS]2.78[/SAS][WEIGHT]313.07[/WEIGHT][TPSA]30.49[/TPSA][QED]0.93[/QED][RINGCOUNT]2[/RINGCOUNT][SMILES]CCOc1cc(OC)c(Br)cc1CC1CCCN1[/SMILES]\n"
     ]
    },
    {
     "name": "stderr",
     "output_type": "stream",
     "text": [
      "[16:41:53] DEPRECATION WARNING: please use MorganGenerator\n",
      "[16:41:53] DEPRECATION WARNING: please use MorganGenerator\n",
      "The attention mask and the pad token id were not set. As a consequence, you may observe unexpected behavior. Please pass your input's `attention_mask` to obtain reliable results.\n",
      "Setting `pad_token_id` to `eos_token_id`:None for open-end generation.\n"
     ]
    },
    {
     "name": "stdout",
     "output_type": "stream",
     "text": [
      "GT: 0.85 Gen: 0.8636363636363636 diff: 0.01 CCOc1cc(OC)c(Br)cc1CC1CCCNC1 <|begin_of_text|>[SIMILAR]CCOc1cc(OC)c(Br)cc1CC1CCCNC1 0.85[/SIMILAR][WEIGHT]313.07[/WEIGHT][CLOGP]3.05[/CLOGP][FORMULA]C14H20BrNO2[/FORMULA][SAS]2.79[/SAS][QED]0.93[/QED][SMILES]CCOc1cc(OC)c(Br)cc1CC1CCNC1[/SMILES]\n"
     ]
    },
    {
     "name": "stderr",
     "output_type": "stream",
     "text": [
      "[16:41:53] DEPRECATION WARNING: please use MorganGenerator\n",
      "[16:41:53] DEPRECATION WARNING: please use MorganGenerator\n",
      "The attention mask and the pad token id were not set. As a consequence, you may observe unexpected behavior. Please pass your input's `attention_mask` to obtain reliable results.\n",
      "Setting `pad_token_id` to `eos_token_id`:None for open-end generation.\n"
     ]
    },
    {
     "name": "stdout",
     "output_type": "stream",
     "text": [
      "GT: 0.9 Gen: 1.0 diff: 0.1 CCOc1cc(OC)c(Br)cc1CC1CCCNC1 <|begin_of_text|>[SIMILAR]CCOc1cc(OC)c(Br)cc1CC1CCCNC1 0.90[/SIMILAR][WEIGHT]327.08[/WEIGHT][CLOGP]3.33[/CLOGP][FORMULA]C15H22BrNO2[/FORMULA][SAS]2.81[/SAS][SMILES]CCOc1cc(OC)c(Br)cc1CC1CCCNC1[/SMILES]\n"
     ]
    },
    {
     "name": "stderr",
     "output_type": "stream",
     "text": [
      "[16:41:54] DEPRECATION WARNING: please use MorganGenerator\n",
      "[16:41:54] DEPRECATION WARNING: please use MorganGenerator\n",
      "The attention mask and the pad token id were not set. As a consequence, you may observe unexpected behavior. Please pass your input's `attention_mask` to obtain reliable results.\n",
      "Setting `pad_token_id` to `eos_token_id`:None for open-end generation.\n"
     ]
    },
    {
     "name": "stdout",
     "output_type": "stream",
     "text": [
      "GT: 0.95 Gen: 1.0 diff: 0.05 CCOc1cc(OC)c(Br)cc1CC1CCCNC1 <|begin_of_text|>[SIMILAR]CCOc1cc(OC)c(Br)cc1CC1CCCNC1 0.95[/SIMILAR][WEIGHT]327.08[/WEIGHT][CLOGP]3.38[/CLOGP][FORMULA]C15H22BrNO2[/FORMULA][SAS]2.80[/SAS][QED]0.90[/QED][SMILES]CCOc1cc(OC)c(Br)cc1CC1CCCNC1[/SMILES]\n",
      "GT: 1.0 Gen: 1.0 diff: 0.0 CCOc1cc(OC)c(Br)cc1CC1CCCNC1 <|begin_of_text|>[SIMILAR]CCOc1cc(OC)c(Br)cc1CC1CCCNC1 1.00[/SIMILAR][SMILES]CCOc1cc(OC)c(Br)cc1CC1CCCNC1[/SMILES]\n"
     ]
    },
    {
     "name": "stderr",
     "output_type": "stream",
     "text": [
      "[16:41:54] DEPRECATION WARNING: please use MorganGenerator\n",
      "[16:41:54] DEPRECATION WARNING: please use MorganGenerator\n"
     ]
    }
   ],
   "source": [
    "ground_truths, gens, diffs = [],[],[]\n",
    "invalids = 0\n",
    "N_mols = 20\n",
    "for s in smiles100[:N_mols]:\n",
    "    for sim in np.arange(0.2,1.05,0.05):\n",
    "        prompt = f\"<|begin_of_text|>[SIMILAR]{s} {sim:.2f}[/SIMILAR]\"\n",
    "        prompt = tokenizer(prompt, return_tensors=\"pt\", add_special_tokens=False).to(model.device)\n",
    "        out = model.generate(prompt.input_ids, do_sample=False, eos_token_id=tokenizer.encode(\"[/SMILES]\", add_special_tokens=False)[0],\n",
    "        # suppress_tokens=[2, 10, 44, 11, 45, 12, 46, 13, 47],\n",
    "        # suppress_tokens=[2, 50002, 50035, 50003, 50036, 50000, 50033],\n",
    "        suppress_tokens=[34277, 128260, 128261, 128262, 128263, 128264, 128265, 128266, 128267],\n",
    "          repetition_penalty=1, renormalize_logits=True,max_length=2000)\n",
    "        out = tokenizer.batch_decode(out)[0]\n",
    "        if out.find(\"[/SMILES]\")!=-1:\n",
    "            try:\n",
    "                mol = out[out.find(\"[SMILES]\") + len(\"[SMILES]\"):out.find(\"[/SMILES]\")]\n",
    "                # tpsa_score = AllChem.CalcTPSA(Chem.MolFromSmiles(smiles))\n",
    "                # gt_score = round(QED.qed(Chem.MolFromSmiles(s)), 2)\n",
    "                # gt_score = round(sascorer.calculateScore(Chem.MolFromSmiles(s)), 2)\n",
    "                gen_score = calculate_tanim_sim(s, mol)\n",
    "                diff = abs(sim - gen_score)\n",
    "                print(\"GT:\", round(sim,2), \"Gen:\", gen_score, \"diff:\", round(diff,2), s, out )\n",
    "                ground_truths.append(sim)\n",
    "                gens.append(gen_score)\n",
    "                diffs.append(diff)\n",
    "            except:\n",
    "                print(f\"GT: {sim} {out}\")\n",
    "                invalids += 1\n",
    "                ground_truths.append(sim)\n",
    "                gens.append(gen_score)\n",
    "                diffs.append(0)\n",
    "        else:\n",
    "            print(f\"GT: {sim} {out}\")\n",
    "            invalids += 1\n",
    "            ground_truths.append(sim)\n",
    "            gens.append(gen_score)\n",
    "            diffs.append(0)\n",
    "        # except:\n",
    "        #     print(f\"GT: {sim} {out}\")\n",
    "        #     invalids += 1\n",
    "        #     raise"
   ]
  },
  {
   "cell_type": "code",
   "execution_count": 21,
   "metadata": {
    "metadata": {}
   },
   "outputs": [
    {
     "name": "stderr",
     "output_type": "stream",
     "text": [
      "/auto/home/menuab/miniforge3/envs/llama3/lib/python3.10/site-packages/sklearn/metrics/_regression.py:492: FutureWarning: 'squared' is deprecated in version 1.4 and will be removed in 1.6. To calculate the root mean squared error, use the function'root_mean_squared_error'.\n",
      "  warnings.warn(\n"
     ]
    }
   ],
   "source": [
    "combined = list(zip(ground_truths, gens, diffs))\n",
    "combined.sort(key=lambda x: x[0])\n",
    "ground_truths, gens, diffs = zip(*combined)\n",
    "d = np.mean(np.array(diffs).reshape(-1,N_mols),axis=1)\n",
    "rmse = metrics.mean_squared_error(ground_truths, gens, squared=False)\n",
    "mape = metrics.mean_absolute_percentage_error(ground_truths, gens)\n",
    "correlation = correlation, pvalue = spearmanr(ground_truths, gens)\n",
    "generate_plot(ground_truths, gens, d,'Similarity CG', rmse, mape, correlation, invalids, len(ground_truths), (0,1), 0)"
   ]
  },
  {
   "cell_type": "code",
   "execution_count": null,
   "metadata": {},
   "outputs": [],
   "source": []
  },
  {
   "cell_type": "code",
   "execution_count": null,
   "metadata": {},
   "outputs": [],
   "source": []
  }
 ],
 "metadata": {
  "kernelspec": {
   "display_name": "cl11.8_t_4.37",
   "language": "python",
   "name": "python3"
  },
  "language_info": {
   "codemirror_mode": {
    "name": "ipython",
    "version": 3
   },
   "file_extension": ".py",
   "mimetype": "text/x-python",
   "name": "python",
   "nbconvert_exporter": "python",
   "pygments_lexer": "ipython3",
   "version": "3.10.15"
  }
 },
 "nbformat": 4,
 "nbformat_minor": 2
}
