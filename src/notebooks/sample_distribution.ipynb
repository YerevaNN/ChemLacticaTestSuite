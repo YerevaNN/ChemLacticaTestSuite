{
 "cells": [
  {
   "cell_type": "code",
   "execution_count": 1,
   "metadata": {},
   "outputs": [],
   "source": [
    "import os\n",
    "import re\n",
    "import pickle\n",
    "import pandas as pd\n",
    "import numpy as np\n",
    "import textwrap\n",
    "import scipy\n",
    "import torch\n",
    "from accelerate import init_empty_weights, Accelerator\n",
    "from transformers import AutoModelForCausalLM, AutoTokenizer\n",
    "from custom_modeling_opt import CustomOPTForCausalLM\n",
    "from matplotlib import pyplot as plt"
   ]
  },
  {
   "cell_type": "code",
   "execution_count": 5,
   "metadata": {},
   "outputs": [],
   "source": [
    "seed_value=42\n",
    "torch.manual_seed(42)\n",
    "if torch.cuda.is_available():\n",
    "    torch.cuda.manual_seed(seed_value)\n",
    "    torch.cuda.manual_seed_all(seed_value)\n",
    "    torch.backends.cudnn.deterministic = True\n",
    "    torch.backends.cudnn.benchmark = False"
   ]
  },
  {
   "cell_type": "code",
   "execution_count": 2,
   "metadata": {},
   "outputs": [],
   "source": [
    "import rdkit.Chem as Chem\n",
    "import sys\n",
    "from rdkit.Chem import RDConfig, MACCSkeys, QED\n",
    "from rdkit.Chem.rdMolDescriptors import CalcTPSA, CalcCrippenDescriptors\n",
    "from rdkit.Chem import Descriptors\n",
    "sys.path.append(os.path.join(RDConfig.RDContribDir, 'SA_Score'))\n",
    "import sascorer"
   ]
  },
  {
   "cell_type": "code",
   "execution_count": 4,
   "metadata": {},
   "outputs": [],
   "source": [
    "device = \"cuda:0\""
   ]
  },
  {
   "cell_type": "code",
   "execution_count": 5,
   "metadata": {},
   "outputs": [
    {
     "name": "stderr",
     "output_type": "stream",
     "text": [
      "Special tokens have been added in the vocabulary, make sure the associated word embeddings are fine-tuned or trained.\n"
     ]
    },
    {
     "name": "stdout",
     "output_type": "stream",
     "text": [
      "tokenizer size:  50066\n"
     ]
    }
   ],
   "source": [
    "tokenizer = AutoTokenizer.from_pretrained(\"/auto/home/menuab/code/ChemLacticaTestSuite/src/tokenizer/ChemLacticaTokenizer_50066/\")\n",
    "print('tokenizer size: ', len(tokenizer))"
   ]
  },
  {
   "cell_type": "code",
   "execution_count": 6,
   "metadata": {},
   "outputs": [
    {
     "data": {
      "text/plain": [
       "'/auto/home/menuab/code/checkpoints/26d322857a184fcbafda5d4a/125m_118k_26d3/'"
      ]
     },
     "execution_count": 6,
     "metadata": {},
     "output_type": "execute_result"
    }
   ],
   "source": [
    "checkpoint_path = \"/auto/home/menuab/code/checkpoints/f2c6ebb289994595a478f513/125m_126k_f2c6/\"\n",
    "checkpoint_path = \"/auto/home/menuab/code/checkpoints/f3fbd012918247a388efa732/125m_126k_f3fb/\"\n",
    "checkpoint_path = \"/auto/home/menuab/code/checkpoints/26d322857a184fcbafda5d4a/125m_118k_26d3/\"\n",
    "checkpoint_path"
   ]
  },
  {
   "cell_type": "code",
   "execution_count": 7,
   "metadata": {},
   "outputs": [
    {
     "name": "stderr",
     "output_type": "stream",
     "text": [
      "/auto/home/menuab/miniforge3/envs/cl11.8_t_4.37/lib/python3.10/site-packages/torch/_utils.py:831: UserWarning: TypedStorage is deprecated. It will be removed in the future and UntypedStorage will be the only storage class. This should only matter to you if you are using storages directly.  To access UntypedStorage directly, use tensor.untyped_storage() instead of tensor.storage()\n",
      "  return self.fget.__get__(instance, owner)()\n"
     ]
    },
    {
     "name": "stdout",
     "output_type": "stream",
     "text": [
      "model loaded with embedding size of : 50066\n"
     ]
    }
   ],
   "source": [
    "model = CustomOPTForCausalLM.from_pretrained(\n",
    "            checkpoint_path,\n",
    "            use_flash_attn=True,\n",
    "            torch_dtype=torch.bfloat16\n",
    "            )\n",
    "model.eval()\n",
    "model.to(device)\n",
    "print(f'model loaded with embedding size of : {model.model.decoder.embed_tokens.num_embeddings}')\n",
    "assert(model.model.decoder.embed_tokens.num_embeddings == len(tokenizer))"
   ]
  },
  {
   "cell_type": "code",
   "execution_count": 3,
   "metadata": {},
   "outputs": [
    {
     "data": {
      "text/html": [
       "<div>\n",
       "<style scoped>\n",
       "    .dataframe tbody tr th:only-of-type {\n",
       "        vertical-align: middle;\n",
       "    }\n",
       "\n",
       "    .dataframe tbody tr th {\n",
       "        vertical-align: top;\n",
       "    }\n",
       "\n",
       "    .dataframe thead th {\n",
       "        text-align: right;\n",
       "    }\n",
       "</style>\n",
       "<table border=\"1\" class=\"dataframe\">\n",
       "  <thead>\n",
       "    <tr style=\"text-align: right;\">\n",
       "      <th></th>\n",
       "      <th>Weight</th>\n",
       "      <th>SAS</th>\n",
       "      <th>CLogP</th>\n",
       "      <th>TPSA</th>\n",
       "      <th>QED</th>\n",
       "      <th>0</th>\n",
       "    </tr>\n",
       "  </thead>\n",
       "  <tbody>\n",
       "    <tr>\n",
       "      <th>0</th>\n",
       "      <td>325.18</td>\n",
       "      <td>2.09</td>\n",
       "      <td>6.23</td>\n",
       "      <td>63.05</td>\n",
       "      <td>0.46</td>\n",
       "      <td>0.0</td>\n",
       "    </tr>\n",
       "    <tr>\n",
       "      <th>1</th>\n",
       "      <td>336.18</td>\n",
       "      <td>2.75</td>\n",
       "      <td>2.67</td>\n",
       "      <td>32.78</td>\n",
       "      <td>0.86</td>\n",
       "      <td>0.0</td>\n",
       "    </tr>\n",
       "    <tr>\n",
       "      <th>2</th>\n",
       "      <td>282.91</td>\n",
       "      <td>2.30</td>\n",
       "      <td>4.16</td>\n",
       "      <td>29.10</td>\n",
       "      <td>0.81</td>\n",
       "      <td>0.0</td>\n",
       "    </tr>\n",
       "    <tr>\n",
       "      <th>3</th>\n",
       "      <td>300.14</td>\n",
       "      <td>4.15</td>\n",
       "      <td>2.68</td>\n",
       "      <td>71.44</td>\n",
       "      <td>0.55</td>\n",
       "      <td>0.0</td>\n",
       "    </tr>\n",
       "    <tr>\n",
       "      <th>4</th>\n",
       "      <td>188.03</td>\n",
       "      <td>2.84</td>\n",
       "      <td>1.37</td>\n",
       "      <td>54.46</td>\n",
       "      <td>0.68</td>\n",
       "      <td>0.0</td>\n",
       "    </tr>\n",
       "  </tbody>\n",
       "</table>\n",
       "</div>"
      ],
      "text/plain": [
       "   Weight   SAS  CLogP   TPSA   QED    0\n",
       "0  325.18  2.09   6.23  63.05  0.46  0.0\n",
       "1  336.18  2.75   2.67  32.78  0.86  0.0\n",
       "2  282.91  2.30   4.16  29.10  0.81  0.0\n",
       "3  300.14  4.15   2.68  71.44  0.55  0.0\n",
       "4  188.03  2.84   1.37  54.46  0.68  0.0"
      ]
     },
     "execution_count": 3,
     "metadata": {},
     "output_type": "execute_result"
    }
   ],
   "source": [
    "data = pd.read_csv('/auto/home/menuab/code/computed_prop_for_Menua.csv', skiprows=[0], header=0)\n",
    "data.head()"
   ]
  },
  {
   "cell_type": "code",
   "execution_count": 4,
   "metadata": {},
   "outputs": [],
   "source": [
    "prior_distribution_samples = {}"
   ]
  },
  {
   "cell_type": "code",
   "execution_count": 8,
   "metadata": {},
   "outputs": [
    {
     "data": {
      "text/html": [
       "<div>\n",
       "<style scoped>\n",
       "    .dataframe tbody tr th:only-of-type {\n",
       "        vertical-align: middle;\n",
       "    }\n",
       "\n",
       "    .dataframe tbody tr th {\n",
       "        vertical-align: top;\n",
       "    }\n",
       "\n",
       "    .dataframe thead th {\n",
       "        text-align: right;\n",
       "    }\n",
       "</style>\n",
       "<table border=\"1\" class=\"dataframe\">\n",
       "  <thead>\n",
       "    <tr style=\"text-align: right;\">\n",
       "      <th></th>\n",
       "      <th>Weight</th>\n",
       "      <th>SAS</th>\n",
       "      <th>CLogP</th>\n",
       "      <th>TPSA</th>\n",
       "      <th>QED</th>\n",
       "      <th>0</th>\n",
       "    </tr>\n",
       "  </thead>\n",
       "  <tbody>\n",
       "    <tr>\n",
       "      <th>725555</th>\n",
       "      <td>2237.57</td>\n",
       "      <td>8.48</td>\n",
       "      <td>-17.44</td>\n",
       "      <td>1194.00</td>\n",
       "      <td>0.0</td>\n",
       "      <td>0.0</td>\n",
       "    </tr>\n",
       "    <tr>\n",
       "      <th>2663277</th>\n",
       "      <td>1580.32</td>\n",
       "      <td>7.08</td>\n",
       "      <td>-6.43</td>\n",
       "      <td>748.48</td>\n",
       "      <td>0.0</td>\n",
       "      <td>0.0</td>\n",
       "    </tr>\n",
       "    <tr>\n",
       "      <th>2663278</th>\n",
       "      <td>1582.33</td>\n",
       "      <td>6.44</td>\n",
       "      <td>-5.16</td>\n",
       "      <td>742.82</td>\n",
       "      <td>0.0</td>\n",
       "      <td>0.0</td>\n",
       "    </tr>\n",
       "    <tr>\n",
       "      <th>4668115</th>\n",
       "      <td>1154.32</td>\n",
       "      <td>5.78</td>\n",
       "      <td>3.67</td>\n",
       "      <td>356.27</td>\n",
       "      <td>0.0</td>\n",
       "      <td>0.0</td>\n",
       "    </tr>\n",
       "    <tr>\n",
       "      <th>5785122</th>\n",
       "      <td>1155.33</td>\n",
       "      <td>5.70</td>\n",
       "      <td>4.01</td>\n",
       "      <td>353.44</td>\n",
       "      <td>0.0</td>\n",
       "      <td>0.0</td>\n",
       "    </tr>\n",
       "    <tr>\n",
       "      <th>...</th>\n",
       "      <td>...</td>\n",
       "      <td>...</td>\n",
       "      <td>...</td>\n",
       "      <td>...</td>\n",
       "      <td>...</td>\n",
       "      <td>...</td>\n",
       "    </tr>\n",
       "    <tr>\n",
       "      <th>77978944</th>\n",
       "      <td>1910.34</td>\n",
       "      <td>5.33</td>\n",
       "      <td>5.32</td>\n",
       "      <td>687.61</td>\n",
       "      <td>0.0</td>\n",
       "      <td>0.0</td>\n",
       "    </tr>\n",
       "    <tr>\n",
       "      <th>77983166</th>\n",
       "      <td>1773.66</td>\n",
       "      <td>7.59</td>\n",
       "      <td>7.82</td>\n",
       "      <td>532.63</td>\n",
       "      <td>0.0</td>\n",
       "      <td>0.0</td>\n",
       "    </tr>\n",
       "    <tr>\n",
       "      <th>77989279</th>\n",
       "      <td>1941.60</td>\n",
       "      <td>6.39</td>\n",
       "      <td>2.02</td>\n",
       "      <td>775.45</td>\n",
       "      <td>0.0</td>\n",
       "      <td>0.0</td>\n",
       "    </tr>\n",
       "    <tr>\n",
       "      <th>77997690</th>\n",
       "      <td>1907.15</td>\n",
       "      <td>8.05</td>\n",
       "      <td>10.44</td>\n",
       "      <td>487.02</td>\n",
       "      <td>0.0</td>\n",
       "      <td>0.0</td>\n",
       "    </tr>\n",
       "    <tr>\n",
       "      <th>77999924</th>\n",
       "      <td>1764.87</td>\n",
       "      <td>6.52</td>\n",
       "      <td>8.57</td>\n",
       "      <td>510.01</td>\n",
       "      <td>0.0</td>\n",
       "      <td>0.0</td>\n",
       "    </tr>\n",
       "  </tbody>\n",
       "</table>\n",
       "<p>3680 rows × 6 columns</p>\n",
       "</div>"
      ],
      "text/plain": [
       "           Weight   SAS  CLogP     TPSA  QED    0\n",
       "725555    2237.57  8.48 -17.44  1194.00  0.0  0.0\n",
       "2663277   1580.32  7.08  -6.43   748.48  0.0  0.0\n",
       "2663278   1582.33  6.44  -5.16   742.82  0.0  0.0\n",
       "4668115   1154.32  5.78   3.67   356.27  0.0  0.0\n",
       "5785122   1155.33  5.70   4.01   353.44  0.0  0.0\n",
       "...           ...   ...    ...      ...  ...  ...\n",
       "77978944  1910.34  5.33   5.32   687.61  0.0  0.0\n",
       "77983166  1773.66  7.59   7.82   532.63  0.0  0.0\n",
       "77989279  1941.60  6.39   2.02   775.45  0.0  0.0\n",
       "77997690  1907.15  8.05  10.44   487.02  0.0  0.0\n",
       "77999924  1764.87  6.52   8.57   510.01  0.0  0.0\n",
       "\n",
       "[3680 rows x 6 columns]"
      ]
     },
     "execution_count": 8,
     "metadata": {},
     "output_type": "execute_result"
    }
   ],
   "source": [
    "data[data.QED==0]"
   ]
  },
  {
   "cell_type": "code",
   "execution_count": 65,
   "metadata": {},
   "outputs": [
    {
     "data": {
      "text/html": [
       "<div>\n",
       "<style scoped>\n",
       "    .dataframe tbody tr th:only-of-type {\n",
       "        vertical-align: middle;\n",
       "    }\n",
       "\n",
       "    .dataframe tbody tr th {\n",
       "        vertical-align: top;\n",
       "    }\n",
       "\n",
       "    .dataframe thead th {\n",
       "        text-align: right;\n",
       "    }\n",
       "</style>\n",
       "<table border=\"1\" class=\"dataframe\">\n",
       "  <thead>\n",
       "    <tr style=\"text-align: right;\">\n",
       "      <th></th>\n",
       "      <th>Weight</th>\n",
       "      <th>SAS</th>\n",
       "      <th>CLogP</th>\n",
       "      <th>TPSA</th>\n",
       "      <th>QED</th>\n",
       "      <th>0</th>\n",
       "    </tr>\n",
       "  </thead>\n",
       "  <tbody>\n",
       "    <tr>\n",
       "      <th>count</th>\n",
       "      <td>7.818926e+07</td>\n",
       "      <td>7.818926e+07</td>\n",
       "      <td>7.818926e+07</td>\n",
       "      <td>7.818926e+07</td>\n",
       "      <td>7.818922e+07</td>\n",
       "      <td>7.819579e+07</td>\n",
       "    </tr>\n",
       "    <tr>\n",
       "      <th>mean</th>\n",
       "      <td>3.667522e+02</td>\n",
       "      <td>2.943413e+00</td>\n",
       "      <td>3.225748e+00</td>\n",
       "      <td>7.045073e+01</td>\n",
       "      <td>6.064342e-01</td>\n",
       "      <td>1.085480e-03</td>\n",
       "    </tr>\n",
       "    <tr>\n",
       "      <th>std</th>\n",
       "      <td>1.667999e+02</td>\n",
       "      <td>8.270422e-01</td>\n",
       "      <td>2.438680e+00</td>\n",
       "      <td>5.320051e+01</td>\n",
       "      <td>2.248175e-01</td>\n",
       "      <td>4.549508e-02</td>\n",
       "    </tr>\n",
       "    <tr>\n",
       "      <th>min</th>\n",
       "      <td>1.010000e+00</td>\n",
       "      <td>1.000000e+00</td>\n",
       "      <td>-2.186400e+02</td>\n",
       "      <td>0.000000e+00</td>\n",
       "      <td>0.000000e+00</td>\n",
       "      <td>0.000000e+00</td>\n",
       "    </tr>\n",
       "    <tr>\n",
       "      <th>25%</th>\n",
       "      <td>2.721500e+02</td>\n",
       "      <td>2.390000e+00</td>\n",
       "      <td>1.980000e+00</td>\n",
       "      <td>4.448000e+01</td>\n",
       "      <td>4.500000e-01</td>\n",
       "      <td>0.000000e+00</td>\n",
       "    </tr>\n",
       "    <tr>\n",
       "      <th>50%</th>\n",
       "      <td>3.391300e+02</td>\n",
       "      <td>2.780000e+00</td>\n",
       "      <td>3.090000e+00</td>\n",
       "      <td>6.443000e+01</td>\n",
       "      <td>6.500000e-01</td>\n",
       "      <td>0.000000e+00</td>\n",
       "    </tr>\n",
       "    <tr>\n",
       "      <th>75%</th>\n",
       "      <td>4.261800e+02</td>\n",
       "      <td>3.280000e+00</td>\n",
       "      <td>4.250000e+00</td>\n",
       "      <td>8.628000e+01</td>\n",
       "      <td>7.900000e-01</td>\n",
       "      <td>0.000000e+00</td>\n",
       "    </tr>\n",
       "    <tr>\n",
       "      <th>max</th>\n",
       "      <td>5.975075e+04</td>\n",
       "      <td>1.000000e+01</td>\n",
       "      <td>2.054800e+02</td>\n",
       "      <td>7.553400e+03</td>\n",
       "      <td>9.500000e-01</td>\n",
       "      <td>2.000000e+00</td>\n",
       "    </tr>\n",
       "  </tbody>\n",
       "</table>\n",
       "</div>"
      ],
      "text/plain": [
       "             Weight           SAS         CLogP          TPSA           QED  \\\n",
       "count  7.818926e+07  7.818926e+07  7.818926e+07  7.818926e+07  7.818922e+07   \n",
       "mean   3.667522e+02  2.943413e+00  3.225748e+00  7.045073e+01  6.064342e-01   \n",
       "std    1.667999e+02  8.270422e-01  2.438680e+00  5.320051e+01  2.248175e-01   \n",
       "min    1.010000e+00  1.000000e+00 -2.186400e+02  0.000000e+00  0.000000e+00   \n",
       "25%    2.721500e+02  2.390000e+00  1.980000e+00  4.448000e+01  4.500000e-01   \n",
       "50%    3.391300e+02  2.780000e+00  3.090000e+00  6.443000e+01  6.500000e-01   \n",
       "75%    4.261800e+02  3.280000e+00  4.250000e+00  8.628000e+01  7.900000e-01   \n",
       "max    5.975075e+04  1.000000e+01  2.054800e+02  7.553400e+03  9.500000e-01   \n",
       "\n",
       "                  0  \n",
       "count  7.819579e+07  \n",
       "mean   1.085480e-03  \n",
       "std    4.549508e-02  \n",
       "min    0.000000e+00  \n",
       "25%    0.000000e+00  \n",
       "50%    0.000000e+00  \n",
       "75%    0.000000e+00  \n",
       "max    2.000000e+00  "
      ]
     },
     "execution_count": 65,
     "metadata": {},
     "output_type": "execute_result"
    }
   ],
   "source": [
    "data.describe()"
   ]
  },
  {
   "cell_type": "code",
   "execution_count": 5,
   "metadata": {},
   "outputs": [],
   "source": [
    "sas_dist = data.SAS.sample(n=100, random_state=42)"
   ]
  },
  {
   "cell_type": "code",
   "execution_count": 7,
   "metadata": {},
   "outputs": [],
   "source": [
    "clogp_dist = data.CLogP.sample(n=100, random_state=42)"
   ]
  },
  {
   "cell_type": "code",
   "execution_count": 8,
   "metadata": {},
   "outputs": [],
   "source": [
    "qed_dist = data.QED.sample(n=100, random_state=42)"
   ]
  },
  {
   "cell_type": "code",
   "execution_count": 9,
   "metadata": {},
   "outputs": [],
   "source": [
    "weight_dist = data.Weight.sample(n=100, random_state=42)"
   ]
  },
  {
   "cell_type": "code",
   "execution_count": 10,
   "metadata": {},
   "outputs": [],
   "source": [
    "TPSA_dist = data.TPSA.sample(n=100, random_state=42)"
   ]
  },
  {
   "cell_type": "code",
   "execution_count": 17,
   "metadata": {},
   "outputs": [],
   "source": [
    "prior_distribution_samples[\"TPSA\"]=TPSA_dist"
   ]
  },
  {
   "cell_type": "code",
   "execution_count": 103,
   "metadata": {},
   "outputs": [],
   "source": [
    "prior_distribution_samples[\"TPSA\"]=np.floor(TPSA_dist.values * 10)/10"
   ]
  },
  {
   "cell_type": "code",
   "execution_count": 18,
   "metadata": {},
   "outputs": [],
   "source": [
    "with open(\"prior_distribution_samples\",\"wb\") as f:\n",
    "    pickle.dump(prior_distribution_samples, f)"
   ]
  },
  {
   "cell_type": "code",
   "execution_count": 31,
   "metadata": {},
   "outputs": [],
   "source": [
    "pubchem_stats_file = open(\"../stats_data/pubchem_stats.pkl\", 'rb')\n",
    "pubchem_stats = pickle.load(pubchem_stats_file)\n",
    "pubchem_stats_file.close()"
   ]
  },
  {
   "cell_type": "code",
   "execution_count": 23,
   "metadata": {},
   "outputs": [],
   "source": [
    "pubchem_stats = {}"
   ]
  },
  {
   "cell_type": "code",
   "execution_count": 137,
   "metadata": {},
   "outputs": [],
   "source": [
    "with open(\"../stats_data/pubchem_stats.pkl\",\"wb\") as f:\n",
    "    pickle.dump(pubchem_stats, f)"
   ]
  },
  {
   "cell_type": "code",
   "execution_count": 134,
   "metadata": {},
   "outputs": [],
   "source": [
    "interval_index = pd.interval_range(start=-2, end=20, periods=100, closed='right')\n",
    "# d=data.TPSA[(data.TPSA>0)&(data.TPSA<100)]\n",
    "d=data.CLogP\n",
    "frequency_data = pd.cut(d, bins=interval_index)\n",
    "freq=frequency_data.value_counts().sort_index()"
   ]
  },
  {
   "cell_type": "code",
   "execution_count": 136,
   "metadata": {},
   "outputs": [],
   "source": [
    "pubchem_stats[\"CLOGP\"] = freq"
   ]
  },
  {
   "cell_type": "code",
   "execution_count": 130,
   "metadata": {},
   "outputs": [
    {
     "data": {
      "text/plain": [
       "CLogP\n",
       "(-2.0, -1.48]                                   248908\n",
       "(-1.48, -0.96]                                  416044\n",
       "(-0.96, -0.43999999999999995]                   737489\n",
       "(-0.43999999999999995, 0.08000000000000007]    1325789\n",
       "(0.08000000000000007, 0.6000000000000001]      2283255\n",
       "                                                ...   \n",
       "(47.4, 47.92]                                      213\n",
       "(47.92, 48.440000000000005]                        187\n",
       "(48.440000000000005, 48.96]                        202\n",
       "(48.96, 49.480000000000004]                        199\n",
       "(49.480000000000004, 50.0]                         157\n",
       "Name: count, Length: 100, dtype: int64"
      ]
     },
     "execution_count": 130,
     "metadata": {},
     "output_type": "execute_result"
    }
   ],
   "source": [
    "freq"
   ]
  },
  {
   "cell_type": "code",
   "execution_count": 139,
   "metadata": {},
   "outputs": [
    {
     "data": {
      "text/plain": [
       "(0.0, 10.0)"
      ]
     },
     "execution_count": 139,
     "metadata": {},
     "output_type": "execute_result"
    },
    {
     "data": {
      "image/png": "[encoded data removed]",
      "text/plain": [
       "<Figure size 640x480 with 1 Axes>"
      ]
     },
     "metadata": {},
     "output_type": "display_data"
    }
   ],
   "source": [
    "plt.bar([interval.mid for interval in freq.index], freq, width=.1)\n",
    "plt.xlim(0,10)"
   ]
  },
  {
   "cell_type": "code",
   "execution_count": 121,
   "metadata": {},
   "outputs": [
    {
     "data": {
      "text/plain": [
       "<Axes: >"
      ]
     },
     "execution_count": 121,
     "metadata": {},
     "output_type": "execute_result"
    },
    {
     "data": {
      "image/png": "[encoded data removed]",
      "text/plain": [
       "<Figure size 640x480 with 1 Axes>"
      ]
     },
     "metadata": {},
     "output_type": "display_data"
    }
   ],
   "source": [
    "data.CLogP[data.CLogP<50].hist(bins=100)"
   ]
  },
  {
   "cell_type": "code",
   "execution_count": 66,
   "metadata": {},
   "outputs": [
    {
     "ename": "",
     "evalue": "",
     "output_type": "error",
     "traceback": [
      "\u001b[1;31mCannot execute code, session has been disposed. Please try restarting the Kernel."
     ]
    },
    {
     "ename": "",
     "evalue": "",
     "output_type": "error",
     "traceback": [
      "\u001b[1;31mCannot execute code, session has been disposed. Please try restarting the Kernel. \n",
      "\u001b[1;31mView Jupyter <a href='command:jupyter.viewOutput'>log</a> for further details."
     ]
    }
   ],
   "source": [
    "interval_index_ = pd.interval_range(start=-200, end=200, periods=400, closed='right')\n",
    "# d_=data.TPSA[(data.TPSA>0)&(data.TPSA<100)]\n",
    "d_=data.CLOGP\n",
    "frequency_data_ = pd.cut(d_, bins=interval_index_)\n",
    "freq_=frequency_data_.value_counts().sort_index()"
   ]
  },
  {
   "cell_type": "code",
   "execution_count": 65,
   "metadata": {},
   "outputs": [],
   "source": [
    "prior_distribution_samples[\"TPSA\"] = freq_"
   ]
  },
  {
   "cell_type": "code",
   "execution_count": 62,
   "metadata": {},
   "outputs": [
    {
     "data": {
      "text/plain": [
       "(0.0, 100.0)"
      ]
     },
     "execution_count": 62,
     "metadata": {},
     "output_type": "execute_result"
    },
    {
     "data": {
      "image/png": "[encoded data removed]",
      "text/plain": [
       "<Figure size 640x480 with 1 Axes>"
      ]
     },
     "metadata": {},
     "output_type": "display_data"
    }
   ],
   "source": [
    "plt.bar([interval.mid for interval in freq_.index], freq_, width=2)\n",
    "plt.xlim(0,100)"
   ]
  },
  {
   "cell_type": "code",
   "execution_count": 96,
   "metadata": {},
   "outputs": [
    {
     "data": {
      "text/plain": [
       "<Axes: >"
      ]
     },
     "execution_count": 96,
     "metadata": {},
     "output_type": "execute_result"
    },
    {
     "data": {
      "image/png": "[encoded data removed]",
      "text/plain": [
       "<Figure size 640x480 with 1 Axes>"
      ]
     },
     "metadata": {},
     "output_type": "display_data"
    }
   ],
   "source": [
    "data.TPSA.hist(bins=100)"
   ]
  },
  {
   "cell_type": "code",
   "execution_count": 97,
   "metadata": {},
   "outputs": [
    {
     "ename": "TypeError",
     "evalue": "'<' not supported between instances of 'float' and 'pandas._libs.interval.Interval'",
     "output_type": "error",
     "traceback": [
      "\u001b[0;31m---------------------------------------------------------------------------\u001b[0m",
      "\u001b[0;31mTypeError\u001b[0m                                 Traceback (most recent call last)",
      "Cell \u001b[0;32mIn[97], line 1\u001b[0m\n\u001b[0;32m----> 1\u001b[0m \u001b[43mnp\u001b[49m\u001b[38;5;241;43m.\u001b[39;49m\u001b[43mhistogram\u001b[49m\u001b[43m(\u001b[49m\u001b[43md\u001b[49m\u001b[43m,\u001b[49m\u001b[43m \u001b[49m\u001b[43mbins\u001b[49m\u001b[43m \u001b[49m\u001b[38;5;241;43m=\u001b[39;49m\u001b[43m \u001b[49m\u001b[43minterval_index\u001b[49m\u001b[43m)\u001b[49m\n",
      "File \u001b[0;32m~/miniforge3/envs/cl11.8_t_4.37/lib/python3.10/site-packages/numpy/lib/histograms.py:868\u001b[0m, in \u001b[0;36mhistogram\u001b[0;34m(a, bins, range, density, weights)\u001b[0m\n\u001b[1;32m    866\u001b[0m     \u001b[38;5;28;01mfor\u001b[39;00m i \u001b[38;5;129;01min\u001b[39;00m _range(\u001b[38;5;241m0\u001b[39m, \u001b[38;5;28mlen\u001b[39m(a), BLOCK):\n\u001b[1;32m    867\u001b[0m         sa \u001b[38;5;241m=\u001b[39m np\u001b[38;5;241m.\u001b[39msort(a[i:i\u001b[38;5;241m+\u001b[39mBLOCK])\n\u001b[0;32m--> 868\u001b[0m         cum_n \u001b[38;5;241m+\u001b[39m\u001b[38;5;241m=\u001b[39m \u001b[43m_search_sorted_inclusive\u001b[49m\u001b[43m(\u001b[49m\u001b[43msa\u001b[49m\u001b[43m,\u001b[49m\u001b[43m \u001b[49m\u001b[43mbin_edges\u001b[49m\u001b[43m)\u001b[49m\n\u001b[1;32m    869\u001b[0m \u001b[38;5;28;01melse\u001b[39;00m:\n\u001b[1;32m    870\u001b[0m     zero \u001b[38;5;241m=\u001b[39m np\u001b[38;5;241m.\u001b[39mzeros(\u001b[38;5;241m1\u001b[39m, dtype\u001b[38;5;241m=\u001b[39mntype)\n",
      "File \u001b[0;32m~/miniforge3/envs/cl11.8_t_4.37/lib/python3.10/site-packages/numpy/lib/histograms.py:461\u001b[0m, in \u001b[0;36m_search_sorted_inclusive\u001b[0;34m(a, v)\u001b[0m\n\u001b[1;32m    454\u001b[0m \u001b[38;5;28;01mdef\u001b[39;00m \u001b[38;5;21m_search_sorted_inclusive\u001b[39m(a, v):\n\u001b[1;32m    455\u001b[0m \u001b[38;5;250m    \u001b[39m\u001b[38;5;124;03m\"\"\"\u001b[39;00m\n\u001b[1;32m    456\u001b[0m \u001b[38;5;124;03m    Like `searchsorted`, but where the last item in `v` is placed on the right.\u001b[39;00m\n\u001b[1;32m    457\u001b[0m \n\u001b[1;32m    458\u001b[0m \u001b[38;5;124;03m    In the context of a histogram, this makes the last bin edge inclusive\u001b[39;00m\n\u001b[1;32m    459\u001b[0m \u001b[38;5;124;03m    \"\"\"\u001b[39;00m\n\u001b[1;32m    460\u001b[0m     \u001b[38;5;28;01mreturn\u001b[39;00m np\u001b[38;5;241m.\u001b[39mconcatenate((\n\u001b[0;32m--> 461\u001b[0m         \u001b[43ma\u001b[49m\u001b[38;5;241;43m.\u001b[39;49m\u001b[43msearchsorted\u001b[49m\u001b[43m(\u001b[49m\u001b[43mv\u001b[49m\u001b[43m[\u001b[49m\u001b[43m:\u001b[49m\u001b[38;5;241;43m-\u001b[39;49m\u001b[38;5;241;43m1\u001b[39;49m\u001b[43m]\u001b[49m\u001b[43m,\u001b[49m\u001b[43m \u001b[49m\u001b[38;5;124;43m'\u001b[39;49m\u001b[38;5;124;43mleft\u001b[39;49m\u001b[38;5;124;43m'\u001b[39;49m\u001b[43m)\u001b[49m,\n\u001b[1;32m    462\u001b[0m         a\u001b[38;5;241m.\u001b[39msearchsorted(v[\u001b[38;5;241m-\u001b[39m\u001b[38;5;241m1\u001b[39m:], \u001b[38;5;124m'\u001b[39m\u001b[38;5;124mright\u001b[39m\u001b[38;5;124m'\u001b[39m)\n\u001b[1;32m    463\u001b[0m     ))\n",
      "\u001b[0;31mTypeError\u001b[0m: '<' not supported between instances of 'float' and 'pandas._libs.interval.Interval'"
     ]
    }
   ],
   "source": [
    "np.histogram(d, bins = interval_index)"
   ]
  },
  {
   "cell_type": "code",
   "execution_count": 162,
   "metadata": {},
   "outputs": [
    {
     "data": {
      "text/plain": [
       "<Axes: >"
      ]
     },
     "execution_count": 162,
     "metadata": {},
     "output_type": "execute_result"
    },
    {
     "data": {
      "image/png": "[encoded data removed]",
      "text/plain": [
       "<Figure size 640x480 with 1 Axes>"
      ]
     },
     "metadata": {},
     "output_type": "display_data"
    }
   ],
   "source": [
    "d.hist()"
   ]
  },
  {
   "cell_type": "code",
   "execution_count": 126,
   "metadata": {},
   "outputs": [
    {
     "data": {
      "image/png": "[encoded data removed]",
      "text/plain": [
       "<Figure size 640x480 with 1 Axes>"
      ]
     },
     "metadata": {},
     "output_type": "display_data"
    }
   ],
   "source": [
    "plt.plot(sampled_values);"
   ]
  },
  {
   "cell_type": "code",
   "execution_count": null,
   "metadata": {},
   "outputs": [],
   "source": []
  }
 ],
 "metadata": {
  "kernelspec": {
   "display_name": "chemlactica",
   "language": "python",
   "name": "python3"
  },
  "language_info": {
   "codemirror_mode": {
    "name": "ipython",
    "version": 3
   },
   "file_extension": ".py",
   "mimetype": "text/x-python",
   "name": "python",
   "nbconvert_exporter": "python",
   "pygments_lexer": "ipython3",
   "version": "3.10.13"
  }
 },
 "nbformat": 4,
 "nbformat_minor": 2
}
