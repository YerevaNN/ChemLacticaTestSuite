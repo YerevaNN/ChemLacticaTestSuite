{
 "cells": [
  {
   "cell_type": "code",
   "execution_count": 67,
   "metadata": {},
   "outputs": [],
   "source": [
    "import os\n",
    "import re\n",
    "import pickle\n",
    "import pandas as pd\n",
    "import numpy as np\n",
    "import textwrap\n",
    "import torch\n",
    "from accelerate import init_empty_weights, Accelerator\n",
    "from transformers import AutoModelForCausalLM, AutoTokenizer\n",
    "from custom_modeling_opt import CustomOPTForCausalLM\n",
    "from matplotlib import pyplot as plt"
   ]
  },
  {
   "cell_type": "code",
   "execution_count": 2,
   "metadata": {},
   "outputs": [],
   "source": [
    "seed_value=42\n",
    "torch.manual_seed(42)\n",
    "if torch.cuda.is_available():\n",
    "    torch.cuda.manual_seed(seed_value)\n",
    "    torch.cuda.manual_seed_all(seed_value)\n",
    "    torch.backends.cudnn.deterministic = True\n",
    "    torch.backends.cudnn.benchmark = False"
   ]
  },
  {
   "cell_type": "code",
   "execution_count": 3,
   "metadata": {},
   "outputs": [],
   "source": [
    "import rdkit.Chem as Chem\n",
    "import sys\n",
    "from rdkit.Chem import RDConfig, MACCSkeys, QED\n",
    "from rdkit.Chem.rdMolDescriptors import CalcTPSA, CalcCrippenDescriptors\n",
    "from rdkit.Chem import Descriptors\n",
    "sys.path.append(os.path.join(RDConfig.RDContribDir, 'SA_Score'))\n",
    "import sascorer"
   ]
  },
  {
   "cell_type": "code",
   "execution_count": 4,
   "metadata": {},
   "outputs": [],
   "source": [
    "device = \"cuda:1\""
   ]
  },
  {
   "cell_type": "code",
   "execution_count": 5,
   "metadata": {},
   "outputs": [
    {
     "name": "stdout",
     "output_type": "stream",
     "text": [
      "tokenizer size:  50066\n"
     ]
    }
   ],
   "source": [
    "tokenizer = AutoTokenizer.from_pretrained(\"/auto/home/menuab/code/ChemLacticaTestSuite/src/tokenizer/ChemLacticaTokenizer_50066/\")\n",
    "print('tokenizer size: ', len(tokenizer))"
   ]
  },
  {
   "cell_type": "code",
   "execution_count": 6,
   "metadata": {},
   "outputs": [
    {
     "data": {
      "text/plain": [
       "'/auto/home/menuab/code/checkpoints/26d322857a184fcbafda5d4a/125m_118k_26d3/'"
      ]
     },
     "execution_count": 6,
     "metadata": {},
     "output_type": "execute_result"
    }
   ],
   "source": [
    "checkpoint_path = \"/auto/home/menuab/code/checkpoints/f2c6ebb289994595a478f513/125m_126k_f2c6/\"\n",
    "checkpoint_path = \"/auto/home/menuab/code/checkpoints/f3fbd012918247a388efa732/125m_126k_f3fb/\"\n",
    "checkpoint_path = \"/auto/home/menuab/code/checkpoints/26d322857a184fcbafda5d4a/125m_118k_26d3/\"\n",
    "checkpoint_path"
   ]
  },
  {
   "cell_type": "code",
   "execution_count": 7,
   "metadata": {},
   "outputs": [
    {
     "name": "stdout",
     "output_type": "stream",
     "text": [
      "model loaded with embedding size of : 50066\n"
     ]
    }
   ],
   "source": [
    "model = CustomOPTForCausalLM.from_pretrained(\n",
    "            checkpoint_path,\n",
    "            use_flash_attn=True,\n",
    "            torch_dtype=torch.bfloat16\n",
    "            )\n",
    "model.eval()\n",
    "model.to(device)\n",
    "print(f'model loaded with embedding size of : {model.model.decoder.embed_tokens.num_embeddings}')\n",
    "assert(model.model.decoder.embed_tokens.num_embeddings == len(tokenizer))"
   ]
  },
  {
   "cell_type": "code",
   "execution_count": 9,
   "metadata": {},
   "outputs": [],
   "source": [
    "pubchem_stats_file = open(\"../stats_data/pubchem_stats.pkl\", 'rb')\n",
    "pubchem_stats = pickle.load(pubchem_stats_file)\n",
    "pubchem_stats_file.close()"
   ]
  },
  {
   "cell_type": "code",
   "execution_count": 68,
   "metadata": {},
   "outputs": [
    {
     "data": {
      "text/plain": [
       "QED\n",
       "(-0.00095, 0.0095]    0.000729\n",
       "(0.0095, 0.019]       0.004682\n",
       "(0.019, 0.0285]       0.008829\n",
       "(0.0285, 0.038]       0.008861\n",
       "(0.038, 0.0475]       0.005575\n",
       "                        ...   \n",
       "(0.902, 0.912]        0.010948\n",
       "(0.912, 0.922]        0.008600\n",
       "(0.922, 0.931]        0.005762\n",
       "(0.931, 0.94]         0.003715\n",
       "(0.94, 0.95]          0.000461\n",
       "Name: count, Length: 100, dtype: float64"
      ]
     },
     "execution_count": 68,
     "metadata": {},
     "output_type": "execute_result"
    }
   ],
   "source": [
    "pubchem_stats[\"QED\"]"
   ]
  },
  {
   "cell_type": "code",
   "execution_count": 14,
   "metadata": {},
   "outputs": [
    {
     "ename": "TypeError",
     "evalue": "float() argument must be a string or a real number, not 'pandas._libs.interval.Interval'",
     "output_type": "error",
     "traceback": [
      "\u001b[0;31m---------------------------------------------------------------------------\u001b[0m",
      "\u001b[0;31mTypeError\u001b[0m                                 Traceback (most recent call last)",
      "Cell \u001b[0;32mIn[14], line 9\u001b[0m\n\u001b[1;32m      6\u001b[0m random_numbers \u001b[38;5;241m=\u001b[39m np\u001b[38;5;241m.\u001b[39mrandom\u001b[38;5;241m.\u001b[39mrand(\u001b[38;5;241m100\u001b[39m)\n\u001b[1;32m      8\u001b[0m \u001b[38;5;66;03m# Sample values based on cumulative probabilities:\u001b[39;00m\n\u001b[0;32m----> 9\u001b[0m sampled_values \u001b[38;5;241m=\u001b[39m \u001b[43mnp\u001b[49m\u001b[38;5;241;43m.\u001b[39;49m\u001b[43minterp\u001b[49m\u001b[43m(\u001b[49m\u001b[43mrandom_numbers\u001b[49m\u001b[43m,\u001b[49m\u001b[43m \u001b[49m\u001b[43mcumulative_probs\u001b[49m\u001b[38;5;241;43m.\u001b[39;49m\u001b[43mindex\u001b[49m\u001b[43m,\u001b[49m\u001b[43m \u001b[49m\u001b[43mcumulative_probs\u001b[49m\u001b[38;5;241;43m.\u001b[39;49m\u001b[43mvalues\u001b[49m\u001b[43m)\u001b[49m\n\u001b[1;32m     11\u001b[0m \u001b[38;5;28mprint\u001b[39m(sampled_values)  \u001b[38;5;66;03m# Print the 100 sampled values\u001b[39;00m\n",
      "File \u001b[0;32m~/miniforge3/envs/chemlactica/lib/python3.10/site-packages/numpy/lib/function_base.py:1599\u001b[0m, in \u001b[0;36minterp\u001b[0;34m(x, xp, fp, left, right, period)\u001b[0m\n\u001b[1;32m   1596\u001b[0m     xp \u001b[38;5;241m=\u001b[39m np\u001b[38;5;241m.\u001b[39mconcatenate((xp[\u001b[38;5;241m-\u001b[39m\u001b[38;5;241m1\u001b[39m:]\u001b[38;5;241m-\u001b[39mperiod, xp, xp[\u001b[38;5;241m0\u001b[39m:\u001b[38;5;241m1\u001b[39m]\u001b[38;5;241m+\u001b[39mperiod))\n\u001b[1;32m   1597\u001b[0m     fp \u001b[38;5;241m=\u001b[39m np\u001b[38;5;241m.\u001b[39mconcatenate((fp[\u001b[38;5;241m-\u001b[39m\u001b[38;5;241m1\u001b[39m:], fp, fp[\u001b[38;5;241m0\u001b[39m:\u001b[38;5;241m1\u001b[39m]))\n\u001b[0;32m-> 1599\u001b[0m \u001b[38;5;28;01mreturn\u001b[39;00m \u001b[43minterp_func\u001b[49m\u001b[43m(\u001b[49m\u001b[43mx\u001b[49m\u001b[43m,\u001b[49m\u001b[43m \u001b[49m\u001b[43mxp\u001b[49m\u001b[43m,\u001b[49m\u001b[43m \u001b[49m\u001b[43mfp\u001b[49m\u001b[43m,\u001b[49m\u001b[43m \u001b[49m\u001b[43mleft\u001b[49m\u001b[43m,\u001b[49m\u001b[43m \u001b[49m\u001b[43mright\u001b[49m\u001b[43m)\u001b[49m\n",
      "File \u001b[0;32m~/miniforge3/envs/chemlactica/lib/python3.10/site-packages/pandas/core/indexes/base.py:919\u001b[0m, in \u001b[0;36mIndex.__array__\u001b[0;34m(self, dtype)\u001b[0m\n\u001b[1;32m    915\u001b[0m \u001b[38;5;28;01mdef\u001b[39;00m \u001b[38;5;21m__array__\u001b[39m(\u001b[38;5;28mself\u001b[39m, dtype\u001b[38;5;241m=\u001b[39m\u001b[38;5;28;01mNone\u001b[39;00m) \u001b[38;5;241m-\u001b[39m\u001b[38;5;241m>\u001b[39m np\u001b[38;5;241m.\u001b[39mndarray:\n\u001b[1;32m    916\u001b[0m \u001b[38;5;250m    \u001b[39m\u001b[38;5;124;03m\"\"\"\u001b[39;00m\n\u001b[1;32m    917\u001b[0m \u001b[38;5;124;03m    The array interface, return my values.\u001b[39;00m\n\u001b[1;32m    918\u001b[0m \u001b[38;5;124;03m    \"\"\"\u001b[39;00m\n\u001b[0;32m--> 919\u001b[0m     \u001b[38;5;28;01mreturn\u001b[39;00m \u001b[43mnp\u001b[49m\u001b[38;5;241;43m.\u001b[39;49m\u001b[43masarray\u001b[49m\u001b[43m(\u001b[49m\u001b[38;5;28;43mself\u001b[39;49m\u001b[38;5;241;43m.\u001b[39;49m\u001b[43m_data\u001b[49m\u001b[43m,\u001b[49m\u001b[43m \u001b[49m\u001b[43mdtype\u001b[49m\u001b[38;5;241;43m=\u001b[39;49m\u001b[43mdtype\u001b[49m\u001b[43m)\u001b[49m\n",
      "File \u001b[0;32m~/miniforge3/envs/chemlactica/lib/python3.10/site-packages/pandas/core/arrays/_mixins.py:80\u001b[0m, in \u001b[0;36mravel_compat.<locals>.method\u001b[0;34m(self, *args, **kwargs)\u001b[0m\n\u001b[1;32m     77\u001b[0m \u001b[38;5;129m@wraps\u001b[39m(meth)\n\u001b[1;32m     78\u001b[0m \u001b[38;5;28;01mdef\u001b[39;00m \u001b[38;5;21mmethod\u001b[39m(\u001b[38;5;28mself\u001b[39m, \u001b[38;5;241m*\u001b[39margs, \u001b[38;5;241m*\u001b[39m\u001b[38;5;241m*\u001b[39mkwargs):\n\u001b[1;32m     79\u001b[0m     \u001b[38;5;28;01mif\u001b[39;00m \u001b[38;5;28mself\u001b[39m\u001b[38;5;241m.\u001b[39mndim \u001b[38;5;241m==\u001b[39m \u001b[38;5;241m1\u001b[39m:\n\u001b[0;32m---> 80\u001b[0m         \u001b[38;5;28;01mreturn\u001b[39;00m \u001b[43mmeth\u001b[49m\u001b[43m(\u001b[49m\u001b[38;5;28;43mself\u001b[39;49m\u001b[43m,\u001b[49m\u001b[43m \u001b[49m\u001b[38;5;241;43m*\u001b[39;49m\u001b[43margs\u001b[49m\u001b[43m,\u001b[49m\u001b[43m \u001b[49m\u001b[38;5;241;43m*\u001b[39;49m\u001b[38;5;241;43m*\u001b[39;49m\u001b[43mkwargs\u001b[49m\u001b[43m)\u001b[49m\n\u001b[1;32m     82\u001b[0m     flags \u001b[38;5;241m=\u001b[39m \u001b[38;5;28mself\u001b[39m\u001b[38;5;241m.\u001b[39m_ndarray\u001b[38;5;241m.\u001b[39mflags\n\u001b[1;32m     83\u001b[0m     flat \u001b[38;5;241m=\u001b[39m \u001b[38;5;28mself\u001b[39m\u001b[38;5;241m.\u001b[39mravel(\u001b[38;5;124m\"\u001b[39m\u001b[38;5;124mK\u001b[39m\u001b[38;5;124m\"\u001b[39m)\n",
      "File \u001b[0;32m~/miniforge3/envs/chemlactica/lib/python3.10/site-packages/pandas/core/arrays/categorical.py:1635\u001b[0m, in \u001b[0;36mCategorical.__array__\u001b[0;34m(self, dtype)\u001b[0m\n\u001b[1;32m   1633\u001b[0m ret \u001b[38;5;241m=\u001b[39m take_nd(\u001b[38;5;28mself\u001b[39m\u001b[38;5;241m.\u001b[39mcategories\u001b[38;5;241m.\u001b[39m_values, \u001b[38;5;28mself\u001b[39m\u001b[38;5;241m.\u001b[39m_codes)\n\u001b[1;32m   1634\u001b[0m \u001b[38;5;28;01mif\u001b[39;00m dtype \u001b[38;5;129;01mand\u001b[39;00m np\u001b[38;5;241m.\u001b[39mdtype(dtype) \u001b[38;5;241m!=\u001b[39m \u001b[38;5;28mself\u001b[39m\u001b[38;5;241m.\u001b[39mcategories\u001b[38;5;241m.\u001b[39mdtype:\n\u001b[0;32m-> 1635\u001b[0m     \u001b[38;5;28;01mreturn\u001b[39;00m \u001b[43mnp\u001b[49m\u001b[38;5;241;43m.\u001b[39;49m\u001b[43masarray\u001b[49m\u001b[43m(\u001b[49m\u001b[43mret\u001b[49m\u001b[43m,\u001b[49m\u001b[43m \u001b[49m\u001b[43mdtype\u001b[49m\u001b[43m)\u001b[49m\n\u001b[1;32m   1636\u001b[0m \u001b[38;5;66;03m# When we're a Categorical[ExtensionArray], like Interval,\u001b[39;00m\n\u001b[1;32m   1637\u001b[0m \u001b[38;5;66;03m# we need to ensure __array__ gets all the way to an\u001b[39;00m\n\u001b[1;32m   1638\u001b[0m \u001b[38;5;66;03m# ndarray.\u001b[39;00m\n\u001b[1;32m   1639\u001b[0m \u001b[38;5;28;01mreturn\u001b[39;00m np\u001b[38;5;241m.\u001b[39masarray(ret)\n",
      "\u001b[0;31mTypeError\u001b[0m: float() argument must be a string or a real number, not 'pandas._libs.interval.Interval'"
     ]
    }
   ],
   "source": [
    "frequency_series = pubchem_stats[\"QED\"] \n",
    "# Calculate cumulative probabilities:\n",
    "cumulative_probs = frequency_series.cumsum() / frequency_series.sum()\n",
    "\n",
    "# Generate 100 random numbers between 0 and 1:\n",
    "random_numbers = np.random.rand(100)\n",
    "\n",
    "# Sample values based on cumulative probabilities:\n",
    "sampled_values = np.interp(random_numbers, cumulative_probs.index, cumulative_probs.values)\n",
    "\n",
    "print(sampled_values)  # Print the 100 sampled values"
   ]
  },
  {
   "cell_type": "code",
   "execution_count": 93,
   "metadata": {},
   "outputs": [],
   "source": [
    "frequency_data = pubchem_stats[\"QED\"] \n",
    "frequency_data /= frequency_data.sum()\n",
    "sampled_values = np.random.choice(np.arange(0,1,0.01), size=10000, p=None)"
   ]
  },
  {
   "cell_type": "code",
   "execution_count": 94,
   "metadata": {},
   "outputs": [
    {
     "data": {
      "image/png": "[encoded data removed]",
      "text/plain": [
       "<Figure size 640x480 with 1 Axes>"
      ]
     },
     "metadata": {},
     "output_type": "display_data"
    }
   ],
   "source": [
    "plt.hist(sampled_values, bins=100);"
   ]
  },
  {
   "cell_type": "code",
   "execution_count": null,
   "metadata": {},
   "outputs": [],
   "source": []
  }
 ],
 "metadata": {
  "kernelspec": {
   "display_name": "chemlactica",
   "language": "python",
   "name": "python3"
  },
  "language_info": {
   "codemirror_mode": {
    "name": "ipython",
    "version": 3
   },
   "file_extension": ".py",
   "mimetype": "text/x-python",
   "name": "python",
   "nbconvert_exporter": "python",
   "pygments_lexer": "ipython3",
   "version": "3.10.13"
  }
 },
 "nbformat": 4,
 "nbformat_minor": 2
}
