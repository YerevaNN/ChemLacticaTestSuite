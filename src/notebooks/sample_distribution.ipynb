{
 "cells": [
  {
   "cell_type": "code",
   "execution_count": 1,
   "metadata": {},
   "outputs": [],
   "source": [
    "import os\n",
    "import re\n",
    "import pickle\n",
    "import pandas as pd\n",
    "import numpy as np\n",
    "import textwrap\n",
    "import scipy\n",
    "import torch\n",
    "from accelerate import init_empty_weights, Accelerator\n",
    "from transformers import AutoModelForCausalLM, AutoTokenizer\n",
    "from custom_modeling_opt import CustomOPTForCausalLM\n",
    "from matplotlib import pyplot as plt"
   ]
  },
  {
   "cell_type": "code",
   "execution_count": 2,
   "metadata": {},
   "outputs": [],
   "source": [
    "seed_value=42\n",
    "torch.manual_seed(42)\n",
    "if torch.cuda.is_available():\n",
    "    torch.cuda.manual_seed(seed_value)\n",
    "    torch.cuda.manual_seed_all(seed_value)\n",
    "    torch.backends.cudnn.deterministic = True\n",
    "    torch.backends.cudnn.benchmark = False"
   ]
  },
  {
   "cell_type": "code",
   "execution_count": 3,
   "metadata": {},
   "outputs": [],
   "source": [
    "import rdkit.Chem as Chem\n",
    "import sys\n",
    "from rdkit.Chem import RDConfig, MACCSkeys, QED\n",
    "from rdkit.Chem.rdMolDescriptors import CalcTPSA, CalcCrippenDescriptors\n",
    "from rdkit.Chem import Descriptors\n",
    "sys.path.append(os.path.join(RDConfig.RDContribDir, 'SA_Score'))\n",
    "import sascorer"
   ]
  },
  {
   "cell_type": "code",
   "execution_count": 4,
   "metadata": {},
   "outputs": [],
   "source": [
    "device = \"cuda:0\""
   ]
  },
  {
   "cell_type": "code",
   "execution_count": 5,
   "metadata": {},
   "outputs": [
    {
     "name": "stderr",
     "output_type": "stream",
     "text": [
      "Special tokens have been added in the vocabulary, make sure the associated word embeddings are fine-tuned or trained.\n"
     ]
    },
    {
     "name": "stdout",
     "output_type": "stream",
     "text": [
      "tokenizer size:  50066\n"
     ]
    }
   ],
   "source": [
    "tokenizer = AutoTokenizer.from_pretrained(\"/auto/home/menuab/code/ChemLacticaTestSuite/src/tokenizer/ChemLacticaTokenizer_50066/\")\n",
    "print('tokenizer size: ', len(tokenizer))"
   ]
  },
  {
   "cell_type": "code",
   "execution_count": 6,
   "metadata": {},
   "outputs": [
    {
     "data": {
      "text/plain": [
       "'/auto/home/menuab/code/checkpoints/26d322857a184fcbafda5d4a/125m_118k_26d3/'"
      ]
     },
     "execution_count": 6,
     "metadata": {},
     "output_type": "execute_result"
    }
   ],
   "source": [
    "checkpoint_path = \"/auto/home/menuab/code/checkpoints/f2c6ebb289994595a478f513/125m_126k_f2c6/\"\n",
    "checkpoint_path = \"/auto/home/menuab/code/checkpoints/f3fbd012918247a388efa732/125m_126k_f3fb/\"\n",
    "checkpoint_path = \"/auto/home/menuab/code/checkpoints/26d322857a184fcbafda5d4a/125m_118k_26d3/\"\n",
    "checkpoint_path"
   ]
  },
  {
   "cell_type": "code",
   "execution_count": 7,
   "metadata": {},
   "outputs": [
    {
     "name": "stderr",
     "output_type": "stream",
     "text": [
      "/auto/home/menuab/miniforge3/envs/cl11.8_t_4.37/lib/python3.10/site-packages/torch/_utils.py:831: UserWarning: TypedStorage is deprecated. It will be removed in the future and UntypedStorage will be the only storage class. This should only matter to you if you are using storages directly.  To access UntypedStorage directly, use tensor.untyped_storage() instead of tensor.storage()\n",
      "  return self.fget.__get__(instance, owner)()\n"
     ]
    },
    {
     "name": "stdout",
     "output_type": "stream",
     "text": [
      "model loaded with embedding size of : 50066\n"
     ]
    }
   ],
   "source": [
    "model = CustomOPTForCausalLM.from_pretrained(\n",
    "            checkpoint_path,\n",
    "            use_flash_attn=True,\n",
    "            torch_dtype=torch.bfloat16\n",
    "            )\n",
    "model.eval()\n",
    "model.to(device)\n",
    "print(f'model loaded with embedding size of : {model.model.decoder.embed_tokens.num_embeddings}')\n",
    "assert(model.model.decoder.embed_tokens.num_embeddings == len(tokenizer))"
   ]
  },
  {
   "cell_type": "code",
   "execution_count": 5,
   "metadata": {},
   "outputs": [
    {
     "data": {
      "text/html": [
       "<div>\n",
       "<style scoped>\n",
       "    .dataframe tbody tr th:only-of-type {\n",
       "        vertical-align: middle;\n",
       "    }\n",
       "\n",
       "    .dataframe tbody tr th {\n",
       "        vertical-align: top;\n",
       "    }\n",
       "\n",
       "    .dataframe thead th {\n",
       "        text-align: right;\n",
       "    }\n",
       "</style>\n",
       "<table border=\"1\" class=\"dataframe\">\n",
       "  <thead>\n",
       "    <tr style=\"text-align: right;\">\n",
       "      <th></th>\n",
       "      <th>Weight</th>\n",
       "      <th>SAS</th>\n",
       "      <th>CLogP</th>\n",
       "      <th>TPSA</th>\n",
       "      <th>QED</th>\n",
       "      <th>0</th>\n",
       "    </tr>\n",
       "  </thead>\n",
       "  <tbody>\n",
       "    <tr>\n",
       "      <th>0</th>\n",
       "      <td>325.18</td>\n",
       "      <td>2.09</td>\n",
       "      <td>6.23</td>\n",
       "      <td>63.05</td>\n",
       "      <td>0.46</td>\n",
       "      <td>0.0</td>\n",
       "    </tr>\n",
       "    <tr>\n",
       "      <th>1</th>\n",
       "      <td>336.18</td>\n",
       "      <td>2.75</td>\n",
       "      <td>2.67</td>\n",
       "      <td>32.78</td>\n",
       "      <td>0.86</td>\n",
       "      <td>0.0</td>\n",
       "    </tr>\n",
       "    <tr>\n",
       "      <th>2</th>\n",
       "      <td>282.91</td>\n",
       "      <td>2.30</td>\n",
       "      <td>4.16</td>\n",
       "      <td>29.10</td>\n",
       "      <td>0.81</td>\n",
       "      <td>0.0</td>\n",
       "    </tr>\n",
       "    <tr>\n",
       "      <th>3</th>\n",
       "      <td>300.14</td>\n",
       "      <td>4.15</td>\n",
       "      <td>2.68</td>\n",
       "      <td>71.44</td>\n",
       "      <td>0.55</td>\n",
       "      <td>0.0</td>\n",
       "    </tr>\n",
       "    <tr>\n",
       "      <th>4</th>\n",
       "      <td>188.03</td>\n",
       "      <td>2.84</td>\n",
       "      <td>1.37</td>\n",
       "      <td>54.46</td>\n",
       "      <td>0.68</td>\n",
       "      <td>0.0</td>\n",
       "    </tr>\n",
       "  </tbody>\n",
       "</table>\n",
       "</div>"
      ],
      "text/plain": [
       "   Weight   SAS  CLogP   TPSA   QED    0\n",
       "0  325.18  2.09   6.23  63.05  0.46  0.0\n",
       "1  336.18  2.75   2.67  32.78  0.86  0.0\n",
       "2  282.91  2.30   4.16  29.10  0.81  0.0\n",
       "3  300.14  4.15   2.68  71.44  0.55  0.0\n",
       "4  188.03  2.84   1.37  54.46  0.68  0.0"
      ]
     },
     "execution_count": 5,
     "metadata": {},
     "output_type": "execute_result"
    }
   ],
   "source": [
    "data = pd.read_csv('/auto/home/menuab/code/computed_prop_for_Menua.csv', skiprows=[0], header=0)\n",
    "data.head()"
   ]
  },
  {
   "cell_type": "code",
   "execution_count": 54,
   "metadata": {},
   "outputs": [],
   "source": [
    "prior_distribution_samples = {}"
   ]
  },
  {
   "cell_type": "code",
   "execution_count": 13,
   "metadata": {},
   "outputs": [
    {
     "data": {
      "text/html": [
       "<div>\n",
       "<style scoped>\n",
       "    .dataframe tbody tr th:only-of-type {\n",
       "        vertical-align: middle;\n",
       "    }\n",
       "\n",
       "    .dataframe tbody tr th {\n",
       "        vertical-align: top;\n",
       "    }\n",
       "\n",
       "    .dataframe thead th {\n",
       "        text-align: right;\n",
       "    }\n",
       "</style>\n",
       "<table border=\"1\" class=\"dataframe\">\n",
       "  <thead>\n",
       "    <tr style=\"text-align: right;\">\n",
       "      <th></th>\n",
       "      <th>Weight</th>\n",
       "      <th>SAS</th>\n",
       "      <th>CLogP</th>\n",
       "      <th>TPSA</th>\n",
       "      <th>QED</th>\n",
       "      <th>0</th>\n",
       "    </tr>\n",
       "  </thead>\n",
       "  <tbody>\n",
       "    <tr>\n",
       "      <th>count</th>\n",
       "      <td>7.818926e+07</td>\n",
       "      <td>7.818926e+07</td>\n",
       "      <td>7.818926e+07</td>\n",
       "      <td>7.818926e+07</td>\n",
       "      <td>7.818922e+07</td>\n",
       "      <td>7.819579e+07</td>\n",
       "    </tr>\n",
       "    <tr>\n",
       "      <th>mean</th>\n",
       "      <td>3.667522e+02</td>\n",
       "      <td>2.943413e+00</td>\n",
       "      <td>3.225748e+00</td>\n",
       "      <td>7.045073e+01</td>\n",
       "      <td>6.064342e-01</td>\n",
       "      <td>1.085480e-03</td>\n",
       "    </tr>\n",
       "    <tr>\n",
       "      <th>std</th>\n",
       "      <td>1.667999e+02</td>\n",
       "      <td>8.270422e-01</td>\n",
       "      <td>2.438680e+00</td>\n",
       "      <td>5.320051e+01</td>\n",
       "      <td>2.248175e-01</td>\n",
       "      <td>4.549508e-02</td>\n",
       "    </tr>\n",
       "    <tr>\n",
       "      <th>min</th>\n",
       "      <td>1.010000e+00</td>\n",
       "      <td>1.000000e+00</td>\n",
       "      <td>-2.186400e+02</td>\n",
       "      <td>0.000000e+00</td>\n",
       "      <td>0.000000e+00</td>\n",
       "      <td>0.000000e+00</td>\n",
       "    </tr>\n",
       "    <tr>\n",
       "      <th>25%</th>\n",
       "      <td>2.721500e+02</td>\n",
       "      <td>2.390000e+00</td>\n",
       "      <td>1.980000e+00</td>\n",
       "      <td>4.448000e+01</td>\n",
       "      <td>4.500000e-01</td>\n",
       "      <td>0.000000e+00</td>\n",
       "    </tr>\n",
       "    <tr>\n",
       "      <th>50%</th>\n",
       "      <td>3.391300e+02</td>\n",
       "      <td>2.780000e+00</td>\n",
       "      <td>3.090000e+00</td>\n",
       "      <td>6.443000e+01</td>\n",
       "      <td>6.500000e-01</td>\n",
       "      <td>0.000000e+00</td>\n",
       "    </tr>\n",
       "    <tr>\n",
       "      <th>75%</th>\n",
       "      <td>4.261800e+02</td>\n",
       "      <td>3.280000e+00</td>\n",
       "      <td>4.250000e+00</td>\n",
       "      <td>8.628000e+01</td>\n",
       "      <td>7.900000e-01</td>\n",
       "      <td>0.000000e+00</td>\n",
       "    </tr>\n",
       "    <tr>\n",
       "      <th>max</th>\n",
       "      <td>5.975075e+04</td>\n",
       "      <td>1.000000e+01</td>\n",
       "      <td>2.054800e+02</td>\n",
       "      <td>7.553400e+03</td>\n",
       "      <td>9.500000e-01</td>\n",
       "      <td>2.000000e+00</td>\n",
       "    </tr>\n",
       "  </tbody>\n",
       "</table>\n",
       "</div>"
      ],
      "text/plain": [
       "             Weight           SAS         CLogP          TPSA           QED  \\\n",
       "count  7.818926e+07  7.818926e+07  7.818926e+07  7.818926e+07  7.818922e+07   \n",
       "mean   3.667522e+02  2.943413e+00  3.225748e+00  7.045073e+01  6.064342e-01   \n",
       "std    1.667999e+02  8.270422e-01  2.438680e+00  5.320051e+01  2.248175e-01   \n",
       "min    1.010000e+00  1.000000e+00 -2.186400e+02  0.000000e+00  0.000000e+00   \n",
       "25%    2.721500e+02  2.390000e+00  1.980000e+00  4.448000e+01  4.500000e-01   \n",
       "50%    3.391300e+02  2.780000e+00  3.090000e+00  6.443000e+01  6.500000e-01   \n",
       "75%    4.261800e+02  3.280000e+00  4.250000e+00  8.628000e+01  7.900000e-01   \n",
       "max    5.975075e+04  1.000000e+01  2.054800e+02  7.553400e+03  9.500000e-01   \n",
       "\n",
       "                  0  \n",
       "count  7.819579e+07  \n",
       "mean   1.085480e-03  \n",
       "std    4.549508e-02  \n",
       "min    0.000000e+00  \n",
       "25%    0.000000e+00  \n",
       "50%    0.000000e+00  \n",
       "75%    0.000000e+00  \n",
       "max    2.000000e+00  "
      ]
     },
     "execution_count": 13,
     "metadata": {},
     "output_type": "execute_result"
    }
   ],
   "source": [
    "data.describe()"
   ]
  },
  {
   "cell_type": "code",
   "execution_count": 51,
   "metadata": {},
   "outputs": [],
   "source": [
    "sas_dist = data.SAS.sample(n=90, random_state=42)"
   ]
  },
  {
   "cell_type": "code",
   "execution_count": 78,
   "metadata": {},
   "outputs": [],
   "source": [
    "clogp_dist = data.CLogP[(1<data.CLogP) & (data.CLogP<10)].sample(n=90, random_state=42)"
   ]
  },
  {
   "cell_type": "code",
   "execution_count": 82,
   "metadata": {},
   "outputs": [],
   "source": [
    "qed_dist = data.QED.sample(n=100, random_state=42)"
   ]
  },
  {
   "cell_type": "code",
   "execution_count": 88,
   "metadata": {},
   "outputs": [],
   "source": [
    "weight_dist = data.Weight[(100<data.Weight) & (data.Weight<1000)].sample(n=900, random_state=42)"
   ]
  },
  {
   "cell_type": "code",
   "execution_count": 99,
   "metadata": {},
   "outputs": [],
   "source": [
    "TPSA_dist = data.TPSA[(data.TPSA<100)].sample(n=200, random_state=42)"
   ]
  },
  {
   "cell_type": "code",
   "execution_count": 118,
   "metadata": {},
   "outputs": [
    {
     "data": {
      "text/plain": [
       "(array([ 7.,  7., 28., 14., 25., 34., 23., 26., 18., 18.]),\n",
       " array([ 8.81 , 17.907, 27.004, 36.101, 45.198, 54.295, 63.392, 72.489,\n",
       "        81.586, 90.683, 99.78 ]),\n",
       " <BarContainer object of 10 artists>)"
      ]
     },
     "execution_count": 118,
     "metadata": {},
     "output_type": "execute_result"
    },
    {
     "data": {
      "image/png": "[encoded data removed]",
      "text/plain": [
       "<Figure size 640x480 with 1 Axes>"
      ]
     },
     "metadata": {},
     "output_type": "display_data"
    }
   ],
   "source": [
    "plt.hist(TPSA_dist)"
   ]
  },
  {
   "cell_type": "code",
   "execution_count": 103,
   "metadata": {},
   "outputs": [],
   "source": [
    "prior_distribution_samples[\"TPSA\"]=np.floor(TPSA_dist.values * 10)/10"
   ]
  },
  {
   "cell_type": "code",
   "execution_count": 104,
   "metadata": {},
   "outputs": [],
   "source": [
    "with open(\"prior_distribution_samples\",\"wb\") as f:\n",
    "    pickle.dump(prior_distribution_samples, f)"
   ]
  },
  {
   "cell_type": "code",
   "execution_count": 28,
   "metadata": {},
   "outputs": [],
   "source": [
    "pubchem_stats_file = open(\"../stats_data/pubchem_stats.pkl\", 'rb')\n",
    "pubchem_stats = pickle.load(pubchem_stats_file)\n",
    "pubchem_stats_file.close()"
   ]
  },
  {
   "cell_type": "code",
   "execution_count": 26,
   "metadata": {},
   "outputs": [],
   "source": [
    "pubchem_stats[\"TPSA\"] = freq"
   ]
  },
  {
   "cell_type": "code",
   "execution_count": 27,
   "metadata": {},
   "outputs": [],
   "source": [
    "with open(\"../stats_data/pubchem_stats.pkl\",\"wb\") as f:\n",
    "    pickle.dump(pubchem_stats, f)"
   ]
  },
  {
   "cell_type": "code",
   "execution_count": 18,
   "metadata": {},
   "outputs": [],
   "source": [
    "interval_index = pd.interval_range(start=0, end=100, periods=100, closed='left')"
   ]
  },
  {
   "cell_type": "code",
   "execution_count": null,
   "metadata": {},
   "outputs": [],
   "source": [
    "interval_index"
   ]
  },
  {
   "cell_type": "code",
   "execution_count": 1,
   "metadata": {},
   "outputs": [
    {
     "ename": "NameError",
     "evalue": "name 'data' is not defined",
     "output_type": "error",
     "traceback": [
      "\u001b[0;31m---------------------------------------------------------------------------\u001b[0m",
      "\u001b[0;31mNameError\u001b[0m                                 Traceback (most recent call last)",
      "Cell \u001b[0;32mIn[1], line 1\u001b[0m\n\u001b[0;32m----> 1\u001b[0m d\u001b[38;5;241m=\u001b[39m\u001b[43mdata\u001b[49m\u001b[38;5;241m.\u001b[39mTPSA[(data\u001b[38;5;241m.\u001b[39mTPSA\u001b[38;5;241m>\u001b[39m\u001b[38;5;241m0\u001b[39m)\u001b[38;5;241m&\u001b[39m(data\u001b[38;5;241m.\u001b[39mTPSA\u001b[38;5;241m<\u001b[39m\u001b[38;5;241m100\u001b[39m)]\n",
      "\u001b[0;31mNameError\u001b[0m: name 'data' is not defined"
     ]
    }
   ],
   "source": [
    "interval_index = pd.interval_range(start=0, end=100, periods=100, closed='left')\n",
    "d=data.TPSA[(data.TPSA>0)&(data.TPSA<100)]\n",
    "frequency_data = pd.cut(d, bins=interval_index)\n",
    "freq=frequency_data.value_counts().sort_index()"
   ]
  },
  {
   "cell_type": "code",
   "execution_count": 19,
   "metadata": {},
   "outputs": [],
   "source": [
    "frequency_data = pd.cut(d, bins=interval_index)\n",
    "# sampled_values = np.random.choice(np.arange(0,1,0.01), size=10000, p=None)"
   ]
  },
  {
   "cell_type": "code",
   "execution_count": 20,
   "metadata": {},
   "outputs": [],
   "source": [
    "freq=frequency_data.value_counts().sort_index()"
   ]
  },
  {
   "cell_type": "code",
   "execution_count": 22,
   "metadata": {},
   "outputs": [
    {
     "data": {
      "text/plain": [
       "IntervalIndex([   [0, 1),    [1, 2),    [2, 3),    [3, 4),    [4, 5),\n",
       "                  [5, 6),    [6, 7),    [7, 8),    [8, 9),   [9, 10),\n",
       "                [10, 11),  [11, 12),  [12, 13),  [13, 14),  [14, 15),\n",
       "                [15, 16),  [16, 17),  [17, 18),  [18, 19),  [19, 20),\n",
       "                [20, 21),  [21, 22),  [22, 23),  [23, 24),  [24, 25),\n",
       "                [25, 26),  [26, 27),  [27, 28),  [28, 29),  [29, 30),\n",
       "                [30, 31),  [31, 32),  [32, 33),  [33, 34),  [34, 35),\n",
       "                [35, 36),  [36, 37),  [37, 38),  [38, 39),  [39, 40),\n",
       "                [40, 41),  [41, 42),  [42, 43),  [43, 44),  [44, 45),\n",
       "                [45, 46),  [46, 47),  [47, 48),  [48, 49),  [49, 50),\n",
       "                [50, 51),  [51, 52),  [52, 53),  [53, 54),  [54, 55),\n",
       "                [55, 56),  [56, 57),  [57, 58),  [58, 59),  [59, 60),\n",
       "                [60, 61),  [61, 62),  [62, 63),  [63, 64),  [64, 65),\n",
       "                [65, 66),  [66, 67),  [67, 68),  [68, 69),  [69, 70),\n",
       "                [70, 71),  [71, 72),  [72, 73),  [73, 74),  [74, 75),\n",
       "                [75, 76),  [76, 77),  [77, 78),  [78, 79),  [79, 80),\n",
       "                [80, 81),  [81, 82),  [82, 83),  [83, 84),  [84, 85),\n",
       "                [85, 86),  [86, 87),  [87, 88),  [88, 89),  [89, 90),\n",
       "                [90, 91),  [91, 92),  [92, 93),  [93, 94),  [94, 95),\n",
       "                [95, 96),  [96, 97),  [97, 98),  [98, 99), [99, 100)],\n",
       "              dtype='interval[int64, left]')"
      ]
     },
     "execution_count": 22,
     "metadata": {},
     "output_type": "execute_result"
    }
   ],
   "source": [
    "interval_index"
   ]
  },
  {
   "cell_type": "code",
   "execution_count": 24,
   "metadata": {},
   "outputs": [
    {
     "data": {
      "text/plain": [
       "<BarContainer object of 100 artists>"
      ]
     },
     "execution_count": 24,
     "metadata": {},
     "output_type": "execute_result"
    },
    {
     "data": {
      "image/png": "[encoded data removed]",
      "text/plain": [
       "<Figure size 640x480 with 1 Axes>"
      ]
     },
     "metadata": {},
     "output_type": "display_data"
    }
   ],
   "source": [
    "plt.bar([interval.mid for interval in freq.index], freq, width=5)"
   ]
  },
  {
   "cell_type": "code",
   "execution_count": null,
   "metadata": {},
   "outputs": [
    {
     "data": {
      "text/plain": [
       "(array([     51,     174,     345,     809,    1713,    2804,    4436,\n",
       "           7616,   14242,   21004,   39086,   76499,  112619,  142354,\n",
       "         226438,  325054,  392617,  517298,  714506,  927853, 1124067,\n",
       "        1420410, 1826652, 2163135, 2485302, 2870738, 3291184, 3344360,\n",
       "        3500954, 3318328, 2763228, 2646485, 2480002, 2474517, 2589206,\n",
       "        2381066, 2315961, 2296847, 2259460, 2219175, 2071217, 2025795,\n",
       "        1849714, 1724320, 1631138, 1441185, 1364481, 1290248, 1201452,\n",
       "        1106978,  818056,  750924,  687381,  624564,  563244,  499580,\n",
       "         448356,  387209,  333155,  296599,  261854,  240216,  214607,\n",
       "         196042,  178688,  163050,  148537,  135070,  123845,  114243,\n",
       "         103890,   98723,   90540,   83383,   79895,   73946,   69079,\n",
       "          64335,   60394,   57333,   54392,   50358,   47603,   44541,\n",
       "          42418,   40197,   37400,   35210,   33641,   31533,   29880,\n",
       "          29309,   26508,   24601,   24366,   23290,   21693,   20468,\n",
       "          19007,   18567]),\n",
       " array([   0,   10,   20,   30,   40,   50,   60,   70,   80,   90,  100,\n",
       "         110,  120,  130,  140,  150,  160,  170,  180,  190,  200,  210,\n",
       "         220,  230,  240,  250,  260,  270,  280,  290,  300,  310,  320,\n",
       "         330,  340,  350,  360,  370,  380,  390,  400,  410,  420,  430,\n",
       "         440,  450,  460,  470,  480,  490,  500,  510,  520,  530,  540,\n",
       "         550,  560,  570,  580,  590,  600,  610,  620,  630,  640,  650,\n",
       "         660,  670,  680,  690,  700,  710,  720,  730,  740,  750,  760,\n",
       "         770,  780,  790,  800,  810,  820,  830,  840,  850,  860,  870,\n",
       "         880,  890,  900,  910,  920,  930,  940,  950,  960,  970,  980,\n",
       "         990, 1000]))"
      ]
     },
     "execution_count": 165,
     "metadata": {},
     "output_type": "execute_result"
    }
   ],
   "source": [
    "np.histogram(d, bins = interval_index)"
   ]
  },
  {
   "cell_type": "code",
   "execution_count": 162,
   "metadata": {},
   "outputs": [
    {
     "data": {
      "text/plain": [
       "<Axes: >"
      ]
     },
     "execution_count": 162,
     "metadata": {},
     "output_type": "execute_result"
    },
    {
     "data": {
      "image/png": "[encoded data removed]",
      "text/plain": [
       "<Figure size 640x480 with 1 Axes>"
      ]
     },
     "metadata": {},
     "output_type": "display_data"
    }
   ],
   "source": [
    "d.hist()"
   ]
  },
  {
   "cell_type": "code",
   "execution_count": 126,
   "metadata": {},
   "outputs": [
    {
     "data": {
      "image/png": "[encoded data removed]",
      "text/plain": [
       "<Figure size 640x480 with 1 Axes>"
      ]
     },
     "metadata": {},
     "output_type": "display_data"
    }
   ],
   "source": [
    "plt.plot(sampled_values);"
   ]
  },
  {
   "cell_type": "code",
   "execution_count": null,
   "metadata": {},
   "outputs": [],
   "source": []
  }
 ],
 "metadata": {
  "kernelspec": {
   "display_name": "chemlactica",
   "language": "python",
   "name": "python3"
  },
  "language_info": {
   "codemirror_mode": {
    "name": "ipython",
    "version": 3
   },
   "file_extension": ".py",
   "mimetype": "text/x-python",
   "name": "python",
   "nbconvert_exporter": "python",
   "pygments_lexer": "ipython3",
   "version": "3.10.13"
  }
 },
 "nbformat": 4,
 "nbformat_minor": 2
}
