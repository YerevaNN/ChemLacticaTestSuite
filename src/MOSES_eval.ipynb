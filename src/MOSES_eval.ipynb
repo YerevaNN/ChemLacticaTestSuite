{
 "cells": [
  {
   "cell_type": "code",
   "execution_count": 8,
   "metadata": {},
   "outputs": [],
   "source": [
    "import os\n",
    "import re\n",
    "import numpy as np\n",
    "import pandas as pd\n",
    "import textwrap\n",
    "import pickle\n",
    "import torch\n",
    "from accelerate import init_empty_weights, Accelerator\n",
    "from transformers import AutoModelForCausalLM, AutoTokenizer\n",
    "from custom_modeling_opt import CustomOPTForCausalLM\n",
    "from matplotlib import pyplot as plt\n",
    "import seaborn as sns"
   ]
  },
  {
   "cell_type": "code",
   "execution_count": 2,
   "metadata": {},
   "outputs": [],
   "source": [
    "seed_value=42\n",
    "torch.manual_seed(42)\n",
    "if torch.cuda.is_available():\n",
    "    torch.cuda.manual_seed(seed_value)\n",
    "    torch.cuda.manual_seed_all(seed_value)\n",
    "    torch.backends.cudnn.deterministic = True\n",
    "    torch.backends.cudnn.benchmark = False"
   ]
  },
  {
   "cell_type": "code",
   "execution_count": 3,
   "metadata": {},
   "outputs": [],
   "source": [
    "import rdkit.Chem as Chem\n",
    "import sys\n",
    "from rdkit.Chem import RDConfig, MACCSkeys, QED\n",
    "from rdkit.Chem.rdMolDescriptors import CalcTPSA, CalcCrippenDescriptors\n",
    "from rdkit.Chem import Descriptors\n",
    "sys.path.append(os.path.join(RDConfig.RDContribDir, 'SA_Score'))\n",
    "import sascorer"
   ]
  },
  {
   "cell_type": "code",
   "execution_count": 1,
   "metadata": {},
   "outputs": [
    {
     "ename": "ModuleNotFoundError",
     "evalue": "No module named 'moses'",
     "output_type": "error",
     "traceback": [
      "\u001b[0;31m---------------------------------------------------------------------------\u001b[0m",
      "\u001b[0;31mModuleNotFoundError\u001b[0m                       Traceback (most recent call last)",
      "Cell \u001b[0;32mIn[1], line 1\u001b[0m\n\u001b[0;32m----> 1\u001b[0m \u001b[38;5;28;01mimport\u001b[39;00m \u001b[38;5;21;01mmoses\u001b[39;00m\n",
      "\u001b[0;31mModuleNotFoundError\u001b[0m: No module named 'moses'"
     ]
    }
   ],
   "source": [
    "import moses"
   ]
  },
  {
   "cell_type": "code",
   "execution_count": 4,
   "metadata": {},
   "outputs": [],
   "source": [
    "device = \"cuda:1\""
   ]
  },
  {
   "cell_type": "code",
   "execution_count": null,
   "metadata": {},
   "outputs": [],
   "source": []
  },
  {
   "cell_type": "code",
   "execution_count": 5,
   "metadata": {},
   "outputs": [
    {
     "name": "stdout",
     "output_type": "stream",
     "text": [
      "tokenizer size:  50066\n"
     ]
    }
   ],
   "source": [
    "tokenizer = AutoTokenizer.from_pretrained(\"/home/menuab/code/ChemLacticaTestSuite/src/tokenizer/ChemLacticaTokenizer_50066/\")\n",
    "print('tokenizer size: ', len(tokenizer))"
   ]
  },
  {
   "cell_type": "code",
   "execution_count": 6,
   "metadata": {},
   "outputs": [
    {
     "data": {
      "text/plain": [
       "'/home/menuab/code/checkpoints/f3fbd012918247a388efa732/125m_126k_f3fb/'"
      ]
     },
     "execution_count": 6,
     "metadata": {},
     "output_type": "execute_result"
    }
   ],
   "source": [
    "checkpoint_path = \"/home/menuab/code/checkpoints/f2c6ebb289994595a478f513/125m_126k_f2c6/\"\n",
    "checkpoint_path = \"/home/menuab/code/checkpoints/f3fbd012918247a388efa732/125m_126k_f3fb/\"\n",
    "checkpoint_path"
   ]
  },
  {
   "cell_type": "code",
   "execution_count": 7,
   "metadata": {},
   "outputs": [
    {
     "name": "stdout",
     "output_type": "stream",
     "text": [
      "model loaded with embedding size of : 50066\n"
     ]
    }
   ],
   "source": [
    "model = CustomOPTForCausalLM.from_pretrained(\n",
    "            checkpoint_path,\n",
    "            use_flash_attn=True,\n",
    "            torch_dtype=torch.bfloat16\n",
    "            )\n",
    "model.eval()\n",
    "model.to(device)\n",
    "print(f'model loaded with embedding size of : {model.model.decoder.embed_tokens.num_embeddings}')\n",
    "assert(model.model.decoder.embed_tokens.num_embeddings == len(tokenizer))"
   ]
  },
  {
   "cell_type": "code",
   "execution_count": 41,
   "metadata": {},
   "outputs": [
    {
     "data": {
      "text/html": [
       "<div>\n",
       "<style scoped>\n",
       "    .dataframe tbody tr th:only-of-type {\n",
       "        vertical-align: middle;\n",
       "    }\n",
       "\n",
       "    .dataframe tbody tr th {\n",
       "        vertical-align: top;\n",
       "    }\n",
       "\n",
       "    .dataframe thead th {\n",
       "        text-align: right;\n",
       "    }\n",
       "</style>\n",
       "<table border=\"1\" class=\"dataframe\">\n",
       "  <thead>\n",
       "    <tr style=\"text-align: right;\">\n",
       "      <th></th>\n",
       "      <th>SMILES</th>\n",
       "      <th>SPLIT</th>\n",
       "    </tr>\n",
       "  </thead>\n",
       "  <tbody>\n",
       "    <tr>\n",
       "      <th>0</th>\n",
       "      <td>CCCS(=O)c1ccc2[nH]c(=NC(=O)OC)[nH]c2c1</td>\n",
       "      <td>train</td>\n",
       "    </tr>\n",
       "    <tr>\n",
       "      <th>1</th>\n",
       "      <td>CC(C)(C)C(=O)C(Oc1ccc(Cl)cc1)n1ccnc1</td>\n",
       "      <td>train</td>\n",
       "    </tr>\n",
       "    <tr>\n",
       "      <th>2</th>\n",
       "      <td>CC1C2CCC(C2)C1CN(CCO)C(=O)c1ccc(Cl)cc1</td>\n",
       "      <td>test</td>\n",
       "    </tr>\n",
       "    <tr>\n",
       "      <th>3</th>\n",
       "      <td>Cc1c(Cl)cccc1Nc1ncccc1C(=O)OCC(O)CO</td>\n",
       "      <td>train</td>\n",
       "    </tr>\n",
       "    <tr>\n",
       "      <th>4</th>\n",
       "      <td>Cn1cnc2c1c(=O)n(CC(O)CO)c(=O)n2C</td>\n",
       "      <td>train</td>\n",
       "    </tr>\n",
       "  </tbody>\n",
       "</table>\n",
       "</div>"
      ],
      "text/plain": [
       "                                   SMILES  SPLIT\n",
       "0  CCCS(=O)c1ccc2[nH]c(=NC(=O)OC)[nH]c2c1  train\n",
       "1    CC(C)(C)C(=O)C(Oc1ccc(Cl)cc1)n1ccnc1  train\n",
       "2  CC1C2CCC(C2)C1CN(CCO)C(=O)c1ccc(Cl)cc1   test\n",
       "3     Cc1c(Cl)cccc1Nc1ncccc1C(=O)OCC(O)CO  train\n",
       "4        Cn1cnc2c1c(=O)n(CC(O)CO)c(=O)n2C  train"
      ]
     },
     "execution_count": 41,
     "metadata": {},
     "output_type": "execute_result"
    }
   ],
   "source": [
    "moses = pd.read_csv('./data/dataset_v1.csv')\n",
    "moses.head()"
   ]
  },
  {
   "cell_type": "code",
   "execution_count": 42,
   "metadata": {},
   "outputs": [
    {
     "data": {
      "text/html": [
       "<div>\n",
       "<style scoped>\n",
       "    .dataframe tbody tr th:only-of-type {\n",
       "        vertical-align: middle;\n",
       "    }\n",
       "\n",
       "    .dataframe tbody tr th {\n",
       "        vertical-align: top;\n",
       "    }\n",
       "\n",
       "    .dataframe thead th {\n",
       "        text-align: right;\n",
       "    }\n",
       "</style>\n",
       "<table border=\"1\" class=\"dataframe\">\n",
       "  <thead>\n",
       "    <tr style=\"text-align: right;\">\n",
       "      <th></th>\n",
       "      <th>SMILES</th>\n",
       "      <th>SPLIT</th>\n",
       "    </tr>\n",
       "  </thead>\n",
       "  <tbody>\n",
       "    <tr>\n",
       "      <th>0</th>\n",
       "      <td>CCCS(=O)c1ccc2[nH]c(=NC(=O)OC)[nH]c2c1</td>\n",
       "      <td>train</td>\n",
       "    </tr>\n",
       "    <tr>\n",
       "      <th>1</th>\n",
       "      <td>CC(C)(C)C(=O)C(Oc1ccc(Cl)cc1)n1ccnc1</td>\n",
       "      <td>train</td>\n",
       "    </tr>\n",
       "    <tr>\n",
       "      <th>3</th>\n",
       "      <td>Cc1c(Cl)cccc1Nc1ncccc1C(=O)OCC(O)CO</td>\n",
       "      <td>train</td>\n",
       "    </tr>\n",
       "    <tr>\n",
       "      <th>4</th>\n",
       "      <td>Cn1cnc2c1c(=O)n(CC(O)CO)c(=O)n2C</td>\n",
       "      <td>train</td>\n",
       "    </tr>\n",
       "    <tr>\n",
       "      <th>5</th>\n",
       "      <td>CC1Oc2ccc(Cl)cc2N(CC(O)CO)C1=O</td>\n",
       "      <td>train</td>\n",
       "    </tr>\n",
       "  </tbody>\n",
       "</table>\n",
       "</div>"
      ],
      "text/plain": [
       "                                   SMILES  SPLIT\n",
       "0  CCCS(=O)c1ccc2[nH]c(=NC(=O)OC)[nH]c2c1  train\n",
       "1    CC(C)(C)C(=O)C(Oc1ccc(Cl)cc1)n1ccnc1  train\n",
       "3     Cc1c(Cl)cccc1Nc1ncccc1C(=O)OCC(O)CO  train\n",
       "4        Cn1cnc2c1c(=O)n(CC(O)CO)c(=O)n2C  train\n",
       "5          CC1Oc2ccc(Cl)cc2N(CC(O)CO)C1=O  train"
      ]
     },
     "execution_count": 42,
     "metadata": {},
     "output_type": "execute_result"
    }
   ],
   "source": [
    "moses = moses[moses.SPLIT == 'train']\n",
    "moses.head()"
   ]
  },
  {
   "cell_type": "code",
   "execution_count": 43,
   "metadata": {},
   "outputs": [],
   "source": [
    "moses[['SAS', 'QED', 'CLOGP', 'WEIGHT']] = 0"
   ]
  },
  {
   "cell_type": "code",
   "execution_count": 44,
   "metadata": {},
   "outputs": [
    {
     "data": {
      "text/html": [
       "<div>\n",
       "<style scoped>\n",
       "    .dataframe tbody tr th:only-of-type {\n",
       "        vertical-align: middle;\n",
       "    }\n",
       "\n",
       "    .dataframe tbody tr th {\n",
       "        vertical-align: top;\n",
       "    }\n",
       "\n",
       "    .dataframe thead th {\n",
       "        text-align: right;\n",
       "    }\n",
       "</style>\n",
       "<table border=\"1\" class=\"dataframe\">\n",
       "  <thead>\n",
       "    <tr style=\"text-align: right;\">\n",
       "      <th></th>\n",
       "      <th>SMILES</th>\n",
       "      <th>SPLIT</th>\n",
       "      <th>SAS</th>\n",
       "      <th>QED</th>\n",
       "      <th>CLOGP</th>\n",
       "      <th>WEIGHT</th>\n",
       "    </tr>\n",
       "  </thead>\n",
       "  <tbody>\n",
       "    <tr>\n",
       "      <th>0</th>\n",
       "      <td>CCCS(=O)c1ccc2[nH]c(=NC(=O)OC)[nH]c2c1</td>\n",
       "      <td>train</td>\n",
       "      <td>0</td>\n",
       "      <td>0</td>\n",
       "      <td>0</td>\n",
       "      <td>0</td>\n",
       "    </tr>\n",
       "    <tr>\n",
       "      <th>1</th>\n",
       "      <td>CC(C)(C)C(=O)C(Oc1ccc(Cl)cc1)n1ccnc1</td>\n",
       "      <td>train</td>\n",
       "      <td>0</td>\n",
       "      <td>0</td>\n",
       "      <td>0</td>\n",
       "      <td>0</td>\n",
       "    </tr>\n",
       "    <tr>\n",
       "      <th>3</th>\n",
       "      <td>Cc1c(Cl)cccc1Nc1ncccc1C(=O)OCC(O)CO</td>\n",
       "      <td>train</td>\n",
       "      <td>0</td>\n",
       "      <td>0</td>\n",
       "      <td>0</td>\n",
       "      <td>0</td>\n",
       "    </tr>\n",
       "    <tr>\n",
       "      <th>4</th>\n",
       "      <td>Cn1cnc2c1c(=O)n(CC(O)CO)c(=O)n2C</td>\n",
       "      <td>train</td>\n",
       "      <td>0</td>\n",
       "      <td>0</td>\n",
       "      <td>0</td>\n",
       "      <td>0</td>\n",
       "    </tr>\n",
       "    <tr>\n",
       "      <th>5</th>\n",
       "      <td>CC1Oc2ccc(Cl)cc2N(CC(O)CO)C1=O</td>\n",
       "      <td>train</td>\n",
       "      <td>0</td>\n",
       "      <td>0</td>\n",
       "      <td>0</td>\n",
       "      <td>0</td>\n",
       "    </tr>\n",
       "  </tbody>\n",
       "</table>\n",
       "</div>"
      ],
      "text/plain": [
       "                                   SMILES  SPLIT  SAS  QED  CLOGP  WEIGHT\n",
       "0  CCCS(=O)c1ccc2[nH]c(=NC(=O)OC)[nH]c2c1  train    0    0      0       0\n",
       "1    CC(C)(C)C(=O)C(Oc1ccc(Cl)cc1)n1ccnc1  train    0    0      0       0\n",
       "3     Cc1c(Cl)cccc1Nc1ncccc1C(=O)OCC(O)CO  train    0    0      0       0\n",
       "4        Cn1cnc2c1c(=O)n(CC(O)CO)c(=O)n2C  train    0    0      0       0\n",
       "5          CC1Oc2ccc(Cl)cc2N(CC(O)CO)C1=O  train    0    0      0       0"
      ]
     },
     "execution_count": 44,
     "metadata": {},
     "output_type": "execute_result"
    }
   ],
   "source": [
    "moses.head()"
   ]
  },
  {
   "cell_type": "code",
   "execution_count": 45,
   "metadata": {},
   "outputs": [
    {
     "name": "stderr",
     "output_type": "stream",
     "text": [
      "/tmp/ipykernel_1689974/3029114970.py:7: FutureWarning: Setting an item of incompatible dtype is deprecated and will raise in a future error of pandas. Value '3.812618487593367' has dtype incompatible with int64, please explicitly cast to a compatible dtype first.\n",
      "  moses.iloc[en, 2] = sas_score\n",
      "/tmp/ipykernel_1689974/3029114970.py:8: FutureWarning: Setting an item of incompatible dtype is deprecated and will raise in a future error of pandas. Value '0.897' has dtype incompatible with int64, please explicitly cast to a compatible dtype first.\n",
      "  moses.iloc[en, 3] = qed_score\n",
      "/tmp/ipykernel_1689974/3029114970.py:9: FutureWarning: Setting an item of incompatible dtype is deprecated and will raise in a future error of pandas. Value '1.681' has dtype incompatible with int64, please explicitly cast to a compatible dtype first.\n",
      "  moses.iloc[en, 4] = clogp_score\n",
      "/tmp/ipykernel_1689974/3029114970.py:10: FutureWarning: Setting an item of incompatible dtype is deprecated and will raise in a future error of pandas. Value '281.083' has dtype incompatible with int64, please explicitly cast to a compatible dtype first.\n",
      "  moses.iloc[en, 5] = weight_score\n"
     ]
    },
    {
     "ename": "KeyboardInterrupt",
     "evalue": "",
     "output_type": "error",
     "traceback": [
      "\u001b[0;31m---------------------------------------------------------------------------\u001b[0m",
      "\u001b[0;31mKeyboardInterrupt\u001b[0m                         Traceback (most recent call last)",
      "Cell \u001b[0;32mIn[45], line 7\u001b[0m\n\u001b[1;32m      5\u001b[0m clogp_score \u001b[38;5;241m=\u001b[39m \u001b[38;5;28mround\u001b[39m(Descriptors\u001b[38;5;241m.\u001b[39mMolLogP(mol_source), \u001b[38;5;241m3\u001b[39m)\n\u001b[1;32m      6\u001b[0m weight_score \u001b[38;5;241m=\u001b[39m \u001b[38;5;28mround\u001b[39m(Descriptors\u001b[38;5;241m.\u001b[39mExactMolWt(mol_source), \u001b[38;5;241m3\u001b[39m)\n\u001b[0;32m----> 7\u001b[0m \u001b[43mmoses\u001b[49m\u001b[38;5;241;43m.\u001b[39;49m\u001b[43miloc\u001b[49m\u001b[43m[\u001b[49m\u001b[43men\u001b[49m\u001b[43m,\u001b[49m\u001b[43m \u001b[49m\u001b[38;5;241;43m2\u001b[39;49m\u001b[43m]\u001b[49m \u001b[38;5;241m=\u001b[39m sas_score\n\u001b[1;32m      8\u001b[0m moses\u001b[38;5;241m.\u001b[39miloc[en, \u001b[38;5;241m3\u001b[39m] \u001b[38;5;241m=\u001b[39m qed_score\n\u001b[1;32m      9\u001b[0m moses\u001b[38;5;241m.\u001b[39miloc[en, \u001b[38;5;241m4\u001b[39m] \u001b[38;5;241m=\u001b[39m clogp_score\n",
      "File \u001b[0;32m~/miniconda3/envs/chemlactica/lib/python3.10/site-packages/pandas/core/indexing.py:885\u001b[0m, in \u001b[0;36m_LocationIndexer.__setitem__\u001b[0;34m(self, key, value)\u001b[0m\n\u001b[1;32m    882\u001b[0m \u001b[38;5;28mself\u001b[39m\u001b[38;5;241m.\u001b[39m_has_valid_setitem_indexer(key)\n\u001b[1;32m    884\u001b[0m iloc \u001b[38;5;241m=\u001b[39m \u001b[38;5;28mself\u001b[39m \u001b[38;5;28;01mif\u001b[39;00m \u001b[38;5;28mself\u001b[39m\u001b[38;5;241m.\u001b[39mname \u001b[38;5;241m==\u001b[39m \u001b[38;5;124m\"\u001b[39m\u001b[38;5;124miloc\u001b[39m\u001b[38;5;124m\"\u001b[39m \u001b[38;5;28;01melse\u001b[39;00m \u001b[38;5;28mself\u001b[39m\u001b[38;5;241m.\u001b[39mobj\u001b[38;5;241m.\u001b[39miloc\n\u001b[0;32m--> 885\u001b[0m \u001b[43miloc\u001b[49m\u001b[38;5;241;43m.\u001b[39;49m\u001b[43m_setitem_with_indexer\u001b[49m\u001b[43m(\u001b[49m\u001b[43mindexer\u001b[49m\u001b[43m,\u001b[49m\u001b[43m \u001b[49m\u001b[43mvalue\u001b[49m\u001b[43m,\u001b[49m\u001b[43m \u001b[49m\u001b[38;5;28;43mself\u001b[39;49m\u001b[38;5;241;43m.\u001b[39;49m\u001b[43mname\u001b[49m\u001b[43m)\u001b[49m\n",
      "File \u001b[0;32m~/miniconda3/envs/chemlactica/lib/python3.10/site-packages/pandas/core/indexing.py:1893\u001b[0m, in \u001b[0;36m_iLocIndexer._setitem_with_indexer\u001b[0;34m(self, indexer, value, name)\u001b[0m\n\u001b[1;32m   1890\u001b[0m \u001b[38;5;66;03m# align and set the values\u001b[39;00m\n\u001b[1;32m   1891\u001b[0m \u001b[38;5;28;01mif\u001b[39;00m take_split_path:\n\u001b[1;32m   1892\u001b[0m     \u001b[38;5;66;03m# We have to operate column-wise\u001b[39;00m\n\u001b[0;32m-> 1893\u001b[0m     \u001b[38;5;28;43mself\u001b[39;49m\u001b[38;5;241;43m.\u001b[39;49m\u001b[43m_setitem_with_indexer_split_path\u001b[49m\u001b[43m(\u001b[49m\u001b[43mindexer\u001b[49m\u001b[43m,\u001b[49m\u001b[43m \u001b[49m\u001b[43mvalue\u001b[49m\u001b[43m,\u001b[49m\u001b[43m \u001b[49m\u001b[43mname\u001b[49m\u001b[43m)\u001b[49m\n\u001b[1;32m   1894\u001b[0m \u001b[38;5;28;01melse\u001b[39;00m:\n\u001b[1;32m   1895\u001b[0m     \u001b[38;5;28mself\u001b[39m\u001b[38;5;241m.\u001b[39m_setitem_single_block(indexer, value, name)\n",
      "File \u001b[0;32m~/miniconda3/envs/chemlactica/lib/python3.10/site-packages/pandas/core/indexing.py:1986\u001b[0m, in \u001b[0;36m_iLocIndexer._setitem_with_indexer_split_path\u001b[0;34m(self, indexer, value, name)\u001b[0m\n\u001b[1;32m   1983\u001b[0m \u001b[38;5;28;01melse\u001b[39;00m:\n\u001b[1;32m   1984\u001b[0m     \u001b[38;5;66;03m# scalar value\u001b[39;00m\n\u001b[1;32m   1985\u001b[0m     \u001b[38;5;28;01mfor\u001b[39;00m loc \u001b[38;5;129;01min\u001b[39;00m ilocs:\n\u001b[0;32m-> 1986\u001b[0m         \u001b[38;5;28;43mself\u001b[39;49m\u001b[38;5;241;43m.\u001b[39;49m\u001b[43m_setitem_single_column\u001b[49m\u001b[43m(\u001b[49m\u001b[43mloc\u001b[49m\u001b[43m,\u001b[49m\u001b[43m \u001b[49m\u001b[43mvalue\u001b[49m\u001b[43m,\u001b[49m\u001b[43m \u001b[49m\u001b[43mpi\u001b[49m\u001b[43m)\u001b[49m\n",
      "File \u001b[0;32m~/miniconda3/envs/chemlactica/lib/python3.10/site-packages/pandas/core/indexing.py:2095\u001b[0m, in \u001b[0;36m_iLocIndexer._setitem_single_column\u001b[0;34m(self, loc, value, plane_indexer)\u001b[0m\n\u001b[1;32m   2091\u001b[0m         \u001b[38;5;28mself\u001b[39m\u001b[38;5;241m.\u001b[39mobj\u001b[38;5;241m.\u001b[39misetitem(loc, value)\n\u001b[1;32m   2092\u001b[0m \u001b[38;5;28;01melse\u001b[39;00m:\n\u001b[1;32m   2093\u001b[0m     \u001b[38;5;66;03m# set value into the column (first attempting to operate inplace, then\u001b[39;00m\n\u001b[1;32m   2094\u001b[0m     \u001b[38;5;66;03m#  falling back to casting if necessary)\u001b[39;00m\n\u001b[0;32m-> 2095\u001b[0m     \u001b[38;5;28;43mself\u001b[39;49m\u001b[38;5;241;43m.\u001b[39;49m\u001b[43mobj\u001b[49m\u001b[38;5;241;43m.\u001b[39;49m\u001b[43m_mgr\u001b[49m\u001b[38;5;241;43m.\u001b[39;49m\u001b[43mcolumn_setitem\u001b[49m\u001b[43m(\u001b[49m\u001b[43mloc\u001b[49m\u001b[43m,\u001b[49m\u001b[43m \u001b[49m\u001b[43mplane_indexer\u001b[49m\u001b[43m,\u001b[49m\u001b[43m \u001b[49m\u001b[43mvalue\u001b[49m\u001b[43m)\u001b[49m\n\u001b[1;32m   2097\u001b[0m \u001b[38;5;28mself\u001b[39m\u001b[38;5;241m.\u001b[39mobj\u001b[38;5;241m.\u001b[39m_clear_item_cache()\n",
      "File \u001b[0;32m~/miniconda3/envs/chemlactica/lib/python3.10/site-packages/pandas/core/internals/managers.py:1308\u001b[0m, in \u001b[0;36mBlockManager.column_setitem\u001b[0;34m(self, loc, idx, value, inplace_only)\u001b[0m\n\u001b[1;32m   1306\u001b[0m     col_mgr\u001b[38;5;241m.\u001b[39msetitem_inplace(idx, value)\n\u001b[1;32m   1307\u001b[0m \u001b[38;5;28;01melse\u001b[39;00m:\n\u001b[0;32m-> 1308\u001b[0m     new_mgr \u001b[38;5;241m=\u001b[39m \u001b[43mcol_mgr\u001b[49m\u001b[38;5;241;43m.\u001b[39;49m\u001b[43msetitem\u001b[49m\u001b[43m(\u001b[49m\u001b[43m(\u001b[49m\u001b[43midx\u001b[49m\u001b[43m,\u001b[49m\u001b[43m)\u001b[49m\u001b[43m,\u001b[49m\u001b[43m \u001b[49m\u001b[43mvalue\u001b[49m\u001b[43m)\u001b[49m\n\u001b[1;32m   1309\u001b[0m     \u001b[38;5;28mself\u001b[39m\u001b[38;5;241m.\u001b[39miset(loc, new_mgr\u001b[38;5;241m.\u001b[39m_block\u001b[38;5;241m.\u001b[39mvalues, inplace\u001b[38;5;241m=\u001b[39m\u001b[38;5;28;01mTrue\u001b[39;00m)\n",
      "File \u001b[0;32m~/miniconda3/envs/chemlactica/lib/python3.10/site-packages/pandas/core/internals/managers.py:399\u001b[0m, in \u001b[0;36mBaseBlockManager.setitem\u001b[0;34m(self, indexer, value)\u001b[0m\n\u001b[1;32m    395\u001b[0m     \u001b[38;5;66;03m# No need to split if we either set all columns or on a single block\u001b[39;00m\n\u001b[1;32m    396\u001b[0m     \u001b[38;5;66;03m# manager\u001b[39;00m\n\u001b[1;32m    397\u001b[0m     \u001b[38;5;28mself\u001b[39m \u001b[38;5;241m=\u001b[39m \u001b[38;5;28mself\u001b[39m\u001b[38;5;241m.\u001b[39mcopy()\n\u001b[0;32m--> 399\u001b[0m \u001b[38;5;28;01mreturn\u001b[39;00m \u001b[38;5;28;43mself\u001b[39;49m\u001b[38;5;241;43m.\u001b[39;49m\u001b[43mapply\u001b[49m\u001b[43m(\u001b[49m\u001b[38;5;124;43m\"\u001b[39;49m\u001b[38;5;124;43msetitem\u001b[39;49m\u001b[38;5;124;43m\"\u001b[39;49m\u001b[43m,\u001b[49m\u001b[43m \u001b[49m\u001b[43mindexer\u001b[49m\u001b[38;5;241;43m=\u001b[39;49m\u001b[43mindexer\u001b[49m\u001b[43m,\u001b[49m\u001b[43m \u001b[49m\u001b[43mvalue\u001b[49m\u001b[38;5;241;43m=\u001b[39;49m\u001b[43mvalue\u001b[49m\u001b[43m)\u001b[49m\n",
      "File \u001b[0;32m~/miniconda3/envs/chemlactica/lib/python3.10/site-packages/pandas/core/internals/managers.py:354\u001b[0m, in \u001b[0;36mBaseBlockManager.apply\u001b[0;34m(self, f, align_keys, **kwargs)\u001b[0m\n\u001b[1;32m    352\u001b[0m         applied \u001b[38;5;241m=\u001b[39m b\u001b[38;5;241m.\u001b[39mapply(f, \u001b[38;5;241m*\u001b[39m\u001b[38;5;241m*\u001b[39mkwargs)\n\u001b[1;32m    353\u001b[0m     \u001b[38;5;28;01melse\u001b[39;00m:\n\u001b[0;32m--> 354\u001b[0m         applied \u001b[38;5;241m=\u001b[39m \u001b[38;5;28;43mgetattr\u001b[39;49m\u001b[43m(\u001b[49m\u001b[43mb\u001b[49m\u001b[43m,\u001b[49m\u001b[43m \u001b[49m\u001b[43mf\u001b[49m\u001b[43m)\u001b[49m\u001b[43m(\u001b[49m\u001b[38;5;241;43m*\u001b[39;49m\u001b[38;5;241;43m*\u001b[39;49m\u001b[43mkwargs\u001b[49m\u001b[43m)\u001b[49m\n\u001b[1;32m    355\u001b[0m     result_blocks \u001b[38;5;241m=\u001b[39m extend_blocks(applied, result_blocks)\n\u001b[1;32m    357\u001b[0m out \u001b[38;5;241m=\u001b[39m \u001b[38;5;28mtype\u001b[39m(\u001b[38;5;28mself\u001b[39m)\u001b[38;5;241m.\u001b[39mfrom_blocks(result_blocks, \u001b[38;5;28mself\u001b[39m\u001b[38;5;241m.\u001b[39maxes)\n",
      "File \u001b[0;32m~/miniconda3/envs/chemlactica/lib/python3.10/site-packages/pandas/core/internals/blocks.py:1163\u001b[0m, in \u001b[0;36mBlock.setitem\u001b[0;34m(self, indexer, value, using_cow)\u001b[0m\n\u001b[1;32m   1161\u001b[0m     value \u001b[38;5;241m=\u001b[39m extract_array(value, extract_numpy\u001b[38;5;241m=\u001b[39m\u001b[38;5;28;01mTrue\u001b[39;00m)\n\u001b[1;32m   1162\u001b[0m \u001b[38;5;28;01mtry\u001b[39;00m:\n\u001b[0;32m-> 1163\u001b[0m     casted \u001b[38;5;241m=\u001b[39m \u001b[43mnp_can_hold_element\u001b[49m\u001b[43m(\u001b[49m\u001b[43mvalues\u001b[49m\u001b[38;5;241;43m.\u001b[39;49m\u001b[43mdtype\u001b[49m\u001b[43m,\u001b[49m\u001b[43m \u001b[49m\u001b[43mvalue\u001b[49m\u001b[43m)\u001b[49m\n\u001b[1;32m   1164\u001b[0m \u001b[38;5;28;01mexcept\u001b[39;00m LossySetitemError:\n\u001b[1;32m   1165\u001b[0m     \u001b[38;5;66;03m# current dtype cannot store value, coerce to common dtype\u001b[39;00m\n\u001b[1;32m   1166\u001b[0m     nb \u001b[38;5;241m=\u001b[39m \u001b[38;5;28mself\u001b[39m\u001b[38;5;241m.\u001b[39mcoerce_to_target_dtype(value, warn_on_upcast\u001b[38;5;241m=\u001b[39m\u001b[38;5;28;01mTrue\u001b[39;00m)\n",
      "File \u001b[0;32m~/miniconda3/envs/chemlactica/lib/python3.10/site-packages/pandas/core/dtypes/cast.py:1806\u001b[0m, in \u001b[0;36mnp_can_hold_element\u001b[0;34m(dtype, element)\u001b[0m\n\u001b[1;32m   1804\u001b[0m \u001b[38;5;28;01mif\u001b[39;00m dtype\u001b[38;5;241m.\u001b[39mkind \u001b[38;5;241m==\u001b[39m \u001b[38;5;124m\"\u001b[39m\u001b[38;5;124mf\u001b[39m\u001b[38;5;124m\"\u001b[39m:\n\u001b[1;32m   1805\u001b[0m     \u001b[38;5;28;01mif\u001b[39;00m lib\u001b[38;5;241m.\u001b[39mis_integer(element) \u001b[38;5;129;01mor\u001b[39;00m lib\u001b[38;5;241m.\u001b[39mis_float(element):\n\u001b[0;32m-> 1806\u001b[0m         casted \u001b[38;5;241m=\u001b[39m \u001b[43mdtype\u001b[49m\u001b[38;5;241;43m.\u001b[39;49m\u001b[43mtype\u001b[49m\u001b[43m(\u001b[49m\u001b[43melement\u001b[49m\u001b[43m)\u001b[49m\n\u001b[1;32m   1807\u001b[0m         \u001b[38;5;28;01mif\u001b[39;00m np\u001b[38;5;241m.\u001b[39misnan(casted) \u001b[38;5;129;01mor\u001b[39;00m casted \u001b[38;5;241m==\u001b[39m element:\n\u001b[1;32m   1808\u001b[0m             \u001b[38;5;28;01mreturn\u001b[39;00m casted\n",
      "\u001b[0;31mKeyboardInterrupt\u001b[0m: "
     ]
    }
   ],
   "source": [
    "for en, mol in enumerate(moses.iloc[:,0]):\n",
    "          mol_source = Chem.MolFromSmiles(mol)\n",
    "          sas_score = sascorer.calculateScore(mol_source) \n",
    "          qed_score = round(QED.qed(mol_source), 3)\n",
    "          clogp_score = round(Descriptors.MolLogP(mol_source), 3)\n",
    "          weight_score = round(Descriptors.ExactMolWt(mol_source), 3)\n",
    "          moses.iloc[en, 2] = sas_score\n",
    "          moses.iloc[en, 3] = qed_score\n",
    "          moses.iloc[en, 4] = clogp_score\n",
    "          moses.iloc[en, 5] = weight_score"
   ]
  },
  {
   "cell_type": "code",
   "execution_count": 47,
   "metadata": {},
   "outputs": [
    {
     "data": {
      "text/html": [
       "<div>\n",
       "<style scoped>\n",
       "    .dataframe tbody tr th:only-of-type {\n",
       "        vertical-align: middle;\n",
       "    }\n",
       "\n",
       "    .dataframe tbody tr th {\n",
       "        vertical-align: top;\n",
       "    }\n",
       "\n",
       "    .dataframe thead th {\n",
       "        text-align: right;\n",
       "    }\n",
       "</style>\n",
       "<table border=\"1\" class=\"dataframe\">\n",
       "  <thead>\n",
       "    <tr style=\"text-align: right;\">\n",
       "      <th></th>\n",
       "      <th>SMILES</th>\n",
       "      <th>SPLIT</th>\n",
       "      <th>SAS</th>\n",
       "      <th>QED</th>\n",
       "      <th>CLOGP</th>\n",
       "      <th>WEIGHT</th>\n",
       "    </tr>\n",
       "  </thead>\n",
       "  <tbody>\n",
       "    <tr>\n",
       "      <th>0</th>\n",
       "      <td>CCCS(=O)c1ccc2[nH]c(=NC(=O)OC)[nH]c2c1</td>\n",
       "      <td>train</td>\n",
       "      <td>3.812618</td>\n",
       "      <td>0.897</td>\n",
       "      <td>1.681</td>\n",
       "      <td>281.083</td>\n",
       "    </tr>\n",
       "    <tr>\n",
       "      <th>1</th>\n",
       "      <td>CC(C)(C)C(=O)C(Oc1ccc(Cl)cc1)n1ccnc1</td>\n",
       "      <td>train</td>\n",
       "      <td>2.936327</td>\n",
       "      <td>0.862</td>\n",
       "      <td>3.729</td>\n",
       "      <td>292.098</td>\n",
       "    </tr>\n",
       "    <tr>\n",
       "      <th>3</th>\n",
       "      <td>Cc1c(Cl)cccc1Nc1ncccc1C(=O)OCC(O)CO</td>\n",
       "      <td>train</td>\n",
       "      <td>2.663795</td>\n",
       "      <td>0.701</td>\n",
       "      <td>2.297</td>\n",
       "      <td>336.088</td>\n",
       "    </tr>\n",
       "    <tr>\n",
       "      <th>4</th>\n",
       "      <td>Cn1cnc2c1c(=O)n(CC(O)CO)c(=O)n2C</td>\n",
       "      <td>train</td>\n",
       "      <td>2.989161</td>\n",
       "      <td>0.646</td>\n",
       "      <td>-2.213</td>\n",
       "      <td>254.102</td>\n",
       "    </tr>\n",
       "    <tr>\n",
       "      <th>5</th>\n",
       "      <td>CC1Oc2ccc(Cl)cc2N(CC(O)CO)C1=O</td>\n",
       "      <td>train</td>\n",
       "      <td>3.055750</td>\n",
       "      <td>0.853</td>\n",
       "      <td>0.807</td>\n",
       "      <td>271.061</td>\n",
       "    </tr>\n",
       "    <tr>\n",
       "      <th>...</th>\n",
       "      <td>...</td>\n",
       "      <td>...</td>\n",
       "      <td>...</td>\n",
       "      <td>...</td>\n",
       "      <td>...</td>\n",
       "      <td>...</td>\n",
       "    </tr>\n",
       "    <tr>\n",
       "      <th>2400</th>\n",
       "      <td>CC(=O)NC1(C(Cl)(Cl)Cl)Oc2ccccc2O1</td>\n",
       "      <td>train</td>\n",
       "      <td>2.917217</td>\n",
       "      <td>0.810</td>\n",
       "      <td>2.618</td>\n",
       "      <td>294.957</td>\n",
       "    </tr>\n",
       "    <tr>\n",
       "      <th>2402</th>\n",
       "      <td>CC(=O)NC1(C(F)(F)F)Oc2cc(Cl)c(Cl)cc2O1</td>\n",
       "      <td>train</td>\n",
       "      <td>2.835251</td>\n",
       "      <td>0.866</td>\n",
       "      <td>3.117</td>\n",
       "      <td>314.968</td>\n",
       "    </tr>\n",
       "    <tr>\n",
       "      <th>2403</th>\n",
       "      <td>Brc1cccc(-c2nnc3n2CCC3)c1</td>\n",
       "      <td>train</td>\n",
       "      <td>2.148228</td>\n",
       "      <td>0.792</td>\n",
       "      <td>2.654</td>\n",
       "      <td>263.006</td>\n",
       "    </tr>\n",
       "    <tr>\n",
       "      <th>2404</th>\n",
       "      <td>Cc1ccc(C(=O)Cn2nnc(-c3ccccc3)n2)cc1</td>\n",
       "      <td>train</td>\n",
       "      <td>1.856366</td>\n",
       "      <td>0.688</td>\n",
       "      <td>2.531</td>\n",
       "      <td>278.117</td>\n",
       "    </tr>\n",
       "    <tr>\n",
       "      <th>2405</th>\n",
       "      <td>COc1ccc(C(=O)CC2(O)C(=O)Nc3ccccc32)cc1OC</td>\n",
       "      <td>train</td>\n",
       "      <td>2.596413</td>\n",
       "      <td>0.822</td>\n",
       "      <td>2.116</td>\n",
       "      <td>327.111</td>\n",
       "    </tr>\n",
       "  </tbody>\n",
       "</table>\n",
       "<p>2000 rows × 6 columns</p>\n",
       "</div>"
      ],
      "text/plain": [
       "                                        SMILES  SPLIT       SAS    QED  CLOGP  \\\n",
       "0       CCCS(=O)c1ccc2[nH]c(=NC(=O)OC)[nH]c2c1  train  3.812618  0.897  1.681   \n",
       "1         CC(C)(C)C(=O)C(Oc1ccc(Cl)cc1)n1ccnc1  train  2.936327  0.862  3.729   \n",
       "3          Cc1c(Cl)cccc1Nc1ncccc1C(=O)OCC(O)CO  train  2.663795  0.701  2.297   \n",
       "4             Cn1cnc2c1c(=O)n(CC(O)CO)c(=O)n2C  train  2.989161  0.646 -2.213   \n",
       "5               CC1Oc2ccc(Cl)cc2N(CC(O)CO)C1=O  train  3.055750  0.853  0.807   \n",
       "...                                        ...    ...       ...    ...    ...   \n",
       "2400         CC(=O)NC1(C(Cl)(Cl)Cl)Oc2ccccc2O1  train  2.917217  0.810  2.618   \n",
       "2402    CC(=O)NC1(C(F)(F)F)Oc2cc(Cl)c(Cl)cc2O1  train  2.835251  0.866  3.117   \n",
       "2403                 Brc1cccc(-c2nnc3n2CCC3)c1  train  2.148228  0.792  2.654   \n",
       "2404       Cc1ccc(C(=O)Cn2nnc(-c3ccccc3)n2)cc1  train  1.856366  0.688  2.531   \n",
       "2405  COc1ccc(C(=O)CC2(O)C(=O)Nc3ccccc32)cc1OC  train  2.596413  0.822  2.116   \n",
       "\n",
       "       WEIGHT  \n",
       "0     281.083  \n",
       "1     292.098  \n",
       "3     336.088  \n",
       "4     254.102  \n",
       "5     271.061  \n",
       "...       ...  \n",
       "2400  294.957  \n",
       "2402  314.968  \n",
       "2403  263.006  \n",
       "2404  278.117  \n",
       "2405  327.111  \n",
       "\n",
       "[2000 rows x 6 columns]"
      ]
     },
     "execution_count": 47,
     "metadata": {},
     "output_type": "execute_result"
    }
   ],
   "source": [
    "moses.head(2000)"
   ]
  },
  {
   "cell_type": "code",
   "execution_count": 161,
   "metadata": {},
   "outputs": [
    {
     "name": "stdout",
     "output_type": "stream",
     "text": [
      "--------\n",
      "</s>[SAS]3.81[/SAS][CLOGP]1.68[/CLOGP][QED]0.90[/QED][WEIGHT]281.08[/WEIGHT][FRACTIONCSP3]0.50[/FRACTIONCSP3][NUMALIPHATICHETEROCYCLES]1[/NUMALIPHATICHETEROCYCLES][NUMALIPHATICCARBOCYCLES]0[/NUMALIPHATICCARBOCYCLES][NUMHDONORS]1[/NUMHDONORS][NUMROTATABLEBONDS]3[/NUMROTATABLEBONDS][RINGCOUNT]2[/RINGCOUNT][NUMHACCEPTORS]4[/NUMHACCEPTORS][NUMAROMATICRINGS]1[/NUMAROMATICRINGS][NUMAROMATICHETEROCYCLES]1[/NUMAROMATICHETEROCYCLES][NUMSATURATEDCARBOCYCLES]0[/NUMSATURATEDCARBOCYCLES][NUMHETEROATOMS]7[/NUMHETEROATOMS][HEAVYATOMCOUNT]19[/HEAVYATOMCOUNT][NUMSATURATEDHETEROCYCLES]1[/NUMSATURATEDHETEROCYCLES][NOCOUNT]5[/NOCOUNT][START_SMILES]CC1=C(SC(=N1)N2CCCC(C2)C(=O)O)C(=O)C[END_SMILES]\n",
      "sas=3.81 sas_score=2.70 qed=0.90 qed_score=0.85 clogp=1.68 clogp_score=1.96 weight=281.08 weight_score=268.09 CC1=C(SC(=N1)N2CCCC(C2)C(=O)O)C(=O)C\n",
      "--------\n",
      "</s>[SAS]2.94[/SAS][CLOGP]3.73[/CLOGP][QED]0.86[/QED][WEIGHT]292.10[/WEIGHT][NUMHDONORS]1[/NUMHDONORS][FRACTIONCSP3]0.50[/FRACTIONCSP3][NUMALIPHATICHETEROCYCLES]0[/NUMALIPHATICHETEROCYCLES][NUMROTATABLEBONDS]5[/NUMROTATABLEBONDS][RINGCOUNT]2[/RINGCOUNT][NUMALIPHATICCARBOCYCLES]1[/NUMALIPHATICCARBOCYCLES][NUMAROMATICRINGS]1[/NUMAROMATICRINGS][NUMAROMATICHETEROCYCLES]0[/NUMAROMATICHETEROCYCLES][NUMHACCEPTORS]2[/NUMHACCEPTORS][NUMSATURATEDCARBOCYCLES]1[/NUMSATURATEDCARBOCYCLES][NUMHETEROATOMS]4[/NUMHETEROATOMS][HEAVYATOMCOUNT]19[/HEAVYATOMCOUNT][NUMSATURATEDHETEROCYCLES]0[/NUMSATURATEDHETEROCYCLES][NOCOUNT]2[/NOCOUNT][NUMSATURATEDRINGS]1[/NUMSATURATEDRINGS][IUPAC]N-[(2-chlorophenyl)methyl]-2-(2-methylcyclopropyl)sulfanylpropanamide[/IUPAC][NUMALIPHATICRINGS]1[/NUMALIPHATICRINGS][NUMAROMATICCARBOCYCLES]1[/NUMAROMATICCARBOCYCLES][TPSA]29.10[/TPSA][START_SMILES]CC1CC1SC(C)C(=O)NCC2=CC=CC=C2Cl[END_SMILES]\n",
      "sas=2.94 sas_score=3.21 qed=0.86 qed_score=0.90 clogp=3.73 clogp_score=3.49 weight=292.10 weight_score=283.08 CC1CC1SC(C)C(=O)NCC2=CC=CC=C2Cl\n",
      "--------\n",
      "</s>[SAS]2.66[/SAS][CLOGP]2.30[/CLOGP][QED]0.70[/QED][WEIGHT]336.09[/WEIGHT][NUMALIPHATICHETEROCYCLES]0[/NUMALIPHATICHETEROCYCLES][NUMHDONORS]1[/NUMHDONORS][NUMROTATABLEBONDS]6[/NUMROTATABLEBONDS][FRACTIONCSP3]0.25[/FRACTIONCSP3][NUMHACCEPTORS]6[/NUMHACCEPTORS][RINGCOUNT]2[/RINGCOUNT][NUMALIPHATICCARBOCYCLES]0[/NUMALIPHATICCARBOCYCLES][NUMAROMATICRINGS]2[/NUMAROMATICRINGS][NUMAROMATICHETEROCYCLES]1[/NUMAROMATICHETEROCYCLES][NUMSATURATEDCARBOCYCLES]0[/NUMSATURATEDCARBOCYCLES][NUMHETEROATOMS]8[/NUMHETEROATOMS][NUMSATURATEDHETEROCYCLES]0[/NUMSATURATEDHETEROCYCLES][NOCOUNT]7[/NOCOUNT][START_SMILES]CC(C)(C)OC(=O)C(=O)NC(=C)C1=CC=C(C=C1)S(=O)(=O)C2=COC=N2[END_SMILES]\n",
      "sas=2.66 sas_score=3.09 qed=0.70 qed_score=0.64 clogp=2.30 clogp_score=1.94 weight=336.09 weight_score=378.09 CC(C)(C)OC(=O)C(=O)NC(=C)C1=CC=C(C=C1)S(=O)(=O)C2=COC=N2\n",
      "--------\n",
      "</s>[SAS]2.99[/SAS][CLOGP]-2.21[/CLOGP][QED]0.65[/QED][WEIGHT]254.10[/WEIGHT][NUMALIPHATICHETEROCYCLES]0[/NUMALIPHATICHETEROCYCLES][NUMROTATABLEBONDS]6[/NUMROTATABLEBONDS][NUMHACCEPTORS]5[/NUMHACCEPTORS][RINGCOUNT]1[/RINGCOUNT][NUMHDONORS]3[/NUMHDONORS][FRACTIONCSP3]0.50[/FRACTIONCSP3][NUMALIPHATICCARBOCYCLES]0[/NUMALIPHATICCARBOCYCLES][NUMAROMATICRINGS]1[/NUMAROMATICRINGS][NUMAROMATICHETEROCYCLES]1[/NUMAROMATICHETEROCYCLES][NUMHETEROATOMS]8[/NUMHETEROATOMS][NUMSATURATEDCARBOCYCLES]0[/NUMSATURATEDCARBOCYCLES][NUMSATURATEDHETEROCYCLES]0[/NUMSATURATEDHETEROCYCLES][NOCOUNT]8[/NOCOUNT][START_SMILES]CC(C)(C)OC(=O)NCC(=O)NCC(C1=COC=C1)O[END_SMILES]\n",
      "sas=2.99 sas_score=2.86 qed=0.65 qed_score=0.75 clogp=-2.21 clogp_score=0.95 weight=254.10 weight_score=284.14 CC(C)(C)OC(=O)NCC(=O)NCC(C1=COC=C1)O\n",
      "--------\n",
      "</s>[SAS]3.06[/SAS][CLOGP]0.81[/CLOGP][QED]0.85[/QED][WEIGHT]271.06[/WEIGHT][NUMALIPHATICHETEROCYCLES]1[/NUMALIPHATICHETEROCYCLES][NUMALIPHATICCARBOCYCLES]0[/NUMALIPHATICCARBOCYCLES][NUMHDONORS]1[/NUMHDONORS][NUMROTATABLEBONDS]3[/NUMROTATABLEBONDS][FRACTIONCSP3]0.50[/FRACTIONCSP3][RINGCOUNT]2[/RINGCOUNT][NUMHACCEPTORS]4[/NUMHACCEPTORS][NUMAROMATICRINGS]1[/NUMAROMATICRINGS][NUMAROMATICHETEROCYCLES]1[/NUMAROMATICHETEROCYCLES][NUMHETEROATOMS]7[/NUMHETEROATOMS][NUMSATURATEDCARBOCYCLES]0[/NUMSATURATEDCARBOCYCLES][NUMSATURATEDHETEROCYCLES]1[/NUMSATURATEDHETEROCYCLES][NOCOUNT]6[/NOCOUNT][START_SMILES]CC1=C(C(=NN1C)C)S(=O)(=O)N2CCCC2C(=S)N[END_SMILES]\n",
      "sas=3.06 sas_score=3.00 qed=0.85 qed_score=0.82 clogp=0.81 clogp_score=0.48 weight=271.06 weight_score=302.09 CC1=C(C(=NN1C)C)S(=O)(=O)N2CCCC2C(=S)N\n",
      "--------\n",
      "</s>[SAS]2.73[/SAS][CLOGP]2.99[/CLOGP][QED]0.81[/QED][WEIGHT]270.14[/WEIGHT][NUMALIPHATICHETEROCYCLES]0[/NUMALIPHATICHETEROCYCLES][NUMALIPHATICCARBOCYCLES]0[/NUMALIPHATICCARBOCYCLES][NUMHDONORS]1[/NUMHDONORS][NUMROTATABLEBONDS]5[/NUMROTATABLEBONDS][FRACTIONCSP3]0.50[/FRACTIONCSP3][NUMHACCEPTORS]3[/NUMHACCEPTORS][RINGCOUNT]1[/RINGCOUNT][NUMAROMATICRINGS]1[/NUMAROMATICRINGS][NUMAROMATICHETEROCYCLES]0[/NUMAROMATICHETEROCYCLES][NUMSATURATEDCARBOCYCLES]0[/NUMSATURATEDCARBOCYCLES][NUMHETEROATOMS]4[/NUMHETEROATOMS][NUMSATURATEDHETEROCYCLES]0[/NUMSATURATEDHETEROCYCLES][IUPAC]2-[(2-fluorophenyl)methyl-methylamino]-2-methylpropanoic acid[/IUPAC][NOCOUNT]3[/NOCOUNT][SYNONYM]AKOS012115559[/SYNONYM][SIMILAR]CC(C)(C(=O)O)N(C)CC1=CC=CC=C1 0.76[/SIMILAR][SIMILAR]CC(C)(C(=O)O)N(C)CC1=CC=CC=C1 0.76[/SIMILAR][SIMILAR]CC(C)(C(=O)O)N(C)CC1=CC=CC=C1 0.76[/SIMILAR][SIMILAR]CC(C)(C(=O)O)N(C)CC1=CC=CC=C1 0.76[/SIMILAR][SIMILAR]CC(C)(C(=O)O)N(C)CC1=CC=CC=C1 0.76[/SIMILAR][SIMILAR]CC(C)(C(=O)O)N(C)CC1=CC=CC=C1 0.76[/SIMILAR][SIMILAR]CC(C)(C(=O)O)N(C)CC1=CC=CC=C1 0.76\n"
     ]
    },
    {
     "name": "stderr",
     "output_type": "stream",
     "text": [
      "[18:06:22] SMILES Parse Error: syntax error while parsing: [/SAS][CLOGP]2.99[/CLOGP][QED]0.81[/QED][WEIGHT]270.14[/WEIGHT][NUMALIPHATICHETEROCYCLES]0[/NUMALIPHATICHETEROCYCLES][NUMALIPHATICCARBOCYCLES]0[/NUMALIPHATICCARBOCYCLES][NUMHDONORS]1[/NUMHDONORS][NUMROTATABLEBONDS]5[/NUMROTATABLEBONDS][FRACTIONCSP3]0.50[/FRACTIONCSP3][NUMHACCEPTORS]3[/NUMHACCEPTORS][RINGCOUNT]1[/RINGCOUNT][NUMAROMATICRINGS]1[/NUMAROMATICRINGS][NUMAROMATICHETEROCYCLES]0[/NUMAROMATICHETEROCYCLES][NUMSATURATEDCARBOCYCLES]0[/NUMSATURATEDCARBOCYCLES][NUMHETEROATOMS]4[/NUMHETEROATOMS][NUMSATURATEDHETEROCYCLES]0[/NUMSATURATEDHETEROCYCLES][IUPAC]2-[(2-fluorophenyl)methyl-methylamino]-2-methylpropanoic\n",
      "[18:06:22] SMILES Parse Error: Failed parsing SMILES '[/SAS][CLOGP]2.99[/CLOGP][QED]0.81[/QED][WEIGHT]270.14[/WEIGHT][NUMALIPHATICHETEROCYCLES]0[/NUMALIPHATICHETEROCYCLES][NUMALIPHATICCARBOCYCLES]0[/NUMALIPHATICCARBOCYCLES][NUMHDONORS]1[/NUMHDONORS][NUMROTATABLEBONDS]5[/NUMROTATABLEBONDS][FRACTIONCSP3]0.50[/FRACTIONCSP3][NUMHACCEPTORS]3[/NUMHACCEPTORS][RINGCOUNT]1[/RINGCOUNT][NUMAROMATICRINGS]1[/NUMAROMATICRINGS][NUMAROMATICHETEROCYCLES]0[/NUMAROMATICHETEROCYCLES][NUMSATURATEDCARBOCYCLES]0[/NUMSATURATEDCARBOCYCLES][NUMHETEROATOMS]4[/NUMHETEROATOMS][NUMSATURATEDHETEROCYCLES]0[/NUMSATURATEDHETEROCYCLES][IUPAC]2-[(2-fluorophenyl)methyl-methylamino]-2-methylpropanoic' for input: '[/SAS][CLOGP]2.99[/CLOGP][QED]0.81[/QED][WEIGHT]270.14[/WEIGHT][NUMALIPHATICHETEROCYCLES]0[/NUMALIPHATICHETEROCYCLES][NUMALIPHATICCARBOCYCLES]0[/NUMALIPHATICCARBOCYCLES][NUMHDONORS]1[/NUMHDONORS][NUMROTATABLEBONDS]5[/NUMROTATABLEBONDS][FRACTIONCSP3]0.50[/FRACTIONCSP3][NUMHACCEPTORS]3[/NUMHACCEPTORS][RINGCOUNT]1[/R... truncated"
     ]
    },
    {
     "name": "stdout",
     "output_type": "stream",
     "text": [
      "--------\n",
      "</s>[SAS]1.68[/SAS][CLOGP]3.28[/CLOGP][QED]0.63[/QED][WEIGHT]274.08[/WEIGHT][NUMALIPHATICHETEROCYCLES]0[/NUMALIPHATICHETEROCYCLES][NUMALIPHATICCARBOCYCLES]0[/NUMALIPHATICCARBOCYCLES][NUMHDONORS]1[/NUMHDONORS][NUMROTATABLEBONDS]5[/NUMROTATABLEBONDS][FRACTIONCSP3]0.13[/FRACTIONCSP3][NUMAROMATICRINGS]2[/NUMAROMATICRINGS][RINGCOUNT]2[/RINGCOUNT][NUMAROMATICHETEROCYCLES]0[/NUMAROMATICHETEROCYCLES][NUMHACCEPTORS]2[/NUMHACCEPTORS][NUMHETEROATOMS]4[/NUMHETEROATOMS][NUMSATURATEDCARBOCYCLES]0[/NUMSATURATEDCARBOCYCLES][NUMSATURATEDHETEROCYCLES]0[/NUMSATURATEDHETEROCYCLES][START_SMILES]C1=CC=C(C=C1)COC(=O)CCNC(=O)C2=CC=CC=C2[END_SMILES]\n",
      "sas=1.68 sas_score=1.49 qed=0.63 qed_score=0.83 clogp=3.28 clogp_score=2.55 weight=274.08 weight_score=283.12 C1=CC=C(C=C1)COC(=O)CCNC(=O)C2=CC=CC=C2\n",
      "--------\n",
      "</s>[SAS]2.81[/SAS][CLOGP]3.10[/CLOGP][QED]0.85[/QED][WEIGHT]320.01[/WEIGHT][NUMHDONORS]1[/NUMHDONORS][FRACTIONCSP3]0.25[/FRACTIONCSP3][NUMALIPHATICHETEROCYCLES]0[/NUMALIPHATICHETEROCYCLES][NUMROTATABLEBONDS]3[/NUMROTATABLEBONDS][RINGCOUNT]2[/RINGCOUNT][NUMALIPHATICCARBOCYCLES]0[/NUMALIPHATICCARBOCYCLES][NUMHACCEPTORS]3[/NUMHACCEPTORS][NUMAROMATICRINGS]2[/NUMAROMATICRINGS][NUMAROMATICHETEROCYCLES]1[/NUMAROMATICHETEROCYCLES][NUMSATURATEDCARBOCYCLES]0[/NUMSATURATEDCARBOCYCLES][NUMHETEROATOMS]6[/NUMHETEROATOMS][NUMSATURATEDHETEROCYCLES]0[/NUMSATURATEDHETEROCYCLES][NOCOUNT]3[/NOCOUNT][START_SMILES]CC(C1=CC=C(S1)Cl)NC(=O)C2=CC(=C(C=C2)OC)Cl[END_SMILES]\n",
      "sas=2.81 sas_score=2.40 qed=0.85 qed_score=0.89 clogp=3.10 clogp_score=4.55 weight=320.01 weight_score=329.00 CC(C1=CC=C(S1)Cl)NC(=O)C2=CC(=C(C=C2)OC)Cl\n",
      "--------\n",
      "</s>[SAS]2.82[/SAS][CLOGP]3.13[/CLOGP][QED]0.87[/QED][WEIGHT]334.03[/WEIGHT][NUMALIPHATICHETEROCYCLES]0[/NUMALIPHATICHETEROCYCLES][NUMHDONORS]1[/NUMHDONORS][NUMROTATABLEBONDS]4[/NUMROTATABLEBONDS][FRACTIONCSP3]0.38[/FRACTIONCSP3][NUMHACCEPTORS]3[/NUMHACCEPTORS][RINGCOUNT]2[/RINGCOUNT][NUMALIPHATICCARBOCYCLES]0[/NUMALIPHATICCARBOCYCLES][NUMAROMATICRINGS]2[/NUMAROMATICRINGS][NUMAROMATICHETEROCYCLES]1[/NUMAROMATICHETEROCYCLES][NUMHETEROATOMS]6[/NUMHETEROATOMS][NUMSATURATEDCARBOCYCLES]0[/NUMSATURATEDCARBOCYCLES][NUMSATURATEDHETEROCYCLES]0[/NUMSATURATEDHETEROCYCLES][NOCOUNT]3[/NOCOUNT][START_SMILES]CC(C)(C)C(C1=CC=C(C=C1)Br)NC(=O)C2=CC=CS2[END_SMILES]\n",
      "sas=2.82 sas_score=2.57 qed=0.87 qed_score=0.82 clogp=3.13 clogp_score=5.03 weight=334.03 weight_score=351.03 CC(C)(C)C(C1=CC=C(C=C1)Br)NC(=O)C2=CC=CS2\n",
      "--------\n",
      "</s>[SAS]2.39[/SAS][CLOGP]1.02[/CLOGP][QED]0.71[/QED][WEIGHT]254.12[/WEIGHT][NUMALIPHATICHETEROCYCLES]0[/NUMALIPHATICHETEROCYCLES][NUMHDONORS]2[/NUMHDONORS][NUMROTATABLEBONDS]6[/NUMROTATABLEBONDS][FRACTIONCSP3]0.38[/FRACTIONCSP3][NUMALIPHATICCARBOCYCLES]0[/NUMALIPHATICCARBOCYCLES][RINGCOUNT]1[/RINGCOUNT][NUMHACCEPTORS]4[/NUMHACCEPTORS][NUMAROMATICRINGS]1[/NUMAROMATICRINGS][NUMAROMATICHETEROCYCLES]0[/NUMAROMATICHETEROCYCLES][NUMSATURATEDCARBOCYCLES]0[/NUMSATURATEDCARBOCYCLES][NUMHETEROATOMS]6[/NUMHETEROATOMS][IUPAC]2-[(2-amino-3-methylbutanoyl)-methylamino]-4-fluorobenzoic acid[/IUPAC][SIMILAR]CC(C)C(C(=O)N(C)C1=CC=CC=C1C(=O)O)N 0.85[/SIMILAR][SIMILAR]CC(C)C(C(=O)NC1=C(C=CC(=C1)F)C(=O)O)N 0.78[/SIMILAR][SIMILAR]CC(C)C(C(=O)NC1=C(C=CC(=C1)F)C(=O)O)N 0.78[/SIMILAR][SIMILAR]CC(C)C(C(=O)NC1=C(C=CC(=C1)F)C(=O)O)N 0.78[/SIMILAR][SIMILAR]CC(C)C(C(=O)NC1=C(C=CC(=C1)F)C(=O)O)N 0.78[/SIMILAR][SIMILAR]CC(C)C(C(=O)NC1=C(C=CC(=C1)F)C(=O)O)\n"
     ]
    },
    {
     "name": "stderr",
     "output_type": "stream",
     "text": [
      "[18:06:24] SMILES Parse Error: syntax error while parsing: [/SAS][CLOGP]1.02[/CLOGP][QED]0.71[/QED][WEIGHT]254.12[/WEIGHT][NUMALIPHATICHETEROCYCLES]0[/NUMALIPHATICHETEROCYCLES][NUMHDONORS]2[/NUMHDONORS][NUMROTATABLEBONDS]6[/NUMROTATABLEBONDS][FRACTIONCSP3]0.38[/FRACTIONCSP3][NUMALIPHATICCARBOCYCLES]0[/NUMALIPHATICCARBOCYCLES][RINGCOUNT]1[/RINGCOUNT][NUMHACCEPTORS]4[/NUMHACCEPTORS][NUMAROMATICRINGS]1[/NUMAROMATICRINGS][NUMAROMATICHETEROCYCLES]0[/NUMAROMATICHETEROCYCLES][NUMSATURATEDCARBOCYCLES]0[/NUMSATURATEDCARBOCYCLES][NUMHETEROATOMS]6[/NUMHETEROATOMS][IUPAC]2-[(2-amino-3-methylbutanoyl)-methylamino]-4-fluorobenzoic\n",
      "[18:06:24] SMILES Parse Error: Failed parsing SMILES '[/SAS][CLOGP]1.02[/CLOGP][QED]0.71[/QED][WEIGHT]254.12[/WEIGHT][NUMALIPHATICHETEROCYCLES]0[/NUMALIPHATICHETEROCYCLES][NUMHDONORS]2[/NUMHDONORS][NUMROTATABLEBONDS]6[/NUMROTATABLEBONDS][FRACTIONCSP3]0.38[/FRACTIONCSP3][NUMALIPHATICCARBOCYCLES]0[/NUMALIPHATICCARBOCYCLES][RINGCOUNT]1[/RINGCOUNT][NUMHACCEPTORS]4[/NUMHACCEPTORS][NUMAROMATICRINGS]1[/NUMAROMATICRINGS][NUMAROMATICHETEROCYCLES]0[/NUMAROMATICHETEROCYCLES][NUMSATURATEDCARBOCYCLES]0[/NUMSATURATEDCARBOCYCLES][NUMHETEROATOMS]6[/NUMHETEROATOMS][IUPAC]2-[(2-amino-3-methylbutanoyl)-methylamino]-4-fluorobenzoic' for input: '[/SAS][CLOGP]1.02[/CLOGP][QED]0.71[/QED][WEIGHT]254.12[/WEIGHT][NUMALIPHATICHETEROCYCLES]0[/NUMALIPHATICHETEROCYCLES][NUMHDONORS]2[/NUMHDONORS][NUMROTATABLEBONDS]6[/NUMROTATABLEBONDS][FRACTIONCSP3]0.38[/FRACTIONCSP3][NUMALIPHATICCARBOCYCLES]0[/NUMALIPHATICCARBOCYCLES][RINGCOUNT]1[/RINGCOUNT][NUMHACCEPTORS]4[/NUMHACCEPTORS][NUMAROMATICRINGS]1[/NUMAROMATICRINGS][NUMA... truncated"
     ]
    },
    {
     "name": "stdout",
     "output_type": "stream",
     "text": [
      "--------\n",
      "</s>[SAS]3.30[/SAS][CLOGP]1.09[/CLOGP][QED]0.83[/QED][WEIGHT]274.14[/WEIGHT][NUMALIPHATICHETEROCYCLES]1[/NUMALIPHATICHETEROCYCLES][NUMALIPHATICCARBOCYCLES]0[/NUMALIPHATICCARBOCYCLES][NUMHDONORS]1[/NUMHDONORS][NUMROTATABLEBONDS]3[/NUMROTATABLEBONDS][FRACTIONCSP3]0.50[/FRACTIONCSP3][RINGCOUNT]2[/RINGCOUNT][NUMAROMATICRINGS]1[/NUMAROMATICRINGS][NUMAROMATICHETEROCYCLES]0[/NUMAROMATICHETEROCYCLES][NUMHETEROATOMS]5[/NUMHETEROATOMS][NUMSATURATEDCARBOCYCLES]0[/NUMSATURATEDCARBOCYCLES][NUMHACCEPTORS]3[/NUMHACCEPTORS][IUPAC]2-[(2S)-2-(2-fluorophenyl)-2-methyl-3-oxopiperazin-1-yl]-N-methylpropanamide[/IUPAC][NOCOUNT]5[/NOCOUNT][HEAVYATOMCOUNT]20[/HEAVYATOMCOUNT][SIMILAR]CC(C)C[C@@H](C(=O)N1CCN(CC1)C)NC(=O)C2=CC=CC=C2F 0.83[/SIMILAR][SIMILAR]CC(C)C[C@@H](C(=O)N1CCN(CC1)C)NC(=O)C2=CC=CC=C2F 0.83[/SIMILAR][SIMILAR]CC(C)C[C@@H](C(=O)N1CCN(CC1)C)NC(=O)C2=CC=CC=C2F 0.83[/SIMILAR][SIMILAR]CC(C)C[C@@H](C(=O)N1CCN(CC1)C)NC(=O)C2=CC=CC=C2F 0.83[/SIMILAR][SIMILAR]CC(C)C[C@@H](C(=O)N1CCN(CC1)C)\n"
     ]
    },
    {
     "name": "stderr",
     "output_type": "stream",
     "text": [
      "[18:06:25] SMILES Parse Error: syntax error while parsing: [/SAS][CLOGP]1.09[/CLOGP][QED]0.83[/QED][WEIGHT]274.14[/WEIGHT][NUMALIPHATICHETEROCYCLES]1[/NUMALIPHATICHETEROCYCLES][NUMALIPHATICCARBOCYCLES]0[/NUMALIPHATICCARBOCYCLES][NUMHDONORS]1[/NUMHDONORS][NUMROTATABLEBONDS]3[/NUMROTATABLEBONDS][FRACTIONCSP3]0.50[/FRACTIONCSP3][RINGCOUNT]2[/RINGCOUNT][NUMAROMATICRINGS]1[/NUMAROMATICRINGS][NUMAROMATICHETEROCYCLES]0[/NUMAROMATICHETEROCYCLES][NUMHETEROATOMS]5[/NUMHETEROATOMS][NUMSATURATEDCARBOCYCLES]0[/NUMSATURATEDCARBOCYCLES][NUMHACCEPTORS]3[/NUMHACCEPTORS][IUPAC]2-[(2S)-2-(2-fluorophenyl)-2-methyl-3-oxopiperazin-1-yl]-N-methylpropanamide[/IUPAC][NOCOUNT]5[/NOCOUNT][HEAVYATOMCOUNT]20[/HEAVYATOMCOUNT][SIMILAR]CC(C)C[C@@H](C(=O)N1CCN(CC1)C)NC(=O)C2=CC=CC=C2F\n",
      "[18:06:25] SMILES Parse Error: Failed parsing SMILES '[/SAS][CLOGP]1.09[/CLOGP][QED]0.83[/QED][WEIGHT]274.14[/WEIGHT][NUMALIPHATICHETEROCYCLES]1[/NUMALIPHATICHETEROCYCLES][NUMALIPHATICCARBOCYCLES]0[/NUMALIPHATICCARBOCYCLES][NUMHDONORS]1[/NUMHDONORS][NUMROTATABLEBONDS]3[/NUMROTATABLEBONDS][FRACTIONCSP3]0.50[/FRACTIONCSP3][RINGCOUNT]2[/RINGCOUNT][NUMAROMATICRINGS]1[/NUMAROMATICRINGS][NUMAROMATICHETEROCYCLES]0[/NUMAROMATICHETEROCYCLES][NUMHETEROATOMS]5[/NUMHETEROATOMS][NUMSATURATEDCARBOCYCLES]0[/NUMSATURATEDCARBOCYCLES][NUMHACCEPTORS]3[/NUMHACCEPTORS][IUPAC]2-[(2S)-2-(2-fluorophenyl)-2-methyl-3-oxopiperazin-1-yl]-N-methylpropanamide[/IUPAC][NOCOUNT]5[/NOCOUNT][HEAVYATOMCOUNT]20[/HEAVYATOMCOUNT][SIMILAR]CC(C)C[C@@H](C(=O)N1CCN(CC1)C)NC(=O)C2=CC=CC=C2F' for input: '[/SAS][CLOGP]1.09[/CLOGP][QED]0.83[/QED][WEIGHT]274.14[/WEIGHT][NUMALIPHATICHETEROCYCLES]1[/NUMALIPHATICHETEROCYCLES][NUMALIPHATICCARBOCYCLES]0[/NUMALIPHATICCARBOCYCLES][NUMHDONORS]1[/NUMHDONORS][NUMROTATABLEBONDS]3[/NUMROTATABLE... truncated"
     ]
    },
    {
     "name": "stdout",
     "output_type": "stream",
     "text": [
      "--------\n",
      "</s>[SAS]3.79[/SAS][CLOGP]1.04[/CLOGP][QED]0.79[/QED][WEIGHT]262.10[/WEIGHT][NUMHDONORS]1[/NUMHDONORS][FRACTIONCSP3]0.50[/FRACTIONCSP3][NUMALIPHATICHETEROCYCLES]1[/NUMALIPHATICHETEROCYCLES][NUMROTATABLEBONDS]3[/NUMROTATABLEBONDS][RINGCOUNT]2[/RINGCOUNT][NUMALIPHATICCARBOCYCLES]0[/NUMALIPHATICCARBOCYCLES][NUMAROMATICRINGS]1[/NUMAROMATICRINGS][NUMAROMATICHETEROCYCLES]1[/NUMAROMATICHETEROCYCLES][NUMHETEROATOMS]7[/NUMHETEROATOMS][NUMSATURATEDCARBOCYCLES]0[/NUMSATURATEDCARBOCYCLES][NUMHACCEPTORS]5[/NUMHACCEPTORS][NOCOUNT]7[/NOCOUNT][HEAVYATOMCOUNT]19[/HEAVYATOMCOUNT][NUMSATURATEDHETEROCYCLES]1[/NUMSATURATEDHETEROCYCLES][IUPAC]2-[(2S)-2-(2-methyl-1,3-thiazol-4-yl)-2-oxo-1,3-oxazolidin-3-yl]butanoic acid[/IUPAC][NUMSATURATEDRINGS]1[/NUMSATURATEDRINGS][NUMALIPHATICRINGS]1[/NUMALIPHATICRINGS][TPSA]88.83[/TPSA][START_SMILES]CCC(C(=O)O)N1[C@H](COC1=O)C2=CSC(=N2)C[END_SMILES]\n",
      "sas=3.79 sas_score=3.72 qed=0.79 qed_score=0.90 clogp=1.04 clogp_score=1.81 weight=262.10 weight_score=270.07 CCC(C(=O)O)N1[C@H](COC1=O)C2=CSC(=N2)C\n",
      "--------\n",
      "</s>[SAS]2.98[/SAS][CLOGP]2.89[/CLOGP][QED]0.80[/QED][WEIGHT]315.10[/WEIGHT][NUMALIPHATICHETEROCYCLES]0[/NUMALIPHATICHETEROCYCLES][NUMHDONORS]2[/NUMHDONORS][NUMROTATABLEBONDS]5[/NUMROTATABLEBONDS][FRACTIONCSP3]0.33[/FRACTIONCSP3][RINGCOUNT]2[/RINGCOUNT][NUMALIPHATICCARBOCYCLES]0[/NUMALIPHATICCARBOCYCLES][NUMAROMATICRINGS]2[/NUMAROMATICRINGS][NUMAROMATICHETEROCYCLES]1[/NUMAROMATICHETEROCYCLES][NUMHACCEPTORS]5[/NUMHACCEPTORS][NUMSATURATEDCARBOCYCLES]0[/NUMSATURATEDCARBOCYCLES][NUMHETEROATOMS]7[/NUMHETEROATOMS][NUMSATURATEDHETEROCYCLES]0[/NUMSATURATEDHETEROCYCLES][NOCOUNT]6[/NOCOUNT][START_SMILES]CC(C)(C)C(C1=CC=C(C=C1)Cl)NC(=O)C2=NN=C(C=C2)NN[END_SMILES]\n",
      "sas=2.98 sas_score=2.84 qed=0.80 qed_score=0.59 clogp=2.89 clogp_score=2.93 weight=315.10 weight_score=333.14 CC(C)(C)C(C1=CC=C(C=C1)Cl)NC(=O)C2=NN=C(C=C2)NN\n",
      "--------\n",
      "</s>[SAS]2.25[/SAS][CLOGP]1.56[/CLOGP][QED]0.88[/QED][WEIGHT]274.14[/WEIGHT][NUMALIPHATICHETEROCYCLES]0[/NUMALIPHATICHETEROCYCLES][NUMHDONORS]2[/NUMHDONORS][NUMROTATABLEBONDS]5[/NUMROTATABLEBONDS][FRACTIONCSP3]0.43[/FRACTIONCSP3][NUMHACCEPTORS]4[/NUMHACCEPTORS][RINGCOUNT]2[/RINGCOUNT][NUMALIPHATICCARBOCYCLES]0[/NUMALIPHATICCARBOCYCLES][NUMAROMATICRINGS]2[/NUMAROMATICRINGS][NUMAROMATICHETEROCYCLES]1[/NUMAROMATICHETEROCYCLES][NUMSATURATEDCARBOCYCLES]0[/NUMSATURATEDCARBOCYCLES][NUMHETEROATOMS]5[/NUMHETEROATOMS][NOCOUNT]5[/NOCOUNT][START_SMILES]CC1=C(C(=NN1)C)CNC(=O)C2=CC=C(C=C2)CCN[END_SMILES]\n",
      "sas=2.25 sas_score=2.09 qed=0.88 qed_score=0.77 clogp=1.56 clogp_score=1.46 weight=274.14 weight_score=272.16 CC1=C(C(=NN1)C)CNC(=O)C2=CC=C(C=C2)CCN\n",
      "--------\n",
      "</s>[SAS]2.70[/SAS][CLOGP]2.45[/CLOGP][QED]0.85[/QED][WEIGHT]286.05[/WEIGHT][NUMALIPHATICHETEROCYCLES]0[/NUMALIPHATICHETEROCYCLES][NUMALIPHATICCARBOCYCLES]0[/NUMALIPHATICCARBOCYCLES][NUMHDONORS]1[/NUMHDONORS][NUMROTATABLEBONDS]4[/NUMROTATABLEBONDS][FRACTIONCSP3]0.23[/FRACTIONCSP3][RINGCOUNT]2[/RINGCOUNT][NUMAROMATICRINGS]2[/NUMAROMATICRINGS][NUMAROMATICHETEROCYCLES]1[/NUMAROMATICHETEROCYCLES][NUMHACCEPTORS]4[/NUMHACCEPTORS][NUMHETEROATOMS]6[/NUMHETEROATOMS][NUMSATURATEDCARBOCYCLES]0[/NUMSATURATEDCARBOCYCLES][NUMSATURATEDHETEROCYCLES]0[/NUMSATURATEDHETEROCYCLES][NOCOUNT]4[/NOCOUNT][START_SMILES]CC(C1=CC=C(C=C1)Cl)NC(=O)C2=NN=C(S2)C#N[END_SMILES]\n",
      "sas=2.70 sas_score=2.92 qed=0.85 qed_score=0.94 clogp=2.45 clogp_score=2.55 weight=286.05 weight_score=292.02 CC(C1=CC=C(C=C1)Cl)NC(=O)C2=NN=C(S2)C#N\n",
      "--------\n",
      "</s>[SAS]3.29[/SAS][CLOGP]2.37[/CLOGP][QED]0.74[/QED][WEIGHT]267.18[/WEIGHT][NUMHDONORS]1[/NUMHDONORS][FRACTIONCSP3]0.53[/FRACTIONCSP3][NUMALIPHATICHETEROCYCLES]0[/NUMALIPHATICHETEROCYCLES][NUMROTATABLEBONDS]5[/NUMROTATABLEBONDS][RINGCOUNT]2[/RINGCOUNT][NUMALIPHATICCARBOCYCLES]1[/NUMALIPHATICCARBOCYCLES][NUMAROMATICRINGS]1[/NUMAROMATICRINGS][NUMAROMATICHETEROCYCLES]0[/NUMAROMATICHETEROCYCLES][NUMHETEROATOMS]3[/NUMHETEROATOMS][NUMSATURATEDCARBOCYCLES]1[/NUMSATURATEDCARBOCYCLES][NUMHACCEPTORS]3[/NUMHACCEPTORS][HEAVYATOMCOUNT]19[/HEAVYATOMCOUNT][NUMSATURATEDHETEROCYCLES]0[/NUMSATURATEDHETEROCYCLES][NOCOUNT]3[/NOCOUNT][NUMSATURATEDRINGS]1[/NUMSATURATEDRINGS][IUPAC]2-[(2-methoxyphenyl)methyl-methylamino]cyclohexan-1-ol[/IUPAC][NUMALIPHATICRINGS]1[/NUMALIPHATICRINGS][NUMAROMATICCARBOCYCLES]1[/NUMAROMATICCARBOCYCLES][TPSA]32.70[/TPSA][START_SMILES]CN(CC1=CC=CC=C1OC)C2CCCCC2O[END_SMILES]\n",
      "sas=3.29 sas_score=2.74 qed=0.74 qed_score=0.89 clogp=2.37 clogp_score=2.43 weight=267.18 weight_score=249.17 CN(CC1=CC=CC=C1OC)C2CCCCC2O\n",
      "--------\n",
      "</s>[SAS]2.71[/SAS][CLOGP]2.54[/CLOGP][QED]0.80[/QED][WEIGHT]312.18[/WEIGHT][NUMHDONORS]1[/NUMHDONORS][FRACTIONCSP3]0.53[/FRACTIONCSP3][NUMALIPHATICHETEROCYCLES]1[/NUMALIPHATICHETEROCYCLES][NUMROTATABLEBONDS]5[/NUMROTATABLEBONDS][RINGCOUNT]2[/RINGCOUNT][NUMALIPHATICCARBOCYCLES]0[/NUMALIPHATICCARBOCYCLES][NUMAROMATICRINGS]1[/NUMAROMATICRINGS][NUMAROMATICHETEROCYCLES]0[/NUMAROMATICHETEROCYCLES][NUMHACCEPTORS]3[/NUMHACCEPTORS][NUMHETEROATOMS]5[/NUMHETEROATOMS][NUMSATURATEDCARBOCYCLES]0[/NUMSATURATEDCARBOCYCLES][IUPAC]N-[(2S)-1-(2,3-dihydro-1-benzofuran-2-yl)-1-oxopropan-2-yl]-2-methyl-2-(propan-2-ylamino)propanamide[/IUPAC][HEAVYATOMCOUNT]23[/HEAVYATOMCOUNT][NUMSATURATEDHETEROCYCLES]0[/NUMSATURATEDHETEROCYCLES][NOCOUNT]5[/NOCOUNT][START_SMILES]C[C@@H](C(=O)C1CC2=CC=CC=C2O1)NC(=O)C(C)(C)NC(C)C[END_SMILES]\n",
      "sas=2.71 sas_score=3.44 qed=0.80 qed_score=0.84 clogp=2.54 clogp_score=1.84 weight=312.18 weight_score=318.19 C[C@@H](C(=O)C1CC2=CC=CC=C2O1)NC(=O)C(C)(C)NC(C)C\n",
      "--------\n",
      "</s>[SAS]2.35[/SAS][CLOGP]2.89[/CLOGP][QED]0.86[/QED][WEIGHT]319.14[/WEIGHT][NUMALIPHATICHETEROCYCLES]0[/NUMALIPHATICHETEROCYCLES][NUMALIPHATICCARBOCYCLES]0[/NUMALIPHATICCARBOCYCLES][NUMHDONORS]1[/NUMHDONORS][NUMROTATABLEBONDS]5[/NUMROTATABLEBONDS][FRACTIONCSP3]0.28[/FRACTIONCSP3][NUMHACCEPTORS]4[/NUMHACCEPTORS][RINGCOUNT]2[/RINGCOUNT][NUMAROMATICRINGS]2[/NUMAROMATICRINGS][NUMAROMATICHETEROCYCLES]1[/NUMAROMATICHETEROCYCLES][NUMSATURATEDCARBOCYCLES]0[/NUMSATURATEDCARBOCYCLES][NUMHETEROATOMS]6[/NUMHETEROATOMS][IUPAC]N-[(2S)-1-(dimethylamino)-1-oxopropan-2-yl]-2-(4-methylphenyl)-1,3-thiazole-4-carboxamide[/IUPAC][SIMILAR]CC1=CC=C(C=C1)C2=NC(=CS2)C(=O)NCC(=O)N3CCCC3 0.67[/SIMILAR][SIMILAR]CC1=CC=C(C=C1)C2=NC(=CS2)C(=O)NCC(=O)N3CCCC3 0.67[/SIMILAR][SIMILAR]CC1=CC=C(C=C1)C2=NC(=CS2)C(=O)NCC(=O)N3CCCC3 0.67[/SIMILAR][SIMILAR]CC1=CC=C(C=C1)C2=NC(=CS2)C(=O)NCC(=O)N3CCCC3 0.67[/SIMILAR][SIMILAR]CC1=CC=C(C=C1)C2=NC(=CS2)C(=O)NCC(=O)N3CCCC3 0.6\n"
     ]
    },
    {
     "name": "stderr",
     "output_type": "stream",
     "text": [
      "[18:06:29] SMILES Parse Error: syntax error while parsing: [/SAS][CLOGP]2.89[/CLOGP][QED]0.86[/QED][WEIGHT]319.14[/WEIGHT][NUMALIPHATICHETEROCYCLES]0[/NUMALIPHATICHETEROCYCLES][NUMALIPHATICCARBOCYCLES]0[/NUMALIPHATICCARBOCYCLES][NUMHDONORS]1[/NUMHDONORS][NUMROTATABLEBONDS]5[/NUMROTATABLEBONDS][FRACTIONCSP3]0.28[/FRACTIONCSP3][NUMHACCEPTORS]4[/NUMHACCEPTORS][RINGCOUNT]2[/RINGCOUNT][NUMAROMATICRINGS]2[/NUMAROMATICRINGS][NUMAROMATICHETEROCYCLES]1[/NUMAROMATICHETEROCYCLES][NUMSATURATEDCARBOCYCLES]0[/NUMSATURATEDCARBOCYCLES][NUMHETEROATOMS]6[/NUMHETEROATOMS][IUPAC]N-[(2S)-1-(dimethylamino)-1-oxopropan-2-yl]-2-(4-methylphenyl)-1,3-thiazole-4-carboxamide[/IUPAC][SIMILAR]CC1=CC=C(C=C1)C2=NC(=CS2)C(=O)NCC(=O)N3CCCC3\n",
      "[18:06:29] SMILES Parse Error: Failed parsing SMILES '[/SAS][CLOGP]2.89[/CLOGP][QED]0.86[/QED][WEIGHT]319.14[/WEIGHT][NUMALIPHATICHETEROCYCLES]0[/NUMALIPHATICHETEROCYCLES][NUMALIPHATICCARBOCYCLES]0[/NUMALIPHATICCARBOCYCLES][NUMHDONORS]1[/NUMHDONORS][NUMROTATABLEBONDS]5[/NUMROTATABLEBONDS][FRACTIONCSP3]0.28[/FRACTIONCSP3][NUMHACCEPTORS]4[/NUMHACCEPTORS][RINGCOUNT]2[/RINGCOUNT][NUMAROMATICRINGS]2[/NUMAROMATICRINGS][NUMAROMATICHETEROCYCLES]1[/NUMAROMATICHETEROCYCLES][NUMSATURATEDCARBOCYCLES]0[/NUMSATURATEDCARBOCYCLES][NUMHETEROATOMS]6[/NUMHETEROATOMS][IUPAC]N-[(2S)-1-(dimethylamino)-1-oxopropan-2-yl]-2-(4-methylphenyl)-1,3-thiazole-4-carboxamide[/IUPAC][SIMILAR]CC1=CC=C(C=C1)C2=NC(=CS2)C(=O)NCC(=O)N3CCCC3' for input: '[/SAS][CLOGP]2.89[/CLOGP][QED]0.86[/QED][WEIGHT]319.14[/WEIGHT][NUMALIPHATICHETEROCYCLES]0[/NUMALIPHATICHETEROCYCLES][NUMALIPHATICCARBOCYCLES]0[/NUMALIPHATICCARBOCYCLES][NUMHDONORS]1[/NUMHDONORS][NUMROTATABLEBONDS]5[/NUMROTATABLEBONDS][FRACTIONCSP3]0.28[/FRACTIONCSP3][NUMHAC... truncated"
     ]
    },
    {
     "name": "stdout",
     "output_type": "stream",
     "text": [
      "--------\n",
      "</s>[SAS]3.39[/SAS][CLOGP]0.88[/CLOGP][QED]0.75[/QED][WEIGHT]289.03[/WEIGHT][NUMALIPHATICHETEROCYCLES]1[/NUMALIPHATICHETEROCYCLES][NUMHDONORS]1[/NUMHDONORS][NUMROTATABLEBONDS]3[/NUMROTATABLEBONDS][FRACTIONCSP3]0.50[/FRACTIONCSP3][RINGCOUNT]2[/RINGCOUNT][NUMALIPHATICCARBOCYCLES]0[/NUMALIPHATICCARBOCYCLES][NUMAROMATICRINGS]1[/NUMAROMATICRINGS][NUMAROMATICHETEROCYCLES]1[/NUMAROMATICHETEROCYCLES][NUMHACCEPTORS]5[/NUMHACCEPTORS][NUMHETEROATOMS]8[/NUMHETEROATOMS][NUMSATURATEDCARBOCYCLES]0[/NUMSATURATEDCARBOCYCLES][NUMSATURATEDHETEROCYCLES]1[/NUMSATURATEDHETEROCYCLES][NOCOUNT]6[/NOCOUNT][START_SMILES]C1COCC1(C(=O)O)N2C=C(C=N2)Br[END_SMILES]\n",
      "sas=3.39 sas_score=3.76 qed=0.75 qed_score=0.86 clogp=0.88 clogp_score=0.85 weight=289.03 weight_score=259.98 C1COCC1(C(=O)O)N2C=C(C=N2)Br\n",
      "--------\n",
      "</s>[SAS]2.71[/SAS][CLOGP]2.47[/CLOGP][QED]0.88[/QED][WEIGHT]300.07[/WEIGHT][NUMHDONORS]1[/NUMHDONORS][FRACTIONCSP3]0.38[/FRACTIONCSP3][NUMALIPHATICHETEROCYCLES]0[/NUMALIPHATICHETEROCYCLES][NUMROTATABLEBONDS]4[/NUMROTATABLEBONDS][RINGCOUNT]2[/RINGCOUNT][NUMALIPHATICCARBOCYCLES]0[/NUMALIPHATICCARBOCYCLES][NUMHACCEPTORS]4[/NUMHACCEPTORS][NUMAROMATICRINGS]2[/NUMAROMATICRINGS][NUMAROMATICHETEROCYCLES]1[/NUMAROMATICHETEROCYCLES][NUMSATURATEDCARBOCYCLES]0[/NUMSATURATEDCARBOCYCLES][NUMHETEROATOMS]7[/NUMHETEROATOMS][NUMSATURATEDHETEROCYCLES]0[/NUMSATURATEDHETEROCYCLES][NOCOUNT]5[/NOCOUNT][START_SMILES]CC(C)(C)C1=NN(C(=C1)NC(=O)CSC2=CC=CC=C2)C(=O)[O-][END_SMILES]\n",
      "sas=2.71 sas_score=2.68 qed=0.88 qed_score=0.87 clogp=2.47 clogp_score=2.10 weight=300.07 weight_score=332.11 CC(C)(C)C1=NN(C(=C1)NC(=O)CSC2=CC=CC=C2)C(=O)[O-]\n",
      "--------\n",
      "</s>[SAS]2.91[/SAS][CLOGP]3.12[/CLOGP][QED]0.87[/QED][WEIGHT]293.09[/WEIGHT][NUMALIPHATICHETEROCYCLES]0[/NUMALIPHATICHETEROCYCLES][NUMALIPHATICCARBOCYCLES]0[/NUMALIPHATICCARBOCYCLES][NUMHDONORS]1[/NUMHDONORS][NUMROTATABLEBONDS]4[/NUMROTATABLEBONDS][FRACTIONCSP3]0.33[/FRACTIONCSP3][RINGCOUNT]2[/RINGCOUNT][NUMHACCEPTORS]3[/NUMHACCEPTORS][NUMAROMATICRINGS]2[/NUMAROMATICRINGS][NUMAROMATICHETEROCYCLES]1[/NUMAROMATICHETEROCYCLES][NUMSATURATEDCARBOCYCLES]0[/NUMSATURATEDCARBOCYCLES][NUMHETEROATOMS]5[/NUMHETEROATOMS][NUMSATURATEDHETEROCYCLES]0[/NUMSATURATEDHETEROCYCLES][NOCOUNT]3[/NOCOUNT][START_SMILES]CC(C)(C)C1=CC=C(C=C1)C(C2=C(C=CS2)Cl)C(=O)O[END_SMILES]\n",
      "sas=2.91 sas_score=2.87 qed=0.87 qed_score=0.87 clogp=3.12 clogp_score=4.92 weight=293.09 weight_score=308.06 CC(C)(C)C1=CC=C(C=C1)C(C2=C(C=CS2)Cl)C(=O)O\n",
      "--------\n",
      "</s>[SAS]1.83[/SAS][CLOGP]1.19[/CLOGP][QED]0.83[/QED][WEIGHT]281.13[/WEIGHT][NUMALIPHATICHETEROCYCLES]0[/NUMALIPHATICHETEROCYCLES][NUMALIPHATICCARBOCYCLES]0[/NUMALIPHATICCARBOCYCLES][NUMHDONORS]2[/NUMHDONORS][NUMROTATABLEBONDS]6[/NUMROTATABLEBONDS][FRACTIONCSP3]0.43[/FRACTIONCSP3][NUMHACCEPTORS]3[/NUMHACCEPTORS][RINGCOUNT]1[/RINGCOUNT][NUMAROMATICRINGS]1[/NUMAROMATICRINGS][NUMAROMATICHETEROCYCLES]0[/NUMAROMATICHETEROCYCLES][NUMSATURATEDHETEROCYCLES]0[/NUMSATURATEDHETEROCYCLES][NUMHETEROATOMS]6[/NUMHETEROATOMS][NUMSATURATEDCARBOCYCLES]0[/NUMSATURATEDCARBOCYCLES][NOCOUNT]6[/NOCOUNT][START_SMILES]CC(C)(C)OC(=O)NCCNC(=O)C1=CC=C(C=C1)O[END_SMILES]\n",
      "sas=1.83 sas_score=1.82 qed=0.83 qed_score=0.73 clogp=1.19 clogp_score=1.65 weight=281.13 weight_score=280.14 CC(C)(C)OC(=O)NCCNC(=O)C1=CC=C(C=C1)O\n",
      "--------\n",
      "</s>[SAS]3.59[/SAS][CLOGP]2.18[/CLOGP][QED]0.76[/QED][WEIGHT]349.12[/WEIGHT][NUMHDONORS]1[/NUMHDONORS][FRACTIONCSP3]0.50[/FRACTIONCSP3][NUMALIPHATICHETEROCYCLES]1[/NUMALIPHATICHETEROCYCLES][NUMALIPHATICCARBOCYCLES]0[/NUMALIPHATICCARBOCYCLES][NUMROTATABLEBONDS]5[/NUMROTATABLEBONDS][RINGCOUNT]2[/RINGCOUNT][NUMAROMATICRINGS]1[/NUMAROMATICRINGS][NUMAROMATICHETEROCYCLES]0[/NUMAROMATICHETEROCYCLES][NUMHACCEPTORS]5[/NUMHACCEPTORS][NUMHETEROATOMS]8[/NUMHETEROATOMS][NUMSATURATEDCARBOCYCLES]0[/NUMSATURATEDCARBOCYCLES][IUPAC](2S)-2-[(2S)-2-(2,3-dihydro-1,4-benzodioxin-6-ylsulfonyl)-2-methylpropyl]-3-methylbutanoic acid[/IUPAC][TPSA]106.97[/TPSA][START_SMILES]CC(C)[C@@H](C[C@H](C1=CC2=C(C=C1)OCCO2)S(=O)(=O)C)C(=O)O[END_SMILES]\n",
      "sas=3.59 sas_score=3.36 qed=0.76 qed_score=0.85 clogp=2.18 clogp_score=2.29 weight=349.12 weight_score=342.11 CC(C)[C@@H](C[C@H](C1=CC2=C(C=C1)OCCO2)S(=O)(=O)C)C(=O)O\n",
      "--------\n",
      "</s>[SAS]2.43[/SAS][CLOGP]3.77[/CLOGP][QED]0.86[/QED][WEIGHT]308.15[/WEIGHT][NUMALIPHATICHETEROCYCLES]0[/NUMALIPHATICHETEROCYCLES][NUMHDONORS]1[/NUMHDONORS][NUMROTATABLEBONDS]5[/NUMROTATABLEBONDS][FRACTIONCSP3]0.35[/FRACTIONCSP3][RINGCOUNT]2[/RINGCOUNT][NUMALIPHATICCARBOCYCLES]0[/NUMALIPHATICCARBOCYCLES][NUMAROMATICRINGS]2[/NUMAROMATICRINGS][NUMAROMATICHETEROCYCLES]1[/NUMAROMATICHETEROCYCLES][NUMHACCEPTORS]3[/NUMHACCEPTORS][NUMSATURATEDCARBOCYCLES]0[/NUMSATURATEDCARBOCYCLES][NUMHETEROATOMS]4[/NUMHETEROATOMS][NUMSATURATEDHETEROCYCLES]0[/NUMSATURATEDHETEROCYCLES][NOCOUNT]3[/NOCOUNT][IUPAC]N-[(2-fluorophenyl)methyl]-2-methyl-2-(2-methylpropyl)-1,3-thiazol-4-amine[/IUPAC][SIMILAR]CC1=NC(=CS1)CNC2=CC=CC=C2F 0.77[/SIMILAR][SIMILAR]CC1=NC(=CS1)CNC2=CC(=C(C=C2)F)F 0.77[/SIMILAR][SIMILAR]CC1=NC(=CS1)CNC2=CC(=C(C=C2)F)F 0.77[/SIMILAR][SIMILAR]CC1=NC(=CS1)CNC2=CC(=C(C=C2)F)F 0.77[/SIMILAR][SIMILAR]CC1=NC(=CS1)CNC2=CC(=C(C=C2)F)F 0.77[/SIMILAR][SIMILAR]CC1=NC(=CS1)CNC2=CC(=C(C=C2)F)F 0.77[/SIMILAR][SIMILAR]CC1=NC(=CS1)CNC2=CC(=C(C=C2)F)F 0.7\n"
     ]
    },
    {
     "name": "stderr",
     "output_type": "stream",
     "text": [
      "[18:06:32] SMILES Parse Error: syntax error while parsing: [/SAS][CLOGP]3.77[/CLOGP][QED]0.86[/QED][WEIGHT]308.15[/WEIGHT][NUMALIPHATICHETEROCYCLES]0[/NUMALIPHATICHETEROCYCLES][NUMHDONORS]1[/NUMHDONORS][NUMROTATABLEBONDS]5[/NUMROTATABLEBONDS][FRACTIONCSP3]0.35[/FRACTIONCSP3][RINGCOUNT]2[/RINGCOUNT][NUMALIPHATICCARBOCYCLES]0[/NUMALIPHATICCARBOCYCLES][NUMAROMATICRINGS]2[/NUMAROMATICRINGS][NUMAROMATICHETEROCYCLES]1[/NUMAROMATICHETEROCYCLES][NUMHACCEPTORS]3[/NUMHACCEPTORS][NUMSATURATEDCARBOCYCLES]0[/NUMSATURATEDCARBOCYCLES][NUMHETEROATOMS]4[/NUMHETEROATOMS][NUMSATURATEDHETEROCYCLES]0[/NUMSATURATEDHETEROCYCLES][NOCOUNT]3[/NOCOUNT][IUPAC]N-[(2-fluorophenyl)methyl]-2-methyl-2-(2-methylpropyl)-1,3-thiazol-4-amine[/IUPAC][SIMILAR]CC1=NC(=CS1)CNC2=CC=CC=C2F\n",
      "[18:06:32] SMILES Parse Error: Failed parsing SMILES '[/SAS][CLOGP]3.77[/CLOGP][QED]0.86[/QED][WEIGHT]308.15[/WEIGHT][NUMALIPHATICHETEROCYCLES]0[/NUMALIPHATICHETEROCYCLES][NUMHDONORS]1[/NUMHDONORS][NUMROTATABLEBONDS]5[/NUMROTATABLEBONDS][FRACTIONCSP3]0.35[/FRACTIONCSP3][RINGCOUNT]2[/RINGCOUNT][NUMALIPHATICCARBOCYCLES]0[/NUMALIPHATICCARBOCYCLES][NUMAROMATICRINGS]2[/NUMAROMATICRINGS][NUMAROMATICHETEROCYCLES]1[/NUMAROMATICHETEROCYCLES][NUMHACCEPTORS]3[/NUMHACCEPTORS][NUMSATURATEDCARBOCYCLES]0[/NUMSATURATEDCARBOCYCLES][NUMHETEROATOMS]4[/NUMHETEROATOMS][NUMSATURATEDHETEROCYCLES]0[/NUMSATURATEDHETEROCYCLES][NOCOUNT]3[/NOCOUNT][IUPAC]N-[(2-fluorophenyl)methyl]-2-methyl-2-(2-methylpropyl)-1,3-thiazol-4-amine[/IUPAC][SIMILAR]CC1=NC(=CS1)CNC2=CC=CC=C2F' for input: '[/SAS][CLOGP]3.77[/CLOGP][QED]0.86[/QED][WEIGHT]308.15[/WEIGHT][NUMALIPHATICHETEROCYCLES]0[/NUMALIPHATICHETEROCYCLES][NUMHDONORS]1[/NUMHDONORS][NUMROTATABLEBONDS]5[/NUMROTATABLEBONDS][FRACTIONCSP3]0.35[/FRACTIONCSP3][RINGCOUNT]2[/RING... truncated"
     ]
    },
    {
     "name": "stdout",
     "output_type": "stream",
     "text": [
      "--------\n",
      "</s>[SAS]1.73[/SAS][CLOGP]2.44[/CLOGP][QED]0.90[/QED][WEIGHT]332.08[/WEIGHT][NUMALIPHATICHETEROCYCLES]0[/NUMALIPHATICHETEROCYCLES][NUMROTATABLEBONDS]5[/NUMROTATABLEBONDS][NUMALIPHATICCARBOCYCLES]0[/NUMALIPHATICCARBOCYCLES][NUMHACCEPTORS]3[/NUMHACCEPTORS][NUMHDONORS]1[/NUMHDONORS][FRACTIONCSP3]0.18[/FRACTIONCSP3][RINGCOUNT]2[/RINGCOUNT][NUMAROMATICRINGS]2[/NUMAROMATICRINGS][NUMAROMATICHETEROCYCLES]0[/NUMAROMATICHETEROCYCLES][NUMSATURATEDCARBOCYCLES]0[/NUMSATURATEDCARBOCYCLES][NUMSATURATEDHETEROCYCLES]0[/NUMSATURATEDHETEROCYCLES][NUMHETEROATOMS]6[/NUMHETEROATOMS][NOCOUNT]5[/NOCOUNT][START_SMILES]CC1=CC(=C(C=C1)OC)S(=O)(=O)NCC2=CC=CC=C2C#N[END_SMILES]\n",
      "sas=1.73 sas_score=2.00 qed=0.90 qed_score=0.92 clogp=2.44 clogp_score=2.35 weight=332.08 weight_score=316.09 CC1=CC(=C(C=C1)OC)S(=O)(=O)NCC2=CC=CC=C2C#N\n",
      "--------\n",
      "</s>[SAS]2.05[/SAS][CLOGP]3.00[/CLOGP][QED]0.61[/QED][WEIGHT]258.09[/WEIGHT][NUMHDONORS]0[/NUMHDONORS][FRACTIONCSP3]0.07[/FRACTIONCSP3][NUMALIPHATICHETEROCYCLES]0[/NUMALIPHATICHETEROCYCLES][NUMROTATABLEBONDS]3[/NUMROTATABLEBONDS][RINGCOUNT]2[/RINGCOUNT][NUMALIPHATICCARBOCYCLES]0[/NUMALIPHATICCARBOCYCLES][NUMAROMATICRINGS]2[/NUMAROMATICRINGS][NUMAROMATICHETEROCYCLES]0[/NUMAROMATICHETEROCYCLES][NUMHACCEPTORS]2[/NUMHACCEPTORS][NUMSATURATEDCARBOCYCLES]0[/NUMSATURATEDCARBOCYCLES][NUMHETEROATOMS]3[/NUMHETEROATOMS][NOCOUNT]2[/NOCOUNT][START_SMILES]C1=CC=C(C=C1)C(=O)C=CC2=CC=C(C=C2)C(=O)[O-][END_SMILES]\n",
      "sas=2.05 sas_score=2.15 qed=0.61 qed_score=0.62 clogp=3.00 clogp_score=1.95 weight=258.09 weight_score=251.07 C1=CC=C(C=C1)C(=O)C=CC2=CC=C(C=C2)C(=O)[O-]\n",
      "--------\n",
      "</s>[SAS]2.11[/SAS][CLOGP]1.46[/CLOGP][QED]0.60[/QED][WEIGHT]252.06[/WEIGHT][NUMALIPHATICHETEROCYCLES]0[/NUMALIPHATICHETEROCYCLES][NUMALIPHATICCARBOCYCLES]0[/NUMALIPHATICCARBOCYCLES][NUMHDONORS]1[/NUMHDONORS][NUMROTATABLEBONDS]5[/NUMROTATABLEBONDS][FRACTIONCSP3]0.27[/FRACTIONCSP3][RINGCOUNT]1[/RINGCOUNT][NUMAROMATICRINGS]1[/NUMAROMATICRINGS][NUMAROMATICHETEROCYCLES]0[/NUMAROMATICHETEROCYCLES][NUMHACCEPTORS]4[/NUMHACCEPTORS][NUMSATURATEDCARBOCYCLES]0[/NUMSATURATEDCARBOCYCLES][NUMHETEROATOMS]7[/NUMHETEROATOMS][IUPAC]2-[(4-nitrophenyl)sulfonyl-propylamino]ethanol[/IUPAC][NOCOUNT]6[/NOCOUNT][SYNONYM]AKOS010815559[/SYNONYM][TPSA]83.68[/TPSA][START_SMILES]CCCN(CCO)S(=O)(=O)C1=CC=C(C=C1)[N+](=O)[O-][END_SMILES]\n",
      "sas=2.11 sas_score=2.05 qed=0.60 qed_score=0.59 clogp=1.46 clogp_score=0.99 weight=252.06 weight_score=288.08 CCCN(CCO)S(=O)(=O)C1=CC=C(C=C1)[N+](=O)[O-]\n",
      "--------\n",
      "</s>[SAS]2.61[/SAS][CLOGP]2.85[/CLOGP][QED]0.72[/QED][WEIGHT]278.12[/WEIGHT][NUMALIPHATICHETEROCYCLES]0[/NUMALIPHATICHETEROCYCLES][NUMALIPHATICCARBOCYCLES]0[/NUMALIPHATICCARBOCYCLES][NUMHDONORS]1[/NUMHDONORS][NUMROTATABLEBONDS]5[/NUMROTATABLEBONDS][FRACTIONCSP3]0.27[/FRACTIONCSP3][RINGCOUNT]2[/RINGCOUNT][NUMAROMATICRINGS]2[/NUMAROMATICRINGS][NUMAROMATICHETEROCYCLES]1[/NUMAROMATICHETEROCYCLES][NUMHACCEPTORS]4[/NUMHACCEPTORS][NUMSATURATEDCARBOCYCLES]0[/NUMSATURATEDCARBOCYCLES][NUMHETEROATOMS]5[/NUMHETEROATOMS][NUMSATURATEDHETEROCYCLES]0[/NUMSATURATEDHETEROCYCLES][NOCOUNT]4[/NOCOUNT][START_SMILES]CC(C)(C)C1=CC=C(C=C1)C(=O)CSC2=NN=CN2C[END_SMILES]\n",
      "sas=2.61 sas_score=2.12 qed=0.72 qed_score=0.64 clogp=2.85 clogp_score=3.09 weight=278.12 weight_score=289.12 CC(C)(C)C1=CC=C(C=C1)C(=O)CSC2=NN=CN2C\n",
      "--------\n",
      "</s>[SAS]2.75[/SAS][CLOGP]0.33[/CLOGP][QED]0.81[/QED][WEIGHT]256.12[/WEIGHT][NUMALIPHATICHETEROCYCLES]0[/NUMALIPHATICHETEROCYCLES][NUMROTATABLEBONDS]5[/NUMROTATABLEBONDS][FRACTIONCSP3]0.50[/FRACTIONCSP3][NUMALIPHATICCARBOCYCLES]0[/NUMALIPHATICCARBOCYCLES][NUMHACCEPTORS]5[/NUMHACCEPTORS][RINGCOUNT]1[/RINGCOUNT][NUMHDONORS]2[/NUMHDONORS][NUMAROMATICRINGS]1[/NUMAROMATICRINGS][NUMAROMATICHETEROCYCLES]1[/NUMAROMATICHETEROCYCLES][NUMSATURATEDCARBOCYCLES]0[/NUMSATURATEDCARBOCYCLES][NUMHETEROATOMS]7[/NUMHETEROATOMS][IUPAC]2-[(2-amino-2-methylpropyl)-methylamino]-N-(1,3-thiazol-2-yl)acetamide[/IUPAC][SYNONYM]AKOS011835955[/SYNONYM][NOCOUNT]6[/NOCOUNT][HEAVYATOMCOUNT]17[/HEAVYATOMCOUNT][NUMSATURATEDRINGS]0[/NUMSATURATEDRINGS][NHOHCOUNT]3[/NHOHCOUNT][TPSA]80.35[/TPSA][START_SMILES]CC(C)(CN(C)CC(=O)NC1=NC=CS1)N[END_SMILES]\n",
      "sas=2.75 sas_score=2.56 qed=0.81 qed_score=0.80 clogp=0.33 clogp_score=0.75 weight=256.12 weight_score=242.12 CC(C)(CN(C)CC(=O)NC1=NC=CS1)N\n",
      "--------\n",
      "</s>[SAS]1.85[/SAS][CLOGP]1.59[/CLOGP][QED]0.74[/QED][WEIGHT]291.07[/WEIGHT][NUMALIPHATICHETEROCYCLES]0[/NUMALIPHATICHETEROCYCLES][NUMALIPHATICCARBOCYCLES]0[/NUMALIPHATICCARBOCYCLES][NUMHDONORS]2[/NUMHDONORS][FRACTIONCSP3]0.07[/FRACTIONCSP3][NUMROTATABLEBONDS]5[/NUMROTATABLEBONDS][RINGCOUNT]2[/RINGCOUNT][NUMAROMATICRINGS]2[/NUMAROMATICRINGS][NUMAROMATICHETEROCYCLES]0[/NUMAROMATICHETEROCYCLES][NUMHACCEPTORS]3[/NUMHACCEPTORS][NUMSATURATEDHETEROCYCLES]0[/NUMSATURATEDHETEROCYCLES][NUMHETEROATOMS]6[/NUMHETEROATOMS][NUMSATURATEDCARBOCYCLES]0[/NUMSATURATEDCARBOCYCLES][NOCOUNT]5[/NOCOUNT][START_SMILES]C1=CC=C(C=C1)C(=O)N/C(=C/C2=CC=C(C=C2)Cl)/C(=O)O[END_SMILES]\n",
      "sas=1.85 sas_score=1.78 qed=0.74 qed_score=0.85 clogp=1.59 clogp_score=3.20 weight=291.07 weight_score=301.05 C1=CC=C(C=C1)C(=O)N/C(=C/C2=CC=C(C=C2)Cl)/C(=O)O\n",
      "--------\n",
      "</s>[SAS]2.88[/SAS][CLOGP]2.93[/CLOGP][QED]0.87[/QED][WEIGHT]293.16[/WEIGHT][NUMALIPHATICHETEROCYCLES]0[/NUMALIPHATICHETEROCYCLES][NUMALIPHATICCARBOCYCLES]0[/NUMALIPHATICCARBOCYCLES][NUMHDONORS]1[/NUMHDONORS][NUMROTATABLEBONDS]5[/NUMROTATABLEBONDS][FRACTIONCSP3]0.50[/FRACTIONCSP3][RINGCOUNT]2[/RINGCOUNT][NUMAROMATICRINGS]2[/NUMAROMATICRINGS][NUMAROMATICHETEROCYCLES]1[/NUMAROMATICHETEROCYCLES][NUMHACCEPTORS]3[/NUMHACCEPTORS][NUMSATURATEDHETEROCYCLES]0[/NUMSATURATEDHETEROCYCLES][NUMHETEROATOMS]4[/NUMHETEROATOMS][NUMSATURATEDCARBOCYCLES]0[/NUMSATURATEDCARBOCYCLES][NOCOUNT]4[/NOCOUNT][START_SMILES]CC(C)(C)C1=CC=C(C=C1)C(C2=NC=CN2C)NCC(=O)OC[END_SMILES]\n",
      "sas=2.88 sas_score=2.74 qed=0.87 qed_score=0.86 clogp=2.93 clogp_score=2.57 weight=293.16 weight_score=315.19 CC(C)(C)C1=CC=C(C=C1)C(C2=NC=CN2C)NCC(=O)OC\n",
      "--------\n",
      "</s>[SAS]1.66[/SAS][CLOGP]2.66[/CLOGP][QED]0.90[/QED][WEIGHT]270.10[/WEIGHT][NUMALIPHATICHETEROCYCLES]0[/NUMALIPHATICHETEROCYCLES][NUMALIPHATICCARBOCYCLES]0[/NUMALIPHATICCARBOCYCLES][NUMHDONORS]1[/NUMHDONORS][NUMROTATABLEBONDS]5[/NUMROTATABLEBONDS][FRACTIONCSP3]0.13[/FRACTIONCSP3][NUMHACCEPTORS]3[/NUMHACCEPTORS][RINGCOUNT]2[/RINGCOUNT][NUMAROMATICRINGS]2[/NUMAROMATICRINGS][NUMAROMATICHETEROCYCLES]0[/NUMAROMATICHETEROCYCLES][NUMSATURATEDHETEROCYCLES]0[/NUMSATURATEDHETEROCYCLES][NUMHETEROATOMS]4[/NUMHETEROATOMS][NUMSATURATEDCARBOCYCLES]0[/NUMSATURATEDCARBOCYCLES][START_SMILES]COC1=CC=CC(=C1)CNC(=O)C=CC2=CC=CC=C2[END_SMILES]\n",
      "sas=1.66 sas_score=1.66 qed=0.90 qed_score=0.85 clogp=2.66 clogp_score=3.02 weight=270.10 weight_score=267.13 COC1=CC=CC(=C1)CNC(=O)C=CC2=CC=CC=C2\n",
      "--------\n",
      "</s>[SAS]1.95[/SAS][CLOGP]3.53[/CLOGP][QED]0.74[/QED][WEIGHT]307.13[/WEIGHT][NUMALIPHATICHETEROCYCLES]0[/NUMALIPHATICHETEROCYCLES][NUMALIPHATICCARBOCYCLES]0[/NUMALIPHATICCARBOCYCLES][NUMHDONORS]1[/NUMHDONORS][NUMROTATABLEBONDS]6[/NUMROTATABLEBONDS][FRACTIONCSP3]0.28[/FRACTIONCSP3][NUMHACCEPTORS]3[/NUMHACCEPTORS][RINGCOUNT]2[/RINGCOUNT][NUMAROMATICRINGS]2[/NUMAROMATICRINGS][NUMAROMATICHETEROCYCLES]0[/NUMAROMATICHETEROCYCLES][NUMSATURATEDHETEROCYCLES]0[/NUMSATURATEDHETEROCYCLES][NUMHETEROATOMS]4[/NUMHETEROATOMS][NUMSATURATEDCARBOCYCLES]0[/NUMSATURATEDCARBOCYCLES][NOCOUNT]3[/NOCOUNT][START_SMILES]CC1=CC(=C(C=C1)OC)C(=O)NCC2=CC=C(C=C2)CCl[END_SMILES]\n",
      "sas=1.95 sas_score=1.73 qed=0.74 qed_score=0.86 clogp=3.53 clogp_score=3.67 weight=307.13 weight_score=303.10 CC1=CC(=C(C=C1)OC)C(=O)NCC2=CC=C(C=C2)CCl\n",
      "--------\n",
      "</s>[SAS]2.27[/SAS][CLOGP]2.25[/CLOGP][QED]0.78[/QED][WEIGHT]277.05[/WEIGHT][NUMHDONORS]1[/NUMHDONORS][FRACTIONCSP3]0.17[/FRACTIONCSP3][NUMALIPHATICHETEROCYCLES]0[/NUMALIPHATICHETEROCYCLES][NUMROTATABLEBONDS]4[/NUMROTATABLEBONDS][RINGCOUNT]2[/RINGCOUNT][NUMALIPHATICCARBOCYCLES]0[/NUMALIPHATICCARBOCYCLES][NUMHACCEPTORS]4[/NUMHACCEPTORS][NUMAROMATICRINGS]2[/NUMAROMATICRINGS][NUMAROMATICHETEROCYCLES]1[/NUMAROMATICHETEROCYCLES][NUMSATURATEDCARBOCYCLES]0[/NUMSATURATEDCARBOCYCLES][NUMHETEROATOMS]6[/NUMHETEROATOMS][NUMSATURATEDHETEROCYCLES]0[/NUMSATURATEDHETEROCYCLES][NOCOUNT]5[/NOCOUNT][START_SMILES]CC1=C(C=C(C=C1)C(=O)O)S(=O)(=O)NCC2=CC=CO2[END_SMILES]\n",
      "sas=2.27 sas_score=1.98 qed=0.78 qed_score=0.88 clogp=2.25 clogp_score=1.76 weight=277.05 weight_score=295.05 CC1=C(C=C(C=C1)C(=O)O)S(=O)(=O)NCC2=CC=CO2\n",
      "--------\n",
      "</s>[SAS]2.75[/SAS][CLOGP]2.48[/CLOGP][QED]0.87[/QED][WEIGHT]299.02[/WEIGHT][NUMALIPHATICHETEROCYCLES]0[/NUMALIPHATICHETEROCYCLES][NUMROTATABLEBONDS]3[/NUMROTATABLEBONDS][NUMHACCEPTORS]3[/NUMHACCEPTORS][NUMHDONORS]1[/NUMHDONORS][RINGCOUNT]2[/RINGCOUNT][FRACTIONCSP3]0.17[/FRACTIONCSP3][NUMALIPHATICCARBOCYCLES]0[/NUMALIPHATICCARBOCYCLES][NUMAROMATICRINGS]2[/NUMAROMATICRINGS][NUMAROMATICHETEROCYCLES]1[/NUMAROMATICHETEROCYCLES][NUMHETEROATOMS]6[/NUMHETEROATOMS][NUMSATURATEDCARBOCYCLES]0[/NUMSATURATEDCARBOCYCLES][NUMSATURATEDHETEROCYCLES]0[/NUMSATURATEDHETEROCYCLES][NOCOUNT]3[/NOCOUNT][START_SMILES]C1=CC(=C(C=C1Cl)C(=O)NCC2=CSC=N2)Cl[END_SMILES]\n",
      "sas=2.75 sas_score=2.06 qed=0.87 qed_score=0.94 clogp=2.48 clogp_score=3.38 weight=299.02 weight_score=285.97 C1=CC(=C(C=C1Cl)C(=O)NCC2=CSC=N2)Cl\n",
      "--------\n",
      "</s>[SAS]2.72[/SAS][CLOGP]2.15[/CLOGP][QED]0.77[/QED][WEIGHT]308.18[/WEIGHT][NUMHDONORS]2[/NUMHDONORS][FRACTIONCSP3]0.53[/FRACTIONCSP3][NUMALIPHATICHETEROCYCLES]0[/NUMALIPHATICHETEROCYCLES][NUMROTATABLEBONDS]8[/NUMROTATABLEBONDS][RINGCOUNT]1[/RINGCOUNT][NUMALIPHATICCARBOCYCLES]0[/NUMALIPHATICCARBOCYCLES][NUMAROMATICRINGS]1[/NUMAROMATICRINGS][NUMAROMATICHETEROCYCLES]0[/NUMAROMATICHETEROCYCLES][NUMHACCEPTORS]3[/NUMHACCEPTORS][NUMSATURATEDCARBOCYCLES]0[/NUMSATURATEDCARBOCYCLES][NUMHETEROATOMS]5[/NUMHETEROATOMS][HEAVYATOMCOUNT]22[/HEAVYATOMCOUNT][NUMSATURATEDHETEROCYCLES]0[/NUMSATURATEDHETEROCYCLES][NOCOUNT]5[/NOCOUNT][NUMSATURATEDRINGS]0[/NUMSATURATEDRINGS][IUPAC]2-[[2-(2-methylpropoxy)acetyl]amino]-3-phenylpropanoic acid[/IUPAC][NUMALIPHATICRINGS]0[/NUMALIPHATICRINGS][NUMAROMATICCARBOCYCLES]1[/NUMAROMATICCARBOCYCLES][TPSA]75.63[/TPSA][START_SMILES]CC(C)COCC(=O)NC(CC1=CC=CC=C1)C(=O)O[END_SMILES]\n",
      "sas=2.72 sas_score=2.28 qed=0.77 qed_score=0.76 clogp=2.15 clogp_score=1.47 weight=308.18 weight_score=279.15 CC(C)COCC(=O)NC(CC1=CC=CC=C1)C(=O)O\n",
      "--------\n",
      "</s>[SAS]1.53[/SAS][CLOGP]1.95[/CLOGP][QED]0.88[/QED][WEIGHT]262.08[/WEIGHT][NUMALIPHATICHETEROCYCLES]0[/NUMALIPHATICHETEROCYCLES][NUMALIPHATICCARBOCYCLES]0[/NUMALIPHATICCARBOCYCLES][NUMHDONORS]2[/NUMHDONORS][FRACTIONCSP3]0.07[/FRACTIONCSP3][NUMROTATABLEBONDS]4[/NUMROTATABLEBONDS][NUMHACCEPTORS]3[/NUMHACCEPTORS][RINGCOUNT]2[/RINGCOUNT][NUMAROMATICRINGS]2[/NUMAROMATICRINGS][NUMAROMATICHETEROCYCLES]0[/NUMAROMATICHETEROCYCLES][NUMSATURATEDCARBOCYCLES]0[/NUMSATURATEDCARBOCYCLES][NUMHETEROATOMS]5[/NUMHETEROATOMS][NUMSATURATEDHETEROCYCLES]0[/NUMSATURATEDHETEROCYCLES][NOCOUNT]4[/NOCOUNT][START_SMILES]C1=CC=C(C=C1)C(=O)NCC(=O)NC2=CC=C(C=C2)Cl[END_SMILES]\n",
      "sas=1.53 sas_score=1.40 qed=0.88 qed_score=0.91 clogp=1.95 clogp_score=2.71 weight=262.08 weight_score=288.07 C1=CC=C(C=C1)C(=O)NCC(=O)NC2=CC=C(C=C2)Cl\n",
      "--------\n",
      "</s>[SAS]2.71[/SAS][CLOGP]2.78[/CLOGP][QED]0.81[/QED][WEIGHT]278.11[/WEIGHT][NUMALIPHATICHETEROCYCLES]0[/NUMALIPHATICHETEROCYCLES][NUMROTATABLEBONDS]5[/NUMROTATABLEBONDS][NUMALIPHATICCARBOCYCLES]0[/NUMALIPHATICCARBOCYCLES][NUMHACCEPTORS]3[/NUMHACCEPTORS][NUMHDONORS]1[/NUMHDONORS][FRACTIONCSP3]0.36[/FRACTIONCSP3][RINGCOUNT]1[/RINGCOUNT][NUMAROMATICRINGS]1[/NUMAROMATICRINGS][NUMAROMATICHETEROCYCLES]0[/NUMAROMATICHETEROCYCLES][NUMSATURATEDCARBOCYCLES]0[/NUMSATURATEDCARBOCYCLES][NUMHETEROATOMS]5[/NUMHETEROATOMS][IUPAC]2-[(2-chlorophenyl)methyl-methylamino]-2-methylpropane-1-sulfonamide[/IUPAC][TPSA]63.40[/TPSA][SYNONYM]AKOS011105596[/SYNONYM][NOCOUNT]4[/NOCOUNT][START_SMILES]CC(C)(CS(=O)(=O)N)N(C)CC1=CC=CC=C1Cl[END_SMILES]\n",
      "sas=2.71 sas_score=2.55 qed=0.81 qed_score=0.90 clogp=2.78 clogp_score=1.84 weight=278.11 weight_score=290.09 CC(C)(CS(=O)(=O)N)N(C)CC1=CC=CC=C1Cl\n",
      "--------\n",
      "</s>[SAS]2.47[/SAS][CLOGP]2.63[/CLOGP][QED]0.88[/QED][WEIGHT]315.00[/WEIGHT][NUMHDONORS]1[/NUMHDONORS][FRACTIONCSP3]0.18[/FRACTIONCSP3][NUMALIPHATICHETEROCYCLES]0[/NUMALIPHATICHETEROCYCLES][NUMALIPHATICCARBOCYCLES]0[/NUMALIPHATICCARBOCYCLES][NUMROTATABLEBONDS]3[/NUMROTATABLEBONDS][NUMHACCEPTORS]3[/NUMHACCEPTORS][RINGCOUNT]2[/RINGCOUNT][NUMAROMATICRINGS]2[/NUMAROMATICRINGS][NUMAROMATICHETEROCYCLES]1[/NUMAROMATICHETEROCYCLES][NUMSATURATEDCARBOCYCLES]0[/NUMSATURATEDCARBOCYCLES][NUMHETEROATOMS]6[/NUMHETEROATOMS][NUMSATURATEDHETEROCYCLES]0[/NUMSATURATEDHETEROCYCLES][NOCOUNT]4[/NOCOUNT][START_SMILES]CC1=C(C=C(C=C1)C(=O)NCC2=NC(=CS2)Br)C[END_SMILES]\n",
      "sas=2.47 sas_score=2.15 qed=0.88 qed_score=0.94 clogp=2.63 clogp_score=3.45 weight=315.00 weight_score=323.99 CC1=C(C=C(C=C1)C(=O)NCC2=NC(=CS2)Br)C\n",
      "--------\n",
      "</s>[SAS]2.75[/SAS][CLOGP]-1.60[/CLOGP][QED]0.72[/QED][WEIGHT]267.13[/WEIGHT][NUMALIPHATICHETEROCYCLES]1[/NUMALIPHATICHETEROCYCLES][NUMROTATABLEBONDS]4[/NUMROTATABLEBONDS][NUMHACCEPTORS]5[/NUMHACCEPTORS][NUMHDONORS]2[/NUMHDONORS][FRACTIONCSP3]0.89[/FRACTIONCSP3][RINGCOUNT]1[/RINGCOUNT][NUMALIPHATICCARBOCYCLES]0[/NUMALIPHATICCARBOCYCLES][NUMAROMATICRINGS]0[/NUMAROMATICRINGS][NUMAROMATICHETEROCYCLES]0[/NUMAROMATICHETEROCYCLES][NUMHETEROATOMS]8[/NUMHETEROATOMS][NUMSATURATEDCARBOCYCLES]0[/NUMSATURATEDCARBOCYCLES][HEAVYATOMCOUNT]18[/HEAVYATOMCOUNT][NUMSATURATEDHETEROCYCLES]1[/NUMSATURATEDHETEROCYCLES][NOCOUNT]8[/NOCOUNT][IUPAC]2-[(2-methyl-1,1-dioxothiolan-3-yl)carbamoylamino]-N-propylacetamide[/IUPAC][SYNONYM]AKOS010435559[/SYNONYM][TPSA]104.37[/TPSA][START_SMILES]CCCNC(=O)CNC(=O)NC1CCS(=O)(=O)C1[END_SMILES]\n",
      "sas=2.75 sas_score=2.69 qed=0.72 qed_score=0.60 clogp=-1.60 clogp_score=-1.00 weight=267.13 weight_score=277.11 CCCNC(=O)CNC(=O)NC1CCS(=O)(=O)C1\n",
      "--------\n",
      "</s>[SAS]3.18[/SAS][CLOGP]2.08[/CLOGP][QED]0.53[/QED][WEIGHT]348.11[/WEIGHT][NUMALIPHATICHETEROCYCLES]0[/NUMALIPHATICHETEROCYCLES][NUMHDONORS]1[/NUMHDONORS][NUMROTATABLEBONDS]6[/NUMROTATABLEBONDS][FRACTIONCSP3]0.38[/FRACTIONCSP3][RINGCOUNT]2[/RINGCOUNT][NUMALIPHATICCARBOCYCLES]0[/NUMALIPHATICCARBOCYCLES][NUMAROMATICRINGS]2[/NUMAROMATICRINGS][NUMAROMATICHETEROCYCLES]1[/NUMAROMATICHETEROCYCLES][NUMHACCEPTORS]6[/NUMHACCEPTORS][NUMSATURATEDCARBOCYCLES]0[/NUMSATURATEDCARBOCYCLES][NUMHETEROATOMS]8[/NUMHETEROATOMS][NOCOUNT]7[/NOCOUNT][START_SMILES]CC(C)(C)OC(=O)C(C)(C)OC1=CC=C(C=C1)C(=O)C=CC2=NC(=CS2)C(=O)O[END_SMILES]\n",
      "sas=3.18 sas_score=2.68 qed=0.53 qed_score=0.41 clogp=2.08 clogp_score=4.24 weight=348.11 weight_score=417.12 CC(C)(C)OC(=O)C(C)(C)OC1=CC=C(C=C1)C(=O)C=CC2=NC(=CS2)C(=O)O\n",
      "--------\n",
      "</s>[SAS]2.09[/SAS][CLOGP]3.37[/CLOGP][QED]0.76[/QED][WEIGHT]300.07[/WEIGHT][NUMHDONORS]1[/NUMHDONORS][FRACTIONCSP3]0.13[/FRACTIONCSP3][NUMALIPHATICHETEROCYCLES]0[/NUMALIPHATICHETEROCYCLES][NUMALIPHATICCARBOCYCLES]0[/NUMALIPHATICCARBOCYCLES][NUMROTATABLEBONDS]5[/NUMROTATABLEBONDS][RINGCOUNT]2[/RINGCOUNT][NUMAROMATICRINGS]2[/NUMAROMATICRINGS][NUMAROMATICHETEROCYCLES]0[/NUMAROMATICHETEROCYCLES][NUMHACCEPTORS]3[/NUMHACCEPTORS][NUMSATURATEDCARBOCYCLES]0[/NUMSATURATEDCARBOCYCLES][NUMHETEROATOMS]5[/NUMHETEROATOMS][NUMSATURATEDHETEROCYCLES]0[/NUMSATURATEDHETEROCYCLES][NOCOUNT]4[/NOCOUNT][START_SMILES]CC1=CC(=C(C=C1)C)OCC(=O)NC2=CC=C(C=C2)Cl[END_SMILES]\n",
      "sas=2.09 sas_score=1.55 qed=0.76 qed_score=0.93 clogp=3.37 clogp_score=3.97 weight=300.07 weight_score=289.09 CC1=CC(=C(C=C1)C)OCC(=O)NC2=CC=C(C=C2)Cl\n",
      "--------\n",
      "</s>[SAS]2.42[/SAS][CLOGP]2.28[/CLOGP][QED]0.90[/QED][WEIGHT]328.06[/WEIGHT][NUMALIPHATICHETEROCYCLES]0[/NUMALIPHATICHETEROCYCLES][NUMROTATABLEBONDS]4[/NUMROTATABLEBONDS][NUMHACCEPTORS]5[/NUMHACCEPTORS][NUMHDONORS]1[/NUMHDONORS][FRACTIONCSP3]0.21[/FRACTIONCSP3][RINGCOUNT]2[/RINGCOUNT][NUMALIPHATICCARBOCYCLES]0[/NUMALIPHATICCARBOCYCLES][NUMAROMATICRINGS]2[/NUMAROMATICRINGS][NUMAROMATICHETEROCYCLES]1[/NUMAROMATICHETEROCYCLES][NUMSATURATEDCARBOCYCLES]0[/NUMSATURATEDCARBOCYCLES][NUMHETEROATOMS]8[/NUMHETEROATOMS][NUMSATURATEDHETEROCYCLES]0[/NUMSATURATEDHETEROCYCLES][NOCOUNT]6[/NOCOUNT][START_SMILES]CC1=C(C=C(C=C1)S(=O)(=O)N(C)C)NC(=O)C2=CC=CS2[END_SMILES]\n",
      "sas=2.42 sas_score=1.93 qed=0.90 qed_score=0.94 clogp=2.28 clogp_score=2.56 weight=328.06 weight_score=324.06 CC1=C(C=C(C=C1)S(=O)(=O)N(C)C)NC(=O)C2=CC=CS2\n",
      "--------\n",
      "</s>[SAS]2.67[/SAS][CLOGP]3.78[/CLOGP][QED]0.83[/QED][WEIGHT]318.06[/WEIGHT][NUMALIPHATICHETEROCYCLES]0[/NUMALIPHATICHETEROCYCLES][NUMHDONORS]1[/NUMHDONORS][NUMROTATABLEBONDS]4[/NUMROTATABLEBONDS][FRACTIONCSP3]0.13[/FRACTIONCSP3][NUMHACCEPTORS]3[/NUMHACCEPTORS][RINGCOUNT]2[/RINGCOUNT][NUMALIPHATICCARBOCYCLES]0[/NUMALIPHATICCARBOCYCLES][NUMAROMATICRINGS]2[/NUMAROMATICRINGS][NUMAROMATICHETEROCYCLES]0[/NUMAROMATICHETEROCYCLES][NUMSATURATEDCARBOCYCLES]0[/NUMSATURATEDCARBOCYCLES][NUMHETEROATOMS]6[/NUMHETEROATOMS][NUMSATURATEDHETEROCYCLES]0[/NUMSATURATEDHETEROCYCLES][NOCOUNT]4[/NOCOUNT][START_SMILES]CC1=C(C=C(C=C1)C(=O)O)S(=O)(=O)N(C)C2=CC=CC=C2F[END_SMILES]\n",
      "sas=2.67 sas_score=2.01 qed=0.83 qed_score=0.94 clogp=3.78 clogp_score=2.66 weight=318.06 weight_score=323.06 CC1=C(C=C(C=C1)C(=O)O)S(=O)(=O)N(C)C2=CC=CC=C2F\n",
      "--------\n",
      "</s>[SAS]3.33[/SAS][CLOGP]1.75[/CLOGP][QED]0.85[/QED][WEIGHT]286.13[/WEIGHT][NUMALIPHATICHETEROCYCLES]1[/NUMALIPHATICHETEROCYCLES][NUMALIPHATICCARBOCYCLES]0[/NUMALIPHATICCARBOCYCLES][NUMHDONORS]1[/NUMHDONORS][NUMROTATABLEBONDS]3[/NUMROTATABLEBONDS][FRACTIONCSP3]0.50[/FRACTIONCSP3][RINGCOUNT]2[/RINGCOUNT][NUMHACCEPTORS]4[/NUMHACCEPTORS][NUMAROMATICRINGS]1[/NUMAROMATICRINGS][NUMAROMATICHETEROCYCLES]0[/NUMAROMATICHETEROCYCLES][NUMHETEROATOMS]6[/NUMHETEROATOMS][NUMSATURATEDCARBOCYCLES]0[/NUMSATURATEDCARBOCYCLES][HEAVYATOMCOUNT]20[/HEAVYATOMCOUNT][NUMSATURATEDHETEROCYCLES]1[/NUMSATURATEDHETEROCYCLES][NOCOUNT]6[/NOCOUNT][START_SMILES]CC(C)(C)OC(=O)N1CC(C1)(C2=CC=CC=C2)C(=O)O[END_SMILES]\n",
      "sas=3.33 sas_score=2.27 qed=0.85 qed_score=0.90 clogp=1.75 clogp_score=2.26 weight=286.13 weight_score=277.13 CC(C)(C)OC(=O)N1CC(C1)(C2=CC=CC=C2)C(=O)O\n",
      "--------\n",
      "</s>[SAS]3.89[/SAS][CLOGP]-1.14[/CLOGP][QED]0.56[/QED][WEIGHT]265.12[/WEIGHT][NUMALIPHATICHETEROCYCLES]1[/NUMALIPHATICHETEROCYCLES][NUMHDONORS]3[/NUMHDONORS][FRACTIONCSP3]0.89[/FRACTIONCSP3][NUMROTATABLEBONDS]5[/NUMROTATABLEBONDS][RINGCOUNT]1[/RINGCOUNT][NUMALIPHATICCARBOCYCLES]0[/NUMALIPHATICCARBOCYCLES][NUMAROMATICRINGS]0[/NUMAROMATICRINGS][NUMAROMATICHETEROCYCLES]0[/NUMAROMATICHETEROCYCLES][NUMSATURATEDHETEROCYCLES]1[/NUMSATURATEDHETEROCYCLES][NUMHETEROATOMS]8[/NUMHETEROATOMS][NOCOUNT]8[/NOCOUNT][NUMHACCEPTORS]6[/NUMHACCEPTORS][NUMSATURATEDCARBOCYCLES]0[/NUMSATURATEDCARBOCYCLES][START_SMILES]CC(C)(C)OC(=O)N1CC(C1)(C(=O)NCCO)O[END_SMILES]\n",
      "sas=3.89 sas_score=2.67 qed=0.56 qed_score=0.61 clogp=-1.14 clogp_score=-0.92 weight=265.12 weight_score=260.14 CC(C)(C)OC(=O)N1CC(C1)(C(=O)NCCO)O\n",
      "--------\n",
      "</s>[SAS]3.51[/SAS][CLOGP]3.87[/CLOGP][QED]0.78[/QED][WEIGHT]268.15[/WEIGHT][NUMALIPHATICHETEROCYCLES]0[/NUMALIPHATICHETEROCYCLES][NUMHDONORS]1[/NUMHDONORS][NUMROTATABLEBONDS]3[/NUMROTATABLEBONDS][FRACTIONCSP3]0.50[/FRACTIONCSP3][RINGCOUNT]2[/RINGCOUNT][NUMALIPHATICCARBOCYCLES]1[/NUMALIPHATICCARBOCYCLES][NUMAROMATICRINGS]1[/NUMAROMATICRINGS][NUMAROMATICHETEROCYCLES]0[/NUMAROMATICHETEROCYCLES][NUMHETEROATOMS]3[/NUMHETEROATOMS][NUMSATURATEDCARBOCYCLES]1[/NUMSATURATEDCARBOCYCLES][NUMHACCEPTORS]2[/NUMHACCEPTORS][TPSA]37.30[/TPSA][HEAVYATOMCOUNT]19[/HEAVYATOMCOUNT][NUMSATURATEDHETEROCYCLES]0[/NUMSATURATEDHETEROCYCLES][IUPAC]2-(2-hydroxy-2-methylpropyl)-4-methyl-2,3-dihydro-1H-inden-1-one[/IUPAC][NOCOUNT]2[/NOCOUNT][START_SMILES]CC1CC2=C(C1=O)C=CC(=C2)CC(C)(C)CO[END_SMILES]\n",
      "sas=3.51 sas_score=3.03 qed=0.78 qed_score=0.87 clogp=3.87 clogp_score=2.62 weight=268.15 weight_score=232.15 CC1CC2=C(C1=O)C=CC(=C2)CC(C)(C)CO\n",
      "--------\n",
      "</s>[SAS]1.91[/SAS][CLOGP]0.61[/CLOGP][QED]0.84[/QED][WEIGHT]262.02[/WEIGHT][NUMALIPHATICHETEROCYCLES]0[/NUMALIPHATICHETEROCYCLES][NUMALIPHATICCARBOCYCLES]0[/NUMALIPHATICCARBOCYCLES][NUMHDONORS]2[/NUMHDONORS][FRACTIONCSP3]0.18[/FRACTIONCSP3][NUMROTATABLEBONDS]3[/NUMROTATABLEBONDS][NUMHACCEPTORS]3[/NUMHACCEPTORS][RINGCOUNT]1[/RINGCOUNT][NUMAROMATICRINGS]1[/NUMAROMATICRINGS][NUMAROMATICHETEROCYCLES]0[/NUMAROMATICHETEROCYCLES][NUMHETEROATOMS]7[/NUMHETEROATOMS][NUMSATURATEDCARBOCYCLES]0[/NUMSATURATEDCARBOCYCLES][NUMSATURATEDHETEROCYCLES]0[/NUMSATURATEDHETEROCYCLES][NOCOUNT]5[/NOCOUNT][START_SMILES]C1=CC(=CC=C1C(=O)NCC(=O)O)Br.[Na][END_SMILES]\n",
      "sas=1.91 sas_score=1.78 qed=0.84 qed_score=0.81 clogp=0.61 clogp_score=0.88 weight=262.02 weight_score=279.96 C1=CC(=CC=C1C(=O)NCC(=O)O)Br.[Na]\n",
      "--------\n",
      "</s>[SAS]2.21[/SAS][CLOGP]2.02[/CLOGP][QED]0.83[/QED][WEIGHT]292.87[/WEIGHT][NUMALIPHATICHETEROCYCLES]0[/NUMALIPHATICHETEROCYCLES][NUMHDONORS]1[/NUMHDONORS][NUMROTATABLEBONDS]2[/NUMROTATABLEBONDS][FRACTIONCSP3]0.00[/FRACTIONCSP3][RINGCOUNT]1[/RINGCOUNT][NUMSATURATEDHETEROCYCLES]0[/NUMSATURATEDHETEROCYCLES][NUMALIPHATICCARBOCYCLES]0[/NUMALIPHATICCARBOCYCLES][NUMAROMATICHETEROCYCLES]0[/NUMAROMATICHETEROCYCLES][NUMHACCEPTORS]2[/NUMHACCEPTORS][NUMAROMATICRINGS]1[/NUMAROMATICRINGS][NUMHETEROATOMS]5[/NUMHETEROATOMS][NUMSATURATEDCARBOCYCLES]0[/NUMSATURATEDCARBOCYCLES][NOCOUNT]2[/NOCOUNT][HEAVYATOMCOUNT]11[/HEAVYATOMCOUNT][START_SMILES]C1=CC(=C(C=C1Br)Br)C(=O)O.[Na][END_SMILES]\n",
      "sas=2.21 sas_score=2.15 qed=0.83 qed_score=0.81 clogp=2.02 clogp_score=2.53 weight=292.87 weight_score=300.85 C1=CC(=C(C=C1Br)Br)C(=O)O.[Na]\n",
      "--------\n",
      "</s>[SAS]1.99[/SAS][CLOGP]2.88[/CLOGP][QED]0.86[/QED][WEIGHT]311.04[/WEIGHT][FRACTIONCSP3]0.13[/FRACTIONCSP3][NUMALIPHATICHETEROCYCLES]0[/NUMALIPHATICHETEROCYCLES][NUMALIPHATICCARBOCYCLES]0[/NUMALIPHATICCARBOCYCLES][NUMHDONORS]1[/NUMHDONORS][NUMROTATABLEBONDS]4[/NUMROTATABLEBONDS][NUMHACCEPTORS]3[/NUMHACCEPTORS][RINGCOUNT]2[/RINGCOUNT][NUMAROMATICRINGS]2[/NUMAROMATICRINGS][NUMAROMATICHETEROCYCLES]0[/NUMAROMATICHETEROCYCLES][NUMSATURATEDHETEROCYCLES]0[/NUMSATURATEDHETEROCYCLES][NUMHETEROATOMS]6[/NUMHETEROATOMS][NUMSATURATEDCARBOCYCLES]0[/NUMSATURATEDCARBOCYCLES][NOCOUNT]4[/NOCOUNT][START_SMILES]C1=CC(=CC=C1C(=O)NCC(=O)OCC2=CC(=C(C=C2)F)F)Cl[END_SMILES]\n",
      "sas=1.99 sas_score=1.80 qed=0.86 qed_score=0.85 clogp=2.88 clogp_score=3.09 weight=311.04 weight_score=339.05 C1=CC(=CC=C1C(=O)NCC(=O)OCC2=CC(=C(C=C2)F)F)Cl\n",
      "--------\n",
      "</s>[SAS]1.79[/SAS][CLOGP]2.81[/CLOGP][QED]0.78[/QED][WEIGHT]255.13[/WEIGHT][NUMALIPHATICHETEROCYCLES]0[/NUMALIPHATICHETEROCYCLES][NUMROTATABLEBONDS]5[/NUMROTATABLEBONDS][NUMALIPHATICCARBOCYCLES]0[/NUMALIPHATICCARBOCYCLES][NUMHACCEPTORS]3[/NUMHACCEPTORS][NUMHDONORS]1[/NUMHDONORS][FRACTIONCSP3]0.13[/FRACTIONCSP3][RINGCOUNT]2[/RINGCOUNT][NUMAROMATICRINGS]2[/NUMAROMATICRINGS][NUMAROMATICHETEROCYCLES]0[/NUMAROMATICHETEROCYCLES][NUMSATURATEDHETEROCYCLES]0[/NUMSATURATEDHETEROCYCLES][NUMHETEROATOMS]3[/NUMHETEROATOMS][NUMSATURATEDCARBOCYCLES]0[/NUMSATURATEDCARBOCYCLES][START_SMILES]CC1=CC=C(C=C1)C(=O)NCCOC2=CC=CC=C2[END_SMILES]\n",
      "sas=1.79 sas_score=1.39 qed=0.78 qed_score=0.83 clogp=2.81 clogp_score=2.80 weight=255.13 weight_score=255.13 CC1=CC=C(C=C1)C(=O)NCCOC2=CC=CC=C2\n",
      "--------\n",
      "</s>[SAS]3.12[/SAS][CLOGP]2.67[/CLOGP][QED]0.85[/QED][WEIGHT]298.12[/WEIGHT][NUMALIPHATICHETEROCYCLES]0[/NUMALIPHATICHETEROCYCLES][NUMALIPHATICCARBOCYCLES]0[/NUMALIPHATICCARBOCYCLES][NUMHDONORS]1[/NUMHDONORS][NUMROTATABLEBONDS]5[/NUMROTATABLEBONDS][FRACTIONCSP3]0.50[/FRACTIONCSP3][NUMHACCEPTORS]3[/NUMHACCEPTORS][RINGCOUNT]1[/RINGCOUNT][NUMAROMATICRINGS]1[/NUMAROMATICRINGS][NUMAROMATICHETEROCYCLES]0[/NUMAROMATICHETEROCYCLES][NUMSATURATEDCARBOCYCLES]0[/NUMSATURATEDCARBOCYCLES][NUMHETEROATOMS]5[/NUMHETEROATOMS][IUPAC]2-[(2-chlorophenyl)methyl-methylamino]-2-methyl-3-methylsulfanylpropanamide[/IUPAC][TPSA]46.33[/TPSA][NOCOUNT]3[/NOCOUNT][START_SMILES]CC(C)(C(=O)N)N(C)CC1=CC=CC=C1Cl[END_SMILES]\n",
      "sas=3.12 sas_score=2.27 qed=0.85 qed_score=0.88 clogp=2.67 clogp_score=2.04 weight=298.12 weight_score=240.10 CC(C)(C(=O)N)N(C)CC1=CC=CC=C1Cl\n",
      "--------\n",
      "</s>[SAS]1.85[/SAS][CLOGP]3.26[/CLOGP][QED]0.71[/QED][WEIGHT]264.13[/WEIGHT][NUMHDONORS]1[/NUMHDONORS][FRACTIONCSP3]0.13[/FRACTIONCSP3][NUMALIPHATICHETEROCYCLES]0[/NUMALIPHATICHETEROCYCLES][NUMALIPHATICCARBOCYCLES]0[/NUMALIPHATICCARBOCYCLES][NUMROTATABLEBONDS]5[/NUMROTATABLEBONDS][RINGCOUNT]2[/RINGCOUNT][NUMAROMATICRINGS]2[/NUMAROMATICRINGS][NUMAROMATICHETEROCYCLES]0[/NUMAROMATICHETEROCYCLES][NUMHACCEPTORS]2[/NUMHACCEPTORS][NUMSATURATEDCARBOCYCLES]0[/NUMSATURATEDCARBOCYCLES][NUMSATURATEDHETEROCYCLES]0[/NUMSATURATEDHETEROCYCLES][NUMHETEROATOMS]3[/NUMHETEROATOMS][NOCOUNT]3[/NOCOUNT][START_SMILES]CC1=CC=C(C=C1)C(=O)NCCOC2=CC=CC=C2[END_SMILES]\n",
      "sas=1.85 sas_score=1.39 qed=0.71 qed_score=0.83 clogp=3.26 clogp_score=2.80 weight=264.13 weight_score=255.13 CC1=CC=C(C=C1)C(=O)NCCOC2=CC=CC=C2\n",
      "--------\n",
      "</s>[SAS]2.75[/SAS][CLOGP]4.20[/CLOGP][QED]0.70[/QED][WEIGHT]342.07[/WEIGHT][NUMHDONORS]1[/NUMHDONORS][FRACTIONCSP3]0.18[/FRACTIONCSP3][NUMALIPHATICHETEROCYCLES]0[/NUMALIPHATICHETEROCYCLES][NUMROTATABLEBONDS]5[/NUMROTATABLEBONDS][RINGCOUNT]3[/RINGCOUNT][NUMALIPHATICCARBOCYCLES]0[/NUMALIPHATICCARBOCYCLES][NUMAROMATICRINGS]3[/NUMAROMATICRINGS][NUMAROMATICHETEROCYCLES]2[/NUMAROMATICHETEROCYCLES][NUMHACCEPTORS]5[/NUMHACCEPTORS][NUMSATURATEDCARBOCYCLES]0[/NUMSATURATEDCARBOCYCLES][NUMHETEROATOMS]6[/NUMHETEROATOMS][NUMSATURATEDHETEROCYCLES]0[/NUMSATURATEDHETEROCYCLES][NOCOUNT]4[/NOCOUNT][START_SMILES]CC1=C(SC(=N1)C2=CC=CS2)C(=O)NCC3=CC=CC=C3OC[END_SMILES]\n",
      "sas=2.75 sas_score=2.06 qed=0.70 qed_score=0.76 clogp=4.20 clogp_score=4.12 weight=342.07 weight_score=344.06 CC1=C(SC(=N1)C2=CC=CS2)C(=O)NCC3=CC=CC=C3OC\n",
      "--------\n",
      "</s>[SAS]2.27[/SAS][CLOGP]3.18[/CLOGP][QED]0.89[/QED][WEIGHT]282.04[/WEIGHT][NUMALIPHATICHETEROCYCLES]0[/NUMALIPHATICHETEROCYCLES][NUMALIPHATICCARBOCYCLES]0[/NUMALIPHATICCARBOCYCLES][NUMROTATABLEBONDS]3[/NUMROTATABLEBONDS][NUMHACCEPTORS]3[/NUMHACCEPTORS][NUMHDONORS]1[/NUMHDONORS][FRACTIONCSP3]0.08[/FRACTIONCSP3][RINGCOUNT]2[/RINGCOUNT][NUMAROMATICRINGS]2[/NUMAROMATICRINGS][NUMAROMATICHETEROCYCLES]1[/NUMAROMATICHETEROCYCLES][NUMSATURATEDCARBOCYCLES]0[/NUMSATURATEDCARBOCYCLES][NUMHETEROATOMS]6[/NUMHETEROATOMS][NUMSATURATEDHETEROCYCLES]0[/NUMSATURATEDHETEROCYCLES][NOCOUNT]4[/NOCOUNT][START_SMILES]C1=CC(=C(C=C1C(=O)O)Cl)NC(=O)C2=CC=NC=C2[END_SMILES]\n",
      "sas=2.27 sas_score=1.73 qed=0.89 qed_score=0.90 clogp=3.18 clogp_score=2.69 weight=282.04 weight_score=276.03 C1=CC(=C(C=C1C(=O)O)Cl)NC(=O)C2=CC=NC=C2\n",
      "--------\n",
      "</s>[SAS]3.03[/SAS][CLOGP]3.13[/CLOGP][QED]0.75[/QED][WEIGHT]300.10[/WEIGHT][NUMHDONORS]1[/NUMHDONORS][FRACTIONCSP3]0.50[/FRACTIONCSP3][NUMALIPHATICHETEROCYCLES]0[/NUMALIPHATICHETEROCYCLES][NUMALIPHATICCARBOCYCLES]0[/NUMALIPHATICCARBOCYCLES][NUMROTATABLEBONDS]5[/NUMROTATABLEBONDS][RINGCOUNT]1[/RINGCOUNT][NUMAROMATICRINGS]1[/NUMAROMATICRINGS][NUMAROMATICHETEROCYCLES]0[/NUMAROMATICHETEROCYCLES][NUMHACCEPTORS]3[/NUMHACCEPTORS][NUMHETEROATOMS]5[/NUMHETEROATOMS][NUMSATURATEDCARBOCYCLES]0[/NUMSATURATEDCARBOCYCLES][NUMSATURATEDHETEROCYCLES]0[/NUMSATURATEDHETEROCYCLES][NOCOUNT]3[/NOCOUNT][START_SMILES]CC(C)(C)C(C(=O)O)N(CC1=CC=CC=C1)C(=O)C(F)(F)F[END_SMILES]\n",
      "sas=3.03 sas_score=2.85 qed=0.75 qed_score=0.93 clogp=3.13 clogp_score=3.08 weight=300.10 weight_score=317.12 CC(C)(C)C(C(=O)O)N(CC1=CC=CC=C1)C(=O)C(F)(F)F\n",
      "--------\n",
      "</s>[SAS]2.23[/SAS][CLOGP]3.29[/CLOGP][QED]0.80[/QED][WEIGHT]302.06[/WEIGHT][NUMALIPHATICHETEROCYCLES]0[/NUMALIPHATICHETEROCYCLES][NUMROTATABLEBONDS]5[/NUMROTATABLEBONDS][NUMHACCEPTORS]3[/NUMHACCEPTORS][NUMHDONORS]1[/NUMHDONORS][RINGCOUNT]2[/RINGCOUNT][FRACTIONCSP3]0.21[/FRACTIONCSP3][NUMALIPHATICCARBOCYCLES]0[/NUMALIPHATICCARBOCYCLES][NUMAROMATICRINGS]2[/NUMAROMATICRINGS][NUMAROMATICHETEROCYCLES]0[/NUMAROMATICHETEROCYCLES][NUMSATURATEDHETEROCYCLES]0[/NUMSATURATEDHETEROCYCLES][NUMHETEROATOMS]5[/NUMHETEROATOMS][NUMSATURATEDCARBOCYCLES]0[/NUMSATURATEDCARBOCYCLES][NOCOUNT]3[/NOCOUNT][START_SMILES]CC(C)OC1=CC=CC(=C1)C(=O)NCC2=C(C=CC(=C2)Cl)Cl[END_SMILES]\n",
      "sas=2.23 sas_score=1.81 qed=0.80 qed_score=0.86 clogp=3.29 clogp_score=4.71 weight=302.06 weight_score=337.06 CC(C)OC1=CC=CC(=C1)C(=O)NCC2=C(C=CC(=C2)Cl)Cl\n",
      "--------\n",
      "</s>[SAS]3.00[/SAS][CLOGP]-1.97[/CLOGP][QED]0.48[/QED][WEIGHT]255.10[/WEIGHT][NUMALIPHATICHETEROCYCLES]0[/NUMALIPHATICHETEROCYCLES][NUMHDONORS]3[/NUMHDONORS][NUMROTATABLEBONDS]6[/NUMROTATABLEBONDS][FRACTIONCSP3]0.88[/FRACTIONCSP3][RINGCOUNT]0[/RINGCOUNT][NUMSATURATEDHETEROCYCLES]0[/NUMSATURATEDHETEROCYCLES][NUMALIPHATICCARBOCYCLES]0[/NUMALIPHATICCARBOCYCLES][NUMAROMATICHETEROCYCLES]0[/NUMAROMATICHETEROCYCLES][NUMAROMATICRINGS]0[/NUMAROMATICRINGS][NUMHETEROATOMS]8[/NUMHETEROATOMS][NOCOUNT]8[/NOCOUNT][NUMHACCEPTORS]6[/NUMHACCEPTORS][NUMSATURATEDCARBOCYCLES]0[/NUMSATURATEDCARBOCYCLES][HEAVYATOMCOUNT]17[/HEAVYATOMCOUNT][NUMSATURATEDRINGS]0[/NUMSATURATEDRINGS][IUPAC]2-[[2-(2-amino-2-oxoethyl)-3-hydroxy-2-oxopropyl]amino]-2-methylpropanoic acid[/IUPAC][NUMALIPHATICRINGS]0[/NUMALIPHATICRINGS][TPSA]138.92[/TPSA][START_SMILES]CC(C)(C(=O)O)NCC(=O)C(CN)O[END_SMILES]\n",
      "sas=3.00 sas_score=3.53 qed=0.48 qed_score=0.41 clogp=-1.97 clogp_score=-1.67 weight=255.10 weight_score=204.11 CC(C)(C(=O)O)NCC(=O)C(CN)O\n",
      "--------\n",
      "</s>[SAS]2.33[/SAS][CLOGP]3.36[/CLOGP][QED]0.63[/QED][WEIGHT]338.06[/WEIGHT][NUMHDONORS]1[/NUMHDONORS][FRACTIONCSP3]0.13[/FRACTIONCSP3][NUMALIPHATICHETEROCYCLES]0[/NUMALIPHATICHETEROCYCLES][NUMROTATABLEBONDS]5[/NUMROTATABLEBONDS][RINGCOUNT]2[/RINGCOUNT][NUMALIPHATICCARBOCYCLES]0[/NUMALIPHATICCARBOCYCLES][NUMAROMATICRINGS]2[/NUMAROMATICRINGS][NUMAROMATICHETEROCYCLES]0[/NUMAROMATICHETEROCYCLES][NUMHACCEPTORS]3[/NUMHACCEPTORS][NUMHETEROATOMS]6[/NUMHETEROATOMS][NUMSATURATEDCARBOCYCLES]0[/NUMSATURATEDCARBOCYCLES][NOCOUNT]4[/NOCOUNT][START_SMILES]CC1=CC(=C(C=C1)C)NC(=O)C(=O)C(C)SC2=CC=C(C=C2)Cl[END_SMILES]\n",
      "sas=2.33 sas_score=2.51 qed=0.63 qed_score=0.63 clogp=3.36 clogp_score=4.64 weight=338.06 weight_score=347.07 CC1=CC(=C(C=C1)C)NC(=O)C(=O)C(C)SC2=CC=C(C=C2)Cl\n",
      "--------\n",
      "</s>[SAS]1.77[/SAS][CLOGP]3.35[/CLOGP][QED]0.68[/QED][WEIGHT]270.06[/WEIGHT][NUMHDONORS]1[/NUMHDONORS][FRACTIONCSP3]0.07[/FRACTIONCSP3][NUMALIPHATICHETEROCYCLES]0[/NUMALIPHATICHETEROCYCLES][NUMROTATABLEBONDS]4[/NUMROTATABLEBONDS][NUMHACCEPTORS]3[/NUMHACCEPTORS][RINGCOUNT]2[/RINGCOUNT][NUMALIPHATICCARBOCYCLES]0[/NUMALIPHATICCARBOCYCLES][NUMAROMATICRINGS]2[/NUMAROMATICRINGS][NUMAROMATICHETEROCYCLES]0[/NUMAROMATICHETEROCYCLES][NUMSATURATEDCARBOCYCLES]0[/NUMSATURATEDCARBOCYCLES][NUMHETEROATOMS]5[/NUMHETEROATOMS][NUMSATURATEDHETEROCYCLES]0[/NUMSATURATEDHETEROCYCLES][NOCOUNT]4[/NOCOUNT][START_SMILES]C1=CC=C(C=C1)C(=O)OCC(=O)NC2=CC=C(C=C2)Cl[END_SMILES]\n",
      "sas=1.77 sas_score=1.40 qed=0.68 qed_score=0.88 clogp=3.35 clogp_score=3.14 weight=270.06 weight_score=289.05 C1=CC=C(C=C1)C(=O)OCC(=O)NC2=CC=C(C=C2)Cl\n",
      "--------\n",
      "</s>[SAS]1.73[/SAS][CLOGP]3.09[/CLOGP][QED]0.74[/QED][WEIGHT]280.12[/WEIGHT][NUMHDONORS]1[/NUMHDONORS][FRACTIONCSP3]0.18[/FRACTIONCSP3][NUMALIPHATICHETEROCYCLES]0[/NUMALIPHATICHETEROCYCLES][NUMALIPHATICCARBOCYCLES]0[/NUMALIPHATICCARBOCYCLES][NUMROTATABLEBONDS]5[/NUMROTATABLEBONDS][NUMHACCEPTORS]3[/NUMHACCEPTORS][RINGCOUNT]2[/RINGCOUNT][NUMAROMATICRINGS]2[/NUMAROMATICRINGS][NUMAROMATICHETEROCYCLES]0[/NUMAROMATICHETEROCYCLES][NUMSATURATEDCARBOCYCLES]0[/NUMSATURATEDCARBOCYCLES][NUMHETEROATOMS]4[/NUMHETEROATOMS][IUPAC]N-[(4-methoxyphenyl)methyl]-2-(4-methylphenyl)sulfanylacetamide[/IUPAC][NOCOUNT]3[/NOCOUNT][HEAVYATOMCOUNT]20[/HEAVYATOMCOUNT][START_SMILES]CC1=CC=C(C=C1)SCC(=O)NCC2=CC=C(C=C2)OC[END_SMILES]\n",
      "sas=1.73 sas_score=1.62 qed=0.74 qed_score=0.83 clogp=3.09 clogp_score=3.41 weight=280.12 weight_score=301.11 CC1=CC=C(C=C1)SCC(=O)NCC2=CC=C(C=C2)OC\n",
      "--------\n",
      "</s>[SAS]1.69[/SAS][CLOGP]3.35[/CLOGP][QED]0.68[/QED][WEIGHT]270.06[/WEIGHT][NUMALIPHATICHETEROCYCLES]0[/NUMALIPHATICHETEROCYCLES][NUMALIPHATICCARBOCYCLES]0[/NUMALIPHATICCARBOCYCLES][NUMHDONORS]1[/NUMHDONORS][FRACTIONCSP3]0.07[/FRACTIONCSP3][NUMROTATABLEBONDS]4[/NUMROTATABLEBONDS][RINGCOUNT]2[/RINGCOUNT][NUMHACCEPTORS]2[/NUMHACCEPTORS][NUMAROMATICRINGS]2[/NUMAROMATICRINGS][NUMAROMATICHETEROCYCLES]0[/NUMAROMATICHETEROCYCLES][NUMHETEROATOMS]4[/NUMHETEROATOMS][NUMSATURATEDCARBOCYCLES]0[/NUMSATURATEDCARBOCYCLES][NUMSATURATEDHETEROCYCLES]0[/NUMSATURATEDHETEROCYCLES][NOCOUNT]3[/NOCOUNT][START_SMILES]C1=CC=C(C=C1)C(=O)N/N=C/C2=CC=C(C=C2)Cl[END_SMILES]\n",
      "sas=1.69 sas_score=1.57 qed=0.68 qed_score=0.67 clogp=3.35 clogp_score=3.10 weight=270.06 weight_score=258.06 C1=CC=C(C=C1)C(=O)N/N=C/C2=CC=C(C=C2)Cl\n",
      "--------\n",
      "</s>[SAS]2.79[/SAS][CLOGP]0.36[/CLOGP][QED]0.80[/QED][WEIGHT]275.03[/WEIGHT][FRACTIONCSP3]0.20[/FRACTIONCSP3][NUMALIPHATICHETEROCYCLES]0[/NUMALIPHATICHETEROCYCLES][NUMALIPHATICCARBOCYCLES]0[/NUMALIPHATICCARBOCYCLES][NUMHDONORS]2[/NUMHDONORS][NUMROTATABLEBONDS]3[/NUMROTATABLEBONDS][RINGCOUNT]1[/RINGCOUNT][NUMHACCEPTORS]4[/NUMHACCEPTORS][NUMAROMATICRINGS]1[/NUMAROMATICRINGS][NUMAROMATICHETEROCYCLES]0[/NUMAROMATICHETEROCYCLES][NUMHETEROATOMS]8[/NUMHETEROATOMS][NUMSATURATEDCARBOCYCLES]0[/NUMSATURATEDCARBOCYCLES][NUMSATURATEDHETEROCYCLES]0[/NUMSATURATEDHETEROCYCLES][NOCOUNT]6[/NOCOUNT][START_SMILES]C1=CC(=C(C=C1S(=O)(=O)N)C(F)(F)F)C(=O)O[END_SMILES]\n",
      "sas=2.79 sas_score=2.07 qed=0.80 qed_score=0.84 clogp=0.36 clogp_score=1.05 weight=275.03 weight_score=269.00 C1=CC(=C(C=C1S(=O)(=O)N)C(F)(F)F)C(=O)O\n",
      "--------\n",
      "</s>[SAS]2.20[/SAS][CLOGP]2.92[/CLOGP][QED]0.83[/QED][WEIGHT]268.03[/WEIGHT][NUMALIPHATICHETEROCYCLES]0[/NUMALIPHATICHETEROCYCLES][NUMALIPHATICCARBOCYCLES]0[/NUMALIPHATICCARBOCYCLES][NUMROTATABLEBONDS]3[/NUMROTATABLEBONDS][NUMHACCEPTORS]3[/NUMHACCEPTORS][NUMHDONORS]1[/NUMHDONORS][FRACTIONCSP3]0.17[/FRACTIONCSP3][RINGCOUNT]2[/RINGCOUNT][NUMAROMATICRINGS]2[/NUMAROMATICRINGS][NUMAROMATICHETEROCYCLES]1[/NUMAROMATICHETEROCYCLES][NUMHETEROATOMS]5[/NUMHETEROATOMS][NUMSATURATEDCARBOCYCLES]0[/NUMSATURATEDCARBOCYCLES][NUMSATURATEDHETEROCYCLES]0[/NUMSATURATEDHETEROCYCLES][NOCOUNT]3[/NOCOUNT][START_SMILES]CC1=C(C=C(C=C1)C(=O)NCC2=NC=CS2)Cl[END_SMILES]\n",
      "sas=2.20 sas_score=1.97 qed=0.83 qed_score=0.93 clogp=2.92 clogp_score=3.04 weight=268.03 weight_score=266.03 CC1=C(C=C(C=C1)C(=O)NCC2=NC=CS2)Cl\n",
      "--------\n",
      "</s>[SAS]2.67[/SAS][CLOGP]1.61[/CLOGP][QED]0.92[/QED][WEIGHT]273.16[/WEIGHT][FRACTIONCSP3]0.57[/FRACTIONCSP3][NUMALIPHATICHETEROCYCLES]1[/NUMALIPHATICHETEROCYCLES][NUMALIPHATICCARBOCYCLES]0[/NUMALIPHATICCARBOCYCLES][NUMHDONORS]1[/NUMHDONORS][NUMROTATABLEBONDS]4[/NUMROTATABLEBONDS][RINGCOUNT]2[/RINGCOUNT][NUMHACCEPTORS]4[/NUMHACCEPTORS][NUMAROMATICRINGS]1[/NUMAROMATICRINGS][NUMAROMATICHETEROCYCLES]0[/NUMAROMATICHETEROCYCLES][NUMSATURATEDCARBOCYCLES]0[/NUMSATURATEDCARBOCYCLES][NUMHETEROATOMS]5[/NUMHETEROATOMS][HEAVYATOMCOUNT]20[/HEAVYATOMCOUNT][NUMSATURATEDHETEROCYCLES]1[/NUMSATURATEDHETEROCYCLES][IUPAC]2-[(2-methoxyphenyl)methyl-methylamino]-1-piperidin-3-ylethanol[/IUPAC][NUMSATURATEDRINGS]1[/NUMSATURATEDRINGS][NOCOUNT]5[/NOCOUNT][START_SMILES]CN(CC1=CC=CC=C1OC)CC(CN2CCCC(C2)O)O[END_SMILES]\n",
      "sas=2.67 sas_score=2.90 qed=0.92 qed_score=0.79 clogp=1.61 clogp_score=0.94 weight=273.16 weight_score=308.21 CN(CC1=CC=CC=C1OC)CC(CN2CCCC(C2)O)O\n",
      "--------\n",
      "</s>[SAS]2.83[/SAS][CLOGP]2.51[/CLOGP][QED]0.74[/QED][WEIGHT]272.07[/WEIGHT][NUMALIPHATICHETEROCYCLES]0[/NUMALIPHATICHETEROCYCLES][NUMALIPHATICCARBOCYCLES]0[/NUMALIPHATICCARBOCYCLES][NUMHDONORS]1[/NUMHDONORS][NUMROTATABLEBONDS]4[/NUMROTATABLEBONDS][FRACTIONCSP3]0.33[/FRACTIONCSP3][RINGCOUNT]2[/RINGCOUNT][NUMAROMATICRINGS]2[/NUMAROMATICRINGS][NUMAROMATICHETEROCYCLES]1[/NUMAROMATICHETEROCYCLES][NUMHACCEPTORS]4[/NUMHACCEPTORS][NUMHETEROATOMS]6[/NUMHETEROATOMS][NUMSATURATEDCARBOCYCLES]0[/NUMSATURATEDCARBOCYCLES][HEAVYATOMCOUNT]18[/HEAVYATOMCOUNT][NUMSATURATEDHETEROCYCLES]0[/NUMSATURATEDHETEROCYCLES][NOCOUNT]4[/NOCOUNT][START_SMILES]CC(C1=CC=C(S1)Cl)NC(=O)C2=CC=NN2C[END_SMILES]\n",
      "sas=2.83 sas_score=2.83 qed=0.74 qed_score=0.93 clogp=2.51 clogp_score=2.63 weight=272.07 weight_score=269.04 CC(C1=CC=C(S1)Cl)NC(=O)C2=CC=NN2C\n",
      "--------\n",
      "</s>[SAS]3.88[/SAS][CLOGP]-1.40[/CLOGP][QED]0.49[/QED][WEIGHT]263.10[/WEIGHT][NUMALIPHATICHETEROCYCLES]1[/NUMALIPHATICHETEROCYCLES][NUMHDONORS]3[/NUMHDONORS][NUMROTATABLEBONDS]5[/NUMROTATABLEBONDS][FRACTIONCSP3]0.88[/FRACTIONCSP3][RINGCOUNT]1[/RINGCOUNT][NUMSATURATEDHETEROCYCLES]1[/NUMSATURATEDHETEROCYCLES][NUMALIPHATICCARBOCYCLES]0[/NUMALIPHATICCARBOCYCLES][NUMAROMATICRINGS]0[/NUMAROMATICRINGS][NUMAROMATICHETEROCYCLES]0[/NUMAROMATICHETEROCYCLES][NUMHETEROATOMS]8[/NUMHETEROATOMS][NOCOUNT]8[/NOCOUNT][NUMHACCEPTORS]6[/NUMHACCEPTORS][NUMSATURATEDCARBOCYCLES]0[/NUMSATURATEDCARBOCYCLES][START_SMILES]C1CN(CCN1CC(=O)NCC(=O)O)CC(=O)O[END_SMILES]\n",
      "sas=3.88 sas_score=1.90 qed=0.49 qed_score=0.50 clogp=-1.40 clogp_score=-2.11 weight=263.10 weight_score=259.12 C1CN(CCN1CC(=O)NCC(=O)O)CC(=O)O\n",
      "--------\n",
      "</s>[SAS]1.84[/SAS][CLOGP]3.45[/CLOGP][QED]0.94[/QED][WEIGHT]281.15[/WEIGHT][NUMALIPHATICHETEROCYCLES]0[/NUMALIPHATICHETEROCYCLES][NUMROTATABLEBONDS]4[/NUMROTATABLEBONDS][NUMHACCEPTORS]2[/NUMHACCEPTORS][NUMHDONORS]1[/NUMHDONORS][FRACTIONCSP3]0.24[/FRACTIONCSP3][RINGCOUNT]2[/RINGCOUNT][NUMALIPHATICCARBOCYCLES]0[/NUMALIPHATICCARBOCYCLES][NUMAROMATICRINGS]2[/NUMAROMATICRINGS][NUMAROMATICHETEROCYCLES]0[/NUMAROMATICHETEROCYCLES][NUMSATURATEDCARBOCYCLES]0[/NUMSATURATEDCARBOCYCLES][NUMSATURATEDHETEROCYCLES]0[/NUMSATURATEDHETEROCYCLES][NUMHETEROATOMS]3[/NUMHETEROATOMS][NOCOUNT]3[/NOCOUNT][START_SMILES]CC1=CC(=C(C=C1)C)NC(=O)CN(C)CC2=CC=CC=C2[END_SMILES]\n",
      "sas=1.84 sas_score=1.61 qed=0.94 qed_score=0.91 clogp=3.45 clogp_score=3.37 weight=281.15 weight_score=282.17 CC1=CC(=C(C=C1)C)NC(=O)CN(C)CC2=CC=CC=C2\n",
      "--------\n",
      "</s>[SAS]4.17[/SAS][CLOGP]1.48[/CLOGP][QED]0.71[/QED][WEIGHT]250.09[/WEIGHT][NUMALIPHATICHETEROCYCLES]1[/NUMALIPHATICHETEROCYCLES][NUMHDONORS]1[/NUMHDONORS][NUMROTATABLEBONDS]2[/NUMROTATABLEBONDS][FRACTIONCSP3]0.50[/FRACTIONCSP3][RINGCOUNT]2[/RINGCOUNT][NUMALIPHATICCARBOCYCLES]0[/NUMALIPHATICCARBOCYCLES][NUMAROMATICRINGS]1[/NUMAROMATICRINGS][NUMAROMATICHETEROCYCLES]1[/NUMAROMATICHETEROCYCLES][NUMHACCEPTORS]5[/NUMHACCEPTORS][NUMHETEROATOMS]6[/NUMHETEROATOMS][NUMSATURATEDCARBOCYCLES]0[/NUMSATURATEDCARBOCYCLES][HEAVYATOMCOUNT]17[/HEAVYATOMCOUNT][NUMSATURATEDHETEROCYCLES]1[/NUMSATURATEDHETEROCYCLES][NOCOUNT]5[/NOCOUNT][START_SMILES]CC1=C(C(=NO1)C)C(=O)N2CC(C2)(C)C(=S)N[END_SMILES]\n",
      "sas=4.17 sas_score=2.83 qed=0.71 qed_score=0.80 clogp=1.48 clogp_score=1.04 weight=250.09 weight_score=253.09 CC1=C(C(=NO1)C)C(=O)N2CC(C2)(C)C(=S)N\n",
      "--------\n",
      "</s>[SAS]1.77[/SAS][CLOGP]2.93[/CLOGP][QED]0.68[/QED][WEIGHT]261.05[/WEIGHT][NUMALIPHATICHETEROCYCLES]0[/NUMALIPHATICHETEROCYCLES][NUMALIPHATICCARBOCYCLES]0[/NUMALIPHATICCARBOCYCLES][NUMHDONORS]1[/NUMHDONORS][NUMROTATABLEBONDS]5[/NUMROTATABLEBONDS][FRACTIONCSP3]0.07[/FRACTIONCSP3][NUMHACCEPTORS]3[/NUMHACCEPTORS][RINGCOUNT]2[/RINGCOUNT][NUMAROMATICRINGS]2[/NUMAROMATICRINGS][NUMAROMATICHETEROCYCLES]0[/NUMAROMATICHETEROCYCLES][NUMSATURATEDCARBOCYCLES]0[/NUMSATURATEDCARBOCYCLES][NUMHETEROATOMS]5[/NUMHETEROATOMS][IUPAC]2-(4-chlorophenyl)-N-(2-methoxy-2-oxoethyl)acetamide[/IUPAC][NOCOUNT]4[/NOCOUNT][START_SMILES]COC(=O)CNC(=O)CC1=CC=C(C=C1)Cl[END_SMILES]\n",
      "sas=1.77 sas_score=1.63 qed=0.68 qed_score=0.81 clogp=2.93 clogp_score=1.17 weight=261.05 weight_score=241.05 COC(=O)CNC(=O)CC1=CC=C(C=C1)Cl\n",
      "--------\n",
      "</s>[SAS]2.90[/SAS][CLOGP]-1.31[/CLOGP][QED]0.52[/QED][WEIGHT]253.12[/WEIGHT][NUMALIPHATICHETEROCYCLES]0[/NUMALIPHATICHETEROCYCLES][NUMALIPHATICCARBOCYCLES]0[/NUMALIPHATICCARBOCYCLES][NUMHDONORS]3[/NUMHDONORS][NUMROTATABLEBONDS]6[/NUMROTATABLEBONDS][FRACTIONCSP3]0.89[/FRACTIONCSP3][RINGCOUNT]0[/RINGCOUNT][NUMHACCEPTORS]5[/NUMHACCEPTORS][NUMAROMATICRINGS]0[/NUMAROMATICRINGS][NUMAROMATICHETEROCYCLES]0[/NUMAROMATICHETEROCYCLES][NUMHETEROATOMS]8[/NUMHETEROATOMS][NUMSATURATEDCARBOCYCLES]0[/NUMSATURATEDCARBOCYCLES][NOCOUNT]8[/NOCOUNT][HEAVYATOMCOUNT]17[/HEAVYATOMCOUNT][NUMSATURATEDHETEROCYCLES]0[/NUMSATURATEDHETEROCYCLES][NUMSATURATEDRINGS]0[/NUMSATURATEDRINGS][IUPAC]2-[[2-(2-amino-2-oxoethyl)-3-hydroxybutanoyl]amino]-3-hydroxypropanoic acid[/IUPAC][NUMALIPHATICRINGS]0[/NUMALIPHATICRINGS][TPSA]138.95[/TPSA][START_SMILES]CC(C(CN)C(=O)NC(CO)C(=O)O)O[END_SMILES]\n",
      "sas=2.90 sas_score=3.33 qed=0.52 qed_score=0.34 clogp=-1.31 clogp_score=-2.50 weight=253.12 weight_score=220.11 CC(C(CN)C(=O)NC(CO)C(=O)O)O\n",
      "--------\n",
      "</s>[SAS]3.66[/SAS][CLOGP]0.70[/CLOGP][QED]0.72[/QED][WEIGHT]263.97[/WEIGHT][NUMALIPHATICHETEROCYCLES]0[/NUMALIPHATICHETEROCYCLES][NUMHDONORS]1[/NUMHDONORS][FRACTIONCSP3]0.67[/FRACTIONCSP3][NUMROTATABLEBONDS]2[/NUMROTATABLEBONDS][RINGCOUNT]1[/RINGCOUNT][NUMALIPHATICCARBOCYCLES]0[/NUMALIPHATICCARBOCYCLES][NUMAROMATICHETEROCYCLES]1[/NUMAROMATICHETEROCYCLES][NUMAROMATICRINGS]1[/NUMAROMATICRINGS][NUMHETEROATOMS]7[/NUMHETEROATOMS][NUMSATURATEDCARBOCYCLES]0[/NUMSATURATEDCARBOCYCLES][NUMHACCEPTORS]5[/NUMHACCEPTORS][TPSA]73.22[/TPSA][NOCOUNT]5[/NOCOUNT][START_SMILES]CC(C)(C)C1=NC(=C(S1)C(=O)O)S(=O)(=O)C[END_SMILES]\n",
      "sas=3.66 sas_score=2.85 qed=0.72 qed_score=0.88 clogp=0.70 clogp_score=1.54 weight=263.97 weight_score=263.03 CC(C)(C)C1=NC(=C(S1)C(=O)O)S(=O)(=O)C\n",
      "--------\n",
      "</s>[SAS]1.92[/SAS][CLOGP]2.65[/CLOGP][QED]0.80[/QED][WEIGHT]276.18[/WEIGHT][NUMALIPHATICHETEROCYCLES]0[/NUMALIPHATICHETEROCYCLES][NUMROTATABLEBONDS]7[/NUMROTATABLEBONDS][NUMHACCEPTORS]3[/NUMHACCEPTORS][NUMALIPHATICCARBOCYCLES]0[/NUMALIPHATICCARBOCYCLES][NUMHDONORS]2[/NUMHDONORS][FRACTIONCSP3]0.56[/FRACTIONCSP3][RINGCOUNT]1[/RINGCOUNT][NUMAROMATICRINGS]1[/NUMAROMATICRINGS][NUMAROMATICHETEROCYCLES]0[/NUMAROMATICHETEROCYCLES][NUMSATURATEDHETEROCYCLES]0[/NUMSATURATEDHETEROCYCLES][NUMHETEROATOMS]3[/NUMHETEROATOMS][NUMSATURATEDCARBOCYCLES]0[/NUMSATURATEDCARBOCYCLES][IUPAC]2-[2-(2-methylpropylamino)ethyl]-N-(2-methylphenyl)acetamide[/IUPAC][NOCOUNT]3[/NOCOUNT][START_SMILES]CC1=CC=CC=C1NC(=O)CCNCCNC(C)C[END_SMILES]\n",
      "sas=1.92 sas_score=1.85 qed=0.80 qed_score=0.63 clogp=2.65 clogp_score=1.91 weight=276.18 weight_score=263.20 CC1=CC=CC=C1NC(=O)CCNCCNC(C)C\n",
      "--------\n",
      "</s>[SAS]2.78[/SAS][CLOGP]2.56[/CLOGP][QED]0.83[/QED][WEIGHT]286.08[/WEIGHT][NUMHDONORS]1[/NUMHDONORS][FRACTIONCSP3]0.38[/FRACTIONCSP3][NUMALIPHATICHETEROCYCLES]0[/NUMALIPHATICHETEROCYCLES][NUMROTATABLEBONDS]5[/NUMROTATABLEBONDS][RINGCOUNT]2[/RINGCOUNT][NUMALIPHATICCARBOCYCLES]0[/NUMALIPHATICCARBOCYCLES][NUMHACCEPTORS]4[/NUMHACCEPTORS][NUMAROMATICRINGS]2[/NUMAROMATICRINGS][NUMAROMATICHETEROCYCLES]1[/NUMAROMATICHETEROCYCLES][NUMSATURATEDCARBOCYCLES]0[/NUMSATURATEDCARBOCYCLES][NUMHETEROATOMS]6[/NUMHETEROATOMS][NUMSATURATEDHETEROCYCLES]0[/NUMSATURATEDHETEROCYCLES][NOCOUNT]5[/NOCOUNT][START_SMILES]CC(C)(C)C(C1=CC=C(C=C1)Cl)NC(=O)COC2=NC=CN=C2[END_SMILES]\n",
      "sas=2.78 sas_score=2.76 qed=0.83 qed_score=0.91 clogp=2.56 clogp_score=3.41 weight=286.08 weight_score=333.12 CC(C)(C)C(C1=CC=C(C=C1)Cl)NC(=O)COC2=NC=CN=C2\n",
      "--------\n",
      "</s>[SAS]2.42[/SAS][CLOGP]3.16[/CLOGP][QED]0.78[/QED][WEIGHT]308.07[/WEIGHT][NUMHDONORS]1[/NUMHDONORS][FRACTIONCSP3]0.13[/FRACTIONCSP3][NUMALIPHATICHETEROCYCLES]0[/NUMALIPHATICHETEROCYCLES][NUMROTATABLEBONDS]4[/NUMROTATABLEBONDS][RINGCOUNT]2[/RINGCOUNT][NUMALIPHATICCARBOCYCLES]0[/NUMALIPHATICCARBOCYCLES][NUMAROMATICRINGS]2[/NUMAROMATICRINGS][NUMAROMATICHETEROCYCLES]0[/NUMAROMATICHETEROCYCLES][NUMHACCEPTORS]3[/NUMHACCEPTORS][NUMHETEROATOMS]6[/NUMHETEROATOMS][NUMSATURATEDCARBOCYCLES]0[/NUMSATURATEDCARBOCYCLES][NUMSATURATEDHETEROCYCLES]0[/NUMSATURATEDHETEROCYCLES][NOCOUNT]4[/NOCOUNT][START_SMILES]CC1=CC(=C(C=C1)C)NC(=O)C(=O)C(=O)C2=CC=C(C=C2)Cl[END_SMILES]\n",
      "sas=2.42 sas_score=2.01 qed=0.78 qed_score=0.53 clogp=3.16 clogp_score=3.35 weight=308.07 weight_score=315.07 CC1=CC(=C(C=C1)C)NC(=O)C(=O)C(=O)C2=CC=C(C=C2)Cl\n",
      "--------\n",
      "</s>[SAS]2.80[/SAS][CLOGP]2.12[/CLOGP][QED]0.83[/QED][WEIGHT]253.12[/WEIGHT][NUMALIPHATICHETEROCYCLES]0[/NUMALIPHATICHETEROCYCLES][NUMHDONORS]1[/NUMHDONORS][NUMROTATABLEBONDS]4[/NUMROTATABLEBONDS][FRACTIONCSP3]0.38[/FRACTIONCSP3][RINGCOUNT]2[/RINGCOUNT][NUMALIPHATICCARBOCYCLES]0[/NUMALIPHATICCARBOCYCLES][NUMAROMATICRINGS]2[/NUMAROMATICRINGS][NUMAROMATICHETEROCYCLES]1[/NUMAROMATICHETEROCYCLES][NUMHACCEPTORS]4[/NUMHACCEPTORS][NUMSATURATEDCARBOCYCLES]0[/NUMSATURATEDCARBOCYCLES][NUMHETEROATOMS]5[/NUMHETEROATOMS][HEAVYATOMCOUNT]18[/HEAVYATOMCOUNT][NUMSATURATEDHETEROCYCLES]0[/NUMSATURATEDHETEROCYCLES][NOCOUNT]5[/NOCOUNT][NUMSATURATEDRINGS]0[/NUMSATURATEDRINGS][IUPAC]2-[(2-methyl-1,3-benzoxazol-5-yl)amino]-2-methylpropanoic acid[/IUPAC][NUMAROMATICCARBOCYCLES]1[/NUMAROMATICCARBOCYCLES][NUMALIPHATICRINGS]0[/NUMALIPHATICRINGS][TPSA]75.36[/TPSA][START_SMILES]CC1=NC2=C(O1)C=CC(=C2)NC(C)(C)C(=O)O[END_SMILES]\n",
      "sas=2.80 sas_score=2.46 qed=0.83 qed_score=0.85 clogp=2.12 clogp_score=2.41 weight=253.12 weight_score=234.10 CC1=NC2=C(O1)C=CC(=C2)NC(C)(C)C(=O)O\n",
      "--------\n",
      "</s>[SAS]2.79[/SAS][CLOGP]2.00[/CLOGP][QED]0.91[/QED][WEIGHT]268.13[/WEIGHT][NUMALIPHATICHETEROCYCLES]0[/NUMALIPHATICHETEROCYCLES][NUMALIPHATICCARBOCYCLES]0[/NUMALIPHATICCARBOCYCLES][NUMROTATABLEBONDS]4[/NUMROTATABLEBONDS][NUMHACCEPTORS]3[/NUMHACCEPTORS][NUMHDONORS]1[/NUMHDONORS][FRACTIONCSP3]0.43[/FRACTIONCSP3][RINGCOUNT]2[/RINGCOUNT][NUMAROMATICRINGS]2[/NUMAROMATICRINGS][NUMAROMATICHETEROCYCLES]1[/NUMAROMATICHETEROCYCLES][NUMSATURATEDCARBOCYCLES]0[/NUMSATURATEDCARBOCYCLES][NUMHETEROATOMS]4[/NUMHETEROATOMS][NUMSATURATEDHETEROCYCLES]0[/NUMSATURATEDHETEROCYCLES][NOCOUNT]4[/NOCOUNT][START_SMILES]CC(C)(C)C1=NN(C(=C1)C(=O)NCC2=CC=CC=C2)C[END_SMILES]\n",
      "sas=2.79 sas_score=1.95 qed=0.91 qed_score=0.93 clogp=2.00 clogp_score=2.65 weight=268.13 weight_score=271.17 CC(C)(C)C1=NN(C(=C1)C(=O)NCC2=CC=CC=C2)C\n",
      "--------\n",
      "</s>[SAS]1.99[/SAS][CLOGP]2.44[/CLOGP][QED]0.78[/QED][WEIGHT]323.13[/WEIGHT][NUMALIPHATICHETEROCYCLES]0[/NUMALIPHATICHETEROCYCLES][NUMROTATABLEBONDS]6[/NUMROTATABLEBONDS][NUMALIPHATICCARBOCYCLES]0[/NUMALIPHATICCARBOCYCLES][FRACTIONCSP3]0.22[/FRACTIONCSP3][NUMHACCEPTORS]4[/NUMHACCEPTORS][NUMHDONORS]2[/NUMHDONORS][RINGCOUNT]2[/RINGCOUNT][NUMAROMATICRINGS]2[/NUMAROMATICRINGS][NUMAROMATICHETEROCYCLES]0[/NUMAROMATICHETEROCYCLES][NUMSATURATEDCARBOCYCLES]0[/NUMSATURATEDCARBOCYCLES][NUMSATURATEDHETEROCYCLES]0[/NUMSATURATEDHETEROCYCLES][NUMHETEROATOMS]6[/NUMHETEROATOMS][IUPAC]N-[2-(2-methoxyanilino)-2-oxoethyl]-2-methyl-3-nitrobenzamide[/IUPAC][NOCOUNT]6[/NOCOUNT][SIMILAR]CC1=C(C=C(C=C1)C(=O)NCC(=O)NC2=CC=CC=C2OC)[N+](=O)[O-] 1.0[/SIMILAR][SIMILAR]CC1=C(C=C(C=C1)C(=O)NCC(=O)NC2=CC=CC=C2OC)[N+](=O)[O-] 1.0[/SIMILAR][SIMILAR]CC1=C(C=C(C=C1)C(=O)NCC(=O)NC2=CC=CC=C2OC)[N+](=O)[O-] 1.0[/SIMILAR][SIMILAR]CC1=C(C=C(C=C1)C(=O)NCC(=O)NC2=CC=CC=C2OC)[N+](=O)[O-] 1.0[/SIMILAR][SIMILAR]CC1=C(C=C(C=C1\n"
     ]
    },
    {
     "name": "stderr",
     "output_type": "stream",
     "text": [
      "[18:06:51] SMILES Parse Error: syntax error while parsing: [/SAS][CLOGP]2.44[/CLOGP][QED]0.78[/QED][WEIGHT]323.13[/WEIGHT][NUMALIPHATICHETEROCYCLES]0[/NUMALIPHATICHETEROCYCLES][NUMROTATABLEBONDS]6[/NUMROTATABLEBONDS][NUMALIPHATICCARBOCYCLES]0[/NUMALIPHATICCARBOCYCLES][FRACTIONCSP3]0.22[/FRACTIONCSP3][NUMHACCEPTORS]4[/NUMHACCEPTORS][NUMHDONORS]2[/NUMHDONORS][RINGCOUNT]2[/RINGCOUNT][NUMAROMATICRINGS]2[/NUMAROMATICRINGS][NUMAROMATICHETEROCYCLES]0[/NUMAROMATICHETEROCYCLES][NUMSATURATEDCARBOCYCLES]0[/NUMSATURATEDCARBOCYCLES][NUMSATURATEDHETEROCYCLES]0[/NUMSATURATEDHETEROCYCLES][NUMHETEROATOMS]6[/NUMHETEROATOMS][IUPAC]N-[2-(2-methoxyanilino)-2-oxoethyl]-2-methyl-3-nitrobenzamide[/IUPAC][NOCOUNT]6[/NOCOUNT][SIMILAR]CC1=C(C=C(C=C1)C(=O)NCC(=O)NC2=CC=CC=C2OC)[N+](=O)[O-]\n",
      "[18:06:51] SMILES Parse Error: Failed parsing SMILES '[/SAS][CLOGP]2.44[/CLOGP][QED]0.78[/QED][WEIGHT]323.13[/WEIGHT][NUMALIPHATICHETEROCYCLES]0[/NUMALIPHATICHETEROCYCLES][NUMROTATABLEBONDS]6[/NUMROTATABLEBONDS][NUMALIPHATICCARBOCYCLES]0[/NUMALIPHATICCARBOCYCLES][FRACTIONCSP3]0.22[/FRACTIONCSP3][NUMHACCEPTORS]4[/NUMHACCEPTORS][NUMHDONORS]2[/NUMHDONORS][RINGCOUNT]2[/RINGCOUNT][NUMAROMATICRINGS]2[/NUMAROMATICRINGS][NUMAROMATICHETEROCYCLES]0[/NUMAROMATICHETEROCYCLES][NUMSATURATEDCARBOCYCLES]0[/NUMSATURATEDCARBOCYCLES][NUMSATURATEDHETEROCYCLES]0[/NUMSATURATEDHETEROCYCLES][NUMHETEROATOMS]6[/NUMHETEROATOMS][IUPAC]N-[2-(2-methoxyanilino)-2-oxoethyl]-2-methyl-3-nitrobenzamide[/IUPAC][NOCOUNT]6[/NOCOUNT][SIMILAR]CC1=C(C=C(C=C1)C(=O)NCC(=O)NC2=CC=CC=C2OC)[N+](=O)[O-]' for input: '[/SAS][CLOGP]2.44[/CLOGP][QED]0.78[/QED][WEIGHT]323.13[/WEIGHT][NUMALIPHATICHETEROCYCLES]0[/NUMALIPHATICHETEROCYCLES][NUMROTATABLEBONDS]6[/NUMROTATABLEBONDS][NUMALIPHATICCARBOCYCLES]0[/NUMALIPHATICCARBOCYCLES][FRACTIONC... truncated"
     ]
    },
    {
     "name": "stdout",
     "output_type": "stream",
     "text": [
      "--------\n",
      "</s>[SAS]2.30[/SAS][CLOGP]0.65[/CLOGP][QED]0.81[/QED][WEIGHT]294.08[/WEIGHT][NUMALIPHATICHETEROCYCLES]0[/NUMALIPHATICHETEROCYCLES][NUMROTATABLEBONDS]5[/NUMROTATABLEBONDS][NUMHACCEPTORS]5[/NUMHACCEPTORS][NUMHDONORS]2[/NUMHDONORS][RINGCOUNT]2[/RINGCOUNT][FRACTIONCSP3]0.23[/FRACTIONCSP3][NUMALIPHATICCARBOCYCLES]0[/NUMALIPHATICCARBOCYCLES][NUMAROMATICRINGS]2[/NUMAROMATICRINGS][NUMAROMATICHETEROCYCLES]1[/NUMAROMATICHETEROCYCLES][NUMSATURATEDCARBOCYCLES]0[/NUMSATURATEDCARBOCYCLES][NUMSATURATEDHETEROCYCLES]0[/NUMSATURATEDHETEROCYCLES][NUMHETEROATOMS]8[/NUMHETEROATOMS][NOCOUNT]7[/NOCOUNT][START_SMILES]CC1=C(C=C(C=C1)S(=O)(=O)NCC2=NC=NN2)C(=O)O[END_SMILES]\n",
      "sas=2.30 sas_score=2.28 qed=0.81 qed_score=0.73 clogp=0.65 clogp_score=0.29 weight=294.08 weight_score=296.06 CC1=C(C=C(C=C1)S(=O)(=O)NCC2=NC=NN2)C(=O)O\n",
      "--------\n",
      "</s>[SAS]2.07[/SAS][CLOGP]1.17[/CLOGP][QED]0.81[/QED][WEIGHT]264.07[/WEIGHT][NUMHDONORS]2[/NUMHDONORS][FRACTIONCSP3]0.25[/FRACTIONCSP3][NUMALIPHATICHETEROCYCLES]0[/NUMALIPHATICHETEROCYCLES][NUMALIPHATICCARBOCYCLES]0[/NUMALIPHATICCARBOCYCLES][NUMROTATABLEBONDS]4[/NUMROTATABLEBONDS][NUMHACCEPTORS]4[/NUMHACCEPTORS][RINGCOUNT]1[/RINGCOUNT][NUMAROMATICRINGS]1[/NUMAROMATICRINGS][NUMAROMATICHETEROCYCLES]0[/NUMAROMATICHETEROCYCLES][NUMSATURATEDCARBOCYCLES]0[/NUMSATURATEDCARBOCYCLES][NUMHETEROATOMS]7[/NUMHETEROATOMS][NUMSATURATEDHETEROCYCLES]0[/NUMSATURATEDHETEROCYCLES][NOCOUNT]6[/NOCOUNT][START_SMILES]CC(C)(C)OC(=O)NC(=O)COC1=CC=CC=C1N[END_SMILES]\n",
      "sas=2.07 sas_score=1.95 qed=0.81 qed_score=0.81 clogp=1.17 clogp_score=1.70 weight=264.07 weight_score=266.13 CC(C)(C)OC(=O)NC(=O)COC1=CC=CC=C1N\n",
      "--------\n",
      "</s>[SAS]2.06[/SAS][CLOGP]0.86[/CLOGP][QED]0.79[/QED][WEIGHT]250.05[/WEIGHT][NUMALIPHATICHETEROCYCLES]0[/NUMALIPHATICHETEROCYCLES][NUMALIPHATICCARBOCYCLES]0[/NUMALIPHATICCARBOCYCLES][NUMROTATABLEBONDS]4[/NUMROTATABLEBONDS][FRACTIONCSP3]0.27[/FRACTIONCSP3][NUMHACCEPTORS]4[/NUMHACCEPTORS][NUMHDONORS]2[/NUMHDONORS][RINGCOUNT]1[/RINGCOUNT][NUMAROMATICRINGS]1[/NUMAROMATICRINGS][NUMAROMATICHETEROCYCLES]0[/NUMAROMATICHETEROCYCLES][NUMHETEROATOMS]7[/NUMHETEROATOMS][NUMSATURATEDCARBOCYCLES]0[/NUMSATURATEDCARBOCYCLES][NUMSATURATEDHETEROCYCLES]0[/NUMSATURATEDHETEROCYCLES][NOCOUNT]6[/NOCOUNT][START_SMILES]CC(C)(C(=O)O)NC(=O)COC1=CC=C(C=C1)Cl[END_SMILES]\n",
      "sas=2.06 sas_score=1.88 qed=0.79 qed_score=0.85 clogp=0.86 clogp_score=1.70 weight=250.05 weight_score=271.06 CC(C)(C(=O)O)NC(=O)COC1=CC=C(C=C1)Cl\n",
      "--------\n",
      "</s>[SAS]2.60[/SAS][CLOGP]1.61[/CLOGP][QED]0.86[/QED][WEIGHT]309.08[/WEIGHT][NUMALIPHATICHETEROCYCLES]0[/NUMALIPHATICHETEROCYCLES][NUMHDONORS]2[/NUMHDONORS][NUMROTATABLEBONDS]5[/NUMROTATABLEBONDS][FRACTIONCSP3]0.31[/FRACTIONCSP3][RINGCOUNT]2[/RINGCOUNT][NUMALIPHATICCARBOCYCLES]0[/NUMALIPHATICCARBOCYCLES][NUMAROMATICRINGS]2[/NUMAROMATICRINGS][NUMAROMATICHETEROCYCLES]1[/NUMAROMATICHETEROCYCLES][NUMHACCEPTORS]5[/NUMHACCEPTORS][NUMSATURATEDHETEROCYCLES]0[/NUMSATURATEDHETEROCYCLES][NUMHETEROATOMS]8[/NUMHETEROATOMS][NUMSATURATEDCARBOCYCLES]0[/NUMSATURATEDCARBOCYCLES][NOCOUNT]7[/NOCOUNT][START_SMILES]CC(C)(C)OC(=O)NCC1=NC(=NO1)C2=CC(=CC=C2)S[END_SMILES]\n",
      "sas=2.60 sas_score=2.46 qed=0.86 qed_score=0.85 clogp=1.61 clogp_score=3.05 weight=309.08 weight_score=307.10 CC(C)(C)OC(=O)NCC1=NC(=NO1)C2=CC(=CC=C2)S\n",
      "--------\n",
      "</s>[SAS]2.26[/SAS][CLOGP]0.26[/CLOGP][QED]0.84[/QED][WEIGHT]290.04[/WEIGHT][NUMALIPHATICHETEROCYCLES]0[/NUMALIPHATICHETEROCYCLES][NUMROTATABLEBONDS]4[/NUMROTATABLEBONDS][NUMALIPHATICCARBOCYCLES]0[/NUMALIPHATICCARBOCYCLES][NUMHACCEPTORS]5[/NUMHACCEPTORS][NUMHDONORS]2[/NUMHDONORS][FRACTIONCSP3]0.27[/FRACTIONCSP3][RINGCOUNT]2[/RINGCOUNT][NUMAROMATICRINGS]2[/NUMAROMATICRINGS][NUMAROMATICHETEROCYCLES]1[/NUMAROMATICHETEROCYCLES][NUMSATURATEDCARBOCYCLES]0[/NUMSATURATEDCARBOCYCLES][NUMHETEROATOMS]8[/NUMHETEROATOMS][NUMSATURATEDHETEROCYCLES]0[/NUMSATURATEDHETEROCYCLES][NOCOUNT]7[/NOCOUNT][START_SMILES]CC1=C(C=C(C=C1)S(=O)(=O)NCC2=NC=NN2)C(=O)O[END_SMILES]\n",
      "sas=2.26 sas_score=2.28 qed=0.84 qed_score=0.73 clogp=0.26 clogp_score=0.29 weight=290.04 weight_score=296.06 CC1=C(C=C(C=C1)S(=O)(=O)NCC2=NC=NN2)C(=O)O\n",
      "--------\n",
      "</s>[SAS]2.25[/SAS][CLOGP]3.74[/CLOGP][QED]0.75[/QED][WEIGHT]334.09[/WEIGHT][NUMALIPHATICHETEROCYCLES]0[/NUMALIPHATICHETEROCYCLES][NUMALIPHATICCARBOCYCLES]0[/NUMALIPHATICCARBOCYCLES][NUMHDONORS]1[/NUMHDONORS][NUMROTATABLEBONDS]5[/NUMROTATABLEBONDS][FRACTIONCSP3]0.18[/FRACTIONCSP3][RINGCOUNT]2[/RINGCOUNT][NUMAROMATICRINGS]2[/NUMAROMATICRINGS][NUMAROMATICHETEROCYCLES]0[/NUMAROMATICHETEROCYCLES][NUMHACCEPTORS]3[/NUMHACCEPTORS][NUMSATURATEDCARBOCYCLES]0[/NUMSATURATEDCARBOCYCLES][NUMHETEROATOMS]6[/NUMHETEROATOMS][IUPAC]N-[(Z)-(2-chlorophenyl)methylideneamino]-2-(2-methylpropanoylamino)benzamide[/IUPAC][NOCOUNT]5[/NOCOUNT][TPSA]70.56[/TPSA][START_SMILES]CC(C)C(=O)NC1=CC=CC=C1C(=O)N/N=C\\C2=CC=CC=C2Cl[END_SMILES]\n",
      "sas=2.25 sas_score=1.94 qed=0.75 qed_score=0.64 clogp=3.74 clogp_score=3.70 weight=334.09 weight_score=343.11 CC(C)C(=O)NC1=CC=CC=C1C(=O)N/N=C\\C2=CC=CC=C2Cl\n",
      "--------\n",
      "</s>[SAS]2.72[/SAS][CLOGP]1.68[/CLOGP][QED]0.80[/QED][WEIGHT]286.12[/WEIGHT][NUMHDONORS]2[/NUMHDONORS][FRACTIONCSP3]0.43[/FRACTIONCSP3][NUMALIPHATICHETEROCYCLES]0[/NUMALIPHATICHETEROCYCLES][NUMROTATABLEBONDS]6[/NUMROTATABLEBONDS][RINGCOUNT]1[/RINGCOUNT][NUMALIPHATICCARBOCYCLES]0[/NUMALIPHATICCARBOCYCLES][NUMHACCEPTORS]4[/NUMHACCEPTORS][NUMAROMATICRINGS]1[/NUMAROMATICRINGS][NUMAROMATICHETEROCYCLES]0[/NUMAROMATICHETEROCYCLES][NUMSATURATEDCARBOCYCLES]0[/NUMSATURATEDCARBOCYCLES][NUMHETEROATOMS]6[/NUMHETEROATOMS][HEAVYATOMCOUNT]20[/HEAVYATOMCOUNT][NUMSATURATEDHETEROCYCLES]0[/NUMSATURATEDHETEROCYCLES][NOCOUNT]6[/NOCOUNT][NUMSATURATEDRINGS]0[/NUMSATURATEDRINGS][IUPAC]2-[(2-acetamido-3-methylbutanoyl)amino]-3-phenylpropanoic acid[/IUPAC][NUMALIPHATICRINGS]0[/NUMALIPHATICRINGS][NUMAROMATICCARBOCYCLES]1[/NUMAROMATICCARBOCYCLES][TPSA]95.50[/TPSA][START_SMILES]CC(C)C(C(=O)NC(CC1=CC=CC=C1)C(=O)O)NC(=O)C[END_SMILES]\n",
      "sas=2.72 sas_score=2.47 qed=0.80 qed_score=0.70 clogp=1.68 clogp_score=0.96 weight=286.12 weight_score=306.16 CC(C)C(C(=O)NC(CC1=CC=CC=C1)C(=O)O)NC(=O)C\n",
      "--------\n",
      "</s>[SAS]2.01[/SAS][CLOGP]2.40[/CLOGP][QED]0.72[/QED][WEIGHT]272.06[/WEIGHT][NUMALIPHATICHETEROCYCLES]0[/NUMALIPHATICHETEROCYCLES][NUMHDONORS]1[/NUMHDONORS][NUMROTATABLEBONDS]5[/NUMROTATABLEBONDS][FRACTIONCSP3]0.23[/FRACTIONCSP3][RINGCOUNT]1[/RINGCOUNT][NUMALIPHATICCARBOCYCLES]0[/NUMALIPHATICCARBOCYCLES][NUMAROMATICRINGS]1[/NUMAROMATICRINGS][NUMAROMATICHETEROCYCLES]0[/NUMAROMATICHETEROCYCLES][NUMHACCEPTORS]3[/NUMHACCEPTORS][NUMSATURATEDCARBOCYCLES]0[/NUMSATURATEDCARBOCYCLES][NUMHETEROATOMS]6[/NUMHETEROATOMS][IUPAC]2-[(4-chlorophenyl)sulfonyl-methylamino]-N-methylacetamide[/IUPAC][NOCOUNT]5[/NOCOUNT][NUMAROMATICCARBOCYCLES]1[/NUMAROMATICCARBOCYCLES][TPSA]66.48[/TPSA][START_SMILES]CNC(=O)CN(C)S(=O)(=O)C1=CC=C(C=C1)Cl[END_SMILES]\n",
      "sas=2.01 sas_score=1.85 qed=0.72 qed_score=0.88 clogp=2.40 clogp_score=0.71 weight=272.06 weight_score=276.03 CNC(=O)CN(C)S(=O)(=O)C1=CC=C(C=C1)Cl\n",
      "--------\n",
      "</s>[SAS]2.83[/SAS][CLOGP]2.65[/CLOGP][QED]0.87[/QED][WEIGHT]274.10[/WEIGHT][NUMALIPHATICHETEROCYCLES]0[/NUMALIPHATICHETEROCYCLES][NUMHDONORS]1[/NUMHDONORS][NUMROTATABLEBONDS]4[/NUMROTATABLEBONDS][FRACTIONCSP3]0.38[/FRACTIONCSP3][RINGCOUNT]2[/RINGCOUNT][NUMALIPHATICCARBOCYCLES]0[/NUMALIPHATICCARBOCYCLES][NUMHACCEPTORS]3[/NUMHACCEPTORS][NUMAROMATICRINGS]2[/NUMAROMATICRINGS][NUMAROMATICHETEROCYCLES]1[/NUMAROMATICHETEROCYCLES][NUMSATURATEDCARBOCYCLES]0[/NUMSATURATEDCARBOCYCLES][NUMHETEROATOMS]5[/NUMHETEROATOMS][NUMSATURATEDHETEROCYCLES]0[/NUMSATURATEDHETEROCYCLES][NOCOUNT]4[/NOCOUNT][IUPAC]2-[(2-fluorophenyl)methyl]-5-methyl-1-propylpyrazole-3-carboxylic acid[/IUPAC][HEAVYATOMCOUNT]20[/HEAVYATOMCOUNT][NUMSATURATEDRINGS]0[/NUMSATURATEDRINGS][START_SMILES]CCCN1C(=C(C(=N1)C)CC2=CC=CC=C2F)C(=O)O[END_SMILES]\n",
      "sas=2.83 sas_score=2.25 qed=0.87 qed_score=0.91 clogp=2.65 clogp_score=3.03 weight=274.10 weight_score=276.13 CCCN1C(=C(C(=N1)C)CC2=CC=CC=C2F)C(=O)O\n",
      "--------\n",
      "</s>[SAS]2.23[/SAS][CLOGP]1.33[/CLOGP][QED]0.83[/QED][WEIGHT]283.00[/WEIGHT][NUMHDONORS]1[/NUMHDONORS][FRACTIONCSP3]0.11[/FRACTIONCSP3][NUMALIPHATICHETEROCYCLES]0[/NUMALIPHATICHETEROCYCLES][NUMROTATABLEBONDS]3[/NUMROTATABLEBONDS][RINGCOUNT]1[/RINGCOUNT][NUMALIPHATICCARBOCYCLES]0[/NUMALIPHATICCARBOCYCLES][NUMHACCEPTORS]3[/NUMHACCEPTORS][NUMAROMATICRINGS]1[/NUMAROMATICRINGS][NUMAROMATICHETEROCYCLES]0[/NUMAROMATICHETEROCYCLES][NUMHETEROATOMS]7[/NUMHETEROATOMS][NUMSATURATEDCARBOCYCLES]0[/NUMSATURATEDCARBOCYCLES][NUMSATURATEDHETEROCYCLES]0[/NUMSATURATEDHETEROCYCLES][NOCOUNT]4[/NOCOUNT][START_SMILES]C1=CC(=C(C=C1C(=O)O)Cl)S(=O)(=O)N(C=O)Cl[END_SMILES]\n",
      "sas=2.23 sas_score=2.71 qed=0.83 qed_score=0.67 clogp=1.33 clogp_score=1.34 weight=283.00 weight_score=296.93 C1=CC(=C(C=C1C(=O)O)Cl)S(=O)(=O)N(C=O)Cl\n",
      "--------\n",
      "</s>[SAS]3.64[/SAS][CLOGP]-1.33[/CLOGP][QED]0.63[/QED][WEIGHT]281.11[/WEIGHT][NUMALIPHATICHETEROCYCLES]1[/NUMALIPHATICHETEROCYCLES][NUMHDONORS]3[/NUMHDONORS][NUMROTATABLEBONDS]5[/NUMROTATABLEBONDS][FRACTIONCSP3]0.89[/FRACTIONCSP3][RINGCOUNT]1[/RINGCOUNT][NUMALIPHATICCARBOCYCLES]0[/NUMALIPHATICCARBOCYCLES][NUMAROMATICRINGS]0[/NUMAROMATICRINGS][NUMAROMATICHETEROCYCLES]0[/NUMAROMATICHETEROCYCLES][NUMHETEROATOMS]10[/NUMHETEROATOMS][NOCOUNT]9[/NOCOUNT][NUMHACCEPTORS]6[/NUMHACCEPTORS][NUMSATURATEDCARBOCYCLES]0[/NUMSATURATEDCARBOCYCLES][HEAVYATOMCOUNT]19[/HEAVYATOMCOUNT][NUMSATURATEDHETEROCYCLES]1[/NUMSATURATEDHETEROCYCLES][IUPAC]2-[(2-amino-3-hydroxypropanoyl)amino]-3-(1,1-dioxothiolan-3-yl)propanoic acid[/IUPAC][NUMALIPHATICRINGS]1[/NUMALIPHATICRINGS][NUMAROMATICCARBOCYCLES]0[/NUMAROMATICCARBOCYCLES][NUMSATURATEDRINGS]1[/NUMSATURATEDRINGS][TPSA]155.86[/TPSA][START_SMILES]C1CS(=O)(=O)CC1C(C(=O)O)NC(=O)C(CO)N[END_SMILES]\n",
      "sas=3.64 sas_score=3.59 qed=0.63 qed_score=0.43 clogp=-1.33 clogp_score=-2.69 weight=281.11 weight_score=280.07 C1CS(=O)(=O)CC1C(C(=O)O)NC(=O)C(CO)N\n",
      "--------\n",
      "</s>[SAS]2.94[/SAS][CLOGP]2.07[/CLOGP][QED]0.85[/QED][WEIGHT]252.10[/WEIGHT][NUMHDONORS]1[/NUMHDONORS][FRACTIONCSP3]0.50[/FRACTIONCSP3][NUMALIPHATICHETEROCYCLES]0[/NUMALIPHATICHETEROCYCLES][NUMALIPHATICCARBOCYCLES]0[/NUMALIPHATICCARBOCYCLES][NUMROTATABLEBONDS]5[/NUMROTATABLEBONDS][RINGCOUNT]1[/RINGCOUNT][NUMHACCEPTORS]3[/NUMHACCEPTORS][NUMAROMATICRINGS]1[/NUMAROMATICRINGS][NUMAROMATICHETEROCYCLES]0[/NUMAROMATICHETEROCYCLES][NUMHETEROATOMS]5[/NUMHETEROATOMS][NUMSATURATEDCARBOCYCLES]0[/NUMSATURATEDCARBOCYCLES][NUMSATURATEDHETEROCYCLES]0[/NUMSATURATEDHETEROCYCLES][IUPAC]2-[(2-chlorophenyl)methyl-methylamino]-2-methylpropane-1-sulfonamide[/IUPAC][SYNONYM]AKOS011285559[/SYNONYM][NOCOUNT]4[/NOCOUNT][HEAVYATOMCOUNT]16[/HEAVYATOMCOUNT][NUMSATURATEDRINGS]0[/NUMSATURATEDRINGS][NHOHCOUNT]2[/NHOHCOUNT][START_SMILES]CC(C)(CS(=O)(=O)N)N(C)CC1=CC=CC=C1Cl[END_SMILES]\n",
      "sas=2.94 sas_score=2.55 qed=0.85 qed_score=0.90 clogp=2.07 clogp_score=1.84 weight=252.10 weight_score=290.09 CC(C)(CS(=O)(=O)N)N(C)CC1=CC=CC=C1Cl\n",
      "--------\n",
      "</s>[SAS]2.14[/SAS][CLOGP]1.94[/CLOGP][QED]0.71[/QED][WEIGHT]253.13[/WEIGHT][NUMHDONORS]1[/NUMHDONORS][FRACTIONCSP3]0.33[/FRACTIONCSP3][NUMALIPHATICHETEROCYCLES]0[/NUMALIPHATICHETEROCYCLES][NUMROTATABLEBONDS]5[/NUMROTATABLEBONDS][RINGCOUNT]1[/RINGCOUNT][NUMALIPHATICCARBOCYCLES]0[/NUMALIPHATICCARBOCYCLES][NUMAROMATICRINGS]1[/NUMAROMATICRINGS][NUMAROMATICHETEROCYCLES]0[/NUMAROMATICHETEROCYCLES][NUMHACCEPTORS]3[/NUMHACCEPTORS][NUMSATURATEDCARBOCYCLES]0[/NUMSATURATEDCARBOCYCLES][NUMHETEROATOMS]4[/NUMHETEROATOMS][NOCOUNT]4[/NOCOUNT][IUPAC]2-[(2-methoxyphenyl)methyl-methylamino]propanoic acid[/IUPAC][NUMAROMATICCARBOCYCLES]1[/NUMAROMATICCARBOCYCLES][TPSA]49.77[/TPSA][START_SMILES]CC(C(=O)O)N(C)CC1=CC=CC=C1OC[END_SMILES]\n",
      "sas=2.14 sas_score=2.26 qed=0.71 qed_score=0.82 clogp=1.94 clogp_score=1.60 weight=253.13 weight_score=223.12 CC(C(=O)O)N(C)CC1=CC=CC=C1OC\n",
      "--------\n",
      "</s>[SAS]2.83[/SAS][CLOGP]1.72[/CLOGP][QED]0.85[/QED][WEIGHT]296.15[/WEIGHT][NUMHDONORS]2[/NUMHDONORS][FRACTIONCSP3]0.50[/FRACTIONCSP3][NUMALIPHATICHETEROCYCLES]0[/NUMALIPHATICHETEROCYCLES][NUMROTATABLEBONDS]6[/NUMROTATABLEBONDS][RINGCOUNT]2[/RINGCOUNT][NUMALIPHATICCARBOCYCLES]1[/NUMALIPHATICCARBOCYCLES][NUMAROMATICRINGS]1[/NUMAROMATICRINGS][NUMAROMATICHETEROCYCLES]0[/NUMAROMATICHETEROCYCLES][NUMHACCEPTORS]3[/NUMHACCEPTORS][NUMSATURATEDCARBOCYCLES]1[/NUMSATURATEDCARBOCYCLES][NUMHETEROATOMS]5[/NUMHETEROATOMS][HEAVYATOMCOUNT]21[/HEAVYATOMCOUNT][NUMSATURATEDHETEROCYCLES]0[/NUMSATURATEDHETEROCYCLES][NOCOUNT]5[/NOCOUNT][NUMSATURATEDRINGS]1[/NUMSATURATEDRINGS][IUPAC]N-[(1S)-1-(3-methoxyphenyl)ethyl]-2-(2-oxocyclopentyl)acetamide[/IUPAC][NUMALIPHATICRINGS]1[/NUMALIPHATICRINGS][NUMAROMATICCARBOCYCLES]1[/NUMAROMATICCARBOCYCLES][TPSA]72.40[/TPSA][START_SMILES]C[C@H](C1=CC(=CC=C1)OC)NC(=O)CC2CCCC2=O[END_SMILES]\n",
      "sas=2.83 sas_score=2.79 qed=0.85 qed_score=0.90 clogp=1.72 clogp_score=2.63 weight=296.15 weight_score=275.15 C[C@H](C1=CC(=CC=C1)OC)NC(=O)CC2CCCC2=O\n",
      "--------\n",
      "</s>[SAS]2.29[/SAS][CLOGP]2.52[/CLOGP][QED]0.83[/QED][WEIGHT]260.08[/WEIGHT][NUMHDONORS]1[/NUMHDONORS][FRACTIONCSP3]0.14[/FRACTIONCSP3][NUMALIPHATICHETEROCYCLES]0[/NUMALIPHATICHETEROCYCLES][NUMROTATABLEBONDS]3[/NUMROTATABLEBONDS][RINGCOUNT]2[/RINGCOUNT][NUMALIPHATICCARBOCYCLES]0[/NUMALIPHATICCARBOCYCLES][NUMHACCEPTORS]3[/NUMHACCEPTORS][NUMAROMATICRINGS]2[/NUMAROMATICRINGS][NUMAROMATICHETEROCYCLES]1[/NUMAROMATICHETEROCYCLES][NUMSATURATEDCARBOCYCLES]0[/NUMSATURATEDCARBOCYCLES][NUMHETEROATOMS]5[/NUMHETEROATOMS][IUPAC]2-(2-fluorophenyl)-N-methyl-1,3-thiazole-4-carboxamide[/IUPAC][NOCOUNT]3[/NOCOUNT][NUMAROMATICCARBOCYCLES]1[/NUMAROMATICCARBOCYCLES][START_SMILES]CNC(=O)C1=CSC(=N1)C2=CC=CC=C2F[END_SMILES]\n",
      "sas=2.29 sas_score=1.95 qed=0.83 qed_score=0.87 clogp=2.52 clogp_score=2.31 weight=260.08 weight_score=236.04 CNC(=O)C1=CSC(=N1)C2=CC=CC=C2F\n",
      "--------\n",
      "</s>[SAS]1.99[/SAS][CLOGP]2.25[/CLOGP][QED]0.84[/QED][WEIGHT]254.11[/WEIGHT][NUMHDONORS]2[/NUMHDONORS][FRACTIONCSP3]0.13[/FRACTIONCSP3][NUMALIPHATICHETEROCYCLES]0[/NUMALIPHATICHETEROCYCLES][NUMALIPHATICCARBOCYCLES]0[/NUMALIPHATICCARBOCYCLES][NUMROTATABLEBONDS]4[/NUMROTATABLEBONDS][NUMHACCEPTORS]3[/NUMHACCEPTORS][RINGCOUNT]2[/RINGCOUNT][NUMAROMATICRINGS]2[/NUMAROMATICRINGS][NUMAROMATICHETEROCYCLES]0[/NUMAROMATICHETEROCYCLES][NUMSATURATEDCARBOCYCLES]0[/NUMSATURATEDCARBOCYCLES][NUMSATURATEDHETEROCYCLES]0[/NUMSATURATEDHETEROCYCLES][NUMHETEROATOMS]4[/NUMHETEROATOMS][NOCOUNT]4[/NOCOUNT][START_SMILES]CC1=CC(=C(C=C1)C(=O)NCC2=CC=CC=C2C(=O)O)C[END_SMILES]\n",
      "sas=1.99 sas_score=1.70 qed=0.84 qed_score=0.91 clogp=2.25 clogp_score=2.93 weight=254.11 weight_score=283.12 CC1=CC(=C(C=C1)C(=O)NCC2=CC=CC=C2C(=O)O)C\n",
      "--------\n",
      "</s>[SAS]2.03[/SAS][CLOGP]2.89[/CLOGP][QED]0.83[/QED][WEIGHT]258.06[/WEIGHT][NUMALIPHATICHETEROCYCLES]0[/NUMALIPHATICHETEROCYCLES][NUMHDONORS]1[/NUMHDONORS][NUMROTATABLEBONDS]3[/NUMROTATABLEBONDS][FRACTIONCSP3]0.08[/FRACTIONCSP3][NUMHACCEPTORS]3[/NUMHACCEPTORS][RINGCOUNT]2[/RINGCOUNT][NUMALIPHATICCARBOCYCLES]0[/NUMALIPHATICCARBOCYCLES][NUMAROMATICRINGS]2[/NUMAROMATICRINGS][NUMAROMATICHETEROCYCLES]1[/NUMAROMATICHETEROCYCLES][NUMSATURATEDCARBOCYCLES]0[/NUMSATURATEDCARBOCYCLES][NUMHETEROATOMS]5[/NUMHETEROATOMS][NUMSATURATEDHETEROCYCLES]0[/NUMSATURATEDHETEROCYCLES][NOCOUNT]4[/NOCOUNT][START_SMILES]C1=CC(=CC=C1C(=O)N)OC2=NC=C(C=C2)Cl[END_SMILES]\n",
      "sas=2.03 sas_score=1.78 qed=0.83 qed_score=0.91 clogp=2.89 clogp_score=2.63 weight=258.06 weight_score=248.03 C1=CC(=CC=C1C(=O)N)OC2=NC=C(C=C2)Cl\n",
      "--------\n",
      "</s>[SAS]2.09[/SAS][CLOGP]2.89[/CLOGP][QED]0.83[/QED][WEIGHT]258.06[/WEIGHT][NUMALIPHATICHETEROCYCLES]0[/NUMALIPHATICHETEROCYCLES][NUMHDONORS]1[/NUMHDONORS][NUMROTATABLEBONDS]3[/NUMROTATABLEBONDS][FRACTIONCSP3]0.08[/FRACTIONCSP3][RINGCOUNT]2[/RINGCOUNT][NUMALIPHATICCARBOCYCLES]0[/NUMALIPHATICCARBOCYCLES][NUMAROMATICRINGS]2[/NUMAROMATICRINGS][NUMAROMATICHETEROCYCLES]1[/NUMAROMATICHETEROCYCLES][NUMHACCEPTORS]3[/NUMHACCEPTORS][NUMSATURATEDCARBOCYCLES]0[/NUMSATURATEDCARBOCYCLES][NUMHETEROATOMS]5[/NUMHETEROATOMS][IUPAC]N-(2-chlorophenyl)-2-(furan-2-yl)-2-oxoacetamide[/IUPAC][NOCOUNT]4[/NOCOUNT][HEAVYATOMCOUNT]18[/HEAVYATOMCOUNT][NUMAROMATICCARBOCYCLES]1[/NUMAROMATICCARBOCYCLES][NUMSATURATEDRINGS]0[/NUMSATURATEDRINGS][NHOHCOUNT]1[/NHOHCOUNT][NUMALIPHATICRINGS]0[/NUMALIPHATICRINGS][TPSA]59.31[/TPSA][START_SMILES]C1=CC=C(C(=C1)NC(=O)C(=O)C2=CC=CO2)Cl[END_SMILES]\n",
      "sas=2.09 sas_score=1.92 qed=0.83 qed_score=0.67 clogp=2.89 clogp_score=2.75 weight=258.06 weight_score=249.02 C1=CC=C(C(=C1)NC(=O)C(=O)C2=CC=CO2)Cl\n",
      "--------\n",
      "</s>[SAS]2.29[/SAS][CLOGP]3.26[/CLOGP][QED]0.85[/QED][WEIGHT]292.08[/WEIGHT][NUMHDONORS]1[/NUMHDONORS][FRACTIONCSP3]0.13[/FRACTIONCSP3][NUMALIPHATICHETEROCYCLES]0[/NUMALIPHATICHETEROCYCLES][NUMROTATABLEBONDS]4[/NUMROTATABLEBONDS][RINGCOUNT]2[/RINGCOUNT][NUMALIPHATICCARBOCYCLES]0[/NUMALIPHATICCARBOCYCLES][NUMHACCEPTORS]3[/NUMHACCEPTORS][NUMAROMATICRINGS]2[/NUMAROMATICRINGS][NUMAROMATICHETEROCYCLES]0[/NUMAROMATICHETEROCYCLES][NUMSATURATEDCARBOCYCLES]0[/NUMSATURATEDCARBOCYCLES][NUMHETEROATOMS]5[/NUMHETEROATOMS][NUMSATURATEDHETEROCYCLES]0[/NUMSATURATEDHETEROCYCLES][START_SMILES]CC1=CC(=C(C=C1)C)NC(=O)C(=O)C2=CC=C(C=C2)Cl[END_SMILES]\n",
      "sas=2.29 sas_score=1.72 qed=0.85 qed_score=0.69 clogp=3.26 clogp_score=3.78 weight=292.08 weight_score=287.07 CC1=CC(=C(C=C1)C)NC(=O)C(=O)C2=CC=C(C=C2)Cl\n",
      "--------\n",
      "</s>[SAS]2.50[/SAS][CLOGP]1.77[/CLOGP][QED]0.84[/QED][WEIGHT]343.11[/WEIGHT][NUMALIPHATICHETEROCYCLES]1[/NUMALIPHATICHETEROCYCLES][NUMALIPHATICCARBOCYCLES]0[/NUMALIPHATICCARBOCYCLES][NUMHDONORS]1[/NUMHDONORS][NUMROTATABLEBONDS]5[/NUMROTATABLEBONDS][FRACTIONCSP3]0.47[/FRACTIONCSP3][NUMHACCEPTORS]5[/NUMHACCEPTORS][RINGCOUNT]2[/RINGCOUNT][NUMAROMATICRINGS]1[/NUMAROMATICRINGS][NUMAROMATICHETEROCYCLES]0[/NUMAROMATICHETEROCYCLES][NUMSATURATEDCARBOCYCLES]0[/NUMSATURATEDCARBOCYCLES][NUMHETEROATOMS]8[/NUMHETEROATOMS][NUMSATURATEDHETEROCYCLES]1[/NUMSATURATEDHETEROCYCLES][NOCOUNT]7[/NOCOUNT][IUPAC]N-[(2S)-1-(2,5-dimethoxyphenyl)-1-oxopropan-2-yl]-1,1-dioxothiolane-3-carboxamide[/IUPAC][HEAVYATOMCOUNT]23[/HEAVYATOMCOUNT][START_SMILES]C[C@@H](C(=O)C1=C(C=CC(=C1)OC)OC)NC(=O)C2CCS(=O)(=O)C2[END_SMILES]\n",
      "sas=2.50 sas_score=3.02 qed=0.84 qed_score=0.76 clogp=1.77 clogp_score=0.83 weight=343.11 weight_score=355.11 C[C@@H](C(=O)C1=C(C=CC(=C1)OC)OC)NC(=O)C2CCS(=O)(=O)C2\n",
      "--------\n",
      "</s>[SAS]2.56[/SAS][CLOGP]2.82[/CLOGP][QED]0.85[/QED][WEIGHT]292.17[/WEIGHT][NUMHDONORS]1[/NUMHDONORS][FRACTIONCSP3]0.56[/FRACTIONCSP3][NUMALIPHATICHETEROCYCLES]0[/NUMALIPHATICHETEROCYCLES][NUMALIPHATICCARBOCYCLES]0[/NUMALIPHATICCARBOCYCLES][NUMROTATABLEBONDS]6[/NUMROTATABLEBONDS][RINGCOUNT]1[/RINGCOUNT][NUMAROMATICRINGS]1[/NUMAROMATICRINGS][NUMAROMATICHETEROCYCLES]0[/NUMAROMATICHETEROCYCLES][NUMHACCEPTORS]3[/NUMHACCEPTORS][NUMSATURATEDCARBOCYCLES]0[/NUMSATURATEDCARBOCYCLES][NUMHETEROATOMS]4[/NUMHETEROATOMS][HEAVYATOMCOUNT]21[/HEAVYATOMCOUNT][NUMSATURATEDHETEROCYCLES]0[/NUMSATURATEDHETEROCYCLES][NOCOUNT]4[/NOCOUNT][NUMSATURATEDRINGS]0[/NUMSATURATEDRINGS][IUPAC]2-[(2-methylpropan-2-yl)oxycarbonylamino]-3-phenylpentanoic acid[/IUPAC][NUMALIPHATICRINGS]0[/NUMALIPHATICRINGS][NUMAROMATICCARBOCYCLES]1[/NUMAROMATICCARBOCYCLES][TPSA]66.40[/TPSA][START_SMILES]CCC(C(C1=CC=CC=C1)C(=O)O)NC(=O)OC(C)(C)C[END_SMILES]\n",
      "sas=2.56 sas_score=2.88 qed=0.85 qed_score=0.87 clogp=2.82 clogp_score=3.16 weight=292.17 weight_score=293.16 CCC(C(C1=CC=CC=C1)C(=O)O)NC(=O)OC(C)(C)C\n",
      "--------\n",
      "</s>[SAS]1.88[/SAS][CLOGP]3.88[/CLOGP][QED]0.72[/QED][WEIGHT]268.07[/WEIGHT][NUMALIPHATICHETEROCYCLES]0[/NUMALIPHATICHETEROCYCLES][NUMALIPHATICCARBOCYCLES]0[/NUMALIPHATICCARBOCYCLES][NUMHDONORS]1[/NUMHDONORS][FRACTIONCSP3]0.07[/FRACTIONCSP3][NUMROTATABLEBONDS]3[/NUMROTATABLEBONDS][NUMHACCEPTORS]2[/NUMHACCEPTORS][RINGCOUNT]2[/RINGCOUNT][NUMAROMATICRINGS]2[/NUMAROMATICRINGS][NUMAROMATICHETEROCYCLES]0[/NUMAROMATICHETEROCYCLES][NUMSATURATEDCARBOCYCLES]0[/NUMSATURATEDCARBOCYCLES][NUMHETEROATOMS]3[/NUMHETEROATOMS][IUPAC](E)-3-(4-chlorophenyl)-N-phenylprop-2-enamide[/IUPAC][NOCOUNT]2[/NOCOUNT][START_SMILES]C1=CC=C(C=C1)NC(=O)/C=C/C2=CC=C(C=C2)Cl[END_SMILES]\n",
      "sas=1.88 sas_score=1.53 qed=0.72 qed_score=0.83 clogp=3.88 clogp_score=3.99 weight=268.07 weight_score=257.06 C1=CC=C(C=C1)NC(=O)/C=C/C2=CC=C(C=C2)Cl\n"
     ]
    }
   ],
   "source": [
    "targets1, targets2, targets3, targets4, sas_scores, clogp_scores, qed_scores, weight_scores, sac_invalids, mols = [], [], [], [], [],[], [], [], [], []\n",
    "for i in range(len(moses)):\n",
    "          if i ==100:\n",
    "                    break\n",
    "          prompts = []\n",
    "          mol, split, sas, qed, clogp, weight = moses.iloc[i,:]\n",
    "          # print(sas, qed, clogp, weight)\n",
    "          prompt = f\"</s>[SAS]{sas:.2f}[/SAS][CLOGP]{clogp:.2f}[/CLOGP][QED]{qed:.2f}[/QED][WEIGHT]{weight:.2f}[/WEIGHT]\"\n",
    "          prompts.append(prompt)\n",
    "          if len(propmts) == 10:\n",
    "\n",
    "                    inputs = tokenizer(prompts, return_tensors=\"pt\").input_ids\n",
    "                    inputs = inputs.to(device)\n",
    "                    context_length = inputs.shape[1]\n",
    "          out = model.generate(inputs, max_new_tokens=300, do_sample=False,\n",
    "                              #   top_p = 1.0, \n",
    "                              #   num_return_sequences=6,\n",
    "                              #  num_beams=6, length_penalty=-5, renormalize_logits=True,\n",
    "                              #   repetition_penalty=1.5, diversity_penalty=1., num_beam_groups=3, \n",
    "                              eos_token_id=20, return_dict_in_generate=True, output_scores=True)\n",
    "\n",
    "          for seq in out.sequences:\n",
    "                    decoded = tokenizer.decode(seq)\n",
    "                    print('--------')\n",
    "                    try:\n",
    "                              left = \"[START_SMILES]\"\n",
    "                              right = \"[END_SMILES]\"\n",
    "                              captured_text = decoded[decoded.find(\"[START_SMILES]\")+len(\"[START_SMILES]\"):decoded.find(\"[END_SMILES]\")]\n",
    "                              print(decoded)\n",
    "                              # captured_text = re.match(\"^.*?(?=\\\\[END_SMILES])\", tokenizer2.decode(out.sequences[0, context_length:])).group()\n",
    "                              mol_source = Chem.MolFromSmiles(captured_text)\n",
    "                              # score = Chem.Descriptors.HeavyAtomCount(mol_source)\n",
    "                              sas_score = sascorer.calculateScore(mol_source) \n",
    "                              qed_score = round(QED.qed(mol_source), 3)\n",
    "                              clogp_score = round(Descriptors.MolLogP(mol_source), 3)\n",
    "                              weight_score = round(Descriptors.ExactMolWt(mol_source), 3)\n",
    "                              # print(f'{target1=:.2f}', f'{target2=:.2f}', f'{sas_score=:.2f}', f'{clogp_score=:.2f}', captured_text)\n",
    "                              print(f'{sas=:.2f}', f'{sas_score=:.2f}', f'{qed=:.2f}', f'{qed_score=:.2f}', f'{clogp=:.2f}', f'{clogp_score=:.2f}', f'{weight=:.2f}', f'{weight_score=:.2f}', captured_text)\n",
    "                              targets1.append(sas)\n",
    "                              targets2.append(clogp)\n",
    "                              targets3.append(qed)\n",
    "                              targets4.append(weight)\n",
    "                              # sac_targets2.append(target2)\n",
    "                              sas_scores.append(sas_score)\n",
    "                              clogp_scores.append(clogp_score)\n",
    "                              qed_scores.append(qed_score)\n",
    "                              weight_scores.append(weight_score)\n",
    "                              # sac_scores2.append(clogp_score)\n",
    "                              mols.append(captured_text)\n",
    "                              break\n",
    "                    except:\n",
    "                              continue\n",
    "                              # sac_invalids.append((target1, target2))\n",
    "        # print(f'{score:.2f}', decoded)\n",
    "        # break"
   ]
  },
  {
   "cell_type": "code",
   "execution_count": 154,
   "metadata": {},
   "outputs": [
    {
     "data": {
      "image/png": "[encoded data removed]",
      "text/plain": [
       "<Figure size 640x480 with 1 Axes>"
      ]
     },
     "metadata": {},
     "output_type": "display_data"
    }
   ],
   "source": [
    "plt.hist(sas_scores, range=(0,8), bins=50, alpha=.5, density=True);\n",
    "plt.hist(targets1, range=(0,8), bins=50, alpha=.5, density=True);"
   ]
  },
  {
   "cell_type": "code",
   "execution_count": 155,
   "metadata": {},
   "outputs": [
    {
     "data": {
      "image/png": "[encoded data removed]",
      "text/plain": [
       "<Figure size 640x480 with 1 Axes>"
      ]
     },
     "metadata": {},
     "output_type": "display_data"
    }
   ],
   "source": [
    "plt.hist(clogp_scores, range=(-2,10), bins=50, alpha=.5, density=True);\n",
    "plt.hist(targets2, range=(-2,10), bins=50, alpha=.5, density=True);"
   ]
  },
  {
   "cell_type": "code",
   "execution_count": 156,
   "metadata": {},
   "outputs": [
    {
     "data": {
      "image/png": "[encoded data removed]",
      "text/plain": [
       "<Figure size 640x480 with 1 Axes>"
      ]
     },
     "metadata": {},
     "output_type": "display_data"
    }
   ],
   "source": [
    "plt.hist(qed_scores, range=(0,1), bins=50, alpha=.5, density=True);\n",
    "plt.hist(targets3, range=(0,1), bins=50, alpha=.5, density=True);"
   ]
  },
  {
   "cell_type": "code",
   "execution_count": 157,
   "metadata": {},
   "outputs": [
    {
     "data": {
      "image/png": "[encoded data removed]",
      "text/plain": [
       "<Figure size 640x480 with 1 Axes>"
      ]
     },
     "metadata": {},
     "output_type": "display_data"
    }
   ],
   "source": [
    "plt.hist(weight_scores, range=(100,500), bins=100, alpha=.5, density=True);\n",
    "plt.hist(targets4, range=(100,500), bins=100, alpha=.5, density=True);"
   ]
  },
  {
   "cell_type": "code",
   "execution_count": 160,
   "metadata": {},
   "outputs": [
    {
     "data": {
      "text/plain": [
       "0"
      ]
     },
     "execution_count": 160,
     "metadata": {},
     "output_type": "execute_result"
    }
   ],
   "source": [
    "(np.array(targets4) < 250).sum()"
   ]
  },
  {
   "cell_type": "code",
   "execution_count": null,
   "metadata": {},
   "outputs": [],
   "source": []
  },
  {
   "cell_type": "code",
   "execution_count": null,
   "metadata": {},
   "outputs": [],
   "source": []
  },
  {
   "cell_type": "code",
   "execution_count": 108,
   "metadata": {},
   "outputs": [
    {
     "data": {
      "text/plain": [
       "<matplotlib.collections.PathCollection at 0x7f6c2df75090>"
      ]
     },
     "execution_count": 108,
     "metadata": {},
     "output_type": "execute_result"
    },
    {
     "data": {
      "image/png": "[encoded data removed]",
      "text/plain": [
       "<Figure size 640x480 with 1 Axes>"
      ]
     },
     "metadata": {},
     "output_type": "display_data"
    }
   ],
   "source": [
    "plt.scatter(sac_targets1, sac_scores)"
   ]
  },
  {
   "cell_type": "code",
   "execution_count": null,
   "metadata": {},
   "outputs": [],
   "source": []
  },
  {
   "cell_type": "code",
   "execution_count": null,
   "metadata": {},
   "outputs": [],
   "source": []
  },
  {
   "cell_type": "code",
   "execution_count": 114,
   "metadata": {},
   "outputs": [
    {
     "data": {
      "text/plain": [
       "[<matplotlib.lines.Line2D at 0x7f6c2c52ffa0>,\n",
       " <matplotlib.lines.Line2D at 0x7f6c2c52ffd0>]"
      ]
     },
     "execution_count": 114,
     "metadata": {},
     "output_type": "execute_result"
    },
    {
     "data": {
      "image/png": "[encoded data removed]",
      "text/plain": [
       "<Figure size 640x480 with 1 Axes>"
      ]
     },
     "metadata": {},
     "output_type": "display_data"
    }
   ],
   "source": [
    "plt.plot(sorted(zip(sac_targets1, sac_scores)))"
   ]
  },
  {
   "cell_type": "code",
   "execution_count": 85,
   "metadata": {},
   "outputs": [
    {
     "ename": "ValueError",
     "evalue": "not enough values to unpack (expected 5, got 3)",
     "output_type": "error",
     "traceback": [
      "\u001b[0;31m---------------------------------------------------------------------------\u001b[0m",
      "\u001b[0;31mValueError\u001b[0m                                Traceback (most recent call last)",
      "Cell \u001b[0;32mIn[85], line 1\u001b[0m\n\u001b[0;32m----> 1\u001b[0m \u001b[38;5;28;01mfor\u001b[39;00m _, sas, qed, clogp, weight \u001b[38;5;129;01min\u001b[39;00m moses\u001b[38;5;241m.\u001b[39miloc[\u001b[38;5;241m1\u001b[39m:\u001b[38;5;241m10\u001b[39m,[\u001b[38;5;241m2\u001b[39m,\u001b[38;5;241m3\u001b[39m,\u001b[38;5;241m4\u001b[39m,\u001b[38;5;241m5\u001b[39m]]:\n\u001b[1;32m      2\u001b[0m           \u001b[38;5;66;03m# mol, split, sas, qed, clogp, weight = sample\u001b[39;00m\n\u001b[1;32m      3\u001b[0m           \u001b[38;5;28mprint\u001b[39m(sas, qed, clogp, weight)\n",
      "\u001b[0;31mValueError\u001b[0m: not enough values to unpack (expected 5, got 3)"
     ]
    }
   ],
   "source": [
    "for _, sas, qed, clogp, weight in moses.iloc[1:10,[2,3,4,5]]:\n",
    "          # mol, split, sas, qed, clogp, weight = sample\n",
    "          print(sas, qed, clogp, weight)"
   ]
  },
  {
   "cell_type": "code",
   "execution_count": 100,
   "metadata": {},
   "outputs": [
    {
     "name": "stdout",
     "output_type": "stream",
     "text": [
      "0.897 1.681\n"
     ]
    }
   ],
   "source": [
    "\n",
    "for i in range(len(moses)):\n",
    "          a,v=moses.iloc[i,3:5]\n",
    "          print(a,v)\n",
    "          break"
   ]
  },
  {
   "cell_type": "code",
   "execution_count": null,
   "metadata": {},
   "outputs": [],
   "source": []
  }
 ],
 "metadata": {
  "kernelspec": {
   "display_name": "chemlactica",
   "language": "python",
   "name": "python3"
  },
  "language_info": {
   "codemirror_mode": {
    "name": "ipython",
    "version": 3
   },
   "file_extension": ".py",
   "mimetype": "text/x-python",
   "name": "python",
   "nbconvert_exporter": "python",
   "pygments_lexer": "ipython3",
   "version": "3.10.13"
  }
 },
 "nbformat": 4,
 "nbformat_minor": 2
}
